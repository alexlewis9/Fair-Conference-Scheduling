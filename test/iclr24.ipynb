{
 "cells": [
  {
   "metadata": {},
   "cell_type": "code",
   "outputs": [],
   "execution_count": null,
   "source": "",
   "id": "af4322118e299e8f"
  },
  {
   "metadata": {
    "ExecuteTime": {
     "end_time": "2025-05-30T19:04:17.734203Z",
     "start_time": "2025-05-30T19:04:17.659432Z"
    }
   },
   "cell_type": "code",
   "source": [
    "from src import DATA_DIR, Graph,greedy_cohesive_clustering\n",
    "from src.eval.main import evaluate_cluster\n",
    "import os\n",
    "\n",
    "from src.utils.io import load_json\n",
    "\n",
    "emb_path = os.path.join(DATA_DIR, 'emb', 'ICLR', '2024', '20250530_1457', 'emb.json')\n",
    "emb = load_json(emb_path)\n",
    "\n",
    "graph = Graph(emb, 32)\n",
    "clustering = greedy_cohesive_clustering(graph, 32)\n",
    "stat = evaluate_cluster(graph, clustering)\n",
    "print(f'Fair Clustering stats: \\n {stat}')"
   ],
   "id": "1d901d7155032fa2",
   "outputs": [
    {
     "name": "stdout",
     "output_type": "stream",
     "text": [
      "Fair Clustering stats: \n",
      " {'k-means': np.float64(26.10718341533405), 'k-medoids': np.float64(52.85117492679664), 'avg_compactness': np.float64(0.866046220226472), 'avg_diameter': np.float64(0.9125222051013557), 'worst_avg_spread': np.float64(1.0885516517012837), 'max_diameter': np.float64(1.1011959362082822)}\n"
     ]
    }
   ],
   "execution_count": 7
  },
  {
   "metadata": {},
   "cell_type": "code",
   "outputs": [],
   "execution_count": null,
   "source": [
    "import json\n",
    "import os\n",
    "\n",
    "from networkx.algorithms.bipartite.cluster import clustering\n",
    "\n",
    "from src import DATA_DIR, generate_embeddings, Node, Graph, greedy_cohesive_clustering\n",
    "from src.data_processing.load_cluster import load_cluster_from_data\n",
    "from src.eval.main import evaluate_cluster\n",
    "\n",
    "year = 2024\n",
    "\n",
    "# process embeddings\n",
    "# generate new\n",
    "\n",
    "# input_path = os.path.join(DATA_DIR, 'unified_text', 'ICLR_old', f'ICLR_{year}.json')\n",
    "# output_path = os.path.join(DATA_DIR, 'emb', 'ICLR_old')\n",
    "# model = 'text-embedding-3-large'\n",
    "# inclusion = ['abstract', 'title', 'authors']\n",
    "# embeddings = generate_embeddings(input_path, output_path, model, include=inclusion)\n",
    "\n",
    "# load from local\n",
    "emb_path = os.path.join(DATA_DIR, 'emb', 'ICLR_old', f'ICLR_{year}', '20250528_1601.json')\n",
    "with open(emb_path, 'r') as f:\n",
    "    file = json.load(f)\n",
    "embeddings = file['emb']\n",
    "\n",
    "graph = Graph(embeddings, 32)\n",
    "clustering = greedy_cohesive_clustering(graph, 32)\n",
    "stat = evaluate_cluster(graph, clustering)\n",
    "print(f'Fair Clustering stats: \\n {stat}')\n"
   ],
   "id": "31dfed56be556ea6"
  },
  {
   "metadata": {
    "ExecuteTime": {
     "end_time": "2025-05-30T19:04:58.496160Z",
     "start_time": "2025-05-30T19:04:58.456867Z"
    }
   },
   "cell_type": "code",
   "source": [
    "# compare with original clustering\n",
    "data_path = os.path.join(DATA_DIR, 'unified_text', 'ICLR', f'ICLR_{year}.json')\n",
    "clustering_og = load_cluster_from_data(data_path)\n",
    "stat = evaluate_cluster(graph, clustering_og)\n",
    "print(f'OG Clustering stat \\n: {stat}')"
   ],
   "id": "4c73cd77282e564",
   "outputs": [
    {
     "name": "stdout",
     "output_type": "stream",
     "text": [
      "OG Clustering stat \n",
      ": {'k-means': np.float64(28.016180482982733), 'k-medoids': np.float64(53.83638139907812), 'avg_compactness': np.float64(1.0205386661438696), 'avg_diameter': np.float64(1.0527816055410963), 'worst_avg_spread': np.float64(1.105140124275881), 'max_diameter': np.float64(1.1320582438447415)}\n"
     ]
    }
   ],
   "execution_count": 8
  },
  {
   "metadata": {
    "ExecuteTime": {
     "end_time": "2025-05-28T19:13:13.877916Z",
     "start_time": "2025-05-28T19:13:13.746996Z"
    }
   },
   "cell_type": "code",
   "source": [
    "import os\n",
    "from src.data_processing.paper_info import get_paper_info\n",
    "from src import DATA_DIR\n",
    "input_path = os.path.join(DATA_DIR, 'unified_text', 'ICLR_old', f'ICLR_2024.json')\n",
    "ids = ['P15CHILQlg', 'NSVtmmzeRB', 'Ouj6p4ca60']\n",
    "\n",
    "papers = [get_paper_info(paper, input_path) for paper in ids]\n",
    "print([f'title: {paper[\"title\"]}, authors: {paper[\"authors\"]}, abstract: {paper[\"abstract\"]}' for paper in papers])"
   ],
   "id": "b1b74748e8915650",
   "outputs": [
    {
     "name": "stdout",
     "output_type": "stream",
     "text": [
      "[\"title: Learning Energy Decompositions for Partial Inference in GFlowNets, authors: ['Hyosoon Jang', 'Minsu Kim', 'Sungsoo Ahn'], abstract:  This paper studies generative flow networks (GFlowNets) to sample objects from the Boltzmann energy distribution via a sequence of actions. In particular, we focus on improving GFlowNet with partial inference: training flow functions with the evaluation of the intermediate states or transitions. To this end, the recently developed forward-looking GFlowNet reparameterizes the flow functions based on evaluating the energy of intermediate states. However, such an evaluation of intermediate energies may (i) be too expensive or impossible to evaluate and (ii) even provide misleading training signals under large energy fluctuations along the sequence of actions. To resolve this issue, we propose learning energy decompositions for GFlowNets (LED-GFN). Our main idea is to (i) decompose the energy of an object into learnable potential functions defined on state transitions and (ii) reparameterize the flow functions using the potential functions. In particular, to produce informative local credits, we propose to regularize the potential to change smoothly over the sequence of actions. It is also noteworthy that training GFlowNet with our learned potential can preserve the optimal policy. We empirically verify the superiority of LED-GFN in five problems including the generation of unstructured and maximum independent sets, molecular graphs, and RNA sequences.\", \"title: Unified Generative Modeling of 3D Molecules with Bayesian Flow Networks, authors: ['Yuxuan Song', 'Jingjing Gong', 'Hao Zhou', 'Mingyue Zheng', 'Jingjing Liu', 'Wei-Ying Ma'], abstract:  Advanced generative model (\\\\textit{e.g.}, diffusion model) derived from simplified continuity assumptions of data distribution, though showing promising progress, has been difficult to apply directly to geometry generation applications due to the \\\\textit{multi-modality} and \\\\textit{noise-sensitive} nature of molecule geometry. This work introduces Geometric Bayesian Flow Networks (GeoBFN), which naturally fits molecule geometry by modeling diverse modalities in the differentiable parameter space of distributions. GeoBFN maintains the SE-(3) invariant density modeling property by incorporating equivariant inter-dependency modeling on parameters of distributions and unifying the probabilistic modeling of different modalities. Through optimized training and sampling techniques, we demonstrate that GeoBFN achieves state-of-the-art performance on multiple 3D molecule generation benchmarks in terms of generation quality (90.87\\\\% molecule stability in QM9 and 85.6\\\\% atom stability in GEOM-DRUG\\\\footnote{The scores are reported at 1k sampling steps for fair comparison, and our scores could be further improved if sampling sufficiently longer steps.}). GeoBFN can also conduct sampling with any number of steps to reach an optimal trade-off between efficiency and quality (\\\\textit{e.g.}, 20$\\\\times$ speedup without sacrificing performance).\", \"title: Amortizing intractable inference in large language models, authors: ['Edward Hu', 'Moksh Jain', 'Eric Elmoznino', 'Younesse Kaddar', 'Guillaume Lajoie', 'Yoshua Bengio', 'Nikolay Malkin'], abstract:  Autoregressive large language models (LLMs) compress knowledge from their training data through next-token conditional distributions. This limits tractable querying of this knowledge to start-to-end autoregressive sampling. However, many tasks of interest---including sequence continuation, infilling, and other forms of constrained generation---involve sampling from intractable posterior distributions. We address this limitation by using amortized Bayesian inference to sample from these intractable posteriors. Such amortization is algorithmically achieved by fine-tuning LLMs via diversity-seeking reinforcement learning algorithms: generative flow networks (GFlowNets). We empirically demonstrate that this distribution-matching paradigm of LLM fine-tuning can serve as an effective alternative to maximum-likelihood training and reward-maximizing policy optimization. As an important application, we interpret chain-of-thought reasoning as a latent variable modeling problem and demonstrate that our approach enables data-efficient adaptation of LLMs to tasks that require multi-step rationalization and tool use.\"]\n"
     ]
    }
   ],
   "execution_count": 3
  },
  {
   "metadata": {
    "ExecuteTime": {
     "end_time": "2025-05-28T20:02:43.105089Z",
     "start_time": "2025-05-28T20:02:43.086371Z"
    }
   },
   "cell_type": "code",
   "source": [
    "clustering = [['WNkW0cOwiz', 'Zsfiqpft6K', '84n3UwkH7b'], ['bNt7oajl2a', '3f5PALef5B', 'KUNzEQMWU7'], ['P15CHILQlg', 'Ouj6p4ca60', 'NSVtmmzeRB'], ['LzPWWPAdY4', '6PmJoRfdaK', 'w4abltTZ2f'], ['VtmBAGCN7o', '9JQtrumvg8', 'H3UayAQWoE'], ['jNR6s6OSBT', 'sFyTZEqmUY', 'c5pwL0Soay'], ['Ad87VjRqUw', 'UyNXMqnN3c', 'sllU8vvsFF'], ['hnrB5YHoYu', 'hTEGyKf0dZ', 'jr03SfWsBS'], ['pzElnMrgSD', '9Cu8MRmhq2', 'ANvmVS2Yr0'], ['HhfcNgQn6p', 'HE9eUQlAvo', 'IYxDy2jDFL'], ['aN4Jf6Cx69', 'ekeyCgeRfC', 'PdaPky8MUn'], ['1vDArHJ68h', 'LjivA1SLZ6', 'agPpmEgf8C'], ['WbWtOYIzIK', 'hSyW5go0v8', 'aIok3ZD9to'], ['tUtGjQEDd4', 'bTMMNT7IdW', 'g7ohDlTITL'], ['oO6FsMyDBt', 'HSKaGOi7Ar', 'IGzaH538fz'], ['C61sk5LsK6', 'Fk5IzauJ7F', 'uNrFpDPMyo'], ['h922Qhkmx1', '4Ay23yeuz0', 'nHESwXvxWK'], ['VTF8yNQM66', 'KS8mIvetg2', 'oTRwljRgiv'], ['7VPTUWkiDQ', '5Ca9sSzuDp', 'pOoKI3ouv1'], ['EanCFCwAjM', 'mE52zURNGc', 'Yen1lGns2o'], ['WNzy9bRDvG', 'd8w0pmvXbZ', 'FVhmnvqnsI'], ['AhizIPytk4', 'jKTUlxo5zy', 'tqh1zdXIra'], ['zMPHKOmQNb', 'BV1PHbTJzd', 'gU58d5QeGv'], ['1oijHJBRsT', '7Ttk3RzDeu', 'o2IEmeLL9r'], ['TpD2aG1h0D', 'xuY33XhEGR', 'L0r0GphlIL'], ['0BqyZSWfzo', 'T7YV5UZKBc', 'cc8h3I3V4E'], ['ze7DOLi394', '2dnO3LLiJ1', 'yV6fD7LYkF'], ['v7ZPwoHU1j', 'dLrhRIMVmB', 'gFR4QwK53h'], ['9WD9KwssyT', 'osoWxY8q2E'], [], [], []]\n",
    "\n",
    "total = 0\n",
    "for lst in clustering:\n",
    "    total += len(lst)\n",
    "total"
   ],
   "id": "adad8f658a308f8e",
   "outputs": [
    {
     "data": {
      "text/plain": [
       "86"
      ]
     },
     "execution_count": 2,
     "metadata": {},
     "output_type": "execute_result"
    }
   ],
   "execution_count": 2
  },
  {
   "metadata": {},
   "cell_type": "code",
   "outputs": [],
   "execution_count": null,
   "source": "",
   "id": "2770c74518b58937"
  }
 ],
 "metadata": {
  "kernelspec": {
   "name": "python3",
   "language": "python",
   "display_name": "Python 3 (ipykernel)"
  }
 },
 "nbformat": 4,
 "nbformat_minor": 5
}
