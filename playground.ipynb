{
 "cells": [
  {
   "metadata": {
    "ExecuteTime": {
     "end_time": "2025-06-11T14:33:03.242377Z",
     "start_time": "2025-06-11T14:32:57.209563Z"
    }
   },
   "cell_type": "code",
   "source": [
    "output_eval = './result/ICLR/2024/20250611_0012/eval.csv'\n",
    "dir = './result/ICLR/2024/20250611_0012/'\n",
    "from src.eval.plot.plot import plot\n",
    "plot(output_eval, dir, filename='metrics3.jpg')"
   ],
   "id": "ff8036d2dec5b131",
   "outputs": [
    {
     "name": "stderr",
     "output_type": "stream",
     "text": [
      "C:\\Users\\tiend\\PycharmProjects\\Fair-Conference-Scheduling\\.venv\\Lib\\site-packages\\tqdm\\auto.py:21: TqdmWarning: IProgress not found. Please update jupyter and ipywidgets. See https://ipywidgets.readthedocs.io/en/stable/user_install.html\n",
      "  from .autonotebook import tqdm as notebook_tqdm\n"
     ]
    }
   ],
   "execution_count": 1
  },
  {
   "metadata": {
    "ExecuteTime": {
     "end_time": "2025-06-13T15:00:31.760949Z",
     "start_time": "2025-06-13T15:00:31.236279Z"
    }
   },
   "cell_type": "code",
   "source": [
    "from dotenv import load_dotenv\n",
    "from google import genai\n",
    "import os\n",
    "load_dotenv()\n",
    "client = genai.Client(api_key=os.getenv(\"GEMINI_API_KEY\"))\n",
    "text = \"\"\"as\\noverlay over the input image. Further, the interrater variability based on the pixel variance is shown.\\nThe uncertainty scores per pixel are normalized between 0 and 0.5 for the deterministic model and\\nbetween 0 and 0.7 for the other prediction models, reflecting the possible range of uncertainty values.\\n29\\n\\nPublished as a conference paper at ICLR 2024\\nMalignancy shift i.i.d. example\\nFigure 12: Qualitative results for separating aleatoric and epistemic uncertainty for the LIDC MAL\\ndataset. A case that is part of the i.i.d. test set is shown. The reference segmentations are shown as\\noverlay over the input image. Further, the interrater variability based on the pixel variance is shown.\\nThe uncertainty scores per pixel are normalized between 0 and 0.5 for the deterministic model and\\nbetween 0 and 0.7 for the other prediction models, reflecting the possible range of uncertainty values.\\n30\\n\\nPublished as a conference paper at ICLR 2024\\nMalignancy shift OoD example\\nFigure 13: Qualitative results for separating aleatoric and epistemic uncertainty for the LIDC MAL\\ndataset. A case that is part of the OoD test set is shown. The reference segmentations are shown as\\noverlay over the input image. Further, the interrater variability based on the pixel variance is shown.\\nThe uncertainty scores per pixel are normalized between 0 and 0.5 for the deterministic model and\\nbetween 0 and 0.7 for the other prediction models, reflecting the possible range of uncertainty values.\\n31\\n\\nPublished as a conference paper at ICLR 2024\\nG.3.3\\nQUALITATIVE RESULTS FOR THE GTA 5 / CITYSCAPES DATASET\\nFigure 14: Qualitative results for separating aleatoric and epistemic uncertainty for the GTA 5 /\\nCityscapes dataset. The reference segmentations are shown as overlay over the input image. Further,\\nthe interrater variability based on the pixel variance is shown. The uncertainty scores per pixel are\\nnormalized per image.\\n32\\n\\nPublished as a conference paper at ICLR 2024\\nH\\nDETAILED RESULTS OF THE EVALUATION ON DOWNSTREAM TASKS\\nThe following tables show the detailed results on the downstream tasks as described in Sec. 4.5. For\\nthe LIDC datasets, the results are shown in Table 5, while for the GTA5/CS dataset, the results are\\nshown in Table 6.\\n33\\n\\nPublished as a conference paper at ICLR 2024\\nTable 5: Evaluation of downstream tasks on the LIDC datasets. The table shows the segmentation performance by means of\\nthe Dice score and evaluation metrics for 5 different downstream tasks, where ↑depict higher scores are better and ↓lower scores\\nare better. All scores are multiplyed by 102. The color heatmap is normalized per column and per shift, brighter columns imply\\nbetter scores. For AL, the second cycle was only executed with EU and PU, indicated by empty grey entries for AU. Reported\\nresults show the mean and standard deviation over 3 different seeds. Abbreviations: PM: Prediction model, UM: Uncertainty\\nmeasure, UT: Modeled uncertainty Type (according to theory), AGG: Aggregation strategy.\\nSeg. Performance\\nOoD-D\\nFailure Detection\\nAL\\nCalibration\\nAmbiguity Modeling\\nShift\\nPM\\nUM\\nUT\\nAGG\\nDice\\ni.i.d. ↑\\nDice\\nOoD ↑\\nAUROC\\n↑\\nAURC\\ni.i.d. ↓\\nAURC\\nOoD ↓\\nEAURC\\ni.i.d. ↓\\nEAURC\\nOoD ↓\\nAL\\nImprov.\\nOoD ↑\\nACE\\ni.i.d. ↓\\nACE\\nOoD ↓\\nNCC\\ni.i.d. ↑\\nNCC\\nOoD ↑\\nGED\\ni.i.d. ↓\\nGED\\nOoD ↓\\nTexture-Shift\\nDeterm.\\nMSR\\nPU\\nPatch\\n81.42±0.28\\n64.05±0.1\\n46.43±2.28\\n19.18±0.24\\n41.27±1.19\\n6.13±0.09\\n18.64±1.27\\n-0.78±1.93\\n29.92±0.7\\n32.58±0.99\\n31.55±0.26\\n20.09±1.57\\n22.18±0.53\\n52.06±0.18\\nThresh\\n81.42±0.28\\n64.05±0.1\\n52.02±11.21\\n17.7±1.02\\n41.82±1.54\\n4.65±0.82\\n19.19±1.18\\n-2.57±3.49\\n29.92±0.7\\n32.58±0.99\\n31.55±0.26\\n20.09±1.57\\n22.18±0.53\\n52.06±0.18\\nTTD\\nPE\\nPU\\nPatch\\n81.1±0.14\\n63.9±1.43\\n46.35±1.77\\n19.97±0.09\\n42.52±2.12\\n6.52±0.16\\n19.05±1.18\\n1.06±1.0\\n19.47±0.67\\n21.98±1.04\\n51.17±0.13\\n36.58±1.73\\n16.83±0.26\\n40.84±2.01\\nThresh\\n81.1±0.14\\n63.9±1.43\\n60.95±2.3\\n17.35±0.51\\n37.97±1.82\\n3.9±0.42\\n14.5±1.02\\n0.9±0.76\\n19.47±0.67\\n21.98±1.04\\n51.17±0.13\\n36.58±1.73\\n16.83±0.26\\n40.84±2.01\\nEE\\nAU\\nPatch\\n81.1±0.14\\n63.9±1.43\\n43.41±1.38\\n20.25±0.04\\n41.65±3.65\\n6.8±0.13\\n18.19±2.78\\n26.95±0.27\\n26.86±1.66\\n51.74±0.26\\n37.21±2.13\\n16.83±0.26\\n40.84±2.01\\nThresh\\n81.1±0.14\\n63.9±1.43\\n40.4±1.68\\n20.03±0.25\\n42.24±2.22\\n6.57±0.17\\n18.77±1.28\\n26.95±0.27\\n26.86±1.66\\n51.74±0.26\\n37.21±2.13\\n16.83±0.26\\n40.84±2.01\\nMI\\nEU\\nPatch\\n81.1±0.14\\n63.9±1.43\\n51.55±0.9\\n19.51±0.12\\n42.15±1.92\\n6.06±0.09\\n18.69±1.01\\n2.05±2.57\\n25.42±0.12\\n27.82±1.35\\n46.45±0.35\\n33.33±1.41\\n16.83±0.26\\n40.84±2.01\\nThresh\\n81.1±0.14\\n63.9±1.43\\n65.2±1.38\\n16.86±0.28\\n36.3±2.34\\n3.41±0.18\\n12.83±1.78\\n3.24±1.92\\n25.42±0.12\\n27.82±1.35\\n46.45±0.35\\n33.33±1.41\\n16.83±0.26\\n40.84±2.01\\nEnsemble\\nPE\\nPU\\nPatch\\n82.34±0.18\\n64.36±0.85\\n54.72±2.55\\n18.24±0.29\\n37.06±4.43\\n5.76±0.2\\n15.05±3.67\\n1.02±3.04\\n19.96±0.91\\n24.7±0.54\\n47.82±0.55\\n34.62±1.03\\n16.05±0.35\\n40.37±1.09\\nThresh\\n82.34±0.18\\n64.36±0.85\\n66.47±5.2\\n16.07±0.39\\n38.38±2.84\\n3.59±0.37\\n16.37±2.06\\n0.56±2.53\\n19.96±0.91\\n24.7±0.54\\n47.82±0.55\\n34.62±1.03\\n16.05±0.35\\n40.37±1.09\\nEE\\nAU\\nPatch\\n82.34±0.18\\n64.36±0.85\\n48.57±0.74\\n18.53±0.26\\n37.49±5.1\\n6.05±0.17\\n15.47±4.41\\n27.21±0.28\\n29.18±1.92\\n49.31±0.46\\n35.52±0.82\\n16.05±0.35\\n40.37±1.09\\nThresh\\n82.34±0.18\\n64.36±0.85\\n52.66±4.31\\n16.7±0.35\\n41.57±2.44\\n4.22±0.31\\n19.55±1.97\\n27.21±0.28\\n29.18±1.92\\n49.31±0.46\\n35.52±0.82\\n16.05±0.35\\n40.37±1.09\\nMI\\nEU\\nPatch\\n82.34±0.18\\n64.36±0.85\\n65.4±3.71\\n17.55±0.29\\n38.15±5.64\\n5.06±0.22\\n16.13±4.92\\n0.96±3.48\\n28.71±0.38\\n31.35±1.58\\n39.05±0.8\\n30.1±0.84\\n16.05±0.35\\n40.37±1.09\\nThresh\\n82.34±0.18\\n64.36±0.85\\n72.1±5.05\\n15.58±0.32\\n36.76±2.92\\n3.1±0.3\\n14.75±2.13\\n-0.75±1.84\\n28.71±0.38\\n31.35±1.58\\n39.05±0.8\\n30.1±0.84\\n16.05±0.35\\n40.37±1.09\\nTTA\\nPE\\nPU\\nPatch\\n81.83±0.3\\n65.08±0.45\\n50.95±1.4\\n18.57±0.25\\n36.28±1.96\\n5.76±0.12\\n14.38±1.92\\n0.45±1.97\\n22.78±1.01\\n26.07±2.37\\n46.04±0.31\\n31.51±0.22\\n17.37±0.6\\n41.49±0.9\\nThresh\\n81.83±0.3\\n65.08±0.45\\n59.8±10.85\\n16.77±0.52\\n39.21±0.91\\n3.97±0.38\\n17.31±0.78\\n-0.25±1.44\\n22.78±1.01\\n26.07±2.37\\n46.04±0.31\\n31.51±0.22\\n17.37±0.6\\n41.49±0.9\\nEE\\nAU\\nPatch\\n81.83±0.3\\n65.08±0.45\\n46.23±1.89\\n18.96±0.09\\n39.39±0.5\\n6.15±0.13\\n17.49±0.62\\n26.45±0.15\\n28.32±1.87\\n47.57±0.47\\n33.48±0.33\\n17.37±0.6\\n41.49±0.9\\nThresh\\n81.83±0.3\\n65.08±0.45\\n48.93±11.85\\n17.6±0.77\\n40.74±1.09\\n4.79±0.65\\n18.84±0.96\\n26.45±0.15\\n28.32±1.87\\n47.57±0.47\\n33.48±0.33\\n17.37±0.6\\n41.49±0.9\\nMI\\nEU\\nPatch\\n81.83±0.3\\n65.08±0.45\\n59.09±2.68\\n17.52±0.43\\n33.53±3.36\\n4.71±0.28\\n11.63±3.29\\n1.52±0.43\\n28.95±0.59\\n30.61±0.39\\n38.08±0.46\\n26.68±0.36\\n17.37±0.6\\n41.49±0.9\\nThresh\\n81.83±0.3\\n65.08±0.45\\n67.38±7.09\\n16.31±0.57\\n36.14±2.59\\n3.51±0.42\\n14.23±2.47\\n0.3±2.32\\n28.95±0.59\\n30.61±0.39\\n38.08±0.46\\n26.68±0.36\\n17.37±0.6\\n41.49±0.9\\nSSN\\nPE\\nPU\\nPatch\\n81.28±0.16\\n59.51±1.79\\n53.57±3.02\\n19.6±0.42\\n40.79±6.31\\n6.41±0.39\\n16.2±5.62\\n-5.11±8.76\\n9.68±0.35\\n17.87±2.1\\n63.49±0.41\\n51.22±0.11\\n13.57±0.3\\n35.69±2.43\\nThresh\\n81.28±0.16\\n59.51±1.79\\n50.52±5.24\\n18.47±0.04\\n49.89±4.56\\n5.28±0.02\\n25.3±3.72\\n-7.24±8.79\\n9.68±0.35\\n17.87±2.1\\n63.49±0.41\\n51.22±0.11\\n13.57±0.3\\n35.69±2.43\\nMI\\nAU\\nPatch\\n81.28±0.16\\n59.51±1.79\\n54.48±6.47\\n19.31±0.76\\n37.86±2.83\\n6.11±0.73\\n13.26±2.12\\n27.71±0.29\\n27.98±1.09\\n59.2±0.63\\n47.33±0.54\\n13.57±0.3\\n35.69±2.43\\nThresh\\n81.28±0.16\\n59.51±1.79\\n49.4±6.31\\n18.49±0.6\\n36.24±3.38\\n5.3±0.56\\n11.65±2.09\\n27.71±0.29\\n27.98±1.09\\n59.2±0.63\\n47.33±0.54\\n13.57±0.3\\n35.69±2.43\\nEE\\nEU\\nPatch\\n81.28±0.16\\n59.51±1.79\\n54.13±1.43\\n19.54±0.33\\n41.57±6.22\\n6.34±0.3\\n16.98±5.69\\n-0.73±9.19\\n17.16±0.31\\n22.56±0.4\\n63.61±0.47\\n51.8±0.23\\n13.57±0.3\\n35.69±2.43\\nThresh\\n81.28±0.16\\n59.51±1.79\\n50.44±6.67\\n18.61±0.28\\n50.56±3.84\\n5.42±0.33\\n25.97±3.06\\n-5.7±10.94\\n17.16±0.31\\n22.56±0.4\\n63.61±0.47\\n51.8±0.23\\n13.57±0.3\\n35.69±2.43\\nMalignancy-Shift\\nDeterm.\\nMSR\\nPU\\nPatch\\n78.97±0.29\\n65.03±3.36\\n86.44±2.33\\n19.79±0.16\\n36.1±9.33\\n4.77±0.27\\n17.87±8.27\\n0.79±8.0\\n32.17±0.96\\n28.41±1.45\\n28.39±1.24\\n20.15±1.78\\n26.42±0.63\\n54.57±5.45\\nThresh\\n78.97±0.29\\n65.03±3.36\\n58.94±4.42\\n21.86±0.19\\n48.62±8.06\\n6.84±0.38\\n30.39±6.94\\n-1.65±7.86\\n32.17±0.96\\n28.41±1.45\\n28.39±1.24\\n20.15±1.78\\n26.42±0.63\\n54.57±5.45\\nTTD\\nPE\\nPU\\nPatch\\n78.6±0.41\\n67.84±1.62\\n90.13±0.07\\n20.6±0.31\\n22.93±3.61\\n4.85±0.34\\n5.39±4.15\\n2.27±4.26\\n21.09±0.63\\n19.13±0.82\\n47.88±0.27\\n35.6±1.53\\n19.88±0.74\\n39.09±2.89\\nThresh\\n78.6±0.41\\n67.84±1.62\\n73.98±7.04\\n22.08±0.69\\n25.97±3.92\\n6.34±0.67\\n8.43±4.47\\n2.68±4.48\\n21.09±0.63\\n19.13±0.82\\n47.88±0.27\\n35.6±1.53\\n19.88±0.74\\n39.09±2.89\\nEE\\nAU\\nPatch\\n78.6±0.41\\n67.84±1.62\\n90.5±0.56\\n20.55±0.38\\n27.35±5.72\\n4.81±0.43\\n9.81±6.14\\n28.34±0.17\\n24.24±0.63\\n48.22±0.48\\n38.51±1.22\\n19.88±0.74\\n39.09±2.89\\nThresh\\n78.6±0.41\\n67.84±1.62\\n87.62±1.42\\n22.29±0.75\\n39.51±1.95\\n6.54±0.71\\n21.97±2.45\\n28.34±0.17\\n24.24±0.63\\n48.22±0.48\\n38.51±1.22\\n19.88±0.74\\n39.09±2.89\\nMI\\nEU\\nPatch\\n78.6±0.41\\n67.84±1.62\\n88.12±1.29\\n20.6±0.34\\n21.96±2.13\\n4.85±0.36\\n4.43±2.68\\n1.84±4.39\\n26.6±0.38\\n24.43±0.37\\n44.55±0.08\\n31.08±0.89\\n19.88±0.74\\n39.09±2.89\\nThresh\\n78.6±0.41\\n67.84±1.62\\n59.61±14.74\\n21.62±0.58\\n24.2±2.91\\n5.87±0.58\\n6.66±3.4\\n1.55±4.4\\n26.6±0.38\\n24.43±0.37\\n44.55±0.08\\n31.08±0.89\\n19.88±0.74\\n39.09±2.89\\nEnsemble\\nPE\\nPU\\nPatch\\n79.36±0.13\\n65.34±0.65\\n91.31±0.14\\n19.12±0.1\\n24.77±2.49\\n4.41±0.06\\n6.98±2.71\\n2.15±2.77\\n22.93±0.44\\n21.13±0.25\\n42.85±0.15\\n32.62±0.58\\n20.51±0.28\\n36.79±1.42\\nThresh\\n79.36±0.13\\n65.34±0.65\\n72.07±0.52\\n19.75±0.17\\n28.75±2.94\\n5.04±0.18\\n10.97±3.16\\n0.85±2.98\\n22.93±0.44\\n21.13±0.25\\n42.85±0.15\\n32.62±0.58\\n20.51±0.28\\n36.79±1.42\\nEE\\nAU\\nPatch\\n79.36±0.13\\n65.34±0.65\\n89.39±0.45\\n19.56±0.14\\n37.06±2.1\\n4.85±0.11\\n19.28±2.33\\n29.48±0.47\\n26.4±0.83\\n44.23±0.39\\n35.38±0.73\\n20.51±0.28\\n36.79±1.42\\nThresh\\n79.36±0.13\\n65.34±0.65\\n53.44±2.59\\n22.37±0.29\\n52.64±1.34\\n7.66±0.32\\n34.85±1.41\\n29.48±0.47\\n26.4±0.83\\n44.23±0.39\\n35.38±0.73\\n20.51±0.28\\n36.79±1.42\\nMI\\nEU\\nPatch\\n79.36±0.13\\n65.34±0.65\\n89.42±0.73\\n18.75±0.01\\n24.43±1.94\\n4.04±0.04\\n6.65±2.17\\n1.94±2.62\\n30.72±0.07\\n27.43±0.31\\n36.3±0.17\\n26.97±0.66\\n20.51±0.28\\n36.79±1.42\\nThresh\\n79.36±0.13\\n65.34±0.65\\n75.02±0.96\\n18.95±0.36\\n26.68±2.47\\n4.24±0.39\\n8.9±2.67\\n0.92±2.93\\n30.72±0.07\\n27.43±0.31\\n36.3±0.17\\n26.97±0.66\\n20.51±0.28\\n36.79±1.42\\nTTA\\nPE\\nPU\\nPatch\\n79.08±0.12\\n65.2±3.68\\n88.41±1.02\\n19.24±0.14\\n28.94±7.15\\n4.39±0.23\\n11.07±6.19\\n0.17±8.74\\n25.13±0.34\\n21.54±0.25\\n40.89±0.61\\n30.39±2.45\\n21.85±0.26\\n42.45±4.5\\nThresh\\n79.08±0.12\\n65.2±3.68\\n66.79±2.58\\n20.34±0.74\\n35.83±7.94\\n5.5±0.42\\n17.97±7.13\\n0.92±8.45\\n25.13±0.34\\n21.54±0.25\\n40.89±0.61\\n30.39±2.45\\n21.85±0.26\\n42.45±4.5\\nEE\\nAU\\nPatch\\n79.08±0.12\\n65.2±3.68\\n86.63±1.94\\n19.64±0.11\\n35.61±9.85\\n4.8±0.39\\n17.75±8.61\\n29.23±0.79\\n25.37±0.71\\n42.46±0.47\\n32.91±2.11\\n21.85±0.26\\n42.45±4.5\\nThresh\\n79.08±0.12\\n65.2±3.68\\n52.66±5.18\\n22.31±0.31\\n51.72±8.34\\n7.46±0.23\\n33.86±7.08\\n29.23±0.79\\n25.37±0.71\\n42.46±0.47\\n32.91±2.11\\n21.85±0.26\\n42.45±4.5\\nMI\\nEU\\nPatch\\n79.08±0.12\\n65.2±3.68\\n86.32±2.14\\n18.75±0.19\\n28.06±7.07\\n3.9±0.32\\n10.19±6.25\\n0.87±8.57\\n30.86±0.3\\n26.51±0.73\\n34.99±1.08\\n25.15±2.15\\n21.85±0.26\\n42.45±4.5\\nThresh\\n79.08±0.12\\n65.2±3.68\\n70.06±3.16\\n19.26±0.76\\n31.25±7.73\\n4.42±0.38\\n13.39±6.89\\n0.49±9.23\\n30.86±0.3\\n26.51±0.73\\n34.99±1.08\\n25.15±2.15\\n21.85±0.26\\n42.45±4.5\\nSSN\\nPE\\nPU\\nPatch\\n79.05±0.24\\n67.79±1.75\\n83.59±0.6\\n20.42±0.68\\n23.09±1.64\\n5.57±0.44\\n5.7±1.4\\n1.53±5.39\\n11.62±0.24\\n13.59±0.32\\n61.14±1.11\\n47.48±0.03\\n16.79±0.3\\n36.2±2.02\\nThresh\\n79.05±0.24\\n67.79±1.75\\n71.97±1.26\\n20.74±0.15\\n37.39±5.41\\n5.88±0.36\\n20.0±5.0\\n0.62±4.99\\n11.62±0.24\\n13.59±0.32\\n61.14±1.11\\n47.48±0.03\\n16.79±0.3\\n36.2±2.02\\nMI\\nAU\\nPatch\\n79.05±0.24\\n67.79±1.75\\n71.68±3.1\\n20.23±0.98\\n26.71±2.76\\n5.38±0.79\\n9.32±2.43\\n30.31±0.67\\n25.93±0.37\\n55.42±1.71\\n44.16±0.26\\n16.79±0.3\\n36.2±2.02\\nThresh\\n79.05±0.24\\n67.79±1.75\\n56.56±8.8\\n20.63±1.3\\n31.75±3.27\\n5.77±1.15\\n14.36±3.14\\n30.31±0.67\\n25.93±0.37\\n55.42±1.71\\n44.16±0.26\\n16.79±0.3\\n36.2±2.02\\nEE\\nEU\\nPatch\\n79.05±0.24\\n67.79±1.75\\n85.3±1.15\\n20.48±0.49\\n23.74±1.79\\n5.62±0.28\\n6.35±1.63\\n1.23±5.06\\n17.67±0.62\\n19.66±0.28\\n61.82±0.68\\n47.3±0.08\\n16.79±0.3\\n36.2±2.02\\nThresh\\n79.05±0.24\\n67.79±1.75\\n67.74±4.7\\n20.56±0.41\\n37.92±5.94\\n5.71±0.69\\n20.53±5.53\\n0.48±5.55\\n17.67±0.62\\n19.66±0.28\\n61.82±0.68\\n47.3±0.08\\n16.79±0.3\\n36.2±2.02\\n34\\n\\nPublished as a conference paper at ICLR 2024\\nTable 6: Evaluation of downstream tasks on the GTA 5 / Cityscapes dataset. The table shows the segmentation performance\\nby means of the Dice score and evaluation metrics for 5 different downstream tasks, where ↑depict higher scores are better and ↓\\nlower scores are better. All scores are multiplyed by 102. The color heatmap is normalized per column, brighter columns imply\\nbetter scores. For AL, the second cycle was only executed with EU and PU, indicated by empty grey entries for AU. Reported\\nresults show the mean and standard deviation over 3 different seeds. Abbreviations: PM: Prediction model, UM: Uncertainty\\nmeasure, UT: Modeled uncertainty Type (according to theory), AGG: Aggregation strategy.\\nSeg. Performance\\nOoD-D\\nFailure Detection\\nAL\\nCalibration\\nAmbiguity Modeling\\nPM\\nUM\\nUT\\nAGG\\nDice\\ni.i.d. ↑\\nDice\\nOoD ↑\\nAUROC\\n↑\\nAURC\\ni.i.d. ↓\\nAURC\\nOoD ↓\\nEAURC\\ni.i.d. ↓\\nEAURC\\nOoD ↓\\nAL\\nImprov.\\nOoD ↑\\nACE\\ni.i.d. ↓\\nACE\\nOoD ↓\\nNCC\\ni.i.d. ↑\\nNCC\\nOoD ↑\\nGED\\ni.i.d. ↓\\nGED\\nOoD ↓\\nDeterm.\\nMSR\\nPU\\nPatch\\n71.73±0.13\\n58.37±0.51\\n33.43±1.16\\n26.52±0.23\\n39.24±0.75\\n7.28±0.15\\n8.15±0.72\\n-0.5±1.78\\n13.09±0.15\\n17.21±0.31\\n50.61±0.43\\n46.81±0.61\\n36.09±0.26\\n58.87±0.83\\nImage\\n71.73±0.13\\n58.37±0.51\\n69.99±0.58\\n24.2±0.17\\n36.85±0.33\\n4.96±0.04\\n5.76±0.24\\n1.44±1.73\\n13.09±0.15\\n17.21±0.31\\n50.61±0.43\\n46.81±0.61\\n36.09±0.26\\n58.87±0.83\\nTTD\\nPE\\nPU\\nPatch\\n71.63±0.14\\n58.62±0.91\\n36.67±1.42\\n26.77±0.2\\n39.46±0.57\\n7.43±0.06\\n8.43±0.35\\n-0.29±2.72\\n15.14±0.11\\n15.07±0.07\\n26.68±0.29\\n25.57±3.5\\n34.03±0.28\\n56.08±1.61\\nImage\\n71.63±0.14\\n58.62±0.91\\n67.8±0.77\\n24.51±0.21\\n36.14±0.3\\n5.16±0.06\\n5.12±0.09\\n0.94±2.81\\n15.14±0.11\\n15.07±0.07\\n26.68±0.29\\n25.57±3.5\\n34.03±0.28\\n56.08±1.61\\nEE\\nAU\\nPatch\\n71.63±0.14\\n58.62±0.91\\n36.83±1.35\\n26.76±0.21\\n39.45±0.61\\n7.41±0.07\\n8.43±0.38\\n15.08±0.11\\n15.18±0.08\\n27.67±0.29\\n26.39±3.46\\n34.03±0.28\\n56.08±1.61\\nImage\\n71.63±0.14\\n58.62±0.91\\n68.03±0.75\\n24.5±0.21\\n36.15±0.3\\n5.15±0.06\\n5.13±0.09\\n15.08±0.11\\n15.18±0.08\\n27.67±0.29\\n26.39±3.46\\n34.03±0.28\\n56.08±1.61\\nMI\\nEU\\nPatch\\n71.63±0.14\\n58.62±0.91\\n46.3±4.04\\n26.88±0.11\\n39.18±0.6\\n7.54±0.05\\n8.15±0.36\\n0.03±2.86\\n17.56±0.13\\n17.82±0.5\\n-23.17±0.19\\n-12.85±2.61\\n34.03±0.28\\n56.08±1.61\\nImage\\n71.63±0.14\\n58.62±0.91\\n51.08±2.53\\n26.05±0.24\\n36.61±0.38\\n6.71±0.09\\n5.58±0.16\\n0.45±2.82\\n17.56±0.13\\n17.82±0.5\\n-23.17±0.19\\n-12.85±2.61\\n34.03±0.28\\n56.08±1.61\\nEnsemble\\nPE\\nPU\\nPatch\\n71.92±0.14\\n59.36±0.46\\n32.72±0.57\\n26.4±0.13\\n38.33±0.63\\n7.42±0.07\\n7.98±0.56\\n-0.65±1.67\\n15.64±0.12\\n15.61±0.22\\n23.77±0.11\\n25.37±0.98\\n31.92±0.22\\n50.12±0.36\\nImage\\n71.92±0.14\\n59.36±0.46\\n72.06±0.8\\n24.02±0.12\\n35.51±0.83\\n5.05±0.01\\n5.16±0.17\\n1.17±1.73\\n15.64±0.12\\n15.61±0.22\\n23.77±0.11\\n25.37±0.98\\n31.92±0.22\\n50.12±0.36\\nEE\\nAU\\nPatch\\n71.92±0.14\\n59.36±0.46\\n28.69±0.35\\n26.5±0.15\\n38.79±0.42\\n7.53±0.08\\n8.44±0.41\\n15.57±0.11\\n15.31±0.21\\n26.74±0.14\\n29.59±0.9\\n31.92±0.22\\n50.12±0.36\\nImage\\n71.92±0.14\\n59.36±0.46\\n66.81±0.94\\n24.05±0.11\\n35.54±0.78\\n5.08±0.01\\n5.19±0.22\\n15.57±0.11\\n15.31±0.21\\n26.74±0.14\\n29.59±0.9\\n31.92±0.22\\n50.12±0.36\\nMI\\nEU\\nPatch\\n71.92±0.14\\n59.36±0.46\\n90.63±0.29\\n26.69±0.04\\n38.57±1.15\\n7.72±0.13\\n8.22±0.61\\n1.77±1.79\\n21.33±0.06\\n17.43±0.28\\n-22.55±0.08\\n-6.06±0.79\\n31.92±0.22\\n50.12±0.36\\nImage\\n71.92±0.14\\n59.36±0.46\\n90.05±0.29\\n25.68±0.09\\n36.51±1.29\\n6.71±0.08\\n6.16±0.63\\n1.85±1.8\\n21.33±0.06\\n17.43±0.28\\n-22.55±0.08\\n-6.06±0.79\\n31.92±0.22\\n50.12±0.36\\nTTA\\nPE\\nPU\\nPatch\\n71.82±0.13\\n58.39±0.47\\n31.66±0.71\\n26.54±0.26\\n39.44±0.94\\n7.38±0.15\\n8.39±1.07\\n-0.61±1.71\\n15.37±0.14\\n15.42±0.31\\n24.84±0.23\\n28.14±1.28\\n33.52±0.26\\n54.06±0.72\\nImage\\n71.82±0.13\\n58.39±0.47\\n69.81±0.32\\n24.27±0.18\\n36.44±0.16\\n5.11±0.05\\n5.39±0.05\\n1.44±1.78\\n15.37±0.14\\n15.42±0.31\\n24.84±0.23\\n28.14±1.28\\n33.52±0.26\\n54.06±0.72\\nEE\\nAU\\nPatch\\n71.82±0.13\\n58.39±0.47\\n28.85±0.8\\n26.55±0.27\\n39.39±0.98\\n7.39±0.17\\n8.35±1.12\\n15.3±0.14\\n15.32±0.33\\n26.29±0.24\\n30.47±1.19\\n33.52±0.26\\n54.06±0.72\\nImage\\n71.82±0.13\\n58.39±0.47\\n66.61±0.31\\n24.28±0.18\\n36.42±0.16\\n5.12±0.05\\n5.37±0.05\\n15.3±0.14\\n15.32±0.33\\n26.29±0.24\\n30.47±1.19\\n33.52±0.26\\n54.06±0.72\\nMI\\nEU\\nPatch\\n71.82±0.13\\n58.39±0.47\\n92.75±0.11\\n27.1±0.09\\n39.65±0.47\\n7.95±0.08\\n8.61±0.41\\n2.12±1.77\\n22.04±0.39\\n19.1±0.32\\n-16.25±0.14\\n-4.45±1.2\\n33.52±0.26\\n54.06±0.72\\nImage\\n71.82±0.13\\n58.39±0.47\\n94.32±0.33\\n26.12±0.05\\n37.57±0.41\\n6.96±0.08\\n6.53±0.54\\n2.46±1.77\\n22.04±0.39\\n19.1±0.32\\n-16.25±0.14\\n-4.45±1.2\\n33.52±0.26\\n54.06±0.72\\nSSN\\nPE\\nPU\\nPatch\\n65.49±0.13\\n51.9±0.44\\n77.95±1.28\\n33.85±0.35\\n46.53±0.89\\n10.14±0.29\\n9.91±0.55\\n2.01±2.21\\n16.1±0.13\\n17.84±0.41\\n55.97±0.09\\n37.26±0.95\\n25.6±0.03\\n45.26±1.1\\nImage\\n65.49±0.13\\n51.9±0.44\\n82.0±1.1\\n30.07±0.05\\n43.05±0.95\\n6.36±0.14\\n6.43±0.41\\n3.21±2.25\\n16.1±0.13\\n17.84±0.41\\n55.97±0.09\\n37.26±0.95\\n25.6±0.03\\n45.26±1.1\\nMI\\nAU\\nPatch\\n65.49±0.13\\n51.9±0.44\\n53.14±3.37\\n32.57±0.31\\n46.28±1.29\\n8.86±0.4\\n9.65±1.0\\n21.6±0.14\\n25.8±0.42\\n70.34±0.36\\n51.8±0.44\\n25.6±0.03\\n45.26±1.1\\nImage\\n65.49±0.13\\n51.9±0.44\\n55.21±1.37\\n31.0±0.09\\n46.07±0.67\\n7.29±0.13\\n9.44±0.51\\n21.6±0.14\\n25.8±0.42\\n70.34±0.36\\n51.8±0.44\\n25.6±0.03\\n45.26±1.1\\nEE\\nEU\\nPatch\\n65.49±0.13\\n51.9±0.44\\n78.12±1.74\\n33.87±0.42\\n46.86±0.86\\n10.16±0.37\\n10.23±0.39\\n2.44±2.17\\n10.49±0.31\\n11.12±0.45\\n4.57±1.07\\n2.95±0.9\\n25.6±0.03\\n45.26±1.1\\nImage\\n65.49±0.13\\n51.9±0.44\\n86.2±1.08\\n32.58±0.43\\n43.62±1.1\\n8.87±0.41\\n7.0±0.56\\n2.37±1.91\\n10.49±0.31\\n11.12±0.45\\n4.57±1.07\\n2.95±0.9\\n25.6±0.03\\n45.26±1.1\\n35\\n\\n\", \"authors\": \"['Kim-Celine Kahl', 'Carsten Lüth', 'Maximilian Zenk', 'Klaus Maier-Hein', 'Paul F. Jaeger']\", \"id\": \"yV6fD7LYkF\", \"abstract\": \" Uncertainty estimation is an essential and heavily-studied component for the reliable application of semantic segmentation methods. While various studies exist claiming methodological advances on the one hand, and successful application on the other hand, the field is currently hampered by a gap between theory and practice leaving fundamental questions unanswered: Can data-related and model-related uncertainty really be separated in practice? Which components of an uncertainty method are essential for real-world performance? Which uncertainty method works well for which application? In this work, we link this research gap to a lack of systematic and comprehensive evaluation of uncertainty methods. Specifically, we identify three key pitfalls in current literature and present an evaluation framework that bridges the research gap by providing 1) a controlled environment for studying data ambiguities as well as distribution shifts, 2) systematic ablations of relevant method components, and 3) test-beds for the five predominant uncertainty applications: OoD-detection, active learning, failure detection, calibration, and ambiguity modeling. Empirical results on simulated as well as real-world data demonstrate how the proposed framework is able to answer the predominant questions in the field revealing for instance that 1) separation of uncertainty types works on simulated data but does not necessarily translate to real-world data, 2) aggregation of scores is a crucial but currently neglected component of uncertainty methods, 3) While ensembles are performing most robustly across the different downstream tasks and settings, test-time augmentation often constitutes a light-weight alternative. Code is at: https://github.com/IML-DKFZ/values\"}\"\"\"\n",
    "text.replace(\"\\n\", ' ')\n",
    "client.models.count_tokens(\n",
    "            model = 'gemini-embedding-exp-03-07',\n",
    "            contents = text\n",
    "        ).total_tokens\n"
   ],
   "id": "a1bef3babe26113e",
   "outputs": [
    {
     "data": {
      "text/plain": [
       "13293"
      ]
     },
     "execution_count": 15,
     "metadata": {},
     "output_type": "execute_result"
    }
   ],
   "execution_count": 15
  },
  {
   "metadata": {
    "ExecuteTime": {
     "end_time": "2025-06-13T14:22:33.710121Z",
     "start_time": "2025-06-13T14:22:33.705650Z"
    }
   },
   "cell_type": "code",
   "source": [
    "from dotenv import load_dotenv\n",
    "from google import genai\n",
    "import os\n",
    "def chunk_text_with_stride(text, max_tokens, stride_percent):\n",
    "    load_dotenv()\n",
    "    client = genai.Client(api_key=os.getenv(\"GEMINI_API_KEY\"))\n",
    "\n",
    "    def count_tokens(textt):\n",
    "        return client.models.count_tokens(\n",
    "            model = 'gemini-embedding-exp-03-07',\n",
    "            contents = textt\n",
    "        ).total_tokens\n",
    "\n",
    "    words = text.split()\n",
    "    n_words = len(words)\n",
    "    chunks = []\n",
    "\n",
    "    i = 0\n",
    "    stride_size = 0\n",
    "\n",
    "    while i < n_words:\n",
    "\n",
    "        print('new chunk!')\n",
    "        # Start with an overestimate that 1 word = 1 tok. IRL, 1 word = 2 or 3 toks.\n",
    "        est_words = max_tokens\n",
    "        high = min(i + est_words, n_words)\n",
    "        low = i\n",
    "        current = high\n",
    "\n",
    "        best = i\n",
    "        step = max(1, (high - low) // 2)\n",
    "\n",
    "        while step > 0:\n",
    "            candidate = ' '.join(words[i:current])\n",
    "            tokens = count_tokens(candidate)\n",
    "\n",
    "            if tokens <= max_tokens:\n",
    "                # Valid chunk, try to go longer\n",
    "                best = current\n",
    "                current = min(current + step, n_words)\n",
    "                print(f'undershot by {tokens - max_tokens} tokens')\n",
    "            else:\n",
    "                # Too long, try to shorten\n",
    "                current = max(current - step, i + 1)\n",
    "                print(f'overshot by {tokens - max_tokens} tokens')\n",
    "\n",
    "            step = step // 2  # Reduce step size, like a damped pendulum\n",
    "\n",
    "        if best == i:\n",
    "            raise ValueError(\"A single word or minimal span exceeds max_tokens.\")\n",
    "\n",
    "        chunk = ' '.join(words[i:best])\n",
    "        chunks.append(chunk)\n",
    "\n",
    "        if stride_size == 0:\n",
    "            stride_size = max(1, int((best - i) * stride_percent))\n",
    "\n",
    "        i = best - stride_size\n",
    "\n",
    "        candidate_last = ' '.join(words[i:])\n",
    "        if count_tokens(candidate_last) <= max_tokens:\n",
    "            chunks.append(candidate_last)\n",
    "            break\n",
    "\n",
    "    return chunks\n"
   ],
   "id": "ff0a6d8d6c22ec8e",
   "outputs": [],
   "execution_count": 9
  },
  {
   "metadata": {
    "ExecuteTime": {
     "end_time": "2025-06-13T14:35:50.416170Z",
     "start_time": "2025-06-13T14:35:50.324268Z"
    }
   },
   "cell_type": "code",
   "source": [
    "from src.data_processing.paper_info import get_paper_info\n",
    "\n",
    "iclr24 = './data/unified_text/ICLR/ICLR_2024.json'\n",
    "text = get_paper_info('TpD2aG1h0D', iclr24)\n",
    "processed = text['authors'] + text['title'] + text['text']\n",
    "isinstance(processed, str)"
   ],
   "id": "50597bdff110d971",
   "outputs": [
    {
     "data": {
      "text/plain": [
       "True"
      ]
     },
     "execution_count": 11,
     "metadata": {},
     "output_type": "execute_result"
    }
   ],
   "execution_count": 11
  },
  {
   "metadata": {
    "ExecuteTime": {
     "end_time": "2025-06-13T14:35:58.314306Z",
     "start_time": "2025-06-13T14:35:51.724049Z"
    }
   },
   "cell_type": "code",
   "source": "chunks = chunk_text_with_stride(processed, 8192, 0.1)",
   "id": "33712739ec001739",
   "outputs": [
    {
     "name": "stdout",
     "output_type": "stream",
     "text": [
      "new chunk!\n",
      "overshot by 8177 tokens\n",
      "undershot by -1005 tokens\n",
      "overshot by 4102 tokens\n",
      "overshot by 1760 tokens\n",
      "overshot by 352 tokens\n",
      "undershot by -92 tokens\n",
      "overshot by 116 tokens\n",
      "undershot by -1 tokens\n",
      "overshot by 46 tokens\n",
      "overshot by 26 tokens\n",
      "overshot by 8 tokens\n",
      "overshot by 3 tokens\n",
      "overshot by 1 tokens\n",
      "new chunk!\n",
      "overshot by 9664 tokens\n",
      "overshot by 1150 tokens\n",
      "undershot by -2887 tokens\n",
      "undershot by -909 tokens\n",
      "overshot by 108 tokens\n",
      "undershot by -384 tokens\n",
      "undershot by -132 tokens\n",
      "undershot by -15 tokens\n",
      "overshot by 38 tokens\n",
      "overshot by 13 tokens\n",
      "undershot by 0 tokens\n",
      "overshot by 5 tokens\n",
      "overshot by 2 tokens\n",
      "new chunk!\n",
      "overshot by 8664 tokens\n",
      "overshot by 800 tokens\n",
      "undershot by -3783 tokens\n",
      "undershot by -1585 tokens\n",
      "undershot by -361 tokens\n",
      "overshot by 265 tokens\n",
      "undershot by -18 tokens\n",
      "overshot by 132 tokens\n",
      "overshot by 60 tokens\n",
      "overshot by 25 tokens\n",
      "overshot by 4 tokens\n",
      "undershot by -4 tokens\n",
      "undershot by -1 tokens\n",
      "new chunk!\n",
      "overshot by 5437 tokens\n",
      "undershot by -2534 tokens\n",
      "overshot by 590 tokens\n",
      "undershot by -1170 tokens\n",
      "undershot by -265 tokens\n",
      "overshot by 178 tokens\n",
      "undershot by -38 tokens\n",
      "overshot by 27 tokens\n",
      "undershot by -10 tokens\n",
      "overshot by 7 tokens\n",
      "undershot by -4 tokens\n",
      "overshot by 1 tokens\n"
     ]
    }
   ],
   "execution_count": 12
  },
  {
   "metadata": {
    "ExecuteTime": {
     "end_time": "2025-06-12T21:44:32.762303Z",
     "start_time": "2025-06-12T21:44:30.983247Z"
    }
   },
   "cell_type": "code",
   "source": [
    "sentence = \"What is the meaning of life?\"*2000\n",
    "max_tokens = 8192\n",
    "chunks = chunk_text_with_stride(sentence, max_tokens, 0.1)"
   ],
   "id": "4f9b699f7309f4ca",
   "outputs": [],
   "execution_count": 40
  },
  {
   "metadata": {
    "ExecuteTime": {
     "end_time": "2025-06-13T02:11:20.330767Z",
     "start_time": "2025-06-13T02:11:20.324495Z"
    }
   },
   "cell_type": "code",
   "source": "print(len(processed.split()))",
   "id": "113bb835108723f0",
   "outputs": [
    {
     "name": "stdout",
     "output_type": "stream",
     "text": [
      "16607\n"
     ]
    }
   ],
   "execution_count": 19
  },
  {
   "metadata": {
    "ExecuteTime": {
     "end_time": "2025-06-13T02:12:50.710660Z",
     "start_time": "2025-06-13T02:12:50.704641Z"
    }
   },
   "cell_type": "code",
   "source": "print(sum(len(chunk.split()) for chunk in chunks))",
   "id": "5d6698d4882ad477",
   "outputs": [
    {
     "name": "stdout",
     "output_type": "stream",
     "text": [
      "18371\n"
     ]
    }
   ],
   "execution_count": 20
  },
  {
   "metadata": {
    "ExecuteTime": {
     "end_time": "2025-06-03T22:32:37.583060Z",
     "start_time": "2025-06-03T22:32:32.425965Z"
    }
   },
   "cell_type": "code",
   "source": [
    "from src.data_processing.encoder import Encoder\n",
    "enc = Encoder('voyage-3-large', voyage=True)\n",
    "tokenizer = enc.tokenizer\n",
    "example = 'hihi'\n",
    "encoded = tokenizer.encode(example)\n",
    "decoded = tokenizer.decode(encoded)\n",
    "decoded"
   ],
   "id": "ea3df3ba0ef1a274",
   "outputs": [
    {
     "name": "stderr",
     "output_type": "stream",
     "text": [
      "C:\\Users\\tiend\\PycharmProjects\\Fair-Conference-Scheduling\\.venv\\Lib\\site-packages\\tqdm\\auto.py:21: TqdmWarning: IProgress not found. Please update jupyter and ipywidgets. See https://ipywidgets.readthedocs.io/en/stable/user_install.html\n",
      "  from .autonotebook import tqdm as notebook_tqdm\n",
      "C:\\Users\\tiend\\PycharmProjects\\Fair-Conference-Scheduling\\.venv\\Lib\\site-packages\\huggingface_hub\\file_download.py:143: UserWarning: `huggingface_hub` cache-system uses symlinks by default to efficiently store duplicated files but your machine does not support them in C:\\Users\\tiend\\.cache\\huggingface\\hub\\models--voyageai--voyage-3-large. Caching files will still work but in a degraded version that might require more space on your disk. This warning can be disabled by setting the `HF_HUB_DISABLE_SYMLINKS_WARNING` environment variable. For more details, see https://huggingface.co/docs/huggingface_hub/how-to-cache#limitations.\n",
      "To support symlinks on Windows, you either need to activate Developer Mode or to run Python as an administrator. In order to activate developer mode, see this article: https://docs.microsoft.com/en-us/windows/apps/get-started/enable-your-device-for-development\n",
      "  warnings.warn(message)\n"
     ]
    },
    {
     "data": {
      "text/plain": [
       "'hihi'"
      ]
     },
     "execution_count": 1,
     "metadata": {},
     "output_type": "execute_result"
    }
   ],
   "execution_count": 1
  },
  {
   "metadata": {
    "ExecuteTime": {
     "end_time": "2025-06-03T14:51:04.189315Z",
     "start_time": "2025-06-03T14:51:04.158326Z"
    }
   },
   "cell_type": "code",
   "source": [
    "import os\n",
    "import json\n",
    "from src import DATA_DIR\n",
    "from src.utils.io import save_json\n",
    "\n",
    "with open(os.path.join(DATA_DIR, 'unified_text', 'NeurIPS', 'NeurIPS_2023.json'), 'r', encoding='utf-8') as f:\n",
    "    data = json.load(f)\n",
    "for entry in data:\n",
    "    if entry['id'] == 'kaHpo8OZw2':\n",
    "        save_json([entry], 'data/emb/NeurIPS/2023/20250603_1057/tmp.json')\n",
    "        break"
   ],
   "id": "d65e7d3013490847",
   "outputs": [],
   "execution_count": 4
  },
  {
   "metadata": {},
   "cell_type": "code",
   "outputs": [],
   "execution_count": null,
   "source": [
    "import os\n",
    "print(\"Current working directory:\", os.getcwd())\n"
   ],
   "id": "f578a4a43c0fd3d9"
  },
  {
   "metadata": {},
   "cell_type": "code",
   "outputs": [],
   "execution_count": null,
   "source": "print(\"API KEY:\", os.getenv(\"OPENAI_API_KEY\"))\n",
   "id": "f19b07c79b382cbc"
  },
  {
   "metadata": {},
   "cell_type": "code",
   "outputs": [],
   "execution_count": null,
   "source": "",
   "id": "10de2eda30f2c507"
  },
  {
   "metadata": {
    "ExecuteTime": {
     "end_time": "2025-05-13T20:02:27.590680Z",
     "start_time": "2025-05-13T20:02:27.274417Z"
    }
   },
   "cell_type": "code",
   "source": [
    "import pandas as pd\n",
    "import os\n",
    "import json\n",
    "import fitz\n",
    "from tqdm import tqdm"
   ],
   "id": "8d4c2d4bd210f7e2",
   "outputs": [],
   "execution_count": 2
  },
  {
   "metadata": {
    "ExecuteTime": {
     "end_time": "2025-05-13T20:11:10.620595Z",
     "start_time": "2025-05-13T20:11:10.617816Z"
    }
   },
   "cell_type": "code",
   "source": [
    "def extract_text_from_pdf(pdf_path):\n",
    "    try:\n",
    "        doc = fitz.open(pdf_path)\n",
    "        text = \"\"\n",
    "        for page in doc:\n",
    "            text += page.get_text()\n",
    "        return text\n",
    "    except Exception as e:\n",
    "        print(f\"Error processing {pdf_path}: {str(e)}\")\n",
    "        return \"\""
   ],
   "id": "e5968c16715c695",
   "outputs": [],
   "execution_count": 8
  },
  {
   "metadata": {
    "ExecuteTime": {
     "end_time": "2025-05-13T20:22:12.008995Z",
     "start_time": "2025-05-13T20:21:42.316339Z"
    }
   },
   "cell_type": "code",
   "source": [
    "# Read metadata\n",
    "df = pd.read_csv('./data/metadata/ICLR_2021_2024.csv')\n",
    "\n",
    "# Create unified text directory if it doesn't exist\n",
    "os.makedirs('./data/unified_text/ICLR', exist_ok=True)\n",
    "\n",
    "# Process each year\n",
    "# years = range(2021, 2025)\n",
    "years = [2024]\n",
    "for year in years:\n",
    "    year_data = []\n",
    "    year_df = df[df['year'] == year]\n",
    "\n",
    "    for _, row in tqdm(year_df.iterrows(), total=len(year_df)):\n",
    "        paper_id = row['id']\n",
    "        title = row['title']\n",
    "        txt_path = f'./data/txts/ICLR_2021_2024/{title}.txt'\n",
    "        pdf_path = f'./data/pdfs/ICLR_2021_2024/{title}.pdf'\n",
    "\n",
    "        paper_dict = row.to_dict()\n",
    "\n",
    "        # Try to get text from txt file first\n",
    "        if os.path.exists(txt_path):\n",
    "            with open(txt_path, 'r', encoding='utf-8') as f:\n",
    "                paper_dict['text'] = f.read()\n",
    "        # If txt doesn't exist, extract from PDF\n",
    "        elif os.path.exists(pdf_path):\n",
    "            paper_dict['text'] = extract_text_from_pdf(pdf_path)\n",
    "        else:\n",
    "            paper_dict['text'] = \"\"\n",
    "            print(f\"Neither txt nor pdf found for paper {paper_id}\")\n",
    "\n",
    "        year_data.append(paper_dict)\n",
    "\n",
    "    # Save to JSON\n",
    "    output_path = f'./data/unified_text/ICLR/ICLR_{year}.json'\n",
    "    with open(output_path, 'w', encoding='utf-8') as f:\n",
    "        json.dump(year_data, f, ensure_ascii=False, indent=2)\n"
   ],
   "id": "b067757079e3049e",
   "outputs": [
    {
     "name": "stderr",
     "output_type": "stream",
     "text": [
      "100%|██████████| 247/247 [00:28<00:00,  8.66it/s]\n",
      "100%|██████████| 86/86 [00:00<00:00, 102.87it/s]\n"
     ]
    }
   ],
   "execution_count": 16
  },
  {
   "metadata": {
    "ExecuteTime": {
     "end_time": "2025-05-13T19:41:25.793020Z",
     "start_time": "2025-05-13T19:41:25.632110Z"
    }
   },
   "cell_type": "code",
   "source": [
    "text = extract_text_from_pdf('./data/pdfs/ICLR_2021_2024/An Analytical Solution to Gauss-Newton Loss for Direct Image Alignment.pdf')\n",
    "with open(\"./data/unified_text/ICLR/ICLR_2024.json\", \"r\", encoding=\"utf-8\") as f:\n",
    "    data = json.load(f)\n",
    "for entry in data:\n",
    "    if entry['title'] == 'An Analytical Solution to Gauss-Newton Loss for Direct Image Alignment':\n",
    "        entry['text'] = text\n",
    "with open(\"./data/unified_text/ICLR/ICLR_2024.json\", \"w\", encoding=\"utf-8\") as f:\n",
    "    json.dump(data, f, ensure_ascii=False, indent=2)\n"
   ],
   "id": "4543f961585775c6",
   "outputs": [],
   "execution_count": 15
  },
  {
   "metadata": {
    "ExecuteTime": {
     "end_time": "2025-05-13T20:11:16.887011Z",
     "start_time": "2025-05-13T20:11:16.647474Z"
    }
   },
   "cell_type": "code",
   "source": [
    "# unify for neurips\n",
    "# Read metadata\n",
    "df = pd.read_csv('./data/metadata/neurips_2023_2024.csv')\n",
    "\n",
    "# Create unified text directory if it doesn't exist\n",
    "os.makedirs('./data/unified_text/NeurIPS', exist_ok=True)\n",
    "\n",
    "# Process each year\n",
    "years = range(2023, 2025)\n",
    "for year in years:\n",
    "    year_data = []\n",
    "    year_df = df[df['year'] == year]\n",
    "\n",
    "    for _, row in tqdm(year_df.iterrows(), total=len(year_df)):\n",
    "        paper_id = row['id']\n",
    "        title = row['title']\n",
    "        txt_path = f'./data/txts/neurips_2023_2024/{title}.txt'\n",
    "        pdf_path = f'./data/pdfs/neurips_23_24/{title}.pdf'\n",
    "\n",
    "        paper_dict = row.to_dict()\n",
    "\n",
    "        # Try to get text from txt file first\n",
    "        if os.path.exists(txt_path):\n",
    "            with open(txt_path, 'r', encoding='utf-8') as f:\n",
    "                paper_dict['text'] = f.read()\n",
    "        # If txt doesn't exist, extract from PDF\n",
    "        elif os.path.exists(pdf_path):\n",
    "            paper_dict['text'] = extract_text_from_pdf(pdf_path)\n",
    "        else:\n",
    "            paper_dict['text'] = \"\"\n",
    "            print(pdf_path)\n",
    "            print(f\"Neither txt nor pdf found for paper {paper_id}\")\n",
    "\n",
    "        year_data.append(paper_dict)\n",
    "\n",
    "    # Save to JSON\n",
    "    output_path = f'./data/unified_text/NeurIPS/{year}.json'\n",
    "    with open(output_path, 'w', encoding='utf-8') as f:\n",
    "        json.dump(year_data, f, ensure_ascii=False, indent=2)\n"
   ],
   "id": "69a249537e748361",
   "outputs": [
    {
     "name": "stderr",
     "output_type": "stream",
     "text": [
      "100%|██████████| 77/77 [00:00<00:00, 2208.22it/s]\n",
      "100%|██████████| 72/72 [00:00<00:00, 1984.57it/s]"
     ]
    },
    {
     "name": "stdout",
     "output_type": "stream",
     "text": [
      "./data/pdfs/neurips_23_24/The PRISM Alignment Dataset_ What Participatory, Representative and Individualised Human Feedback Reveals About the Subjective and Multicultural Alignment of Large Language Models.pdf\n",
      "Neither txt nor pdf found for paper DFr5hteojx\n"
     ]
    },
    {
     "name": "stderr",
     "output_type": "stream",
     "text": [
      "\n"
     ]
    }
   ],
   "execution_count": 9
  },
  {
   "metadata": {
    "ExecuteTime": {
     "end_time": "2025-05-13T20:22:54.091950Z",
     "start_time": "2025-05-13T20:22:52.989533Z"
    }
   },
   "cell_type": "code",
   "source": [
    "text = extract_text_from_pdf('./data/pdfs/neurips_23_24/The PRISM Alignment Dataset_ What Participatory, Representative and Individualised Human Feedback Reveals About the Subjective and Multicultural Alignment of Large L.pdf')\n",
    "with open(\"data/unified_text/NeurIPS/NeurIPS_2024.json\", \"r\", encoding=\"utf-8\") as f:\n",
    "    data = json.load(f)\n",
    "for entry in data:\n",
    "    if entry['title'] == 'The PRISM Alignment Dataset_ What Participatory, Representative and Individualised Human Feedback Reveals About the Subjective and Multicultural Alignment of Large Language Models':\n",
    "        entry['text'] = text\n",
    "        print('success')\n",
    "with open(\"data/unified_text/NeurIPS/NeurIPS_2024.json\", \"w\", encoding=\"utf-8\") as f:\n",
    "    json.dump(data, f, ensure_ascii=False, indent=2)\n"
   ],
   "id": "266e259a9f2e91e",
   "outputs": [
    {
     "name": "stdout",
     "output_type": "stream",
     "text": [
      "success\n"
     ]
    }
   ],
   "execution_count": 17
  },
  {
   "metadata": {
    "ExecuteTime": {
     "end_time": "2025-05-13T20:25:39.046487Z",
     "start_time": "2025-05-13T20:25:38.623303Z"
    }
   },
   "cell_type": "code",
   "source": [
    "import pandas as pd\n",
    "df = pd.read_csv('./data/metadata/ICLR_2021_2024.csv')\n",
    "df = df[df['year'] == 2024]\n",
    "print(df.shape)\n",
    "\n",
    "with open(\"./data/unified_text/ICLR/ICLR_2024.json\", \"r\", encoding=\"utf-8\") as f:\n",
    "    data = json.load(f)\n",
    "\n",
    "count = 0\n",
    "miss_content = 0\n",
    "for entry in data:\n",
    "    count += 1\n",
    "    if entry['text'] == '':\n",
    "        miss_content += 1\n",
    "        print(entry['title'])\n",
    "print(count)\n",
    "print(miss_content)"
   ],
   "id": "49a322a0526e8cb3",
   "outputs": [
    {
     "name": "stdout",
     "output_type": "stream",
     "text": [
      "(86, 11)\n",
      "86\n",
      "0\n"
     ]
    }
   ],
   "execution_count": 26
  },
  {
   "metadata": {
    "ExecuteTime": {
     "end_time": "2025-05-14T15:54:20.858916Z",
     "start_time": "2025-05-14T15:49:11.731835Z"
    }
   },
   "cell_type": "code",
   "source": [
    "from sentence_transformers import SentenceTransformer\n",
    "\n",
    "model = SentenceTransformer(\"Alibaba-NLP/gte-Qwen2-7B-instruct\", trust_remote_code=True)\n",
    "# In case you want to reduce the maximum length:\n",
    "model.max_seq_length = 8192\n",
    "\n",
    "doc1 = \"As a general guideline, the CDC's average requirement of protein for women ages 19 to 70 is 46 grams per day. But, as you can see from this chart, you'll need to increase that if you're expecting or training for a marathon. Check out the chart below to see how much protein you should be eating each day.\"\n",
    "\n",
    "doc2 = \"Definition of summit for English Language Learners. : 1  the highest point of a mountain : the top of a mountain. : 2  the highest level. : 3  a meeting or series of meetings between the leaders of two or more governments.\"\n",
    "\n",
    "\n",
    "\n",
    "doc1_emb = model.encode(doc1)\n",
    "doc2_emb = model.encode(doc2)\n",
    "\n",
    "score = (doc1_emb @ doc2_emb.T) * 100\n",
    "\n",
    "\n",
    "print(score.tolist())\n"
   ],
   "id": "fec346ee15d81d9e",
   "outputs": [
    {
     "name": "stderr",
     "output_type": "stream",
     "text": [
      "C:\\Users\\tiend\\PycharmProjects\\Fair-Conference-Scheduling\\.venv\\Lib\\site-packages\\tqdm\\auto.py:21: TqdmWarning: IProgress not found. Please update jupyter and ipywidgets. See https://ipywidgets.readthedocs.io/en/stable/user_install.html\n",
      "  from .autonotebook import tqdm as notebook_tqdm\n",
      "C:\\Users\\tiend\\PycharmProjects\\Fair-Conference-Scheduling\\.venv\\Lib\\site-packages\\huggingface_hub\\file_download.py:143: UserWarning: `huggingface_hub` cache-system uses symlinks by default to efficiently store duplicated files but your machine does not support them in C:\\Users\\tiend\\.cache\\huggingface\\hub\\models--Alibaba-NLP--gte-Qwen2-7B-instruct. Caching files will still work but in a degraded version that might require more space on your disk. This warning can be disabled by setting the `HF_HUB_DISABLE_SYMLINKS_WARNING` environment variable. For more details, see https://huggingface.co/docs/huggingface_hub/how-to-cache#limitations.\n",
      "To support symlinks on Windows, you either need to activate Developer Mode or to run Python as an administrator. In order to activate developer mode, see this article: https://docs.microsoft.com/en-us/windows/apps/get-started/enable-your-device-for-development\n",
      "  warnings.warn(message)\n",
      "A new version of the following files was downloaded from https://huggingface.co/Alibaba-NLP/gte-Qwen2-7B-instruct:\n",
      "- modeling_qwen.py\n",
      ". Make sure to double-check they do not contain any added malicious code. To avoid downloading new versions of the code file, you can pin a revision.\n",
      "Fetching 7 files:   0%|          | 0/7 [04:34<?, ?it/s]\n"
     ]
    },
    {
     "ename": "KeyboardInterrupt",
     "evalue": "",
     "output_type": "error",
     "traceback": [
      "\u001B[31m---------------------------------------------------------------------------\u001B[39m",
      "\u001B[31mKeyboardInterrupt\u001B[39m                         Traceback (most recent call last)",
      "\u001B[36mCell\u001B[39m\u001B[36m \u001B[39m\u001B[32mIn[1]\u001B[39m\u001B[32m, line 3\u001B[39m\n\u001B[32m      1\u001B[39m \u001B[38;5;28;01mfrom\u001B[39;00m\u001B[38;5;250m \u001B[39m\u001B[34;01msentence_transformers\u001B[39;00m\u001B[38;5;250m \u001B[39m\u001B[38;5;28;01mimport\u001B[39;00m SentenceTransformer\n\u001B[32m----> \u001B[39m\u001B[32m3\u001B[39m model = \u001B[43mSentenceTransformer\u001B[49m\u001B[43m(\u001B[49m\u001B[33;43m\"\u001B[39;49m\u001B[33;43mAlibaba-NLP/gte-Qwen2-7B-instruct\u001B[39;49m\u001B[33;43m\"\u001B[39;49m\u001B[43m,\u001B[49m\u001B[43m \u001B[49m\u001B[43mtrust_remote_code\u001B[49m\u001B[43m=\u001B[49m\u001B[38;5;28;43;01mTrue\u001B[39;49;00m\u001B[43m)\u001B[49m\n\u001B[32m      4\u001B[39m \u001B[38;5;66;03m# In case you want to reduce the maximum length:\u001B[39;00m\n\u001B[32m      5\u001B[39m model.max_seq_length = \u001B[32m8192\u001B[39m\n",
      "\u001B[36mFile \u001B[39m\u001B[32m~\\PycharmProjects\\Fair-Conference-Scheduling\\.venv\\Lib\\site-packages\\sentence_transformers\\SentenceTransformer.py:309\u001B[39m, in \u001B[36mSentenceTransformer.__init__\u001B[39m\u001B[34m(self, model_name_or_path, modules, device, prompts, default_prompt_name, similarity_fn_name, cache_folder, trust_remote_code, revision, local_files_only, token, use_auth_token, truncate_dim, model_kwargs, tokenizer_kwargs, config_kwargs, model_card_data, backend)\u001B[39m\n\u001B[32m    300\u001B[39m         model_name_or_path = __MODEL_HUB_ORGANIZATION__ + \u001B[33m\"\u001B[39m\u001B[33m/\u001B[39m\u001B[33m\"\u001B[39m + model_name_or_path\n\u001B[32m    302\u001B[39m \u001B[38;5;28;01mif\u001B[39;00m is_sentence_transformer_model(\n\u001B[32m    303\u001B[39m     model_name_or_path,\n\u001B[32m    304\u001B[39m     token,\n\u001B[32m   (...)\u001B[39m\u001B[32m    307\u001B[39m     local_files_only=local_files_only,\n\u001B[32m    308\u001B[39m ):\n\u001B[32m--> \u001B[39m\u001B[32m309\u001B[39m     modules, \u001B[38;5;28mself\u001B[39m.module_kwargs = \u001B[38;5;28;43mself\u001B[39;49m\u001B[43m.\u001B[49m\u001B[43m_load_sbert_model\u001B[49m\u001B[43m(\u001B[49m\n\u001B[32m    310\u001B[39m \u001B[43m        \u001B[49m\u001B[43mmodel_name_or_path\u001B[49m\u001B[43m,\u001B[49m\n\u001B[32m    311\u001B[39m \u001B[43m        \u001B[49m\u001B[43mtoken\u001B[49m\u001B[43m=\u001B[49m\u001B[43mtoken\u001B[49m\u001B[43m,\u001B[49m\n\u001B[32m    312\u001B[39m \u001B[43m        \u001B[49m\u001B[43mcache_folder\u001B[49m\u001B[43m=\u001B[49m\u001B[43mcache_folder\u001B[49m\u001B[43m,\u001B[49m\n\u001B[32m    313\u001B[39m \u001B[43m        \u001B[49m\u001B[43mrevision\u001B[49m\u001B[43m=\u001B[49m\u001B[43mrevision\u001B[49m\u001B[43m,\u001B[49m\n\u001B[32m    314\u001B[39m \u001B[43m        \u001B[49m\u001B[43mtrust_remote_code\u001B[49m\u001B[43m=\u001B[49m\u001B[43mtrust_remote_code\u001B[49m\u001B[43m,\u001B[49m\n\u001B[32m    315\u001B[39m \u001B[43m        \u001B[49m\u001B[43mlocal_files_only\u001B[49m\u001B[43m=\u001B[49m\u001B[43mlocal_files_only\u001B[49m\u001B[43m,\u001B[49m\n\u001B[32m    316\u001B[39m \u001B[43m        \u001B[49m\u001B[43mmodel_kwargs\u001B[49m\u001B[43m=\u001B[49m\u001B[43mmodel_kwargs\u001B[49m\u001B[43m,\u001B[49m\n\u001B[32m    317\u001B[39m \u001B[43m        \u001B[49m\u001B[43mtokenizer_kwargs\u001B[49m\u001B[43m=\u001B[49m\u001B[43mtokenizer_kwargs\u001B[49m\u001B[43m,\u001B[49m\n\u001B[32m    318\u001B[39m \u001B[43m        \u001B[49m\u001B[43mconfig_kwargs\u001B[49m\u001B[43m=\u001B[49m\u001B[43mconfig_kwargs\u001B[49m\u001B[43m,\u001B[49m\n\u001B[32m    319\u001B[39m \u001B[43m    \u001B[49m\u001B[43m)\u001B[49m\n\u001B[32m    320\u001B[39m \u001B[38;5;28;01melse\u001B[39;00m:\n\u001B[32m    321\u001B[39m     modules = \u001B[38;5;28mself\u001B[39m._load_auto_model(\n\u001B[32m    322\u001B[39m         model_name_or_path,\n\u001B[32m    323\u001B[39m         token=token,\n\u001B[32m   (...)\u001B[39m\u001B[32m    330\u001B[39m         config_kwargs=config_kwargs,\n\u001B[32m    331\u001B[39m     )\n",
      "\u001B[36mFile \u001B[39m\u001B[32m~\\PycharmProjects\\Fair-Conference-Scheduling\\.venv\\Lib\\site-packages\\sentence_transformers\\SentenceTransformer.py:1808\u001B[39m, in \u001B[36mSentenceTransformer._load_sbert_model\u001B[39m\u001B[34m(self, model_name_or_path, token, cache_folder, revision, trust_remote_code, local_files_only, model_kwargs, tokenizer_kwargs, config_kwargs)\u001B[39m\n\u001B[32m   1805\u001B[39m \u001B[38;5;66;03m# Try to initialize the module with a lot of kwargs, but only if the module supports them\u001B[39;00m\n\u001B[32m   1806\u001B[39m \u001B[38;5;66;03m# Otherwise we fall back to the load method\u001B[39;00m\n\u001B[32m   1807\u001B[39m \u001B[38;5;28;01mtry\u001B[39;00m:\n\u001B[32m-> \u001B[39m\u001B[32m1808\u001B[39m     module = \u001B[43mmodule_class\u001B[49m\u001B[43m(\u001B[49m\u001B[43mmodel_name_or_path\u001B[49m\u001B[43m,\u001B[49m\u001B[43m \u001B[49m\u001B[43mcache_dir\u001B[49m\u001B[43m=\u001B[49m\u001B[43mcache_folder\u001B[49m\u001B[43m,\u001B[49m\u001B[43m \u001B[49m\u001B[43mbackend\u001B[49m\u001B[43m=\u001B[49m\u001B[38;5;28;43mself\u001B[39;49m\u001B[43m.\u001B[49m\u001B[43mbackend\u001B[49m\u001B[43m,\u001B[49m\u001B[43m \u001B[49m\u001B[43m*\u001B[49m\u001B[43m*\u001B[49m\u001B[43mkwargs\u001B[49m\u001B[43m)\u001B[49m\n\u001B[32m   1809\u001B[39m \u001B[38;5;28;01mexcept\u001B[39;00m \u001B[38;5;167;01mTypeError\u001B[39;00m:\n\u001B[32m   1810\u001B[39m     module = module_class.load(model_name_or_path)\n",
      "\u001B[36mFile \u001B[39m\u001B[32m~\\PycharmProjects\\Fair-Conference-Scheduling\\.venv\\Lib\\site-packages\\sentence_transformers\\models\\Transformer.py:81\u001B[39m, in \u001B[36mTransformer.__init__\u001B[39m\u001B[34m(self, model_name_or_path, max_seq_length, model_args, tokenizer_args, config_args, cache_dir, do_lower_case, tokenizer_name_or_path, backend)\u001B[39m\n\u001B[32m     78\u001B[39m     config_args = {}\n\u001B[32m     80\u001B[39m config, is_peft_model = \u001B[38;5;28mself\u001B[39m._load_config(model_name_or_path, cache_dir, backend, config_args)\n\u001B[32m---> \u001B[39m\u001B[32m81\u001B[39m \u001B[38;5;28;43mself\u001B[39;49m\u001B[43m.\u001B[49m\u001B[43m_load_model\u001B[49m\u001B[43m(\u001B[49m\u001B[43mmodel_name_or_path\u001B[49m\u001B[43m,\u001B[49m\u001B[43m \u001B[49m\u001B[43mconfig\u001B[49m\u001B[43m,\u001B[49m\u001B[43m \u001B[49m\u001B[43mcache_dir\u001B[49m\u001B[43m,\u001B[49m\u001B[43m \u001B[49m\u001B[43mbackend\u001B[49m\u001B[43m,\u001B[49m\u001B[43m \u001B[49m\u001B[43mis_peft_model\u001B[49m\u001B[43m,\u001B[49m\u001B[43m \u001B[49m\u001B[43m*\u001B[49m\u001B[43m*\u001B[49m\u001B[43mmodel_args\u001B[49m\u001B[43m)\u001B[49m\n\u001B[32m     83\u001B[39m \u001B[38;5;28;01mif\u001B[39;00m max_seq_length \u001B[38;5;129;01mis\u001B[39;00m \u001B[38;5;129;01mnot\u001B[39;00m \u001B[38;5;28;01mNone\u001B[39;00m \u001B[38;5;129;01mand\u001B[39;00m \u001B[33m\"\u001B[39m\u001B[33mmodel_max_length\u001B[39m\u001B[33m\"\u001B[39m \u001B[38;5;129;01mnot\u001B[39;00m \u001B[38;5;129;01min\u001B[39;00m tokenizer_args:\n\u001B[32m     84\u001B[39m     tokenizer_args[\u001B[33m\"\u001B[39m\u001B[33mmodel_max_length\u001B[39m\u001B[33m\"\u001B[39m] = max_seq_length\n",
      "\u001B[36mFile \u001B[39m\u001B[32m~\\PycharmProjects\\Fair-Conference-Scheduling\\.venv\\Lib\\site-packages\\sentence_transformers\\models\\Transformer.py:181\u001B[39m, in \u001B[36mTransformer._load_model\u001B[39m\u001B[34m(self, model_name_or_path, config, cache_dir, backend, is_peft_model, **model_args)\u001B[39m\n\u001B[32m    179\u001B[39m     \u001B[38;5;28mself\u001B[39m._load_mt5_model(model_name_or_path, config, cache_dir, **model_args)\n\u001B[32m    180\u001B[39m \u001B[38;5;28;01melse\u001B[39;00m:\n\u001B[32m--> \u001B[39m\u001B[32m181\u001B[39m     \u001B[38;5;28mself\u001B[39m.auto_model = \u001B[43mAutoModel\u001B[49m\u001B[43m.\u001B[49m\u001B[43mfrom_pretrained\u001B[49m\u001B[43m(\u001B[49m\n\u001B[32m    182\u001B[39m \u001B[43m        \u001B[49m\u001B[43mmodel_name_or_path\u001B[49m\u001B[43m,\u001B[49m\u001B[43m \u001B[49m\u001B[43mconfig\u001B[49m\u001B[43m=\u001B[49m\u001B[43mconfig\u001B[49m\u001B[43m,\u001B[49m\u001B[43m \u001B[49m\u001B[43mcache_dir\u001B[49m\u001B[43m=\u001B[49m\u001B[43mcache_dir\u001B[49m\u001B[43m,\u001B[49m\u001B[43m \u001B[49m\u001B[43m*\u001B[49m\u001B[43m*\u001B[49m\u001B[43mmodel_args\u001B[49m\n\u001B[32m    183\u001B[39m \u001B[43m    \u001B[49m\u001B[43m)\u001B[49m\n\u001B[32m    185\u001B[39m \u001B[38;5;28;01mif\u001B[39;00m is_peft_model:\n\u001B[32m    186\u001B[39m     \u001B[38;5;28mself\u001B[39m._load_peft_model(model_name_or_path, config, cache_dir, **model_args, **adapter_only_kwargs)\n",
      "\u001B[36mFile \u001B[39m\u001B[32m~\\PycharmProjects\\Fair-Conference-Scheduling\\.venv\\Lib\\site-packages\\transformers\\models\\auto\\auto_factory.py:564\u001B[39m, in \u001B[36m_BaseAutoModelClass.from_pretrained\u001B[39m\u001B[34m(cls, pretrained_model_name_or_path, *model_args, **kwargs)\u001B[39m\n\u001B[32m    562\u001B[39m     \u001B[38;5;28mcls\u001B[39m.register(config.\u001B[34m__class__\u001B[39m, model_class, exist_ok=\u001B[38;5;28;01mTrue\u001B[39;00m)\n\u001B[32m    563\u001B[39m     model_class = add_generation_mixin_to_remote_model(model_class)\n\u001B[32m--> \u001B[39m\u001B[32m564\u001B[39m     \u001B[38;5;28;01mreturn\u001B[39;00m \u001B[43mmodel_class\u001B[49m\u001B[43m.\u001B[49m\u001B[43mfrom_pretrained\u001B[49m\u001B[43m(\u001B[49m\n\u001B[32m    565\u001B[39m \u001B[43m        \u001B[49m\u001B[43mpretrained_model_name_or_path\u001B[49m\u001B[43m,\u001B[49m\u001B[43m \u001B[49m\u001B[43m*\u001B[49m\u001B[43mmodel_args\u001B[49m\u001B[43m,\u001B[49m\u001B[43m \u001B[49m\u001B[43mconfig\u001B[49m\u001B[43m=\u001B[49m\u001B[43mconfig\u001B[49m\u001B[43m,\u001B[49m\u001B[43m \u001B[49m\u001B[43m*\u001B[49m\u001B[43m*\u001B[49m\u001B[43mhub_kwargs\u001B[49m\u001B[43m,\u001B[49m\u001B[43m \u001B[49m\u001B[43m*\u001B[49m\u001B[43m*\u001B[49m\u001B[43mkwargs\u001B[49m\n\u001B[32m    566\u001B[39m \u001B[43m    \u001B[49m\u001B[43m)\u001B[49m\n\u001B[32m    567\u001B[39m \u001B[38;5;28;01melif\u001B[39;00m \u001B[38;5;28mtype\u001B[39m(config) \u001B[38;5;129;01min\u001B[39;00m \u001B[38;5;28mcls\u001B[39m._model_mapping.keys():\n\u001B[32m    568\u001B[39m     model_class = _get_model_class(config, \u001B[38;5;28mcls\u001B[39m._model_mapping)\n",
      "\u001B[36mFile \u001B[39m\u001B[32m~\\PycharmProjects\\Fair-Conference-Scheduling\\.venv\\Lib\\site-packages\\transformers\\modeling_utils.py:279\u001B[39m, in \u001B[36mrestore_default_torch_dtype.<locals>._wrapper\u001B[39m\u001B[34m(*args, **kwargs)\u001B[39m\n\u001B[32m    277\u001B[39m old_dtype = torch.get_default_dtype()\n\u001B[32m    278\u001B[39m \u001B[38;5;28;01mtry\u001B[39;00m:\n\u001B[32m--> \u001B[39m\u001B[32m279\u001B[39m     \u001B[38;5;28;01mreturn\u001B[39;00m \u001B[43mfunc\u001B[49m\u001B[43m(\u001B[49m\u001B[43m*\u001B[49m\u001B[43margs\u001B[49m\u001B[43m,\u001B[49m\u001B[43m \u001B[49m\u001B[43m*\u001B[49m\u001B[43m*\u001B[49m\u001B[43mkwargs\u001B[49m\u001B[43m)\u001B[49m\n\u001B[32m    280\u001B[39m \u001B[38;5;28;01mfinally\u001B[39;00m:\n\u001B[32m    281\u001B[39m     torch.set_default_dtype(old_dtype)\n",
      "\u001B[36mFile \u001B[39m\u001B[32m~\\PycharmProjects\\Fair-Conference-Scheduling\\.venv\\Lib\\site-packages\\transformers\\modeling_utils.py:4260\u001B[39m, in \u001B[36mPreTrainedModel.from_pretrained\u001B[39m\u001B[34m(cls, pretrained_model_name_or_path, config, cache_dir, ignore_mismatched_sizes, force_download, local_files_only, token, revision, use_safetensors, weights_only, *model_args, **kwargs)\u001B[39m\n\u001B[32m   4250\u001B[39m \u001B[38;5;28;01mif\u001B[39;00m (\n\u001B[32m   4251\u001B[39m     gguf_file\n\u001B[32m   4252\u001B[39m     \u001B[38;5;129;01mand\u001B[39;00m device_map \u001B[38;5;129;01mis\u001B[39;00m \u001B[38;5;129;01mnot\u001B[39;00m \u001B[38;5;28;01mNone\u001B[39;00m\n\u001B[32m   4253\u001B[39m     \u001B[38;5;129;01mand\u001B[39;00m ((\u001B[38;5;28misinstance\u001B[39m(device_map, \u001B[38;5;28mdict\u001B[39m) \u001B[38;5;129;01mand\u001B[39;00m \u001B[33m\"\u001B[39m\u001B[33mdisk\u001B[39m\u001B[33m\"\u001B[39m \u001B[38;5;129;01min\u001B[39;00m device_map.values()) \u001B[38;5;129;01mor\u001B[39;00m \u001B[33m\"\u001B[39m\u001B[33mdisk\u001B[39m\u001B[33m\"\u001B[39m \u001B[38;5;129;01min\u001B[39;00m device_map)\n\u001B[32m   4254\u001B[39m ):\n\u001B[32m   4255\u001B[39m     \u001B[38;5;28;01mraise\u001B[39;00m \u001B[38;5;167;01mRuntimeError\u001B[39;00m(\n\u001B[32m   4256\u001B[39m         \u001B[33m\"\u001B[39m\u001B[33mOne or more modules is configured to be mapped to disk. Disk offload is not supported for models \u001B[39m\u001B[33m\"\u001B[39m\n\u001B[32m   4257\u001B[39m         \u001B[33m\"\u001B[39m\u001B[33mloaded from GGUF files.\u001B[39m\u001B[33m\"\u001B[39m\n\u001B[32m   4258\u001B[39m     )\n\u001B[32m-> \u001B[39m\u001B[32m4260\u001B[39m checkpoint_files, sharded_metadata = \u001B[43m_get_resolved_checkpoint_files\u001B[49m\u001B[43m(\u001B[49m\n\u001B[32m   4261\u001B[39m \u001B[43m    \u001B[49m\u001B[43mpretrained_model_name_or_path\u001B[49m\u001B[43m=\u001B[49m\u001B[43mpretrained_model_name_or_path\u001B[49m\u001B[43m,\u001B[49m\n\u001B[32m   4262\u001B[39m \u001B[43m    \u001B[49m\u001B[43msubfolder\u001B[49m\u001B[43m=\u001B[49m\u001B[43msubfolder\u001B[49m\u001B[43m,\u001B[49m\n\u001B[32m   4263\u001B[39m \u001B[43m    \u001B[49m\u001B[43mvariant\u001B[49m\u001B[43m=\u001B[49m\u001B[43mvariant\u001B[49m\u001B[43m,\u001B[49m\n\u001B[32m   4264\u001B[39m \u001B[43m    \u001B[49m\u001B[43mgguf_file\u001B[49m\u001B[43m=\u001B[49m\u001B[43mgguf_file\u001B[49m\u001B[43m,\u001B[49m\n\u001B[32m   4265\u001B[39m \u001B[43m    \u001B[49m\u001B[43mfrom_tf\u001B[49m\u001B[43m=\u001B[49m\u001B[43mfrom_tf\u001B[49m\u001B[43m,\u001B[49m\n\u001B[32m   4266\u001B[39m \u001B[43m    \u001B[49m\u001B[43mfrom_flax\u001B[49m\u001B[43m=\u001B[49m\u001B[43mfrom_flax\u001B[49m\u001B[43m,\u001B[49m\n\u001B[32m   4267\u001B[39m \u001B[43m    \u001B[49m\u001B[43muse_safetensors\u001B[49m\u001B[43m=\u001B[49m\u001B[43muse_safetensors\u001B[49m\u001B[43m,\u001B[49m\n\u001B[32m   4268\u001B[39m \u001B[43m    \u001B[49m\u001B[43mcache_dir\u001B[49m\u001B[43m=\u001B[49m\u001B[43mcache_dir\u001B[49m\u001B[43m,\u001B[49m\n\u001B[32m   4269\u001B[39m \u001B[43m    \u001B[49m\u001B[43mforce_download\u001B[49m\u001B[43m=\u001B[49m\u001B[43mforce_download\u001B[49m\u001B[43m,\u001B[49m\n\u001B[32m   4270\u001B[39m \u001B[43m    \u001B[49m\u001B[43mproxies\u001B[49m\u001B[43m=\u001B[49m\u001B[43mproxies\u001B[49m\u001B[43m,\u001B[49m\n\u001B[32m   4271\u001B[39m \u001B[43m    \u001B[49m\u001B[43mlocal_files_only\u001B[49m\u001B[43m=\u001B[49m\u001B[43mlocal_files_only\u001B[49m\u001B[43m,\u001B[49m\n\u001B[32m   4272\u001B[39m \u001B[43m    \u001B[49m\u001B[43mtoken\u001B[49m\u001B[43m=\u001B[49m\u001B[43mtoken\u001B[49m\u001B[43m,\u001B[49m\n\u001B[32m   4273\u001B[39m \u001B[43m    \u001B[49m\u001B[43muser_agent\u001B[49m\u001B[43m=\u001B[49m\u001B[43muser_agent\u001B[49m\u001B[43m,\u001B[49m\n\u001B[32m   4274\u001B[39m \u001B[43m    \u001B[49m\u001B[43mrevision\u001B[49m\u001B[43m=\u001B[49m\u001B[43mrevision\u001B[49m\u001B[43m,\u001B[49m\n\u001B[32m   4275\u001B[39m \u001B[43m    \u001B[49m\u001B[43mcommit_hash\u001B[49m\u001B[43m=\u001B[49m\u001B[43mcommit_hash\u001B[49m\u001B[43m,\u001B[49m\n\u001B[32m   4276\u001B[39m \u001B[43m\u001B[49m\u001B[43m)\u001B[49m\n\u001B[32m   4278\u001B[39m is_sharded = sharded_metadata \u001B[38;5;129;01mis\u001B[39;00m \u001B[38;5;129;01mnot\u001B[39;00m \u001B[38;5;28;01mNone\u001B[39;00m\n\u001B[32m   4279\u001B[39m is_quantized = hf_quantizer \u001B[38;5;129;01mis\u001B[39;00m \u001B[38;5;129;01mnot\u001B[39;00m \u001B[38;5;28;01mNone\u001B[39;00m\n",
      "\u001B[36mFile \u001B[39m\u001B[32m~\\PycharmProjects\\Fair-Conference-Scheduling\\.venv\\Lib\\site-packages\\transformers\\modeling_utils.py:1152\u001B[39m, in \u001B[36m_get_resolved_checkpoint_files\u001B[39m\u001B[34m(pretrained_model_name_or_path, subfolder, variant, gguf_file, from_tf, from_flax, use_safetensors, cache_dir, force_download, proxies, local_files_only, token, user_agent, revision, commit_hash)\u001B[39m\n\u001B[32m   1150\u001B[39m sharded_metadata = \u001B[38;5;28;01mNone\u001B[39;00m\n\u001B[32m   1151\u001B[39m \u001B[38;5;28;01mif\u001B[39;00m is_sharded:\n\u001B[32m-> \u001B[39m\u001B[32m1152\u001B[39m     checkpoint_files, sharded_metadata = \u001B[43mget_checkpoint_shard_files\u001B[49m\u001B[43m(\u001B[49m\n\u001B[32m   1153\u001B[39m \u001B[43m        \u001B[49m\u001B[43mpretrained_model_name_or_path\u001B[49m\u001B[43m,\u001B[49m\n\u001B[32m   1154\u001B[39m \u001B[43m        \u001B[49m\u001B[43mresolved_archive_file\u001B[49m\u001B[43m,\u001B[49m\n\u001B[32m   1155\u001B[39m \u001B[43m        \u001B[49m\u001B[43mcache_dir\u001B[49m\u001B[43m=\u001B[49m\u001B[43mcache_dir\u001B[49m\u001B[43m,\u001B[49m\n\u001B[32m   1156\u001B[39m \u001B[43m        \u001B[49m\u001B[43mforce_download\u001B[49m\u001B[43m=\u001B[49m\u001B[43mforce_download\u001B[49m\u001B[43m,\u001B[49m\n\u001B[32m   1157\u001B[39m \u001B[43m        \u001B[49m\u001B[43mproxies\u001B[49m\u001B[43m=\u001B[49m\u001B[43mproxies\u001B[49m\u001B[43m,\u001B[49m\n\u001B[32m   1158\u001B[39m \u001B[43m        \u001B[49m\u001B[43mlocal_files_only\u001B[49m\u001B[43m=\u001B[49m\u001B[43mlocal_files_only\u001B[49m\u001B[43m,\u001B[49m\n\u001B[32m   1159\u001B[39m \u001B[43m        \u001B[49m\u001B[43mtoken\u001B[49m\u001B[43m=\u001B[49m\u001B[43mtoken\u001B[49m\u001B[43m,\u001B[49m\n\u001B[32m   1160\u001B[39m \u001B[43m        \u001B[49m\u001B[43muser_agent\u001B[49m\u001B[43m=\u001B[49m\u001B[43muser_agent\u001B[49m\u001B[43m,\u001B[49m\n\u001B[32m   1161\u001B[39m \u001B[43m        \u001B[49m\u001B[43mrevision\u001B[49m\u001B[43m=\u001B[49m\u001B[43mrevision\u001B[49m\u001B[43m,\u001B[49m\n\u001B[32m   1162\u001B[39m \u001B[43m        \u001B[49m\u001B[43msubfolder\u001B[49m\u001B[43m=\u001B[49m\u001B[43msubfolder\u001B[49m\u001B[43m,\u001B[49m\n\u001B[32m   1163\u001B[39m \u001B[43m        \u001B[49m\u001B[43m_commit_hash\u001B[49m\u001B[43m=\u001B[49m\u001B[43mcommit_hash\u001B[49m\u001B[43m,\u001B[49m\n\u001B[32m   1164\u001B[39m \u001B[43m    \u001B[49m\u001B[43m)\u001B[49m\n\u001B[32m   1165\u001B[39m \u001B[38;5;28;01melse\u001B[39;00m:\n\u001B[32m   1166\u001B[39m     checkpoint_files = [resolved_archive_file] \u001B[38;5;28;01mif\u001B[39;00m pretrained_model_name_or_path \u001B[38;5;129;01mis\u001B[39;00m \u001B[38;5;129;01mnot\u001B[39;00m \u001B[38;5;28;01mNone\u001B[39;00m \u001B[38;5;28;01melse\u001B[39;00m \u001B[38;5;28;01mNone\u001B[39;00m\n",
      "\u001B[36mFile \u001B[39m\u001B[32m~\\PycharmProjects\\Fair-Conference-Scheduling\\.venv\\Lib\\site-packages\\transformers\\utils\\hub.py:1115\u001B[39m, in \u001B[36mget_checkpoint_shard_files\u001B[39m\u001B[34m(pretrained_model_name_or_path, index_filename, cache_dir, force_download, proxies, resume_download, local_files_only, token, user_agent, revision, subfolder, _commit_hash, **deprecated_kwargs)\u001B[39m\n\u001B[32m   1111\u001B[39m     \u001B[38;5;28;01mreturn\u001B[39;00m shard_filenames, sharded_metadata\n\u001B[32m   1113\u001B[39m \u001B[38;5;66;03m# At this stage pretrained_model_name_or_path is a model identifier on the Hub. Try to get everything from cache,\u001B[39;00m\n\u001B[32m   1114\u001B[39m \u001B[38;5;66;03m# or download the files\u001B[39;00m\n\u001B[32m-> \u001B[39m\u001B[32m1115\u001B[39m cached_filenames = \u001B[43mcached_files\u001B[49m\u001B[43m(\u001B[49m\n\u001B[32m   1116\u001B[39m \u001B[43m    \u001B[49m\u001B[43mpretrained_model_name_or_path\u001B[49m\u001B[43m,\u001B[49m\n\u001B[32m   1117\u001B[39m \u001B[43m    \u001B[49m\u001B[43mshard_filenames\u001B[49m\u001B[43m,\u001B[49m\n\u001B[32m   1118\u001B[39m \u001B[43m    \u001B[49m\u001B[43mcache_dir\u001B[49m\u001B[43m=\u001B[49m\u001B[43mcache_dir\u001B[49m\u001B[43m,\u001B[49m\n\u001B[32m   1119\u001B[39m \u001B[43m    \u001B[49m\u001B[43mforce_download\u001B[49m\u001B[43m=\u001B[49m\u001B[43mforce_download\u001B[49m\u001B[43m,\u001B[49m\n\u001B[32m   1120\u001B[39m \u001B[43m    \u001B[49m\u001B[43mproxies\u001B[49m\u001B[43m=\u001B[49m\u001B[43mproxies\u001B[49m\u001B[43m,\u001B[49m\n\u001B[32m   1121\u001B[39m \u001B[43m    \u001B[49m\u001B[43mresume_download\u001B[49m\u001B[43m=\u001B[49m\u001B[43mresume_download\u001B[49m\u001B[43m,\u001B[49m\n\u001B[32m   1122\u001B[39m \u001B[43m    \u001B[49m\u001B[43mlocal_files_only\u001B[49m\u001B[43m=\u001B[49m\u001B[43mlocal_files_only\u001B[49m\u001B[43m,\u001B[49m\n\u001B[32m   1123\u001B[39m \u001B[43m    \u001B[49m\u001B[43mtoken\u001B[49m\u001B[43m=\u001B[49m\u001B[43mtoken\u001B[49m\u001B[43m,\u001B[49m\n\u001B[32m   1124\u001B[39m \u001B[43m    \u001B[49m\u001B[43muser_agent\u001B[49m\u001B[43m=\u001B[49m\u001B[43muser_agent\u001B[49m\u001B[43m,\u001B[49m\n\u001B[32m   1125\u001B[39m \u001B[43m    \u001B[49m\u001B[43mrevision\u001B[49m\u001B[43m=\u001B[49m\u001B[43mrevision\u001B[49m\u001B[43m,\u001B[49m\n\u001B[32m   1126\u001B[39m \u001B[43m    \u001B[49m\u001B[43msubfolder\u001B[49m\u001B[43m=\u001B[49m\u001B[43msubfolder\u001B[49m\u001B[43m,\u001B[49m\n\u001B[32m   1127\u001B[39m \u001B[43m    \u001B[49m\u001B[43m_commit_hash\u001B[49m\u001B[43m=\u001B[49m\u001B[43m_commit_hash\u001B[49m\u001B[43m,\u001B[49m\n\u001B[32m   1128\u001B[39m \u001B[43m\u001B[49m\u001B[43m)\u001B[49m\n\u001B[32m   1130\u001B[39m \u001B[38;5;28;01mreturn\u001B[39;00m cached_filenames, sharded_metadata\n",
      "\u001B[36mFile \u001B[39m\u001B[32m~\\PycharmProjects\\Fair-Conference-Scheduling\\.venv\\Lib\\site-packages\\transformers\\utils\\hub.py:439\u001B[39m, in \u001B[36mcached_files\u001B[39m\u001B[34m(path_or_repo_id, filenames, cache_dir, force_download, resume_download, proxies, token, revision, local_files_only, subfolder, repo_type, user_agent, _raise_exceptions_for_gated_repo, _raise_exceptions_for_missing_entries, _raise_exceptions_for_connection_errors, _commit_hash, **deprecated_kwargs)\u001B[39m\n\u001B[32m    424\u001B[39m         hf_hub_download(\n\u001B[32m    425\u001B[39m             path_or_repo_id,\n\u001B[32m    426\u001B[39m             filenames[\u001B[32m0\u001B[39m],\n\u001B[32m   (...)\u001B[39m\u001B[32m    436\u001B[39m             local_files_only=local_files_only,\n\u001B[32m    437\u001B[39m         )\n\u001B[32m    438\u001B[39m     \u001B[38;5;28;01melse\u001B[39;00m:\n\u001B[32m--> \u001B[39m\u001B[32m439\u001B[39m         \u001B[43msnapshot_download\u001B[49m\u001B[43m(\u001B[49m\n\u001B[32m    440\u001B[39m \u001B[43m            \u001B[49m\u001B[43mpath_or_repo_id\u001B[49m\u001B[43m,\u001B[49m\n\u001B[32m    441\u001B[39m \u001B[43m            \u001B[49m\u001B[43mallow_patterns\u001B[49m\u001B[43m=\u001B[49m\u001B[43mfull_filenames\u001B[49m\u001B[43m,\u001B[49m\n\u001B[32m    442\u001B[39m \u001B[43m            \u001B[49m\u001B[43mrepo_type\u001B[49m\u001B[43m=\u001B[49m\u001B[43mrepo_type\u001B[49m\u001B[43m,\u001B[49m\n\u001B[32m    443\u001B[39m \u001B[43m            \u001B[49m\u001B[43mrevision\u001B[49m\u001B[43m=\u001B[49m\u001B[43mrevision\u001B[49m\u001B[43m,\u001B[49m\n\u001B[32m    444\u001B[39m \u001B[43m            \u001B[49m\u001B[43mcache_dir\u001B[49m\u001B[43m=\u001B[49m\u001B[43mcache_dir\u001B[49m\u001B[43m,\u001B[49m\n\u001B[32m    445\u001B[39m \u001B[43m            \u001B[49m\u001B[43muser_agent\u001B[49m\u001B[43m=\u001B[49m\u001B[43muser_agent\u001B[49m\u001B[43m,\u001B[49m\n\u001B[32m    446\u001B[39m \u001B[43m            \u001B[49m\u001B[43mforce_download\u001B[49m\u001B[43m=\u001B[49m\u001B[43mforce_download\u001B[49m\u001B[43m,\u001B[49m\n\u001B[32m    447\u001B[39m \u001B[43m            \u001B[49m\u001B[43mproxies\u001B[49m\u001B[43m=\u001B[49m\u001B[43mproxies\u001B[49m\u001B[43m,\u001B[49m\n\u001B[32m    448\u001B[39m \u001B[43m            \u001B[49m\u001B[43mresume_download\u001B[49m\u001B[43m=\u001B[49m\u001B[43mresume_download\u001B[49m\u001B[43m,\u001B[49m\n\u001B[32m    449\u001B[39m \u001B[43m            \u001B[49m\u001B[43mtoken\u001B[49m\u001B[43m=\u001B[49m\u001B[43mtoken\u001B[49m\u001B[43m,\u001B[49m\n\u001B[32m    450\u001B[39m \u001B[43m            \u001B[49m\u001B[43mlocal_files_only\u001B[49m\u001B[43m=\u001B[49m\u001B[43mlocal_files_only\u001B[49m\u001B[43m,\u001B[49m\n\u001B[32m    451\u001B[39m \u001B[43m        \u001B[49m\u001B[43m)\u001B[49m\n\u001B[32m    453\u001B[39m \u001B[38;5;28;01mexcept\u001B[39;00m \u001B[38;5;167;01mException\u001B[39;00m \u001B[38;5;28;01mas\u001B[39;00m e:\n\u001B[32m    454\u001B[39m     \u001B[38;5;66;03m# We cannot recover from them\u001B[39;00m\n\u001B[32m    455\u001B[39m     \u001B[38;5;28;01mif\u001B[39;00m \u001B[38;5;28misinstance\u001B[39m(e, RepositoryNotFoundError) \u001B[38;5;129;01mand\u001B[39;00m \u001B[38;5;129;01mnot\u001B[39;00m \u001B[38;5;28misinstance\u001B[39m(e, GatedRepoError):\n",
      "\u001B[36mFile \u001B[39m\u001B[32m~\\PycharmProjects\\Fair-Conference-Scheduling\\.venv\\Lib\\site-packages\\huggingface_hub\\utils\\_validators.py:114\u001B[39m, in \u001B[36mvalidate_hf_hub_args.<locals>._inner_fn\u001B[39m\u001B[34m(*args, **kwargs)\u001B[39m\n\u001B[32m    111\u001B[39m \u001B[38;5;28;01mif\u001B[39;00m check_use_auth_token:\n\u001B[32m    112\u001B[39m     kwargs = smoothly_deprecate_use_auth_token(fn_name=fn.\u001B[34m__name__\u001B[39m, has_token=has_token, kwargs=kwargs)\n\u001B[32m--> \u001B[39m\u001B[32m114\u001B[39m \u001B[38;5;28;01mreturn\u001B[39;00m \u001B[43mfn\u001B[49m\u001B[43m(\u001B[49m\u001B[43m*\u001B[49m\u001B[43margs\u001B[49m\u001B[43m,\u001B[49m\u001B[43m \u001B[49m\u001B[43m*\u001B[49m\u001B[43m*\u001B[49m\u001B[43mkwargs\u001B[49m\u001B[43m)\u001B[49m\n",
      "\u001B[36mFile \u001B[39m\u001B[32m~\\PycharmProjects\\Fair-Conference-Scheduling\\.venv\\Lib\\site-packages\\huggingface_hub\\_snapshot_download.py:297\u001B[39m, in \u001B[36msnapshot_download\u001B[39m\u001B[34m(repo_id, repo_type, revision, cache_dir, local_dir, library_name, library_version, user_agent, proxies, etag_timeout, force_download, token, local_files_only, allow_patterns, ignore_patterns, max_workers, tqdm_class, headers, endpoint, local_dir_use_symlinks, resume_download)\u001B[39m\n\u001B[32m    295\u001B[39m         _inner_hf_hub_download(file)\n\u001B[32m    296\u001B[39m \u001B[38;5;28;01melse\u001B[39;00m:\n\u001B[32m--> \u001B[39m\u001B[32m297\u001B[39m     \u001B[43mthread_map\u001B[49m\u001B[43m(\u001B[49m\n\u001B[32m    298\u001B[39m \u001B[43m        \u001B[49m\u001B[43m_inner_hf_hub_download\u001B[49m\u001B[43m,\u001B[49m\n\u001B[32m    299\u001B[39m \u001B[43m        \u001B[49m\u001B[43mfiltered_repo_files\u001B[49m\u001B[43m,\u001B[49m\n\u001B[32m    300\u001B[39m \u001B[43m        \u001B[49m\u001B[43mdesc\u001B[49m\u001B[43m=\u001B[49m\u001B[33;43mf\u001B[39;49m\u001B[33;43m\"\u001B[39;49m\u001B[33;43mFetching \u001B[39;49m\u001B[38;5;132;43;01m{\u001B[39;49;00m\u001B[38;5;28;43mlen\u001B[39;49m\u001B[43m(\u001B[49m\u001B[43mfiltered_repo_files\u001B[49m\u001B[43m)\u001B[49m\u001B[38;5;132;43;01m}\u001B[39;49;00m\u001B[33;43m files\u001B[39;49m\u001B[33;43m\"\u001B[39;49m\u001B[43m,\u001B[49m\n\u001B[32m    301\u001B[39m \u001B[43m        \u001B[49m\u001B[43mmax_workers\u001B[49m\u001B[43m=\u001B[49m\u001B[43mmax_workers\u001B[49m\u001B[43m,\u001B[49m\n\u001B[32m    302\u001B[39m \u001B[43m        \u001B[49m\u001B[38;5;66;43;03m# User can use its own tqdm class or the default one from `huggingface_hub.utils`\u001B[39;49;00m\n\u001B[32m    303\u001B[39m \u001B[43m        \u001B[49m\u001B[43mtqdm_class\u001B[49m\u001B[43m=\u001B[49m\u001B[43mtqdm_class\u001B[49m\u001B[43m \u001B[49m\u001B[38;5;129;43;01mor\u001B[39;49;00m\u001B[43m \u001B[49m\u001B[43mhf_tqdm\u001B[49m\u001B[43m,\u001B[49m\n\u001B[32m    304\u001B[39m \u001B[43m    \u001B[49m\u001B[43m)\u001B[49m\n\u001B[32m    306\u001B[39m \u001B[38;5;28;01mif\u001B[39;00m local_dir \u001B[38;5;129;01mis\u001B[39;00m \u001B[38;5;129;01mnot\u001B[39;00m \u001B[38;5;28;01mNone\u001B[39;00m:\n\u001B[32m    307\u001B[39m     \u001B[38;5;28;01mreturn\u001B[39;00m \u001B[38;5;28mstr\u001B[39m(os.path.realpath(local_dir))\n",
      "\u001B[36mFile \u001B[39m\u001B[32m~\\PycharmProjects\\Fair-Conference-Scheduling\\.venv\\Lib\\site-packages\\tqdm\\contrib\\concurrent.py:69\u001B[39m, in \u001B[36mthread_map\u001B[39m\u001B[34m(fn, *iterables, **tqdm_kwargs)\u001B[39m\n\u001B[32m     55\u001B[39m \u001B[38;5;250m\u001B[39m\u001B[33;03m\"\"\"\u001B[39;00m\n\u001B[32m     56\u001B[39m \u001B[33;03mEquivalent of `list(map(fn, *iterables))`\u001B[39;00m\n\u001B[32m     57\u001B[39m \u001B[33;03mdriven by `concurrent.futures.ThreadPoolExecutor`.\u001B[39;00m\n\u001B[32m   (...)\u001B[39m\u001B[32m     66\u001B[39m \u001B[33;03m    [default: max(32, cpu_count() + 4)].\u001B[39;00m\n\u001B[32m     67\u001B[39m \u001B[33;03m\"\"\"\u001B[39;00m\n\u001B[32m     68\u001B[39m \u001B[38;5;28;01mfrom\u001B[39;00m\u001B[38;5;250m \u001B[39m\u001B[34;01mconcurrent\u001B[39;00m\u001B[34;01m.\u001B[39;00m\u001B[34;01mfutures\u001B[39;00m\u001B[38;5;250m \u001B[39m\u001B[38;5;28;01mimport\u001B[39;00m ThreadPoolExecutor\n\u001B[32m---> \u001B[39m\u001B[32m69\u001B[39m \u001B[38;5;28;01mreturn\u001B[39;00m \u001B[43m_executor_map\u001B[49m\u001B[43m(\u001B[49m\u001B[43mThreadPoolExecutor\u001B[49m\u001B[43m,\u001B[49m\u001B[43m \u001B[49m\u001B[43mfn\u001B[49m\u001B[43m,\u001B[49m\u001B[43m \u001B[49m\u001B[43m*\u001B[49m\u001B[43miterables\u001B[49m\u001B[43m,\u001B[49m\u001B[43m \u001B[49m\u001B[43m*\u001B[49m\u001B[43m*\u001B[49m\u001B[43mtqdm_kwargs\u001B[49m\u001B[43m)\u001B[49m\n",
      "\u001B[36mFile \u001B[39m\u001B[32m~\\PycharmProjects\\Fair-Conference-Scheduling\\.venv\\Lib\\site-packages\\tqdm\\contrib\\concurrent.py:51\u001B[39m, in \u001B[36m_executor_map\u001B[39m\u001B[34m(PoolExecutor, fn, *iterables, **tqdm_kwargs)\u001B[39m\n\u001B[32m     47\u001B[39m \u001B[38;5;28;01mwith\u001B[39;00m ensure_lock(tqdm_class, lock_name=lock_name) \u001B[38;5;28;01mas\u001B[39;00m lk:\n\u001B[32m     48\u001B[39m     \u001B[38;5;66;03m# share lock in case workers are already using `tqdm`\u001B[39;00m\n\u001B[32m     49\u001B[39m     \u001B[38;5;28;01mwith\u001B[39;00m PoolExecutor(max_workers=max_workers, initializer=tqdm_class.set_lock,\n\u001B[32m     50\u001B[39m                       initargs=(lk,)) \u001B[38;5;28;01mas\u001B[39;00m ex:\n\u001B[32m---> \u001B[39m\u001B[32m51\u001B[39m         \u001B[38;5;28;01mreturn\u001B[39;00m \u001B[38;5;28;43mlist\u001B[39;49m\u001B[43m(\u001B[49m\u001B[43mtqdm_class\u001B[49m\u001B[43m(\u001B[49m\u001B[43mex\u001B[49m\u001B[43m.\u001B[49m\u001B[43mmap\u001B[49m\u001B[43m(\u001B[49m\u001B[43mfn\u001B[49m\u001B[43m,\u001B[49m\u001B[43m \u001B[49m\u001B[43m*\u001B[49m\u001B[43miterables\u001B[49m\u001B[43m,\u001B[49m\u001B[43m \u001B[49m\u001B[43mchunksize\u001B[49m\u001B[43m=\u001B[49m\u001B[43mchunksize\u001B[49m\u001B[43m)\u001B[49m\u001B[43m,\u001B[49m\u001B[43m \u001B[49m\u001B[43m*\u001B[49m\u001B[43m*\u001B[49m\u001B[43mkwargs\u001B[49m\u001B[43m)\u001B[49m\u001B[43m)\u001B[49m\n",
      "\u001B[36mFile \u001B[39m\u001B[32m~\\PycharmProjects\\Fair-Conference-Scheduling\\.venv\\Lib\\site-packages\\tqdm\\std.py:1181\u001B[39m, in \u001B[36mtqdm.__iter__\u001B[39m\u001B[34m(self)\u001B[39m\n\u001B[32m   1178\u001B[39m time = \u001B[38;5;28mself\u001B[39m._time\n\u001B[32m   1180\u001B[39m \u001B[38;5;28;01mtry\u001B[39;00m:\n\u001B[32m-> \u001B[39m\u001B[32m1181\u001B[39m \u001B[43m    \u001B[49m\u001B[38;5;28;43;01mfor\u001B[39;49;00m\u001B[43m \u001B[49m\u001B[43mobj\u001B[49m\u001B[43m \u001B[49m\u001B[38;5;129;43;01min\u001B[39;49;00m\u001B[43m \u001B[49m\u001B[43miterable\u001B[49m\u001B[43m:\u001B[49m\n\u001B[32m   1182\u001B[39m \u001B[43m        \u001B[49m\u001B[38;5;28;43;01myield\u001B[39;49;00m\u001B[43m \u001B[49m\u001B[43mobj\u001B[49m\n\u001B[32m   1183\u001B[39m \u001B[43m        \u001B[49m\u001B[38;5;66;43;03m# Update and possibly print the progressbar.\u001B[39;49;00m\n\u001B[32m   1184\u001B[39m \u001B[43m        \u001B[49m\u001B[38;5;66;43;03m# Note: does not call self.update(1) for speed optimisation.\u001B[39;49;00m\n",
      "\u001B[36mFile \u001B[39m\u001B[32m~\\AppData\\Local\\Programs\\Python\\Python313\\Lib\\concurrent\\futures\\_base.py:619\u001B[39m, in \u001B[36mExecutor.map.<locals>.result_iterator\u001B[39m\u001B[34m()\u001B[39m\n\u001B[32m    616\u001B[39m \u001B[38;5;28;01mwhile\u001B[39;00m fs:\n\u001B[32m    617\u001B[39m     \u001B[38;5;66;03m# Careful not to keep a reference to the popped future\u001B[39;00m\n\u001B[32m    618\u001B[39m     \u001B[38;5;28;01mif\u001B[39;00m timeout \u001B[38;5;129;01mis\u001B[39;00m \u001B[38;5;28;01mNone\u001B[39;00m:\n\u001B[32m--> \u001B[39m\u001B[32m619\u001B[39m         \u001B[38;5;28;01myield\u001B[39;00m \u001B[43m_result_or_cancel\u001B[49m\u001B[43m(\u001B[49m\u001B[43mfs\u001B[49m\u001B[43m.\u001B[49m\u001B[43mpop\u001B[49m\u001B[43m(\u001B[49m\u001B[43m)\u001B[49m\u001B[43m)\u001B[49m\n\u001B[32m    620\u001B[39m     \u001B[38;5;28;01melse\u001B[39;00m:\n\u001B[32m    621\u001B[39m         \u001B[38;5;28;01myield\u001B[39;00m _result_or_cancel(fs.pop(), end_time - time.monotonic())\n",
      "\u001B[36mFile \u001B[39m\u001B[32m~\\AppData\\Local\\Programs\\Python\\Python313\\Lib\\concurrent\\futures\\_base.py:317\u001B[39m, in \u001B[36m_result_or_cancel\u001B[39m\u001B[34m(***failed resolving arguments***)\u001B[39m\n\u001B[32m    315\u001B[39m \u001B[38;5;28;01mtry\u001B[39;00m:\n\u001B[32m    316\u001B[39m     \u001B[38;5;28;01mtry\u001B[39;00m:\n\u001B[32m--> \u001B[39m\u001B[32m317\u001B[39m         \u001B[38;5;28;01mreturn\u001B[39;00m \u001B[43mfut\u001B[49m\u001B[43m.\u001B[49m\u001B[43mresult\u001B[49m\u001B[43m(\u001B[49m\u001B[43mtimeout\u001B[49m\u001B[43m)\u001B[49m\n\u001B[32m    318\u001B[39m     \u001B[38;5;28;01mfinally\u001B[39;00m:\n\u001B[32m    319\u001B[39m         fut.cancel()\n",
      "\u001B[36mFile \u001B[39m\u001B[32m~\\AppData\\Local\\Programs\\Python\\Python313\\Lib\\concurrent\\futures\\_base.py:451\u001B[39m, in \u001B[36mFuture.result\u001B[39m\u001B[34m(self, timeout)\u001B[39m\n\u001B[32m    448\u001B[39m \u001B[38;5;28;01melif\u001B[39;00m \u001B[38;5;28mself\u001B[39m._state == FINISHED:\n\u001B[32m    449\u001B[39m     \u001B[38;5;28;01mreturn\u001B[39;00m \u001B[38;5;28mself\u001B[39m.__get_result()\n\u001B[32m--> \u001B[39m\u001B[32m451\u001B[39m \u001B[38;5;28;43mself\u001B[39;49m\u001B[43m.\u001B[49m\u001B[43m_condition\u001B[49m\u001B[43m.\u001B[49m\u001B[43mwait\u001B[49m\u001B[43m(\u001B[49m\u001B[43mtimeout\u001B[49m\u001B[43m)\u001B[49m\n\u001B[32m    453\u001B[39m \u001B[38;5;28;01mif\u001B[39;00m \u001B[38;5;28mself\u001B[39m._state \u001B[38;5;129;01min\u001B[39;00m [CANCELLED, CANCELLED_AND_NOTIFIED]:\n\u001B[32m    454\u001B[39m     \u001B[38;5;28;01mraise\u001B[39;00m CancelledError()\n",
      "\u001B[36mFile \u001B[39m\u001B[32m~\\AppData\\Local\\Programs\\Python\\Python313\\Lib\\threading.py:359\u001B[39m, in \u001B[36mCondition.wait\u001B[39m\u001B[34m(self, timeout)\u001B[39m\n\u001B[32m    357\u001B[39m \u001B[38;5;28;01mtry\u001B[39;00m:    \u001B[38;5;66;03m# restore state no matter what (e.g., KeyboardInterrupt)\u001B[39;00m\n\u001B[32m    358\u001B[39m     \u001B[38;5;28;01mif\u001B[39;00m timeout \u001B[38;5;129;01mis\u001B[39;00m \u001B[38;5;28;01mNone\u001B[39;00m:\n\u001B[32m--> \u001B[39m\u001B[32m359\u001B[39m         \u001B[43mwaiter\u001B[49m\u001B[43m.\u001B[49m\u001B[43macquire\u001B[49m\u001B[43m(\u001B[49m\u001B[43m)\u001B[49m\n\u001B[32m    360\u001B[39m         gotit = \u001B[38;5;28;01mTrue\u001B[39;00m\n\u001B[32m    361\u001B[39m     \u001B[38;5;28;01melse\u001B[39;00m:\n",
      "\u001B[31mKeyboardInterrupt\u001B[39m: "
     ]
    }
   ],
   "execution_count": 1
  },
  {
   "metadata": {},
   "cell_type": "code",
   "outputs": [],
   "execution_count": null,
   "source": "from src import process_pdfs, DATA_DIR\n",
   "id": "4e9ddf3d41b7af9e"
  }
 ],
 "metadata": {
  "kernelspec": {
   "display_name": "Python 3",
   "language": "python",
   "name": "python3"
  },
  "language_info": {
   "codemirror_mode": {
    "name": "ipython",
    "version": 2
   },
   "file_extension": ".py",
   "mimetype": "text/x-python",
   "name": "python",
   "nbconvert_exporter": "python",
   "pygments_lexer": "ipython2",
   "version": "2.7.6"
  }
 },
 "nbformat": 4,
 "nbformat_minor": 5
}
