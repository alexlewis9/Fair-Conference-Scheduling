{
 "cells": [
  {
   "metadata": {
    "ExecuteTime": {
     "end_time": "2025-06-03T23:05:54.239619Z",
     "start_time": "2025-06-03T23:05:53.593408Z"
    }
   },
   "cell_type": "code",
   "source": [
    "import dotenv\n",
    "import tokenization\n",
    "from dotenv import load_dotenv\n",
    "from google import genai\n",
    "import os\n",
    "\n",
    "load_dotenv()\n",
    "client = genai.Client(api_key=os.getenv(\"GEMINI_API_KEY\"))\n",
    "\n",
    "sentence = \"What is the meaning of life?\"*2000\n",
    "result = client.models.embed_content(\n",
    "        model=\"text-embedding-004\",\n",
    "        contents=sentence)\n",
    "\n",
    "sentence2 = \"What is the meaning of life?\"*2001\n",
    "result2 = client.models.embed_content(\n",
    "    model=\"text-embedding-004\",\n",
    "    contents=sentence2\n",
    ")# it truncates? yes it does\n",
    "print(result2.embeddings[0].values == result.embeddings[0].values)\n",
    "\n",
    "print(result.embeddings[0].values)"
   ],
   "id": "d08b515ff0875e5c",
   "outputs": [
    {
     "name": "stdout",
     "output_type": "stream",
     "text": [
      "True\n",
      "[-0.012645576, 0.025118347, -0.014379711, 0.0050726295, -0.023653338, 0.031938877, -9.1477224e-05, 0.04287685, 0.021387381, 0.0060547413, 0.0010401603, 0.007141752, 0.09306691, -0.03321236, 0.034151528, -0.036276523, -0.011947743, 0.019669937, -0.055994406, -0.053298995, 0.025323665, -0.012418596, 0.028655348, -0.009813419, -0.012196734, 0.041764267, 0.018224543, -0.013283424, 0.04033355, 0.022284416, 0.04540627, 0.021591477, 0.009695383, -0.030428367, 0.02607952, -0.006767525, -0.008645974, 0.045967434, -0.024960708, -0.01388307, -0.083812065, -0.0007555806, -0.037535626, 0.05112604, -0.036788467, -0.057376474, -0.015523872, -0.0071095973, -0.00061819644, 0.043835606, -0.022474336, -0.054366574, -0.033500824, -0.0057071913, -0.017879521, -0.050817557, 0.0014600658, -0.019519217, 0.04025256, -0.0065740487, -0.0052175773, -0.039866872, -0.029442703, -0.019547397, -0.025680412, 0.06945987, -0.02622196, -0.023375643, -0.022403382, 0.041072357, -0.035522997, 0.07437623, -0.031329364, 0.048738573, -0.009336906, 0.047880698, 0.011621537, -0.02489928, 0.011703216, 0.022789447, -0.024153894, -0.036643863, 0.07425394, 0.02487965, 0.016780762, 0.0030449913, -0.008697315, -0.05143139, -0.055249896, -0.06428312, 0.045769542, 0.029780269, -0.023332259, -0.0023020452, 0.09378297, -0.043954626, -0.097947754, -0.052338358, 0.07139771, 0.011253993, -0.020821063, -0.014933261, -0.008516891, -0.055776387, 0.09865155, 0.057459015, -0.04433353, -0.07429281, -0.08088616, 0.012414679, 0.0012412249, -0.05473797, 0.03528177, -0.018742125, -0.01869414, -0.008421838, -0.04623853, 0.035412397, -0.015886057, -0.03906406, 0.055028733, 0.037431404, -0.004703333, 0.0417838, 0.044125896, 0.00798198, 0.045575917, -0.03910855, -0.019852838, -0.019587422, 0.024851425, -0.086080186, -0.0019587248, 0.03739799, -0.05805919, 0.001800645, 0.090892375, 0.0088705635, -0.024044305, -0.0176147, -0.016162321, -0.02566449, -0.007608577, -0.017615495, 0.012714044, -0.021372333, -0.0057637235, 0.029052991, -0.017679567, -0.02697358, -0.03833318, -0.01715068, 0.04062243, 0.026823498, 0.03834605, 0.054008167, 0.028984929, -0.0068202666, 0.05370715, -0.037274595, 0.025161892, -0.06951919, -0.049335103, -0.0061913105, -0.021501612, -0.00816343, 0.026257567, -0.044063743, 0.029646538, 0.039749086, 0.0027025768, -0.02831993, -0.054195188, -0.063855164, -0.012430612, 0.010426092, -0.033122484, -0.017711865, -0.015224389, -0.013300816, 0.025989452, 0.012045296, -0.023761448, -0.036019605, 0.005626912, -0.05110866, -0.0067714592, 0.026507506, 0.060335517, 0.059793513, -0.047848646, 0.029531777, -0.020798426, -0.016689252, -0.012942809, 0.0008815977, 0.06642006, -0.03816151, -0.047337744, 0.02540585, 0.025346747, -0.039888434, -0.015771579, 0.032355547, -0.01572767, 0.051746864, -0.014278714, -0.0375943, 0.013333986, 0.021893743, -0.047866624, 0.017288223, -0.035539187, -0.019729955, -0.016237129, 0.030960726, 0.039551005, 0.011926307, 0.097386524, -0.06570665, -0.0626125, -0.007970732, 0.027865522, 0.0017283334, 0.0040004007, -0.009480264, -0.007819374, -0.030853212, -0.050846864, -0.04200343, 0.017098846, -0.0002654061, 0.0025295855, 0.026521368, -0.060104556, 0.025190677, 0.06700996, 0.037132993, -0.03320497, -0.0013252362, 0.032485407, -0.030216724, 0.021845277, -0.012043253, 0.089039005, 0.00843235, -0.02173526, 0.05382994, -0.008757791, -0.049342077, -0.04312016, 0.049649198, 0.00456678, -0.0460326, -0.0538214, -0.015913853, 0.042677835, -0.007532702, -0.00763776, -0.00010445225, 0.07005268, -0.05466495, -0.0034705373, -0.018084988, -0.016522463, -0.04340509, -0.024300028, -0.010594801, 0.010261702, -0.07467603, 0.031438626, -0.0023307216, -0.024458751, 0.0028972838, -0.010288166, 0.038056765, 0.026591148, -0.0025105993, 0.01432379, -0.06330386, 0.024585731, 0.0058316453, -0.021618795, -0.010385164, 0.0010542012, -0.01018595, -0.004892063, 0.008234874, 0.027577154, -0.0002357898, 0.036795862, 0.025916047, 0.028288424, -0.07385521, -0.030971358, 0.0074679363, 0.046491865, 0.026427886, -0.038302187, -0.050012205, -0.005764105, 0.024953714, -0.03210224, 0.0087831635, -0.003105089, -0.04998997, 0.010797389, 0.03266215, -0.0020428854, 0.026601708, 0.016474107, 0.030648164, -0.059604384, 0.012574042, -0.07454045, -0.039537486, -0.15815529, -0.0064019146, 0.0059821117, -0.0034214484, 0.04688148, 0.06925496, -0.025769249, 0.025406336, 0.059297957, -0.0626593, -0.012484752, -0.018976424, -0.035704676, 0.01458749, -0.04781671, -0.042539526, 0.0042740568, -0.025559701, 0.051314045, 0.048156545, -0.058167223, 0.026631452, 0.05295113, 0.04171245, 0.033742547, -0.011203675, 0.011751152, 0.030160293, -0.0302125, -0.034450553, -0.027118113, 0.028110102, -0.030151593, -0.007255035, 0.036762748, 0.045697633, 0.033783216, -0.013516754, -0.016352851, -0.011606684, 0.053443898, 0.007400068, 0.005012661, 0.031312242, -0.01130999, -0.01228557, 0.010924899, -0.021088282, 0.020163542, 0.0073321965, 0.025865285, 0.04066957, 0.026159015, -0.07595897, 0.010102344, -0.0040762573, 0.002545327, 0.014260425, -0.009776753, -0.0021476946, -0.046369728, 0.029238027, -0.020108303, -0.06693824, -0.0035814615, -0.04763396, -0.0382928, 0.025550812, -0.04800456, 0.048375424, -0.06763494, -0.028060898, -0.024150057, 0.008445742, -0.04419613, 0.08574571, 0.04769218, 0.019072086, 0.00612595, 0.018566178, -0.022019021, -0.014840683, 0.0094870925, -0.0081962, 0.017478568, -0.021747785, 0.109360576, -0.028881578, 0.012527282, -0.009420629, 0.09228986, -0.0034098832, -0.03155755, -0.034480922, -0.015391315, 0.0028304334, 0.013658892, -0.0029500285, -0.017558618, -0.015062942, -0.026444854, 0.05339988, 0.030488586, 0.022445299, 0.004368083, -0.0225348, 0.07318802, -0.0045841206, 0.0053216885, -0.045707565, 0.01172457, 0.026599828, 0.031735104, 0.02120215, 0.029392118, 0.038613122, -0.00079348515, 0.019019283, 0.014045559, 0.06571761, -0.01897626, 0.007216935, 0.009727071, 0.02986687, -0.051407415, -0.015477294, 0.043490097, 0.011075796, 0.029881788, -0.010451582, 0.017279187, 0.02198215, -0.03975521, -0.043568198, -0.001761621, -0.020865407, 0.0034637842, -0.04641172, -0.043692317, -0.018491449, -0.0026365023, 0.040509284, -0.017767927, 0.009658423, -0.0019126374, -0.041647278, 0.08167955, 0.028436447, 0.017986089, 0.017886132, -0.017178891, 0.045616794, -0.0042801397, 0.078378044, 0.01772126, 0.016169455, 0.02993771, 0.055414986, 0.028686225, -0.04492273, 0.031087225, -0.058621585, -0.03239413, -0.012648395, -0.031219305, 0.0105248755, 0.02755168, 0.022995198, 0.008517591, -0.020586072, -0.013719832, -0.011089977, 0.024373338, -0.048184626, -0.0133427605, 0.04462702, 0.036090646, -0.06518601, -0.010586817, 0.0026486644, 0.050301578, -0.016518958, 0.019746186, 0.019144688, 0.09703946, 0.03618485, -0.018955301, -0.001301691, -0.008533623, 0.023663662, -0.046955947, -0.04091217, 0.04392203, -0.0052217287, 0.022804856, 0.0042714598, 0.016289588, 0.046347763, 0.010297657, 0.050043825, 0.035917923, 0.024678128, -0.04141972, 0.09810641, -0.018037934, -0.020500114, 0.019717518, -0.01116261, 0.0007144018, -0.009306352, 0.03149632, -0.0021934886, 0.011997388, 0.008408516, 0.002558007, 0.019568084, 0.023840483, 0.0127822505, -0.00908953, 0.054056272, 0.067576356, 0.0024699634, 0.0003424793, 0.041399892, 0.0667449, -0.017485121, 0.019405028, -0.008822639, 0.039758164, -0.010867852, -0.0047187, 0.034186926, -0.015649822, 0.06894167, 0.012301166, -0.056691684, -0.028741265, -0.007676247, 0.013809226, -0.0071678, 0.043873955, -0.002112002, -0.029289847, -0.0034346012, 0.01195988, -0.030125298, -0.007703781, 0.024288993, -0.012854818, 0.02525859, -0.0033257112, 0.019747829, -0.0027606683, 0.008311676, 0.00528753, -0.0043666493, -0.012886023, 0.0029129747, 0.0131122, 0.025975099, -0.023403844, 0.019716034, -0.0070950384, -0.026179457, 0.0026866035, -0.009553751, 0.03540226, 0.020037184, -0.016396424, -0.038252037, 0.015570289, 0.027086137, 0.029491821, -0.013722869, -0.012987932, 0.0450387, 0.018285884, -0.059625648, 0.017476024, 0.0003337981, -0.008620774, 0.054501936, 0.015578518, -0.014711168, -0.005646055, -0.056420732, 0.036618773, -0.00019975404, -0.051084835, -0.05799058, -0.030956822, -0.050060246, -0.00061612116, -0.024780143, -0.009568188, 0.07716212, -0.018417789, 0.03709954, -0.1308414, 0.02888307, -0.050087966, -0.029881168, 0.056424994, 0.011615333, -0.036395762, -0.021436058, 0.03572529, 0.0046815565, -0.08417064, 0.012443554, 0.005464474, -0.029627813, 0.031175938, 0.059128635, -0.007297309, 0.0024869472, 0.05323192, -0.021723928, -0.008246677, 0.037005097, 0.010424458, 0.0061963466, 0.041362803, -0.03885236, -0.0013296257, 0.007492267, 0.04145195, 0.015150134, -0.010370924, 0.06263125, -0.034005545, 0.036933973, 0.037834972, 0.024441771, -0.016307406, -0.041037414, -0.017131813, 0.004842571, 0.008518443, 0.046898633, -0.061995525, -0.035679862, 0.05245642, 0.0002808717, 0.03949844, 0.024093602, 0.009835203, -0.021018974, -0.029296434, 0.008784276, -0.03318694, 0.048198964, 0.01549442, -0.040519755, -0.06201909, 0.06640523, -0.007705972, 0.0020063554, -0.03795255, 0.016492315, -0.006013354, 0.024335144, -0.017593304, 0.016549353, 0.020418715, -0.0403359, -0.0028489658, -0.050991077, -0.019359365, 0.021665748, 0.083958365, 0.0007584473, -0.037062712, 0.036685195, 0.0019085181, -0.044647753, 0.011880751, 0.0011757441, 0.013796636, 0.05928379, -0.04043125, 0.019291366, -0.03115284, 0.0013698464, -0.04450486, -0.036424372, -0.060614195, 0.030052304, 0.024814542, -0.029956216, 0.005641477, 0.017087994, -0.083050996, 0.016234832, -0.032098766, -0.005204049, 0.056651916, -0.0117810825, -0.04366403, 0.05222152, -0.020370113, -0.019768214, 0.005923285, 0.012655588, 0.032596655, -0.039877888, 0.0059765903, 0.06702543, 0.035899412, 0.01960489, -0.069564946, 0.0076549267, -0.05605829, 0.024122868, 0.076503076, -0.0031633996, -0.03351766, 0.033428263, 0.009622487, -0.012638376, 0.023119614, -0.008232766, 0.002821728, -0.031556044, 0.039007604, -0.026172116, -0.033510204, -0.07260451, 0.0008580832, -0.045034766, -0.011157672, -0.016205966, -6.343424e-05, -0.02484942, -0.08620556, -0.011888138, 0.010686797, 0.058855265, 0.031797983, 0.017385546, -0.047691014, -0.0026570219, 0.09265775, 0.051454145, -0.010030793, 0.042192075, -0.04585392, 0.039086338, -0.08153296, -0.0004990418, 0.043729164, -0.010506939]\n"
     ]
    }
   ],
   "execution_count": 15
  },
  {
   "metadata": {
    "ExecuteTime": {
     "end_time": "2025-06-03T23:10:43.996193Z",
     "start_time": "2025-06-03T23:10:43.959158Z"
    }
   },
   "cell_type": "code",
   "source": [
    "result = client.models.compute_tokens(\n",
    "    model=\"text-embedding-004\",\n",
    "    contents=sentence\n",
    ")\n",
    "result"
   ],
   "id": "b35072da99b35c35",
   "outputs": [
    {
     "ename": "ValueError",
     "evalue": "This method is only supported in the Vertex AI client.",
     "output_type": "error",
     "traceback": [
      "\u001B[31m---------------------------------------------------------------------------\u001B[39m",
      "\u001B[31mValueError\u001B[39m                                Traceback (most recent call last)",
      "\u001B[36mCell\u001B[39m\u001B[36m \u001B[39m\u001B[32mIn[16]\u001B[39m\u001B[32m, line 1\u001B[39m\n\u001B[32m----> \u001B[39m\u001B[32m1\u001B[39m result = \u001B[43mclient\u001B[49m\u001B[43m.\u001B[49m\u001B[43mmodels\u001B[49m\u001B[43m.\u001B[49m\u001B[43mcompute_tokens\u001B[49m\u001B[43m(\u001B[49m\n\u001B[32m      2\u001B[39m \u001B[43m    \u001B[49m\u001B[43mmodel\u001B[49m\u001B[43m=\u001B[49m\u001B[33;43m\"\u001B[39;49m\u001B[33;43mtext-embedding-004\u001B[39;49m\u001B[33;43m\"\u001B[39;49m\u001B[43m,\u001B[49m\n\u001B[32m      3\u001B[39m \u001B[43m    \u001B[49m\u001B[43mcontents\u001B[49m\u001B[43m=\u001B[49m\u001B[43msentence\u001B[49m\n\u001B[32m      4\u001B[39m \u001B[43m)\u001B[49m\n\u001B[32m      5\u001B[39m result\n",
      "\u001B[36mFile \u001B[39m\u001B[32m~\\PycharmProjects\\Fair-Conference-Scheduling\\.venv\\Lib\\site-packages\\google\\genai\\models.py:5733\u001B[39m, in \u001B[36mModels.compute_tokens\u001B[39m\u001B[34m(self, model, contents, config)\u001B[39m\n\u001B[32m   5731\u001B[39m request_url_dict: Optional[\u001B[38;5;28mdict\u001B[39m[\u001B[38;5;28mstr\u001B[39m, \u001B[38;5;28mstr\u001B[39m]]\n\u001B[32m   5732\u001B[39m \u001B[38;5;28;01mif\u001B[39;00m \u001B[38;5;129;01mnot\u001B[39;00m \u001B[38;5;28mself\u001B[39m._api_client.vertexai:\n\u001B[32m-> \u001B[39m\u001B[32m5733\u001B[39m   \u001B[38;5;28;01mraise\u001B[39;00m \u001B[38;5;167;01mValueError\u001B[39;00m(\u001B[33m'\u001B[39m\u001B[33mThis method is only supported in the Vertex AI client.\u001B[39m\u001B[33m'\u001B[39m)\n\u001B[32m   5734\u001B[39m \u001B[38;5;28;01melse\u001B[39;00m:\n\u001B[32m   5735\u001B[39m   request_dict = _ComputeTokensParameters_to_vertex(\n\u001B[32m   5736\u001B[39m       \u001B[38;5;28mself\u001B[39m._api_client, parameter_model\n\u001B[32m   5737\u001B[39m   )\n",
      "\u001B[31mValueError\u001B[39m: This method is only supported in the Vertex AI client."
     ]
    }
   ],
   "execution_count": 16
  },
  {
   "metadata": {
    "ExecuteTime": {
     "end_time": "2025-06-03T22:32:37.583060Z",
     "start_time": "2025-06-03T22:32:32.425965Z"
    }
   },
   "cell_type": "code",
   "source": [
    "from src.data_processing.encoder import Encoder\n",
    "enc = Encoder('voyage-3-large', voyage=True)\n",
    "tokenizer = enc.tokenizer\n",
    "example = 'hihi'\n",
    "encoded = tokenizer.encode(example)\n",
    "decoded = tokenizer.decode(encoded)\n",
    "decoded"
   ],
   "id": "ea3df3ba0ef1a274",
   "outputs": [
    {
     "name": "stderr",
     "output_type": "stream",
     "text": [
      "C:\\Users\\tiend\\PycharmProjects\\Fair-Conference-Scheduling\\.venv\\Lib\\site-packages\\tqdm\\auto.py:21: TqdmWarning: IProgress not found. Please update jupyter and ipywidgets. See https://ipywidgets.readthedocs.io/en/stable/user_install.html\n",
      "  from .autonotebook import tqdm as notebook_tqdm\n",
      "C:\\Users\\tiend\\PycharmProjects\\Fair-Conference-Scheduling\\.venv\\Lib\\site-packages\\huggingface_hub\\file_download.py:143: UserWarning: `huggingface_hub` cache-system uses symlinks by default to efficiently store duplicated files but your machine does not support them in C:\\Users\\tiend\\.cache\\huggingface\\hub\\models--voyageai--voyage-3-large. Caching files will still work but in a degraded version that might require more space on your disk. This warning can be disabled by setting the `HF_HUB_DISABLE_SYMLINKS_WARNING` environment variable. For more details, see https://huggingface.co/docs/huggingface_hub/how-to-cache#limitations.\n",
      "To support symlinks on Windows, you either need to activate Developer Mode or to run Python as an administrator. In order to activate developer mode, see this article: https://docs.microsoft.com/en-us/windows/apps/get-started/enable-your-device-for-development\n",
      "  warnings.warn(message)\n"
     ]
    },
    {
     "data": {
      "text/plain": [
       "'hihi'"
      ]
     },
     "execution_count": 1,
     "metadata": {},
     "output_type": "execute_result"
    }
   ],
   "execution_count": 1
  },
  {
   "metadata": {
    "ExecuteTime": {
     "end_time": "2025-06-03T14:51:04.189315Z",
     "start_time": "2025-06-03T14:51:04.158326Z"
    }
   },
   "cell_type": "code",
   "source": [
    "import os\n",
    "import json\n",
    "from src import DATA_DIR\n",
    "from src.utils.io import save_json\n",
    "\n",
    "with open(os.path.join(DATA_DIR, 'unified_text', 'NeurIPS', 'NeurIPS_2023.json'), 'r', encoding='utf-8') as f:\n",
    "    data = json.load(f)\n",
    "for entry in data:\n",
    "    if entry['id'] == 'kaHpo8OZw2':\n",
    "        save_json([entry], 'data/emb/NeurIPS/2023/20250603_1057/tmp.json')\n",
    "        break"
   ],
   "id": "d65e7d3013490847",
   "outputs": [],
   "execution_count": 4
  },
  {
   "metadata": {},
   "cell_type": "code",
   "outputs": [],
   "execution_count": null,
   "source": [
    "import os\n",
    "print(\"Current working directory:\", os.getcwd())\n"
   ],
   "id": "f578a4a43c0fd3d9"
  },
  {
   "metadata": {},
   "cell_type": "code",
   "outputs": [],
   "execution_count": null,
   "source": "print(\"API KEY:\", os.getenv(\"OPENAI_API_KEY\"))\n",
   "id": "f19b07c79b382cbc"
  },
  {
   "metadata": {},
   "cell_type": "code",
   "outputs": [],
   "execution_count": null,
   "source": "",
   "id": "10de2eda30f2c507"
  },
  {
   "metadata": {
    "ExecuteTime": {
     "end_time": "2025-05-13T20:02:27.590680Z",
     "start_time": "2025-05-13T20:02:27.274417Z"
    }
   },
   "cell_type": "code",
   "source": [
    "import pandas as pd\n",
    "import os\n",
    "import json\n",
    "import fitz\n",
    "from tqdm import tqdm"
   ],
   "id": "8d4c2d4bd210f7e2",
   "outputs": [],
   "execution_count": 2
  },
  {
   "metadata": {
    "ExecuteTime": {
     "end_time": "2025-05-13T20:11:10.620595Z",
     "start_time": "2025-05-13T20:11:10.617816Z"
    }
   },
   "cell_type": "code",
   "source": [
    "def extract_text_from_pdf(pdf_path):\n",
    "    try:\n",
    "        doc = fitz.open(pdf_path)\n",
    "        text = \"\"\n",
    "        for page in doc:\n",
    "            text += page.get_text()\n",
    "        return text\n",
    "    except Exception as e:\n",
    "        print(f\"Error processing {pdf_path}: {str(e)}\")\n",
    "        return \"\""
   ],
   "id": "e5968c16715c695",
   "outputs": [],
   "execution_count": 8
  },
  {
   "metadata": {
    "ExecuteTime": {
     "end_time": "2025-05-13T20:22:12.008995Z",
     "start_time": "2025-05-13T20:21:42.316339Z"
    }
   },
   "cell_type": "code",
   "source": [
    "# Read metadata\n",
    "df = pd.read_csv('./data/metadata/ICLR_2021_2024.csv')\n",
    "\n",
    "# Create unified text directory if it doesn't exist\n",
    "os.makedirs('./data/unified_text/ICLR', exist_ok=True)\n",
    "\n",
    "# Process each year\n",
    "# years = range(2021, 2025)\n",
    "years = [2024]\n",
    "for year in years:\n",
    "    year_data = []\n",
    "    year_df = df[df['year'] == year]\n",
    "\n",
    "    for _, row in tqdm(year_df.iterrows(), total=len(year_df)):\n",
    "        paper_id = row['id']\n",
    "        title = row['title']\n",
    "        txt_path = f'./data/txts/ICLR_2021_2024/{title}.txt'\n",
    "        pdf_path = f'./data/pdfs/ICLR_2021_2024/{title}.pdf'\n",
    "\n",
    "        paper_dict = row.to_dict()\n",
    "\n",
    "        # Try to get text from txt file first\n",
    "        if os.path.exists(txt_path):\n",
    "            with open(txt_path, 'r', encoding='utf-8') as f:\n",
    "                paper_dict['text'] = f.read()\n",
    "        # If txt doesn't exist, extract from PDF\n",
    "        elif os.path.exists(pdf_path):\n",
    "            paper_dict['text'] = extract_text_from_pdf(pdf_path)\n",
    "        else:\n",
    "            paper_dict['text'] = \"\"\n",
    "            print(f\"Neither txt nor pdf found for paper {paper_id}\")\n",
    "\n",
    "        year_data.append(paper_dict)\n",
    "\n",
    "    # Save to JSON\n",
    "    output_path = f'./data/unified_text/ICLR/ICLR_{year}.json'\n",
    "    with open(output_path, 'w', encoding='utf-8') as f:\n",
    "        json.dump(year_data, f, ensure_ascii=False, indent=2)\n"
   ],
   "id": "b067757079e3049e",
   "outputs": [
    {
     "name": "stderr",
     "output_type": "stream",
     "text": [
      "100%|██████████| 247/247 [00:28<00:00,  8.66it/s]\n",
      "100%|██████████| 86/86 [00:00<00:00, 102.87it/s]\n"
     ]
    }
   ],
   "execution_count": 16
  },
  {
   "metadata": {
    "ExecuteTime": {
     "end_time": "2025-05-13T19:41:25.793020Z",
     "start_time": "2025-05-13T19:41:25.632110Z"
    }
   },
   "cell_type": "code",
   "source": [
    "text = extract_text_from_pdf('./data/pdfs/ICLR_2021_2024/An Analytical Solution to Gauss-Newton Loss for Direct Image Alignment.pdf')\n",
    "with open(\"./data/unified_text/ICLR/ICLR_2024.json\", \"r\", encoding=\"utf-8\") as f:\n",
    "    data = json.load(f)\n",
    "for entry in data:\n",
    "    if entry['title'] == 'An Analytical Solution to Gauss-Newton Loss for Direct Image Alignment':\n",
    "        entry['text'] = text\n",
    "with open(\"./data/unified_text/ICLR/ICLR_2024.json\", \"w\", encoding=\"utf-8\") as f:\n",
    "    json.dump(data, f, ensure_ascii=False, indent=2)\n"
   ],
   "id": "4543f961585775c6",
   "outputs": [],
   "execution_count": 15
  },
  {
   "metadata": {
    "ExecuteTime": {
     "end_time": "2025-05-13T20:11:16.887011Z",
     "start_time": "2025-05-13T20:11:16.647474Z"
    }
   },
   "cell_type": "code",
   "source": [
    "# unify for neurips\n",
    "# Read metadata\n",
    "df = pd.read_csv('./data/metadata/neurips_2023_2024.csv')\n",
    "\n",
    "# Create unified text directory if it doesn't exist\n",
    "os.makedirs('./data/unified_text/NeurIPS', exist_ok=True)\n",
    "\n",
    "# Process each year\n",
    "years = range(2023, 2025)\n",
    "for year in years:\n",
    "    year_data = []\n",
    "    year_df = df[df['year'] == year]\n",
    "\n",
    "    for _, row in tqdm(year_df.iterrows(), total=len(year_df)):\n",
    "        paper_id = row['id']\n",
    "        title = row['title']\n",
    "        txt_path = f'./data/txts/neurips_2023_2024/{title}.txt'\n",
    "        pdf_path = f'./data/pdfs/neurips_23_24/{title}.pdf'\n",
    "\n",
    "        paper_dict = row.to_dict()\n",
    "\n",
    "        # Try to get text from txt file first\n",
    "        if os.path.exists(txt_path):\n",
    "            with open(txt_path, 'r', encoding='utf-8') as f:\n",
    "                paper_dict['text'] = f.read()\n",
    "        # If txt doesn't exist, extract from PDF\n",
    "        elif os.path.exists(pdf_path):\n",
    "            paper_dict['text'] = extract_text_from_pdf(pdf_path)\n",
    "        else:\n",
    "            paper_dict['text'] = \"\"\n",
    "            print(pdf_path)\n",
    "            print(f\"Neither txt nor pdf found for paper {paper_id}\")\n",
    "\n",
    "        year_data.append(paper_dict)\n",
    "\n",
    "    # Save to JSON\n",
    "    output_path = f'./data/unified_text/NeurIPS/{year}.json'\n",
    "    with open(output_path, 'w', encoding='utf-8') as f:\n",
    "        json.dump(year_data, f, ensure_ascii=False, indent=2)\n"
   ],
   "id": "69a249537e748361",
   "outputs": [
    {
     "name": "stderr",
     "output_type": "stream",
     "text": [
      "100%|██████████| 77/77 [00:00<00:00, 2208.22it/s]\n",
      "100%|██████████| 72/72 [00:00<00:00, 1984.57it/s]"
     ]
    },
    {
     "name": "stdout",
     "output_type": "stream",
     "text": [
      "./data/pdfs/neurips_23_24/The PRISM Alignment Dataset_ What Participatory, Representative and Individualised Human Feedback Reveals About the Subjective and Multicultural Alignment of Large Language Models.pdf\n",
      "Neither txt nor pdf found for paper DFr5hteojx\n"
     ]
    },
    {
     "name": "stderr",
     "output_type": "stream",
     "text": [
      "\n"
     ]
    }
   ],
   "execution_count": 9
  },
  {
   "metadata": {
    "ExecuteTime": {
     "end_time": "2025-05-13T20:22:54.091950Z",
     "start_time": "2025-05-13T20:22:52.989533Z"
    }
   },
   "cell_type": "code",
   "source": [
    "text = extract_text_from_pdf('./data/pdfs/neurips_23_24/The PRISM Alignment Dataset_ What Participatory, Representative and Individualised Human Feedback Reveals About the Subjective and Multicultural Alignment of Large L.pdf')\n",
    "with open(\"data/unified_text/NeurIPS/NeurIPS_2024.json\", \"r\", encoding=\"utf-8\") as f:\n",
    "    data = json.load(f)\n",
    "for entry in data:\n",
    "    if entry['title'] == 'The PRISM Alignment Dataset_ What Participatory, Representative and Individualised Human Feedback Reveals About the Subjective and Multicultural Alignment of Large Language Models':\n",
    "        entry['text'] = text\n",
    "        print('success')\n",
    "with open(\"data/unified_text/NeurIPS/NeurIPS_2024.json\", \"w\", encoding=\"utf-8\") as f:\n",
    "    json.dump(data, f, ensure_ascii=False, indent=2)\n"
   ],
   "id": "266e259a9f2e91e",
   "outputs": [
    {
     "name": "stdout",
     "output_type": "stream",
     "text": [
      "success\n"
     ]
    }
   ],
   "execution_count": 17
  },
  {
   "metadata": {
    "ExecuteTime": {
     "end_time": "2025-05-13T20:25:39.046487Z",
     "start_time": "2025-05-13T20:25:38.623303Z"
    }
   },
   "cell_type": "code",
   "source": [
    "import pandas as pd\n",
    "df = pd.read_csv('./data/metadata/ICLR_2021_2024.csv')\n",
    "df = df[df['year'] == 2024]\n",
    "print(df.shape)\n",
    "\n",
    "with open(\"./data/unified_text/ICLR/ICLR_2024.json\", \"r\", encoding=\"utf-8\") as f:\n",
    "    data = json.load(f)\n",
    "\n",
    "count = 0\n",
    "miss_content = 0\n",
    "for entry in data:\n",
    "    count += 1\n",
    "    if entry['text'] == '':\n",
    "        miss_content += 1\n",
    "        print(entry['title'])\n",
    "print(count)\n",
    "print(miss_content)"
   ],
   "id": "49a322a0526e8cb3",
   "outputs": [
    {
     "name": "stdout",
     "output_type": "stream",
     "text": [
      "(86, 11)\n",
      "86\n",
      "0\n"
     ]
    }
   ],
   "execution_count": 26
  },
  {
   "metadata": {
    "ExecuteTime": {
     "end_time": "2025-05-14T15:54:20.858916Z",
     "start_time": "2025-05-14T15:49:11.731835Z"
    }
   },
   "cell_type": "code",
   "source": [
    "from sentence_transformers import SentenceTransformer\n",
    "\n",
    "model = SentenceTransformer(\"Alibaba-NLP/gte-Qwen2-7B-instruct\", trust_remote_code=True)\n",
    "# In case you want to reduce the maximum length:\n",
    "model.max_seq_length = 8192\n",
    "\n",
    "doc1 = \"As a general guideline, the CDC's average requirement of protein for women ages 19 to 70 is 46 grams per day. But, as you can see from this chart, you'll need to increase that if you're expecting or training for a marathon. Check out the chart below to see how much protein you should be eating each day.\"\n",
    "\n",
    "doc2 = \"Definition of summit for English Language Learners. : 1  the highest point of a mountain : the top of a mountain. : 2  the highest level. : 3  a meeting or series of meetings between the leaders of two or more governments.\"\n",
    "\n",
    "\n",
    "\n",
    "doc1_emb = model.encode(doc1)\n",
    "doc2_emb = model.encode(doc2)\n",
    "\n",
    "score = (doc1_emb @ doc2_emb.T) * 100\n",
    "\n",
    "\n",
    "print(score.tolist())\n"
   ],
   "id": "fec346ee15d81d9e",
   "outputs": [
    {
     "name": "stderr",
     "output_type": "stream",
     "text": [
      "C:\\Users\\tiend\\PycharmProjects\\Fair-Conference-Scheduling\\.venv\\Lib\\site-packages\\tqdm\\auto.py:21: TqdmWarning: IProgress not found. Please update jupyter and ipywidgets. See https://ipywidgets.readthedocs.io/en/stable/user_install.html\n",
      "  from .autonotebook import tqdm as notebook_tqdm\n",
      "C:\\Users\\tiend\\PycharmProjects\\Fair-Conference-Scheduling\\.venv\\Lib\\site-packages\\huggingface_hub\\file_download.py:143: UserWarning: `huggingface_hub` cache-system uses symlinks by default to efficiently store duplicated files but your machine does not support them in C:\\Users\\tiend\\.cache\\huggingface\\hub\\models--Alibaba-NLP--gte-Qwen2-7B-instruct. Caching files will still work but in a degraded version that might require more space on your disk. This warning can be disabled by setting the `HF_HUB_DISABLE_SYMLINKS_WARNING` environment variable. For more details, see https://huggingface.co/docs/huggingface_hub/how-to-cache#limitations.\n",
      "To support symlinks on Windows, you either need to activate Developer Mode or to run Python as an administrator. In order to activate developer mode, see this article: https://docs.microsoft.com/en-us/windows/apps/get-started/enable-your-device-for-development\n",
      "  warnings.warn(message)\n",
      "A new version of the following files was downloaded from https://huggingface.co/Alibaba-NLP/gte-Qwen2-7B-instruct:\n",
      "- modeling_qwen.py\n",
      ". Make sure to double-check they do not contain any added malicious code. To avoid downloading new versions of the code file, you can pin a revision.\n",
      "Fetching 7 files:   0%|          | 0/7 [04:34<?, ?it/s]\n"
     ]
    },
    {
     "ename": "KeyboardInterrupt",
     "evalue": "",
     "output_type": "error",
     "traceback": [
      "\u001B[31m---------------------------------------------------------------------------\u001B[39m",
      "\u001B[31mKeyboardInterrupt\u001B[39m                         Traceback (most recent call last)",
      "\u001B[36mCell\u001B[39m\u001B[36m \u001B[39m\u001B[32mIn[1]\u001B[39m\u001B[32m, line 3\u001B[39m\n\u001B[32m      1\u001B[39m \u001B[38;5;28;01mfrom\u001B[39;00m\u001B[38;5;250m \u001B[39m\u001B[34;01msentence_transformers\u001B[39;00m\u001B[38;5;250m \u001B[39m\u001B[38;5;28;01mimport\u001B[39;00m SentenceTransformer\n\u001B[32m----> \u001B[39m\u001B[32m3\u001B[39m model = \u001B[43mSentenceTransformer\u001B[49m\u001B[43m(\u001B[49m\u001B[33;43m\"\u001B[39;49m\u001B[33;43mAlibaba-NLP/gte-Qwen2-7B-instruct\u001B[39;49m\u001B[33;43m\"\u001B[39;49m\u001B[43m,\u001B[49m\u001B[43m \u001B[49m\u001B[43mtrust_remote_code\u001B[49m\u001B[43m=\u001B[49m\u001B[38;5;28;43;01mTrue\u001B[39;49;00m\u001B[43m)\u001B[49m\n\u001B[32m      4\u001B[39m \u001B[38;5;66;03m# In case you want to reduce the maximum length:\u001B[39;00m\n\u001B[32m      5\u001B[39m model.max_seq_length = \u001B[32m8192\u001B[39m\n",
      "\u001B[36mFile \u001B[39m\u001B[32m~\\PycharmProjects\\Fair-Conference-Scheduling\\.venv\\Lib\\site-packages\\sentence_transformers\\SentenceTransformer.py:309\u001B[39m, in \u001B[36mSentenceTransformer.__init__\u001B[39m\u001B[34m(self, model_name_or_path, modules, device, prompts, default_prompt_name, similarity_fn_name, cache_folder, trust_remote_code, revision, local_files_only, token, use_auth_token, truncate_dim, model_kwargs, tokenizer_kwargs, config_kwargs, model_card_data, backend)\u001B[39m\n\u001B[32m    300\u001B[39m         model_name_or_path = __MODEL_HUB_ORGANIZATION__ + \u001B[33m\"\u001B[39m\u001B[33m/\u001B[39m\u001B[33m\"\u001B[39m + model_name_or_path\n\u001B[32m    302\u001B[39m \u001B[38;5;28;01mif\u001B[39;00m is_sentence_transformer_model(\n\u001B[32m    303\u001B[39m     model_name_or_path,\n\u001B[32m    304\u001B[39m     token,\n\u001B[32m   (...)\u001B[39m\u001B[32m    307\u001B[39m     local_files_only=local_files_only,\n\u001B[32m    308\u001B[39m ):\n\u001B[32m--> \u001B[39m\u001B[32m309\u001B[39m     modules, \u001B[38;5;28mself\u001B[39m.module_kwargs = \u001B[38;5;28;43mself\u001B[39;49m\u001B[43m.\u001B[49m\u001B[43m_load_sbert_model\u001B[49m\u001B[43m(\u001B[49m\n\u001B[32m    310\u001B[39m \u001B[43m        \u001B[49m\u001B[43mmodel_name_or_path\u001B[49m\u001B[43m,\u001B[49m\n\u001B[32m    311\u001B[39m \u001B[43m        \u001B[49m\u001B[43mtoken\u001B[49m\u001B[43m=\u001B[49m\u001B[43mtoken\u001B[49m\u001B[43m,\u001B[49m\n\u001B[32m    312\u001B[39m \u001B[43m        \u001B[49m\u001B[43mcache_folder\u001B[49m\u001B[43m=\u001B[49m\u001B[43mcache_folder\u001B[49m\u001B[43m,\u001B[49m\n\u001B[32m    313\u001B[39m \u001B[43m        \u001B[49m\u001B[43mrevision\u001B[49m\u001B[43m=\u001B[49m\u001B[43mrevision\u001B[49m\u001B[43m,\u001B[49m\n\u001B[32m    314\u001B[39m \u001B[43m        \u001B[49m\u001B[43mtrust_remote_code\u001B[49m\u001B[43m=\u001B[49m\u001B[43mtrust_remote_code\u001B[49m\u001B[43m,\u001B[49m\n\u001B[32m    315\u001B[39m \u001B[43m        \u001B[49m\u001B[43mlocal_files_only\u001B[49m\u001B[43m=\u001B[49m\u001B[43mlocal_files_only\u001B[49m\u001B[43m,\u001B[49m\n\u001B[32m    316\u001B[39m \u001B[43m        \u001B[49m\u001B[43mmodel_kwargs\u001B[49m\u001B[43m=\u001B[49m\u001B[43mmodel_kwargs\u001B[49m\u001B[43m,\u001B[49m\n\u001B[32m    317\u001B[39m \u001B[43m        \u001B[49m\u001B[43mtokenizer_kwargs\u001B[49m\u001B[43m=\u001B[49m\u001B[43mtokenizer_kwargs\u001B[49m\u001B[43m,\u001B[49m\n\u001B[32m    318\u001B[39m \u001B[43m        \u001B[49m\u001B[43mconfig_kwargs\u001B[49m\u001B[43m=\u001B[49m\u001B[43mconfig_kwargs\u001B[49m\u001B[43m,\u001B[49m\n\u001B[32m    319\u001B[39m \u001B[43m    \u001B[49m\u001B[43m)\u001B[49m\n\u001B[32m    320\u001B[39m \u001B[38;5;28;01melse\u001B[39;00m:\n\u001B[32m    321\u001B[39m     modules = \u001B[38;5;28mself\u001B[39m._load_auto_model(\n\u001B[32m    322\u001B[39m         model_name_or_path,\n\u001B[32m    323\u001B[39m         token=token,\n\u001B[32m   (...)\u001B[39m\u001B[32m    330\u001B[39m         config_kwargs=config_kwargs,\n\u001B[32m    331\u001B[39m     )\n",
      "\u001B[36mFile \u001B[39m\u001B[32m~\\PycharmProjects\\Fair-Conference-Scheduling\\.venv\\Lib\\site-packages\\sentence_transformers\\SentenceTransformer.py:1808\u001B[39m, in \u001B[36mSentenceTransformer._load_sbert_model\u001B[39m\u001B[34m(self, model_name_or_path, token, cache_folder, revision, trust_remote_code, local_files_only, model_kwargs, tokenizer_kwargs, config_kwargs)\u001B[39m\n\u001B[32m   1805\u001B[39m \u001B[38;5;66;03m# Try to initialize the module with a lot of kwargs, but only if the module supports them\u001B[39;00m\n\u001B[32m   1806\u001B[39m \u001B[38;5;66;03m# Otherwise we fall back to the load method\u001B[39;00m\n\u001B[32m   1807\u001B[39m \u001B[38;5;28;01mtry\u001B[39;00m:\n\u001B[32m-> \u001B[39m\u001B[32m1808\u001B[39m     module = \u001B[43mmodule_class\u001B[49m\u001B[43m(\u001B[49m\u001B[43mmodel_name_or_path\u001B[49m\u001B[43m,\u001B[49m\u001B[43m \u001B[49m\u001B[43mcache_dir\u001B[49m\u001B[43m=\u001B[49m\u001B[43mcache_folder\u001B[49m\u001B[43m,\u001B[49m\u001B[43m \u001B[49m\u001B[43mbackend\u001B[49m\u001B[43m=\u001B[49m\u001B[38;5;28;43mself\u001B[39;49m\u001B[43m.\u001B[49m\u001B[43mbackend\u001B[49m\u001B[43m,\u001B[49m\u001B[43m \u001B[49m\u001B[43m*\u001B[49m\u001B[43m*\u001B[49m\u001B[43mkwargs\u001B[49m\u001B[43m)\u001B[49m\n\u001B[32m   1809\u001B[39m \u001B[38;5;28;01mexcept\u001B[39;00m \u001B[38;5;167;01mTypeError\u001B[39;00m:\n\u001B[32m   1810\u001B[39m     module = module_class.load(model_name_or_path)\n",
      "\u001B[36mFile \u001B[39m\u001B[32m~\\PycharmProjects\\Fair-Conference-Scheduling\\.venv\\Lib\\site-packages\\sentence_transformers\\models\\Transformer.py:81\u001B[39m, in \u001B[36mTransformer.__init__\u001B[39m\u001B[34m(self, model_name_or_path, max_seq_length, model_args, tokenizer_args, config_args, cache_dir, do_lower_case, tokenizer_name_or_path, backend)\u001B[39m\n\u001B[32m     78\u001B[39m     config_args = {}\n\u001B[32m     80\u001B[39m config, is_peft_model = \u001B[38;5;28mself\u001B[39m._load_config(model_name_or_path, cache_dir, backend, config_args)\n\u001B[32m---> \u001B[39m\u001B[32m81\u001B[39m \u001B[38;5;28;43mself\u001B[39;49m\u001B[43m.\u001B[49m\u001B[43m_load_model\u001B[49m\u001B[43m(\u001B[49m\u001B[43mmodel_name_or_path\u001B[49m\u001B[43m,\u001B[49m\u001B[43m \u001B[49m\u001B[43mconfig\u001B[49m\u001B[43m,\u001B[49m\u001B[43m \u001B[49m\u001B[43mcache_dir\u001B[49m\u001B[43m,\u001B[49m\u001B[43m \u001B[49m\u001B[43mbackend\u001B[49m\u001B[43m,\u001B[49m\u001B[43m \u001B[49m\u001B[43mis_peft_model\u001B[49m\u001B[43m,\u001B[49m\u001B[43m \u001B[49m\u001B[43m*\u001B[49m\u001B[43m*\u001B[49m\u001B[43mmodel_args\u001B[49m\u001B[43m)\u001B[49m\n\u001B[32m     83\u001B[39m \u001B[38;5;28;01mif\u001B[39;00m max_seq_length \u001B[38;5;129;01mis\u001B[39;00m \u001B[38;5;129;01mnot\u001B[39;00m \u001B[38;5;28;01mNone\u001B[39;00m \u001B[38;5;129;01mand\u001B[39;00m \u001B[33m\"\u001B[39m\u001B[33mmodel_max_length\u001B[39m\u001B[33m\"\u001B[39m \u001B[38;5;129;01mnot\u001B[39;00m \u001B[38;5;129;01min\u001B[39;00m tokenizer_args:\n\u001B[32m     84\u001B[39m     tokenizer_args[\u001B[33m\"\u001B[39m\u001B[33mmodel_max_length\u001B[39m\u001B[33m\"\u001B[39m] = max_seq_length\n",
      "\u001B[36mFile \u001B[39m\u001B[32m~\\PycharmProjects\\Fair-Conference-Scheduling\\.venv\\Lib\\site-packages\\sentence_transformers\\models\\Transformer.py:181\u001B[39m, in \u001B[36mTransformer._load_model\u001B[39m\u001B[34m(self, model_name_or_path, config, cache_dir, backend, is_peft_model, **model_args)\u001B[39m\n\u001B[32m    179\u001B[39m     \u001B[38;5;28mself\u001B[39m._load_mt5_model(model_name_or_path, config, cache_dir, **model_args)\n\u001B[32m    180\u001B[39m \u001B[38;5;28;01melse\u001B[39;00m:\n\u001B[32m--> \u001B[39m\u001B[32m181\u001B[39m     \u001B[38;5;28mself\u001B[39m.auto_model = \u001B[43mAutoModel\u001B[49m\u001B[43m.\u001B[49m\u001B[43mfrom_pretrained\u001B[49m\u001B[43m(\u001B[49m\n\u001B[32m    182\u001B[39m \u001B[43m        \u001B[49m\u001B[43mmodel_name_or_path\u001B[49m\u001B[43m,\u001B[49m\u001B[43m \u001B[49m\u001B[43mconfig\u001B[49m\u001B[43m=\u001B[49m\u001B[43mconfig\u001B[49m\u001B[43m,\u001B[49m\u001B[43m \u001B[49m\u001B[43mcache_dir\u001B[49m\u001B[43m=\u001B[49m\u001B[43mcache_dir\u001B[49m\u001B[43m,\u001B[49m\u001B[43m \u001B[49m\u001B[43m*\u001B[49m\u001B[43m*\u001B[49m\u001B[43mmodel_args\u001B[49m\n\u001B[32m    183\u001B[39m \u001B[43m    \u001B[49m\u001B[43m)\u001B[49m\n\u001B[32m    185\u001B[39m \u001B[38;5;28;01mif\u001B[39;00m is_peft_model:\n\u001B[32m    186\u001B[39m     \u001B[38;5;28mself\u001B[39m._load_peft_model(model_name_or_path, config, cache_dir, **model_args, **adapter_only_kwargs)\n",
      "\u001B[36mFile \u001B[39m\u001B[32m~\\PycharmProjects\\Fair-Conference-Scheduling\\.venv\\Lib\\site-packages\\transformers\\models\\auto\\auto_factory.py:564\u001B[39m, in \u001B[36m_BaseAutoModelClass.from_pretrained\u001B[39m\u001B[34m(cls, pretrained_model_name_or_path, *model_args, **kwargs)\u001B[39m\n\u001B[32m    562\u001B[39m     \u001B[38;5;28mcls\u001B[39m.register(config.\u001B[34m__class__\u001B[39m, model_class, exist_ok=\u001B[38;5;28;01mTrue\u001B[39;00m)\n\u001B[32m    563\u001B[39m     model_class = add_generation_mixin_to_remote_model(model_class)\n\u001B[32m--> \u001B[39m\u001B[32m564\u001B[39m     \u001B[38;5;28;01mreturn\u001B[39;00m \u001B[43mmodel_class\u001B[49m\u001B[43m.\u001B[49m\u001B[43mfrom_pretrained\u001B[49m\u001B[43m(\u001B[49m\n\u001B[32m    565\u001B[39m \u001B[43m        \u001B[49m\u001B[43mpretrained_model_name_or_path\u001B[49m\u001B[43m,\u001B[49m\u001B[43m \u001B[49m\u001B[43m*\u001B[49m\u001B[43mmodel_args\u001B[49m\u001B[43m,\u001B[49m\u001B[43m \u001B[49m\u001B[43mconfig\u001B[49m\u001B[43m=\u001B[49m\u001B[43mconfig\u001B[49m\u001B[43m,\u001B[49m\u001B[43m \u001B[49m\u001B[43m*\u001B[49m\u001B[43m*\u001B[49m\u001B[43mhub_kwargs\u001B[49m\u001B[43m,\u001B[49m\u001B[43m \u001B[49m\u001B[43m*\u001B[49m\u001B[43m*\u001B[49m\u001B[43mkwargs\u001B[49m\n\u001B[32m    566\u001B[39m \u001B[43m    \u001B[49m\u001B[43m)\u001B[49m\n\u001B[32m    567\u001B[39m \u001B[38;5;28;01melif\u001B[39;00m \u001B[38;5;28mtype\u001B[39m(config) \u001B[38;5;129;01min\u001B[39;00m \u001B[38;5;28mcls\u001B[39m._model_mapping.keys():\n\u001B[32m    568\u001B[39m     model_class = _get_model_class(config, \u001B[38;5;28mcls\u001B[39m._model_mapping)\n",
      "\u001B[36mFile \u001B[39m\u001B[32m~\\PycharmProjects\\Fair-Conference-Scheduling\\.venv\\Lib\\site-packages\\transformers\\modeling_utils.py:279\u001B[39m, in \u001B[36mrestore_default_torch_dtype.<locals>._wrapper\u001B[39m\u001B[34m(*args, **kwargs)\u001B[39m\n\u001B[32m    277\u001B[39m old_dtype = torch.get_default_dtype()\n\u001B[32m    278\u001B[39m \u001B[38;5;28;01mtry\u001B[39;00m:\n\u001B[32m--> \u001B[39m\u001B[32m279\u001B[39m     \u001B[38;5;28;01mreturn\u001B[39;00m \u001B[43mfunc\u001B[49m\u001B[43m(\u001B[49m\u001B[43m*\u001B[49m\u001B[43margs\u001B[49m\u001B[43m,\u001B[49m\u001B[43m \u001B[49m\u001B[43m*\u001B[49m\u001B[43m*\u001B[49m\u001B[43mkwargs\u001B[49m\u001B[43m)\u001B[49m\n\u001B[32m    280\u001B[39m \u001B[38;5;28;01mfinally\u001B[39;00m:\n\u001B[32m    281\u001B[39m     torch.set_default_dtype(old_dtype)\n",
      "\u001B[36mFile \u001B[39m\u001B[32m~\\PycharmProjects\\Fair-Conference-Scheduling\\.venv\\Lib\\site-packages\\transformers\\modeling_utils.py:4260\u001B[39m, in \u001B[36mPreTrainedModel.from_pretrained\u001B[39m\u001B[34m(cls, pretrained_model_name_or_path, config, cache_dir, ignore_mismatched_sizes, force_download, local_files_only, token, revision, use_safetensors, weights_only, *model_args, **kwargs)\u001B[39m\n\u001B[32m   4250\u001B[39m \u001B[38;5;28;01mif\u001B[39;00m (\n\u001B[32m   4251\u001B[39m     gguf_file\n\u001B[32m   4252\u001B[39m     \u001B[38;5;129;01mand\u001B[39;00m device_map \u001B[38;5;129;01mis\u001B[39;00m \u001B[38;5;129;01mnot\u001B[39;00m \u001B[38;5;28;01mNone\u001B[39;00m\n\u001B[32m   4253\u001B[39m     \u001B[38;5;129;01mand\u001B[39;00m ((\u001B[38;5;28misinstance\u001B[39m(device_map, \u001B[38;5;28mdict\u001B[39m) \u001B[38;5;129;01mand\u001B[39;00m \u001B[33m\"\u001B[39m\u001B[33mdisk\u001B[39m\u001B[33m\"\u001B[39m \u001B[38;5;129;01min\u001B[39;00m device_map.values()) \u001B[38;5;129;01mor\u001B[39;00m \u001B[33m\"\u001B[39m\u001B[33mdisk\u001B[39m\u001B[33m\"\u001B[39m \u001B[38;5;129;01min\u001B[39;00m device_map)\n\u001B[32m   4254\u001B[39m ):\n\u001B[32m   4255\u001B[39m     \u001B[38;5;28;01mraise\u001B[39;00m \u001B[38;5;167;01mRuntimeError\u001B[39;00m(\n\u001B[32m   4256\u001B[39m         \u001B[33m\"\u001B[39m\u001B[33mOne or more modules is configured to be mapped to disk. Disk offload is not supported for models \u001B[39m\u001B[33m\"\u001B[39m\n\u001B[32m   4257\u001B[39m         \u001B[33m\"\u001B[39m\u001B[33mloaded from GGUF files.\u001B[39m\u001B[33m\"\u001B[39m\n\u001B[32m   4258\u001B[39m     )\n\u001B[32m-> \u001B[39m\u001B[32m4260\u001B[39m checkpoint_files, sharded_metadata = \u001B[43m_get_resolved_checkpoint_files\u001B[49m\u001B[43m(\u001B[49m\n\u001B[32m   4261\u001B[39m \u001B[43m    \u001B[49m\u001B[43mpretrained_model_name_or_path\u001B[49m\u001B[43m=\u001B[49m\u001B[43mpretrained_model_name_or_path\u001B[49m\u001B[43m,\u001B[49m\n\u001B[32m   4262\u001B[39m \u001B[43m    \u001B[49m\u001B[43msubfolder\u001B[49m\u001B[43m=\u001B[49m\u001B[43msubfolder\u001B[49m\u001B[43m,\u001B[49m\n\u001B[32m   4263\u001B[39m \u001B[43m    \u001B[49m\u001B[43mvariant\u001B[49m\u001B[43m=\u001B[49m\u001B[43mvariant\u001B[49m\u001B[43m,\u001B[49m\n\u001B[32m   4264\u001B[39m \u001B[43m    \u001B[49m\u001B[43mgguf_file\u001B[49m\u001B[43m=\u001B[49m\u001B[43mgguf_file\u001B[49m\u001B[43m,\u001B[49m\n\u001B[32m   4265\u001B[39m \u001B[43m    \u001B[49m\u001B[43mfrom_tf\u001B[49m\u001B[43m=\u001B[49m\u001B[43mfrom_tf\u001B[49m\u001B[43m,\u001B[49m\n\u001B[32m   4266\u001B[39m \u001B[43m    \u001B[49m\u001B[43mfrom_flax\u001B[49m\u001B[43m=\u001B[49m\u001B[43mfrom_flax\u001B[49m\u001B[43m,\u001B[49m\n\u001B[32m   4267\u001B[39m \u001B[43m    \u001B[49m\u001B[43muse_safetensors\u001B[49m\u001B[43m=\u001B[49m\u001B[43muse_safetensors\u001B[49m\u001B[43m,\u001B[49m\n\u001B[32m   4268\u001B[39m \u001B[43m    \u001B[49m\u001B[43mcache_dir\u001B[49m\u001B[43m=\u001B[49m\u001B[43mcache_dir\u001B[49m\u001B[43m,\u001B[49m\n\u001B[32m   4269\u001B[39m \u001B[43m    \u001B[49m\u001B[43mforce_download\u001B[49m\u001B[43m=\u001B[49m\u001B[43mforce_download\u001B[49m\u001B[43m,\u001B[49m\n\u001B[32m   4270\u001B[39m \u001B[43m    \u001B[49m\u001B[43mproxies\u001B[49m\u001B[43m=\u001B[49m\u001B[43mproxies\u001B[49m\u001B[43m,\u001B[49m\n\u001B[32m   4271\u001B[39m \u001B[43m    \u001B[49m\u001B[43mlocal_files_only\u001B[49m\u001B[43m=\u001B[49m\u001B[43mlocal_files_only\u001B[49m\u001B[43m,\u001B[49m\n\u001B[32m   4272\u001B[39m \u001B[43m    \u001B[49m\u001B[43mtoken\u001B[49m\u001B[43m=\u001B[49m\u001B[43mtoken\u001B[49m\u001B[43m,\u001B[49m\n\u001B[32m   4273\u001B[39m \u001B[43m    \u001B[49m\u001B[43muser_agent\u001B[49m\u001B[43m=\u001B[49m\u001B[43muser_agent\u001B[49m\u001B[43m,\u001B[49m\n\u001B[32m   4274\u001B[39m \u001B[43m    \u001B[49m\u001B[43mrevision\u001B[49m\u001B[43m=\u001B[49m\u001B[43mrevision\u001B[49m\u001B[43m,\u001B[49m\n\u001B[32m   4275\u001B[39m \u001B[43m    \u001B[49m\u001B[43mcommit_hash\u001B[49m\u001B[43m=\u001B[49m\u001B[43mcommit_hash\u001B[49m\u001B[43m,\u001B[49m\n\u001B[32m   4276\u001B[39m \u001B[43m\u001B[49m\u001B[43m)\u001B[49m\n\u001B[32m   4278\u001B[39m is_sharded = sharded_metadata \u001B[38;5;129;01mis\u001B[39;00m \u001B[38;5;129;01mnot\u001B[39;00m \u001B[38;5;28;01mNone\u001B[39;00m\n\u001B[32m   4279\u001B[39m is_quantized = hf_quantizer \u001B[38;5;129;01mis\u001B[39;00m \u001B[38;5;129;01mnot\u001B[39;00m \u001B[38;5;28;01mNone\u001B[39;00m\n",
      "\u001B[36mFile \u001B[39m\u001B[32m~\\PycharmProjects\\Fair-Conference-Scheduling\\.venv\\Lib\\site-packages\\transformers\\modeling_utils.py:1152\u001B[39m, in \u001B[36m_get_resolved_checkpoint_files\u001B[39m\u001B[34m(pretrained_model_name_or_path, subfolder, variant, gguf_file, from_tf, from_flax, use_safetensors, cache_dir, force_download, proxies, local_files_only, token, user_agent, revision, commit_hash)\u001B[39m\n\u001B[32m   1150\u001B[39m sharded_metadata = \u001B[38;5;28;01mNone\u001B[39;00m\n\u001B[32m   1151\u001B[39m \u001B[38;5;28;01mif\u001B[39;00m is_sharded:\n\u001B[32m-> \u001B[39m\u001B[32m1152\u001B[39m     checkpoint_files, sharded_metadata = \u001B[43mget_checkpoint_shard_files\u001B[49m\u001B[43m(\u001B[49m\n\u001B[32m   1153\u001B[39m \u001B[43m        \u001B[49m\u001B[43mpretrained_model_name_or_path\u001B[49m\u001B[43m,\u001B[49m\n\u001B[32m   1154\u001B[39m \u001B[43m        \u001B[49m\u001B[43mresolved_archive_file\u001B[49m\u001B[43m,\u001B[49m\n\u001B[32m   1155\u001B[39m \u001B[43m        \u001B[49m\u001B[43mcache_dir\u001B[49m\u001B[43m=\u001B[49m\u001B[43mcache_dir\u001B[49m\u001B[43m,\u001B[49m\n\u001B[32m   1156\u001B[39m \u001B[43m        \u001B[49m\u001B[43mforce_download\u001B[49m\u001B[43m=\u001B[49m\u001B[43mforce_download\u001B[49m\u001B[43m,\u001B[49m\n\u001B[32m   1157\u001B[39m \u001B[43m        \u001B[49m\u001B[43mproxies\u001B[49m\u001B[43m=\u001B[49m\u001B[43mproxies\u001B[49m\u001B[43m,\u001B[49m\n\u001B[32m   1158\u001B[39m \u001B[43m        \u001B[49m\u001B[43mlocal_files_only\u001B[49m\u001B[43m=\u001B[49m\u001B[43mlocal_files_only\u001B[49m\u001B[43m,\u001B[49m\n\u001B[32m   1159\u001B[39m \u001B[43m        \u001B[49m\u001B[43mtoken\u001B[49m\u001B[43m=\u001B[49m\u001B[43mtoken\u001B[49m\u001B[43m,\u001B[49m\n\u001B[32m   1160\u001B[39m \u001B[43m        \u001B[49m\u001B[43muser_agent\u001B[49m\u001B[43m=\u001B[49m\u001B[43muser_agent\u001B[49m\u001B[43m,\u001B[49m\n\u001B[32m   1161\u001B[39m \u001B[43m        \u001B[49m\u001B[43mrevision\u001B[49m\u001B[43m=\u001B[49m\u001B[43mrevision\u001B[49m\u001B[43m,\u001B[49m\n\u001B[32m   1162\u001B[39m \u001B[43m        \u001B[49m\u001B[43msubfolder\u001B[49m\u001B[43m=\u001B[49m\u001B[43msubfolder\u001B[49m\u001B[43m,\u001B[49m\n\u001B[32m   1163\u001B[39m \u001B[43m        \u001B[49m\u001B[43m_commit_hash\u001B[49m\u001B[43m=\u001B[49m\u001B[43mcommit_hash\u001B[49m\u001B[43m,\u001B[49m\n\u001B[32m   1164\u001B[39m \u001B[43m    \u001B[49m\u001B[43m)\u001B[49m\n\u001B[32m   1165\u001B[39m \u001B[38;5;28;01melse\u001B[39;00m:\n\u001B[32m   1166\u001B[39m     checkpoint_files = [resolved_archive_file] \u001B[38;5;28;01mif\u001B[39;00m pretrained_model_name_or_path \u001B[38;5;129;01mis\u001B[39;00m \u001B[38;5;129;01mnot\u001B[39;00m \u001B[38;5;28;01mNone\u001B[39;00m \u001B[38;5;28;01melse\u001B[39;00m \u001B[38;5;28;01mNone\u001B[39;00m\n",
      "\u001B[36mFile \u001B[39m\u001B[32m~\\PycharmProjects\\Fair-Conference-Scheduling\\.venv\\Lib\\site-packages\\transformers\\utils\\hub.py:1115\u001B[39m, in \u001B[36mget_checkpoint_shard_files\u001B[39m\u001B[34m(pretrained_model_name_or_path, index_filename, cache_dir, force_download, proxies, resume_download, local_files_only, token, user_agent, revision, subfolder, _commit_hash, **deprecated_kwargs)\u001B[39m\n\u001B[32m   1111\u001B[39m     \u001B[38;5;28;01mreturn\u001B[39;00m shard_filenames, sharded_metadata\n\u001B[32m   1113\u001B[39m \u001B[38;5;66;03m# At this stage pretrained_model_name_or_path is a model identifier on the Hub. Try to get everything from cache,\u001B[39;00m\n\u001B[32m   1114\u001B[39m \u001B[38;5;66;03m# or download the files\u001B[39;00m\n\u001B[32m-> \u001B[39m\u001B[32m1115\u001B[39m cached_filenames = \u001B[43mcached_files\u001B[49m\u001B[43m(\u001B[49m\n\u001B[32m   1116\u001B[39m \u001B[43m    \u001B[49m\u001B[43mpretrained_model_name_or_path\u001B[49m\u001B[43m,\u001B[49m\n\u001B[32m   1117\u001B[39m \u001B[43m    \u001B[49m\u001B[43mshard_filenames\u001B[49m\u001B[43m,\u001B[49m\n\u001B[32m   1118\u001B[39m \u001B[43m    \u001B[49m\u001B[43mcache_dir\u001B[49m\u001B[43m=\u001B[49m\u001B[43mcache_dir\u001B[49m\u001B[43m,\u001B[49m\n\u001B[32m   1119\u001B[39m \u001B[43m    \u001B[49m\u001B[43mforce_download\u001B[49m\u001B[43m=\u001B[49m\u001B[43mforce_download\u001B[49m\u001B[43m,\u001B[49m\n\u001B[32m   1120\u001B[39m \u001B[43m    \u001B[49m\u001B[43mproxies\u001B[49m\u001B[43m=\u001B[49m\u001B[43mproxies\u001B[49m\u001B[43m,\u001B[49m\n\u001B[32m   1121\u001B[39m \u001B[43m    \u001B[49m\u001B[43mresume_download\u001B[49m\u001B[43m=\u001B[49m\u001B[43mresume_download\u001B[49m\u001B[43m,\u001B[49m\n\u001B[32m   1122\u001B[39m \u001B[43m    \u001B[49m\u001B[43mlocal_files_only\u001B[49m\u001B[43m=\u001B[49m\u001B[43mlocal_files_only\u001B[49m\u001B[43m,\u001B[49m\n\u001B[32m   1123\u001B[39m \u001B[43m    \u001B[49m\u001B[43mtoken\u001B[49m\u001B[43m=\u001B[49m\u001B[43mtoken\u001B[49m\u001B[43m,\u001B[49m\n\u001B[32m   1124\u001B[39m \u001B[43m    \u001B[49m\u001B[43muser_agent\u001B[49m\u001B[43m=\u001B[49m\u001B[43muser_agent\u001B[49m\u001B[43m,\u001B[49m\n\u001B[32m   1125\u001B[39m \u001B[43m    \u001B[49m\u001B[43mrevision\u001B[49m\u001B[43m=\u001B[49m\u001B[43mrevision\u001B[49m\u001B[43m,\u001B[49m\n\u001B[32m   1126\u001B[39m \u001B[43m    \u001B[49m\u001B[43msubfolder\u001B[49m\u001B[43m=\u001B[49m\u001B[43msubfolder\u001B[49m\u001B[43m,\u001B[49m\n\u001B[32m   1127\u001B[39m \u001B[43m    \u001B[49m\u001B[43m_commit_hash\u001B[49m\u001B[43m=\u001B[49m\u001B[43m_commit_hash\u001B[49m\u001B[43m,\u001B[49m\n\u001B[32m   1128\u001B[39m \u001B[43m\u001B[49m\u001B[43m)\u001B[49m\n\u001B[32m   1130\u001B[39m \u001B[38;5;28;01mreturn\u001B[39;00m cached_filenames, sharded_metadata\n",
      "\u001B[36mFile \u001B[39m\u001B[32m~\\PycharmProjects\\Fair-Conference-Scheduling\\.venv\\Lib\\site-packages\\transformers\\utils\\hub.py:439\u001B[39m, in \u001B[36mcached_files\u001B[39m\u001B[34m(path_or_repo_id, filenames, cache_dir, force_download, resume_download, proxies, token, revision, local_files_only, subfolder, repo_type, user_agent, _raise_exceptions_for_gated_repo, _raise_exceptions_for_missing_entries, _raise_exceptions_for_connection_errors, _commit_hash, **deprecated_kwargs)\u001B[39m\n\u001B[32m    424\u001B[39m         hf_hub_download(\n\u001B[32m    425\u001B[39m             path_or_repo_id,\n\u001B[32m    426\u001B[39m             filenames[\u001B[32m0\u001B[39m],\n\u001B[32m   (...)\u001B[39m\u001B[32m    436\u001B[39m             local_files_only=local_files_only,\n\u001B[32m    437\u001B[39m         )\n\u001B[32m    438\u001B[39m     \u001B[38;5;28;01melse\u001B[39;00m:\n\u001B[32m--> \u001B[39m\u001B[32m439\u001B[39m         \u001B[43msnapshot_download\u001B[49m\u001B[43m(\u001B[49m\n\u001B[32m    440\u001B[39m \u001B[43m            \u001B[49m\u001B[43mpath_or_repo_id\u001B[49m\u001B[43m,\u001B[49m\n\u001B[32m    441\u001B[39m \u001B[43m            \u001B[49m\u001B[43mallow_patterns\u001B[49m\u001B[43m=\u001B[49m\u001B[43mfull_filenames\u001B[49m\u001B[43m,\u001B[49m\n\u001B[32m    442\u001B[39m \u001B[43m            \u001B[49m\u001B[43mrepo_type\u001B[49m\u001B[43m=\u001B[49m\u001B[43mrepo_type\u001B[49m\u001B[43m,\u001B[49m\n\u001B[32m    443\u001B[39m \u001B[43m            \u001B[49m\u001B[43mrevision\u001B[49m\u001B[43m=\u001B[49m\u001B[43mrevision\u001B[49m\u001B[43m,\u001B[49m\n\u001B[32m    444\u001B[39m \u001B[43m            \u001B[49m\u001B[43mcache_dir\u001B[49m\u001B[43m=\u001B[49m\u001B[43mcache_dir\u001B[49m\u001B[43m,\u001B[49m\n\u001B[32m    445\u001B[39m \u001B[43m            \u001B[49m\u001B[43muser_agent\u001B[49m\u001B[43m=\u001B[49m\u001B[43muser_agent\u001B[49m\u001B[43m,\u001B[49m\n\u001B[32m    446\u001B[39m \u001B[43m            \u001B[49m\u001B[43mforce_download\u001B[49m\u001B[43m=\u001B[49m\u001B[43mforce_download\u001B[49m\u001B[43m,\u001B[49m\n\u001B[32m    447\u001B[39m \u001B[43m            \u001B[49m\u001B[43mproxies\u001B[49m\u001B[43m=\u001B[49m\u001B[43mproxies\u001B[49m\u001B[43m,\u001B[49m\n\u001B[32m    448\u001B[39m \u001B[43m            \u001B[49m\u001B[43mresume_download\u001B[49m\u001B[43m=\u001B[49m\u001B[43mresume_download\u001B[49m\u001B[43m,\u001B[49m\n\u001B[32m    449\u001B[39m \u001B[43m            \u001B[49m\u001B[43mtoken\u001B[49m\u001B[43m=\u001B[49m\u001B[43mtoken\u001B[49m\u001B[43m,\u001B[49m\n\u001B[32m    450\u001B[39m \u001B[43m            \u001B[49m\u001B[43mlocal_files_only\u001B[49m\u001B[43m=\u001B[49m\u001B[43mlocal_files_only\u001B[49m\u001B[43m,\u001B[49m\n\u001B[32m    451\u001B[39m \u001B[43m        \u001B[49m\u001B[43m)\u001B[49m\n\u001B[32m    453\u001B[39m \u001B[38;5;28;01mexcept\u001B[39;00m \u001B[38;5;167;01mException\u001B[39;00m \u001B[38;5;28;01mas\u001B[39;00m e:\n\u001B[32m    454\u001B[39m     \u001B[38;5;66;03m# We cannot recover from them\u001B[39;00m\n\u001B[32m    455\u001B[39m     \u001B[38;5;28;01mif\u001B[39;00m \u001B[38;5;28misinstance\u001B[39m(e, RepositoryNotFoundError) \u001B[38;5;129;01mand\u001B[39;00m \u001B[38;5;129;01mnot\u001B[39;00m \u001B[38;5;28misinstance\u001B[39m(e, GatedRepoError):\n",
      "\u001B[36mFile \u001B[39m\u001B[32m~\\PycharmProjects\\Fair-Conference-Scheduling\\.venv\\Lib\\site-packages\\huggingface_hub\\utils\\_validators.py:114\u001B[39m, in \u001B[36mvalidate_hf_hub_args.<locals>._inner_fn\u001B[39m\u001B[34m(*args, **kwargs)\u001B[39m\n\u001B[32m    111\u001B[39m \u001B[38;5;28;01mif\u001B[39;00m check_use_auth_token:\n\u001B[32m    112\u001B[39m     kwargs = smoothly_deprecate_use_auth_token(fn_name=fn.\u001B[34m__name__\u001B[39m, has_token=has_token, kwargs=kwargs)\n\u001B[32m--> \u001B[39m\u001B[32m114\u001B[39m \u001B[38;5;28;01mreturn\u001B[39;00m \u001B[43mfn\u001B[49m\u001B[43m(\u001B[49m\u001B[43m*\u001B[49m\u001B[43margs\u001B[49m\u001B[43m,\u001B[49m\u001B[43m \u001B[49m\u001B[43m*\u001B[49m\u001B[43m*\u001B[49m\u001B[43mkwargs\u001B[49m\u001B[43m)\u001B[49m\n",
      "\u001B[36mFile \u001B[39m\u001B[32m~\\PycharmProjects\\Fair-Conference-Scheduling\\.venv\\Lib\\site-packages\\huggingface_hub\\_snapshot_download.py:297\u001B[39m, in \u001B[36msnapshot_download\u001B[39m\u001B[34m(repo_id, repo_type, revision, cache_dir, local_dir, library_name, library_version, user_agent, proxies, etag_timeout, force_download, token, local_files_only, allow_patterns, ignore_patterns, max_workers, tqdm_class, headers, endpoint, local_dir_use_symlinks, resume_download)\u001B[39m\n\u001B[32m    295\u001B[39m         _inner_hf_hub_download(file)\n\u001B[32m    296\u001B[39m \u001B[38;5;28;01melse\u001B[39;00m:\n\u001B[32m--> \u001B[39m\u001B[32m297\u001B[39m     \u001B[43mthread_map\u001B[49m\u001B[43m(\u001B[49m\n\u001B[32m    298\u001B[39m \u001B[43m        \u001B[49m\u001B[43m_inner_hf_hub_download\u001B[49m\u001B[43m,\u001B[49m\n\u001B[32m    299\u001B[39m \u001B[43m        \u001B[49m\u001B[43mfiltered_repo_files\u001B[49m\u001B[43m,\u001B[49m\n\u001B[32m    300\u001B[39m \u001B[43m        \u001B[49m\u001B[43mdesc\u001B[49m\u001B[43m=\u001B[49m\u001B[33;43mf\u001B[39;49m\u001B[33;43m\"\u001B[39;49m\u001B[33;43mFetching \u001B[39;49m\u001B[38;5;132;43;01m{\u001B[39;49;00m\u001B[38;5;28;43mlen\u001B[39;49m\u001B[43m(\u001B[49m\u001B[43mfiltered_repo_files\u001B[49m\u001B[43m)\u001B[49m\u001B[38;5;132;43;01m}\u001B[39;49;00m\u001B[33;43m files\u001B[39;49m\u001B[33;43m\"\u001B[39;49m\u001B[43m,\u001B[49m\n\u001B[32m    301\u001B[39m \u001B[43m        \u001B[49m\u001B[43mmax_workers\u001B[49m\u001B[43m=\u001B[49m\u001B[43mmax_workers\u001B[49m\u001B[43m,\u001B[49m\n\u001B[32m    302\u001B[39m \u001B[43m        \u001B[49m\u001B[38;5;66;43;03m# User can use its own tqdm class or the default one from `huggingface_hub.utils`\u001B[39;49;00m\n\u001B[32m    303\u001B[39m \u001B[43m        \u001B[49m\u001B[43mtqdm_class\u001B[49m\u001B[43m=\u001B[49m\u001B[43mtqdm_class\u001B[49m\u001B[43m \u001B[49m\u001B[38;5;129;43;01mor\u001B[39;49;00m\u001B[43m \u001B[49m\u001B[43mhf_tqdm\u001B[49m\u001B[43m,\u001B[49m\n\u001B[32m    304\u001B[39m \u001B[43m    \u001B[49m\u001B[43m)\u001B[49m\n\u001B[32m    306\u001B[39m \u001B[38;5;28;01mif\u001B[39;00m local_dir \u001B[38;5;129;01mis\u001B[39;00m \u001B[38;5;129;01mnot\u001B[39;00m \u001B[38;5;28;01mNone\u001B[39;00m:\n\u001B[32m    307\u001B[39m     \u001B[38;5;28;01mreturn\u001B[39;00m \u001B[38;5;28mstr\u001B[39m(os.path.realpath(local_dir))\n",
      "\u001B[36mFile \u001B[39m\u001B[32m~\\PycharmProjects\\Fair-Conference-Scheduling\\.venv\\Lib\\site-packages\\tqdm\\contrib\\concurrent.py:69\u001B[39m, in \u001B[36mthread_map\u001B[39m\u001B[34m(fn, *iterables, **tqdm_kwargs)\u001B[39m\n\u001B[32m     55\u001B[39m \u001B[38;5;250m\u001B[39m\u001B[33;03m\"\"\"\u001B[39;00m\n\u001B[32m     56\u001B[39m \u001B[33;03mEquivalent of `list(map(fn, *iterables))`\u001B[39;00m\n\u001B[32m     57\u001B[39m \u001B[33;03mdriven by `concurrent.futures.ThreadPoolExecutor`.\u001B[39;00m\n\u001B[32m   (...)\u001B[39m\u001B[32m     66\u001B[39m \u001B[33;03m    [default: max(32, cpu_count() + 4)].\u001B[39;00m\n\u001B[32m     67\u001B[39m \u001B[33;03m\"\"\"\u001B[39;00m\n\u001B[32m     68\u001B[39m \u001B[38;5;28;01mfrom\u001B[39;00m\u001B[38;5;250m \u001B[39m\u001B[34;01mconcurrent\u001B[39;00m\u001B[34;01m.\u001B[39;00m\u001B[34;01mfutures\u001B[39;00m\u001B[38;5;250m \u001B[39m\u001B[38;5;28;01mimport\u001B[39;00m ThreadPoolExecutor\n\u001B[32m---> \u001B[39m\u001B[32m69\u001B[39m \u001B[38;5;28;01mreturn\u001B[39;00m \u001B[43m_executor_map\u001B[49m\u001B[43m(\u001B[49m\u001B[43mThreadPoolExecutor\u001B[49m\u001B[43m,\u001B[49m\u001B[43m \u001B[49m\u001B[43mfn\u001B[49m\u001B[43m,\u001B[49m\u001B[43m \u001B[49m\u001B[43m*\u001B[49m\u001B[43miterables\u001B[49m\u001B[43m,\u001B[49m\u001B[43m \u001B[49m\u001B[43m*\u001B[49m\u001B[43m*\u001B[49m\u001B[43mtqdm_kwargs\u001B[49m\u001B[43m)\u001B[49m\n",
      "\u001B[36mFile \u001B[39m\u001B[32m~\\PycharmProjects\\Fair-Conference-Scheduling\\.venv\\Lib\\site-packages\\tqdm\\contrib\\concurrent.py:51\u001B[39m, in \u001B[36m_executor_map\u001B[39m\u001B[34m(PoolExecutor, fn, *iterables, **tqdm_kwargs)\u001B[39m\n\u001B[32m     47\u001B[39m \u001B[38;5;28;01mwith\u001B[39;00m ensure_lock(tqdm_class, lock_name=lock_name) \u001B[38;5;28;01mas\u001B[39;00m lk:\n\u001B[32m     48\u001B[39m     \u001B[38;5;66;03m# share lock in case workers are already using `tqdm`\u001B[39;00m\n\u001B[32m     49\u001B[39m     \u001B[38;5;28;01mwith\u001B[39;00m PoolExecutor(max_workers=max_workers, initializer=tqdm_class.set_lock,\n\u001B[32m     50\u001B[39m                       initargs=(lk,)) \u001B[38;5;28;01mas\u001B[39;00m ex:\n\u001B[32m---> \u001B[39m\u001B[32m51\u001B[39m         \u001B[38;5;28;01mreturn\u001B[39;00m \u001B[38;5;28;43mlist\u001B[39;49m\u001B[43m(\u001B[49m\u001B[43mtqdm_class\u001B[49m\u001B[43m(\u001B[49m\u001B[43mex\u001B[49m\u001B[43m.\u001B[49m\u001B[43mmap\u001B[49m\u001B[43m(\u001B[49m\u001B[43mfn\u001B[49m\u001B[43m,\u001B[49m\u001B[43m \u001B[49m\u001B[43m*\u001B[49m\u001B[43miterables\u001B[49m\u001B[43m,\u001B[49m\u001B[43m \u001B[49m\u001B[43mchunksize\u001B[49m\u001B[43m=\u001B[49m\u001B[43mchunksize\u001B[49m\u001B[43m)\u001B[49m\u001B[43m,\u001B[49m\u001B[43m \u001B[49m\u001B[43m*\u001B[49m\u001B[43m*\u001B[49m\u001B[43mkwargs\u001B[49m\u001B[43m)\u001B[49m\u001B[43m)\u001B[49m\n",
      "\u001B[36mFile \u001B[39m\u001B[32m~\\PycharmProjects\\Fair-Conference-Scheduling\\.venv\\Lib\\site-packages\\tqdm\\std.py:1181\u001B[39m, in \u001B[36mtqdm.__iter__\u001B[39m\u001B[34m(self)\u001B[39m\n\u001B[32m   1178\u001B[39m time = \u001B[38;5;28mself\u001B[39m._time\n\u001B[32m   1180\u001B[39m \u001B[38;5;28;01mtry\u001B[39;00m:\n\u001B[32m-> \u001B[39m\u001B[32m1181\u001B[39m \u001B[43m    \u001B[49m\u001B[38;5;28;43;01mfor\u001B[39;49;00m\u001B[43m \u001B[49m\u001B[43mobj\u001B[49m\u001B[43m \u001B[49m\u001B[38;5;129;43;01min\u001B[39;49;00m\u001B[43m \u001B[49m\u001B[43miterable\u001B[49m\u001B[43m:\u001B[49m\n\u001B[32m   1182\u001B[39m \u001B[43m        \u001B[49m\u001B[38;5;28;43;01myield\u001B[39;49;00m\u001B[43m \u001B[49m\u001B[43mobj\u001B[49m\n\u001B[32m   1183\u001B[39m \u001B[43m        \u001B[49m\u001B[38;5;66;43;03m# Update and possibly print the progressbar.\u001B[39;49;00m\n\u001B[32m   1184\u001B[39m \u001B[43m        \u001B[49m\u001B[38;5;66;43;03m# Note: does not call self.update(1) for speed optimisation.\u001B[39;49;00m\n",
      "\u001B[36mFile \u001B[39m\u001B[32m~\\AppData\\Local\\Programs\\Python\\Python313\\Lib\\concurrent\\futures\\_base.py:619\u001B[39m, in \u001B[36mExecutor.map.<locals>.result_iterator\u001B[39m\u001B[34m()\u001B[39m\n\u001B[32m    616\u001B[39m \u001B[38;5;28;01mwhile\u001B[39;00m fs:\n\u001B[32m    617\u001B[39m     \u001B[38;5;66;03m# Careful not to keep a reference to the popped future\u001B[39;00m\n\u001B[32m    618\u001B[39m     \u001B[38;5;28;01mif\u001B[39;00m timeout \u001B[38;5;129;01mis\u001B[39;00m \u001B[38;5;28;01mNone\u001B[39;00m:\n\u001B[32m--> \u001B[39m\u001B[32m619\u001B[39m         \u001B[38;5;28;01myield\u001B[39;00m \u001B[43m_result_or_cancel\u001B[49m\u001B[43m(\u001B[49m\u001B[43mfs\u001B[49m\u001B[43m.\u001B[49m\u001B[43mpop\u001B[49m\u001B[43m(\u001B[49m\u001B[43m)\u001B[49m\u001B[43m)\u001B[49m\n\u001B[32m    620\u001B[39m     \u001B[38;5;28;01melse\u001B[39;00m:\n\u001B[32m    621\u001B[39m         \u001B[38;5;28;01myield\u001B[39;00m _result_or_cancel(fs.pop(), end_time - time.monotonic())\n",
      "\u001B[36mFile \u001B[39m\u001B[32m~\\AppData\\Local\\Programs\\Python\\Python313\\Lib\\concurrent\\futures\\_base.py:317\u001B[39m, in \u001B[36m_result_or_cancel\u001B[39m\u001B[34m(***failed resolving arguments***)\u001B[39m\n\u001B[32m    315\u001B[39m \u001B[38;5;28;01mtry\u001B[39;00m:\n\u001B[32m    316\u001B[39m     \u001B[38;5;28;01mtry\u001B[39;00m:\n\u001B[32m--> \u001B[39m\u001B[32m317\u001B[39m         \u001B[38;5;28;01mreturn\u001B[39;00m \u001B[43mfut\u001B[49m\u001B[43m.\u001B[49m\u001B[43mresult\u001B[49m\u001B[43m(\u001B[49m\u001B[43mtimeout\u001B[49m\u001B[43m)\u001B[49m\n\u001B[32m    318\u001B[39m     \u001B[38;5;28;01mfinally\u001B[39;00m:\n\u001B[32m    319\u001B[39m         fut.cancel()\n",
      "\u001B[36mFile \u001B[39m\u001B[32m~\\AppData\\Local\\Programs\\Python\\Python313\\Lib\\concurrent\\futures\\_base.py:451\u001B[39m, in \u001B[36mFuture.result\u001B[39m\u001B[34m(self, timeout)\u001B[39m\n\u001B[32m    448\u001B[39m \u001B[38;5;28;01melif\u001B[39;00m \u001B[38;5;28mself\u001B[39m._state == FINISHED:\n\u001B[32m    449\u001B[39m     \u001B[38;5;28;01mreturn\u001B[39;00m \u001B[38;5;28mself\u001B[39m.__get_result()\n\u001B[32m--> \u001B[39m\u001B[32m451\u001B[39m \u001B[38;5;28;43mself\u001B[39;49m\u001B[43m.\u001B[49m\u001B[43m_condition\u001B[49m\u001B[43m.\u001B[49m\u001B[43mwait\u001B[49m\u001B[43m(\u001B[49m\u001B[43mtimeout\u001B[49m\u001B[43m)\u001B[49m\n\u001B[32m    453\u001B[39m \u001B[38;5;28;01mif\u001B[39;00m \u001B[38;5;28mself\u001B[39m._state \u001B[38;5;129;01min\u001B[39;00m [CANCELLED, CANCELLED_AND_NOTIFIED]:\n\u001B[32m    454\u001B[39m     \u001B[38;5;28;01mraise\u001B[39;00m CancelledError()\n",
      "\u001B[36mFile \u001B[39m\u001B[32m~\\AppData\\Local\\Programs\\Python\\Python313\\Lib\\threading.py:359\u001B[39m, in \u001B[36mCondition.wait\u001B[39m\u001B[34m(self, timeout)\u001B[39m\n\u001B[32m    357\u001B[39m \u001B[38;5;28;01mtry\u001B[39;00m:    \u001B[38;5;66;03m# restore state no matter what (e.g., KeyboardInterrupt)\u001B[39;00m\n\u001B[32m    358\u001B[39m     \u001B[38;5;28;01mif\u001B[39;00m timeout \u001B[38;5;129;01mis\u001B[39;00m \u001B[38;5;28;01mNone\u001B[39;00m:\n\u001B[32m--> \u001B[39m\u001B[32m359\u001B[39m         \u001B[43mwaiter\u001B[49m\u001B[43m.\u001B[49m\u001B[43macquire\u001B[49m\u001B[43m(\u001B[49m\u001B[43m)\u001B[49m\n\u001B[32m    360\u001B[39m         gotit = \u001B[38;5;28;01mTrue\u001B[39;00m\n\u001B[32m    361\u001B[39m     \u001B[38;5;28;01melse\u001B[39;00m:\n",
      "\u001B[31mKeyboardInterrupt\u001B[39m: "
     ]
    }
   ],
   "execution_count": 1
  },
  {
   "metadata": {},
   "cell_type": "code",
   "outputs": [],
   "execution_count": null,
   "source": "from src import process_pdfs, DATA_DIR\n",
   "id": "4e9ddf3d41b7af9e"
  }
 ],
 "metadata": {
  "kernelspec": {
   "display_name": "Python 3",
   "language": "python",
   "name": "python3"
  },
  "language_info": {
   "codemirror_mode": {
    "name": "ipython",
    "version": 2
   },
   "file_extension": ".py",
   "mimetype": "text/x-python",
   "name": "python",
   "nbconvert_exporter": "python",
   "pygments_lexer": "ipython2",
   "version": "2.7.6"
  }
 },
 "nbformat": 4,
 "nbformat_minor": 5
}
