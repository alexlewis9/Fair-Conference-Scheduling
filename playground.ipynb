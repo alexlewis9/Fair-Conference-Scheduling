{
 "cells": [
  {
   "cell_type": "code",
   "execution_count": null,
   "id": "initial_id",
   "metadata": {
    "collapsed": true
   },
   "outputs": [],
   "source": [
    "import math\n",
    "\n",
    "def tau_closest_agents(agent, agents, d, tau) -> tuple[list[str], float]:\n",
    "    \"\"\"Return the list of tau-closest agents to agent.\n",
    "    agent: agent's id\n",
    "    agents: list of agents' id\n",
    "    d: distance function\n",
    "    tau: threshold number (usually number of agents in a cluster)\n",
    "\n",
    "    Return:\n",
    "        - list of tau-closest agents' id\n",
    "        - distance to the furthest agent\n",
    "    \"\"\"\n",
    "    return None # TODO: implement\n",
    "\n",
    "\n",
    "def SmallestAgentBall(agents, d, tau) -> list[str]:\n",
    "    \"\"\"Return the set of per_clusterclosest agents to the agent of the smallest ball.\n",
    "    N: list of agents' id\n",
    "    d: distance function\n",
    "    tau: threshold number (usually number of agents in a cluster)\n",
    "    \"\"\"\n",
    "    if len(agents) <= tau:\n",
    "        return agents[:]\n",
    "    lst = [] # (agent, its tau-closest agent, distance) #TODO: find a better name\n",
    "    for agent in agents:\n",
    "        closest_agents = tau_closest_agents(agent, agents, d, tau) # (list, distance to the furthest)\n",
    "        lst.append((agent, *closest_agents))\n",
    "    min_ball = min(lst, key=lambda x: x[2])\n",
    "    return min_ball[1]\n",
    "\n",
    "\n",
    "def GreedyCohesiveClustering(agents, d, k) -> list[list[str]]:\n",
    "    \"\"\" Return the k cohesive clusters of agents by metric d. Each cluster is a list of id.\n",
    "    agents: list of agents' id\n",
    "    d: distance function\n",
    "    k: number of clusters to return\n",
    "    \"\"\"\n",
    "    clusters = [] # each cluster is a list of id\n",
    "    N = agents[:]\n",
    "    j = 1\n",
    "    per_cluster = math.ceil(len(agents)/k)\n",
    "    while N:\n",
    "        C_j = SmallestAgentBall(N, d, per_cluster)\n",
    "        clusters.append(C_j)\n",
    "        for agent in C_j:\n",
    "            N.remove(agent)\n",
    "        j += 1\n",
    "    return clusters\n"
   ]
  }
 ],
 "metadata": {
  "kernelspec": {
   "display_name": "Python 3",
   "language": "python",
   "name": "python3"
  },
  "language_info": {
   "codemirror_mode": {
    "name": "ipython",
    "version": 2
   },
   "file_extension": ".py",
   "mimetype": "text/x-python",
   "name": "python",
   "nbconvert_exporter": "python",
   "pygments_lexer": "ipython2",
   "version": "2.7.6"
  }
 },
 "nbformat": 4,
 "nbformat_minor": 5
}
