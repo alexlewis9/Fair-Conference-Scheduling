{
 "cells": [
  {
   "metadata": {
    "ExecuteTime": {
     "end_time": "2025-06-03T20:00:56.775486Z",
     "start_time": "2025-06-03T20:00:56.769286Z"
    }
   },
   "cell_type": "code",
   "source": [
    "import json\n",
    "import csv\n",
    "import numpy as np\n",
    "from sklearn.decomposition import PCA\n",
    "import plotly.graph_objs as go\n",
    "from matplotlib import colormaps\n",
    "from scipy.spatial import ConvexHull\n",
    "import os\n",
    "from src import PROJECT_ROOT, DATA_DIR\n",
    "from src.utils.io import load_json"
   ],
   "id": "4383970a382e1e1f",
   "outputs": [],
   "execution_count": 10
  },
  {
   "metadata": {
    "ExecuteTime": {
     "end_time": "2025-06-03T20:00:58.345654Z",
     "start_time": "2025-06-03T20:00:58.338135Z"
    }
   },
   "cell_type": "code",
   "source": [
    "# === Load Clustering CSV ===\n",
    "def load_clustering(file_path):\n",
    "    clustering = {}  # method -> node_id -> cluster_label\n",
    "    with open(file_path, newline='', encoding='utf-8') as f:\n",
    "        reader = csv.DictReader(f)\n",
    "        cluster_names = reader.fieldnames[1:]\n",
    "        for row in reader:\n",
    "            method = row[\"method\"]\n",
    "            clustering[method] = {}\n",
    "            for cluster_name in cluster_names:\n",
    "                ids = row[cluster_name].split(\",\") if row[cluster_name] else []\n",
    "                for node_id in ids:\n",
    "                    node_id = node_id.strip()\n",
    "                    if node_id:\n",
    "                        clustering[method][node_id] = cluster_name\n",
    "    return clustering\n"
   ],
   "id": "2c229559e6116cee",
   "outputs": [],
   "execution_count": 11
  },
  {
   "metadata": {
    "ExecuteTime": {
     "end_time": "2025-06-03T20:01:00.009169Z",
     "start_time": "2025-06-03T20:01:00.002726Z"
    }
   },
   "cell_type": "code",
   "source": [
    "# === Convex Hull Generation ===\n",
    "def cluster_hull_trace(xs, ys, cluster_name, color):\n",
    "    if len(xs) < 3:\n",
    "        return None  # Not enough points for a hull\n",
    "    points = np.vstack((xs, ys)).T\n",
    "    hull = ConvexHull(points)\n",
    "    polygon = points[hull.vertices]\n",
    "    return go.Scatter(\n",
    "        x=polygon[:, 0].tolist() + [polygon[0, 0]],\n",
    "        y=polygon[:, 1].tolist() + [polygon[0, 1]],\n",
    "        fill='toself',\n",
    "        mode='lines',\n",
    "        name=f\"{cluster_name} boundary\",\n",
    "        line=dict(color=color, width=1),\n",
    "        fillcolor=color.replace(\"rgb\", \"rgba\").replace(\")\", \",0.15)\"),\n",
    "        hoverinfo='skip',\n",
    "        showlegend=False,\n",
    "        visible=False\n",
    "    )"
   ],
   "id": "51bff841e8af1260",
   "outputs": [],
   "execution_count": 12
  },
  {
   "metadata": {
    "ExecuteTime": {
     "end_time": "2025-06-03T20:01:53.181329Z",
     "start_time": "2025-06-03T20:01:53.014493Z"
    }
   },
   "cell_type": "code",
   "source": [
    "# === File Paths ===\n",
    "\n",
    "embedding_path = os.path.join(DATA_DIR, \"emb\", \"NeurIPS\", \"2024\", \"20250602_2031\", \"emb.json\")\n",
    "metadata_path = os.path.join(DATA_DIR, \"unified_text\", \"NeurIPS\", \"NeurIPS_2024.json\")\n",
    "clustering_csv = os.path.join(PROJECT_ROOT, \"result\", \"NeurIPS\", \"2024\", \"20250602_2158\", \"clusters.csv\")\n",
    "\n",
    "embedding_dict = load_json(embedding_path)\n",
    "metadata_list = load_json(metadata_path)\n",
    "id_to_meta = {d['id']: d for d in metadata_list}\n",
    "\n",
    "clustering_dict = load_clustering(clustering_csv)\n",
    "node_ids = list(embedding_dict.keys())\n",
    "embeddings = np.array([embedding_dict[nid] for nid in node_ids])\n"
   ],
   "id": "6ba30b3f8baee489",
   "outputs": [],
   "execution_count": 16
  },
  {
   "metadata": {
    "ExecuteTime": {
     "end_time": "2025-06-03T20:04:34.422226Z",
     "start_time": "2025-06-03T20:04:34.236953Z"
    }
   },
   "cell_type": "code",
   "source": [
    "# === PCA Projection ===\n",
    "proj = PCA(n_components=2).fit_transform(embeddings)\n",
    "id_to_proj = {nid: proj[i] for i, nid in enumerate(node_ids)}\n",
    "\n",
    "# === Baseline Coloring ===\n",
    "baseline_clusters = clustering_dict.get(\"Baseline\", {})\n",
    "unique_baseline_labels = sorted(set(baseline_clusters.get(nid, \"Unassigned\") for nid in node_ids))\n",
    "cmap = colormaps.get_cmap(\"Set2\").resampled(len(unique_baseline_labels))\n",
    "label_to_color = {\n",
    "    label: f\"rgb({r},{g},{b})\"\n",
    "    for i, label in enumerate(unique_baseline_labels)\n",
    "    for r, g, b in [tuple(int(x * 255) for x in cmap(i)[:3])]\n",
    "}\n",
    "\n",
    "# === Plotly Traces per Method ===\n",
    "data = []\n",
    "buttons = []\n",
    "method_names = list(clustering_dict.keys())\n",
    "\n",
    "for method in method_names:\n",
    "    cluster_map = clustering_dict[method]\n",
    "\n",
    "    x_vals, y_vals, hover_texts, colors = [], [], [], []\n",
    "    cluster_xys = {}  # cluster_label -> list of (x, y)\n",
    "\n",
    "    for nid in node_ids:\n",
    "        x, y = id_to_proj[nid]\n",
    "        x_vals.append(x)\n",
    "        y_vals.append(y)\n",
    "        baseline_label = baseline_clusters.get(nid, \"Unassigned\")\n",
    "        colors.append(label_to_color.get(baseline_label, \"gray\"))\n",
    "\n",
    "        cluster_label = cluster_map.get(nid, \"Unassigned\")\n",
    "        cluster_xys.setdefault(cluster_label, []).append((x, y))\n",
    "\n",
    "        meta = id_to_meta.get(nid, {})\n",
    "        hover = f\"\"\"\n",
    "        <b>{meta.get('title', '')}</b><br>\n",
    "        <i>{meta.get('authors', '')}</i><br><br>\n",
    "        <div style='max-height:100px; max-width:200px; overflow-y:auto; font-size:0.9em; line-height:1.2em;'>\n",
    "        {meta.get('abstract', '')}\n",
    "        </div>\n",
    "        \"\"\"\n",
    "        hover_texts.append(hover)\n",
    "\n",
    "    trace = go.Scatter(\n",
    "        x=x_vals,\n",
    "        y=y_vals,\n",
    "        mode='markers',\n",
    "        marker=dict(size=8, color=colors, line=dict(width=0.5, color='DarkSlateGrey')),\n",
    "        text=hover_texts,\n",
    "        hoverinfo='text',\n",
    "        name=method,\n",
    "        visible=(method == \"Baseline\")\n",
    "    )\n",
    "    data.append(trace)\n",
    "\n",
    "    # Add cluster hulls\n",
    "    for cluster_label, points in cluster_xys.items():\n",
    "        xs, ys = zip(*points)\n",
    "        hull_trace = cluster_hull_trace(xs, ys, cluster_label, color=\"gray\")\n",
    "        if hull_trace:\n",
    "            hull_trace.visible = (method == \"Baseline\")\n",
    "            data.append(hull_trace)\n",
    "\n",
    "    # Dropdown button\n",
    "    visible_flags = [(t.name == method) for t in data]\n",
    "    buttons.append(dict(\n",
    "        label=method,\n",
    "        method=\"update\",\n",
    "        args=[{\"visible\": visible_flags}, {\"title\": f\"Clustering Visualization — {method}\"}]\n",
    "    ))\n",
    "\n",
    "# === Layout ===\n",
    "layout = go.Layout(\n",
    "    title=\"Clustering Visualization — Baseline\",\n",
    "    updatemenus=[dict(\n",
    "        buttons=buttons,\n",
    "        direction=\"down\",\n",
    "        showactive=True,\n",
    "        x=0.1,\n",
    "        xanchor=\"left\",\n",
    "        y=1.15,\n",
    "        yanchor=\"top\"\n",
    "    )],\n",
    "    xaxis=dict(title=\"PCA 1\", showgrid=False, zeroline=False),\n",
    "    yaxis=dict(title=\"PCA 2\", showgrid=False, zeroline=False),\n",
    "    hovermode='closest',\n",
    "    hoverlabel=dict(\n",
    "        bgcolor=\"white\",\n",
    "        font_size=12,\n",
    "        font_family=\"Arial\",\n",
    "        align=\"left\"\n",
    "    ),\n",
    "    height=700\n",
    ")\n",
    "\n",
    "fig = go.Figure(data=data, layout=layout)\n",
    "fig.write_html(\"interactive_clustering.html\")\n"
   ],
   "id": "3a9fbcf50c50668b",
   "outputs": [],
   "execution_count": 19
  }
 ],
 "metadata": {
  "kernelspec": {
   "display_name": "Python 3",
   "language": "python",
   "name": "python3"
  },
  "language_info": {
   "codemirror_mode": {
    "name": "ipython",
    "version": 2
   },
   "file_extension": ".py",
   "mimetype": "text/x-python",
   "name": "python",
   "nbconvert_exporter": "python",
   "pygments_lexer": "ipython2",
   "version": "2.7.6"
  }
 },
 "nbformat": 4,
 "nbformat_minor": 5
}
