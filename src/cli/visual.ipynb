{
 "cells": [
  {
   "metadata": {
    "ExecuteTime": {
     "end_time": "2025-06-04T19:04:20.706089Z",
     "start_time": "2025-06-04T19:04:16.669904Z"
    }
   },
   "cell_type": "code",
   "source": [
    "import plotly.express as px\n",
    "from sklearn.decomposition import PCA\n",
    "import os\n",
    "from src import DATA_DIR, PROJECT_ROOT, get_paper_info\n",
    "from src.models.graph import Graph\n",
    "from src.utils.io import load_json\n",
    "import pandas as pd\n",
    "import numpy as np"
   ],
   "id": "d7b943a8399226f5",
   "outputs": [
    {
     "name": "stderr",
     "output_type": "stream",
     "text": [
      "C:\\Users\\tiend\\PycharmProjects\\Fair-Conference-Scheduling\\.venv\\Lib\\site-packages\\tqdm\\auto.py:21: TqdmWarning: IProgress not found. Please update jupyter and ipywidgets. See https://ipywidgets.readthedocs.io/en/stable/user_install.html\n",
      "  from .autonotebook import tqdm as notebook_tqdm\n"
     ]
    }
   ],
   "execution_count": 1
  },
  {
   "metadata": {
    "ExecuteTime": {
     "end_time": "2025-06-04T19:13:30.396760Z",
     "start_time": "2025-06-04T19:13:30.294413Z"
    }
   },
   "cell_type": "code",
   "source": [
    "emb_path = os.path.join(DATA_DIR, 'emb', 'NeurIPS', '2024', '20250602_2037', 'emb.json')\n",
    "emb = load_json(emb_path)\n",
    "\n",
    "data_path = os.path.join(DATA_DIR, 'metadata', 'neurips_2023_2024.csv')\n",
    "df = pd.read_csv(data_path)\n",
    "\n",
    "clustering = os.path.join(PROJECT_ROOT, 'result', 'NeurIPS', '2024', '20250602_2158', 'clusters.csv')\n",
    "cluster_df = pd.read_csv(clustering)\n",
    "\n",
    "output_path = os.path.join(PROJECT_ROOT, 'result', 'NeurIPS', '2024', '20250602_2158')"
   ],
   "id": "238b9a0c91b91336",
   "outputs": [],
   "execution_count": 9
  },
  {
   "metadata": {
    "ExecuteTime": {
     "end_time": "2025-06-04T19:13:31.653319Z",
     "start_time": "2025-06-04T19:13:31.645501Z"
    }
   },
   "cell_type": "code",
   "source": [
    "df = df[df['year'] == 2024]\n",
    "df['emb'] = df['id'].map(emb)"
   ],
   "id": "b513330f4e91b16",
   "outputs": [],
   "execution_count": 10
  },
  {
   "metadata": {
    "ExecuteTime": {
     "end_time": "2025-06-04T19:13:32.900857Z",
     "start_time": "2025-06-04T19:13:32.895223Z"
    }
   },
   "cell_type": "code",
   "source": [
    "# Create a mapping for each method\n",
    "method_names = cluster_df['method'].tolist()\n",
    "session_names = cluster_df.columns[1:]  # skip 'method'\n",
    "\n",
    "# Build: method -> id -> cluster name\n",
    "method_to_id_to_cluster = {}\n",
    "\n",
    "for _, row in cluster_df.iterrows():\n",
    "    method = row['method']\n",
    "    id_to_cluster = {}\n",
    "    for session in session_names:\n",
    "        ids = str(row[session]).split(',') if pd.notna(row[session]) else []\n",
    "        for id_ in ids:\n",
    "            id_to_cluster[id_] = session  # assign paper to the session name\n",
    "    method_to_id_to_cluster[method] = id_to_cluster\n",
    "\n",
    "for method, id_to_cluster in method_to_id_to_cluster.items():\n",
    "    df[method] = df['id'].map(id_to_cluster).fillna(\"None\")  # or use np.nan"
   ],
   "id": "f5107ebc9e0b211a",
   "outputs": [],
   "execution_count": 11
  },
  {
   "metadata": {
    "ExecuteTime": {
     "end_time": "2025-06-04T19:28:36.499087Z",
     "start_time": "2025-06-04T19:28:36.478937Z"
    }
   },
   "cell_type": "code",
   "source": "df.head(5)",
   "id": "34d85622fb20bc13",
   "outputs": [
    {
     "data": {
      "text/plain": [
       "                                             authors publisher  \\\n",
       "0  ['Tianyu He', 'Darshil Doshi', 'Aritra Das', '...   NeurIPS   \n",
       "1  ['Jin Zhang', 'Ze Liu', 'Defu Lian', 'Enhong C...   NeurIPS   \n",
       "2  ['Aaron Defazio', 'Xingyu Yang', 'Ahmed Khaled...   NeurIPS   \n",
       "3  ['Rohan Alur', 'Manish Raghavan', 'Devavrat Sh...   NeurIPS   \n",
       "4  ['Shen Li', 'Yuyang Zhang', 'Zhaolin Ren', 'Cl...   NeurIPS   \n",
       "\n",
       "                                               title  \\\n",
       "0  Learning to grok_ Emergence of in-context lear...   \n",
       "1  Generalization Error Bounds for Two-stage Reco...   \n",
       "2                            The Road Less Scheduled   \n",
       "3          Human Expertise in Algorithmic Prediction   \n",
       "4  Enhancing Preference-based Linear Bandits via ...   \n",
       "\n",
       "                                          url  year  \\\n",
       "0  https://neurips.cc/virtual/2024/oral/97968  2024   \n",
       "1  https://neurips.cc/virtual/2024/oral/97958  2024   \n",
       "2  https://neurips.cc/virtual/2024/oral/98003  2024   \n",
       "3  https://neurips.cc/virtual/2024/oral/97946  2024   \n",
       "4  https://neurips.cc/virtual/2024/oral/97969  2024   \n",
       "\n",
       "                                            abstract  \\\n",
       "0   Large language models can solve tasks that we...   \n",
       "1   Two-stage recommender systems play a crucial ...   \n",
       "2   Existing learning rate schedules that do not ...   \n",
       "3   We introduce a novel framework for incorporat...   \n",
       "4   Interactive preference learning systems infer...   \n",
       "\n",
       "                                             session  \\\n",
       "0  Oral Session 1A: Neuroscience and Intepretability   \n",
       "1                   Oral Session 1D: Learning Theory   \n",
       "2  Oral Session 1C: Optimization and Learning Theory   \n",
       "3              Oral Session 1B: Human-AI Interaction   \n",
       "4                            Oral Session 2A: Agents   \n",
       "\n",
       "                                    pdf_url  \\\n",
       "0  https://openreview.net/pdf?id=aVh9KRZdRk   \n",
       "1  https://openreview.net/pdf?id=m1a4CrRJR7   \n",
       "2  https://openreview.net/pdf?id=0XeNkkENuI   \n",
       "3  https://openreview.net/pdf?id=wpGJ2AX6SZ   \n",
       "4  https://openreview.net/pdf?id=aIPwlkdOut   \n",
       "\n",
       "                               openreview_url          id  \\\n",
       "0  https://openreview.net/forum?id=aVh9KRZdRk  aVh9KRZdRk   \n",
       "1  https://openreview.net/forum?id=m1a4CrRJR7  m1a4CrRJR7   \n",
       "2  https://openreview.net/forum?id=0XeNkkENuI  0XeNkkENuI   \n",
       "3  https://openreview.net/forum?id=wpGJ2AX6SZ  wpGJ2AX6SZ   \n",
       "4  https://openreview.net/forum?id=aIPwlkdOut  aIPwlkdOut   \n",
       "\n",
       "                                       forum_content  \\\n",
       "0  [{'content': {'title': {'value': 'Paper Decisi...   \n",
       "1  [{'content': {'title': {'value': 'Paper Decisi...   \n",
       "2  [{'content': {'title': {'value': 'Paper Decisi...   \n",
       "3  [{'content': {'comment': {'value': 'Thank you ...   \n",
       "4  [{'content': {'title': {'value': 'Paper Decisi...   \n",
       "\n",
       "                                                 emb  \\\n",
       "0  [0.025920594792352154, -0.006532610617907675, ...   \n",
       "1  [0.0005160157651468916, 0.009975187560102265, ...   \n",
       "2  [-0.0075764014618471265, -0.008110680956054817...   \n",
       "3  [0.006127413471889062, -0.0129554309300147, -0...   \n",
       "4  [0.017408840711030996, -0.014277594156958388, ...   \n",
       "\n",
       "                                            Baseline  \\\n",
       "0  Oral Session 1A: Neuroscience and Intepretability   \n",
       "1                   Oral Session 1D: Learning Theory   \n",
       "2  Oral Session 1C: Optimization and Learning Theory   \n",
       "3              Oral Session 1B: Human-AI Interaction   \n",
       "4                            Oral Session 2A: Agents   \n",
       "\n",
       "                                      GreedyCohesive  \\\n",
       "0  Oral Session 1A: Neuroscience and Intepretability   \n",
       "1                   Oral Session 1D: Learning Theory   \n",
       "2                          Oral Session 6C: New Data   \n",
       "3                   Oral Session 1D: Learning Theory   \n",
       "4  Oral Session 1C: Optimization and Learning Theory   \n",
       "\n",
       "                                            KMedoids  \\\n",
       "0  Oral Session 1A: Neuroscience and Intepretability   \n",
       "1                   Oral Session 1D: Learning Theory   \n",
       "2  Oral Session 1C: Optimization and Learning Theory   \n",
       "3                   Oral Session 1D: Learning Theory   \n",
       "4                   Oral Session 1D: Learning Theory   \n",
       "\n",
       "                                              KMeans    tsne_0    tsne_1  \n",
       "0  Oral Session 1A: Neuroscience and Intepretability -2.343757 -2.031617  \n",
       "1              Oral Session 1B: Human-AI Interaction -8.007804  3.073959  \n",
       "2  Oral Session 1C: Optimization and Learning Theory -8.981425  3.619922  \n",
       "3              Oral Session 1B: Human-AI Interaction -8.261276  2.920403  \n",
       "4                            Oral Session 2A: Agents -8.037498  2.537640  "
      ],
      "text/html": [
       "<div>\n",
       "<style scoped>\n",
       "    .dataframe tbody tr th:only-of-type {\n",
       "        vertical-align: middle;\n",
       "    }\n",
       "\n",
       "    .dataframe tbody tr th {\n",
       "        vertical-align: top;\n",
       "    }\n",
       "\n",
       "    .dataframe thead th {\n",
       "        text-align: right;\n",
       "    }\n",
       "</style>\n",
       "<table border=\"1\" class=\"dataframe\">\n",
       "  <thead>\n",
       "    <tr style=\"text-align: right;\">\n",
       "      <th></th>\n",
       "      <th>authors</th>\n",
       "      <th>publisher</th>\n",
       "      <th>title</th>\n",
       "      <th>url</th>\n",
       "      <th>year</th>\n",
       "      <th>abstract</th>\n",
       "      <th>session</th>\n",
       "      <th>pdf_url</th>\n",
       "      <th>openreview_url</th>\n",
       "      <th>id</th>\n",
       "      <th>forum_content</th>\n",
       "      <th>emb</th>\n",
       "      <th>Baseline</th>\n",
       "      <th>GreedyCohesive</th>\n",
       "      <th>KMedoids</th>\n",
       "      <th>KMeans</th>\n",
       "      <th>tsne_0</th>\n",
       "      <th>tsne_1</th>\n",
       "    </tr>\n",
       "  </thead>\n",
       "  <tbody>\n",
       "    <tr>\n",
       "      <th>0</th>\n",
       "      <td>['Tianyu He', 'Darshil Doshi', 'Aritra Das', '...</td>\n",
       "      <td>NeurIPS</td>\n",
       "      <td>Learning to grok_ Emergence of in-context lear...</td>\n",
       "      <td>https://neurips.cc/virtual/2024/oral/97968</td>\n",
       "      <td>2024</td>\n",
       "      <td>Large language models can solve tasks that we...</td>\n",
       "      <td>Oral Session 1A: Neuroscience and Intepretability</td>\n",
       "      <td>https://openreview.net/pdf?id=aVh9KRZdRk</td>\n",
       "      <td>https://openreview.net/forum?id=aVh9KRZdRk</td>\n",
       "      <td>aVh9KRZdRk</td>\n",
       "      <td>[{'content': {'title': {'value': 'Paper Decisi...</td>\n",
       "      <td>[0.025920594792352154, -0.006532610617907675, ...</td>\n",
       "      <td>Oral Session 1A: Neuroscience and Intepretability</td>\n",
       "      <td>Oral Session 1A: Neuroscience and Intepretability</td>\n",
       "      <td>Oral Session 1A: Neuroscience and Intepretability</td>\n",
       "      <td>Oral Session 1A: Neuroscience and Intepretability</td>\n",
       "      <td>-2.343757</td>\n",
       "      <td>-2.031617</td>\n",
       "    </tr>\n",
       "    <tr>\n",
       "      <th>1</th>\n",
       "      <td>['Jin Zhang', 'Ze Liu', 'Defu Lian', 'Enhong C...</td>\n",
       "      <td>NeurIPS</td>\n",
       "      <td>Generalization Error Bounds for Two-stage Reco...</td>\n",
       "      <td>https://neurips.cc/virtual/2024/oral/97958</td>\n",
       "      <td>2024</td>\n",
       "      <td>Two-stage recommender systems play a crucial ...</td>\n",
       "      <td>Oral Session 1D: Learning Theory</td>\n",
       "      <td>https://openreview.net/pdf?id=m1a4CrRJR7</td>\n",
       "      <td>https://openreview.net/forum?id=m1a4CrRJR7</td>\n",
       "      <td>m1a4CrRJR7</td>\n",
       "      <td>[{'content': {'title': {'value': 'Paper Decisi...</td>\n",
       "      <td>[0.0005160157651468916, 0.009975187560102265, ...</td>\n",
       "      <td>Oral Session 1D: Learning Theory</td>\n",
       "      <td>Oral Session 1D: Learning Theory</td>\n",
       "      <td>Oral Session 1D: Learning Theory</td>\n",
       "      <td>Oral Session 1B: Human-AI Interaction</td>\n",
       "      <td>-8.007804</td>\n",
       "      <td>3.073959</td>\n",
       "    </tr>\n",
       "    <tr>\n",
       "      <th>2</th>\n",
       "      <td>['Aaron Defazio', 'Xingyu Yang', 'Ahmed Khaled...</td>\n",
       "      <td>NeurIPS</td>\n",
       "      <td>The Road Less Scheduled</td>\n",
       "      <td>https://neurips.cc/virtual/2024/oral/98003</td>\n",
       "      <td>2024</td>\n",
       "      <td>Existing learning rate schedules that do not ...</td>\n",
       "      <td>Oral Session 1C: Optimization and Learning Theory</td>\n",
       "      <td>https://openreview.net/pdf?id=0XeNkkENuI</td>\n",
       "      <td>https://openreview.net/forum?id=0XeNkkENuI</td>\n",
       "      <td>0XeNkkENuI</td>\n",
       "      <td>[{'content': {'title': {'value': 'Paper Decisi...</td>\n",
       "      <td>[-0.0075764014618471265, -0.008110680956054817...</td>\n",
       "      <td>Oral Session 1C: Optimization and Learning Theory</td>\n",
       "      <td>Oral Session 6C: New Data</td>\n",
       "      <td>Oral Session 1C: Optimization and Learning Theory</td>\n",
       "      <td>Oral Session 1C: Optimization and Learning Theory</td>\n",
       "      <td>-8.981425</td>\n",
       "      <td>3.619922</td>\n",
       "    </tr>\n",
       "    <tr>\n",
       "      <th>3</th>\n",
       "      <td>['Rohan Alur', 'Manish Raghavan', 'Devavrat Sh...</td>\n",
       "      <td>NeurIPS</td>\n",
       "      <td>Human Expertise in Algorithmic Prediction</td>\n",
       "      <td>https://neurips.cc/virtual/2024/oral/97946</td>\n",
       "      <td>2024</td>\n",
       "      <td>We introduce a novel framework for incorporat...</td>\n",
       "      <td>Oral Session 1B: Human-AI Interaction</td>\n",
       "      <td>https://openreview.net/pdf?id=wpGJ2AX6SZ</td>\n",
       "      <td>https://openreview.net/forum?id=wpGJ2AX6SZ</td>\n",
       "      <td>wpGJ2AX6SZ</td>\n",
       "      <td>[{'content': {'comment': {'value': 'Thank you ...</td>\n",
       "      <td>[0.006127413471889062, -0.0129554309300147, -0...</td>\n",
       "      <td>Oral Session 1B: Human-AI Interaction</td>\n",
       "      <td>Oral Session 1D: Learning Theory</td>\n",
       "      <td>Oral Session 1D: Learning Theory</td>\n",
       "      <td>Oral Session 1B: Human-AI Interaction</td>\n",
       "      <td>-8.261276</td>\n",
       "      <td>2.920403</td>\n",
       "    </tr>\n",
       "    <tr>\n",
       "      <th>4</th>\n",
       "      <td>['Shen Li', 'Yuyang Zhang', 'Zhaolin Ren', 'Cl...</td>\n",
       "      <td>NeurIPS</td>\n",
       "      <td>Enhancing Preference-based Linear Bandits via ...</td>\n",
       "      <td>https://neurips.cc/virtual/2024/oral/97969</td>\n",
       "      <td>2024</td>\n",
       "      <td>Interactive preference learning systems infer...</td>\n",
       "      <td>Oral Session 2A: Agents</td>\n",
       "      <td>https://openreview.net/pdf?id=aIPwlkdOut</td>\n",
       "      <td>https://openreview.net/forum?id=aIPwlkdOut</td>\n",
       "      <td>aIPwlkdOut</td>\n",
       "      <td>[{'content': {'title': {'value': 'Paper Decisi...</td>\n",
       "      <td>[0.017408840711030996, -0.014277594156958388, ...</td>\n",
       "      <td>Oral Session 2A: Agents</td>\n",
       "      <td>Oral Session 1C: Optimization and Learning Theory</td>\n",
       "      <td>Oral Session 1D: Learning Theory</td>\n",
       "      <td>Oral Session 2A: Agents</td>\n",
       "      <td>-8.037498</td>\n",
       "      <td>2.537640</td>\n",
       "    </tr>\n",
       "  </tbody>\n",
       "</table>\n",
       "</div>"
      ]
     },
     "execution_count": 16,
     "metadata": {},
     "output_type": "execute_result"
    }
   ],
   "execution_count": 16
  },
  {
   "metadata": {
    "ExecuteTime": {
     "end_time": "2025-06-04T19:13:37.120277Z",
     "start_time": "2025-06-04T19:13:37.110557Z"
    }
   },
   "cell_type": "code",
   "source": [
    "X = np.vstack(df['emb'].values)\n",
    "print(X.shape)"
   ],
   "id": "c1690e199a57560b",
   "outputs": [
    {
     "name": "stdout",
     "output_type": "stream",
     "text": [
      "(72, 3072)\n"
     ]
    }
   ],
   "execution_count": 12
  },
  {
   "metadata": {
    "ExecuteTime": {
     "end_time": "2025-06-04T19:13:38.772758Z",
     "start_time": "2025-06-04T19:13:38.165772Z"
    }
   },
   "cell_type": "code",
   "source": [
    "import numpy as np\n",
    "from scipy.spatial import ConvexHull\n",
    "import plotly.graph_objects as go\n",
    "import plotly.io as pio\n",
    "\n",
    "for method in method_names:\n",
    "    # Create the base scatter plot\n",
    "    custom_palette = px.colors.qualitative.Dark24 + px.colors.qualitative.Set3\n",
    "    fig = px.scatter(X, x=0, y=1,\n",
    "                     title=f\"{method} Clustering PCA\",\n",
    "                     hover_name=df['id'],\n",
    "                     color=df[method],\n",
    "                     color_discrete_sequence=custom_palette)\n",
    "\n",
    "    fig.show()\n",
    "    os.makedirs(os.path.join(output_path, \"PCA\"), exist_ok=True)\n",
    "    pio.write_html(fig, file=os.path.join(output_path, \"PCA\", f\"{method} Clustering PCA.html\"), auto_open=False)"
   ],
   "id": "2ee5c73f5b23b006",
   "outputs": [
    {
     "data": {
      "application/vnd.plotly.v1+json": {
       "data": [
        {
         "hovertemplate": "<b>%{hovertext}</b><br><br>color=Oral Session 1A: Neuroscience and Intepretability<br>0=%{x}<br>1=%{y}<extra></extra>",
         "hovertext": [
          "aVh9KRZdRk",
          "REIK4SZMJt",
          "8qu52Fl1Dt"
         ],
         "legendgroup": "Oral Session 1A: Neuroscience and Intepretability",
         "marker": {
          "color": "#2E91E5",
          "symbol": "circle"
         },
         "mode": "markers",
         "name": "Oral Session 1A: Neuroscience and Intepretability",
         "orientation": "v",
         "showlegend": true,
         "x": {
          "dtype": "f8",
          "bdata": "sj60q+2Kmj8MwzBoNUKTPwAAgPrQopM/"
         },
         "xaxis": "x",
         "y": {
          "dtype": "f8",
          "bdata": "jfVhT/DBer/0PM8HZp2OvwAAAOAuHTo/"
         },
         "yaxis": "y",
         "type": "scatter"
        },
        {
         "hovertemplate": "<b>%{hovertext}</b><br><br>color=Oral Session 1D: Learning Theory<br>0=%{x}<br>1=%{y}<extra></extra>",
         "hovertext": [
          "m1a4CrRJR7",
          "rtz4df9IF1",
          "ge8GZn8Gtu"
         ],
         "legendgroup": "Oral Session 1D: Learning Theory",
         "marker": {
          "color": "#E15F99",
          "symbol": "circle"
         },
         "mode": "markers",
         "name": "Oral Session 1D: Learning Theory",
         "orientation": "v",
         "showlegend": true,
         "x": {
          "dtype": "f8",
          "bdata": "vYbyaqfoQD/0PM8zgIxZv1nIQkYlZJc/"
         },
         "xaxis": "x",
         "y": {
          "dtype": "f8",
          "bdata": "r6G8At9thD/btm1fM86Sv6c3vQnE1p2/"
         },
         "yaxis": "y",
         "type": "scatter"
        },
        {
         "hovertemplate": "<b>%{hovertext}</b><br><br>color=Oral Session 1C: Optimization and Learning Theory<br>0=%{x}<br>1=%{y}<extra></extra>",
         "hovertext": [
          "0XeNkkENuI",
          "y10avdRFNK",
          "qf2uZAdy1N"
         ],
         "legendgroup": "Oral Session 1C: Optimization and Learning Theory",
         "marker": {
          "color": "#1CA71C",
          "symbol": "circle"
         },
         "mode": "markers",
         "name": "Oral Session 1C: Optimization and Learning Theory",
         "orientation": "v",
         "showlegend": true,
         "x": {
          "dtype": "f8",
          "bdata": "AAAAyG4If7+KndjPZjByP8QdYZTRB3A/"
         },
         "xaxis": "x",
         "y": {
          "dtype": "f8",
          "bdata": "uuiiK1WcgL/ZiZ2cnCiXvwAAAEzv1ZO/"
         },
         "yaxis": "y",
         "type": "scatter"
        },
        {
         "hovertemplate": "<b>%{hovertext}</b><br><br>color=Oral Session 1B: Human-AI Interaction<br>0=%{x}<br>1=%{y}<extra></extra>",
         "hovertext": [
          "wpGJ2AX6SZ",
          "r5spnrY6H3",
          "DFr5hteojx"
         ],
         "legendgroup": "Oral Session 1B: Human-AI Interaction",
         "marker": {
          "color": "#FB0D0D",
          "symbol": "circle"
         },
         "mode": "markers",
         "name": "Oral Session 1B: Human-AI Interaction",
         "orientation": "v",
         "showlegend": true,
         "x": {
          "dtype": "f8",
          "bdata": "iYiIBw8ZeT9yHGdajO6DPwnEZY+zxX4/"
         },
         "xaxis": "x",
         "y": {
          "dtype": "f8",
          "bdata": "MzMzgWCIir85jmMrFpGDP2jd4B5F8ZO/"
         },
         "yaxis": "y",
         "type": "scatter"
        },
        {
         "hovertemplate": "<b>%{hovertext}</b><br><br>color=Oral Session 2A: Agents<br>0=%{x}<br>1=%{y}<extra></extra>",
         "hovertext": [
          "aIPwlkdOut",
          "iSwK1YqO7v",
          "4S8agvKjle"
         ],
         "legendgroup": "Oral Session 2A: Agents",
         "marker": {
          "color": "#DA16FF",
          "symbol": "circle"
         },
         "mode": "markers",
         "name": "Oral Session 2A: Agents",
         "orientation": "v",
         "showlegend": true,
         "x": {
          "dtype": "f8",
          "bdata": "4YMPhp/TkT89Ctfb0V46PwAAQJDg2ka/"
         },
         "xaxis": "x",
         "y": {
          "dtype": "f8",
          "bdata": "fPDBP5I9jb8AABDRNnaUvwAAwKHBz5W/"
         },
         "yaxis": "y",
         "type": "scatter"
        },
        {
         "hovertemplate": "<b>%{hovertext}</b><br><br>color=Oral Session 2B: Reinforcement Learning<br>0=%{x}<br>1=%{y}<extra></extra>",
         "hovertext": [
          "UdxpjKO2F9",
          "6YIpvnkjUK",
          "Ddak3nSqQM"
         ],
         "legendgroup": "Oral Session 2B: Reinforcement Learning",
         "marker": {
          "color": "#222A2A",
          "symbol": "circle"
         },
         "mode": "markers",
         "name": "Oral Session 2B: Reinforcement Learning",
         "orientation": "v",
         "showlegend": true,
         "x": {
          "dtype": "f8",
          "bdata": "L7ro4izkgz9VVVUVGCdNPxKWe/pFhpc/"
         },
         "xaxis": "x",
         "y": {
          "dtype": "f8",
          "bdata": "F110EQDVmL8AABa23fCRv42w3D/AEZi/"
         },
         "yaxis": "y",
         "type": "scatter"
        },
        {
         "hovertemplate": "<b>%{hovertext}</b><br><br>color=Oral Session 2C: Reinforcement Learning<br>0=%{x}<br>1=%{y}<extra></extra>",
         "hovertext": [
          "LEzx6QRkRH",
          "eWUM5hRYgH",
          "mSaqxZVZW8"
         ],
         "legendgroup": "Oral Session 2C: Reinforcement Learning",
         "marker": {
          "color": "#B68100",
          "symbol": "circle"
         },
         "mode": "markers",
         "name": "Oral Session 2C: Reinforcement Learning",
         "orientation": "v",
         "showlegend": true,
         "x": {
          "dtype": "f8",
          "bdata": "8fDwkMHUkT8AAADTikJkPxQ7sSPnhGw/"
         },
         "xaxis": "x",
         "y": {
          "dtype": "f8",
          "bdata": "8fDwMJavnL8AAGDZ8SeWv8VOKBafUHu/"
         },
         "yaxis": "y",
         "type": "scatter"
        },
        {
         "hovertemplate": "<b>%{hovertext}</b><br><br>color=Oral Session 2D: Generative Models<br>0=%{x}<br>1=%{y}<extra></extra>",
         "hovertext": [
          "pGEY8JQ3qx",
          "5zSCSE0k41",
          "gojL67CfS8"
         ],
         "legendgroup": "Oral Session 2D: Generative Models",
         "marker": {
          "color": "#750D86",
          "symbol": "circle"
         },
         "mode": "markers",
         "name": "Oral Session 2D: Generative Models",
         "orientation": "v",
         "showlegend": true,
         "x": {
          "dtype": "f8",
          "bdata": "sj60GFokkD/FTrwk+cd2P4fyGu4Or4S/"
         },
         "xaxis": "x",
         "y": {
          "dtype": "f8",
          "bdata": "FbycbP8yiL8UO7EzrKBbP15DeeH1+3K/"
         },
         "yaxis": "y",
         "type": "scatter"
        },
        {
         "hovertemplate": "<b>%{hovertext}</b><br><br>color=Oral Session 3A: Generative Models<br>0=%{x}<br>1=%{y}<extra></extra>",
         "hovertext": [
          "0NMzBwqaAJ",
          "clTa4JFBML",
          "qEpi8uWX3N"
         ],
         "legendgroup": "Oral Session 3A: Generative Models",
         "marker": {
          "color": "#EB663B",
          "symbol": "circle"
         },
         "mode": "markers",
         "name": "Oral Session 3A: Generative Models",
         "orientation": "v",
         "showlegend": true,
         "x": {
          "dtype": "f8",
          "bdata": "H3zwx9cRbT+rqqrS4Ux/PyVJkoiP5IG/"
         },
         "xaxis": "x",
         "y": {
          "dtype": "f8",
          "bdata": "4YMPDp+jlL8AAAD4ndaTv7dt28pcYpS/"
         },
         "yaxis": "y",
         "type": "scatter"
        },
        {
         "hovertemplate": "<b>%{hovertext}</b><br><br>color=Oral Session 3B: Natural Language Processing<br>0=%{x}<br>1=%{y}<extra></extra>",
         "hovertext": [
          "bCMpdaQCNW",
          "NPKZF1WDjZ",
          "Oo7dlLgqQX"
         ],
         "legendgroup": "Oral Session 3B: Natural Language Processing",
         "marker": {
          "color": "#511CFB",
          "symbol": "circle"
         },
         "mode": "markers",
         "name": "Oral Session 3B: Natural Language Processing",
         "orientation": "v",
         "showlegend": true,
         "x": {
          "dtype": "f8",
          "bdata": "27Ztl8pUjT8zMzPHEqtWvzMzMz4iZoc/"
         },
         "xaxis": "x",
         "y": {
          "dtype": "f8",
          "bdata": "kiRJ4ngfmb/NzIx3SoeMv83MzNxZlqC/"
         },
         "yaxis": "y",
         "type": "scatter"
        },
        {
         "hovertemplate": "<b>%{hovertext}</b><br><br>color=Oral Session 3C: Natural Language Processing<br>0=%{x}<br>1=%{y}<extra></extra>",
         "hovertext": [
          "YvA8UF0I37",
          "4NJBV6Wp0h",
          "pC44UMwy2v"
         ],
         "legendgroup": "Oral Session 3C: Natural Language Processing",
         "marker": {
          "color": "#00A08B",
          "symbol": "circle"
         },
         "mode": "markers",
         "name": "Oral Session 3C: Natural Language Processing",
         "orientation": "v",
         "showlegend": true,
         "x": {
          "dtype": "f8",
          "bdata": "onYlbmOvY785jmNnPBOCP3TRRTUkJpA/"
         },
         "xaxis": "x",
         "y": {
          "dtype": "f8",
          "bdata": "onYlfiUEXz9yHMe15pOTv7rooptpjKK/"
         },
         "yaxis": "y",
         "type": "scatter"
        },
        {
         "hovertemplate": "<b>%{hovertext}</b><br><br>color=Oral Session 3D: Natural Language Processing<br>0=%{x}<br>1=%{y}<extra></extra>",
         "hovertext": [
          "cFqAANINgW",
          "mp8u2Pcmqz",
          "V0oJaLqY4E"
         ],
         "legendgroup": "Oral Session 3D: Natural Language Processing",
         "marker": {
          "color": "#FB00D1",
          "symbol": "circle"
         },
         "mode": "markers",
         "name": "Oral Session 3D: Natural Language Processing",
         "orientation": "v",
         "showlegend": true,
         "x": {
          "dtype": "f8",
          "bdata": "mpmZ8xnbaD8AAMHKRi+AP+Q4jvPxb2y/"
         },
         "xaxis": "x",
         "y": {
          "dtype": "f8",
          "bdata": "LL7ikdVIh78AAMBXiaCHv1VVVSZt+GS/"
         },
         "yaxis": "y",
         "type": "scatter"
        },
        {
         "hovertemplate": "<b>%{hovertext}</b><br><br>color=Oral Session 4B: Diffusion-based Models<br>0=%{x}<br>1=%{y}<extra></extra>",
         "hovertext": [
          "TFZlFRl9Ks",
          "3Odq2tGSpp",
          "bg6fVPVs3s"
         ],
         "legendgroup": "Oral Session 4B: Diffusion-based Models",
         "marker": {
          "color": "#FC0080",
          "symbol": "circle"
         },
         "mode": "markers",
         "name": "Oral Session 4B: Diffusion-based Models",
         "orientation": "v",
         "showlegend": true,
         "x": {
          "dtype": "f8",
          "bdata": "iYiIp1n2dz/kOI4rGQh2P4mIiFhkm2s/"
         },
         "xaxis": "x",
         "y": {
          "dtype": "f8",
          "bdata": "mpmZma5VIb/HcRwRLKORvwAAAPCxO4m/"
         },
         "yaxis": "y",
         "type": "scatter"
        },
        {
         "hovertemplate": "<b>%{hovertext}</b><br><br>color=Oral Session 4C: Diffusion-based Models, Mathematics<br>0=%{x}<br>1=%{y}<extra></extra>",
         "hovertext": [
          "OycU0bAus6",
          "tQukGCDaNT",
          "Mbd3QxXjq5"
         ],
         "legendgroup": "Oral Session 4C: Diffusion-based Models, Mathematics",
         "marker": {
          "color": "#B2828D",
          "symbol": "circle"
         },
         "mode": "markers",
         "name": "Oral Session 4C: Diffusion-based Models, Mathematics",
         "orientation": "v",
         "showlegend": true,
         "x": {
          "dtype": "f8",
          "bdata": "IiIiGvj+gz+mpSXjTzB3P4ZhGKojT34/"
         },
         "xaxis": "x",
         "y": {
          "dtype": "f8",
          "bdata": "vLu7O2zJWb94eHiAdJuQv4ZhGA5xMZC/"
         },
         "yaxis": "y",
         "type": "scatter"
        },
        {
         "hovertemplate": "<b>%{hovertext}</b><br><br>color=Oral Session 5A: Graph Neural Networks<br>0=%{x}<br>1=%{y}<extra></extra>",
         "hovertext": [
          "QDYts5dYgq",
          "9O2sVnEHor",
          "8Fxqn1tZM1"
         ],
         "legendgroup": "Oral Session 5A: Graph Neural Networks",
         "marker": {
          "color": "#6C7C32",
          "symbol": "circle"
         },
         "mode": "markers",
         "name": "Oral Session 5A: Graph Neural Networks",
         "orientation": "v",
         "showlegend": true,
         "x": {
          "dtype": "f8",
          "bdata": "JUmSzJ5/h7/7zkZ9N75mv4p8Vn2GDXi/"
         },
         "xaxis": "x",
         "y": {
          "dtype": "f8",
          "bdata": "AAAA8Pp3cb+jvrNAobuDP/msG0tjaoA/"
         },
         "yaxis": "y",
         "type": "scatter"
        },
        {
         "hovertemplate": "<b>%{hovertext}</b><br><br>color=Oral Session 4D: Machine Vision<br>0=%{x}<br>1=%{y}<extra></extra>",
         "hovertext": [
          "SSCtCq2MH2",
          "x7pjdDod6Z",
          "47loYmzxep"
         ],
         "legendgroup": "Oral Session 4D: Machine Vision",
         "marker": {
          "color": "#778AAE",
          "symbol": "circle"
         },
         "mode": "markers",
         "name": "Oral Session 4D: Machine Vision",
         "orientation": "v",
         "showlegend": true,
         "x": {
          "dtype": "f8",
          "bdata": "zczMZEwciT/x8PBS95xhP1VVVcXh1XS/"
         },
         "xaxis": "x",
         "y": {
          "dtype": "f8",
          "bdata": "MzMzL20qVb9paWlVAYl9P97d3VtkYHA/"
         },
         "yaxis": "y",
         "type": "scatter"
        },
        {
         "hovertemplate": "<b>%{hovertext}</b><br><br>color=Oral Session 5B: Graph Neural Networks, Causal Inference<br>0=%{x}<br>1=%{y}<extra></extra>",
         "hovertext": [
          "R8SolCx62K",
          "4rCZeCZAON",
          "S2P6KPLtm8"
         ],
         "legendgroup": "Oral Session 5B: Graph Neural Networks, Causal Inference",
         "marker": {
          "color": "#862A16",
          "symbol": "circle"
         },
         "mode": "markers",
         "name": "Oral Session 5B: Graph Neural Networks, Causal Inference",
         "orientation": "v",
         "showlegend": true,
         "x": {
          "dtype": "f8",
          "bdata": "AAAAmwP6eT/RRRdZPi19v51zzg37TH4/"
         },
         "xaxis": "x",
         "y": {
          "dtype": "f8",
          "bdata": "AACAY85Ke78vumhzlf90v6WUUkpKPlY/"
         },
         "yaxis": "y",
         "type": "scatter"
        },
        {
         "hovertemplate": "<b>%{hovertext}</b><br><br>color=Oral Session 5C: Machine Vision<br>0=%{x}<br>1=%{y}<extra></extra>",
         "hovertext": [
          "C4NbtYnyQg",
          "4bKEFyUHT4",
          "Vi8AepAXGy"
         ],
         "legendgroup": "Oral Session 5C: Machine Vision",
         "marker": {
          "color": "#A777F1",
          "symbol": "circle"
         },
         "mode": "markers",
         "name": "Oral Session 5C: Machine Vision",
         "orientation": "v",
         "showlegend": true,
         "x": {
          "dtype": "f8",
          "bdata": "sRM78S3oSr8AAABG4N5jP64gJtnWyJE/"
         },
         "xaxis": "x",
         "y": {
          "dtype": "f8",
          "bdata": "dmInDYimiL8AAADU9FFvP11BTHyMAJC/"
         },
         "yaxis": "y",
         "type": "scatter"
        },
        {
         "hovertemplate": "<b>%{hovertext}</b><br><br>color=Oral Session 5D: Machine Learning and Science<br>0=%{x}<br>1=%{y}<extra></extra>",
         "hovertext": [
          "tnh4LK72yj",
          "J2wI2rCG2u",
          "uNKlTQ8mBD"
         ],
         "legendgroup": "Oral Session 5D: Machine Learning and Science",
         "marker": {
          "color": "#620042",
          "symbol": "circle"
         },
         "mode": "markers",
         "name": "Oral Session 5D: Machine Learning and Science",
         "orientation": "v",
         "showlegend": true,
         "x": {
          "dtype": "f8",
          "bdata": "AAAAQXO1fD8Jy336XlZ4P0mSJG2fbY4/"
         },
         "xaxis": "x",
         "y": {
          "dtype": "f8",
          "bdata": "AACA6elfjL+NsNztaGiVv9u2bduYGyI/"
         },
         "yaxis": "y",
         "type": "scatter"
        },
        {
         "hovertemplate": "<b>%{hovertext}</b><br><br>color=Oral Session 6A: Machine Learning and Science, Safety<br>0=%{x}<br>1=%{y}<extra></extra>",
         "hovertext": [
          "HRkniCWM3E",
          "EKdk4vxKO4",
          "cfrDLD1wfO"
         ],
         "legendgroup": "Oral Session 6A: Machine Learning and Science, Safety",
         "marker": {
          "color": "#1616A7",
          "symbol": "circle"
         },
         "mode": "markers",
         "name": "Oral Session 6A: Machine Learning and Science, Safety",
         "orientation": "v",
         "showlegend": true,
         "x": {
          "dtype": "f8",
          "bdata": "Tm96UyoxoL+yySarE/eFP0mSJP26snm/"
         },
         "xaxis": "x",
         "y": {
          "dtype": "f8",
          "bdata": "C1nIMtkkh79GF1005EWLv7dt28YC7Y+/"
         },
         "yaxis": "y",
         "type": "scatter"
        },
        {
         "hovertemplate": "<b>%{hovertext}</b><br><br>color=Oral Session 6B: Safety, New Data<br>0=%{x}<br>1=%{y}<extra></extra>",
         "hovertext": [
          "kq166jACVP",
          "135eKqDoRR",
          "cu8FfaYriU"
         ],
         "legendgroup": "Oral Session 6B: Safety, New Data",
         "marker": {
          "color": "#DA60CA",
          "symbol": "circle"
         },
         "mode": "markers",
         "name": "Oral Session 6B: Safety, New Data",
         "orientation": "v",
         "showlegend": true,
         "x": {
          "dtype": "f8",
          "bdata": "btu2TRPJXr/T0tITxz9xv1100ZXGLk+/"
         },
         "xaxis": "x",
         "y": {
          "dtype": "f8",
          "bdata": "AAAAzha4mL+Ih4d9oSx5vwAAADhAc4m/"
         },
         "yaxis": "y",
         "type": "scatter"
        },
        {
         "hovertemplate": "<b>%{hovertext}</b><br><br>color=Oral Session 6D: Deep Learning Architecture, Infrastructure<br>0=%{x}<br>1=%{y}<extra></extra>",
         "hovertext": [
          "Pezt0xttae",
          "25Ioxw576r",
          "Y8YVCOMEpz"
         ],
         "legendgroup": "Oral Session 6D: Deep Learning Architecture, Infrastructure",
         "marker": {
          "color": "#6C4516",
          "symbol": "circle"
         },
         "mode": "markers",
         "name": "Oral Session 6D: Deep Learning Architecture, Infrastructure",
         "orientation": "v",
         "showlegend": true,
         "x": {
          "dtype": "f8",
          "bdata": "27ZtwYz1kb/btm1Lg+RQP27btszOx1m/"
         },
         "xaxis": "x",
         "y": {
          "dtype": "f8",
          "bdata": "kiRJ+nrNk78lSZJYObRzv5IkSanEAoW/"
         },
         "yaxis": "y",
         "type": "scatter"
        },
        {
         "hovertemplate": "<b>%{hovertext}</b><br><br>color=Oral Session 4A: Natural Language Processing<br>0=%{x}<br>1=%{y}<extra></extra>",
         "hovertext": [
          "zogaeVpbaE",
          "E18kRXTGmV",
          "cLga8GStdk"
         ],
         "legendgroup": "Oral Session 4A: Natural Language Processing",
         "marker": {
          "color": "#0D2A63",
          "symbol": "circle"
         },
         "mode": "markers",
         "name": "Oral Session 4A: Natural Language Processing",
         "orientation": "v",
         "showlegend": true,
         "x": {
          "dtype": "f8",
          "bdata": "JUkyXULBdL8AAAAQQeloPwAAgAJEWVK/"
         },
         "xaxis": "x",
         "y": {
          "dtype": "f8",
          "bdata": "27Zt098NiL8AAOBlgIaGvwAAQJqB8Za/"
         },
         "yaxis": "y",
         "type": "scatter"
        },
        {
         "hovertemplate": "<b>%{hovertext}</b><br><br>color=Oral Session 6C: New Data<br>0=%{x}<br>1=%{y}<extra></extra>",
         "hovertext": [
          "VXohja0vrQ",
          "KZlJF8kguO",
          "s1K5Z5QPog"
         ],
         "legendgroup": "Oral Session 6C: New Data",
         "marker": {
          "color": "#AF0038",
          "symbol": "circle"
         },
         "mode": "markers",
         "name": "Oral Session 6C: New Data",
         "orientation": "v",
         "showlegend": true,
         "x": {
          "dtype": "f8",
          "bdata": "AAAAptO0iD8AAACgz4OQPyIiIsloZHI/"
         },
         "xaxis": "x",
         "y": {
          "dtype": "f8",
          "bdata": "AACgOlrjib8AAOCL042KPyIiorvvcoq/"
         },
         "yaxis": "y",
         "type": "scatter"
        }
       ],
       "layout": {
        "template": {
         "data": {
          "histogram2dcontour": [
           {
            "type": "histogram2dcontour",
            "colorbar": {
             "outlinewidth": 0,
             "ticks": ""
            },
            "colorscale": [
             [
              0.0,
              "#0d0887"
             ],
             [
              0.1111111111111111,
              "#46039f"
             ],
             [
              0.2222222222222222,
              "#7201a8"
             ],
             [
              0.3333333333333333,
              "#9c179e"
             ],
             [
              0.4444444444444444,
              "#bd3786"
             ],
             [
              0.5555555555555556,
              "#d8576b"
             ],
             [
              0.6666666666666666,
              "#ed7953"
             ],
             [
              0.7777777777777778,
              "#fb9f3a"
             ],
             [
              0.8888888888888888,
              "#fdca26"
             ],
             [
              1.0,
              "#f0f921"
             ]
            ]
           }
          ],
          "choropleth": [
           {
            "type": "choropleth",
            "colorbar": {
             "outlinewidth": 0,
             "ticks": ""
            }
           }
          ],
          "histogram2d": [
           {
            "type": "histogram2d",
            "colorbar": {
             "outlinewidth": 0,
             "ticks": ""
            },
            "colorscale": [
             [
              0.0,
              "#0d0887"
             ],
             [
              0.1111111111111111,
              "#46039f"
             ],
             [
              0.2222222222222222,
              "#7201a8"
             ],
             [
              0.3333333333333333,
              "#9c179e"
             ],
             [
              0.4444444444444444,
              "#bd3786"
             ],
             [
              0.5555555555555556,
              "#d8576b"
             ],
             [
              0.6666666666666666,
              "#ed7953"
             ],
             [
              0.7777777777777778,
              "#fb9f3a"
             ],
             [
              0.8888888888888888,
              "#fdca26"
             ],
             [
              1.0,
              "#f0f921"
             ]
            ]
           }
          ],
          "heatmap": [
           {
            "type": "heatmap",
            "colorbar": {
             "outlinewidth": 0,
             "ticks": ""
            },
            "colorscale": [
             [
              0.0,
              "#0d0887"
             ],
             [
              0.1111111111111111,
              "#46039f"
             ],
             [
              0.2222222222222222,
              "#7201a8"
             ],
             [
              0.3333333333333333,
              "#9c179e"
             ],
             [
              0.4444444444444444,
              "#bd3786"
             ],
             [
              0.5555555555555556,
              "#d8576b"
             ],
             [
              0.6666666666666666,
              "#ed7953"
             ],
             [
              0.7777777777777778,
              "#fb9f3a"
             ],
             [
              0.8888888888888888,
              "#fdca26"
             ],
             [
              1.0,
              "#f0f921"
             ]
            ]
           }
          ],
          "contourcarpet": [
           {
            "type": "contourcarpet",
            "colorbar": {
             "outlinewidth": 0,
             "ticks": ""
            }
           }
          ],
          "contour": [
           {
            "type": "contour",
            "colorbar": {
             "outlinewidth": 0,
             "ticks": ""
            },
            "colorscale": [
             [
              0.0,
              "#0d0887"
             ],
             [
              0.1111111111111111,
              "#46039f"
             ],
             [
              0.2222222222222222,
              "#7201a8"
             ],
             [
              0.3333333333333333,
              "#9c179e"
             ],
             [
              0.4444444444444444,
              "#bd3786"
             ],
             [
              0.5555555555555556,
              "#d8576b"
             ],
             [
              0.6666666666666666,
              "#ed7953"
             ],
             [
              0.7777777777777778,
              "#fb9f3a"
             ],
             [
              0.8888888888888888,
              "#fdca26"
             ],
             [
              1.0,
              "#f0f921"
             ]
            ]
           }
          ],
          "surface": [
           {
            "type": "surface",
            "colorbar": {
             "outlinewidth": 0,
             "ticks": ""
            },
            "colorscale": [
             [
              0.0,
              "#0d0887"
             ],
             [
              0.1111111111111111,
              "#46039f"
             ],
             [
              0.2222222222222222,
              "#7201a8"
             ],
             [
              0.3333333333333333,
              "#9c179e"
             ],
             [
              0.4444444444444444,
              "#bd3786"
             ],
             [
              0.5555555555555556,
              "#d8576b"
             ],
             [
              0.6666666666666666,
              "#ed7953"
             ],
             [
              0.7777777777777778,
              "#fb9f3a"
             ],
             [
              0.8888888888888888,
              "#fdca26"
             ],
             [
              1.0,
              "#f0f921"
             ]
            ]
           }
          ],
          "mesh3d": [
           {
            "type": "mesh3d",
            "colorbar": {
             "outlinewidth": 0,
             "ticks": ""
            }
           }
          ],
          "scatter": [
           {
            "marker": {
             "line": {
              "color": "#283442"
             }
            },
            "type": "scatter"
           }
          ],
          "parcoords": [
           {
            "type": "parcoords",
            "line": {
             "colorbar": {
              "outlinewidth": 0,
              "ticks": ""
             }
            }
           }
          ],
          "scatterpolargl": [
           {
            "type": "scatterpolargl",
            "marker": {
             "colorbar": {
              "outlinewidth": 0,
              "ticks": ""
             }
            }
           }
          ],
          "bar": [
           {
            "error_x": {
             "color": "#f2f5fa"
            },
            "error_y": {
             "color": "#f2f5fa"
            },
            "marker": {
             "line": {
              "color": "rgb(17,17,17)",
              "width": 0.5
             },
             "pattern": {
              "fillmode": "overlay",
              "size": 10,
              "solidity": 0.2
             }
            },
            "type": "bar"
           }
          ],
          "scattergeo": [
           {
            "type": "scattergeo",
            "marker": {
             "colorbar": {
              "outlinewidth": 0,
              "ticks": ""
             }
            }
           }
          ],
          "scatterpolar": [
           {
            "type": "scatterpolar",
            "marker": {
             "colorbar": {
              "outlinewidth": 0,
              "ticks": ""
             }
            }
           }
          ],
          "histogram": [
           {
            "marker": {
             "pattern": {
              "fillmode": "overlay",
              "size": 10,
              "solidity": 0.2
             }
            },
            "type": "histogram"
           }
          ],
          "scattergl": [
           {
            "marker": {
             "line": {
              "color": "#283442"
             }
            },
            "type": "scattergl"
           }
          ],
          "scatter3d": [
           {
            "type": "scatter3d",
            "line": {
             "colorbar": {
              "outlinewidth": 0,
              "ticks": ""
             }
            },
            "marker": {
             "colorbar": {
              "outlinewidth": 0,
              "ticks": ""
             }
            }
           }
          ],
          "scattermap": [
           {
            "type": "scattermap",
            "marker": {
             "colorbar": {
              "outlinewidth": 0,
              "ticks": ""
             }
            }
           }
          ],
          "scattermapbox": [
           {
            "type": "scattermapbox",
            "marker": {
             "colorbar": {
              "outlinewidth": 0,
              "ticks": ""
             }
            }
           }
          ],
          "scatterternary": [
           {
            "type": "scatterternary",
            "marker": {
             "colorbar": {
              "outlinewidth": 0,
              "ticks": ""
             }
            }
           }
          ],
          "scattercarpet": [
           {
            "type": "scattercarpet",
            "marker": {
             "colorbar": {
              "outlinewidth": 0,
              "ticks": ""
             }
            }
           }
          ],
          "carpet": [
           {
            "aaxis": {
             "endlinecolor": "#A2B1C6",
             "gridcolor": "#506784",
             "linecolor": "#506784",
             "minorgridcolor": "#506784",
             "startlinecolor": "#A2B1C6"
            },
            "baxis": {
             "endlinecolor": "#A2B1C6",
             "gridcolor": "#506784",
             "linecolor": "#506784",
             "minorgridcolor": "#506784",
             "startlinecolor": "#A2B1C6"
            },
            "type": "carpet"
           }
          ],
          "table": [
           {
            "cells": {
             "fill": {
              "color": "#506784"
             },
             "line": {
              "color": "rgb(17,17,17)"
             }
            },
            "header": {
             "fill": {
              "color": "#2a3f5f"
             },
             "line": {
              "color": "rgb(17,17,17)"
             }
            },
            "type": "table"
           }
          ],
          "barpolar": [
           {
            "marker": {
             "line": {
              "color": "rgb(17,17,17)",
              "width": 0.5
             },
             "pattern": {
              "fillmode": "overlay",
              "size": 10,
              "solidity": 0.2
             }
            },
            "type": "barpolar"
           }
          ],
          "pie": [
           {
            "automargin": true,
            "type": "pie"
           }
          ]
         },
         "layout": {
          "autotypenumbers": "strict",
          "colorway": [
           "#636efa",
           "#EF553B",
           "#00cc96",
           "#ab63fa",
           "#FFA15A",
           "#19d3f3",
           "#FF6692",
           "#B6E880",
           "#FF97FF",
           "#FECB52"
          ],
          "font": {
           "color": "#f2f5fa"
          },
          "hovermode": "closest",
          "hoverlabel": {
           "align": "left"
          },
          "paper_bgcolor": "rgb(17,17,17)",
          "plot_bgcolor": "rgb(17,17,17)",
          "polar": {
           "bgcolor": "rgb(17,17,17)",
           "angularaxis": {
            "gridcolor": "#506784",
            "linecolor": "#506784",
            "ticks": ""
           },
           "radialaxis": {
            "gridcolor": "#506784",
            "linecolor": "#506784",
            "ticks": ""
           }
          },
          "ternary": {
           "bgcolor": "rgb(17,17,17)",
           "aaxis": {
            "gridcolor": "#506784",
            "linecolor": "#506784",
            "ticks": ""
           },
           "baxis": {
            "gridcolor": "#506784",
            "linecolor": "#506784",
            "ticks": ""
           },
           "caxis": {
            "gridcolor": "#506784",
            "linecolor": "#506784",
            "ticks": ""
           }
          },
          "coloraxis": {
           "colorbar": {
            "outlinewidth": 0,
            "ticks": ""
           }
          },
          "colorscale": {
           "sequential": [
            [
             0.0,
             "#0d0887"
            ],
            [
             0.1111111111111111,
             "#46039f"
            ],
            [
             0.2222222222222222,
             "#7201a8"
            ],
            [
             0.3333333333333333,
             "#9c179e"
            ],
            [
             0.4444444444444444,
             "#bd3786"
            ],
            [
             0.5555555555555556,
             "#d8576b"
            ],
            [
             0.6666666666666666,
             "#ed7953"
            ],
            [
             0.7777777777777778,
             "#fb9f3a"
            ],
            [
             0.8888888888888888,
             "#fdca26"
            ],
            [
             1.0,
             "#f0f921"
            ]
           ],
           "sequentialminus": [
            [
             0.0,
             "#0d0887"
            ],
            [
             0.1111111111111111,
             "#46039f"
            ],
            [
             0.2222222222222222,
             "#7201a8"
            ],
            [
             0.3333333333333333,
             "#9c179e"
            ],
            [
             0.4444444444444444,
             "#bd3786"
            ],
            [
             0.5555555555555556,
             "#d8576b"
            ],
            [
             0.6666666666666666,
             "#ed7953"
            ],
            [
             0.7777777777777778,
             "#fb9f3a"
            ],
            [
             0.8888888888888888,
             "#fdca26"
            ],
            [
             1.0,
             "#f0f921"
            ]
           ],
           "diverging": [
            [
             0,
             "#8e0152"
            ],
            [
             0.1,
             "#c51b7d"
            ],
            [
             0.2,
             "#de77ae"
            ],
            [
             0.3,
             "#f1b6da"
            ],
            [
             0.4,
             "#fde0ef"
            ],
            [
             0.5,
             "#f7f7f7"
            ],
            [
             0.6,
             "#e6f5d0"
            ],
            [
             0.7,
             "#b8e186"
            ],
            [
             0.8,
             "#7fbc41"
            ],
            [
             0.9,
             "#4d9221"
            ],
            [
             1,
             "#276419"
            ]
           ]
          },
          "xaxis": {
           "gridcolor": "#283442",
           "linecolor": "#506784",
           "ticks": "",
           "title": {
            "standoff": 15
           },
           "zerolinecolor": "#283442",
           "automargin": true,
           "zerolinewidth": 2
          },
          "yaxis": {
           "gridcolor": "#283442",
           "linecolor": "#506784",
           "ticks": "",
           "title": {
            "standoff": 15
           },
           "zerolinecolor": "#283442",
           "automargin": true,
           "zerolinewidth": 2
          },
          "scene": {
           "xaxis": {
            "backgroundcolor": "rgb(17,17,17)",
            "gridcolor": "#506784",
            "linecolor": "#506784",
            "showbackground": true,
            "ticks": "",
            "zerolinecolor": "#C8D4E3",
            "gridwidth": 2
           },
           "yaxis": {
            "backgroundcolor": "rgb(17,17,17)",
            "gridcolor": "#506784",
            "linecolor": "#506784",
            "showbackground": true,
            "ticks": "",
            "zerolinecolor": "#C8D4E3",
            "gridwidth": 2
           },
           "zaxis": {
            "backgroundcolor": "rgb(17,17,17)",
            "gridcolor": "#506784",
            "linecolor": "#506784",
            "showbackground": true,
            "ticks": "",
            "zerolinecolor": "#C8D4E3",
            "gridwidth": 2
           }
          },
          "shapedefaults": {
           "line": {
            "color": "#f2f5fa"
           }
          },
          "annotationdefaults": {
           "arrowcolor": "#f2f5fa",
           "arrowhead": 0,
           "arrowwidth": 1
          },
          "geo": {
           "bgcolor": "rgb(17,17,17)",
           "landcolor": "rgb(17,17,17)",
           "subunitcolor": "#506784",
           "showland": true,
           "showlakes": true,
           "lakecolor": "rgb(17,17,17)"
          },
          "title": {
           "x": 0.05
          },
          "updatemenudefaults": {
           "bgcolor": "#506784",
           "borderwidth": 0
          },
          "sliderdefaults": {
           "bgcolor": "#C8D4E3",
           "borderwidth": 1,
           "bordercolor": "rgb(17,17,17)",
           "tickwidth": 0
          },
          "mapbox": {
           "style": "dark"
          }
         }
        },
        "xaxis": {
         "anchor": "y",
         "domain": [
          0.0,
          1.0
         ],
         "title": {
          "text": "0"
         }
        },
        "yaxis": {
         "anchor": "x",
         "domain": [
          0.0,
          1.0
         ],
         "title": {
          "text": "1"
         }
        },
        "legend": {
         "title": {
          "text": "color"
         },
         "tracegroupgap": 0
        },
        "title": {
         "text": "Baseline Clustering PCA"
        }
       },
       "config": {
        "plotlyServerURL": "https://plot.ly"
       }
      }
     },
     "metadata": {},
     "output_type": "display_data"
    },
    {
     "data": {
      "application/vnd.plotly.v1+json": {
       "data": [
        {
         "hovertemplate": "<b>%{hovertext}</b><br><br>color=Oral Session 1A: Neuroscience and Intepretability<br>0=%{x}<br>1=%{y}<extra></extra>",
         "hovertext": [
          "aVh9KRZdRk",
          "KZlJF8kguO",
          "cu8FfaYriU"
         ],
         "legendgroup": "Oral Session 1A: Neuroscience and Intepretability",
         "marker": {
          "color": "#2E91E5",
          "symbol": "circle"
         },
         "mode": "markers",
         "name": "Oral Session 1A: Neuroscience and Intepretability",
         "orientation": "v",
         "showlegend": true,
         "x": {
          "dtype": "f8",
          "bdata": "sj60q+2Kmj8AAACgz4OQP1100ZXGLk+/"
         },
         "xaxis": "x",
         "y": {
          "dtype": "f8",
          "bdata": "jfVhT/DBer8AAOCL042KPwAAADhAc4m/"
         },
         "yaxis": "y",
         "type": "scatter"
        },
        {
         "hovertemplate": "<b>%{hovertext}</b><br><br>color=Oral Session 1D: Learning Theory<br>0=%{x}<br>1=%{y}<extra></extra>",
         "hovertext": [
          "m1a4CrRJR7",
          "wpGJ2AX6SZ",
          "rtz4df9IF1"
         ],
         "legendgroup": "Oral Session 1D: Learning Theory",
         "marker": {
          "color": "#E15F99",
          "symbol": "circle"
         },
         "mode": "markers",
         "name": "Oral Session 1D: Learning Theory",
         "orientation": "v",
         "showlegend": true,
         "x": {
          "dtype": "f8",
          "bdata": "vYbyaqfoQD+JiIgHDxl5P/Q8zzOAjFm/"
         },
         "xaxis": "x",
         "y": {
          "dtype": "f8",
          "bdata": "r6G8At9thD8zMzOBYIiKv9u2bV8zzpK/"
         },
         "yaxis": "y",
         "type": "scatter"
        },
        {
         "hovertemplate": "<b>%{hovertext}</b><br><br>color=Oral Session 6C: New Data<br>0=%{x}<br>1=%{y}<extra></extra>",
         "hovertext": [
          "0XeNkkENuI",
          "HRkniCWM3E",
          "VXohja0vrQ"
         ],
         "legendgroup": "Oral Session 6C: New Data",
         "marker": {
          "color": "#1CA71C",
          "symbol": "circle"
         },
         "mode": "markers",
         "name": "Oral Session 6C: New Data",
         "orientation": "v",
         "showlegend": true,
         "x": {
          "dtype": "f8",
          "bdata": "AAAAyG4If79Ob3pTKjGgvwAAAKbTtIg/"
         },
         "xaxis": "x",
         "y": {
          "dtype": "f8",
          "bdata": "uuiiK1WcgL8LWcgy2SSHvwAAoDpa44m/"
         },
         "yaxis": "y",
         "type": "scatter"
        },
        {
         "hovertemplate": "<b>%{hovertext}</b><br><br>color=Oral Session 1C: Optimization and Learning Theory<br>0=%{x}<br>1=%{y}<extra></extra>",
         "hovertext": [
          "aIPwlkdOut",
          "ge8GZn8Gtu",
          "qf2uZAdy1N"
         ],
         "legendgroup": "Oral Session 1C: Optimization and Learning Theory",
         "marker": {
          "color": "#FB0D0D",
          "symbol": "circle"
         },
         "mode": "markers",
         "name": "Oral Session 1C: Optimization and Learning Theory",
         "orientation": "v",
         "showlegend": true,
         "x": {
          "dtype": "f8",
          "bdata": "4YMPhp/TkT9ZyEJGJWSXP8QdYZTRB3A/"
         },
         "xaxis": "x",
         "y": {
          "dtype": "f8",
          "bdata": "fPDBP5I9jb+nN70JxNadvwAAAEzv1ZO/"
         },
         "yaxis": "y",
         "type": "scatter"
        },
        {
         "hovertemplate": "<b>%{hovertext}</b><br><br>color=Oral Session 2C: Reinforcement Learning<br>0=%{x}<br>1=%{y}<extra></extra>",
         "hovertext": [
          "UdxpjKO2F9",
          "R8SolCx62K",
          "mSaqxZVZW8"
         ],
         "legendgroup": "Oral Session 2C: Reinforcement Learning",
         "marker": {
          "color": "#DA16FF",
          "symbol": "circle"
         },
         "mode": "markers",
         "name": "Oral Session 2C: Reinforcement Learning",
         "orientation": "v",
         "showlegend": true,
         "x": {
          "dtype": "f8",
          "bdata": "L7ro4izkgz8AAACbA/p5PxQ7sSPnhGw/"
         },
         "xaxis": "x",
         "y": {
          "dtype": "f8",
          "bdata": "F110EQDVmL8AAIBjzkp7v8VOKBafUHu/"
         },
         "yaxis": "y",
         "type": "scatter"
        },
        {
         "hovertemplate": "<b>%{hovertext}</b><br><br>color=Oral Session 3C: Natural Language Processing<br>0=%{x}<br>1=%{y}<extra></extra>",
         "hovertext": [
          "LEzx6QRkRH",
          "Ddak3nSqQM",
          "pC44UMwy2v"
         ],
         "legendgroup": "Oral Session 3C: Natural Language Processing",
         "marker": {
          "color": "#222A2A",
          "symbol": "circle"
         },
         "mode": "markers",
         "name": "Oral Session 3C: Natural Language Processing",
         "orientation": "v",
         "showlegend": true,
         "x": {
          "dtype": "f8",
          "bdata": "8fDwkMHUkT8Slnv6RYaXP3TRRTUkJpA/"
         },
         "xaxis": "x",
         "y": {
          "dtype": "f8",
          "bdata": "8fDwMJavnL+NsNw/wBGYv7rooptpjKK/"
         },
         "yaxis": "y",
         "type": "scatter"
        },
        {
         "hovertemplate": "<b>%{hovertext}</b><br><br>color=Oral Session 2B: Reinforcement Learning<br>0=%{x}<br>1=%{y}<extra></extra>",
         "hovertext": [
          "pGEY8JQ3qx",
          "6YIpvnkjUK",
          "eWUM5hRYgH"
         ],
         "legendgroup": "Oral Session 2B: Reinforcement Learning",
         "marker": {
          "color": "#B68100",
          "symbol": "circle"
         },
         "mode": "markers",
         "name": "Oral Session 2B: Reinforcement Learning",
         "orientation": "v",
         "showlegend": true,
         "x": {
          "dtype": "f8",
          "bdata": "sj60GFokkD9VVVUVGCdNPwAAANOKQmQ/"
         },
         "xaxis": "x",
         "y": {
          "dtype": "f8",
          "bdata": "FbycbP8yiL8AABa23fCRvwAAYNnxJ5a/"
         },
         "yaxis": "y",
         "type": "scatter"
        },
        {
         "hovertemplate": "<b>%{hovertext}</b><br><br>color=Oral Session 3D: Natural Language Processing<br>0=%{x}<br>1=%{y}<extra></extra>",
         "hovertext": [
          "0NMzBwqaAJ",
          "cFqAANINgW",
          "Mbd3QxXjq5"
         ],
         "legendgroup": "Oral Session 3D: Natural Language Processing",
         "marker": {
          "color": "#750D86",
          "symbol": "circle"
         },
         "mode": "markers",
         "name": "Oral Session 3D: Natural Language Processing",
         "orientation": "v",
         "showlegend": true,
         "x": {
          "dtype": "f8",
          "bdata": "H3zwx9cRbT+amZnzGdtoP4ZhGKojT34/"
         },
         "xaxis": "x",
         "y": {
          "dtype": "f8",
          "bdata": "4YMPDp+jlL8svuKR1UiHv4ZhGA5xMZC/"
         },
         "yaxis": "y",
         "type": "scatter"
        },
        {
         "hovertemplate": "<b>%{hovertext}</b><br><br>color=Oral Session 4A: Natural Language Processing<br>0=%{x}<br>1=%{y}<extra></extra>",
         "hovertext": [
          "bCMpdaQCNW",
          "4NJBV6Wp0h",
          "E18kRXTGmV"
         ],
         "legendgroup": "Oral Session 4A: Natural Language Processing",
         "marker": {
          "color": "#EB663B",
          "symbol": "circle"
         },
         "mode": "markers",
         "name": "Oral Session 4A: Natural Language Processing",
         "orientation": "v",
         "showlegend": true,
         "x": {
          "dtype": "f8",
          "bdata": "27Ztl8pUjT85jmNnPBOCPwAAABBB6Wg/"
         },
         "xaxis": "x",
         "y": {
          "dtype": "f8",
          "bdata": "kiRJ4ngfmb9yHMe15pOTvwAA4GWAhoa/"
         },
         "yaxis": "y",
         "type": "scatter"
        },
        {
         "hovertemplate": "<b>%{hovertext}</b><br><br>color=Oral Session 6B: Safety, New Data<br>0=%{x}<br>1=%{y}<extra></extra>",
         "hovertext": [
          "YvA8UF0I37",
          "mp8u2Pcmqz",
          "135eKqDoRR"
         ],
         "legendgroup": "Oral Session 6B: Safety, New Data",
         "marker": {
          "color": "#511CFB",
          "symbol": "circle"
         },
         "mode": "markers",
         "name": "Oral Session 6B: Safety, New Data",
         "orientation": "v",
         "showlegend": true,
         "x": {
          "dtype": "f8",
          "bdata": "onYlbmOvY78AAMHKRi+AP9PS0hPHP3G/"
         },
         "xaxis": "x",
         "y": {
          "dtype": "f8",
          "bdata": "onYlfiUEXz8AAMBXiaCHv4iHh32hLHm/"
         },
         "yaxis": "y",
         "type": "scatter"
        },
        {
         "hovertemplate": "<b>%{hovertext}</b><br><br>color=Oral Session 4D: Machine Vision<br>0=%{x}<br>1=%{y}<extra></extra>",
         "hovertext": [
          "TFZlFRl9Ks",
          "SSCtCq2MH2",
          "x7pjdDod6Z"
         ],
         "legendgroup": "Oral Session 4D: Machine Vision",
         "marker": {
          "color": "#00A08B",
          "symbol": "circle"
         },
         "mode": "markers",
         "name": "Oral Session 4D: Machine Vision",
         "orientation": "v",
         "showlegend": true,
         "x": {
          "dtype": "f8",
          "bdata": "iYiIp1n2dz/NzMxkTByJP/Hw8FL3nGE/"
         },
         "xaxis": "x",
         "y": {
          "dtype": "f8",
          "bdata": "mpmZma5VIb8zMzMvbSpVv2lpaVUBiX0/"
         },
         "yaxis": "y",
         "type": "scatter"
        },
        {
         "hovertemplate": "<b>%{hovertext}</b><br><br>color=Oral Session 5C: Machine Vision<br>0=%{x}<br>1=%{y}<extra></extra>",
         "hovertext": [
          "OycU0bAus6",
          "C4NbtYnyQg",
          "47loYmzxep"
         ],
         "legendgroup": "Oral Session 5C: Machine Vision",
         "marker": {
          "color": "#FB00D1",
          "symbol": "circle"
         },
         "mode": "markers",
         "name": "Oral Session 5C: Machine Vision",
         "orientation": "v",
         "showlegend": true,
         "x": {
          "dtype": "f8",
          "bdata": "IiIiGvj+gz+xEzvxLehKv1VVVcXh1XS/"
         },
         "xaxis": "x",
         "y": {
          "dtype": "f8",
          "bdata": "vLu7O2zJWb92YicNiKaIv97d3VtkYHA/"
         },
         "yaxis": "y",
         "type": "scatter"
        },
        {
         "hovertemplate": "<b>%{hovertext}</b><br><br>color=Oral Session 6A: Machine Learning and Science, Safety<br>0=%{x}<br>1=%{y}<extra></extra>",
         "hovertext": [
          "QDYts5dYgq",
          "cfrDLD1wfO",
          "s1K5Z5QPog"
         ],
         "legendgroup": "Oral Session 6A: Machine Learning and Science, Safety",
         "marker": {
          "color": "#FC0080",
          "symbol": "circle"
         },
         "mode": "markers",
         "name": "Oral Session 6A: Machine Learning and Science, Safety",
         "orientation": "v",
         "showlegend": true,
         "x": {
          "dtype": "f8",
          "bdata": "JUmSzJ5/h79JkiT9urJ5vyIiIsloZHI/"
         },
         "xaxis": "x",
         "y": {
          "dtype": "f8",
          "bdata": "AAAA8Pp3cb+3bdvGAu2PvyIiorvvcoq/"
         },
         "yaxis": "y",
         "type": "scatter"
        },
        {
         "hovertemplate": "<b>%{hovertext}</b><br><br>color=Oral Session 3A: Generative Models<br>0=%{x}<br>1=%{y}<extra></extra>",
         "hovertext": [
          "tnh4LK72yj",
          "Pezt0xttae",
          "qEpi8uWX3N"
         ],
         "legendgroup": "Oral Session 3A: Generative Models",
         "marker": {
          "color": "#B2828D",
          "symbol": "circle"
         },
         "mode": "markers",
         "name": "Oral Session 3A: Generative Models",
         "orientation": "v",
         "showlegend": true,
         "x": {
          "dtype": "f8",
          "bdata": "AAAAQXO1fD/btm3BjPWRvyVJkoiP5IG/"
         },
         "xaxis": "x",
         "y": {
          "dtype": "f8",
          "bdata": "AACA6elfjL+SJEn6es2Tv7dt28pcYpS/"
         },
         "yaxis": "y",
         "type": "scatter"
        },
        {
         "hovertemplate": "<b>%{hovertext}</b><br><br>color=Oral Session 1B: Human-AI Interaction<br>0=%{x}<br>1=%{y}<extra></extra>",
         "hovertext": [
          "kq166jACVP",
          "Oo7dlLgqQX",
          "DFr5hteojx"
         ],
         "legendgroup": "Oral Session 1B: Human-AI Interaction",
         "marker": {
          "color": "#6C7C32",
          "symbol": "circle"
         },
         "mode": "markers",
         "name": "Oral Session 1B: Human-AI Interaction",
         "orientation": "v",
         "showlegend": true,
         "x": {
          "dtype": "f8",
          "bdata": "btu2TRPJXr8zMzM+ImaHPwnEZY+zxX4/"
         },
         "xaxis": "x",
         "y": {
          "dtype": "f8",
          "bdata": "AAAAzha4mL/NzMzcWZagv2jd4B5F8ZO/"
         },
         "yaxis": "y",
         "type": "scatter"
        },
        {
         "hovertemplate": "<b>%{hovertext}</b><br><br>color=Oral Session 5B: Graph Neural Networks, Causal Inference<br>0=%{x}<br>1=%{y}<extra></extra>",
         "hovertext": [
          "REIK4SZMJt",
          "4rCZeCZAON",
          "S2P6KPLtm8"
         ],
         "legendgroup": "Oral Session 5B: Graph Neural Networks, Causal Inference",
         "marker": {
          "color": "#778AAE",
          "symbol": "circle"
         },
         "mode": "markers",
         "name": "Oral Session 5B: Graph Neural Networks, Causal Inference",
         "orientation": "v",
         "showlegend": true,
         "x": {
          "dtype": "f8",
          "bdata": "DMMwaDVCkz/RRRdZPi19v51zzg37TH4/"
         },
         "xaxis": "x",
         "y": {
          "dtype": "f8",
          "bdata": "9DzPB2adjr8vumhzlf90v6WUUkpKPlY/"
         },
         "yaxis": "y",
         "type": "scatter"
        },
        {
         "hovertemplate": "<b>%{hovertext}</b><br><br>color=Oral Session 5D: Machine Learning and Science<br>0=%{x}<br>1=%{y}<extra></extra>",
         "hovertext": [
          "y10avdRFNK",
          "J2wI2rCG2u",
          "V0oJaLqY4E"
         ],
         "legendgroup": "Oral Session 5D: Machine Learning and Science",
         "marker": {
          "color": "#862A16",
          "symbol": "circle"
         },
         "mode": "markers",
         "name": "Oral Session 5D: Machine Learning and Science",
         "orientation": "v",
         "showlegend": true,
         "x": {
          "dtype": "f8",
          "bdata": "ip3Yz2Ywcj8Jy336XlZ4P+Q4jvPxb2y/"
         },
         "xaxis": "x",
         "y": {
          "dtype": "f8",
          "bdata": "2YmdnJwol7+NsNztaGiVv1VVVSZt+GS/"
         },
         "yaxis": "y",
         "type": "scatter"
        },
        {
         "hovertemplate": "<b>%{hovertext}</b><br><br>color=Oral Session 2D: Generative Models<br>0=%{x}<br>1=%{y}<extra></extra>",
         "hovertext": [
          "r5spnrY6H3",
          "5zSCSE0k41",
          "8qu52Fl1Dt"
         ],
         "legendgroup": "Oral Session 2D: Generative Models",
         "marker": {
          "color": "#A777F1",
          "symbol": "circle"
         },
         "mode": "markers",
         "name": "Oral Session 2D: Generative Models",
         "orientation": "v",
         "showlegend": true,
         "x": {
          "dtype": "f8",
          "bdata": "chxnWozugz/FTrwk+cd2PwAAgPrQopM/"
         },
         "xaxis": "x",
         "y": {
          "dtype": "f8",
          "bdata": "OY5jKxaRgz8UO7EzrKBbPwAAAOAuHTo/"
         },
         "yaxis": "y",
         "type": "scatter"
        },
        {
         "hovertemplate": "<b>%{hovertext}</b><br><br>color=Oral Session 3B: Natural Language Processing<br>0=%{x}<br>1=%{y}<extra></extra>",
         "hovertext": [
          "NPKZF1WDjZ",
          "EKdk4vxKO4",
          "uNKlTQ8mBD"
         ],
         "legendgroup": "Oral Session 3B: Natural Language Processing",
         "marker": {
          "color": "#620042",
          "symbol": "circle"
         },
         "mode": "markers",
         "name": "Oral Session 3B: Natural Language Processing",
         "orientation": "v",
         "showlegend": true,
         "x": {
          "dtype": "f8",
          "bdata": "MzMzxxKrVr+yySarE/eFP0mSJG2fbY4/"
         },
         "xaxis": "x",
         "y": {
          "dtype": "f8",
          "bdata": "zcyMd0qHjL9GF1005EWLv9u2bduYGyI/"
         },
         "yaxis": "y",
         "type": "scatter"
        },
        {
         "hovertemplate": "<b>%{hovertext}</b><br><br>color=Oral Session 4C: Diffusion-based Models, Mathematics<br>0=%{x}<br>1=%{y}<extra></extra>",
         "hovertext": [
          "clTa4JFBML",
          "tQukGCDaNT",
          "bg6fVPVs3s"
         ],
         "legendgroup": "Oral Session 4C: Diffusion-based Models, Mathematics",
         "marker": {
          "color": "#1616A7",
          "symbol": "circle"
         },
         "mode": "markers",
         "name": "Oral Session 4C: Diffusion-based Models, Mathematics",
         "orientation": "v",
         "showlegend": true,
         "x": {
          "dtype": "f8",
          "bdata": "q6qq0uFMfz+mpSXjTzB3P4mIiFhkm2s/"
         },
         "xaxis": "x",
         "y": {
          "dtype": "f8",
          "bdata": "AAAA+J3Wk794eHiAdJuQvwAAAPCxO4m/"
         },
         "yaxis": "y",
         "type": "scatter"
        },
        {
         "hovertemplate": "<b>%{hovertext}</b><br><br>color=Oral Session 4B: Diffusion-based Models<br>0=%{x}<br>1=%{y}<extra></extra>",
         "hovertext": [
          "zogaeVpbaE",
          "3Odq2tGSpp",
          "Vi8AepAXGy"
         ],
         "legendgroup": "Oral Session 4B: Diffusion-based Models",
         "marker": {
          "color": "#DA60CA",
          "symbol": "circle"
         },
         "mode": "markers",
         "name": "Oral Session 4B: Diffusion-based Models",
         "orientation": "v",
         "showlegend": true,
         "x": {
          "dtype": "f8",
          "bdata": "JUkyXULBdL/kOI4rGQh2P64gJtnWyJE/"
         },
         "xaxis": "x",
         "y": {
          "dtype": "f8",
          "bdata": "27Zt098NiL/HcRwRLKORv11BTHyMAJC/"
         },
         "yaxis": "y",
         "type": "scatter"
        },
        {
         "hovertemplate": "<b>%{hovertext}</b><br><br>color=Oral Session 5A: Graph Neural Networks<br>0=%{x}<br>1=%{y}<extra></extra>",
         "hovertext": [
          "9O2sVnEHor",
          "4bKEFyUHT4",
          "8Fxqn1tZM1"
         ],
         "legendgroup": "Oral Session 5A: Graph Neural Networks",
         "marker": {
          "color": "#6C4516",
          "symbol": "circle"
         },
         "mode": "markers",
         "name": "Oral Session 5A: Graph Neural Networks",
         "orientation": "v",
         "showlegend": true,
         "x": {
          "dtype": "f8",
          "bdata": "+85GfTe+Zr8AAABG4N5jP4p8Vn2GDXi/"
         },
         "xaxis": "x",
         "y": {
          "dtype": "f8",
          "bdata": "o76zQKG7gz8AAADU9FFvP/msG0tjaoA/"
         },
         "yaxis": "y",
         "type": "scatter"
        },
        {
         "hovertemplate": "<b>%{hovertext}</b><br><br>color=Oral Session 6D: Deep Learning Architecture, Infrastructure<br>0=%{x}<br>1=%{y}<extra></extra>",
         "hovertext": [
          "25Ioxw576r",
          "gojL67CfS8",
          "Y8YVCOMEpz"
         ],
         "legendgroup": "Oral Session 6D: Deep Learning Architecture, Infrastructure",
         "marker": {
          "color": "#0D2A63",
          "symbol": "circle"
         },
         "mode": "markers",
         "name": "Oral Session 6D: Deep Learning Architecture, Infrastructure",
         "orientation": "v",
         "showlegend": true,
         "x": {
          "dtype": "f8",
          "bdata": "27ZtS4PkUD+H8hruDq+Ev27btszOx1m/"
         },
         "xaxis": "x",
         "y": {
          "dtype": "f8",
          "bdata": "JUmSWDm0c79eQ3nh9ftyv5IkSanEAoW/"
         },
         "yaxis": "y",
         "type": "scatter"
        },
        {
         "hovertemplate": "<b>%{hovertext}</b><br><br>color=Oral Session 2A: Agents<br>0=%{x}<br>1=%{y}<extra></extra>",
         "hovertext": [
          "iSwK1YqO7v",
          "cLga8GStdk",
          "4S8agvKjle"
         ],
         "legendgroup": "Oral Session 2A: Agents",
         "marker": {
          "color": "#AF0038",
          "symbol": "circle"
         },
         "mode": "markers",
         "name": "Oral Session 2A: Agents",
         "orientation": "v",
         "showlegend": true,
         "x": {
          "dtype": "f8",
          "bdata": "PQrX29FeOj8AAIACRFlSvwAAQJDg2ka/"
         },
         "xaxis": "x",
         "y": {
          "dtype": "f8",
          "bdata": "AAAQ0TZ2lL8AAECagfGWvwAAwKHBz5W/"
         },
         "yaxis": "y",
         "type": "scatter"
        }
       ],
       "layout": {
        "template": {
         "data": {
          "histogram2dcontour": [
           {
            "type": "histogram2dcontour",
            "colorbar": {
             "outlinewidth": 0,
             "ticks": ""
            },
            "colorscale": [
             [
              0.0,
              "#0d0887"
             ],
             [
              0.1111111111111111,
              "#46039f"
             ],
             [
              0.2222222222222222,
              "#7201a8"
             ],
             [
              0.3333333333333333,
              "#9c179e"
             ],
             [
              0.4444444444444444,
              "#bd3786"
             ],
             [
              0.5555555555555556,
              "#d8576b"
             ],
             [
              0.6666666666666666,
              "#ed7953"
             ],
             [
              0.7777777777777778,
              "#fb9f3a"
             ],
             [
              0.8888888888888888,
              "#fdca26"
             ],
             [
              1.0,
              "#f0f921"
             ]
            ]
           }
          ],
          "choropleth": [
           {
            "type": "choropleth",
            "colorbar": {
             "outlinewidth": 0,
             "ticks": ""
            }
           }
          ],
          "histogram2d": [
           {
            "type": "histogram2d",
            "colorbar": {
             "outlinewidth": 0,
             "ticks": ""
            },
            "colorscale": [
             [
              0.0,
              "#0d0887"
             ],
             [
              0.1111111111111111,
              "#46039f"
             ],
             [
              0.2222222222222222,
              "#7201a8"
             ],
             [
              0.3333333333333333,
              "#9c179e"
             ],
             [
              0.4444444444444444,
              "#bd3786"
             ],
             [
              0.5555555555555556,
              "#d8576b"
             ],
             [
              0.6666666666666666,
              "#ed7953"
             ],
             [
              0.7777777777777778,
              "#fb9f3a"
             ],
             [
              0.8888888888888888,
              "#fdca26"
             ],
             [
              1.0,
              "#f0f921"
             ]
            ]
           }
          ],
          "heatmap": [
           {
            "type": "heatmap",
            "colorbar": {
             "outlinewidth": 0,
             "ticks": ""
            },
            "colorscale": [
             [
              0.0,
              "#0d0887"
             ],
             [
              0.1111111111111111,
              "#46039f"
             ],
             [
              0.2222222222222222,
              "#7201a8"
             ],
             [
              0.3333333333333333,
              "#9c179e"
             ],
             [
              0.4444444444444444,
              "#bd3786"
             ],
             [
              0.5555555555555556,
              "#d8576b"
             ],
             [
              0.6666666666666666,
              "#ed7953"
             ],
             [
              0.7777777777777778,
              "#fb9f3a"
             ],
             [
              0.8888888888888888,
              "#fdca26"
             ],
             [
              1.0,
              "#f0f921"
             ]
            ]
           }
          ],
          "contourcarpet": [
           {
            "type": "contourcarpet",
            "colorbar": {
             "outlinewidth": 0,
             "ticks": ""
            }
           }
          ],
          "contour": [
           {
            "type": "contour",
            "colorbar": {
             "outlinewidth": 0,
             "ticks": ""
            },
            "colorscale": [
             [
              0.0,
              "#0d0887"
             ],
             [
              0.1111111111111111,
              "#46039f"
             ],
             [
              0.2222222222222222,
              "#7201a8"
             ],
             [
              0.3333333333333333,
              "#9c179e"
             ],
             [
              0.4444444444444444,
              "#bd3786"
             ],
             [
              0.5555555555555556,
              "#d8576b"
             ],
             [
              0.6666666666666666,
              "#ed7953"
             ],
             [
              0.7777777777777778,
              "#fb9f3a"
             ],
             [
              0.8888888888888888,
              "#fdca26"
             ],
             [
              1.0,
              "#f0f921"
             ]
            ]
           }
          ],
          "surface": [
           {
            "type": "surface",
            "colorbar": {
             "outlinewidth": 0,
             "ticks": ""
            },
            "colorscale": [
             [
              0.0,
              "#0d0887"
             ],
             [
              0.1111111111111111,
              "#46039f"
             ],
             [
              0.2222222222222222,
              "#7201a8"
             ],
             [
              0.3333333333333333,
              "#9c179e"
             ],
             [
              0.4444444444444444,
              "#bd3786"
             ],
             [
              0.5555555555555556,
              "#d8576b"
             ],
             [
              0.6666666666666666,
              "#ed7953"
             ],
             [
              0.7777777777777778,
              "#fb9f3a"
             ],
             [
              0.8888888888888888,
              "#fdca26"
             ],
             [
              1.0,
              "#f0f921"
             ]
            ]
           }
          ],
          "mesh3d": [
           {
            "type": "mesh3d",
            "colorbar": {
             "outlinewidth": 0,
             "ticks": ""
            }
           }
          ],
          "scatter": [
           {
            "marker": {
             "line": {
              "color": "#283442"
             }
            },
            "type": "scatter"
           }
          ],
          "parcoords": [
           {
            "type": "parcoords",
            "line": {
             "colorbar": {
              "outlinewidth": 0,
              "ticks": ""
             }
            }
           }
          ],
          "scatterpolargl": [
           {
            "type": "scatterpolargl",
            "marker": {
             "colorbar": {
              "outlinewidth": 0,
              "ticks": ""
             }
            }
           }
          ],
          "bar": [
           {
            "error_x": {
             "color": "#f2f5fa"
            },
            "error_y": {
             "color": "#f2f5fa"
            },
            "marker": {
             "line": {
              "color": "rgb(17,17,17)",
              "width": 0.5
             },
             "pattern": {
              "fillmode": "overlay",
              "size": 10,
              "solidity": 0.2
             }
            },
            "type": "bar"
           }
          ],
          "scattergeo": [
           {
            "type": "scattergeo",
            "marker": {
             "colorbar": {
              "outlinewidth": 0,
              "ticks": ""
             }
            }
           }
          ],
          "scatterpolar": [
           {
            "type": "scatterpolar",
            "marker": {
             "colorbar": {
              "outlinewidth": 0,
              "ticks": ""
             }
            }
           }
          ],
          "histogram": [
           {
            "marker": {
             "pattern": {
              "fillmode": "overlay",
              "size": 10,
              "solidity": 0.2
             }
            },
            "type": "histogram"
           }
          ],
          "scattergl": [
           {
            "marker": {
             "line": {
              "color": "#283442"
             }
            },
            "type": "scattergl"
           }
          ],
          "scatter3d": [
           {
            "type": "scatter3d",
            "line": {
             "colorbar": {
              "outlinewidth": 0,
              "ticks": ""
             }
            },
            "marker": {
             "colorbar": {
              "outlinewidth": 0,
              "ticks": ""
             }
            }
           }
          ],
          "scattermap": [
           {
            "type": "scattermap",
            "marker": {
             "colorbar": {
              "outlinewidth": 0,
              "ticks": ""
             }
            }
           }
          ],
          "scattermapbox": [
           {
            "type": "scattermapbox",
            "marker": {
             "colorbar": {
              "outlinewidth": 0,
              "ticks": ""
             }
            }
           }
          ],
          "scatterternary": [
           {
            "type": "scatterternary",
            "marker": {
             "colorbar": {
              "outlinewidth": 0,
              "ticks": ""
             }
            }
           }
          ],
          "scattercarpet": [
           {
            "type": "scattercarpet",
            "marker": {
             "colorbar": {
              "outlinewidth": 0,
              "ticks": ""
             }
            }
           }
          ],
          "carpet": [
           {
            "aaxis": {
             "endlinecolor": "#A2B1C6",
             "gridcolor": "#506784",
             "linecolor": "#506784",
             "minorgridcolor": "#506784",
             "startlinecolor": "#A2B1C6"
            },
            "baxis": {
             "endlinecolor": "#A2B1C6",
             "gridcolor": "#506784",
             "linecolor": "#506784",
             "minorgridcolor": "#506784",
             "startlinecolor": "#A2B1C6"
            },
            "type": "carpet"
           }
          ],
          "table": [
           {
            "cells": {
             "fill": {
              "color": "#506784"
             },
             "line": {
              "color": "rgb(17,17,17)"
             }
            },
            "header": {
             "fill": {
              "color": "#2a3f5f"
             },
             "line": {
              "color": "rgb(17,17,17)"
             }
            },
            "type": "table"
           }
          ],
          "barpolar": [
           {
            "marker": {
             "line": {
              "color": "rgb(17,17,17)",
              "width": 0.5
             },
             "pattern": {
              "fillmode": "overlay",
              "size": 10,
              "solidity": 0.2
             }
            },
            "type": "barpolar"
           }
          ],
          "pie": [
           {
            "automargin": true,
            "type": "pie"
           }
          ]
         },
         "layout": {
          "autotypenumbers": "strict",
          "colorway": [
           "#636efa",
           "#EF553B",
           "#00cc96",
           "#ab63fa",
           "#FFA15A",
           "#19d3f3",
           "#FF6692",
           "#B6E880",
           "#FF97FF",
           "#FECB52"
          ],
          "font": {
           "color": "#f2f5fa"
          },
          "hovermode": "closest",
          "hoverlabel": {
           "align": "left"
          },
          "paper_bgcolor": "rgb(17,17,17)",
          "plot_bgcolor": "rgb(17,17,17)",
          "polar": {
           "bgcolor": "rgb(17,17,17)",
           "angularaxis": {
            "gridcolor": "#506784",
            "linecolor": "#506784",
            "ticks": ""
           },
           "radialaxis": {
            "gridcolor": "#506784",
            "linecolor": "#506784",
            "ticks": ""
           }
          },
          "ternary": {
           "bgcolor": "rgb(17,17,17)",
           "aaxis": {
            "gridcolor": "#506784",
            "linecolor": "#506784",
            "ticks": ""
           },
           "baxis": {
            "gridcolor": "#506784",
            "linecolor": "#506784",
            "ticks": ""
           },
           "caxis": {
            "gridcolor": "#506784",
            "linecolor": "#506784",
            "ticks": ""
           }
          },
          "coloraxis": {
           "colorbar": {
            "outlinewidth": 0,
            "ticks": ""
           }
          },
          "colorscale": {
           "sequential": [
            [
             0.0,
             "#0d0887"
            ],
            [
             0.1111111111111111,
             "#46039f"
            ],
            [
             0.2222222222222222,
             "#7201a8"
            ],
            [
             0.3333333333333333,
             "#9c179e"
            ],
            [
             0.4444444444444444,
             "#bd3786"
            ],
            [
             0.5555555555555556,
             "#d8576b"
            ],
            [
             0.6666666666666666,
             "#ed7953"
            ],
            [
             0.7777777777777778,
             "#fb9f3a"
            ],
            [
             0.8888888888888888,
             "#fdca26"
            ],
            [
             1.0,
             "#f0f921"
            ]
           ],
           "sequentialminus": [
            [
             0.0,
             "#0d0887"
            ],
            [
             0.1111111111111111,
             "#46039f"
            ],
            [
             0.2222222222222222,
             "#7201a8"
            ],
            [
             0.3333333333333333,
             "#9c179e"
            ],
            [
             0.4444444444444444,
             "#bd3786"
            ],
            [
             0.5555555555555556,
             "#d8576b"
            ],
            [
             0.6666666666666666,
             "#ed7953"
            ],
            [
             0.7777777777777778,
             "#fb9f3a"
            ],
            [
             0.8888888888888888,
             "#fdca26"
            ],
            [
             1.0,
             "#f0f921"
            ]
           ],
           "diverging": [
            [
             0,
             "#8e0152"
            ],
            [
             0.1,
             "#c51b7d"
            ],
            [
             0.2,
             "#de77ae"
            ],
            [
             0.3,
             "#f1b6da"
            ],
            [
             0.4,
             "#fde0ef"
            ],
            [
             0.5,
             "#f7f7f7"
            ],
            [
             0.6,
             "#e6f5d0"
            ],
            [
             0.7,
             "#b8e186"
            ],
            [
             0.8,
             "#7fbc41"
            ],
            [
             0.9,
             "#4d9221"
            ],
            [
             1,
             "#276419"
            ]
           ]
          },
          "xaxis": {
           "gridcolor": "#283442",
           "linecolor": "#506784",
           "ticks": "",
           "title": {
            "standoff": 15
           },
           "zerolinecolor": "#283442",
           "automargin": true,
           "zerolinewidth": 2
          },
          "yaxis": {
           "gridcolor": "#283442",
           "linecolor": "#506784",
           "ticks": "",
           "title": {
            "standoff": 15
           },
           "zerolinecolor": "#283442",
           "automargin": true,
           "zerolinewidth": 2
          },
          "scene": {
           "xaxis": {
            "backgroundcolor": "rgb(17,17,17)",
            "gridcolor": "#506784",
            "linecolor": "#506784",
            "showbackground": true,
            "ticks": "",
            "zerolinecolor": "#C8D4E3",
            "gridwidth": 2
           },
           "yaxis": {
            "backgroundcolor": "rgb(17,17,17)",
            "gridcolor": "#506784",
            "linecolor": "#506784",
            "showbackground": true,
            "ticks": "",
            "zerolinecolor": "#C8D4E3",
            "gridwidth": 2
           },
           "zaxis": {
            "backgroundcolor": "rgb(17,17,17)",
            "gridcolor": "#506784",
            "linecolor": "#506784",
            "showbackground": true,
            "ticks": "",
            "zerolinecolor": "#C8D4E3",
            "gridwidth": 2
           }
          },
          "shapedefaults": {
           "line": {
            "color": "#f2f5fa"
           }
          },
          "annotationdefaults": {
           "arrowcolor": "#f2f5fa",
           "arrowhead": 0,
           "arrowwidth": 1
          },
          "geo": {
           "bgcolor": "rgb(17,17,17)",
           "landcolor": "rgb(17,17,17)",
           "subunitcolor": "#506784",
           "showland": true,
           "showlakes": true,
           "lakecolor": "rgb(17,17,17)"
          },
          "title": {
           "x": 0.05
          },
          "updatemenudefaults": {
           "bgcolor": "#506784",
           "borderwidth": 0
          },
          "sliderdefaults": {
           "bgcolor": "#C8D4E3",
           "borderwidth": 1,
           "bordercolor": "rgb(17,17,17)",
           "tickwidth": 0
          },
          "mapbox": {
           "style": "dark"
          }
         }
        },
        "xaxis": {
         "anchor": "y",
         "domain": [
          0.0,
          1.0
         ],
         "title": {
          "text": "0"
         }
        },
        "yaxis": {
         "anchor": "x",
         "domain": [
          0.0,
          1.0
         ],
         "title": {
          "text": "1"
         }
        },
        "legend": {
         "title": {
          "text": "color"
         },
         "tracegroupgap": 0
        },
        "title": {
         "text": "GreedyCohesive Clustering PCA"
        }
       },
       "config": {
        "plotlyServerURL": "https://plot.ly"
       }
      }
     },
     "metadata": {},
     "output_type": "display_data"
    },
    {
     "data": {
      "application/vnd.plotly.v1+json": {
       "data": [
        {
         "hovertemplate": "<b>%{hovertext}</b><br><br>color=Oral Session 1A: Neuroscience and Intepretability<br>0=%{x}<br>1=%{y}<extra></extra>",
         "hovertext": [
          "aVh9KRZdRk"
         ],
         "legendgroup": "Oral Session 1A: Neuroscience and Intepretability",
         "marker": {
          "color": "#2E91E5",
          "symbol": "circle"
         },
         "mode": "markers",
         "name": "Oral Session 1A: Neuroscience and Intepretability",
         "orientation": "v",
         "showlegend": true,
         "x": {
          "dtype": "f8",
          "bdata": "sj60q+2Kmj8="
         },
         "xaxis": "x",
         "y": {
          "dtype": "f8",
          "bdata": "jfVhT/DBer8="
         },
         "yaxis": "y",
         "type": "scatter"
        },
        {
         "hovertemplate": "<b>%{hovertext}</b><br><br>color=Oral Session 1D: Learning Theory<br>0=%{x}<br>1=%{y}<extra></extra>",
         "hovertext": [
          "m1a4CrRJR7",
          "wpGJ2AX6SZ",
          "aIPwlkdOut",
          "rtz4df9IF1",
          "4rCZeCZAON"
         ],
         "legendgroup": "Oral Session 1D: Learning Theory",
         "marker": {
          "color": "#E15F99",
          "symbol": "circle"
         },
         "mode": "markers",
         "name": "Oral Session 1D: Learning Theory",
         "orientation": "v",
         "showlegend": true,
         "x": {
          "dtype": "f8",
          "bdata": "vYbyaqfoQD+JiIgHDxl5P+GDD4af05E/9DzPM4CMWb/RRRdZPi19vw=="
         },
         "xaxis": "x",
         "y": {
          "dtype": "f8",
          "bdata": "r6G8At9thD8zMzOBYIiKv3zwwT+SPY2/27ZtXzPOkr8vumhzlf90vw=="
         },
         "yaxis": "y",
         "type": "scatter"
        },
        {
         "hovertemplate": "<b>%{hovertext}</b><br><br>color=Oral Session 1C: Optimization and Learning Theory<br>0=%{x}<br>1=%{y}<extra></extra>",
         "hovertext": [
          "0XeNkkENuI",
          "y10avdRFNK",
          "J2wI2rCG2u"
         ],
         "legendgroup": "Oral Session 1C: Optimization and Learning Theory",
         "marker": {
          "color": "#1CA71C",
          "symbol": "circle"
         },
         "mode": "markers",
         "name": "Oral Session 1C: Optimization and Learning Theory",
         "orientation": "v",
         "showlegend": true,
         "x": {
          "dtype": "f8",
          "bdata": "AAAAyG4If7+KndjPZjByPwnLffpeVng/"
         },
         "xaxis": "x",
         "y": {
          "dtype": "f8",
          "bdata": "uuiiK1WcgL/ZiZ2cnCiXv42w3O1oaJW/"
         },
         "yaxis": "y",
         "type": "scatter"
        },
        {
         "hovertemplate": "<b>%{hovertext}</b><br><br>color=Oral Session 3D: Natural Language Processing<br>0=%{x}<br>1=%{y}<extra></extra>",
         "hovertext": [
          "UdxpjKO2F9",
          "clTa4JFBML",
          "tQukGCDaNT",
          "bg6fVPVs3s",
          "V0oJaLqY4E"
         ],
         "legendgroup": "Oral Session 3D: Natural Language Processing",
         "marker": {
          "color": "#FB0D0D",
          "symbol": "circle"
         },
         "mode": "markers",
         "name": "Oral Session 3D: Natural Language Processing",
         "orientation": "v",
         "showlegend": true,
         "x": {
          "dtype": "f8",
          "bdata": "L7ro4izkgz+rqqrS4Ux/P6alJeNPMHc/iYiIWGSbaz/kOI7z8W9svw=="
         },
         "xaxis": "x",
         "y": {
          "dtype": "f8",
          "bdata": "F110EQDVmL8AAAD4ndaTv3h4eIB0m5C/AAAA8LE7ib9VVVUmbfhkvw=="
         },
         "yaxis": "y",
         "type": "scatter"
        },
        {
         "hovertemplate": "<b>%{hovertext}</b><br><br>color=Oral Session 2A: Agents<br>0=%{x}<br>1=%{y}<extra></extra>",
         "hovertext": [
          "LEzx6QRkRH",
          "iSwK1YqO7v",
          "Ddak3nSqQM",
          "cLga8GStdk",
          "4S8agvKjle"
         ],
         "legendgroup": "Oral Session 2A: Agents",
         "marker": {
          "color": "#DA16FF",
          "symbol": "circle"
         },
         "mode": "markers",
         "name": "Oral Session 2A: Agents",
         "orientation": "v",
         "showlegend": true,
         "x": {
          "dtype": "f8",
          "bdata": "8fDwkMHUkT89Ctfb0V46PxKWe/pFhpc/AACAAkRZUr8AAECQ4NpGvw=="
         },
         "xaxis": "x",
         "y": {
          "dtype": "f8",
          "bdata": "8fDwMJavnL8AABDRNnaUv42w3D/AEZi/AABAmoHxlr8AAMChwc+Vvw=="
         },
         "yaxis": "y",
         "type": "scatter"
        },
        {
         "hovertemplate": "<b>%{hovertext}</b><br><br>color=Oral Session 2B: Reinforcement Learning<br>0=%{x}<br>1=%{y}<extra></extra>",
         "hovertext": [
          "pGEY8JQ3qx",
          "6YIpvnkjUK",
          "eWUM5hRYgH",
          "ge8GZn8Gtu",
          "qf2uZAdy1N"
         ],
         "legendgroup": "Oral Session 2B: Reinforcement Learning",
         "marker": {
          "color": "#222A2A",
          "symbol": "circle"
         },
         "mode": "markers",
         "name": "Oral Session 2B: Reinforcement Learning",
         "orientation": "v",
         "showlegend": true,
         "x": {
          "dtype": "f8",
          "bdata": "sj60GFokkD9VVVUVGCdNPwAAANOKQmQ/WchCRiVklz/EHWGU0QdwPw=="
         },
         "xaxis": "x",
         "y": {
          "dtype": "f8",
          "bdata": "FbycbP8yiL8AABa23fCRvwAAYNnxJ5a/pze9CcTWnb8AAABM79WTvw=="
         },
         "yaxis": "y",
         "type": "scatter"
        },
        {
         "hovertemplate": "<b>%{hovertext}</b><br><br>color=Oral Session 3B: Natural Language Processing<br>0=%{x}<br>1=%{y}<extra></extra>",
         "hovertext": [
          "0NMzBwqaAJ",
          "cFqAANINgW",
          "NPKZF1WDjZ",
          "pC44UMwy2v",
          "uNKlTQ8mBD",
          "Mbd3QxXjq5"
         ],
         "legendgroup": "Oral Session 3B: Natural Language Processing",
         "marker": {
          "color": "#B68100",
          "symbol": "circle"
         },
         "mode": "markers",
         "name": "Oral Session 3B: Natural Language Processing",
         "orientation": "v",
         "showlegend": true,
         "x": {
          "dtype": "f8",
          "bdata": "H3zwx9cRbT+amZnzGdtoPzMzM8cSq1a/dNFFNSQmkD9JkiRtn22OP4ZhGKojT34/"
         },
         "xaxis": "x",
         "y": {
          "dtype": "f8",
          "bdata": "4YMPDp+jlL8svuKR1UiHv83MjHdKh4y/uuiim2mMor/btm3bmBsiP4ZhGA5xMZC/"
         },
         "yaxis": "y",
         "type": "scatter"
        },
        {
         "hovertemplate": "<b>%{hovertext}</b><br><br>color=Oral Session 6B: Safety, New Data<br>0=%{x}<br>1=%{y}<extra></extra>",
         "hovertext": [
          "bCMpdaQCNW",
          "kq166jACVP",
          "zogaeVpbaE",
          "3Odq2tGSpp",
          "135eKqDoRR",
          "Vi8AepAXGy",
          "E18kRXTGmV"
         ],
         "legendgroup": "Oral Session 6B: Safety, New Data",
         "marker": {
          "color": "#750D86",
          "symbol": "circle"
         },
         "mode": "markers",
         "name": "Oral Session 6B: Safety, New Data",
         "orientation": "v",
         "showlegend": true,
         "x": {
          "dtype": "f8",
          "bdata": "27Ztl8pUjT9u27ZNE8levyVJMl1CwXS/5DiOKxkIdj/T0tITxz9xv64gJtnWyJE/AAAAEEHpaD8="
         },
         "xaxis": "x",
         "y": {
          "dtype": "f8",
          "bdata": "kiRJ4ngfmb8AAADOFriYv9u2bdPfDYi/x3EcESyjkb+Ih4d9oSx5v11BTHyMAJC/AADgZYCGhr8="
         },
         "yaxis": "y",
         "type": "scatter"
        },
        {
         "hovertemplate": "<b>%{hovertext}</b><br><br>color=Oral Session 3C: Natural Language Processing<br>0=%{x}<br>1=%{y}<extra></extra>",
         "hovertext": [
          "YvA8UF0I37",
          "mp8u2Pcmqz"
         ],
         "legendgroup": "Oral Session 3C: Natural Language Processing",
         "marker": {
          "color": "#EB663B",
          "symbol": "circle"
         },
         "mode": "markers",
         "name": "Oral Session 3C: Natural Language Processing",
         "orientation": "v",
         "showlegend": true,
         "x": {
          "dtype": "f8",
          "bdata": "onYlbmOvY78AAMHKRi+APw=="
         },
         "xaxis": "x",
         "y": {
          "dtype": "f8",
          "bdata": "onYlfiUEXz8AAMBXiaCHvw=="
         },
         "yaxis": "y",
         "type": "scatter"
        },
        {
         "hovertemplate": "<b>%{hovertext}</b><br><br>color=Oral Session 4D: Machine Vision<br>0=%{x}<br>1=%{y}<extra></extra>",
         "hovertext": [
          "TFZlFRl9Ks",
          "QDYts5dYgq",
          "SSCtCq2MH2",
          "r5spnrY6H3",
          "5zSCSE0k41",
          "x7pjdDod6Z",
          "8qu52Fl1Dt"
         ],
         "legendgroup": "Oral Session 4D: Machine Vision",
         "marker": {
          "color": "#511CFB",
          "symbol": "circle"
         },
         "mode": "markers",
         "name": "Oral Session 4D: Machine Vision",
         "orientation": "v",
         "showlegend": true,
         "x": {
          "dtype": "f8",
          "bdata": "iYiIp1n2dz8lSZLMnn+Hv83MzGRMHIk/chxnWozugz/FTrwk+cd2P/Hw8FL3nGE/AACA+tCikz8="
         },
         "xaxis": "x",
         "y": {
          "dtype": "f8",
          "bdata": "mpmZma5VIb8AAADw+ndxvzMzMy9tKlW/OY5jKxaRgz8UO7EzrKBbP2lpaVUBiX0/AAAA4C4dOj8="
         },
         "yaxis": "y",
         "type": "scatter"
        },
        {
         "hovertemplate": "<b>%{hovertext}</b><br><br>color=Oral Session 4C: Diffusion-based Models, Mathematics<br>0=%{x}<br>1=%{y}<extra></extra>",
         "hovertext": [
          "OycU0bAus6",
          "tnh4LK72yj",
          "Pezt0xttae",
          "47loYmzxep"
         ],
         "legendgroup": "Oral Session 4C: Diffusion-based Models, Mathematics",
         "marker": {
          "color": "#00A08B",
          "symbol": "circle"
         },
         "mode": "markers",
         "name": "Oral Session 4C: Diffusion-based Models, Mathematics",
         "orientation": "v",
         "showlegend": true,
         "x": {
          "dtype": "f8",
          "bdata": "IiIiGvj+gz8AAABBc7V8P9u2bcGM9ZG/VVVVxeHVdL8="
         },
         "xaxis": "x",
         "y": {
          "dtype": "f8",
          "bdata": "vLu7O2zJWb8AAIDp6V+Mv5IkSfp6zZO/3t3dW2RgcD8="
         },
         "yaxis": "y",
         "type": "scatter"
        },
        {
         "hovertemplate": "<b>%{hovertext}</b><br><br>color=Oral Session 3A: Generative Models<br>0=%{x}<br>1=%{y}<extra></extra>",
         "hovertext": [
          "R8SolCx62K",
          "C4NbtYnyQg",
          "8Fxqn1tZM1"
         ],
         "legendgroup": "Oral Session 3A: Generative Models",
         "marker": {
          "color": "#FB00D1",
          "symbol": "circle"
         },
         "mode": "markers",
         "name": "Oral Session 3A: Generative Models",
         "orientation": "v",
         "showlegend": true,
         "x": {
          "dtype": "f8",
          "bdata": "AAAAmwP6eT+xEzvxLehKv4p8Vn2GDXi/"
         },
         "xaxis": "x",
         "y": {
          "dtype": "f8",
          "bdata": "AACAY85Ke792YicNiKaIv/msG0tjaoA/"
         },
         "yaxis": "y",
         "type": "scatter"
        },
        {
         "hovertemplate": "<b>%{hovertext}</b><br><br>color=Oral Session 5D: Machine Learning and Science<br>0=%{x}<br>1=%{y}<extra></extra>",
         "hovertext": [
          "HRkniCWM3E"
         ],
         "legendgroup": "Oral Session 5D: Machine Learning and Science",
         "marker": {
          "color": "#FC0080",
          "symbol": "circle"
         },
         "mode": "markers",
         "name": "Oral Session 5D: Machine Learning and Science",
         "orientation": "v",
         "showlegend": true,
         "x": {
          "dtype": "f8",
          "bdata": "Tm96UyoxoL8="
         },
         "xaxis": "x",
         "y": {
          "dtype": "f8",
          "bdata": "C1nIMtkkh78="
         },
         "yaxis": "y",
         "type": "scatter"
        },
        {
         "hovertemplate": "<b>%{hovertext}</b><br><br>color=Oral Session 4B: Diffusion-based Models<br>0=%{x}<br>1=%{y}<extra></extra>",
         "hovertext": [
          "REIK4SZMJt"
         ],
         "legendgroup": "Oral Session 4B: Diffusion-based Models",
         "marker": {
          "color": "#B2828D",
          "symbol": "circle"
         },
         "mode": "markers",
         "name": "Oral Session 4B: Diffusion-based Models",
         "orientation": "v",
         "showlegend": true,
         "x": {
          "dtype": "f8",
          "bdata": "DMMwaDVCkz8="
         },
         "xaxis": "x",
         "y": {
          "dtype": "f8",
          "bdata": "9DzPB2adjr8="
         },
         "yaxis": "y",
         "type": "scatter"
        },
        {
         "hovertemplate": "<b>%{hovertext}</b><br><br>color=Oral Session 1B: Human-AI Interaction<br>0=%{x}<br>1=%{y}<extra></extra>",
         "hovertext": [
          "4NJBV6Wp0h",
          "Oo7dlLgqQX",
          "DFr5hteojx",
          "cu8FfaYriU"
         ],
         "legendgroup": "Oral Session 1B: Human-AI Interaction",
         "marker": {
          "color": "#6C7C32",
          "symbol": "circle"
         },
         "mode": "markers",
         "name": "Oral Session 1B: Human-AI Interaction",
         "orientation": "v",
         "showlegend": true,
         "x": {
          "dtype": "f8",
          "bdata": "OY5jZzwTgj8zMzM+ImaHPwnEZY+zxX4/XXTRlcYuT78="
         },
         "xaxis": "x",
         "y": {
          "dtype": "f8",
          "bdata": "chzHteaTk7/NzMzcWZagv2jd4B5F8ZO/AAAAOEBzib8="
         },
         "yaxis": "y",
         "type": "scatter"
        },
        {
         "hovertemplate": "<b>%{hovertext}</b><br><br>color=Oral Session 5A: Graph Neural Networks<br>0=%{x}<br>1=%{y}<extra></extra>",
         "hovertext": [
          "9O2sVnEHor"
         ],
         "legendgroup": "Oral Session 5A: Graph Neural Networks",
         "marker": {
          "color": "#778AAE",
          "symbol": "circle"
         },
         "mode": "markers",
         "name": "Oral Session 5A: Graph Neural Networks",
         "orientation": "v",
         "showlegend": true,
         "x": {
          "dtype": "f8",
          "bdata": "+85GfTe+Zr8="
         },
         "xaxis": "x",
         "y": {
          "dtype": "f8",
          "bdata": "o76zQKG7gz8="
         },
         "yaxis": "y",
         "type": "scatter"
        },
        {
         "hovertemplate": "<b>%{hovertext}</b><br><br>color=Oral Session 5C: Machine Vision<br>0=%{x}<br>1=%{y}<extra></extra>",
         "hovertext": [
          "4bKEFyUHT4"
         ],
         "legendgroup": "Oral Session 5C: Machine Vision",
         "marker": {
          "color": "#862A16",
          "symbol": "circle"
         },
         "mode": "markers",
         "name": "Oral Session 5C: Machine Vision",
         "orientation": "v",
         "showlegend": true,
         "x": {
          "dtype": "f8",
          "bdata": "AAAARuDeYz8="
         },
         "xaxis": "x",
         "y": {
          "dtype": "f8",
          "bdata": "AAAA1PRRbz8="
         },
         "yaxis": "y",
         "type": "scatter"
        },
        {
         "hovertemplate": "<b>%{hovertext}</b><br><br>color=Oral Session 2D: Generative Models<br>0=%{x}<br>1=%{y}<extra></extra>",
         "hovertext": [
          "EKdk4vxKO4",
          "VXohja0vrQ"
         ],
         "legendgroup": "Oral Session 2D: Generative Models",
         "marker": {
          "color": "#A777F1",
          "symbol": "circle"
         },
         "mode": "markers",
         "name": "Oral Session 2D: Generative Models",
         "orientation": "v",
         "showlegend": true,
         "x": {
          "dtype": "f8",
          "bdata": "sskmqxP3hT8AAACm07SIPw=="
         },
         "xaxis": "x",
         "y": {
          "dtype": "f8",
          "bdata": "RhddNORFi78AAKA6WuOJvw=="
         },
         "yaxis": "y",
         "type": "scatter"
        },
        {
         "hovertemplate": "<b>%{hovertext}</b><br><br>color=Oral Session 6D: Deep Learning Architecture, Infrastructure<br>0=%{x}<br>1=%{y}<extra></extra>",
         "hovertext": [
          "25Ioxw576r",
          "gojL67CfS8",
          "qEpi8uWX3N",
          "Y8YVCOMEpz"
         ],
         "legendgroup": "Oral Session 6D: Deep Learning Architecture, Infrastructure",
         "marker": {
          "color": "#620042",
          "symbol": "circle"
         },
         "mode": "markers",
         "name": "Oral Session 6D: Deep Learning Architecture, Infrastructure",
         "orientation": "v",
         "showlegend": true,
         "x": {
          "dtype": "f8",
          "bdata": "27ZtS4PkUD+H8hruDq+EvyVJkoiP5IG/btu2zM7HWb8="
         },
         "xaxis": "x",
         "y": {
          "dtype": "f8",
          "bdata": "JUmSWDm0c79eQ3nh9ftyv7dt28pcYpS/kiRJqcQChb8="
         },
         "yaxis": "y",
         "type": "scatter"
        },
        {
         "hovertemplate": "<b>%{hovertext}</b><br><br>color=Oral Session 2C: Reinforcement Learning<br>0=%{x}<br>1=%{y}<extra></extra>",
         "hovertext": [
          "mSaqxZVZW8"
         ],
         "legendgroup": "Oral Session 2C: Reinforcement Learning",
         "marker": {
          "color": "#1616A7",
          "symbol": "circle"
         },
         "mode": "markers",
         "name": "Oral Session 2C: Reinforcement Learning",
         "orientation": "v",
         "showlegend": true,
         "x": {
          "dtype": "f8",
          "bdata": "FDuxI+eEbD8="
         },
         "xaxis": "x",
         "y": {
          "dtype": "f8",
          "bdata": "xU4oFp9Qe78="
         },
         "yaxis": "y",
         "type": "scatter"
        },
        {
         "hovertemplate": "<b>%{hovertext}</b><br><br>color=Oral Session 5B: Graph Neural Networks, Causal Inference<br>0=%{x}<br>1=%{y}<extra></extra>",
         "hovertext": [
          "S2P6KPLtm8"
         ],
         "legendgroup": "Oral Session 5B: Graph Neural Networks, Causal Inference",
         "marker": {
          "color": "#DA60CA",
          "symbol": "circle"
         },
         "mode": "markers",
         "name": "Oral Session 5B: Graph Neural Networks, Causal Inference",
         "orientation": "v",
         "showlegend": true,
         "x": {
          "dtype": "f8",
          "bdata": "nXPODftMfj8="
         },
         "xaxis": "x",
         "y": {
          "dtype": "f8",
          "bdata": "pZRSSko+Vj8="
         },
         "yaxis": "y",
         "type": "scatter"
        },
        {
         "hovertemplate": "<b>%{hovertext}</b><br><br>color=Oral Session 6A: Machine Learning and Science, Safety<br>0=%{x}<br>1=%{y}<extra></extra>",
         "hovertext": [
          "cfrDLD1wfO"
         ],
         "legendgroup": "Oral Session 6A: Machine Learning and Science, Safety",
         "marker": {
          "color": "#6C4516",
          "symbol": "circle"
         },
         "mode": "markers",
         "name": "Oral Session 6A: Machine Learning and Science, Safety",
         "orientation": "v",
         "showlegend": true,
         "x": {
          "dtype": "f8",
          "bdata": "SZIk/bqyeb8="
         },
         "xaxis": "x",
         "y": {
          "dtype": "f8",
          "bdata": "t23bxgLtj78="
         },
         "yaxis": "y",
         "type": "scatter"
        },
        {
         "hovertemplate": "<b>%{hovertext}</b><br><br>color=Oral Session 4A: Natural Language Processing<br>0=%{x}<br>1=%{y}<extra></extra>",
         "hovertext": [
          "KZlJF8kguO"
         ],
         "legendgroup": "Oral Session 4A: Natural Language Processing",
         "marker": {
          "color": "#0D2A63",
          "symbol": "circle"
         },
         "mode": "markers",
         "name": "Oral Session 4A: Natural Language Processing",
         "orientation": "v",
         "showlegend": true,
         "x": {
          "dtype": "f8",
          "bdata": "AAAAoM+DkD8="
         },
         "xaxis": "x",
         "y": {
          "dtype": "f8",
          "bdata": "AADgi9ONij8="
         },
         "yaxis": "y",
         "type": "scatter"
        },
        {
         "hovertemplate": "<b>%{hovertext}</b><br><br>color=Oral Session 6C: New Data<br>0=%{x}<br>1=%{y}<extra></extra>",
         "hovertext": [
          "s1K5Z5QPog"
         ],
         "legendgroup": "Oral Session 6C: New Data",
         "marker": {
          "color": "#AF0038",
          "symbol": "circle"
         },
         "mode": "markers",
         "name": "Oral Session 6C: New Data",
         "orientation": "v",
         "showlegend": true,
         "x": {
          "dtype": "f8",
          "bdata": "IiIiyWhkcj8="
         },
         "xaxis": "x",
         "y": {
          "dtype": "f8",
          "bdata": "IiKiu+9yir8="
         },
         "yaxis": "y",
         "type": "scatter"
        }
       ],
       "layout": {
        "template": {
         "data": {
          "histogram2dcontour": [
           {
            "type": "histogram2dcontour",
            "colorbar": {
             "outlinewidth": 0,
             "ticks": ""
            },
            "colorscale": [
             [
              0.0,
              "#0d0887"
             ],
             [
              0.1111111111111111,
              "#46039f"
             ],
             [
              0.2222222222222222,
              "#7201a8"
             ],
             [
              0.3333333333333333,
              "#9c179e"
             ],
             [
              0.4444444444444444,
              "#bd3786"
             ],
             [
              0.5555555555555556,
              "#d8576b"
             ],
             [
              0.6666666666666666,
              "#ed7953"
             ],
             [
              0.7777777777777778,
              "#fb9f3a"
             ],
             [
              0.8888888888888888,
              "#fdca26"
             ],
             [
              1.0,
              "#f0f921"
             ]
            ]
           }
          ],
          "choropleth": [
           {
            "type": "choropleth",
            "colorbar": {
             "outlinewidth": 0,
             "ticks": ""
            }
           }
          ],
          "histogram2d": [
           {
            "type": "histogram2d",
            "colorbar": {
             "outlinewidth": 0,
             "ticks": ""
            },
            "colorscale": [
             [
              0.0,
              "#0d0887"
             ],
             [
              0.1111111111111111,
              "#46039f"
             ],
             [
              0.2222222222222222,
              "#7201a8"
             ],
             [
              0.3333333333333333,
              "#9c179e"
             ],
             [
              0.4444444444444444,
              "#bd3786"
             ],
             [
              0.5555555555555556,
              "#d8576b"
             ],
             [
              0.6666666666666666,
              "#ed7953"
             ],
             [
              0.7777777777777778,
              "#fb9f3a"
             ],
             [
              0.8888888888888888,
              "#fdca26"
             ],
             [
              1.0,
              "#f0f921"
             ]
            ]
           }
          ],
          "heatmap": [
           {
            "type": "heatmap",
            "colorbar": {
             "outlinewidth": 0,
             "ticks": ""
            },
            "colorscale": [
             [
              0.0,
              "#0d0887"
             ],
             [
              0.1111111111111111,
              "#46039f"
             ],
             [
              0.2222222222222222,
              "#7201a8"
             ],
             [
              0.3333333333333333,
              "#9c179e"
             ],
             [
              0.4444444444444444,
              "#bd3786"
             ],
             [
              0.5555555555555556,
              "#d8576b"
             ],
             [
              0.6666666666666666,
              "#ed7953"
             ],
             [
              0.7777777777777778,
              "#fb9f3a"
             ],
             [
              0.8888888888888888,
              "#fdca26"
             ],
             [
              1.0,
              "#f0f921"
             ]
            ]
           }
          ],
          "contourcarpet": [
           {
            "type": "contourcarpet",
            "colorbar": {
             "outlinewidth": 0,
             "ticks": ""
            }
           }
          ],
          "contour": [
           {
            "type": "contour",
            "colorbar": {
             "outlinewidth": 0,
             "ticks": ""
            },
            "colorscale": [
             [
              0.0,
              "#0d0887"
             ],
             [
              0.1111111111111111,
              "#46039f"
             ],
             [
              0.2222222222222222,
              "#7201a8"
             ],
             [
              0.3333333333333333,
              "#9c179e"
             ],
             [
              0.4444444444444444,
              "#bd3786"
             ],
             [
              0.5555555555555556,
              "#d8576b"
             ],
             [
              0.6666666666666666,
              "#ed7953"
             ],
             [
              0.7777777777777778,
              "#fb9f3a"
             ],
             [
              0.8888888888888888,
              "#fdca26"
             ],
             [
              1.0,
              "#f0f921"
             ]
            ]
           }
          ],
          "surface": [
           {
            "type": "surface",
            "colorbar": {
             "outlinewidth": 0,
             "ticks": ""
            },
            "colorscale": [
             [
              0.0,
              "#0d0887"
             ],
             [
              0.1111111111111111,
              "#46039f"
             ],
             [
              0.2222222222222222,
              "#7201a8"
             ],
             [
              0.3333333333333333,
              "#9c179e"
             ],
             [
              0.4444444444444444,
              "#bd3786"
             ],
             [
              0.5555555555555556,
              "#d8576b"
             ],
             [
              0.6666666666666666,
              "#ed7953"
             ],
             [
              0.7777777777777778,
              "#fb9f3a"
             ],
             [
              0.8888888888888888,
              "#fdca26"
             ],
             [
              1.0,
              "#f0f921"
             ]
            ]
           }
          ],
          "mesh3d": [
           {
            "type": "mesh3d",
            "colorbar": {
             "outlinewidth": 0,
             "ticks": ""
            }
           }
          ],
          "scatter": [
           {
            "marker": {
             "line": {
              "color": "#283442"
             }
            },
            "type": "scatter"
           }
          ],
          "parcoords": [
           {
            "type": "parcoords",
            "line": {
             "colorbar": {
              "outlinewidth": 0,
              "ticks": ""
             }
            }
           }
          ],
          "scatterpolargl": [
           {
            "type": "scatterpolargl",
            "marker": {
             "colorbar": {
              "outlinewidth": 0,
              "ticks": ""
             }
            }
           }
          ],
          "bar": [
           {
            "error_x": {
             "color": "#f2f5fa"
            },
            "error_y": {
             "color": "#f2f5fa"
            },
            "marker": {
             "line": {
              "color": "rgb(17,17,17)",
              "width": 0.5
             },
             "pattern": {
              "fillmode": "overlay",
              "size": 10,
              "solidity": 0.2
             }
            },
            "type": "bar"
           }
          ],
          "scattergeo": [
           {
            "type": "scattergeo",
            "marker": {
             "colorbar": {
              "outlinewidth": 0,
              "ticks": ""
             }
            }
           }
          ],
          "scatterpolar": [
           {
            "type": "scatterpolar",
            "marker": {
             "colorbar": {
              "outlinewidth": 0,
              "ticks": ""
             }
            }
           }
          ],
          "histogram": [
           {
            "marker": {
             "pattern": {
              "fillmode": "overlay",
              "size": 10,
              "solidity": 0.2
             }
            },
            "type": "histogram"
           }
          ],
          "scattergl": [
           {
            "marker": {
             "line": {
              "color": "#283442"
             }
            },
            "type": "scattergl"
           }
          ],
          "scatter3d": [
           {
            "type": "scatter3d",
            "line": {
             "colorbar": {
              "outlinewidth": 0,
              "ticks": ""
             }
            },
            "marker": {
             "colorbar": {
              "outlinewidth": 0,
              "ticks": ""
             }
            }
           }
          ],
          "scattermap": [
           {
            "type": "scattermap",
            "marker": {
             "colorbar": {
              "outlinewidth": 0,
              "ticks": ""
             }
            }
           }
          ],
          "scattermapbox": [
           {
            "type": "scattermapbox",
            "marker": {
             "colorbar": {
              "outlinewidth": 0,
              "ticks": ""
             }
            }
           }
          ],
          "scatterternary": [
           {
            "type": "scatterternary",
            "marker": {
             "colorbar": {
              "outlinewidth": 0,
              "ticks": ""
             }
            }
           }
          ],
          "scattercarpet": [
           {
            "type": "scattercarpet",
            "marker": {
             "colorbar": {
              "outlinewidth": 0,
              "ticks": ""
             }
            }
           }
          ],
          "carpet": [
           {
            "aaxis": {
             "endlinecolor": "#A2B1C6",
             "gridcolor": "#506784",
             "linecolor": "#506784",
             "minorgridcolor": "#506784",
             "startlinecolor": "#A2B1C6"
            },
            "baxis": {
             "endlinecolor": "#A2B1C6",
             "gridcolor": "#506784",
             "linecolor": "#506784",
             "minorgridcolor": "#506784",
             "startlinecolor": "#A2B1C6"
            },
            "type": "carpet"
           }
          ],
          "table": [
           {
            "cells": {
             "fill": {
              "color": "#506784"
             },
             "line": {
              "color": "rgb(17,17,17)"
             }
            },
            "header": {
             "fill": {
              "color": "#2a3f5f"
             },
             "line": {
              "color": "rgb(17,17,17)"
             }
            },
            "type": "table"
           }
          ],
          "barpolar": [
           {
            "marker": {
             "line": {
              "color": "rgb(17,17,17)",
              "width": 0.5
             },
             "pattern": {
              "fillmode": "overlay",
              "size": 10,
              "solidity": 0.2
             }
            },
            "type": "barpolar"
           }
          ],
          "pie": [
           {
            "automargin": true,
            "type": "pie"
           }
          ]
         },
         "layout": {
          "autotypenumbers": "strict",
          "colorway": [
           "#636efa",
           "#EF553B",
           "#00cc96",
           "#ab63fa",
           "#FFA15A",
           "#19d3f3",
           "#FF6692",
           "#B6E880",
           "#FF97FF",
           "#FECB52"
          ],
          "font": {
           "color": "#f2f5fa"
          },
          "hovermode": "closest",
          "hoverlabel": {
           "align": "left"
          },
          "paper_bgcolor": "rgb(17,17,17)",
          "plot_bgcolor": "rgb(17,17,17)",
          "polar": {
           "bgcolor": "rgb(17,17,17)",
           "angularaxis": {
            "gridcolor": "#506784",
            "linecolor": "#506784",
            "ticks": ""
           },
           "radialaxis": {
            "gridcolor": "#506784",
            "linecolor": "#506784",
            "ticks": ""
           }
          },
          "ternary": {
           "bgcolor": "rgb(17,17,17)",
           "aaxis": {
            "gridcolor": "#506784",
            "linecolor": "#506784",
            "ticks": ""
           },
           "baxis": {
            "gridcolor": "#506784",
            "linecolor": "#506784",
            "ticks": ""
           },
           "caxis": {
            "gridcolor": "#506784",
            "linecolor": "#506784",
            "ticks": ""
           }
          },
          "coloraxis": {
           "colorbar": {
            "outlinewidth": 0,
            "ticks": ""
           }
          },
          "colorscale": {
           "sequential": [
            [
             0.0,
             "#0d0887"
            ],
            [
             0.1111111111111111,
             "#46039f"
            ],
            [
             0.2222222222222222,
             "#7201a8"
            ],
            [
             0.3333333333333333,
             "#9c179e"
            ],
            [
             0.4444444444444444,
             "#bd3786"
            ],
            [
             0.5555555555555556,
             "#d8576b"
            ],
            [
             0.6666666666666666,
             "#ed7953"
            ],
            [
             0.7777777777777778,
             "#fb9f3a"
            ],
            [
             0.8888888888888888,
             "#fdca26"
            ],
            [
             1.0,
             "#f0f921"
            ]
           ],
           "sequentialminus": [
            [
             0.0,
             "#0d0887"
            ],
            [
             0.1111111111111111,
             "#46039f"
            ],
            [
             0.2222222222222222,
             "#7201a8"
            ],
            [
             0.3333333333333333,
             "#9c179e"
            ],
            [
             0.4444444444444444,
             "#bd3786"
            ],
            [
             0.5555555555555556,
             "#d8576b"
            ],
            [
             0.6666666666666666,
             "#ed7953"
            ],
            [
             0.7777777777777778,
             "#fb9f3a"
            ],
            [
             0.8888888888888888,
             "#fdca26"
            ],
            [
             1.0,
             "#f0f921"
            ]
           ],
           "diverging": [
            [
             0,
             "#8e0152"
            ],
            [
             0.1,
             "#c51b7d"
            ],
            [
             0.2,
             "#de77ae"
            ],
            [
             0.3,
             "#f1b6da"
            ],
            [
             0.4,
             "#fde0ef"
            ],
            [
             0.5,
             "#f7f7f7"
            ],
            [
             0.6,
             "#e6f5d0"
            ],
            [
             0.7,
             "#b8e186"
            ],
            [
             0.8,
             "#7fbc41"
            ],
            [
             0.9,
             "#4d9221"
            ],
            [
             1,
             "#276419"
            ]
           ]
          },
          "xaxis": {
           "gridcolor": "#283442",
           "linecolor": "#506784",
           "ticks": "",
           "title": {
            "standoff": 15
           },
           "zerolinecolor": "#283442",
           "automargin": true,
           "zerolinewidth": 2
          },
          "yaxis": {
           "gridcolor": "#283442",
           "linecolor": "#506784",
           "ticks": "",
           "title": {
            "standoff": 15
           },
           "zerolinecolor": "#283442",
           "automargin": true,
           "zerolinewidth": 2
          },
          "scene": {
           "xaxis": {
            "backgroundcolor": "rgb(17,17,17)",
            "gridcolor": "#506784",
            "linecolor": "#506784",
            "showbackground": true,
            "ticks": "",
            "zerolinecolor": "#C8D4E3",
            "gridwidth": 2
           },
           "yaxis": {
            "backgroundcolor": "rgb(17,17,17)",
            "gridcolor": "#506784",
            "linecolor": "#506784",
            "showbackground": true,
            "ticks": "",
            "zerolinecolor": "#C8D4E3",
            "gridwidth": 2
           },
           "zaxis": {
            "backgroundcolor": "rgb(17,17,17)",
            "gridcolor": "#506784",
            "linecolor": "#506784",
            "showbackground": true,
            "ticks": "",
            "zerolinecolor": "#C8D4E3",
            "gridwidth": 2
           }
          },
          "shapedefaults": {
           "line": {
            "color": "#f2f5fa"
           }
          },
          "annotationdefaults": {
           "arrowcolor": "#f2f5fa",
           "arrowhead": 0,
           "arrowwidth": 1
          },
          "geo": {
           "bgcolor": "rgb(17,17,17)",
           "landcolor": "rgb(17,17,17)",
           "subunitcolor": "#506784",
           "showland": true,
           "showlakes": true,
           "lakecolor": "rgb(17,17,17)"
          },
          "title": {
           "x": 0.05
          },
          "updatemenudefaults": {
           "bgcolor": "#506784",
           "borderwidth": 0
          },
          "sliderdefaults": {
           "bgcolor": "#C8D4E3",
           "borderwidth": 1,
           "bordercolor": "rgb(17,17,17)",
           "tickwidth": 0
          },
          "mapbox": {
           "style": "dark"
          }
         }
        },
        "xaxis": {
         "anchor": "y",
         "domain": [
          0.0,
          1.0
         ],
         "title": {
          "text": "0"
         }
        },
        "yaxis": {
         "anchor": "x",
         "domain": [
          0.0,
          1.0
         ],
         "title": {
          "text": "1"
         }
        },
        "legend": {
         "title": {
          "text": "color"
         },
         "tracegroupgap": 0
        },
        "title": {
         "text": "KMedoids Clustering PCA"
        }
       },
       "config": {
        "plotlyServerURL": "https://plot.ly"
       }
      }
     },
     "metadata": {},
     "output_type": "display_data"
    },
    {
     "data": {
      "application/vnd.plotly.v1+json": {
       "data": [
        {
         "hovertemplate": "<b>%{hovertext}</b><br><br>color=Oral Session 1A: Neuroscience and Intepretability<br>0=%{x}<br>1=%{y}<extra></extra>",
         "hovertext": [
          "aVh9KRZdRk"
         ],
         "legendgroup": "Oral Session 1A: Neuroscience and Intepretability",
         "marker": {
          "color": "#2E91E5",
          "symbol": "circle"
         },
         "mode": "markers",
         "name": "Oral Session 1A: Neuroscience and Intepretability",
         "orientation": "v",
         "showlegend": true,
         "x": {
          "dtype": "f8",
          "bdata": "sj60q+2Kmj8="
         },
         "xaxis": "x",
         "y": {
          "dtype": "f8",
          "bdata": "jfVhT/DBer8="
         },
         "yaxis": "y",
         "type": "scatter"
        },
        {
         "hovertemplate": "<b>%{hovertext}</b><br><br>color=Oral Session 1B: Human-AI Interaction<br>0=%{x}<br>1=%{y}<extra></extra>",
         "hovertext": [
          "m1a4CrRJR7",
          "wpGJ2AX6SZ",
          "rtz4df9IF1"
         ],
         "legendgroup": "Oral Session 1B: Human-AI Interaction",
         "marker": {
          "color": "#E15F99",
          "symbol": "circle"
         },
         "mode": "markers",
         "name": "Oral Session 1B: Human-AI Interaction",
         "orientation": "v",
         "showlegend": true,
         "x": {
          "dtype": "f8",
          "bdata": "vYbyaqfoQD+JiIgHDxl5P/Q8zzOAjFm/"
         },
         "xaxis": "x",
         "y": {
          "dtype": "f8",
          "bdata": "r6G8At9thD8zMzOBYIiKv9u2bV8zzpK/"
         },
         "yaxis": "y",
         "type": "scatter"
        },
        {
         "hovertemplate": "<b>%{hovertext}</b><br><br>color=Oral Session 1C: Optimization and Learning Theory<br>0=%{x}<br>1=%{y}<extra></extra>",
         "hovertext": [
          "0XeNkkENuI",
          "YvA8UF0I37",
          "mp8u2Pcmqz"
         ],
         "legendgroup": "Oral Session 1C: Optimization and Learning Theory",
         "marker": {
          "color": "#1CA71C",
          "symbol": "circle"
         },
         "mode": "markers",
         "name": "Oral Session 1C: Optimization and Learning Theory",
         "orientation": "v",
         "showlegend": true,
         "x": {
          "dtype": "f8",
          "bdata": "AAAAyG4If7+idiVuY69jvwAAwcpGL4A/"
         },
         "xaxis": "x",
         "y": {
          "dtype": "f8",
          "bdata": "uuiiK1WcgL+idiV+JQRfPwAAwFeJoIe/"
         },
         "yaxis": "y",
         "type": "scatter"
        },
        {
         "hovertemplate": "<b>%{hovertext}</b><br><br>color=Oral Session 2A: Agents<br>0=%{x}<br>1=%{y}<extra></extra>",
         "hovertext": [
          "aIPwlkdOut"
         ],
         "legendgroup": "Oral Session 2A: Agents",
         "marker": {
          "color": "#FB0D0D",
          "symbol": "circle"
         },
         "mode": "markers",
         "name": "Oral Session 2A: Agents",
         "orientation": "v",
         "showlegend": true,
         "x": {
          "dtype": "f8",
          "bdata": "4YMPhp/TkT8="
         },
         "xaxis": "x",
         "y": {
          "dtype": "f8",
          "bdata": "fPDBP5I9jb8="
         },
         "yaxis": "y",
         "type": "scatter"
        },
        {
         "hovertemplate": "<b>%{hovertext}</b><br><br>color=Oral Session 2B: Reinforcement Learning<br>0=%{x}<br>1=%{y}<extra></extra>",
         "hovertext": [
          "UdxpjKO2F9",
          "mSaqxZVZW8"
         ],
         "legendgroup": "Oral Session 2B: Reinforcement Learning",
         "marker": {
          "color": "#DA16FF",
          "symbol": "circle"
         },
         "mode": "markers",
         "name": "Oral Session 2B: Reinforcement Learning",
         "orientation": "v",
         "showlegend": true,
         "x": {
          "dtype": "f8",
          "bdata": "L7ro4izkgz8UO7Ej54RsPw=="
         },
         "xaxis": "x",
         "y": {
          "dtype": "f8",
          "bdata": "F110EQDVmL/FTigWn1B7vw=="
         },
         "yaxis": "y",
         "type": "scatter"
        },
        {
         "hovertemplate": "<b>%{hovertext}</b><br><br>color=Oral Session 2C: Reinforcement Learning<br>0=%{x}<br>1=%{y}<extra></extra>",
         "hovertext": [
          "LEzx6QRkRH",
          "iSwK1YqO7v",
          "Ddak3nSqQM",
          "cLga8GStdk",
          "4S8agvKjle"
         ],
         "legendgroup": "Oral Session 2C: Reinforcement Learning",
         "marker": {
          "color": "#222A2A",
          "symbol": "circle"
         },
         "mode": "markers",
         "name": "Oral Session 2C: Reinforcement Learning",
         "orientation": "v",
         "showlegend": true,
         "x": {
          "dtype": "f8",
          "bdata": "8fDwkMHUkT89Ctfb0V46PxKWe/pFhpc/AACAAkRZUr8AAECQ4NpGvw=="
         },
         "xaxis": "x",
         "y": {
          "dtype": "f8",
          "bdata": "8fDwMJavnL8AABDRNnaUv42w3D/AEZi/AABAmoHxlr8AAMChwc+Vvw=="
         },
         "yaxis": "y",
         "type": "scatter"
        },
        {
         "hovertemplate": "<b>%{hovertext}</b><br><br>color=Oral Session 2D: Generative Models<br>0=%{x}<br>1=%{y}<extra></extra>",
         "hovertext": [
          "pGEY8JQ3qx",
          "6YIpvnkjUK",
          "eWUM5hRYgH",
          "qf2uZAdy1N"
         ],
         "legendgroup": "Oral Session 2D: Generative Models",
         "marker": {
          "color": "#B68100",
          "symbol": "circle"
         },
         "mode": "markers",
         "name": "Oral Session 2D: Generative Models",
         "orientation": "v",
         "showlegend": true,
         "x": {
          "dtype": "f8",
          "bdata": "sj60GFokkD9VVVUVGCdNPwAAANOKQmQ/xB1hlNEHcD8="
         },
         "xaxis": "x",
         "y": {
          "dtype": "f8",
          "bdata": "FbycbP8yiL8AABa23fCRvwAAYNnxJ5a/AAAATO/Vk78="
         },
         "yaxis": "y",
         "type": "scatter"
        },
        {
         "hovertemplate": "<b>%{hovertext}</b><br><br>color=Oral Session 3D: Natural Language Processing<br>0=%{x}<br>1=%{y}<extra></extra>",
         "hovertext": [
          "0NMzBwqaAJ",
          "cFqAANINgW",
          "NPKZF1WDjZ",
          "pC44UMwy2v",
          "uNKlTQ8mBD",
          "Mbd3QxXjq5"
         ],
         "legendgroup": "Oral Session 3D: Natural Language Processing",
         "marker": {
          "color": "#750D86",
          "symbol": "circle"
         },
         "mode": "markers",
         "name": "Oral Session 3D: Natural Language Processing",
         "orientation": "v",
         "showlegend": true,
         "x": {
          "dtype": "f8",
          "bdata": "H3zwx9cRbT+amZnzGdtoPzMzM8cSq1a/dNFFNSQmkD9JkiRtn22OP4ZhGKojT34/"
         },
         "xaxis": "x",
         "y": {
          "dtype": "f8",
          "bdata": "4YMPDp+jlL8svuKR1UiHv83MjHdKh4y/uuiim2mMor/btm3bmBsiP4ZhGA5xMZC/"
         },
         "yaxis": "y",
         "type": "scatter"
        },
        {
         "hovertemplate": "<b>%{hovertext}</b><br><br>color=Oral Session 4A: Natural Language Processing<br>0=%{x}<br>1=%{y}<extra></extra>",
         "hovertext": [
          "bCMpdaQCNW",
          "zogaeVpbaE",
          "135eKqDoRR",
          "Vi8AepAXGy",
          "E18kRXTGmV"
         ],
         "legendgroup": "Oral Session 4A: Natural Language Processing",
         "marker": {
          "color": "#EB663B",
          "symbol": "circle"
         },
         "mode": "markers",
         "name": "Oral Session 4A: Natural Language Processing",
         "orientation": "v",
         "showlegend": true,
         "x": {
          "dtype": "f8",
          "bdata": "27Ztl8pUjT8lSTJdQsF0v9PS0hPHP3G/riAm2dbIkT8AAAAQQeloPw=="
         },
         "xaxis": "x",
         "y": {
          "dtype": "f8",
          "bdata": "kiRJ4ngfmb/btm3T3w2Iv4iHh32hLHm/XUFMfIwAkL8AAOBlgIaGvw=="
         },
         "yaxis": "y",
         "type": "scatter"
        },
        {
         "hovertemplate": "<b>%{hovertext}</b><br><br>color=Oral Session 4D: Machine Vision<br>0=%{x}<br>1=%{y}<extra></extra>",
         "hovertext": [
          "TFZlFRl9Ks",
          "QDYts5dYgq",
          "SSCtCq2MH2",
          "x7pjdDod6Z",
          "8qu52Fl1Dt"
         ],
         "legendgroup": "Oral Session 4D: Machine Vision",
         "marker": {
          "color": "#511CFB",
          "symbol": "circle"
         },
         "mode": "markers",
         "name": "Oral Session 4D: Machine Vision",
         "orientation": "v",
         "showlegend": true,
         "x": {
          "dtype": "f8",
          "bdata": "iYiIp1n2dz8lSZLMnn+Hv83MzGRMHIk/8fDwUvecYT8AAID60KKTPw=="
         },
         "xaxis": "x",
         "y": {
          "dtype": "f8",
          "bdata": "mpmZma5VIb8AAADw+ndxvzMzMy9tKlW/aWlpVQGJfT8AAADgLh06Pw=="
         },
         "yaxis": "y",
         "type": "scatter"
        },
        {
         "hovertemplate": "<b>%{hovertext}</b><br><br>color=Oral Session 4C: Diffusion-based Models, Mathematics<br>0=%{x}<br>1=%{y}<extra></extra>",
         "hovertext": [
          "OycU0bAus6",
          "tnh4LK72yj",
          "Pezt0xttae",
          "r5spnrY6H3",
          "47loYmzxep"
         ],
         "legendgroup": "Oral Session 4C: Diffusion-based Models, Mathematics",
         "marker": {
          "color": "#00A08B",
          "symbol": "circle"
         },
         "mode": "markers",
         "name": "Oral Session 4C: Diffusion-based Models, Mathematics",
         "orientation": "v",
         "showlegend": true,
         "x": {
          "dtype": "f8",
          "bdata": "IiIiGvj+gz8AAABBc7V8P9u2bcGM9ZG/chxnWozugz9VVVXF4dV0vw=="
         },
         "xaxis": "x",
         "y": {
          "dtype": "f8",
          "bdata": "vLu7O2zJWb8AAIDp6V+Mv5IkSfp6zZO/OY5jKxaRgz/e3d1bZGBwPw=="
         },
         "yaxis": "y",
         "type": "scatter"
        },
        {
         "hovertemplate": "<b>%{hovertext}</b><br><br>color=Oral Session 5C: Machine Vision<br>0=%{x}<br>1=%{y}<extra></extra>",
         "hovertext": [
          "R8SolCx62K",
          "C4NbtYnyQg",
          "8Fxqn1tZM1"
         ],
         "legendgroup": "Oral Session 5C: Machine Vision",
         "marker": {
          "color": "#FB00D1",
          "symbol": "circle"
         },
         "mode": "markers",
         "name": "Oral Session 5C: Machine Vision",
         "orientation": "v",
         "showlegend": true,
         "x": {
          "dtype": "f8",
          "bdata": "AAAAmwP6eT+xEzvxLehKv4p8Vn2GDXi/"
         },
         "xaxis": "x",
         "y": {
          "dtype": "f8",
          "bdata": "AACAY85Ke792YicNiKaIv/msG0tjaoA/"
         },
         "yaxis": "y",
         "type": "scatter"
        },
        {
         "hovertemplate": "<b>%{hovertext}</b><br><br>color=Oral Session 5A: Graph Neural Networks<br>0=%{x}<br>1=%{y}<extra></extra>",
         "hovertext": [
          "HRkniCWM3E",
          "9O2sVnEHor"
         ],
         "legendgroup": "Oral Session 5A: Graph Neural Networks",
         "marker": {
          "color": "#FC0080",
          "symbol": "circle"
         },
         "mode": "markers",
         "name": "Oral Session 5A: Graph Neural Networks",
         "orientation": "v",
         "showlegend": true,
         "x": {
          "dtype": "f8",
          "bdata": "Tm96UyoxoL/7zkZ9N75mvw=="
         },
         "xaxis": "x",
         "y": {
          "dtype": "f8",
          "bdata": "C1nIMtkkh7+jvrNAobuDPw=="
         },
         "yaxis": "y",
         "type": "scatter"
        },
        {
         "hovertemplate": "<b>%{hovertext}</b><br><br>color=Oral Session 3A: Generative Models<br>0=%{x}<br>1=%{y}<extra></extra>",
         "hovertext": [
          "kq166jACVP",
          "4NJBV6Wp0h",
          "Oo7dlLgqQX",
          "qEpi8uWX3N",
          "DFr5hteojx"
         ],
         "legendgroup": "Oral Session 3A: Generative Models",
         "marker": {
          "color": "#B2828D",
          "symbol": "circle"
         },
         "mode": "markers",
         "name": "Oral Session 3A: Generative Models",
         "orientation": "v",
         "showlegend": true,
         "x": {
          "dtype": "f8",
          "bdata": "btu2TRPJXr85jmNnPBOCPzMzMz4iZoc/JUmSiI/kgb8JxGWPs8V+Pw=="
         },
         "xaxis": "x",
         "y": {
          "dtype": "f8",
          "bdata": "AAAAzha4mL9yHMe15pOTv83MzNxZlqC/t23bylxilL9o3eAeRfGTvw=="
         },
         "yaxis": "y",
         "type": "scatter"
        },
        {
         "hovertemplate": "<b>%{hovertext}</b><br><br>color=Oral Session 3C: Natural Language Processing<br>0=%{x}<br>1=%{y}<extra></extra>",
         "hovertext": [
          "REIK4SZMJt"
         ],
         "legendgroup": "Oral Session 3C: Natural Language Processing",
         "marker": {
          "color": "#6C7C32",
          "symbol": "circle"
         },
         "mode": "markers",
         "name": "Oral Session 3C: Natural Language Processing",
         "orientation": "v",
         "showlegend": true,
         "x": {
          "dtype": "f8",
          "bdata": "DMMwaDVCkz8="
         },
         "xaxis": "x",
         "y": {
          "dtype": "f8",
          "bdata": "9DzPB2adjr8="
         },
         "yaxis": "y",
         "type": "scatter"
        },
        {
         "hovertemplate": "<b>%{hovertext}</b><br><br>color=Oral Session 5D: Machine Learning and Science<br>0=%{x}<br>1=%{y}<extra></extra>",
         "hovertext": [
          "y10avdRFNK",
          "J2wI2rCG2u"
         ],
         "legendgroup": "Oral Session 5D: Machine Learning and Science",
         "marker": {
          "color": "#778AAE",
          "symbol": "circle"
         },
         "mode": "markers",
         "name": "Oral Session 5D: Machine Learning and Science",
         "orientation": "v",
         "showlegend": true,
         "x": {
          "dtype": "f8",
          "bdata": "ip3Yz2Ywcj8Jy336XlZ4Pw=="
         },
         "xaxis": "x",
         "y": {
          "dtype": "f8",
          "bdata": "2YmdnJwol7+NsNztaGiVvw=="
         },
         "yaxis": "y",
         "type": "scatter"
        },
        {
         "hovertemplate": "<b>%{hovertext}</b><br><br>color=Oral Session 6D: Deep Learning Architecture, Infrastructure<br>0=%{x}<br>1=%{y}<extra></extra>",
         "hovertext": [
          "5zSCSE0k41",
          "4bKEFyUHT4",
          "25Ioxw576r",
          "gojL67CfS8",
          "Y8YVCOMEpz"
         ],
         "legendgroup": "Oral Session 6D: Deep Learning Architecture, Infrastructure",
         "marker": {
          "color": "#862A16",
          "symbol": "circle"
         },
         "mode": "markers",
         "name": "Oral Session 6D: Deep Learning Architecture, Infrastructure",
         "orientation": "v",
         "showlegend": true,
         "x": {
          "dtype": "f8",
          "bdata": "xU68JPnHdj8AAABG4N5jP9u2bUuD5FA/h/Ia7g6vhL9u27bMzsdZvw=="
         },
         "xaxis": "x",
         "y": {
          "dtype": "f8",
          "bdata": "FDuxM6ygWz8AAADU9FFvPyVJklg5tHO/XkN54fX7cr+SJEmpxAKFvw=="
         },
         "yaxis": "y",
         "type": "scatter"
        },
        {
         "hovertemplate": "<b>%{hovertext}</b><br><br>color=Oral Session 4B: Diffusion-based Models<br>0=%{x}<br>1=%{y}<extra></extra>",
         "hovertext": [
          "clTa4JFBML",
          "3Odq2tGSpp",
          "tQukGCDaNT",
          "bg6fVPVs3s",
          "V0oJaLqY4E",
          "cfrDLD1wfO"
         ],
         "legendgroup": "Oral Session 4B: Diffusion-based Models",
         "marker": {
          "color": "#A777F1",
          "symbol": "circle"
         },
         "mode": "markers",
         "name": "Oral Session 4B: Diffusion-based Models",
         "orientation": "v",
         "showlegend": true,
         "x": {
          "dtype": "f8",
          "bdata": "q6qq0uFMfz/kOI4rGQh2P6alJeNPMHc/iYiIWGSbaz/kOI7z8W9sv0mSJP26snm/"
         },
         "xaxis": "x",
         "y": {
          "dtype": "f8",
          "bdata": "AAAA+J3Wk7/HcRwRLKORv3h4eIB0m5C/AAAA8LE7ib9VVVUmbfhkv7dt28YC7Y+/"
         },
         "yaxis": "y",
         "type": "scatter"
        },
        {
         "hovertemplate": "<b>%{hovertext}</b><br><br>color=Oral Session 5B: Graph Neural Networks, Causal Inference<br>0=%{x}<br>1=%{y}<extra></extra>",
         "hovertext": [
          "4rCZeCZAON",
          "S2P6KPLtm8"
         ],
         "legendgroup": "Oral Session 5B: Graph Neural Networks, Causal Inference",
         "marker": {
          "color": "#620042",
          "symbol": "circle"
         },
         "mode": "markers",
         "name": "Oral Session 5B: Graph Neural Networks, Causal Inference",
         "orientation": "v",
         "showlegend": true,
         "x": {
          "dtype": "f8",
          "bdata": "0UUXWT4tfb+dc84N+0x+Pw=="
         },
         "xaxis": "x",
         "y": {
          "dtype": "f8",
          "bdata": "L7poc5X/dL+llFJKSj5WPw=="
         },
         "yaxis": "y",
         "type": "scatter"
        },
        {
         "hovertemplate": "<b>%{hovertext}</b><br><br>color=Oral Session 6A: Machine Learning and Science, Safety<br>0=%{x}<br>1=%{y}<extra></extra>",
         "hovertext": [
          "EKdk4vxKO4",
          "VXohja0vrQ"
         ],
         "legendgroup": "Oral Session 6A: Machine Learning and Science, Safety",
         "marker": {
          "color": "#1616A7",
          "symbol": "circle"
         },
         "mode": "markers",
         "name": "Oral Session 6A: Machine Learning and Science, Safety",
         "orientation": "v",
         "showlegend": true,
         "x": {
          "dtype": "f8",
          "bdata": "sskmqxP3hT8AAACm07SIPw=="
         },
         "xaxis": "x",
         "y": {
          "dtype": "f8",
          "bdata": "RhddNORFi78AAKA6WuOJvw=="
         },
         "yaxis": "y",
         "type": "scatter"
        },
        {
         "hovertemplate": "<b>%{hovertext}</b><br><br>color=Oral Session 1D: Learning Theory<br>0=%{x}<br>1=%{y}<extra></extra>",
         "hovertext": [
          "ge8GZn8Gtu"
         ],
         "legendgroup": "Oral Session 1D: Learning Theory",
         "marker": {
          "color": "#DA60CA",
          "symbol": "circle"
         },
         "mode": "markers",
         "name": "Oral Session 1D: Learning Theory",
         "orientation": "v",
         "showlegend": true,
         "x": {
          "dtype": "f8",
          "bdata": "WchCRiVklz8="
         },
         "xaxis": "x",
         "y": {
          "dtype": "f8",
          "bdata": "pze9CcTWnb8="
         },
         "yaxis": "y",
         "type": "scatter"
        },
        {
         "hovertemplate": "<b>%{hovertext}</b><br><br>color=Oral Session 3B: Natural Language Processing<br>0=%{x}<br>1=%{y}<extra></extra>",
         "hovertext": [
          "KZlJF8kguO"
         ],
         "legendgroup": "Oral Session 3B: Natural Language Processing",
         "marker": {
          "color": "#6C4516",
          "symbol": "circle"
         },
         "mode": "markers",
         "name": "Oral Session 3B: Natural Language Processing",
         "orientation": "v",
         "showlegend": true,
         "x": {
          "dtype": "f8",
          "bdata": "AAAAoM+DkD8="
         },
         "xaxis": "x",
         "y": {
          "dtype": "f8",
          "bdata": "AADgi9ONij8="
         },
         "yaxis": "y",
         "type": "scatter"
        },
        {
         "hovertemplate": "<b>%{hovertext}</b><br><br>color=Oral Session 6B: Safety, New Data<br>0=%{x}<br>1=%{y}<extra></extra>",
         "hovertext": [
          "cu8FfaYriU"
         ],
         "legendgroup": "Oral Session 6B: Safety, New Data",
         "marker": {
          "color": "#0D2A63",
          "symbol": "circle"
         },
         "mode": "markers",
         "name": "Oral Session 6B: Safety, New Data",
         "orientation": "v",
         "showlegend": true,
         "x": {
          "dtype": "f8",
          "bdata": "XXTRlcYuT78="
         },
         "xaxis": "x",
         "y": {
          "dtype": "f8",
          "bdata": "AAAAOEBzib8="
         },
         "yaxis": "y",
         "type": "scatter"
        },
        {
         "hovertemplate": "<b>%{hovertext}</b><br><br>color=Oral Session 6C: New Data<br>0=%{x}<br>1=%{y}<extra></extra>",
         "hovertext": [
          "s1K5Z5QPog"
         ],
         "legendgroup": "Oral Session 6C: New Data",
         "marker": {
          "color": "#AF0038",
          "symbol": "circle"
         },
         "mode": "markers",
         "name": "Oral Session 6C: New Data",
         "orientation": "v",
         "showlegend": true,
         "x": {
          "dtype": "f8",
          "bdata": "IiIiyWhkcj8="
         },
         "xaxis": "x",
         "y": {
          "dtype": "f8",
          "bdata": "IiKiu+9yir8="
         },
         "yaxis": "y",
         "type": "scatter"
        }
       ],
       "layout": {
        "template": {
         "data": {
          "histogram2dcontour": [
           {
            "type": "histogram2dcontour",
            "colorbar": {
             "outlinewidth": 0,
             "ticks": ""
            },
            "colorscale": [
             [
              0.0,
              "#0d0887"
             ],
             [
              0.1111111111111111,
              "#46039f"
             ],
             [
              0.2222222222222222,
              "#7201a8"
             ],
             [
              0.3333333333333333,
              "#9c179e"
             ],
             [
              0.4444444444444444,
              "#bd3786"
             ],
             [
              0.5555555555555556,
              "#d8576b"
             ],
             [
              0.6666666666666666,
              "#ed7953"
             ],
             [
              0.7777777777777778,
              "#fb9f3a"
             ],
             [
              0.8888888888888888,
              "#fdca26"
             ],
             [
              1.0,
              "#f0f921"
             ]
            ]
           }
          ],
          "choropleth": [
           {
            "type": "choropleth",
            "colorbar": {
             "outlinewidth": 0,
             "ticks": ""
            }
           }
          ],
          "histogram2d": [
           {
            "type": "histogram2d",
            "colorbar": {
             "outlinewidth": 0,
             "ticks": ""
            },
            "colorscale": [
             [
              0.0,
              "#0d0887"
             ],
             [
              0.1111111111111111,
              "#46039f"
             ],
             [
              0.2222222222222222,
              "#7201a8"
             ],
             [
              0.3333333333333333,
              "#9c179e"
             ],
             [
              0.4444444444444444,
              "#bd3786"
             ],
             [
              0.5555555555555556,
              "#d8576b"
             ],
             [
              0.6666666666666666,
              "#ed7953"
             ],
             [
              0.7777777777777778,
              "#fb9f3a"
             ],
             [
              0.8888888888888888,
              "#fdca26"
             ],
             [
              1.0,
              "#f0f921"
             ]
            ]
           }
          ],
          "heatmap": [
           {
            "type": "heatmap",
            "colorbar": {
             "outlinewidth": 0,
             "ticks": ""
            },
            "colorscale": [
             [
              0.0,
              "#0d0887"
             ],
             [
              0.1111111111111111,
              "#46039f"
             ],
             [
              0.2222222222222222,
              "#7201a8"
             ],
             [
              0.3333333333333333,
              "#9c179e"
             ],
             [
              0.4444444444444444,
              "#bd3786"
             ],
             [
              0.5555555555555556,
              "#d8576b"
             ],
             [
              0.6666666666666666,
              "#ed7953"
             ],
             [
              0.7777777777777778,
              "#fb9f3a"
             ],
             [
              0.8888888888888888,
              "#fdca26"
             ],
             [
              1.0,
              "#f0f921"
             ]
            ]
           }
          ],
          "contourcarpet": [
           {
            "type": "contourcarpet",
            "colorbar": {
             "outlinewidth": 0,
             "ticks": ""
            }
           }
          ],
          "contour": [
           {
            "type": "contour",
            "colorbar": {
             "outlinewidth": 0,
             "ticks": ""
            },
            "colorscale": [
             [
              0.0,
              "#0d0887"
             ],
             [
              0.1111111111111111,
              "#46039f"
             ],
             [
              0.2222222222222222,
              "#7201a8"
             ],
             [
              0.3333333333333333,
              "#9c179e"
             ],
             [
              0.4444444444444444,
              "#bd3786"
             ],
             [
              0.5555555555555556,
              "#d8576b"
             ],
             [
              0.6666666666666666,
              "#ed7953"
             ],
             [
              0.7777777777777778,
              "#fb9f3a"
             ],
             [
              0.8888888888888888,
              "#fdca26"
             ],
             [
              1.0,
              "#f0f921"
             ]
            ]
           }
          ],
          "surface": [
           {
            "type": "surface",
            "colorbar": {
             "outlinewidth": 0,
             "ticks": ""
            },
            "colorscale": [
             [
              0.0,
              "#0d0887"
             ],
             [
              0.1111111111111111,
              "#46039f"
             ],
             [
              0.2222222222222222,
              "#7201a8"
             ],
             [
              0.3333333333333333,
              "#9c179e"
             ],
             [
              0.4444444444444444,
              "#bd3786"
             ],
             [
              0.5555555555555556,
              "#d8576b"
             ],
             [
              0.6666666666666666,
              "#ed7953"
             ],
             [
              0.7777777777777778,
              "#fb9f3a"
             ],
             [
              0.8888888888888888,
              "#fdca26"
             ],
             [
              1.0,
              "#f0f921"
             ]
            ]
           }
          ],
          "mesh3d": [
           {
            "type": "mesh3d",
            "colorbar": {
             "outlinewidth": 0,
             "ticks": ""
            }
           }
          ],
          "scatter": [
           {
            "marker": {
             "line": {
              "color": "#283442"
             }
            },
            "type": "scatter"
           }
          ],
          "parcoords": [
           {
            "type": "parcoords",
            "line": {
             "colorbar": {
              "outlinewidth": 0,
              "ticks": ""
             }
            }
           }
          ],
          "scatterpolargl": [
           {
            "type": "scatterpolargl",
            "marker": {
             "colorbar": {
              "outlinewidth": 0,
              "ticks": ""
             }
            }
           }
          ],
          "bar": [
           {
            "error_x": {
             "color": "#f2f5fa"
            },
            "error_y": {
             "color": "#f2f5fa"
            },
            "marker": {
             "line": {
              "color": "rgb(17,17,17)",
              "width": 0.5
             },
             "pattern": {
              "fillmode": "overlay",
              "size": 10,
              "solidity": 0.2
             }
            },
            "type": "bar"
           }
          ],
          "scattergeo": [
           {
            "type": "scattergeo",
            "marker": {
             "colorbar": {
              "outlinewidth": 0,
              "ticks": ""
             }
            }
           }
          ],
          "scatterpolar": [
           {
            "type": "scatterpolar",
            "marker": {
             "colorbar": {
              "outlinewidth": 0,
              "ticks": ""
             }
            }
           }
          ],
          "histogram": [
           {
            "marker": {
             "pattern": {
              "fillmode": "overlay",
              "size": 10,
              "solidity": 0.2
             }
            },
            "type": "histogram"
           }
          ],
          "scattergl": [
           {
            "marker": {
             "line": {
              "color": "#283442"
             }
            },
            "type": "scattergl"
           }
          ],
          "scatter3d": [
           {
            "type": "scatter3d",
            "line": {
             "colorbar": {
              "outlinewidth": 0,
              "ticks": ""
             }
            },
            "marker": {
             "colorbar": {
              "outlinewidth": 0,
              "ticks": ""
             }
            }
           }
          ],
          "scattermap": [
           {
            "type": "scattermap",
            "marker": {
             "colorbar": {
              "outlinewidth": 0,
              "ticks": ""
             }
            }
           }
          ],
          "scattermapbox": [
           {
            "type": "scattermapbox",
            "marker": {
             "colorbar": {
              "outlinewidth": 0,
              "ticks": ""
             }
            }
           }
          ],
          "scatterternary": [
           {
            "type": "scatterternary",
            "marker": {
             "colorbar": {
              "outlinewidth": 0,
              "ticks": ""
             }
            }
           }
          ],
          "scattercarpet": [
           {
            "type": "scattercarpet",
            "marker": {
             "colorbar": {
              "outlinewidth": 0,
              "ticks": ""
             }
            }
           }
          ],
          "carpet": [
           {
            "aaxis": {
             "endlinecolor": "#A2B1C6",
             "gridcolor": "#506784",
             "linecolor": "#506784",
             "minorgridcolor": "#506784",
             "startlinecolor": "#A2B1C6"
            },
            "baxis": {
             "endlinecolor": "#A2B1C6",
             "gridcolor": "#506784",
             "linecolor": "#506784",
             "minorgridcolor": "#506784",
             "startlinecolor": "#A2B1C6"
            },
            "type": "carpet"
           }
          ],
          "table": [
           {
            "cells": {
             "fill": {
              "color": "#506784"
             },
             "line": {
              "color": "rgb(17,17,17)"
             }
            },
            "header": {
             "fill": {
              "color": "#2a3f5f"
             },
             "line": {
              "color": "rgb(17,17,17)"
             }
            },
            "type": "table"
           }
          ],
          "barpolar": [
           {
            "marker": {
             "line": {
              "color": "rgb(17,17,17)",
              "width": 0.5
             },
             "pattern": {
              "fillmode": "overlay",
              "size": 10,
              "solidity": 0.2
             }
            },
            "type": "barpolar"
           }
          ],
          "pie": [
           {
            "automargin": true,
            "type": "pie"
           }
          ]
         },
         "layout": {
          "autotypenumbers": "strict",
          "colorway": [
           "#636efa",
           "#EF553B",
           "#00cc96",
           "#ab63fa",
           "#FFA15A",
           "#19d3f3",
           "#FF6692",
           "#B6E880",
           "#FF97FF",
           "#FECB52"
          ],
          "font": {
           "color": "#f2f5fa"
          },
          "hovermode": "closest",
          "hoverlabel": {
           "align": "left"
          },
          "paper_bgcolor": "rgb(17,17,17)",
          "plot_bgcolor": "rgb(17,17,17)",
          "polar": {
           "bgcolor": "rgb(17,17,17)",
           "angularaxis": {
            "gridcolor": "#506784",
            "linecolor": "#506784",
            "ticks": ""
           },
           "radialaxis": {
            "gridcolor": "#506784",
            "linecolor": "#506784",
            "ticks": ""
           }
          },
          "ternary": {
           "bgcolor": "rgb(17,17,17)",
           "aaxis": {
            "gridcolor": "#506784",
            "linecolor": "#506784",
            "ticks": ""
           },
           "baxis": {
            "gridcolor": "#506784",
            "linecolor": "#506784",
            "ticks": ""
           },
           "caxis": {
            "gridcolor": "#506784",
            "linecolor": "#506784",
            "ticks": ""
           }
          },
          "coloraxis": {
           "colorbar": {
            "outlinewidth": 0,
            "ticks": ""
           }
          },
          "colorscale": {
           "sequential": [
            [
             0.0,
             "#0d0887"
            ],
            [
             0.1111111111111111,
             "#46039f"
            ],
            [
             0.2222222222222222,
             "#7201a8"
            ],
            [
             0.3333333333333333,
             "#9c179e"
            ],
            [
             0.4444444444444444,
             "#bd3786"
            ],
            [
             0.5555555555555556,
             "#d8576b"
            ],
            [
             0.6666666666666666,
             "#ed7953"
            ],
            [
             0.7777777777777778,
             "#fb9f3a"
            ],
            [
             0.8888888888888888,
             "#fdca26"
            ],
            [
             1.0,
             "#f0f921"
            ]
           ],
           "sequentialminus": [
            [
             0.0,
             "#0d0887"
            ],
            [
             0.1111111111111111,
             "#46039f"
            ],
            [
             0.2222222222222222,
             "#7201a8"
            ],
            [
             0.3333333333333333,
             "#9c179e"
            ],
            [
             0.4444444444444444,
             "#bd3786"
            ],
            [
             0.5555555555555556,
             "#d8576b"
            ],
            [
             0.6666666666666666,
             "#ed7953"
            ],
            [
             0.7777777777777778,
             "#fb9f3a"
            ],
            [
             0.8888888888888888,
             "#fdca26"
            ],
            [
             1.0,
             "#f0f921"
            ]
           ],
           "diverging": [
            [
             0,
             "#8e0152"
            ],
            [
             0.1,
             "#c51b7d"
            ],
            [
             0.2,
             "#de77ae"
            ],
            [
             0.3,
             "#f1b6da"
            ],
            [
             0.4,
             "#fde0ef"
            ],
            [
             0.5,
             "#f7f7f7"
            ],
            [
             0.6,
             "#e6f5d0"
            ],
            [
             0.7,
             "#b8e186"
            ],
            [
             0.8,
             "#7fbc41"
            ],
            [
             0.9,
             "#4d9221"
            ],
            [
             1,
             "#276419"
            ]
           ]
          },
          "xaxis": {
           "gridcolor": "#283442",
           "linecolor": "#506784",
           "ticks": "",
           "title": {
            "standoff": 15
           },
           "zerolinecolor": "#283442",
           "automargin": true,
           "zerolinewidth": 2
          },
          "yaxis": {
           "gridcolor": "#283442",
           "linecolor": "#506784",
           "ticks": "",
           "title": {
            "standoff": 15
           },
           "zerolinecolor": "#283442",
           "automargin": true,
           "zerolinewidth": 2
          },
          "scene": {
           "xaxis": {
            "backgroundcolor": "rgb(17,17,17)",
            "gridcolor": "#506784",
            "linecolor": "#506784",
            "showbackground": true,
            "ticks": "",
            "zerolinecolor": "#C8D4E3",
            "gridwidth": 2
           },
           "yaxis": {
            "backgroundcolor": "rgb(17,17,17)",
            "gridcolor": "#506784",
            "linecolor": "#506784",
            "showbackground": true,
            "ticks": "",
            "zerolinecolor": "#C8D4E3",
            "gridwidth": 2
           },
           "zaxis": {
            "backgroundcolor": "rgb(17,17,17)",
            "gridcolor": "#506784",
            "linecolor": "#506784",
            "showbackground": true,
            "ticks": "",
            "zerolinecolor": "#C8D4E3",
            "gridwidth": 2
           }
          },
          "shapedefaults": {
           "line": {
            "color": "#f2f5fa"
           }
          },
          "annotationdefaults": {
           "arrowcolor": "#f2f5fa",
           "arrowhead": 0,
           "arrowwidth": 1
          },
          "geo": {
           "bgcolor": "rgb(17,17,17)",
           "landcolor": "rgb(17,17,17)",
           "subunitcolor": "#506784",
           "showland": true,
           "showlakes": true,
           "lakecolor": "rgb(17,17,17)"
          },
          "title": {
           "x": 0.05
          },
          "updatemenudefaults": {
           "bgcolor": "#506784",
           "borderwidth": 0
          },
          "sliderdefaults": {
           "bgcolor": "#C8D4E3",
           "borderwidth": 1,
           "bordercolor": "rgb(17,17,17)",
           "tickwidth": 0
          },
          "mapbox": {
           "style": "dark"
          }
         }
        },
        "xaxis": {
         "anchor": "y",
         "domain": [
          0.0,
          1.0
         ],
         "title": {
          "text": "0"
         }
        },
        "yaxis": {
         "anchor": "x",
         "domain": [
          0.0,
          1.0
         ],
         "title": {
          "text": "1"
         }
        },
        "legend": {
         "title": {
          "text": "color"
         },
         "tracegroupgap": 0
        },
        "title": {
         "text": "KMeans Clustering PCA"
        }
       },
       "config": {
        "plotlyServerURL": "https://plot.ly"
       }
      }
     },
     "metadata": {},
     "output_type": "display_data"
    }
   ],
   "execution_count": 13
  },
  {
   "metadata": {
    "ExecuteTime": {
     "end_time": "2025-06-04T19:16:13.892623Z",
     "start_time": "2025-06-04T19:16:11.899913Z"
    }
   },
   "cell_type": "code",
   "source": [
    "import numpy as np\n",
    "import pandas as pd\n",
    "from sklearn.manifold import TSNE\n",
    "from scipy.spatial import ConvexHull\n",
    "import plotly.express as px\n",
    "import plotly.graph_objects as go\n",
    "\n",
    "\n",
    "# Step 2: Run t-SNE\n",
    "tsne = TSNE(n_components=2, perplexity=30, random_state=42)\n",
    "components = tsne.fit_transform(X)\n",
    "\n",
    "# Step 3: Add to dataframe\n",
    "df['tsne_0'] = components[:, 0]\n",
    "df['tsne_1'] = components[:, 1]\n"
   ],
   "id": "70ebc776136b9279",
   "outputs": [],
   "execution_count": 14
  },
  {
   "metadata": {
    "ExecuteTime": {
     "end_time": "2025-06-04T19:16:15.720397Z",
     "start_time": "2025-06-04T19:16:15.364148Z"
    }
   },
   "cell_type": "code",
   "source": [
    "# Step 4: Draw convex hulls for each method\n",
    "for method in method_names:  # e.g. [\"Baseline\", \"GreedyCohesive\"]\n",
    "    fig = px.scatter(\n",
    "        df,\n",
    "        x=\"tsne_0\",\n",
    "        y=\"tsne_1\",\n",
    "        color=method,\n",
    "        hover_name=\"title\",\n",
    "        title=f\"t-SNE Clustering — {method},\",\n",
    "        color_discrete_sequence=custom_palette\n",
    "    )\n",
    "    os.makedirs(os.path.join(output_path, \"t-SNE\"), exist_ok=True)\n",
    "    pio.write_html(fig, file=os.path.join(output_path, \"t-SNE\", f\"{method} Clustering t-SNE.html\"), auto_open=False)\n",
    "    fig.show()\n"
   ],
   "id": "a732abd61e124eb1",
   "outputs": [
    {
     "data": {
      "application/vnd.plotly.v1+json": {
       "data": [
        {
         "hovertemplate": "<b>%{hovertext}</b><br><br>Baseline=Oral Session 1A: Neuroscience and Intepretability<br>tsne_0=%{x}<br>tsne_1=%{y}<extra></extra>",
         "hovertext": [
          "Learning to grok_ Emergence of in-context learning and skill composition in modular arithmetic tasks",
          "Trading Place for Space_ Increasing Location Resolution Reduces Contextual Capacity in Hippocampal Codes",
          "NeuroClips_ Towards High-fidelity and Smooth fMRI-to-Video Reconstruction"
         ],
         "legendgroup": "Oral Session 1A: Neuroscience and Intepretability",
         "marker": {
          "color": "#2E91E5",
          "symbol": "circle"
         },
         "mode": "markers",
         "name": "Oral Session 1A: Neuroscience and Intepretability",
         "orientation": "v",
         "showlegend": true,
         "x": {
          "dtype": "f4",
          "bdata": "HgAWwJHG48DJoGTA"
         },
         "xaxis": "x",
         "y": {
          "dtype": "f4",
          "bdata": "BQYCwIt4NUAfZdI+"
         },
         "yaxis": "y",
         "type": "scatter"
        },
        {
         "hovertemplate": "<b>%{hovertext}</b><br><br>Baseline=Oral Session 1D: Learning Theory<br>tsne_0=%{x}<br>tsne_1=%{y}<extra></extra>",
         "hovertext": [
          "Generalization Error Bounds for Two-stage Recommender Systems with Tree Structure",
          "Optimal Parallelization of Boosting",
          "Achieving Optimal Clustering in Gaussian Mixture Models with Anisotropic Covariance Structures"
         ],
         "legendgroup": "Oral Session 1D: Learning Theory",
         "marker": {
          "color": "#E15F99",
          "symbol": "circle"
         },
         "mode": "markers",
         "name": "Oral Session 1D: Learning Theory",
         "orientation": "v",
         "showlegend": true,
         "x": {
          "dtype": "f4",
          "bdata": "9x8AwQxhAsGQ/P7A"
         },
         "xaxis": "x",
         "y": {
          "dtype": "f4",
          "bdata": "vbtEQKRdXkB4kIFA"
         },
         "yaxis": "y",
         "type": "scatter"
        },
        {
         "hovertemplate": "<b>%{hovertext}</b><br><br>Baseline=Oral Session 1C: Optimization and Learning Theory<br>tsne_0=%{x}<br>tsne_1=%{y}<extra></extra>",
         "hovertext": [
          "The Road Less Scheduled",
          "Learning diffusion at lightspeed",
          "Reinforcement Learning Under Latent Dynamics_ Toward Statistical and Algorithmic Modularity"
         ],
         "legendgroup": "Oral Session 1C: Optimization and Learning Theory",
         "marker": {
          "color": "#1CA71C",
          "symbol": "circle"
         },
         "mode": "markers",
         "name": "Oral Session 1C: Optimization and Learning Theory",
         "orientation": "v",
         "showlegend": true,
         "x": {
          "dtype": "f4",
          "bdata": "67MPwVuBx8AklwLB"
         },
         "xaxis": "x",
         "y": {
          "dtype": "f4",
          "bdata": "zaxnQMAeOUC5OnZA"
         },
         "yaxis": "y",
         "type": "scatter"
        },
        {
         "hovertemplate": "<b>%{hovertext}</b><br><br>Baseline=Oral Session 1B: Human-AI Interaction<br>tsne_0=%{x}<br>tsne_1=%{y}<extra></extra>",
         "hovertext": [
          "Human Expertise in Algorithmic Prediction",
          "RG-SAN_ Rule-Guided Spatial Awareness Network for End-to-End 3D Referring Expression Segmentation",
          "The PRISM Alignment Dataset_ What Participatory, Representative and Individualised Human Feedback Reveals About the Subjective and Multicultural Alignment of Large Language Models"
         ],
         "legendgroup": "Oral Session 1B: Human-AI Interaction",
         "marker": {
          "color": "#FB0D0D",
          "symbol": "circle"
         },
         "mode": "markers",
         "name": "Oral Session 1B: Human-AI Interaction",
         "orientation": "v",
         "showlegend": true,
         "x": {
          "dtype": "f4",
          "bdata": "MC4EwYg1dsAEf//A"
         },
         "xaxis": "x",
         "y": {
          "dtype": "f4",
          "bdata": "4uc6QL4H0DtJ4du/"
         },
         "yaxis": "y",
         "type": "scatter"
        },
        {
         "hovertemplate": "<b>%{hovertext}</b><br><br>Baseline=Oral Session 2A: Agents<br>tsne_0=%{x}<br>tsne_1=%{y}<extra></extra>",
         "hovertext": [
          "Enhancing Preference-based Linear Bandits via Human Response Time",
          "Embodied Agent Interface_ Benchmarking LLMs for Embodied Decision Making",
          "AgentBoard_ An Analytical Evaluation Board of Multi-turn LLM Agents"
         ],
         "legendgroup": "Oral Session 2A: Agents",
         "marker": {
          "color": "#DA16FF",
          "symbol": "circle"
         },
         "mode": "markers",
         "name": "Oral Session 2A: Agents",
         "orientation": "v",
         "showlegend": true,
         "x": {
          "dtype": "f4",
          "bdata": "mJkAwXEWtMCZhr3A"
         },
         "xaxis": "x",
         "y": {
          "dtype": "f4",
          "bdata": "sWgiQMccacB+eVzA"
         },
         "yaxis": "y",
         "type": "scatter"
        },
        {
         "hovertemplate": "<b>%{hovertext}</b><br><br>Baseline=Oral Session 2B: Reinforcement Learning<br>tsne_0=%{x}<br>tsne_1=%{y}<extra></extra>",
         "hovertext": [
          "Improving Environment Novelty Quantification for Effective Unsupervised Environment Design",
          "The Sample-Communication Complexity Trade-off in Federated Q-Learning",
          "Policy Learning from Tutorial Books via Understanding, Rehearsing and Introspecting"
         ],
         "legendgroup": "Oral Session 2B: Reinforcement Learning",
         "marker": {
          "color": "#222A2A",
          "symbol": "circle"
         },
         "mode": "markers",
         "name": "Oral Session 2B: Reinforcement Learning",
         "orientation": "v",
         "showlegend": true,
         "x": {
          "dtype": "f4",
          "bdata": "JtPewG3oA8GXB8DA"
         },
         "xaxis": "x",
         "y": {
          "dtype": "f4",
          "bdata": "X1ETP5PAjECYRITA"
         },
         "yaxis": "y",
         "type": "scatter"
        },
        {
         "hovertemplate": "<b>%{hovertext}</b><br><br>Baseline=Oral Session 2C: Reinforcement Learning<br>tsne_0=%{x}<br>tsne_1=%{y}<extra></extra>",
         "hovertext": [
          "RL-GPT_ Integrating Reinforcement Learning and Code-as-policy",
          "Statistical Efficiency of Distributional Temporal Difference Learning",
          "SeeA__ Efficient Exploration-Enhanced A_ Search by Selective Sampling"
         ],
         "legendgroup": "Oral Session 2C: Reinforcement Learning",
         "marker": {
          "color": "#B68100",
          "symbol": "circle"
         },
         "mode": "markers",
         "name": "Oral Session 2C: Reinforcement Learning",
         "orientation": "v",
         "showlegend": true,
         "x": {
          "dtype": "f4",
          "bdata": "/RXDwIKjBcFhXfHA"
         },
         "xaxis": "x",
         "y": {
          "dtype": "f4",
          "bdata": "Q6lawBMjkUARKTI/"
         },
         "yaxis": "y",
         "type": "scatter"
        },
        {
         "hovertemplate": "<b>%{hovertext}</b><br><br>Baseline=Oral Session 2D: Generative Models<br>tsne_0=%{x}<br>tsne_1=%{y}<extra></extra>",
         "hovertext": [
          "Span-Based Optimal Sample Complexity for Weakly Communicating and General Average Reward MDPs",
          "VASA-1_ Lifelike Audio-Driven Talking Faces Generated in Real Time",
          "Visual Autoregressive Modeling_ Scalable Image Generation via Next-Scale Prediction"
         ],
         "legendgroup": "Oral Session 2D: Generative Models",
         "marker": {
          "color": "#750D86",
          "symbol": "circle"
         },
         "mode": "markers",
         "name": "Oral Session 2D: Generative Models",
         "orientation": "v",
         "showlegend": true,
         "x": {
          "dtype": "f4",
          "bdata": "HBEEwYuihcDFzZvA"
         },
         "xaxis": "x",
         "y": {
          "dtype": "f4",
          "bdata": "d9CWQLWZvT7qEhA+"
         },
         "yaxis": "y",
         "type": "scatter"
        },
        {
         "hovertemplate": "<b>%{hovertext}</b><br><br>Baseline=Oral Session 3A: Generative Models<br>tsne_0=%{x}<br>tsne_1=%{y}<extra></extra>",
         "hovertext": [
          "Not All Tokens Are What You Need for Pretraining",
          "Return of Unconditional Generation_ A Self-supervised Representation Generation Method",
          "HydraLoRA_ An Asymmetric LoRA Architecture for Efficient Fine-Tuning"
         ],
         "legendgroup": "Oral Session 3A: Generative Models",
         "marker": {
          "color": "#EB663B",
          "symbol": "circle"
         },
         "mode": "markers",
         "name": "Oral Session 3A: Generative Models",
         "orientation": "v",
         "showlegend": true,
         "x": {
          "dtype": "f4",
          "bdata": "9kLEwEA6nMDi+b7A"
         },
         "xaxis": "x",
         "y": {
          "dtype": "f4",
          "bdata": "XnWzv5JxXz83Xkm/"
         },
         "yaxis": "y",
         "type": "scatter"
        },
        {
         "hovertemplate": "<b>%{hovertext}</b><br><br>Baseline=Oral Session 3B: Natural Language Processing<br>tsne_0=%{x}<br>tsne_1=%{y}<extra></extra>",
         "hovertext": [
          "Cracking the Code of Juxtaposition_ Can AI Models Understand the Humorous Contradictions",
          "Decompose, Analyze and Rethink_ Solving Intricate Problems with Human-like Reasoning Cycle",
          "Questioning the Survey Responses of Large Language Models"
         ],
         "legendgroup": "Oral Session 3B: Natural Language Processing",
         "marker": {
          "color": "#511CFB",
          "symbol": "circle"
         },
         "mode": "markers",
         "name": "Oral Session 3B: Natural Language Processing",
         "orientation": "v",
         "showlegend": true,
         "x": {
          "dtype": "f4",
          "bdata": "1JybwBYTyMCiyvrA"
         },
         "xaxis": "x",
         "y": {
          "dtype": "f4",
          "bdata": "PoY5wDFdE8ABuMm/"
         },
         "yaxis": "y",
         "type": "scatter"
        },
        {
         "hovertemplate": "<b>%{hovertext}</b><br><br>Baseline=Oral Session 3C: Natural Language Processing<br>tsne_0=%{x}<br>tsne_1=%{y}<extra></extra>",
         "hovertext": [
          "PV-Tuning_ Beyond Straight-Through Estimation for Extreme LLM Compression",
          "LLM Evaluators Recognize and Favor Their Own Generations",
          "Unlocking the Capabilities of Thought_ A Reasoning Boundary Framework to Quantify and Optimize Chain-of-Thought"
         ],
         "legendgroup": "Oral Session 3C: Natural Language Processing",
         "marker": {
          "color": "#00A08B",
          "symbol": "circle"
         },
         "mode": "markers",
         "name": "Oral Session 3C: Natural Language Processing",
         "orientation": "v",
         "showlegend": true,
         "x": {
          "dtype": "f4",
          "bdata": "mK58wN0m+cCFhsfA"
         },
         "xaxis": "x",
         "y": {
          "dtype": "f4",
          "bdata": "hGeLv7fO0r+/RgHA"
         },
         "yaxis": "y",
         "type": "scatter"
        },
        {
         "hovertemplate": "<b>%{hovertext}</b><br><br>Baseline=Oral Session 3D: Natural Language Processing<br>tsne_0=%{x}<br>tsne_1=%{y}<extra></extra>",
         "hovertext": [
          "Divide-and-Conquer Meets Consensus_ Unleashing the Power of Functions in Code Generation",
          "DuQuant_ Distributing Outliers via Dual Transformation Makes Stronger Quantized LLMs",
          "Maximum Entropy Inverse Reinforcement Learning of Diffusion Models with Energy-Based Models"
         ],
         "legendgroup": "Oral Session 3D: Natural Language Processing",
         "marker": {
          "color": "#FB00D1",
          "symbol": "circle"
         },
         "mode": "markers",
         "name": "Oral Session 3D: Natural Language Processing",
         "orientation": "v",
         "showlegend": true,
         "x": {
          "dtype": "f4",
          "bdata": "iqrOwCiscsBwgKjA"
         },
         "xaxis": "x",
         "y": {
          "dtype": "f4",
          "bdata": "RIARwE2RoL8YLAhA"
         },
         "yaxis": "y",
         "type": "scatter"
        },
        {
         "hovertemplate": "<b>%{hovertext}</b><br><br>Baseline=Oral Session 4B: Diffusion-based Models<br>tsne_0=%{x}<br>tsne_1=%{y}<extra></extra>",
         "hovertext": [
          "CAT3D_ Create Anything in 3D with Multi-View Diffusion Models",
          "Stylus_ Automatic Adapter Selection for Diffusion Models",
          "Guiding a Diffusion Model with a Bad Version of Itself"
         ],
         "legendgroup": "Oral Session 4B: Diffusion-based Models",
         "marker": {
          "color": "#FC0080",
          "symbol": "circle"
         },
         "mode": "markers",
         "name": "Oral Session 4B: Diffusion-based Models",
         "orientation": "v",
         "showlegend": true,
         "x": {
          "dtype": "f4",
          "bdata": "u15owH+0ocA0uqHA"
         },
         "xaxis": "x",
         "y": {
          "dtype": "f4",
          "bdata": "3jRXP1YQkr9+XJ0/"
         },
         "yaxis": "y",
         "type": "scatter"
        },
        {
         "hovertemplate": "<b>%{hovertext}</b><br><br>Baseline=Oral Session 4C: Diffusion-based Models, Mathematics<br>tsne_0=%{x}<br>tsne_1=%{y}<extra></extra>",
         "hovertext": [
          "DenoiseRep_ Denoising Model for Representation Learning",
          "Improved Distribution Matching Distillation for Fast Image Synthesis",
          "OpenMathInstruct-1_ A 1.8 Million Math Instruction Tuning Dataset"
         ],
         "legendgroup": "Oral Session 4C: Diffusion-based Models, Mathematics",
         "marker": {
          "color": "#B2828D",
          "symbol": "circle"
         },
         "mode": "markers",
         "name": "Oral Session 4C: Diffusion-based Models, Mathematics",
         "orientation": "v",
         "showlegend": true,
         "x": {
          "dtype": "f4",
          "bdata": "wImHwJ8Mm8BmPM/A"
         },
         "xaxis": "x",
         "y": {
          "dtype": "f4",
          "bdata": "siS1P3dSgD/NzwLA"
         },
         "yaxis": "y",
         "type": "scatter"
        },
        {
         "hovertemplate": "<b>%{hovertext}</b><br><br>Baseline=Oral Session 5A: Graph Neural Networks<br>tsne_0=%{x}<br>tsne_1=%{y}<extra></extra>",
         "hovertext": [
          "Learning rigid-body simulators over implicit shapes for large-scale scenes and vision",
          "Weisfeiler and Leman Go Loopy_ A New Hierarchy for Graph Representational Learning",
          "Scale Equivariant Graph Metanetworks"
         ],
         "legendgroup": "Oral Session 5A: Graph Neural Networks",
         "marker": {
          "color": "#6C7C32",
          "symbol": "circle"
         },
         "mode": "markers",
         "name": "Oral Session 5A: Graph Neural Networks",
         "orientation": "v",
         "showlegend": true,
         "x": {
          "dtype": "f4",
          "bdata": "o7QkwPFGB8ETPNrA"
         },
         "xaxis": "x",
         "y": {
          "dtype": "f4",
          "bdata": "BMezP10NyD9hjd8/"
         },
         "yaxis": "y",
         "type": "scatter"
        },
        {
         "hovertemplate": "<b>%{hovertext}</b><br><br>Baseline=Oral Session 4D: Machine Vision<br>tsne_0=%{x}<br>tsne_1=%{y}<extra></extra>",
         "hovertext": [
          "GIC_ Gaussian-Informed Continuum for Physical Property Identification and Simulation",
          "MeshFormer _ High-Quality Mesh Generation with 3D-Guided Reconstruction Model",
          "E2E-MFD_ Towards End-to-End Synchronous Multimodal Fusion Detection"
         ],
         "legendgroup": "Oral Session 4D: Machine Vision",
         "marker": {
          "color": "#778AAE",
          "symbol": "circle"
         },
         "mode": "markers",
         "name": "Oral Session 4D: Machine Vision",
         "orientation": "v",
         "showlegend": true,
         "x": {
          "dtype": "f4",
          "bdata": "9TFIwHPLY8Cv43jA"
         },
         "xaxis": "x",
         "y": {
          "dtype": "f4",
          "bdata": "wiHBP3M/Wj8YNNo/"
         },
         "yaxis": "y",
         "type": "scatter"
        },
        {
         "hovertemplate": "<b>%{hovertext}</b><br><br>Baseline=Oral Session 5B: Graph Neural Networks, Causal Inference<br>tsne_0=%{x}<br>tsne_1=%{y}<extra></extra>",
         "hovertext": [
          "Exploitation of a Latent Mechanism in Graph Contrastive Learning_ Representation Scattering",
          "Do Finetti_ On Causal Effects for Exchangeable Data",
          "Identification and Estimation of the Bi-Directional MR with Some Invalid Instruments"
         ],
         "legendgroup": "Oral Session 5B: Graph Neural Networks, Causal Inference",
         "marker": {
          "color": "#862A16",
          "symbol": "circle"
         },
         "mode": "markers",
         "name": "Oral Session 5B: Graph Neural Networks, Causal Inference",
         "orientation": "v",
         "showlegend": true,
         "x": {
          "dtype": "f4",
          "bdata": "givHwEurE8FdHBvB"
         },
         "xaxis": "x",
         "y": {
          "dtype": "f4",
          "bdata": "5IaZP475GUCmhA9A"
         },
         "yaxis": "y",
         "type": "scatter"
        },
        {
         "hovertemplate": "<b>%{hovertext}</b><br><br>Baseline=Oral Session 5C: Machine Vision<br>tsne_0=%{x}<br>tsne_1=%{y}<extra></extra>",
         "hovertext": [
          "Flipped Classroom_ Aligning Teacher Attention with Student in Generalized Category Discovery",
          "Convolutional Differentiable Logic Gate Networks",
          "Cambrian-1_ A Fully Open, Vision-Centric Exploration of Multimodal LLMs"
         ],
         "legendgroup": "Oral Session 5C: Machine Vision",
         "marker": {
          "color": "#A777F1",
          "symbol": "circle"
         },
         "mode": "markers",
         "name": "Oral Session 5C: Machine Vision",
         "orientation": "v",
         "showlegend": true,
         "x": {
          "dtype": "f4",
          "bdata": "h+S5wB+5J8ALHqHA"
         },
         "xaxis": "x",
         "y": {
          "dtype": "f4",
          "bdata": "o3NDPxgAzr5D7NO/"
         },
         "yaxis": "y",
         "type": "scatter"
        },
        {
         "hovertemplate": "<b>%{hovertext}</b><br><br>Baseline=Oral Session 5D: Machine Learning and Science<br>tsne_0=%{x}<br>tsne_1=%{y}<extra></extra>",
         "hovertext": [
          "Get Rid of Isolation_ A Continuous Multi-task Spatio-Temporal Learning Framework",
          "Stochastic Taylor Derivative Estimator_ Efficient amortization for arbitrary differential operators",
          "Learning Formal Mathematics From Intrinsic Motivation"
         ],
         "legendgroup": "Oral Session 5D: Machine Learning and Science",
         "marker": {
          "color": "#620042",
          "symbol": "circle"
         },
         "mode": "markers",
         "name": "Oral Session 5D: Machine Learning and Science",
         "orientation": "v",
         "showlegend": true,
         "x": {
          "dtype": "f4",
          "bdata": "GmdswBYIwcC00dzA"
         },
         "xaxis": "x",
         "y": {
          "dtype": "f4",
          "bdata": "SWEfQEqJTECJGyHA"
         },
         "yaxis": "y",
         "type": "scatter"
        },
        {
         "hovertemplate": "<b>%{hovertext}</b><br><br>Baseline=Oral Session 6A: Machine Learning and Science, Safety<br>tsne_0=%{x}<br>tsne_1=%{y}<extra></extra>",
         "hovertext": [
          "Neural Pfaffians_ Solving Many Many-Electron Schrödinger Equations",
          "MDAgents_ An Adaptive Collaboration of LLMs for Medical Decision-Making",
          "Graph Diffusion Transformers for Multi-Conditional Molecular Generation"
         ],
         "legendgroup": "Oral Session 6A: Machine Learning and Science, Safety",
         "marker": {
          "color": "#1616A7",
          "symbol": "circle"
         },
         "mode": "markers",
         "name": "Oral Session 6A: Machine Learning and Science, Safety",
         "orientation": "v",
         "showlegend": true,
         "x": {
          "dtype": "f4",
          "bdata": "agwOwU+y8sCJUK/A"
         },
         "xaxis": "x",
         "y": {
          "dtype": "f4",
          "bdata": "IatsP8zbeMC3Wsc/"
         },
         "yaxis": "y",
         "type": "scatter"
        },
        {
         "hovertemplate": "<b>%{hovertext}</b><br><br>Baseline=Oral Session 6B: Safety, New Data<br>tsne_0=%{x}<br>tsne_1=%{y}<extra></extra>",
         "hovertext": [
          "Aligner_ Efficient Alignment by Learning to Correct",
          "Bayesian-guided Label Mapping for Visual Reprogramming",
          "A Taxonomy of Challenges to Curating Fair Datasets"
         ],
         "legendgroup": "Oral Session 6B: Safety, New Data",
         "marker": {
          "color": "#DA60CA",
          "symbol": "circle"
         },
         "mode": "markers",
         "name": "Oral Session 6B: Safety, New Data",
         "orientation": "v",
         "showlegend": true,
         "x": {
          "dtype": "f4",
          "bdata": "r/rjwBZ8l8CMmg7B"
         },
         "xaxis": "x",
         "y": {
          "dtype": "f4",
          "bdata": "Dp/AvxjxO7+Z1Ne/"
         },
         "yaxis": "y",
         "type": "scatter"
        },
        {
         "hovertemplate": "<b>%{hovertext}</b><br><br>Baseline=Oral Session 6D: Deep Learning Architecture, Infrastructure<br>tsne_0=%{x}<br>tsne_1=%{y}<extra></extra>",
         "hovertext": [
          "DapperFL_ Domain Adaptive Federated Learning with Model Fusion Pruning for Edge Devices",
          "You Only Cache Once_ Decoder-Decoder Architectures for Language Models",
          "MetaLA_ Unified Optimal Linear Approximation to Softmax Attention Map"
         ],
         "legendgroup": "Oral Session 6D: Deep Learning Architecture, Infrastructure",
         "marker": {
          "color": "#6C4516",
          "symbol": "circle"
         },
         "mode": "markers",
         "name": "Oral Session 6D: Deep Learning Architecture, Infrastructure",
         "orientation": "v",
         "showlegend": true,
         "x": {
          "dtype": "f4",
          "bdata": "xWmRwJ35s8BxsLbA"
         },
         "xaxis": "x",
         "y": {
          "dtype": "f4",
          "bdata": "NuocQILhCb/d+eC+"
         },
         "yaxis": "y",
         "type": "scatter"
        },
        {
         "hovertemplate": "<b>%{hovertext}</b><br><br>Baseline=Oral Session 4A: Natural Language Processing<br>tsne_0=%{x}<br>tsne_1=%{y}<extra></extra>",
         "hovertext": [
          "DevBench_ A multimodal developmental benchmark for language learning",
          "CVQA_ Culturally-diverse Multilingual Visual Question Answering Benchmark",
          "LINGOLY_ A Benchmark of Olympiad-Level Linguistic Reasoning Puzzles in Low Resource and Extinct Languages"
         ],
         "legendgroup": "Oral Session 4A: Natural Language Processing",
         "marker": {
          "color": "#0D2A63",
          "symbol": "circle"
         },
         "mode": "markers",
         "name": "Oral Session 4A: Natural Language Processing",
         "orientation": "v",
         "showlegend": true,
         "x": {
          "dtype": "f4",
          "bdata": "x96VwBQKBcFsnb3A"
         },
         "xaxis": "x",
         "y": {
          "dtype": "f4",
          "bdata": "ZzcSwG5BMsDhf1zA"
         },
         "yaxis": "y",
         "type": "scatter"
        },
        {
         "hovertemplate": "<b>%{hovertext}</b><br><br>Baseline=Oral Session 6C: New Data<br>tsne_0=%{x}<br>tsne_1=%{y}<extra></extra>",
         "hovertext": [
          "MedCalc-Bench_ Evaluating Large Language Models for Medical Calculations",
          "Brain Treebank_ Large-scale intracranial recordings from naturalistic language stimuli",
          "ChaosBench_ A Multi-Channel, Physics-Based Benchmark for Subseasonal-to-Seasonal Climate Prediction"
         ],
         "legendgroup": "Oral Session 6C: New Data",
         "marker": {
          "color": "#AF0038",
          "symbol": "circle"
         },
         "mode": "markers",
         "name": "Oral Session 6C: New Data",
         "orientation": "v",
         "showlegend": true,
         "x": {
          "dtype": "f4",
          "bdata": "hfv2wNezWsAoaD3A"
         },
         "xaxis": "x",
         "y": {
          "dtype": "f4",
          "bdata": "ha+AwHlrLsAqUDZA"
         },
         "yaxis": "y",
         "type": "scatter"
        }
       ],
       "layout": {
        "template": {
         "data": {
          "histogram2dcontour": [
           {
            "type": "histogram2dcontour",
            "colorbar": {
             "outlinewidth": 0,
             "ticks": ""
            },
            "colorscale": [
             [
              0.0,
              "#0d0887"
             ],
             [
              0.1111111111111111,
              "#46039f"
             ],
             [
              0.2222222222222222,
              "#7201a8"
             ],
             [
              0.3333333333333333,
              "#9c179e"
             ],
             [
              0.4444444444444444,
              "#bd3786"
             ],
             [
              0.5555555555555556,
              "#d8576b"
             ],
             [
              0.6666666666666666,
              "#ed7953"
             ],
             [
              0.7777777777777778,
              "#fb9f3a"
             ],
             [
              0.8888888888888888,
              "#fdca26"
             ],
             [
              1.0,
              "#f0f921"
             ]
            ]
           }
          ],
          "choropleth": [
           {
            "type": "choropleth",
            "colorbar": {
             "outlinewidth": 0,
             "ticks": ""
            }
           }
          ],
          "histogram2d": [
           {
            "type": "histogram2d",
            "colorbar": {
             "outlinewidth": 0,
             "ticks": ""
            },
            "colorscale": [
             [
              0.0,
              "#0d0887"
             ],
             [
              0.1111111111111111,
              "#46039f"
             ],
             [
              0.2222222222222222,
              "#7201a8"
             ],
             [
              0.3333333333333333,
              "#9c179e"
             ],
             [
              0.4444444444444444,
              "#bd3786"
             ],
             [
              0.5555555555555556,
              "#d8576b"
             ],
             [
              0.6666666666666666,
              "#ed7953"
             ],
             [
              0.7777777777777778,
              "#fb9f3a"
             ],
             [
              0.8888888888888888,
              "#fdca26"
             ],
             [
              1.0,
              "#f0f921"
             ]
            ]
           }
          ],
          "heatmap": [
           {
            "type": "heatmap",
            "colorbar": {
             "outlinewidth": 0,
             "ticks": ""
            },
            "colorscale": [
             [
              0.0,
              "#0d0887"
             ],
             [
              0.1111111111111111,
              "#46039f"
             ],
             [
              0.2222222222222222,
              "#7201a8"
             ],
             [
              0.3333333333333333,
              "#9c179e"
             ],
             [
              0.4444444444444444,
              "#bd3786"
             ],
             [
              0.5555555555555556,
              "#d8576b"
             ],
             [
              0.6666666666666666,
              "#ed7953"
             ],
             [
              0.7777777777777778,
              "#fb9f3a"
             ],
             [
              0.8888888888888888,
              "#fdca26"
             ],
             [
              1.0,
              "#f0f921"
             ]
            ]
           }
          ],
          "contourcarpet": [
           {
            "type": "contourcarpet",
            "colorbar": {
             "outlinewidth": 0,
             "ticks": ""
            }
           }
          ],
          "contour": [
           {
            "type": "contour",
            "colorbar": {
             "outlinewidth": 0,
             "ticks": ""
            },
            "colorscale": [
             [
              0.0,
              "#0d0887"
             ],
             [
              0.1111111111111111,
              "#46039f"
             ],
             [
              0.2222222222222222,
              "#7201a8"
             ],
             [
              0.3333333333333333,
              "#9c179e"
             ],
             [
              0.4444444444444444,
              "#bd3786"
             ],
             [
              0.5555555555555556,
              "#d8576b"
             ],
             [
              0.6666666666666666,
              "#ed7953"
             ],
             [
              0.7777777777777778,
              "#fb9f3a"
             ],
             [
              0.8888888888888888,
              "#fdca26"
             ],
             [
              1.0,
              "#f0f921"
             ]
            ]
           }
          ],
          "surface": [
           {
            "type": "surface",
            "colorbar": {
             "outlinewidth": 0,
             "ticks": ""
            },
            "colorscale": [
             [
              0.0,
              "#0d0887"
             ],
             [
              0.1111111111111111,
              "#46039f"
             ],
             [
              0.2222222222222222,
              "#7201a8"
             ],
             [
              0.3333333333333333,
              "#9c179e"
             ],
             [
              0.4444444444444444,
              "#bd3786"
             ],
             [
              0.5555555555555556,
              "#d8576b"
             ],
             [
              0.6666666666666666,
              "#ed7953"
             ],
             [
              0.7777777777777778,
              "#fb9f3a"
             ],
             [
              0.8888888888888888,
              "#fdca26"
             ],
             [
              1.0,
              "#f0f921"
             ]
            ]
           }
          ],
          "mesh3d": [
           {
            "type": "mesh3d",
            "colorbar": {
             "outlinewidth": 0,
             "ticks": ""
            }
           }
          ],
          "scatter": [
           {
            "marker": {
             "line": {
              "color": "#283442"
             }
            },
            "type": "scatter"
           }
          ],
          "parcoords": [
           {
            "type": "parcoords",
            "line": {
             "colorbar": {
              "outlinewidth": 0,
              "ticks": ""
             }
            }
           }
          ],
          "scatterpolargl": [
           {
            "type": "scatterpolargl",
            "marker": {
             "colorbar": {
              "outlinewidth": 0,
              "ticks": ""
             }
            }
           }
          ],
          "bar": [
           {
            "error_x": {
             "color": "#f2f5fa"
            },
            "error_y": {
             "color": "#f2f5fa"
            },
            "marker": {
             "line": {
              "color": "rgb(17,17,17)",
              "width": 0.5
             },
             "pattern": {
              "fillmode": "overlay",
              "size": 10,
              "solidity": 0.2
             }
            },
            "type": "bar"
           }
          ],
          "scattergeo": [
           {
            "type": "scattergeo",
            "marker": {
             "colorbar": {
              "outlinewidth": 0,
              "ticks": ""
             }
            }
           }
          ],
          "scatterpolar": [
           {
            "type": "scatterpolar",
            "marker": {
             "colorbar": {
              "outlinewidth": 0,
              "ticks": ""
             }
            }
           }
          ],
          "histogram": [
           {
            "marker": {
             "pattern": {
              "fillmode": "overlay",
              "size": 10,
              "solidity": 0.2
             }
            },
            "type": "histogram"
           }
          ],
          "scattergl": [
           {
            "marker": {
             "line": {
              "color": "#283442"
             }
            },
            "type": "scattergl"
           }
          ],
          "scatter3d": [
           {
            "type": "scatter3d",
            "line": {
             "colorbar": {
              "outlinewidth": 0,
              "ticks": ""
             }
            },
            "marker": {
             "colorbar": {
              "outlinewidth": 0,
              "ticks": ""
             }
            }
           }
          ],
          "scattermap": [
           {
            "type": "scattermap",
            "marker": {
             "colorbar": {
              "outlinewidth": 0,
              "ticks": ""
             }
            }
           }
          ],
          "scattermapbox": [
           {
            "type": "scattermapbox",
            "marker": {
             "colorbar": {
              "outlinewidth": 0,
              "ticks": ""
             }
            }
           }
          ],
          "scatterternary": [
           {
            "type": "scatterternary",
            "marker": {
             "colorbar": {
              "outlinewidth": 0,
              "ticks": ""
             }
            }
           }
          ],
          "scattercarpet": [
           {
            "type": "scattercarpet",
            "marker": {
             "colorbar": {
              "outlinewidth": 0,
              "ticks": ""
             }
            }
           }
          ],
          "carpet": [
           {
            "aaxis": {
             "endlinecolor": "#A2B1C6",
             "gridcolor": "#506784",
             "linecolor": "#506784",
             "minorgridcolor": "#506784",
             "startlinecolor": "#A2B1C6"
            },
            "baxis": {
             "endlinecolor": "#A2B1C6",
             "gridcolor": "#506784",
             "linecolor": "#506784",
             "minorgridcolor": "#506784",
             "startlinecolor": "#A2B1C6"
            },
            "type": "carpet"
           }
          ],
          "table": [
           {
            "cells": {
             "fill": {
              "color": "#506784"
             },
             "line": {
              "color": "rgb(17,17,17)"
             }
            },
            "header": {
             "fill": {
              "color": "#2a3f5f"
             },
             "line": {
              "color": "rgb(17,17,17)"
             }
            },
            "type": "table"
           }
          ],
          "barpolar": [
           {
            "marker": {
             "line": {
              "color": "rgb(17,17,17)",
              "width": 0.5
             },
             "pattern": {
              "fillmode": "overlay",
              "size": 10,
              "solidity": 0.2
             }
            },
            "type": "barpolar"
           }
          ],
          "pie": [
           {
            "automargin": true,
            "type": "pie"
           }
          ]
         },
         "layout": {
          "autotypenumbers": "strict",
          "colorway": [
           "#636efa",
           "#EF553B",
           "#00cc96",
           "#ab63fa",
           "#FFA15A",
           "#19d3f3",
           "#FF6692",
           "#B6E880",
           "#FF97FF",
           "#FECB52"
          ],
          "font": {
           "color": "#f2f5fa"
          },
          "hovermode": "closest",
          "hoverlabel": {
           "align": "left"
          },
          "paper_bgcolor": "rgb(17,17,17)",
          "plot_bgcolor": "rgb(17,17,17)",
          "polar": {
           "bgcolor": "rgb(17,17,17)",
           "angularaxis": {
            "gridcolor": "#506784",
            "linecolor": "#506784",
            "ticks": ""
           },
           "radialaxis": {
            "gridcolor": "#506784",
            "linecolor": "#506784",
            "ticks": ""
           }
          },
          "ternary": {
           "bgcolor": "rgb(17,17,17)",
           "aaxis": {
            "gridcolor": "#506784",
            "linecolor": "#506784",
            "ticks": ""
           },
           "baxis": {
            "gridcolor": "#506784",
            "linecolor": "#506784",
            "ticks": ""
           },
           "caxis": {
            "gridcolor": "#506784",
            "linecolor": "#506784",
            "ticks": ""
           }
          },
          "coloraxis": {
           "colorbar": {
            "outlinewidth": 0,
            "ticks": ""
           }
          },
          "colorscale": {
           "sequential": [
            [
             0.0,
             "#0d0887"
            ],
            [
             0.1111111111111111,
             "#46039f"
            ],
            [
             0.2222222222222222,
             "#7201a8"
            ],
            [
             0.3333333333333333,
             "#9c179e"
            ],
            [
             0.4444444444444444,
             "#bd3786"
            ],
            [
             0.5555555555555556,
             "#d8576b"
            ],
            [
             0.6666666666666666,
             "#ed7953"
            ],
            [
             0.7777777777777778,
             "#fb9f3a"
            ],
            [
             0.8888888888888888,
             "#fdca26"
            ],
            [
             1.0,
             "#f0f921"
            ]
           ],
           "sequentialminus": [
            [
             0.0,
             "#0d0887"
            ],
            [
             0.1111111111111111,
             "#46039f"
            ],
            [
             0.2222222222222222,
             "#7201a8"
            ],
            [
             0.3333333333333333,
             "#9c179e"
            ],
            [
             0.4444444444444444,
             "#bd3786"
            ],
            [
             0.5555555555555556,
             "#d8576b"
            ],
            [
             0.6666666666666666,
             "#ed7953"
            ],
            [
             0.7777777777777778,
             "#fb9f3a"
            ],
            [
             0.8888888888888888,
             "#fdca26"
            ],
            [
             1.0,
             "#f0f921"
            ]
           ],
           "diverging": [
            [
             0,
             "#8e0152"
            ],
            [
             0.1,
             "#c51b7d"
            ],
            [
             0.2,
             "#de77ae"
            ],
            [
             0.3,
             "#f1b6da"
            ],
            [
             0.4,
             "#fde0ef"
            ],
            [
             0.5,
             "#f7f7f7"
            ],
            [
             0.6,
             "#e6f5d0"
            ],
            [
             0.7,
             "#b8e186"
            ],
            [
             0.8,
             "#7fbc41"
            ],
            [
             0.9,
             "#4d9221"
            ],
            [
             1,
             "#276419"
            ]
           ]
          },
          "xaxis": {
           "gridcolor": "#283442",
           "linecolor": "#506784",
           "ticks": "",
           "title": {
            "standoff": 15
           },
           "zerolinecolor": "#283442",
           "automargin": true,
           "zerolinewidth": 2
          },
          "yaxis": {
           "gridcolor": "#283442",
           "linecolor": "#506784",
           "ticks": "",
           "title": {
            "standoff": 15
           },
           "zerolinecolor": "#283442",
           "automargin": true,
           "zerolinewidth": 2
          },
          "scene": {
           "xaxis": {
            "backgroundcolor": "rgb(17,17,17)",
            "gridcolor": "#506784",
            "linecolor": "#506784",
            "showbackground": true,
            "ticks": "",
            "zerolinecolor": "#C8D4E3",
            "gridwidth": 2
           },
           "yaxis": {
            "backgroundcolor": "rgb(17,17,17)",
            "gridcolor": "#506784",
            "linecolor": "#506784",
            "showbackground": true,
            "ticks": "",
            "zerolinecolor": "#C8D4E3",
            "gridwidth": 2
           },
           "zaxis": {
            "backgroundcolor": "rgb(17,17,17)",
            "gridcolor": "#506784",
            "linecolor": "#506784",
            "showbackground": true,
            "ticks": "",
            "zerolinecolor": "#C8D4E3",
            "gridwidth": 2
           }
          },
          "shapedefaults": {
           "line": {
            "color": "#f2f5fa"
           }
          },
          "annotationdefaults": {
           "arrowcolor": "#f2f5fa",
           "arrowhead": 0,
           "arrowwidth": 1
          },
          "geo": {
           "bgcolor": "rgb(17,17,17)",
           "landcolor": "rgb(17,17,17)",
           "subunitcolor": "#506784",
           "showland": true,
           "showlakes": true,
           "lakecolor": "rgb(17,17,17)"
          },
          "title": {
           "x": 0.05
          },
          "updatemenudefaults": {
           "bgcolor": "#506784",
           "borderwidth": 0
          },
          "sliderdefaults": {
           "bgcolor": "#C8D4E3",
           "borderwidth": 1,
           "bordercolor": "rgb(17,17,17)",
           "tickwidth": 0
          },
          "mapbox": {
           "style": "dark"
          }
         }
        },
        "xaxis": {
         "anchor": "y",
         "domain": [
          0.0,
          1.0
         ],
         "title": {
          "text": "tsne_0"
         }
        },
        "yaxis": {
         "anchor": "x",
         "domain": [
          0.0,
          1.0
         ],
         "title": {
          "text": "tsne_1"
         }
        },
        "legend": {
         "title": {
          "text": "Baseline"
         },
         "tracegroupgap": 0
        },
        "title": {
         "text": "t-SNE Clustering — Baseline,"
        }
       },
       "config": {
        "plotlyServerURL": "https://plot.ly"
       }
      }
     },
     "metadata": {},
     "output_type": "display_data"
    },
    {
     "data": {
      "application/vnd.plotly.v1+json": {
       "data": [
        {
         "hovertemplate": "<b>%{hovertext}</b><br><br>GreedyCohesive=Oral Session 1A: Neuroscience and Intepretability<br>tsne_0=%{x}<br>tsne_1=%{y}<extra></extra>",
         "hovertext": [
          "Learning to grok_ Emergence of in-context learning and skill composition in modular arithmetic tasks",
          "Brain Treebank_ Large-scale intracranial recordings from naturalistic language stimuli",
          "A Taxonomy of Challenges to Curating Fair Datasets"
         ],
         "legendgroup": "Oral Session 1A: Neuroscience and Intepretability",
         "marker": {
          "color": "#2E91E5",
          "symbol": "circle"
         },
         "mode": "markers",
         "name": "Oral Session 1A: Neuroscience and Intepretability",
         "orientation": "v",
         "showlegend": true,
         "x": {
          "dtype": "f4",
          "bdata": "HgAWwNezWsCMmg7B"
         },
         "xaxis": "x",
         "y": {
          "dtype": "f4",
          "bdata": "BQYCwHlrLsCZ1Ne/"
         },
         "yaxis": "y",
         "type": "scatter"
        },
        {
         "hovertemplate": "<b>%{hovertext}</b><br><br>GreedyCohesive=Oral Session 1D: Learning Theory<br>tsne_0=%{x}<br>tsne_1=%{y}<extra></extra>",
         "hovertext": [
          "Generalization Error Bounds for Two-stage Recommender Systems with Tree Structure",
          "Human Expertise in Algorithmic Prediction",
          "Optimal Parallelization of Boosting"
         ],
         "legendgroup": "Oral Session 1D: Learning Theory",
         "marker": {
          "color": "#E15F99",
          "symbol": "circle"
         },
         "mode": "markers",
         "name": "Oral Session 1D: Learning Theory",
         "orientation": "v",
         "showlegend": true,
         "x": {
          "dtype": "f4",
          "bdata": "9x8AwTAuBMEMYQLB"
         },
         "xaxis": "x",
         "y": {
          "dtype": "f4",
          "bdata": "vbtEQOLnOkCkXV5A"
         },
         "yaxis": "y",
         "type": "scatter"
        },
        {
         "hovertemplate": "<b>%{hovertext}</b><br><br>GreedyCohesive=Oral Session 6C: New Data<br>tsne_0=%{x}<br>tsne_1=%{y}<extra></extra>",
         "hovertext": [
          "The Road Less Scheduled",
          "Neural Pfaffians_ Solving Many Many-Electron Schrödinger Equations",
          "MedCalc-Bench_ Evaluating Large Language Models for Medical Calculations"
         ],
         "legendgroup": "Oral Session 6C: New Data",
         "marker": {
          "color": "#1CA71C",
          "symbol": "circle"
         },
         "mode": "markers",
         "name": "Oral Session 6C: New Data",
         "orientation": "v",
         "showlegend": true,
         "x": {
          "dtype": "f4",
          "bdata": "67MPwWoMDsGF+/bA"
         },
         "xaxis": "x",
         "y": {
          "dtype": "f4",
          "bdata": "zaxnQCGrbD+Fr4DA"
         },
         "yaxis": "y",
         "type": "scatter"
        },
        {
         "hovertemplate": "<b>%{hovertext}</b><br><br>GreedyCohesive=Oral Session 1C: Optimization and Learning Theory<br>tsne_0=%{x}<br>tsne_1=%{y}<extra></extra>",
         "hovertext": [
          "Enhancing Preference-based Linear Bandits via Human Response Time",
          "Achieving Optimal Clustering in Gaussian Mixture Models with Anisotropic Covariance Structures",
          "Reinforcement Learning Under Latent Dynamics_ Toward Statistical and Algorithmic Modularity"
         ],
         "legendgroup": "Oral Session 1C: Optimization and Learning Theory",
         "marker": {
          "color": "#FB0D0D",
          "symbol": "circle"
         },
         "mode": "markers",
         "name": "Oral Session 1C: Optimization and Learning Theory",
         "orientation": "v",
         "showlegend": true,
         "x": {
          "dtype": "f4",
          "bdata": "mJkAwZD8/sAklwLB"
         },
         "xaxis": "x",
         "y": {
          "dtype": "f4",
          "bdata": "sWgiQHiQgUC5OnZA"
         },
         "yaxis": "y",
         "type": "scatter"
        },
        {
         "hovertemplate": "<b>%{hovertext}</b><br><br>GreedyCohesive=Oral Session 2C: Reinforcement Learning<br>tsne_0=%{x}<br>tsne_1=%{y}<extra></extra>",
         "hovertext": [
          "Improving Environment Novelty Quantification for Effective Unsupervised Environment Design",
          "Exploitation of a Latent Mechanism in Graph Contrastive Learning_ Representation Scattering",
          "SeeA__ Efficient Exploration-Enhanced A_ Search by Selective Sampling"
         ],
         "legendgroup": "Oral Session 2C: Reinforcement Learning",
         "marker": {
          "color": "#DA16FF",
          "symbol": "circle"
         },
         "mode": "markers",
         "name": "Oral Session 2C: Reinforcement Learning",
         "orientation": "v",
         "showlegend": true,
         "x": {
          "dtype": "f4",
          "bdata": "JtPewIIrx8BhXfHA"
         },
         "xaxis": "x",
         "y": {
          "dtype": "f4",
          "bdata": "X1ETP+SGmT8RKTI/"
         },
         "yaxis": "y",
         "type": "scatter"
        },
        {
         "hovertemplate": "<b>%{hovertext}</b><br><br>GreedyCohesive=Oral Session 3C: Natural Language Processing<br>tsne_0=%{x}<br>tsne_1=%{y}<extra></extra>",
         "hovertext": [
          "RL-GPT_ Integrating Reinforcement Learning and Code-as-policy",
          "Policy Learning from Tutorial Books via Understanding, Rehearsing and Introspecting",
          "Unlocking the Capabilities of Thought_ A Reasoning Boundary Framework to Quantify and Optimize Chain-of-Thought"
         ],
         "legendgroup": "Oral Session 3C: Natural Language Processing",
         "marker": {
          "color": "#222A2A",
          "symbol": "circle"
         },
         "mode": "markers",
         "name": "Oral Session 3C: Natural Language Processing",
         "orientation": "v",
         "showlegend": true,
         "x": {
          "dtype": "f4",
          "bdata": "/RXDwJcHwMCFhsfA"
         },
         "xaxis": "x",
         "y": {
          "dtype": "f4",
          "bdata": "Q6lawJhEhMC/RgHA"
         },
         "yaxis": "y",
         "type": "scatter"
        },
        {
         "hovertemplate": "<b>%{hovertext}</b><br><br>GreedyCohesive=Oral Session 2B: Reinforcement Learning<br>tsne_0=%{x}<br>tsne_1=%{y}<extra></extra>",
         "hovertext": [
          "Span-Based Optimal Sample Complexity for Weakly Communicating and General Average Reward MDPs",
          "The Sample-Communication Complexity Trade-off in Federated Q-Learning",
          "Statistical Efficiency of Distributional Temporal Difference Learning"
         ],
         "legendgroup": "Oral Session 2B: Reinforcement Learning",
         "marker": {
          "color": "#B68100",
          "symbol": "circle"
         },
         "mode": "markers",
         "name": "Oral Session 2B: Reinforcement Learning",
         "orientation": "v",
         "showlegend": true,
         "x": {
          "dtype": "f4",
          "bdata": "HBEEwW3oA8GCowXB"
         },
         "xaxis": "x",
         "y": {
          "dtype": "f4",
          "bdata": "d9CWQJPAjEATI5FA"
         },
         "yaxis": "y",
         "type": "scatter"
        },
        {
         "hovertemplate": "<b>%{hovertext}</b><br><br>GreedyCohesive=Oral Session 3D: Natural Language Processing<br>tsne_0=%{x}<br>tsne_1=%{y}<extra></extra>",
         "hovertext": [
          "Not All Tokens Are What You Need for Pretraining",
          "Divide-and-Conquer Meets Consensus_ Unleashing the Power of Functions in Code Generation",
          "OpenMathInstruct-1_ A 1.8 Million Math Instruction Tuning Dataset"
         ],
         "legendgroup": "Oral Session 3D: Natural Language Processing",
         "marker": {
          "color": "#750D86",
          "symbol": "circle"
         },
         "mode": "markers",
         "name": "Oral Session 3D: Natural Language Processing",
         "orientation": "v",
         "showlegend": true,
         "x": {
          "dtype": "f4",
          "bdata": "9kLEwIqqzsBmPM/A"
         },
         "xaxis": "x",
         "y": {
          "dtype": "f4",
          "bdata": "XnWzv0SAEcDNzwLA"
         },
         "yaxis": "y",
         "type": "scatter"
        },
        {
         "hovertemplate": "<b>%{hovertext}</b><br><br>GreedyCohesive=Oral Session 4A: Natural Language Processing<br>tsne_0=%{x}<br>tsne_1=%{y}<extra></extra>",
         "hovertext": [
          "Cracking the Code of Juxtaposition_ Can AI Models Understand the Humorous Contradictions",
          "LLM Evaluators Recognize and Favor Their Own Generations",
          "CVQA_ Culturally-diverse Multilingual Visual Question Answering Benchmark"
         ],
         "legendgroup": "Oral Session 4A: Natural Language Processing",
         "marker": {
          "color": "#EB663B",
          "symbol": "circle"
         },
         "mode": "markers",
         "name": "Oral Session 4A: Natural Language Processing",
         "orientation": "v",
         "showlegend": true,
         "x": {
          "dtype": "f4",
          "bdata": "1JybwN0m+cAUCgXB"
         },
         "xaxis": "x",
         "y": {
          "dtype": "f4",
          "bdata": "PoY5wLfO0r9uQTLA"
         },
         "yaxis": "y",
         "type": "scatter"
        },
        {
         "hovertemplate": "<b>%{hovertext}</b><br><br>GreedyCohesive=Oral Session 6B: Safety, New Data<br>tsne_0=%{x}<br>tsne_1=%{y}<extra></extra>",
         "hovertext": [
          "PV-Tuning_ Beyond Straight-Through Estimation for Extreme LLM Compression",
          "DuQuant_ Distributing Outliers via Dual Transformation Makes Stronger Quantized LLMs",
          "Bayesian-guided Label Mapping for Visual Reprogramming"
         ],
         "legendgroup": "Oral Session 6B: Safety, New Data",
         "marker": {
          "color": "#511CFB",
          "symbol": "circle"
         },
         "mode": "markers",
         "name": "Oral Session 6B: Safety, New Data",
         "orientation": "v",
         "showlegend": true,
         "x": {
          "dtype": "f4",
          "bdata": "mK58wCiscsAWfJfA"
         },
         "xaxis": "x",
         "y": {
          "dtype": "f4",
          "bdata": "hGeLv02RoL8Y8Tu/"
         },
         "yaxis": "y",
         "type": "scatter"
        },
        {
         "hovertemplate": "<b>%{hovertext}</b><br><br>GreedyCohesive=Oral Session 4D: Machine Vision<br>tsne_0=%{x}<br>tsne_1=%{y}<extra></extra>",
         "hovertext": [
          "CAT3D_ Create Anything in 3D with Multi-View Diffusion Models",
          "GIC_ Gaussian-Informed Continuum for Physical Property Identification and Simulation",
          "MeshFormer _ High-Quality Mesh Generation with 3D-Guided Reconstruction Model"
         ],
         "legendgroup": "Oral Session 4D: Machine Vision",
         "marker": {
          "color": "#00A08B",
          "symbol": "circle"
         },
         "mode": "markers",
         "name": "Oral Session 4D: Machine Vision",
         "orientation": "v",
         "showlegend": true,
         "x": {
          "dtype": "f4",
          "bdata": "u15owPUxSMBzy2PA"
         },
         "xaxis": "x",
         "y": {
          "dtype": "f4",
          "bdata": "3jRXP8IhwT9zP1o/"
         },
         "yaxis": "y",
         "type": "scatter"
        },
        {
         "hovertemplate": "<b>%{hovertext}</b><br><br>GreedyCohesive=Oral Session 5C: Machine Vision<br>tsne_0=%{x}<br>tsne_1=%{y}<extra></extra>",
         "hovertext": [
          "DenoiseRep_ Denoising Model for Representation Learning",
          "Flipped Classroom_ Aligning Teacher Attention with Student in Generalized Category Discovery",
          "E2E-MFD_ Towards End-to-End Synchronous Multimodal Fusion Detection"
         ],
         "legendgroup": "Oral Session 5C: Machine Vision",
         "marker": {
          "color": "#FB00D1",
          "symbol": "circle"
         },
         "mode": "markers",
         "name": "Oral Session 5C: Machine Vision",
         "orientation": "v",
         "showlegend": true,
         "x": {
          "dtype": "f4",
          "bdata": "wImHwIfkucCv43jA"
         },
         "xaxis": "x",
         "y": {
          "dtype": "f4",
          "bdata": "siS1P6NzQz8YNNo/"
         },
         "yaxis": "y",
         "type": "scatter"
        },
        {
         "hovertemplate": "<b>%{hovertext}</b><br><br>GreedyCohesive=Oral Session 6A: Machine Learning and Science, Safety<br>tsne_0=%{x}<br>tsne_1=%{y}<extra></extra>",
         "hovertext": [
          "Learning rigid-body simulators over implicit shapes for large-scale scenes and vision",
          "Graph Diffusion Transformers for Multi-Conditional Molecular Generation",
          "ChaosBench_ A Multi-Channel, Physics-Based Benchmark for Subseasonal-to-Seasonal Climate Prediction"
         ],
         "legendgroup": "Oral Session 6A: Machine Learning and Science, Safety",
         "marker": {
          "color": "#FC0080",
          "symbol": "circle"
         },
         "mode": "markers",
         "name": "Oral Session 6A: Machine Learning and Science, Safety",
         "orientation": "v",
         "showlegend": true,
         "x": {
          "dtype": "f4",
          "bdata": "o7QkwIlQr8AoaD3A"
         },
         "xaxis": "x",
         "y": {
          "dtype": "f4",
          "bdata": "BMezP7daxz8qUDZA"
         },
         "yaxis": "y",
         "type": "scatter"
        },
        {
         "hovertemplate": "<b>%{hovertext}</b><br><br>GreedyCohesive=Oral Session 3A: Generative Models<br>tsne_0=%{x}<br>tsne_1=%{y}<extra></extra>",
         "hovertext": [
          "Get Rid of Isolation_ A Continuous Multi-task Spatio-Temporal Learning Framework",
          "DapperFL_ Domain Adaptive Federated Learning with Model Fusion Pruning for Edge Devices",
          "HydraLoRA_ An Asymmetric LoRA Architecture for Efficient Fine-Tuning"
         ],
         "legendgroup": "Oral Session 3A: Generative Models",
         "marker": {
          "color": "#B2828D",
          "symbol": "circle"
         },
         "mode": "markers",
         "name": "Oral Session 3A: Generative Models",
         "orientation": "v",
         "showlegend": true,
         "x": {
          "dtype": "f4",
          "bdata": "GmdswMVpkcDi+b7A"
         },
         "xaxis": "x",
         "y": {
          "dtype": "f4",
          "bdata": "SWEfQDbqHEA3Xkm/"
         },
         "yaxis": "y",
         "type": "scatter"
        },
        {
         "hovertemplate": "<b>%{hovertext}</b><br><br>GreedyCohesive=Oral Session 1B: Human-AI Interaction<br>tsne_0=%{x}<br>tsne_1=%{y}<extra></extra>",
         "hovertext": [
          "Aligner_ Efficient Alignment by Learning to Correct",
          "Questioning the Survey Responses of Large Language Models",
          "The PRISM Alignment Dataset_ What Participatory, Representative and Individualised Human Feedback Reveals About the Subjective and Multicultural Alignment of Large Language Models"
         ],
         "legendgroup": "Oral Session 1B: Human-AI Interaction",
         "marker": {
          "color": "#6C7C32",
          "symbol": "circle"
         },
         "mode": "markers",
         "name": "Oral Session 1B: Human-AI Interaction",
         "orientation": "v",
         "showlegend": true,
         "x": {
          "dtype": "f4",
          "bdata": "r/rjwKLK+sAEf//A"
         },
         "xaxis": "x",
         "y": {
          "dtype": "f4",
          "bdata": "Dp/AvwG4yb9J4du/"
         },
         "yaxis": "y",
         "type": "scatter"
        },
        {
         "hovertemplate": "<b>%{hovertext}</b><br><br>GreedyCohesive=Oral Session 5B: Graph Neural Networks, Causal Inference<br>tsne_0=%{x}<br>tsne_1=%{y}<extra></extra>",
         "hovertext": [
          "Trading Place for Space_ Increasing Location Resolution Reduces Contextual Capacity in Hippocampal Codes",
          "Do Finetti_ On Causal Effects for Exchangeable Data",
          "Identification and Estimation of the Bi-Directional MR with Some Invalid Instruments"
         ],
         "legendgroup": "Oral Session 5B: Graph Neural Networks, Causal Inference",
         "marker": {
          "color": "#778AAE",
          "symbol": "circle"
         },
         "mode": "markers",
         "name": "Oral Session 5B: Graph Neural Networks, Causal Inference",
         "orientation": "v",
         "showlegend": true,
         "x": {
          "dtype": "f4",
          "bdata": "kcbjwEurE8FdHBvB"
         },
         "xaxis": "x",
         "y": {
          "dtype": "f4",
          "bdata": "i3g1QI75GUCmhA9A"
         },
         "yaxis": "y",
         "type": "scatter"
        },
        {
         "hovertemplate": "<b>%{hovertext}</b><br><br>GreedyCohesive=Oral Session 5D: Machine Learning and Science<br>tsne_0=%{x}<br>tsne_1=%{y}<extra></extra>",
         "hovertext": [
          "Learning diffusion at lightspeed",
          "Stochastic Taylor Derivative Estimator_ Efficient amortization for arbitrary differential operators",
          "Maximum Entropy Inverse Reinforcement Learning of Diffusion Models with Energy-Based Models"
         ],
         "legendgroup": "Oral Session 5D: Machine Learning and Science",
         "marker": {
          "color": "#862A16",
          "symbol": "circle"
         },
         "mode": "markers",
         "name": "Oral Session 5D: Machine Learning and Science",
         "orientation": "v",
         "showlegend": true,
         "x": {
          "dtype": "f4",
          "bdata": "W4HHwBYIwcBwgKjA"
         },
         "xaxis": "x",
         "y": {
          "dtype": "f4",
          "bdata": "wB45QEqJTEAYLAhA"
         },
         "yaxis": "y",
         "type": "scatter"
        },
        {
         "hovertemplate": "<b>%{hovertext}</b><br><br>GreedyCohesive=Oral Session 2D: Generative Models<br>tsne_0=%{x}<br>tsne_1=%{y}<extra></extra>",
         "hovertext": [
          "RG-SAN_ Rule-Guided Spatial Awareness Network for End-to-End 3D Referring Expression Segmentation",
          "VASA-1_ Lifelike Audio-Driven Talking Faces Generated in Real Time",
          "NeuroClips_ Towards High-fidelity and Smooth fMRI-to-Video Reconstruction"
         ],
         "legendgroup": "Oral Session 2D: Generative Models",
         "marker": {
          "color": "#A777F1",
          "symbol": "circle"
         },
         "mode": "markers",
         "name": "Oral Session 2D: Generative Models",
         "orientation": "v",
         "showlegend": true,
         "x": {
          "dtype": "f4",
          "bdata": "iDV2wIuihcDJoGTA"
         },
         "xaxis": "x",
         "y": {
          "dtype": "f4",
          "bdata": "vgfQO7WZvT4fZdI+"
         },
         "yaxis": "y",
         "type": "scatter"
        },
        {
         "hovertemplate": "<b>%{hovertext}</b><br><br>GreedyCohesive=Oral Session 3B: Natural Language Processing<br>tsne_0=%{x}<br>tsne_1=%{y}<extra></extra>",
         "hovertext": [
          "Decompose, Analyze and Rethink_ Solving Intricate Problems with Human-like Reasoning Cycle",
          "MDAgents_ An Adaptive Collaboration of LLMs for Medical Decision-Making",
          "Learning Formal Mathematics From Intrinsic Motivation"
         ],
         "legendgroup": "Oral Session 3B: Natural Language Processing",
         "marker": {
          "color": "#620042",
          "symbol": "circle"
         },
         "mode": "markers",
         "name": "Oral Session 3B: Natural Language Processing",
         "orientation": "v",
         "showlegend": true,
         "x": {
          "dtype": "f4",
          "bdata": "FhPIwE+y8sC00dzA"
         },
         "xaxis": "x",
         "y": {
          "dtype": "f4",
          "bdata": "MV0TwMzbeMCJGyHA"
         },
         "yaxis": "y",
         "type": "scatter"
        },
        {
         "hovertemplate": "<b>%{hovertext}</b><br><br>GreedyCohesive=Oral Session 4C: Diffusion-based Models, Mathematics<br>tsne_0=%{x}<br>tsne_1=%{y}<extra></extra>",
         "hovertext": [
          "Return of Unconditional Generation_ A Self-supervised Representation Generation Method",
          "Improved Distribution Matching Distillation for Fast Image Synthesis",
          "Guiding a Diffusion Model with a Bad Version of Itself"
         ],
         "legendgroup": "Oral Session 4C: Diffusion-based Models, Mathematics",
         "marker": {
          "color": "#1616A7",
          "symbol": "circle"
         },
         "mode": "markers",
         "name": "Oral Session 4C: Diffusion-based Models, Mathematics",
         "orientation": "v",
         "showlegend": true,
         "x": {
          "dtype": "f4",
          "bdata": "QDqcwJ8Mm8A0uqHA"
         },
         "xaxis": "x",
         "y": {
          "dtype": "f4",
          "bdata": "knFfP3dSgD9+XJ0/"
         },
         "yaxis": "y",
         "type": "scatter"
        },
        {
         "hovertemplate": "<b>%{hovertext}</b><br><br>GreedyCohesive=Oral Session 4B: Diffusion-based Models<br>tsne_0=%{x}<br>tsne_1=%{y}<extra></extra>",
         "hovertext": [
          "DevBench_ A multimodal developmental benchmark for language learning",
          "Stylus_ Automatic Adapter Selection for Diffusion Models",
          "Cambrian-1_ A Fully Open, Vision-Centric Exploration of Multimodal LLMs"
         ],
         "legendgroup": "Oral Session 4B: Diffusion-based Models",
         "marker": {
          "color": "#DA60CA",
          "symbol": "circle"
         },
         "mode": "markers",
         "name": "Oral Session 4B: Diffusion-based Models",
         "orientation": "v",
         "showlegend": true,
         "x": {
          "dtype": "f4",
          "bdata": "x96VwH+0ocALHqHA"
         },
         "xaxis": "x",
         "y": {
          "dtype": "f4",
          "bdata": "ZzcSwFYQkr9D7NO/"
         },
         "yaxis": "y",
         "type": "scatter"
        },
        {
         "hovertemplate": "<b>%{hovertext}</b><br><br>GreedyCohesive=Oral Session 5A: Graph Neural Networks<br>tsne_0=%{x}<br>tsne_1=%{y}<extra></extra>",
         "hovertext": [
          "Weisfeiler and Leman Go Loopy_ A New Hierarchy for Graph Representational Learning",
          "Convolutional Differentiable Logic Gate Networks",
          "Scale Equivariant Graph Metanetworks"
         ],
         "legendgroup": "Oral Session 5A: Graph Neural Networks",
         "marker": {
          "color": "#6C4516",
          "symbol": "circle"
         },
         "mode": "markers",
         "name": "Oral Session 5A: Graph Neural Networks",
         "orientation": "v",
         "showlegend": true,
         "x": {
          "dtype": "f4",
          "bdata": "8UYHwR+5J8ATPNrA"
         },
         "xaxis": "x",
         "y": {
          "dtype": "f4",
          "bdata": "XQ3IPxgAzr5hjd8/"
         },
         "yaxis": "y",
         "type": "scatter"
        },
        {
         "hovertemplate": "<b>%{hovertext}</b><br><br>GreedyCohesive=Oral Session 6D: Deep Learning Architecture, Infrastructure<br>tsne_0=%{x}<br>tsne_1=%{y}<extra></extra>",
         "hovertext": [
          "You Only Cache Once_ Decoder-Decoder Architectures for Language Models",
          "Visual Autoregressive Modeling_ Scalable Image Generation via Next-Scale Prediction",
          "MetaLA_ Unified Optimal Linear Approximation to Softmax Attention Map"
         ],
         "legendgroup": "Oral Session 6D: Deep Learning Architecture, Infrastructure",
         "marker": {
          "color": "#0D2A63",
          "symbol": "circle"
         },
         "mode": "markers",
         "name": "Oral Session 6D: Deep Learning Architecture, Infrastructure",
         "orientation": "v",
         "showlegend": true,
         "x": {
          "dtype": "f4",
          "bdata": "nfmzwMXNm8BxsLbA"
         },
         "xaxis": "x",
         "y": {
          "dtype": "f4",
          "bdata": "guEJv+oSED7d+eC+"
         },
         "yaxis": "y",
         "type": "scatter"
        },
        {
         "hovertemplate": "<b>%{hovertext}</b><br><br>GreedyCohesive=Oral Session 2A: Agents<br>tsne_0=%{x}<br>tsne_1=%{y}<extra></extra>",
         "hovertext": [
          "Embodied Agent Interface_ Benchmarking LLMs for Embodied Decision Making",
          "LINGOLY_ A Benchmark of Olympiad-Level Linguistic Reasoning Puzzles in Low Resource and Extinct Languages",
          "AgentBoard_ An Analytical Evaluation Board of Multi-turn LLM Agents"
         ],
         "legendgroup": "Oral Session 2A: Agents",
         "marker": {
          "color": "#AF0038",
          "symbol": "circle"
         },
         "mode": "markers",
         "name": "Oral Session 2A: Agents",
         "orientation": "v",
         "showlegend": true,
         "x": {
          "dtype": "f4",
          "bdata": "cRa0wGydvcCZhr3A"
         },
         "xaxis": "x",
         "y": {
          "dtype": "f4",
          "bdata": "xxxpwOF/XMB+eVzA"
         },
         "yaxis": "y",
         "type": "scatter"
        }
       ],
       "layout": {
        "template": {
         "data": {
          "histogram2dcontour": [
           {
            "type": "histogram2dcontour",
            "colorbar": {
             "outlinewidth": 0,
             "ticks": ""
            },
            "colorscale": [
             [
              0.0,
              "#0d0887"
             ],
             [
              0.1111111111111111,
              "#46039f"
             ],
             [
              0.2222222222222222,
              "#7201a8"
             ],
             [
              0.3333333333333333,
              "#9c179e"
             ],
             [
              0.4444444444444444,
              "#bd3786"
             ],
             [
              0.5555555555555556,
              "#d8576b"
             ],
             [
              0.6666666666666666,
              "#ed7953"
             ],
             [
              0.7777777777777778,
              "#fb9f3a"
             ],
             [
              0.8888888888888888,
              "#fdca26"
             ],
             [
              1.0,
              "#f0f921"
             ]
            ]
           }
          ],
          "choropleth": [
           {
            "type": "choropleth",
            "colorbar": {
             "outlinewidth": 0,
             "ticks": ""
            }
           }
          ],
          "histogram2d": [
           {
            "type": "histogram2d",
            "colorbar": {
             "outlinewidth": 0,
             "ticks": ""
            },
            "colorscale": [
             [
              0.0,
              "#0d0887"
             ],
             [
              0.1111111111111111,
              "#46039f"
             ],
             [
              0.2222222222222222,
              "#7201a8"
             ],
             [
              0.3333333333333333,
              "#9c179e"
             ],
             [
              0.4444444444444444,
              "#bd3786"
             ],
             [
              0.5555555555555556,
              "#d8576b"
             ],
             [
              0.6666666666666666,
              "#ed7953"
             ],
             [
              0.7777777777777778,
              "#fb9f3a"
             ],
             [
              0.8888888888888888,
              "#fdca26"
             ],
             [
              1.0,
              "#f0f921"
             ]
            ]
           }
          ],
          "heatmap": [
           {
            "type": "heatmap",
            "colorbar": {
             "outlinewidth": 0,
             "ticks": ""
            },
            "colorscale": [
             [
              0.0,
              "#0d0887"
             ],
             [
              0.1111111111111111,
              "#46039f"
             ],
             [
              0.2222222222222222,
              "#7201a8"
             ],
             [
              0.3333333333333333,
              "#9c179e"
             ],
             [
              0.4444444444444444,
              "#bd3786"
             ],
             [
              0.5555555555555556,
              "#d8576b"
             ],
             [
              0.6666666666666666,
              "#ed7953"
             ],
             [
              0.7777777777777778,
              "#fb9f3a"
             ],
             [
              0.8888888888888888,
              "#fdca26"
             ],
             [
              1.0,
              "#f0f921"
             ]
            ]
           }
          ],
          "contourcarpet": [
           {
            "type": "contourcarpet",
            "colorbar": {
             "outlinewidth": 0,
             "ticks": ""
            }
           }
          ],
          "contour": [
           {
            "type": "contour",
            "colorbar": {
             "outlinewidth": 0,
             "ticks": ""
            },
            "colorscale": [
             [
              0.0,
              "#0d0887"
             ],
             [
              0.1111111111111111,
              "#46039f"
             ],
             [
              0.2222222222222222,
              "#7201a8"
             ],
             [
              0.3333333333333333,
              "#9c179e"
             ],
             [
              0.4444444444444444,
              "#bd3786"
             ],
             [
              0.5555555555555556,
              "#d8576b"
             ],
             [
              0.6666666666666666,
              "#ed7953"
             ],
             [
              0.7777777777777778,
              "#fb9f3a"
             ],
             [
              0.8888888888888888,
              "#fdca26"
             ],
             [
              1.0,
              "#f0f921"
             ]
            ]
           }
          ],
          "surface": [
           {
            "type": "surface",
            "colorbar": {
             "outlinewidth": 0,
             "ticks": ""
            },
            "colorscale": [
             [
              0.0,
              "#0d0887"
             ],
             [
              0.1111111111111111,
              "#46039f"
             ],
             [
              0.2222222222222222,
              "#7201a8"
             ],
             [
              0.3333333333333333,
              "#9c179e"
             ],
             [
              0.4444444444444444,
              "#bd3786"
             ],
             [
              0.5555555555555556,
              "#d8576b"
             ],
             [
              0.6666666666666666,
              "#ed7953"
             ],
             [
              0.7777777777777778,
              "#fb9f3a"
             ],
             [
              0.8888888888888888,
              "#fdca26"
             ],
             [
              1.0,
              "#f0f921"
             ]
            ]
           }
          ],
          "mesh3d": [
           {
            "type": "mesh3d",
            "colorbar": {
             "outlinewidth": 0,
             "ticks": ""
            }
           }
          ],
          "scatter": [
           {
            "marker": {
             "line": {
              "color": "#283442"
             }
            },
            "type": "scatter"
           }
          ],
          "parcoords": [
           {
            "type": "parcoords",
            "line": {
             "colorbar": {
              "outlinewidth": 0,
              "ticks": ""
             }
            }
           }
          ],
          "scatterpolargl": [
           {
            "type": "scatterpolargl",
            "marker": {
             "colorbar": {
              "outlinewidth": 0,
              "ticks": ""
             }
            }
           }
          ],
          "bar": [
           {
            "error_x": {
             "color": "#f2f5fa"
            },
            "error_y": {
             "color": "#f2f5fa"
            },
            "marker": {
             "line": {
              "color": "rgb(17,17,17)",
              "width": 0.5
             },
             "pattern": {
              "fillmode": "overlay",
              "size": 10,
              "solidity": 0.2
             }
            },
            "type": "bar"
           }
          ],
          "scattergeo": [
           {
            "type": "scattergeo",
            "marker": {
             "colorbar": {
              "outlinewidth": 0,
              "ticks": ""
             }
            }
           }
          ],
          "scatterpolar": [
           {
            "type": "scatterpolar",
            "marker": {
             "colorbar": {
              "outlinewidth": 0,
              "ticks": ""
             }
            }
           }
          ],
          "histogram": [
           {
            "marker": {
             "pattern": {
              "fillmode": "overlay",
              "size": 10,
              "solidity": 0.2
             }
            },
            "type": "histogram"
           }
          ],
          "scattergl": [
           {
            "marker": {
             "line": {
              "color": "#283442"
             }
            },
            "type": "scattergl"
           }
          ],
          "scatter3d": [
           {
            "type": "scatter3d",
            "line": {
             "colorbar": {
              "outlinewidth": 0,
              "ticks": ""
             }
            },
            "marker": {
             "colorbar": {
              "outlinewidth": 0,
              "ticks": ""
             }
            }
           }
          ],
          "scattermap": [
           {
            "type": "scattermap",
            "marker": {
             "colorbar": {
              "outlinewidth": 0,
              "ticks": ""
             }
            }
           }
          ],
          "scattermapbox": [
           {
            "type": "scattermapbox",
            "marker": {
             "colorbar": {
              "outlinewidth": 0,
              "ticks": ""
             }
            }
           }
          ],
          "scatterternary": [
           {
            "type": "scatterternary",
            "marker": {
             "colorbar": {
              "outlinewidth": 0,
              "ticks": ""
             }
            }
           }
          ],
          "scattercarpet": [
           {
            "type": "scattercarpet",
            "marker": {
             "colorbar": {
              "outlinewidth": 0,
              "ticks": ""
             }
            }
           }
          ],
          "carpet": [
           {
            "aaxis": {
             "endlinecolor": "#A2B1C6",
             "gridcolor": "#506784",
             "linecolor": "#506784",
             "minorgridcolor": "#506784",
             "startlinecolor": "#A2B1C6"
            },
            "baxis": {
             "endlinecolor": "#A2B1C6",
             "gridcolor": "#506784",
             "linecolor": "#506784",
             "minorgridcolor": "#506784",
             "startlinecolor": "#A2B1C6"
            },
            "type": "carpet"
           }
          ],
          "table": [
           {
            "cells": {
             "fill": {
              "color": "#506784"
             },
             "line": {
              "color": "rgb(17,17,17)"
             }
            },
            "header": {
             "fill": {
              "color": "#2a3f5f"
             },
             "line": {
              "color": "rgb(17,17,17)"
             }
            },
            "type": "table"
           }
          ],
          "barpolar": [
           {
            "marker": {
             "line": {
              "color": "rgb(17,17,17)",
              "width": 0.5
             },
             "pattern": {
              "fillmode": "overlay",
              "size": 10,
              "solidity": 0.2
             }
            },
            "type": "barpolar"
           }
          ],
          "pie": [
           {
            "automargin": true,
            "type": "pie"
           }
          ]
         },
         "layout": {
          "autotypenumbers": "strict",
          "colorway": [
           "#636efa",
           "#EF553B",
           "#00cc96",
           "#ab63fa",
           "#FFA15A",
           "#19d3f3",
           "#FF6692",
           "#B6E880",
           "#FF97FF",
           "#FECB52"
          ],
          "font": {
           "color": "#f2f5fa"
          },
          "hovermode": "closest",
          "hoverlabel": {
           "align": "left"
          },
          "paper_bgcolor": "rgb(17,17,17)",
          "plot_bgcolor": "rgb(17,17,17)",
          "polar": {
           "bgcolor": "rgb(17,17,17)",
           "angularaxis": {
            "gridcolor": "#506784",
            "linecolor": "#506784",
            "ticks": ""
           },
           "radialaxis": {
            "gridcolor": "#506784",
            "linecolor": "#506784",
            "ticks": ""
           }
          },
          "ternary": {
           "bgcolor": "rgb(17,17,17)",
           "aaxis": {
            "gridcolor": "#506784",
            "linecolor": "#506784",
            "ticks": ""
           },
           "baxis": {
            "gridcolor": "#506784",
            "linecolor": "#506784",
            "ticks": ""
           },
           "caxis": {
            "gridcolor": "#506784",
            "linecolor": "#506784",
            "ticks": ""
           }
          },
          "coloraxis": {
           "colorbar": {
            "outlinewidth": 0,
            "ticks": ""
           }
          },
          "colorscale": {
           "sequential": [
            [
             0.0,
             "#0d0887"
            ],
            [
             0.1111111111111111,
             "#46039f"
            ],
            [
             0.2222222222222222,
             "#7201a8"
            ],
            [
             0.3333333333333333,
             "#9c179e"
            ],
            [
             0.4444444444444444,
             "#bd3786"
            ],
            [
             0.5555555555555556,
             "#d8576b"
            ],
            [
             0.6666666666666666,
             "#ed7953"
            ],
            [
             0.7777777777777778,
             "#fb9f3a"
            ],
            [
             0.8888888888888888,
             "#fdca26"
            ],
            [
             1.0,
             "#f0f921"
            ]
           ],
           "sequentialminus": [
            [
             0.0,
             "#0d0887"
            ],
            [
             0.1111111111111111,
             "#46039f"
            ],
            [
             0.2222222222222222,
             "#7201a8"
            ],
            [
             0.3333333333333333,
             "#9c179e"
            ],
            [
             0.4444444444444444,
             "#bd3786"
            ],
            [
             0.5555555555555556,
             "#d8576b"
            ],
            [
             0.6666666666666666,
             "#ed7953"
            ],
            [
             0.7777777777777778,
             "#fb9f3a"
            ],
            [
             0.8888888888888888,
             "#fdca26"
            ],
            [
             1.0,
             "#f0f921"
            ]
           ],
           "diverging": [
            [
             0,
             "#8e0152"
            ],
            [
             0.1,
             "#c51b7d"
            ],
            [
             0.2,
             "#de77ae"
            ],
            [
             0.3,
             "#f1b6da"
            ],
            [
             0.4,
             "#fde0ef"
            ],
            [
             0.5,
             "#f7f7f7"
            ],
            [
             0.6,
             "#e6f5d0"
            ],
            [
             0.7,
             "#b8e186"
            ],
            [
             0.8,
             "#7fbc41"
            ],
            [
             0.9,
             "#4d9221"
            ],
            [
             1,
             "#276419"
            ]
           ]
          },
          "xaxis": {
           "gridcolor": "#283442",
           "linecolor": "#506784",
           "ticks": "",
           "title": {
            "standoff": 15
           },
           "zerolinecolor": "#283442",
           "automargin": true,
           "zerolinewidth": 2
          },
          "yaxis": {
           "gridcolor": "#283442",
           "linecolor": "#506784",
           "ticks": "",
           "title": {
            "standoff": 15
           },
           "zerolinecolor": "#283442",
           "automargin": true,
           "zerolinewidth": 2
          },
          "scene": {
           "xaxis": {
            "backgroundcolor": "rgb(17,17,17)",
            "gridcolor": "#506784",
            "linecolor": "#506784",
            "showbackground": true,
            "ticks": "",
            "zerolinecolor": "#C8D4E3",
            "gridwidth": 2
           },
           "yaxis": {
            "backgroundcolor": "rgb(17,17,17)",
            "gridcolor": "#506784",
            "linecolor": "#506784",
            "showbackground": true,
            "ticks": "",
            "zerolinecolor": "#C8D4E3",
            "gridwidth": 2
           },
           "zaxis": {
            "backgroundcolor": "rgb(17,17,17)",
            "gridcolor": "#506784",
            "linecolor": "#506784",
            "showbackground": true,
            "ticks": "",
            "zerolinecolor": "#C8D4E3",
            "gridwidth": 2
           }
          },
          "shapedefaults": {
           "line": {
            "color": "#f2f5fa"
           }
          },
          "annotationdefaults": {
           "arrowcolor": "#f2f5fa",
           "arrowhead": 0,
           "arrowwidth": 1
          },
          "geo": {
           "bgcolor": "rgb(17,17,17)",
           "landcolor": "rgb(17,17,17)",
           "subunitcolor": "#506784",
           "showland": true,
           "showlakes": true,
           "lakecolor": "rgb(17,17,17)"
          },
          "title": {
           "x": 0.05
          },
          "updatemenudefaults": {
           "bgcolor": "#506784",
           "borderwidth": 0
          },
          "sliderdefaults": {
           "bgcolor": "#C8D4E3",
           "borderwidth": 1,
           "bordercolor": "rgb(17,17,17)",
           "tickwidth": 0
          },
          "mapbox": {
           "style": "dark"
          }
         }
        },
        "xaxis": {
         "anchor": "y",
         "domain": [
          0.0,
          1.0
         ],
         "title": {
          "text": "tsne_0"
         }
        },
        "yaxis": {
         "anchor": "x",
         "domain": [
          0.0,
          1.0
         ],
         "title": {
          "text": "tsne_1"
         }
        },
        "legend": {
         "title": {
          "text": "GreedyCohesive"
         },
         "tracegroupgap": 0
        },
        "title": {
         "text": "t-SNE Clustering — GreedyCohesive,"
        }
       },
       "config": {
        "plotlyServerURL": "https://plot.ly"
       }
      }
     },
     "metadata": {},
     "output_type": "display_data"
    },
    {
     "data": {
      "application/vnd.plotly.v1+json": {
       "data": [
        {
         "hovertemplate": "<b>%{hovertext}</b><br><br>KMedoids=Oral Session 1A: Neuroscience and Intepretability<br>tsne_0=%{x}<br>tsne_1=%{y}<extra></extra>",
         "hovertext": [
          "Learning to grok_ Emergence of in-context learning and skill composition in modular arithmetic tasks"
         ],
         "legendgroup": "Oral Session 1A: Neuroscience and Intepretability",
         "marker": {
          "color": "#2E91E5",
          "symbol": "circle"
         },
         "mode": "markers",
         "name": "Oral Session 1A: Neuroscience and Intepretability",
         "orientation": "v",
         "showlegend": true,
         "x": {
          "dtype": "f4",
          "bdata": "HgAWwA=="
         },
         "xaxis": "x",
         "y": {
          "dtype": "f4",
          "bdata": "BQYCwA=="
         },
         "yaxis": "y",
         "type": "scatter"
        },
        {
         "hovertemplate": "<b>%{hovertext}</b><br><br>KMedoids=Oral Session 1D: Learning Theory<br>tsne_0=%{x}<br>tsne_1=%{y}<extra></extra>",
         "hovertext": [
          "Generalization Error Bounds for Two-stage Recommender Systems with Tree Structure",
          "Human Expertise in Algorithmic Prediction",
          "Enhancing Preference-based Linear Bandits via Human Response Time",
          "Optimal Parallelization of Boosting",
          "Do Finetti_ On Causal Effects for Exchangeable Data"
         ],
         "legendgroup": "Oral Session 1D: Learning Theory",
         "marker": {
          "color": "#E15F99",
          "symbol": "circle"
         },
         "mode": "markers",
         "name": "Oral Session 1D: Learning Theory",
         "orientation": "v",
         "showlegend": true,
         "x": {
          "dtype": "f4",
          "bdata": "9x8AwTAuBMGYmQDBDGECwUurE8E="
         },
         "xaxis": "x",
         "y": {
          "dtype": "f4",
          "bdata": "vbtEQOLnOkCxaCJApF1eQI75GUA="
         },
         "yaxis": "y",
         "type": "scatter"
        },
        {
         "hovertemplate": "<b>%{hovertext}</b><br><br>KMedoids=Oral Session 1C: Optimization and Learning Theory<br>tsne_0=%{x}<br>tsne_1=%{y}<extra></extra>",
         "hovertext": [
          "The Road Less Scheduled",
          "Learning diffusion at lightspeed",
          "Stochastic Taylor Derivative Estimator_ Efficient amortization for arbitrary differential operators"
         ],
         "legendgroup": "Oral Session 1C: Optimization and Learning Theory",
         "marker": {
          "color": "#1CA71C",
          "symbol": "circle"
         },
         "mode": "markers",
         "name": "Oral Session 1C: Optimization and Learning Theory",
         "orientation": "v",
         "showlegend": true,
         "x": {
          "dtype": "f4",
          "bdata": "67MPwVuBx8AWCMHA"
         },
         "xaxis": "x",
         "y": {
          "dtype": "f4",
          "bdata": "zaxnQMAeOUBKiUxA"
         },
         "yaxis": "y",
         "type": "scatter"
        },
        {
         "hovertemplate": "<b>%{hovertext}</b><br><br>KMedoids=Oral Session 3D: Natural Language Processing<br>tsne_0=%{x}<br>tsne_1=%{y}<extra></extra>",
         "hovertext": [
          "Improving Environment Novelty Quantification for Effective Unsupervised Environment Design",
          "Return of Unconditional Generation_ A Self-supervised Representation Generation Method",
          "Improved Distribution Matching Distillation for Fast Image Synthesis",
          "Guiding a Diffusion Model with a Bad Version of Itself",
          "Maximum Entropy Inverse Reinforcement Learning of Diffusion Models with Energy-Based Models"
         ],
         "legendgroup": "Oral Session 3D: Natural Language Processing",
         "marker": {
          "color": "#FB0D0D",
          "symbol": "circle"
         },
         "mode": "markers",
         "name": "Oral Session 3D: Natural Language Processing",
         "orientation": "v",
         "showlegend": true,
         "x": {
          "dtype": "f4",
          "bdata": "JtPewEA6nMCfDJvANLqhwHCAqMA="
         },
         "xaxis": "x",
         "y": {
          "dtype": "f4",
          "bdata": "X1ETP5JxXz93UoA/flydPxgsCEA="
         },
         "yaxis": "y",
         "type": "scatter"
        },
        {
         "hovertemplate": "<b>%{hovertext}</b><br><br>KMedoids=Oral Session 2A: Agents<br>tsne_0=%{x}<br>tsne_1=%{y}<extra></extra>",
         "hovertext": [
          "RL-GPT_ Integrating Reinforcement Learning and Code-as-policy",
          "Embodied Agent Interface_ Benchmarking LLMs for Embodied Decision Making",
          "Policy Learning from Tutorial Books via Understanding, Rehearsing and Introspecting",
          "LINGOLY_ A Benchmark of Olympiad-Level Linguistic Reasoning Puzzles in Low Resource and Extinct Languages",
          "AgentBoard_ An Analytical Evaluation Board of Multi-turn LLM Agents"
         ],
         "legendgroup": "Oral Session 2A: Agents",
         "marker": {
          "color": "#DA16FF",
          "symbol": "circle"
         },
         "mode": "markers",
         "name": "Oral Session 2A: Agents",
         "orientation": "v",
         "showlegend": true,
         "x": {
          "dtype": "f4",
          "bdata": "/RXDwHEWtMCXB8DAbJ29wJmGvcA="
         },
         "xaxis": "x",
         "y": {
          "dtype": "f4",
          "bdata": "Q6lawMccacCYRITA4X9cwH55XMA="
         },
         "yaxis": "y",
         "type": "scatter"
        },
        {
         "hovertemplate": "<b>%{hovertext}</b><br><br>KMedoids=Oral Session 2B: Reinforcement Learning<br>tsne_0=%{x}<br>tsne_1=%{y}<extra></extra>",
         "hovertext": [
          "Span-Based Optimal Sample Complexity for Weakly Communicating and General Average Reward MDPs",
          "The Sample-Communication Complexity Trade-off in Federated Q-Learning",
          "Statistical Efficiency of Distributional Temporal Difference Learning",
          "Achieving Optimal Clustering in Gaussian Mixture Models with Anisotropic Covariance Structures",
          "Reinforcement Learning Under Latent Dynamics_ Toward Statistical and Algorithmic Modularity"
         ],
         "legendgroup": "Oral Session 2B: Reinforcement Learning",
         "marker": {
          "color": "#222A2A",
          "symbol": "circle"
         },
         "mode": "markers",
         "name": "Oral Session 2B: Reinforcement Learning",
         "orientation": "v",
         "showlegend": true,
         "x": {
          "dtype": "f4",
          "bdata": "HBEEwW3oA8GCowXBkPz+wCSXAsE="
         },
         "xaxis": "x",
         "y": {
          "dtype": "f4",
          "bdata": "d9CWQJPAjEATI5FAeJCBQLk6dkA="
         },
         "yaxis": "y",
         "type": "scatter"
        },
        {
         "hovertemplate": "<b>%{hovertext}</b><br><br>KMedoids=Oral Session 3B: Natural Language Processing<br>tsne_0=%{x}<br>tsne_1=%{y}<extra></extra>",
         "hovertext": [
          "Not All Tokens Are What You Need for Pretraining",
          "Divide-and-Conquer Meets Consensus_ Unleashing the Power of Functions in Code Generation",
          "Decompose, Analyze and Rethink_ Solving Intricate Problems with Human-like Reasoning Cycle",
          "Unlocking the Capabilities of Thought_ A Reasoning Boundary Framework to Quantify and Optimize Chain-of-Thought",
          "Learning Formal Mathematics From Intrinsic Motivation",
          "OpenMathInstruct-1_ A 1.8 Million Math Instruction Tuning Dataset"
         ],
         "legendgroup": "Oral Session 3B: Natural Language Processing",
         "marker": {
          "color": "#B68100",
          "symbol": "circle"
         },
         "mode": "markers",
         "name": "Oral Session 3B: Natural Language Processing",
         "orientation": "v",
         "showlegend": true,
         "x": {
          "dtype": "f4",
          "bdata": "9kLEwIqqzsAWE8jAhYbHwLTR3MBmPM/A"
         },
         "xaxis": "x",
         "y": {
          "dtype": "f4",
          "bdata": "XnWzv0SAEcAxXRPAv0YBwIkbIcDNzwLA"
         },
         "yaxis": "y",
         "type": "scatter"
        },
        {
         "hovertemplate": "<b>%{hovertext}</b><br><br>KMedoids=Oral Session 6B: Safety, New Data<br>tsne_0=%{x}<br>tsne_1=%{y}<extra></extra>",
         "hovertext": [
          "Cracking the Code of Juxtaposition_ Can AI Models Understand the Humorous Contradictions",
          "Aligner_ Efficient Alignment by Learning to Correct",
          "DevBench_ A multimodal developmental benchmark for language learning",
          "Stylus_ Automatic Adapter Selection for Diffusion Models",
          "Bayesian-guided Label Mapping for Visual Reprogramming",
          "Cambrian-1_ A Fully Open, Vision-Centric Exploration of Multimodal LLMs",
          "CVQA_ Culturally-diverse Multilingual Visual Question Answering Benchmark"
         ],
         "legendgroup": "Oral Session 6B: Safety, New Data",
         "marker": {
          "color": "#750D86",
          "symbol": "circle"
         },
         "mode": "markers",
         "name": "Oral Session 6B: Safety, New Data",
         "orientation": "v",
         "showlegend": true,
         "x": {
          "dtype": "f4",
          "bdata": "1JybwK/648DH3pXAf7ShwBZ8l8ALHqHAFAoFwQ=="
         },
         "xaxis": "x",
         "y": {
          "dtype": "f4",
          "bdata": "PoY5wA6fwL9nNxLAVhCSvxjxO79D7NO/bkEywA=="
         },
         "yaxis": "y",
         "type": "scatter"
        },
        {
         "hovertemplate": "<b>%{hovertext}</b><br><br>KMedoids=Oral Session 3C: Natural Language Processing<br>tsne_0=%{x}<br>tsne_1=%{y}<extra></extra>",
         "hovertext": [
          "PV-Tuning_ Beyond Straight-Through Estimation for Extreme LLM Compression",
          "DuQuant_ Distributing Outliers via Dual Transformation Makes Stronger Quantized LLMs"
         ],
         "legendgroup": "Oral Session 3C: Natural Language Processing",
         "marker": {
          "color": "#EB663B",
          "symbol": "circle"
         },
         "mode": "markers",
         "name": "Oral Session 3C: Natural Language Processing",
         "orientation": "v",
         "showlegend": true,
         "x": {
          "dtype": "f4",
          "bdata": "mK58wCiscsA="
         },
         "xaxis": "x",
         "y": {
          "dtype": "f4",
          "bdata": "hGeLv02RoL8="
         },
         "yaxis": "y",
         "type": "scatter"
        },
        {
         "hovertemplate": "<b>%{hovertext}</b><br><br>KMedoids=Oral Session 4D: Machine Vision<br>tsne_0=%{x}<br>tsne_1=%{y}<extra></extra>",
         "hovertext": [
          "CAT3D_ Create Anything in 3D with Multi-View Diffusion Models",
          "Learning rigid-body simulators over implicit shapes for large-scale scenes and vision",
          "GIC_ Gaussian-Informed Continuum for Physical Property Identification and Simulation",
          "RG-SAN_ Rule-Guided Spatial Awareness Network for End-to-End 3D Referring Expression Segmentation",
          "VASA-1_ Lifelike Audio-Driven Talking Faces Generated in Real Time",
          "MeshFormer _ High-Quality Mesh Generation with 3D-Guided Reconstruction Model",
          "NeuroClips_ Towards High-fidelity and Smooth fMRI-to-Video Reconstruction"
         ],
         "legendgroup": "Oral Session 4D: Machine Vision",
         "marker": {
          "color": "#511CFB",
          "symbol": "circle"
         },
         "mode": "markers",
         "name": "Oral Session 4D: Machine Vision",
         "orientation": "v",
         "showlegend": true,
         "x": {
          "dtype": "f4",
          "bdata": "u15owKO0JMD1MUjAiDV2wIuihcBzy2PAyaBkwA=="
         },
         "xaxis": "x",
         "y": {
          "dtype": "f4",
          "bdata": "3jRXPwTHsz/CIcE/vgfQO7WZvT5zP1o/H2XSPg=="
         },
         "yaxis": "y",
         "type": "scatter"
        },
        {
         "hovertemplate": "<b>%{hovertext}</b><br><br>KMedoids=Oral Session 4C: Diffusion-based Models, Mathematics<br>tsne_0=%{x}<br>tsne_1=%{y}<extra></extra>",
         "hovertext": [
          "DenoiseRep_ Denoising Model for Representation Learning",
          "Get Rid of Isolation_ A Continuous Multi-task Spatio-Temporal Learning Framework",
          "DapperFL_ Domain Adaptive Federated Learning with Model Fusion Pruning for Edge Devices",
          "E2E-MFD_ Towards End-to-End Synchronous Multimodal Fusion Detection"
         ],
         "legendgroup": "Oral Session 4C: Diffusion-based Models, Mathematics",
         "marker": {
          "color": "#00A08B",
          "symbol": "circle"
         },
         "mode": "markers",
         "name": "Oral Session 4C: Diffusion-based Models, Mathematics",
         "orientation": "v",
         "showlegend": true,
         "x": {
          "dtype": "f4",
          "bdata": "wImHwBpnbMDFaZHAr+N4wA=="
         },
         "xaxis": "x",
         "y": {
          "dtype": "f4",
          "bdata": "siS1P0lhH0A26hxAGDTaPw=="
         },
         "yaxis": "y",
         "type": "scatter"
        },
        {
         "hovertemplate": "<b>%{hovertext}</b><br><br>KMedoids=Oral Session 3A: Generative Models<br>tsne_0=%{x}<br>tsne_1=%{y}<extra></extra>",
         "hovertext": [
          "Exploitation of a Latent Mechanism in Graph Contrastive Learning_ Representation Scattering",
          "Flipped Classroom_ Aligning Teacher Attention with Student in Generalized Category Discovery",
          "Scale Equivariant Graph Metanetworks"
         ],
         "legendgroup": "Oral Session 3A: Generative Models",
         "marker": {
          "color": "#FB00D1",
          "symbol": "circle"
         },
         "mode": "markers",
         "name": "Oral Session 3A: Generative Models",
         "orientation": "v",
         "showlegend": true,
         "x": {
          "dtype": "f4",
          "bdata": "givHwIfkucATPNrA"
         },
         "xaxis": "x",
         "y": {
          "dtype": "f4",
          "bdata": "5IaZP6NzQz9hjd8/"
         },
         "yaxis": "y",
         "type": "scatter"
        },
        {
         "hovertemplate": "<b>%{hovertext}</b><br><br>KMedoids=Oral Session 5D: Machine Learning and Science<br>tsne_0=%{x}<br>tsne_1=%{y}<extra></extra>",
         "hovertext": [
          "Neural Pfaffians_ Solving Many Many-Electron Schrödinger Equations"
         ],
         "legendgroup": "Oral Session 5D: Machine Learning and Science",
         "marker": {
          "color": "#FC0080",
          "symbol": "circle"
         },
         "mode": "markers",
         "name": "Oral Session 5D: Machine Learning and Science",
         "orientation": "v",
         "showlegend": true,
         "x": {
          "dtype": "f4",
          "bdata": "agwOwQ=="
         },
         "xaxis": "x",
         "y": {
          "dtype": "f4",
          "bdata": "IatsPw=="
         },
         "yaxis": "y",
         "type": "scatter"
        },
        {
         "hovertemplate": "<b>%{hovertext}</b><br><br>KMedoids=Oral Session 4B: Diffusion-based Models<br>tsne_0=%{x}<br>tsne_1=%{y}<extra></extra>",
         "hovertext": [
          "Trading Place for Space_ Increasing Location Resolution Reduces Contextual Capacity in Hippocampal Codes"
         ],
         "legendgroup": "Oral Session 4B: Diffusion-based Models",
         "marker": {
          "color": "#B2828D",
          "symbol": "circle"
         },
         "mode": "markers",
         "name": "Oral Session 4B: Diffusion-based Models",
         "orientation": "v",
         "showlegend": true,
         "x": {
          "dtype": "f4",
          "bdata": "kcbjwA=="
         },
         "xaxis": "x",
         "y": {
          "dtype": "f4",
          "bdata": "i3g1QA=="
         },
         "yaxis": "y",
         "type": "scatter"
        },
        {
         "hovertemplate": "<b>%{hovertext}</b><br><br>KMedoids=Oral Session 1B: Human-AI Interaction<br>tsne_0=%{x}<br>tsne_1=%{y}<extra></extra>",
         "hovertext": [
          "LLM Evaluators Recognize and Favor Their Own Generations",
          "Questioning the Survey Responses of Large Language Models",
          "The PRISM Alignment Dataset_ What Participatory, Representative and Individualised Human Feedback Reveals About the Subjective and Multicultural Alignment of Large Language Models",
          "A Taxonomy of Challenges to Curating Fair Datasets"
         ],
         "legendgroup": "Oral Session 1B: Human-AI Interaction",
         "marker": {
          "color": "#6C7C32",
          "symbol": "circle"
         },
         "mode": "markers",
         "name": "Oral Session 1B: Human-AI Interaction",
         "orientation": "v",
         "showlegend": true,
         "x": {
          "dtype": "f4",
          "bdata": "3Sb5wKLK+sAEf//AjJoOwQ=="
         },
         "xaxis": "x",
         "y": {
          "dtype": "f4",
          "bdata": "t87SvwG4yb9J4du/mdTXvw=="
         },
         "yaxis": "y",
         "type": "scatter"
        },
        {
         "hovertemplate": "<b>%{hovertext}</b><br><br>KMedoids=Oral Session 5A: Graph Neural Networks<br>tsne_0=%{x}<br>tsne_1=%{y}<extra></extra>",
         "hovertext": [
          "Weisfeiler and Leman Go Loopy_ A New Hierarchy for Graph Representational Learning"
         ],
         "legendgroup": "Oral Session 5A: Graph Neural Networks",
         "marker": {
          "color": "#778AAE",
          "symbol": "circle"
         },
         "mode": "markers",
         "name": "Oral Session 5A: Graph Neural Networks",
         "orientation": "v",
         "showlegend": true,
         "x": {
          "dtype": "f4",
          "bdata": "8UYHwQ=="
         },
         "xaxis": "x",
         "y": {
          "dtype": "f4",
          "bdata": "XQ3IPw=="
         },
         "yaxis": "y",
         "type": "scatter"
        },
        {
         "hovertemplate": "<b>%{hovertext}</b><br><br>KMedoids=Oral Session 5C: Machine Vision<br>tsne_0=%{x}<br>tsne_1=%{y}<extra></extra>",
         "hovertext": [
          "Convolutional Differentiable Logic Gate Networks"
         ],
         "legendgroup": "Oral Session 5C: Machine Vision",
         "marker": {
          "color": "#862A16",
          "symbol": "circle"
         },
         "mode": "markers",
         "name": "Oral Session 5C: Machine Vision",
         "orientation": "v",
         "showlegend": true,
         "x": {
          "dtype": "f4",
          "bdata": "H7knwA=="
         },
         "xaxis": "x",
         "y": {
          "dtype": "f4",
          "bdata": "GADOvg=="
         },
         "yaxis": "y",
         "type": "scatter"
        },
        {
         "hovertemplate": "<b>%{hovertext}</b><br><br>KMedoids=Oral Session 2D: Generative Models<br>tsne_0=%{x}<br>tsne_1=%{y}<extra></extra>",
         "hovertext": [
          "MDAgents_ An Adaptive Collaboration of LLMs for Medical Decision-Making",
          "MedCalc-Bench_ Evaluating Large Language Models for Medical Calculations"
         ],
         "legendgroup": "Oral Session 2D: Generative Models",
         "marker": {
          "color": "#A777F1",
          "symbol": "circle"
         },
         "mode": "markers",
         "name": "Oral Session 2D: Generative Models",
         "orientation": "v",
         "showlegend": true,
         "x": {
          "dtype": "f4",
          "bdata": "T7LywIX79sA="
         },
         "xaxis": "x",
         "y": {
          "dtype": "f4",
          "bdata": "zNt4wIWvgMA="
         },
         "yaxis": "y",
         "type": "scatter"
        },
        {
         "hovertemplate": "<b>%{hovertext}</b><br><br>KMedoids=Oral Session 6D: Deep Learning Architecture, Infrastructure<br>tsne_0=%{x}<br>tsne_1=%{y}<extra></extra>",
         "hovertext": [
          "You Only Cache Once_ Decoder-Decoder Architectures for Language Models",
          "Visual Autoregressive Modeling_ Scalable Image Generation via Next-Scale Prediction",
          "HydraLoRA_ An Asymmetric LoRA Architecture for Efficient Fine-Tuning",
          "MetaLA_ Unified Optimal Linear Approximation to Softmax Attention Map"
         ],
         "legendgroup": "Oral Session 6D: Deep Learning Architecture, Infrastructure",
         "marker": {
          "color": "#620042",
          "symbol": "circle"
         },
         "mode": "markers",
         "name": "Oral Session 6D: Deep Learning Architecture, Infrastructure",
         "orientation": "v",
         "showlegend": true,
         "x": {
          "dtype": "f4",
          "bdata": "nfmzwMXNm8Di+b7AcbC2wA=="
         },
         "xaxis": "x",
         "y": {
          "dtype": "f4",
          "bdata": "guEJv+oSED43Xkm/3fngvg=="
         },
         "yaxis": "y",
         "type": "scatter"
        },
        {
         "hovertemplate": "<b>%{hovertext}</b><br><br>KMedoids=Oral Session 2C: Reinforcement Learning<br>tsne_0=%{x}<br>tsne_1=%{y}<extra></extra>",
         "hovertext": [
          "SeeA__ Efficient Exploration-Enhanced A_ Search by Selective Sampling"
         ],
         "legendgroup": "Oral Session 2C: Reinforcement Learning",
         "marker": {
          "color": "#1616A7",
          "symbol": "circle"
         },
         "mode": "markers",
         "name": "Oral Session 2C: Reinforcement Learning",
         "orientation": "v",
         "showlegend": true,
         "x": {
          "dtype": "f4",
          "bdata": "YV3xwA=="
         },
         "xaxis": "x",
         "y": {
          "dtype": "f4",
          "bdata": "ESkyPw=="
         },
         "yaxis": "y",
         "type": "scatter"
        },
        {
         "hovertemplate": "<b>%{hovertext}</b><br><br>KMedoids=Oral Session 5B: Graph Neural Networks, Causal Inference<br>tsne_0=%{x}<br>tsne_1=%{y}<extra></extra>",
         "hovertext": [
          "Identification and Estimation of the Bi-Directional MR with Some Invalid Instruments"
         ],
         "legendgroup": "Oral Session 5B: Graph Neural Networks, Causal Inference",
         "marker": {
          "color": "#DA60CA",
          "symbol": "circle"
         },
         "mode": "markers",
         "name": "Oral Session 5B: Graph Neural Networks, Causal Inference",
         "orientation": "v",
         "showlegend": true,
         "x": {
          "dtype": "f4",
          "bdata": "XRwbwQ=="
         },
         "xaxis": "x",
         "y": {
          "dtype": "f4",
          "bdata": "poQPQA=="
         },
         "yaxis": "y",
         "type": "scatter"
        },
        {
         "hovertemplate": "<b>%{hovertext}</b><br><br>KMedoids=Oral Session 6A: Machine Learning and Science, Safety<br>tsne_0=%{x}<br>tsne_1=%{y}<extra></extra>",
         "hovertext": [
          "Graph Diffusion Transformers for Multi-Conditional Molecular Generation"
         ],
         "legendgroup": "Oral Session 6A: Machine Learning and Science, Safety",
         "marker": {
          "color": "#6C4516",
          "symbol": "circle"
         },
         "mode": "markers",
         "name": "Oral Session 6A: Machine Learning and Science, Safety",
         "orientation": "v",
         "showlegend": true,
         "x": {
          "dtype": "f4",
          "bdata": "iVCvwA=="
         },
         "xaxis": "x",
         "y": {
          "dtype": "f4",
          "bdata": "t1rHPw=="
         },
         "yaxis": "y",
         "type": "scatter"
        },
        {
         "hovertemplate": "<b>%{hovertext}</b><br><br>KMedoids=Oral Session 4A: Natural Language Processing<br>tsne_0=%{x}<br>tsne_1=%{y}<extra></extra>",
         "hovertext": [
          "Brain Treebank_ Large-scale intracranial recordings from naturalistic language stimuli"
         ],
         "legendgroup": "Oral Session 4A: Natural Language Processing",
         "marker": {
          "color": "#0D2A63",
          "symbol": "circle"
         },
         "mode": "markers",
         "name": "Oral Session 4A: Natural Language Processing",
         "orientation": "v",
         "showlegend": true,
         "x": {
          "dtype": "f4",
          "bdata": "17NawA=="
         },
         "xaxis": "x",
         "y": {
          "dtype": "f4",
          "bdata": "eWsuwA=="
         },
         "yaxis": "y",
         "type": "scatter"
        },
        {
         "hovertemplate": "<b>%{hovertext}</b><br><br>KMedoids=Oral Session 6C: New Data<br>tsne_0=%{x}<br>tsne_1=%{y}<extra></extra>",
         "hovertext": [
          "ChaosBench_ A Multi-Channel, Physics-Based Benchmark for Subseasonal-to-Seasonal Climate Prediction"
         ],
         "legendgroup": "Oral Session 6C: New Data",
         "marker": {
          "color": "#AF0038",
          "symbol": "circle"
         },
         "mode": "markers",
         "name": "Oral Session 6C: New Data",
         "orientation": "v",
         "showlegend": true,
         "x": {
          "dtype": "f4",
          "bdata": "KGg9wA=="
         },
         "xaxis": "x",
         "y": {
          "dtype": "f4",
          "bdata": "KlA2QA=="
         },
         "yaxis": "y",
         "type": "scatter"
        }
       ],
       "layout": {
        "template": {
         "data": {
          "histogram2dcontour": [
           {
            "type": "histogram2dcontour",
            "colorbar": {
             "outlinewidth": 0,
             "ticks": ""
            },
            "colorscale": [
             [
              0.0,
              "#0d0887"
             ],
             [
              0.1111111111111111,
              "#46039f"
             ],
             [
              0.2222222222222222,
              "#7201a8"
             ],
             [
              0.3333333333333333,
              "#9c179e"
             ],
             [
              0.4444444444444444,
              "#bd3786"
             ],
             [
              0.5555555555555556,
              "#d8576b"
             ],
             [
              0.6666666666666666,
              "#ed7953"
             ],
             [
              0.7777777777777778,
              "#fb9f3a"
             ],
             [
              0.8888888888888888,
              "#fdca26"
             ],
             [
              1.0,
              "#f0f921"
             ]
            ]
           }
          ],
          "choropleth": [
           {
            "type": "choropleth",
            "colorbar": {
             "outlinewidth": 0,
             "ticks": ""
            }
           }
          ],
          "histogram2d": [
           {
            "type": "histogram2d",
            "colorbar": {
             "outlinewidth": 0,
             "ticks": ""
            },
            "colorscale": [
             [
              0.0,
              "#0d0887"
             ],
             [
              0.1111111111111111,
              "#46039f"
             ],
             [
              0.2222222222222222,
              "#7201a8"
             ],
             [
              0.3333333333333333,
              "#9c179e"
             ],
             [
              0.4444444444444444,
              "#bd3786"
             ],
             [
              0.5555555555555556,
              "#d8576b"
             ],
             [
              0.6666666666666666,
              "#ed7953"
             ],
             [
              0.7777777777777778,
              "#fb9f3a"
             ],
             [
              0.8888888888888888,
              "#fdca26"
             ],
             [
              1.0,
              "#f0f921"
             ]
            ]
           }
          ],
          "heatmap": [
           {
            "type": "heatmap",
            "colorbar": {
             "outlinewidth": 0,
             "ticks": ""
            },
            "colorscale": [
             [
              0.0,
              "#0d0887"
             ],
             [
              0.1111111111111111,
              "#46039f"
             ],
             [
              0.2222222222222222,
              "#7201a8"
             ],
             [
              0.3333333333333333,
              "#9c179e"
             ],
             [
              0.4444444444444444,
              "#bd3786"
             ],
             [
              0.5555555555555556,
              "#d8576b"
             ],
             [
              0.6666666666666666,
              "#ed7953"
             ],
             [
              0.7777777777777778,
              "#fb9f3a"
             ],
             [
              0.8888888888888888,
              "#fdca26"
             ],
             [
              1.0,
              "#f0f921"
             ]
            ]
           }
          ],
          "contourcarpet": [
           {
            "type": "contourcarpet",
            "colorbar": {
             "outlinewidth": 0,
             "ticks": ""
            }
           }
          ],
          "contour": [
           {
            "type": "contour",
            "colorbar": {
             "outlinewidth": 0,
             "ticks": ""
            },
            "colorscale": [
             [
              0.0,
              "#0d0887"
             ],
             [
              0.1111111111111111,
              "#46039f"
             ],
             [
              0.2222222222222222,
              "#7201a8"
             ],
             [
              0.3333333333333333,
              "#9c179e"
             ],
             [
              0.4444444444444444,
              "#bd3786"
             ],
             [
              0.5555555555555556,
              "#d8576b"
             ],
             [
              0.6666666666666666,
              "#ed7953"
             ],
             [
              0.7777777777777778,
              "#fb9f3a"
             ],
             [
              0.8888888888888888,
              "#fdca26"
             ],
             [
              1.0,
              "#f0f921"
             ]
            ]
           }
          ],
          "surface": [
           {
            "type": "surface",
            "colorbar": {
             "outlinewidth": 0,
             "ticks": ""
            },
            "colorscale": [
             [
              0.0,
              "#0d0887"
             ],
             [
              0.1111111111111111,
              "#46039f"
             ],
             [
              0.2222222222222222,
              "#7201a8"
             ],
             [
              0.3333333333333333,
              "#9c179e"
             ],
             [
              0.4444444444444444,
              "#bd3786"
             ],
             [
              0.5555555555555556,
              "#d8576b"
             ],
             [
              0.6666666666666666,
              "#ed7953"
             ],
             [
              0.7777777777777778,
              "#fb9f3a"
             ],
             [
              0.8888888888888888,
              "#fdca26"
             ],
             [
              1.0,
              "#f0f921"
             ]
            ]
           }
          ],
          "mesh3d": [
           {
            "type": "mesh3d",
            "colorbar": {
             "outlinewidth": 0,
             "ticks": ""
            }
           }
          ],
          "scatter": [
           {
            "marker": {
             "line": {
              "color": "#283442"
             }
            },
            "type": "scatter"
           }
          ],
          "parcoords": [
           {
            "type": "parcoords",
            "line": {
             "colorbar": {
              "outlinewidth": 0,
              "ticks": ""
             }
            }
           }
          ],
          "scatterpolargl": [
           {
            "type": "scatterpolargl",
            "marker": {
             "colorbar": {
              "outlinewidth": 0,
              "ticks": ""
             }
            }
           }
          ],
          "bar": [
           {
            "error_x": {
             "color": "#f2f5fa"
            },
            "error_y": {
             "color": "#f2f5fa"
            },
            "marker": {
             "line": {
              "color": "rgb(17,17,17)",
              "width": 0.5
             },
             "pattern": {
              "fillmode": "overlay",
              "size": 10,
              "solidity": 0.2
             }
            },
            "type": "bar"
           }
          ],
          "scattergeo": [
           {
            "type": "scattergeo",
            "marker": {
             "colorbar": {
              "outlinewidth": 0,
              "ticks": ""
             }
            }
           }
          ],
          "scatterpolar": [
           {
            "type": "scatterpolar",
            "marker": {
             "colorbar": {
              "outlinewidth": 0,
              "ticks": ""
             }
            }
           }
          ],
          "histogram": [
           {
            "marker": {
             "pattern": {
              "fillmode": "overlay",
              "size": 10,
              "solidity": 0.2
             }
            },
            "type": "histogram"
           }
          ],
          "scattergl": [
           {
            "marker": {
             "line": {
              "color": "#283442"
             }
            },
            "type": "scattergl"
           }
          ],
          "scatter3d": [
           {
            "type": "scatter3d",
            "line": {
             "colorbar": {
              "outlinewidth": 0,
              "ticks": ""
             }
            },
            "marker": {
             "colorbar": {
              "outlinewidth": 0,
              "ticks": ""
             }
            }
           }
          ],
          "scattermap": [
           {
            "type": "scattermap",
            "marker": {
             "colorbar": {
              "outlinewidth": 0,
              "ticks": ""
             }
            }
           }
          ],
          "scattermapbox": [
           {
            "type": "scattermapbox",
            "marker": {
             "colorbar": {
              "outlinewidth": 0,
              "ticks": ""
             }
            }
           }
          ],
          "scatterternary": [
           {
            "type": "scatterternary",
            "marker": {
             "colorbar": {
              "outlinewidth": 0,
              "ticks": ""
             }
            }
           }
          ],
          "scattercarpet": [
           {
            "type": "scattercarpet",
            "marker": {
             "colorbar": {
              "outlinewidth": 0,
              "ticks": ""
             }
            }
           }
          ],
          "carpet": [
           {
            "aaxis": {
             "endlinecolor": "#A2B1C6",
             "gridcolor": "#506784",
             "linecolor": "#506784",
             "minorgridcolor": "#506784",
             "startlinecolor": "#A2B1C6"
            },
            "baxis": {
             "endlinecolor": "#A2B1C6",
             "gridcolor": "#506784",
             "linecolor": "#506784",
             "minorgridcolor": "#506784",
             "startlinecolor": "#A2B1C6"
            },
            "type": "carpet"
           }
          ],
          "table": [
           {
            "cells": {
             "fill": {
              "color": "#506784"
             },
             "line": {
              "color": "rgb(17,17,17)"
             }
            },
            "header": {
             "fill": {
              "color": "#2a3f5f"
             },
             "line": {
              "color": "rgb(17,17,17)"
             }
            },
            "type": "table"
           }
          ],
          "barpolar": [
           {
            "marker": {
             "line": {
              "color": "rgb(17,17,17)",
              "width": 0.5
             },
             "pattern": {
              "fillmode": "overlay",
              "size": 10,
              "solidity": 0.2
             }
            },
            "type": "barpolar"
           }
          ],
          "pie": [
           {
            "automargin": true,
            "type": "pie"
           }
          ]
         },
         "layout": {
          "autotypenumbers": "strict",
          "colorway": [
           "#636efa",
           "#EF553B",
           "#00cc96",
           "#ab63fa",
           "#FFA15A",
           "#19d3f3",
           "#FF6692",
           "#B6E880",
           "#FF97FF",
           "#FECB52"
          ],
          "font": {
           "color": "#f2f5fa"
          },
          "hovermode": "closest",
          "hoverlabel": {
           "align": "left"
          },
          "paper_bgcolor": "rgb(17,17,17)",
          "plot_bgcolor": "rgb(17,17,17)",
          "polar": {
           "bgcolor": "rgb(17,17,17)",
           "angularaxis": {
            "gridcolor": "#506784",
            "linecolor": "#506784",
            "ticks": ""
           },
           "radialaxis": {
            "gridcolor": "#506784",
            "linecolor": "#506784",
            "ticks": ""
           }
          },
          "ternary": {
           "bgcolor": "rgb(17,17,17)",
           "aaxis": {
            "gridcolor": "#506784",
            "linecolor": "#506784",
            "ticks": ""
           },
           "baxis": {
            "gridcolor": "#506784",
            "linecolor": "#506784",
            "ticks": ""
           },
           "caxis": {
            "gridcolor": "#506784",
            "linecolor": "#506784",
            "ticks": ""
           }
          },
          "coloraxis": {
           "colorbar": {
            "outlinewidth": 0,
            "ticks": ""
           }
          },
          "colorscale": {
           "sequential": [
            [
             0.0,
             "#0d0887"
            ],
            [
             0.1111111111111111,
             "#46039f"
            ],
            [
             0.2222222222222222,
             "#7201a8"
            ],
            [
             0.3333333333333333,
             "#9c179e"
            ],
            [
             0.4444444444444444,
             "#bd3786"
            ],
            [
             0.5555555555555556,
             "#d8576b"
            ],
            [
             0.6666666666666666,
             "#ed7953"
            ],
            [
             0.7777777777777778,
             "#fb9f3a"
            ],
            [
             0.8888888888888888,
             "#fdca26"
            ],
            [
             1.0,
             "#f0f921"
            ]
           ],
           "sequentialminus": [
            [
             0.0,
             "#0d0887"
            ],
            [
             0.1111111111111111,
             "#46039f"
            ],
            [
             0.2222222222222222,
             "#7201a8"
            ],
            [
             0.3333333333333333,
             "#9c179e"
            ],
            [
             0.4444444444444444,
             "#bd3786"
            ],
            [
             0.5555555555555556,
             "#d8576b"
            ],
            [
             0.6666666666666666,
             "#ed7953"
            ],
            [
             0.7777777777777778,
             "#fb9f3a"
            ],
            [
             0.8888888888888888,
             "#fdca26"
            ],
            [
             1.0,
             "#f0f921"
            ]
           ],
           "diverging": [
            [
             0,
             "#8e0152"
            ],
            [
             0.1,
             "#c51b7d"
            ],
            [
             0.2,
             "#de77ae"
            ],
            [
             0.3,
             "#f1b6da"
            ],
            [
             0.4,
             "#fde0ef"
            ],
            [
             0.5,
             "#f7f7f7"
            ],
            [
             0.6,
             "#e6f5d0"
            ],
            [
             0.7,
             "#b8e186"
            ],
            [
             0.8,
             "#7fbc41"
            ],
            [
             0.9,
             "#4d9221"
            ],
            [
             1,
             "#276419"
            ]
           ]
          },
          "xaxis": {
           "gridcolor": "#283442",
           "linecolor": "#506784",
           "ticks": "",
           "title": {
            "standoff": 15
           },
           "zerolinecolor": "#283442",
           "automargin": true,
           "zerolinewidth": 2
          },
          "yaxis": {
           "gridcolor": "#283442",
           "linecolor": "#506784",
           "ticks": "",
           "title": {
            "standoff": 15
           },
           "zerolinecolor": "#283442",
           "automargin": true,
           "zerolinewidth": 2
          },
          "scene": {
           "xaxis": {
            "backgroundcolor": "rgb(17,17,17)",
            "gridcolor": "#506784",
            "linecolor": "#506784",
            "showbackground": true,
            "ticks": "",
            "zerolinecolor": "#C8D4E3",
            "gridwidth": 2
           },
           "yaxis": {
            "backgroundcolor": "rgb(17,17,17)",
            "gridcolor": "#506784",
            "linecolor": "#506784",
            "showbackground": true,
            "ticks": "",
            "zerolinecolor": "#C8D4E3",
            "gridwidth": 2
           },
           "zaxis": {
            "backgroundcolor": "rgb(17,17,17)",
            "gridcolor": "#506784",
            "linecolor": "#506784",
            "showbackground": true,
            "ticks": "",
            "zerolinecolor": "#C8D4E3",
            "gridwidth": 2
           }
          },
          "shapedefaults": {
           "line": {
            "color": "#f2f5fa"
           }
          },
          "annotationdefaults": {
           "arrowcolor": "#f2f5fa",
           "arrowhead": 0,
           "arrowwidth": 1
          },
          "geo": {
           "bgcolor": "rgb(17,17,17)",
           "landcolor": "rgb(17,17,17)",
           "subunitcolor": "#506784",
           "showland": true,
           "showlakes": true,
           "lakecolor": "rgb(17,17,17)"
          },
          "title": {
           "x": 0.05
          },
          "updatemenudefaults": {
           "bgcolor": "#506784",
           "borderwidth": 0
          },
          "sliderdefaults": {
           "bgcolor": "#C8D4E3",
           "borderwidth": 1,
           "bordercolor": "rgb(17,17,17)",
           "tickwidth": 0
          },
          "mapbox": {
           "style": "dark"
          }
         }
        },
        "xaxis": {
         "anchor": "y",
         "domain": [
          0.0,
          1.0
         ],
         "title": {
          "text": "tsne_0"
         }
        },
        "yaxis": {
         "anchor": "x",
         "domain": [
          0.0,
          1.0
         ],
         "title": {
          "text": "tsne_1"
         }
        },
        "legend": {
         "title": {
          "text": "KMedoids"
         },
         "tracegroupgap": 0
        },
        "title": {
         "text": "t-SNE Clustering — KMedoids,"
        }
       },
       "config": {
        "plotlyServerURL": "https://plot.ly"
       }
      }
     },
     "metadata": {},
     "output_type": "display_data"
    },
    {
     "data": {
      "application/vnd.plotly.v1+json": {
       "data": [
        {
         "hovertemplate": "<b>%{hovertext}</b><br><br>KMeans=Oral Session 1A: Neuroscience and Intepretability<br>tsne_0=%{x}<br>tsne_1=%{y}<extra></extra>",
         "hovertext": [
          "Learning to grok_ Emergence of in-context learning and skill composition in modular arithmetic tasks"
         ],
         "legendgroup": "Oral Session 1A: Neuroscience and Intepretability",
         "marker": {
          "color": "#2E91E5",
          "symbol": "circle"
         },
         "mode": "markers",
         "name": "Oral Session 1A: Neuroscience and Intepretability",
         "orientation": "v",
         "showlegend": true,
         "x": {
          "dtype": "f4",
          "bdata": "HgAWwA=="
         },
         "xaxis": "x",
         "y": {
          "dtype": "f4",
          "bdata": "BQYCwA=="
         },
         "yaxis": "y",
         "type": "scatter"
        },
        {
         "hovertemplate": "<b>%{hovertext}</b><br><br>KMeans=Oral Session 1B: Human-AI Interaction<br>tsne_0=%{x}<br>tsne_1=%{y}<extra></extra>",
         "hovertext": [
          "Generalization Error Bounds for Two-stage Recommender Systems with Tree Structure",
          "Human Expertise in Algorithmic Prediction",
          "Optimal Parallelization of Boosting"
         ],
         "legendgroup": "Oral Session 1B: Human-AI Interaction",
         "marker": {
          "color": "#E15F99",
          "symbol": "circle"
         },
         "mode": "markers",
         "name": "Oral Session 1B: Human-AI Interaction",
         "orientation": "v",
         "showlegend": true,
         "x": {
          "dtype": "f4",
          "bdata": "9x8AwTAuBMEMYQLB"
         },
         "xaxis": "x",
         "y": {
          "dtype": "f4",
          "bdata": "vbtEQOLnOkCkXV5A"
         },
         "yaxis": "y",
         "type": "scatter"
        },
        {
         "hovertemplate": "<b>%{hovertext}</b><br><br>KMeans=Oral Session 1C: Optimization and Learning Theory<br>tsne_0=%{x}<br>tsne_1=%{y}<extra></extra>",
         "hovertext": [
          "The Road Less Scheduled",
          "PV-Tuning_ Beyond Straight-Through Estimation for Extreme LLM Compression",
          "DuQuant_ Distributing Outliers via Dual Transformation Makes Stronger Quantized LLMs"
         ],
         "legendgroup": "Oral Session 1C: Optimization and Learning Theory",
         "marker": {
          "color": "#1CA71C",
          "symbol": "circle"
         },
         "mode": "markers",
         "name": "Oral Session 1C: Optimization and Learning Theory",
         "orientation": "v",
         "showlegend": true,
         "x": {
          "dtype": "f4",
          "bdata": "67MPwZiufMAorHLA"
         },
         "xaxis": "x",
         "y": {
          "dtype": "f4",
          "bdata": "zaxnQIRni79NkaC/"
         },
         "yaxis": "y",
         "type": "scatter"
        },
        {
         "hovertemplate": "<b>%{hovertext}</b><br><br>KMeans=Oral Session 2A: Agents<br>tsne_0=%{x}<br>tsne_1=%{y}<extra></extra>",
         "hovertext": [
          "Enhancing Preference-based Linear Bandits via Human Response Time"
         ],
         "legendgroup": "Oral Session 2A: Agents",
         "marker": {
          "color": "#FB0D0D",
          "symbol": "circle"
         },
         "mode": "markers",
         "name": "Oral Session 2A: Agents",
         "orientation": "v",
         "showlegend": true,
         "x": {
          "dtype": "f4",
          "bdata": "mJkAwQ=="
         },
         "xaxis": "x",
         "y": {
          "dtype": "f4",
          "bdata": "sWgiQA=="
         },
         "yaxis": "y",
         "type": "scatter"
        },
        {
         "hovertemplate": "<b>%{hovertext}</b><br><br>KMeans=Oral Session 2B: Reinforcement Learning<br>tsne_0=%{x}<br>tsne_1=%{y}<extra></extra>",
         "hovertext": [
          "Improving Environment Novelty Quantification for Effective Unsupervised Environment Design",
          "SeeA__ Efficient Exploration-Enhanced A_ Search by Selective Sampling"
         ],
         "legendgroup": "Oral Session 2B: Reinforcement Learning",
         "marker": {
          "color": "#DA16FF",
          "symbol": "circle"
         },
         "mode": "markers",
         "name": "Oral Session 2B: Reinforcement Learning",
         "orientation": "v",
         "showlegend": true,
         "x": {
          "dtype": "f4",
          "bdata": "JtPewGFd8cA="
         },
         "xaxis": "x",
         "y": {
          "dtype": "f4",
          "bdata": "X1ETPxEpMj8="
         },
         "yaxis": "y",
         "type": "scatter"
        },
        {
         "hovertemplate": "<b>%{hovertext}</b><br><br>KMeans=Oral Session 2C: Reinforcement Learning<br>tsne_0=%{x}<br>tsne_1=%{y}<extra></extra>",
         "hovertext": [
          "RL-GPT_ Integrating Reinforcement Learning and Code-as-policy",
          "Embodied Agent Interface_ Benchmarking LLMs for Embodied Decision Making",
          "Policy Learning from Tutorial Books via Understanding, Rehearsing and Introspecting",
          "LINGOLY_ A Benchmark of Olympiad-Level Linguistic Reasoning Puzzles in Low Resource and Extinct Languages",
          "AgentBoard_ An Analytical Evaluation Board of Multi-turn LLM Agents"
         ],
         "legendgroup": "Oral Session 2C: Reinforcement Learning",
         "marker": {
          "color": "#222A2A",
          "symbol": "circle"
         },
         "mode": "markers",
         "name": "Oral Session 2C: Reinforcement Learning",
         "orientation": "v",
         "showlegend": true,
         "x": {
          "dtype": "f4",
          "bdata": "/RXDwHEWtMCXB8DAbJ29wJmGvcA="
         },
         "xaxis": "x",
         "y": {
          "dtype": "f4",
          "bdata": "Q6lawMccacCYRITA4X9cwH55XMA="
         },
         "yaxis": "y",
         "type": "scatter"
        },
        {
         "hovertemplate": "<b>%{hovertext}</b><br><br>KMeans=Oral Session 2D: Generative Models<br>tsne_0=%{x}<br>tsne_1=%{y}<extra></extra>",
         "hovertext": [
          "Span-Based Optimal Sample Complexity for Weakly Communicating and General Average Reward MDPs",
          "The Sample-Communication Complexity Trade-off in Federated Q-Learning",
          "Statistical Efficiency of Distributional Temporal Difference Learning",
          "Reinforcement Learning Under Latent Dynamics_ Toward Statistical and Algorithmic Modularity"
         ],
         "legendgroup": "Oral Session 2D: Generative Models",
         "marker": {
          "color": "#B68100",
          "symbol": "circle"
         },
         "mode": "markers",
         "name": "Oral Session 2D: Generative Models",
         "orientation": "v",
         "showlegend": true,
         "x": {
          "dtype": "f4",
          "bdata": "HBEEwW3oA8GCowXBJJcCwQ=="
         },
         "xaxis": "x",
         "y": {
          "dtype": "f4",
          "bdata": "d9CWQJPAjEATI5FAuTp2QA=="
         },
         "yaxis": "y",
         "type": "scatter"
        },
        {
         "hovertemplate": "<b>%{hovertext}</b><br><br>KMeans=Oral Session 3D: Natural Language Processing<br>tsne_0=%{x}<br>tsne_1=%{y}<extra></extra>",
         "hovertext": [
          "Not All Tokens Are What You Need for Pretraining",
          "Divide-and-Conquer Meets Consensus_ Unleashing the Power of Functions in Code Generation",
          "Decompose, Analyze and Rethink_ Solving Intricate Problems with Human-like Reasoning Cycle",
          "Unlocking the Capabilities of Thought_ A Reasoning Boundary Framework to Quantify and Optimize Chain-of-Thought",
          "Learning Formal Mathematics From Intrinsic Motivation",
          "OpenMathInstruct-1_ A 1.8 Million Math Instruction Tuning Dataset"
         ],
         "legendgroup": "Oral Session 3D: Natural Language Processing",
         "marker": {
          "color": "#750D86",
          "symbol": "circle"
         },
         "mode": "markers",
         "name": "Oral Session 3D: Natural Language Processing",
         "orientation": "v",
         "showlegend": true,
         "x": {
          "dtype": "f4",
          "bdata": "9kLEwIqqzsAWE8jAhYbHwLTR3MBmPM/A"
         },
         "xaxis": "x",
         "y": {
          "dtype": "f4",
          "bdata": "XnWzv0SAEcAxXRPAv0YBwIkbIcDNzwLA"
         },
         "yaxis": "y",
         "type": "scatter"
        },
        {
         "hovertemplate": "<b>%{hovertext}</b><br><br>KMeans=Oral Session 4A: Natural Language Processing<br>tsne_0=%{x}<br>tsne_1=%{y}<extra></extra>",
         "hovertext": [
          "Cracking the Code of Juxtaposition_ Can AI Models Understand the Humorous Contradictions",
          "DevBench_ A multimodal developmental benchmark for language learning",
          "Bayesian-guided Label Mapping for Visual Reprogramming",
          "Cambrian-1_ A Fully Open, Vision-Centric Exploration of Multimodal LLMs",
          "CVQA_ Culturally-diverse Multilingual Visual Question Answering Benchmark"
         ],
         "legendgroup": "Oral Session 4A: Natural Language Processing",
         "marker": {
          "color": "#EB663B",
          "symbol": "circle"
         },
         "mode": "markers",
         "name": "Oral Session 4A: Natural Language Processing",
         "orientation": "v",
         "showlegend": true,
         "x": {
          "dtype": "f4",
          "bdata": "1JybwMfelcAWfJfACx6hwBQKBcE="
         },
         "xaxis": "x",
         "y": {
          "dtype": "f4",
          "bdata": "PoY5wGc3EsAY8Tu/Q+zTv25BMsA="
         },
         "yaxis": "y",
         "type": "scatter"
        },
        {
         "hovertemplate": "<b>%{hovertext}</b><br><br>KMeans=Oral Session 4D: Machine Vision<br>tsne_0=%{x}<br>tsne_1=%{y}<extra></extra>",
         "hovertext": [
          "CAT3D_ Create Anything in 3D with Multi-View Diffusion Models",
          "Learning rigid-body simulators over implicit shapes for large-scale scenes and vision",
          "GIC_ Gaussian-Informed Continuum for Physical Property Identification and Simulation",
          "MeshFormer _ High-Quality Mesh Generation with 3D-Guided Reconstruction Model",
          "NeuroClips_ Towards High-fidelity and Smooth fMRI-to-Video Reconstruction"
         ],
         "legendgroup": "Oral Session 4D: Machine Vision",
         "marker": {
          "color": "#511CFB",
          "symbol": "circle"
         },
         "mode": "markers",
         "name": "Oral Session 4D: Machine Vision",
         "orientation": "v",
         "showlegend": true,
         "x": {
          "dtype": "f4",
          "bdata": "u15owKO0JMD1MUjAc8tjwMmgZMA="
         },
         "xaxis": "x",
         "y": {
          "dtype": "f4",
          "bdata": "3jRXPwTHsz/CIcE/cz9aPx9l0j4="
         },
         "yaxis": "y",
         "type": "scatter"
        },
        {
         "hovertemplate": "<b>%{hovertext}</b><br><br>KMeans=Oral Session 4C: Diffusion-based Models, Mathematics<br>tsne_0=%{x}<br>tsne_1=%{y}<extra></extra>",
         "hovertext": [
          "DenoiseRep_ Denoising Model for Representation Learning",
          "Get Rid of Isolation_ A Continuous Multi-task Spatio-Temporal Learning Framework",
          "DapperFL_ Domain Adaptive Federated Learning with Model Fusion Pruning for Edge Devices",
          "RG-SAN_ Rule-Guided Spatial Awareness Network for End-to-End 3D Referring Expression Segmentation",
          "E2E-MFD_ Towards End-to-End Synchronous Multimodal Fusion Detection"
         ],
         "legendgroup": "Oral Session 4C: Diffusion-based Models, Mathematics",
         "marker": {
          "color": "#00A08B",
          "symbol": "circle"
         },
         "mode": "markers",
         "name": "Oral Session 4C: Diffusion-based Models, Mathematics",
         "orientation": "v",
         "showlegend": true,
         "x": {
          "dtype": "f4",
          "bdata": "wImHwBpnbMDFaZHAiDV2wK/jeMA="
         },
         "xaxis": "x",
         "y": {
          "dtype": "f4",
          "bdata": "siS1P0lhH0A26hxAvgfQOxg02j8="
         },
         "yaxis": "y",
         "type": "scatter"
        },
        {
         "hovertemplate": "<b>%{hovertext}</b><br><br>KMeans=Oral Session 5C: Machine Vision<br>tsne_0=%{x}<br>tsne_1=%{y}<extra></extra>",
         "hovertext": [
          "Exploitation of a Latent Mechanism in Graph Contrastive Learning_ Representation Scattering",
          "Flipped Classroom_ Aligning Teacher Attention with Student in Generalized Category Discovery",
          "Scale Equivariant Graph Metanetworks"
         ],
         "legendgroup": "Oral Session 5C: Machine Vision",
         "marker": {
          "color": "#FB00D1",
          "symbol": "circle"
         },
         "mode": "markers",
         "name": "Oral Session 5C: Machine Vision",
         "orientation": "v",
         "showlegend": true,
         "x": {
          "dtype": "f4",
          "bdata": "givHwIfkucATPNrA"
         },
         "xaxis": "x",
         "y": {
          "dtype": "f4",
          "bdata": "5IaZP6NzQz9hjd8/"
         },
         "yaxis": "y",
         "type": "scatter"
        },
        {
         "hovertemplate": "<b>%{hovertext}</b><br><br>KMeans=Oral Session 5A: Graph Neural Networks<br>tsne_0=%{x}<br>tsne_1=%{y}<extra></extra>",
         "hovertext": [
          "Neural Pfaffians_ Solving Many Many-Electron Schrödinger Equations",
          "Weisfeiler and Leman Go Loopy_ A New Hierarchy for Graph Representational Learning"
         ],
         "legendgroup": "Oral Session 5A: Graph Neural Networks",
         "marker": {
          "color": "#FC0080",
          "symbol": "circle"
         },
         "mode": "markers",
         "name": "Oral Session 5A: Graph Neural Networks",
         "orientation": "v",
         "showlegend": true,
         "x": {
          "dtype": "f4",
          "bdata": "agwOwfFGB8E="
         },
         "xaxis": "x",
         "y": {
          "dtype": "f4",
          "bdata": "IatsP10NyD8="
         },
         "yaxis": "y",
         "type": "scatter"
        },
        {
         "hovertemplate": "<b>%{hovertext}</b><br><br>KMeans=Oral Session 3A: Generative Models<br>tsne_0=%{x}<br>tsne_1=%{y}<extra></extra>",
         "hovertext": [
          "Aligner_ Efficient Alignment by Learning to Correct",
          "LLM Evaluators Recognize and Favor Their Own Generations",
          "Questioning the Survey Responses of Large Language Models",
          "HydraLoRA_ An Asymmetric LoRA Architecture for Efficient Fine-Tuning",
          "The PRISM Alignment Dataset_ What Participatory, Representative and Individualised Human Feedback Reveals About the Subjective and Multicultural Alignment of Large Language Models"
         ],
         "legendgroup": "Oral Session 3A: Generative Models",
         "marker": {
          "color": "#B2828D",
          "symbol": "circle"
         },
         "mode": "markers",
         "name": "Oral Session 3A: Generative Models",
         "orientation": "v",
         "showlegend": true,
         "x": {
          "dtype": "f4",
          "bdata": "r/rjwN0m+cCiyvrA4vm+wAR//8A="
         },
         "xaxis": "x",
         "y": {
          "dtype": "f4",
          "bdata": "Dp/Av7fO0r8BuMm/N15Jv0nh278="
         },
         "yaxis": "y",
         "type": "scatter"
        },
        {
         "hovertemplate": "<b>%{hovertext}</b><br><br>KMeans=Oral Session 3C: Natural Language Processing<br>tsne_0=%{x}<br>tsne_1=%{y}<extra></extra>",
         "hovertext": [
          "Trading Place for Space_ Increasing Location Resolution Reduces Contextual Capacity in Hippocampal Codes"
         ],
         "legendgroup": "Oral Session 3C: Natural Language Processing",
         "marker": {
          "color": "#6C7C32",
          "symbol": "circle"
         },
         "mode": "markers",
         "name": "Oral Session 3C: Natural Language Processing",
         "orientation": "v",
         "showlegend": true,
         "x": {
          "dtype": "f4",
          "bdata": "kcbjwA=="
         },
         "xaxis": "x",
         "y": {
          "dtype": "f4",
          "bdata": "i3g1QA=="
         },
         "yaxis": "y",
         "type": "scatter"
        },
        {
         "hovertemplate": "<b>%{hovertext}</b><br><br>KMeans=Oral Session 5D: Machine Learning and Science<br>tsne_0=%{x}<br>tsne_1=%{y}<extra></extra>",
         "hovertext": [
          "Learning diffusion at lightspeed",
          "Stochastic Taylor Derivative Estimator_ Efficient amortization for arbitrary differential operators"
         ],
         "legendgroup": "Oral Session 5D: Machine Learning and Science",
         "marker": {
          "color": "#778AAE",
          "symbol": "circle"
         },
         "mode": "markers",
         "name": "Oral Session 5D: Machine Learning and Science",
         "orientation": "v",
         "showlegend": true,
         "x": {
          "dtype": "f4",
          "bdata": "W4HHwBYIwcA="
         },
         "xaxis": "x",
         "y": {
          "dtype": "f4",
          "bdata": "wB45QEqJTEA="
         },
         "yaxis": "y",
         "type": "scatter"
        },
        {
         "hovertemplate": "<b>%{hovertext}</b><br><br>KMeans=Oral Session 6D: Deep Learning Architecture, Infrastructure<br>tsne_0=%{x}<br>tsne_1=%{y}<extra></extra>",
         "hovertext": [
          "VASA-1_ Lifelike Audio-Driven Talking Faces Generated in Real Time",
          "Convolutional Differentiable Logic Gate Networks",
          "You Only Cache Once_ Decoder-Decoder Architectures for Language Models",
          "Visual Autoregressive Modeling_ Scalable Image Generation via Next-Scale Prediction",
          "MetaLA_ Unified Optimal Linear Approximation to Softmax Attention Map"
         ],
         "legendgroup": "Oral Session 6D: Deep Learning Architecture, Infrastructure",
         "marker": {
          "color": "#862A16",
          "symbol": "circle"
         },
         "mode": "markers",
         "name": "Oral Session 6D: Deep Learning Architecture, Infrastructure",
         "orientation": "v",
         "showlegend": true,
         "x": {
          "dtype": "f4",
          "bdata": "i6KFwB+5J8Cd+bPAxc2bwHGwtsA="
         },
         "xaxis": "x",
         "y": {
          "dtype": "f4",
          "bdata": "tZm9PhgAzr6C4Qm/6hIQPt354L4="
         },
         "yaxis": "y",
         "type": "scatter"
        },
        {
         "hovertemplate": "<b>%{hovertext}</b><br><br>KMeans=Oral Session 4B: Diffusion-based Models<br>tsne_0=%{x}<br>tsne_1=%{y}<extra></extra>",
         "hovertext": [
          "Return of Unconditional Generation_ A Self-supervised Representation Generation Method",
          "Stylus_ Automatic Adapter Selection for Diffusion Models",
          "Improved Distribution Matching Distillation for Fast Image Synthesis",
          "Guiding a Diffusion Model with a Bad Version of Itself",
          "Maximum Entropy Inverse Reinforcement Learning of Diffusion Models with Energy-Based Models",
          "Graph Diffusion Transformers for Multi-Conditional Molecular Generation"
         ],
         "legendgroup": "Oral Session 4B: Diffusion-based Models",
         "marker": {
          "color": "#A777F1",
          "symbol": "circle"
         },
         "mode": "markers",
         "name": "Oral Session 4B: Diffusion-based Models",
         "orientation": "v",
         "showlegend": true,
         "x": {
          "dtype": "f4",
          "bdata": "QDqcwH+0ocCfDJvANLqhwHCAqMCJUK/A"
         },
         "xaxis": "x",
         "y": {
          "dtype": "f4",
          "bdata": "knFfP1YQkr93UoA/flydPxgsCEC3Wsc/"
         },
         "yaxis": "y",
         "type": "scatter"
        },
        {
         "hovertemplate": "<b>%{hovertext}</b><br><br>KMeans=Oral Session 5B: Graph Neural Networks, Causal Inference<br>tsne_0=%{x}<br>tsne_1=%{y}<extra></extra>",
         "hovertext": [
          "Do Finetti_ On Causal Effects for Exchangeable Data",
          "Identification and Estimation of the Bi-Directional MR with Some Invalid Instruments"
         ],
         "legendgroup": "Oral Session 5B: Graph Neural Networks, Causal Inference",
         "marker": {
          "color": "#620042",
          "symbol": "circle"
         },
         "mode": "markers",
         "name": "Oral Session 5B: Graph Neural Networks, Causal Inference",
         "orientation": "v",
         "showlegend": true,
         "x": {
          "dtype": "f4",
          "bdata": "S6sTwV0cG8E="
         },
         "xaxis": "x",
         "y": {
          "dtype": "f4",
          "bdata": "jvkZQKaED0A="
         },
         "yaxis": "y",
         "type": "scatter"
        },
        {
         "hovertemplate": "<b>%{hovertext}</b><br><br>KMeans=Oral Session 6A: Machine Learning and Science, Safety<br>tsne_0=%{x}<br>tsne_1=%{y}<extra></extra>",
         "hovertext": [
          "MDAgents_ An Adaptive Collaboration of LLMs for Medical Decision-Making",
          "MedCalc-Bench_ Evaluating Large Language Models for Medical Calculations"
         ],
         "legendgroup": "Oral Session 6A: Machine Learning and Science, Safety",
         "marker": {
          "color": "#1616A7",
          "symbol": "circle"
         },
         "mode": "markers",
         "name": "Oral Session 6A: Machine Learning and Science, Safety",
         "orientation": "v",
         "showlegend": true,
         "x": {
          "dtype": "f4",
          "bdata": "T7LywIX79sA="
         },
         "xaxis": "x",
         "y": {
          "dtype": "f4",
          "bdata": "zNt4wIWvgMA="
         },
         "yaxis": "y",
         "type": "scatter"
        },
        {
         "hovertemplate": "<b>%{hovertext}</b><br><br>KMeans=Oral Session 1D: Learning Theory<br>tsne_0=%{x}<br>tsne_1=%{y}<extra></extra>",
         "hovertext": [
          "Achieving Optimal Clustering in Gaussian Mixture Models with Anisotropic Covariance Structures"
         ],
         "legendgroup": "Oral Session 1D: Learning Theory",
         "marker": {
          "color": "#DA60CA",
          "symbol": "circle"
         },
         "mode": "markers",
         "name": "Oral Session 1D: Learning Theory",
         "orientation": "v",
         "showlegend": true,
         "x": {
          "dtype": "f4",
          "bdata": "kPz+wA=="
         },
         "xaxis": "x",
         "y": {
          "dtype": "f4",
          "bdata": "eJCBQA=="
         },
         "yaxis": "y",
         "type": "scatter"
        },
        {
         "hovertemplate": "<b>%{hovertext}</b><br><br>KMeans=Oral Session 3B: Natural Language Processing<br>tsne_0=%{x}<br>tsne_1=%{y}<extra></extra>",
         "hovertext": [
          "Brain Treebank_ Large-scale intracranial recordings from naturalistic language stimuli"
         ],
         "legendgroup": "Oral Session 3B: Natural Language Processing",
         "marker": {
          "color": "#6C4516",
          "symbol": "circle"
         },
         "mode": "markers",
         "name": "Oral Session 3B: Natural Language Processing",
         "orientation": "v",
         "showlegend": true,
         "x": {
          "dtype": "f4",
          "bdata": "17NawA=="
         },
         "xaxis": "x",
         "y": {
          "dtype": "f4",
          "bdata": "eWsuwA=="
         },
         "yaxis": "y",
         "type": "scatter"
        },
        {
         "hovertemplate": "<b>%{hovertext}</b><br><br>KMeans=Oral Session 6B: Safety, New Data<br>tsne_0=%{x}<br>tsne_1=%{y}<extra></extra>",
         "hovertext": [
          "A Taxonomy of Challenges to Curating Fair Datasets"
         ],
         "legendgroup": "Oral Session 6B: Safety, New Data",
         "marker": {
          "color": "#0D2A63",
          "symbol": "circle"
         },
         "mode": "markers",
         "name": "Oral Session 6B: Safety, New Data",
         "orientation": "v",
         "showlegend": true,
         "x": {
          "dtype": "f4",
          "bdata": "jJoOwQ=="
         },
         "xaxis": "x",
         "y": {
          "dtype": "f4",
          "bdata": "mdTXvw=="
         },
         "yaxis": "y",
         "type": "scatter"
        },
        {
         "hovertemplate": "<b>%{hovertext}</b><br><br>KMeans=Oral Session 6C: New Data<br>tsne_0=%{x}<br>tsne_1=%{y}<extra></extra>",
         "hovertext": [
          "ChaosBench_ A Multi-Channel, Physics-Based Benchmark for Subseasonal-to-Seasonal Climate Prediction"
         ],
         "legendgroup": "Oral Session 6C: New Data",
         "marker": {
          "color": "#AF0038",
          "symbol": "circle"
         },
         "mode": "markers",
         "name": "Oral Session 6C: New Data",
         "orientation": "v",
         "showlegend": true,
         "x": {
          "dtype": "f4",
          "bdata": "KGg9wA=="
         },
         "xaxis": "x",
         "y": {
          "dtype": "f4",
          "bdata": "KlA2QA=="
         },
         "yaxis": "y",
         "type": "scatter"
        }
       ],
       "layout": {
        "template": {
         "data": {
          "histogram2dcontour": [
           {
            "type": "histogram2dcontour",
            "colorbar": {
             "outlinewidth": 0,
             "ticks": ""
            },
            "colorscale": [
             [
              0.0,
              "#0d0887"
             ],
             [
              0.1111111111111111,
              "#46039f"
             ],
             [
              0.2222222222222222,
              "#7201a8"
             ],
             [
              0.3333333333333333,
              "#9c179e"
             ],
             [
              0.4444444444444444,
              "#bd3786"
             ],
             [
              0.5555555555555556,
              "#d8576b"
             ],
             [
              0.6666666666666666,
              "#ed7953"
             ],
             [
              0.7777777777777778,
              "#fb9f3a"
             ],
             [
              0.8888888888888888,
              "#fdca26"
             ],
             [
              1.0,
              "#f0f921"
             ]
            ]
           }
          ],
          "choropleth": [
           {
            "type": "choropleth",
            "colorbar": {
             "outlinewidth": 0,
             "ticks": ""
            }
           }
          ],
          "histogram2d": [
           {
            "type": "histogram2d",
            "colorbar": {
             "outlinewidth": 0,
             "ticks": ""
            },
            "colorscale": [
             [
              0.0,
              "#0d0887"
             ],
             [
              0.1111111111111111,
              "#46039f"
             ],
             [
              0.2222222222222222,
              "#7201a8"
             ],
             [
              0.3333333333333333,
              "#9c179e"
             ],
             [
              0.4444444444444444,
              "#bd3786"
             ],
             [
              0.5555555555555556,
              "#d8576b"
             ],
             [
              0.6666666666666666,
              "#ed7953"
             ],
             [
              0.7777777777777778,
              "#fb9f3a"
             ],
             [
              0.8888888888888888,
              "#fdca26"
             ],
             [
              1.0,
              "#f0f921"
             ]
            ]
           }
          ],
          "heatmap": [
           {
            "type": "heatmap",
            "colorbar": {
             "outlinewidth": 0,
             "ticks": ""
            },
            "colorscale": [
             [
              0.0,
              "#0d0887"
             ],
             [
              0.1111111111111111,
              "#46039f"
             ],
             [
              0.2222222222222222,
              "#7201a8"
             ],
             [
              0.3333333333333333,
              "#9c179e"
             ],
             [
              0.4444444444444444,
              "#bd3786"
             ],
             [
              0.5555555555555556,
              "#d8576b"
             ],
             [
              0.6666666666666666,
              "#ed7953"
             ],
             [
              0.7777777777777778,
              "#fb9f3a"
             ],
             [
              0.8888888888888888,
              "#fdca26"
             ],
             [
              1.0,
              "#f0f921"
             ]
            ]
           }
          ],
          "contourcarpet": [
           {
            "type": "contourcarpet",
            "colorbar": {
             "outlinewidth": 0,
             "ticks": ""
            }
           }
          ],
          "contour": [
           {
            "type": "contour",
            "colorbar": {
             "outlinewidth": 0,
             "ticks": ""
            },
            "colorscale": [
             [
              0.0,
              "#0d0887"
             ],
             [
              0.1111111111111111,
              "#46039f"
             ],
             [
              0.2222222222222222,
              "#7201a8"
             ],
             [
              0.3333333333333333,
              "#9c179e"
             ],
             [
              0.4444444444444444,
              "#bd3786"
             ],
             [
              0.5555555555555556,
              "#d8576b"
             ],
             [
              0.6666666666666666,
              "#ed7953"
             ],
             [
              0.7777777777777778,
              "#fb9f3a"
             ],
             [
              0.8888888888888888,
              "#fdca26"
             ],
             [
              1.0,
              "#f0f921"
             ]
            ]
           }
          ],
          "surface": [
           {
            "type": "surface",
            "colorbar": {
             "outlinewidth": 0,
             "ticks": ""
            },
            "colorscale": [
             [
              0.0,
              "#0d0887"
             ],
             [
              0.1111111111111111,
              "#46039f"
             ],
             [
              0.2222222222222222,
              "#7201a8"
             ],
             [
              0.3333333333333333,
              "#9c179e"
             ],
             [
              0.4444444444444444,
              "#bd3786"
             ],
             [
              0.5555555555555556,
              "#d8576b"
             ],
             [
              0.6666666666666666,
              "#ed7953"
             ],
             [
              0.7777777777777778,
              "#fb9f3a"
             ],
             [
              0.8888888888888888,
              "#fdca26"
             ],
             [
              1.0,
              "#f0f921"
             ]
            ]
           }
          ],
          "mesh3d": [
           {
            "type": "mesh3d",
            "colorbar": {
             "outlinewidth": 0,
             "ticks": ""
            }
           }
          ],
          "scatter": [
           {
            "marker": {
             "line": {
              "color": "#283442"
             }
            },
            "type": "scatter"
           }
          ],
          "parcoords": [
           {
            "type": "parcoords",
            "line": {
             "colorbar": {
              "outlinewidth": 0,
              "ticks": ""
             }
            }
           }
          ],
          "scatterpolargl": [
           {
            "type": "scatterpolargl",
            "marker": {
             "colorbar": {
              "outlinewidth": 0,
              "ticks": ""
             }
            }
           }
          ],
          "bar": [
           {
            "error_x": {
             "color": "#f2f5fa"
            },
            "error_y": {
             "color": "#f2f5fa"
            },
            "marker": {
             "line": {
              "color": "rgb(17,17,17)",
              "width": 0.5
             },
             "pattern": {
              "fillmode": "overlay",
              "size": 10,
              "solidity": 0.2
             }
            },
            "type": "bar"
           }
          ],
          "scattergeo": [
           {
            "type": "scattergeo",
            "marker": {
             "colorbar": {
              "outlinewidth": 0,
              "ticks": ""
             }
            }
           }
          ],
          "scatterpolar": [
           {
            "type": "scatterpolar",
            "marker": {
             "colorbar": {
              "outlinewidth": 0,
              "ticks": ""
             }
            }
           }
          ],
          "histogram": [
           {
            "marker": {
             "pattern": {
              "fillmode": "overlay",
              "size": 10,
              "solidity": 0.2
             }
            },
            "type": "histogram"
           }
          ],
          "scattergl": [
           {
            "marker": {
             "line": {
              "color": "#283442"
             }
            },
            "type": "scattergl"
           }
          ],
          "scatter3d": [
           {
            "type": "scatter3d",
            "line": {
             "colorbar": {
              "outlinewidth": 0,
              "ticks": ""
             }
            },
            "marker": {
             "colorbar": {
              "outlinewidth": 0,
              "ticks": ""
             }
            }
           }
          ],
          "scattermap": [
           {
            "type": "scattermap",
            "marker": {
             "colorbar": {
              "outlinewidth": 0,
              "ticks": ""
             }
            }
           }
          ],
          "scattermapbox": [
           {
            "type": "scattermapbox",
            "marker": {
             "colorbar": {
              "outlinewidth": 0,
              "ticks": ""
             }
            }
           }
          ],
          "scatterternary": [
           {
            "type": "scatterternary",
            "marker": {
             "colorbar": {
              "outlinewidth": 0,
              "ticks": ""
             }
            }
           }
          ],
          "scattercarpet": [
           {
            "type": "scattercarpet",
            "marker": {
             "colorbar": {
              "outlinewidth": 0,
              "ticks": ""
             }
            }
           }
          ],
          "carpet": [
           {
            "aaxis": {
             "endlinecolor": "#A2B1C6",
             "gridcolor": "#506784",
             "linecolor": "#506784",
             "minorgridcolor": "#506784",
             "startlinecolor": "#A2B1C6"
            },
            "baxis": {
             "endlinecolor": "#A2B1C6",
             "gridcolor": "#506784",
             "linecolor": "#506784",
             "minorgridcolor": "#506784",
             "startlinecolor": "#A2B1C6"
            },
            "type": "carpet"
           }
          ],
          "table": [
           {
            "cells": {
             "fill": {
              "color": "#506784"
             },
             "line": {
              "color": "rgb(17,17,17)"
             }
            },
            "header": {
             "fill": {
              "color": "#2a3f5f"
             },
             "line": {
              "color": "rgb(17,17,17)"
             }
            },
            "type": "table"
           }
          ],
          "barpolar": [
           {
            "marker": {
             "line": {
              "color": "rgb(17,17,17)",
              "width": 0.5
             },
             "pattern": {
              "fillmode": "overlay",
              "size": 10,
              "solidity": 0.2
             }
            },
            "type": "barpolar"
           }
          ],
          "pie": [
           {
            "automargin": true,
            "type": "pie"
           }
          ]
         },
         "layout": {
          "autotypenumbers": "strict",
          "colorway": [
           "#636efa",
           "#EF553B",
           "#00cc96",
           "#ab63fa",
           "#FFA15A",
           "#19d3f3",
           "#FF6692",
           "#B6E880",
           "#FF97FF",
           "#FECB52"
          ],
          "font": {
           "color": "#f2f5fa"
          },
          "hovermode": "closest",
          "hoverlabel": {
           "align": "left"
          },
          "paper_bgcolor": "rgb(17,17,17)",
          "plot_bgcolor": "rgb(17,17,17)",
          "polar": {
           "bgcolor": "rgb(17,17,17)",
           "angularaxis": {
            "gridcolor": "#506784",
            "linecolor": "#506784",
            "ticks": ""
           },
           "radialaxis": {
            "gridcolor": "#506784",
            "linecolor": "#506784",
            "ticks": ""
           }
          },
          "ternary": {
           "bgcolor": "rgb(17,17,17)",
           "aaxis": {
            "gridcolor": "#506784",
            "linecolor": "#506784",
            "ticks": ""
           },
           "baxis": {
            "gridcolor": "#506784",
            "linecolor": "#506784",
            "ticks": ""
           },
           "caxis": {
            "gridcolor": "#506784",
            "linecolor": "#506784",
            "ticks": ""
           }
          },
          "coloraxis": {
           "colorbar": {
            "outlinewidth": 0,
            "ticks": ""
           }
          },
          "colorscale": {
           "sequential": [
            [
             0.0,
             "#0d0887"
            ],
            [
             0.1111111111111111,
             "#46039f"
            ],
            [
             0.2222222222222222,
             "#7201a8"
            ],
            [
             0.3333333333333333,
             "#9c179e"
            ],
            [
             0.4444444444444444,
             "#bd3786"
            ],
            [
             0.5555555555555556,
             "#d8576b"
            ],
            [
             0.6666666666666666,
             "#ed7953"
            ],
            [
             0.7777777777777778,
             "#fb9f3a"
            ],
            [
             0.8888888888888888,
             "#fdca26"
            ],
            [
             1.0,
             "#f0f921"
            ]
           ],
           "sequentialminus": [
            [
             0.0,
             "#0d0887"
            ],
            [
             0.1111111111111111,
             "#46039f"
            ],
            [
             0.2222222222222222,
             "#7201a8"
            ],
            [
             0.3333333333333333,
             "#9c179e"
            ],
            [
             0.4444444444444444,
             "#bd3786"
            ],
            [
             0.5555555555555556,
             "#d8576b"
            ],
            [
             0.6666666666666666,
             "#ed7953"
            ],
            [
             0.7777777777777778,
             "#fb9f3a"
            ],
            [
             0.8888888888888888,
             "#fdca26"
            ],
            [
             1.0,
             "#f0f921"
            ]
           ],
           "diverging": [
            [
             0,
             "#8e0152"
            ],
            [
             0.1,
             "#c51b7d"
            ],
            [
             0.2,
             "#de77ae"
            ],
            [
             0.3,
             "#f1b6da"
            ],
            [
             0.4,
             "#fde0ef"
            ],
            [
             0.5,
             "#f7f7f7"
            ],
            [
             0.6,
             "#e6f5d0"
            ],
            [
             0.7,
             "#b8e186"
            ],
            [
             0.8,
             "#7fbc41"
            ],
            [
             0.9,
             "#4d9221"
            ],
            [
             1,
             "#276419"
            ]
           ]
          },
          "xaxis": {
           "gridcolor": "#283442",
           "linecolor": "#506784",
           "ticks": "",
           "title": {
            "standoff": 15
           },
           "zerolinecolor": "#283442",
           "automargin": true,
           "zerolinewidth": 2
          },
          "yaxis": {
           "gridcolor": "#283442",
           "linecolor": "#506784",
           "ticks": "",
           "title": {
            "standoff": 15
           },
           "zerolinecolor": "#283442",
           "automargin": true,
           "zerolinewidth": 2
          },
          "scene": {
           "xaxis": {
            "backgroundcolor": "rgb(17,17,17)",
            "gridcolor": "#506784",
            "linecolor": "#506784",
            "showbackground": true,
            "ticks": "",
            "zerolinecolor": "#C8D4E3",
            "gridwidth": 2
           },
           "yaxis": {
            "backgroundcolor": "rgb(17,17,17)",
            "gridcolor": "#506784",
            "linecolor": "#506784",
            "showbackground": true,
            "ticks": "",
            "zerolinecolor": "#C8D4E3",
            "gridwidth": 2
           },
           "zaxis": {
            "backgroundcolor": "rgb(17,17,17)",
            "gridcolor": "#506784",
            "linecolor": "#506784",
            "showbackground": true,
            "ticks": "",
            "zerolinecolor": "#C8D4E3",
            "gridwidth": 2
           }
          },
          "shapedefaults": {
           "line": {
            "color": "#f2f5fa"
           }
          },
          "annotationdefaults": {
           "arrowcolor": "#f2f5fa",
           "arrowhead": 0,
           "arrowwidth": 1
          },
          "geo": {
           "bgcolor": "rgb(17,17,17)",
           "landcolor": "rgb(17,17,17)",
           "subunitcolor": "#506784",
           "showland": true,
           "showlakes": true,
           "lakecolor": "rgb(17,17,17)"
          },
          "title": {
           "x": 0.05
          },
          "updatemenudefaults": {
           "bgcolor": "#506784",
           "borderwidth": 0
          },
          "sliderdefaults": {
           "bgcolor": "#C8D4E3",
           "borderwidth": 1,
           "bordercolor": "rgb(17,17,17)",
           "tickwidth": 0
          },
          "mapbox": {
           "style": "dark"
          }
         }
        },
        "xaxis": {
         "anchor": "y",
         "domain": [
          0.0,
          1.0
         ],
         "title": {
          "text": "tsne_0"
         }
        },
        "yaxis": {
         "anchor": "x",
         "domain": [
          0.0,
          1.0
         ],
         "title": {
          "text": "tsne_1"
         }
        },
        "legend": {
         "title": {
          "text": "KMeans"
         },
         "tracegroupgap": 0
        },
        "title": {
         "text": "t-SNE Clustering — KMeans,"
        }
       },
       "config": {
        "plotlyServerURL": "https://plot.ly"
       }
      }
     },
     "metadata": {},
     "output_type": "display_data"
    }
   ],
   "execution_count": 15
  },
  {
   "metadata": {},
   "cell_type": "code",
   "outputs": [],
   "execution_count": null,
   "source": "",
   "id": "5e0cdce9b52e3a4d"
  },
  {
   "metadata": {},
   "cell_type": "markdown",
   "source": [
    "Idea to evaluate:\n",
    "- how much do polytopes hit each other.\n",
    "-- care about containing each other completely?"
   ],
   "id": "2c15019155dc0927"
  },
  {
   "metadata": {},
   "cell_type": "markdown",
   "source": "## Plotting:",
   "id": "88b44d3df908df4"
  },
  {
   "metadata": {
    "ExecuteTime": {
     "end_time": "2025-06-04T19:52:50.825495Z",
     "start_time": "2025-06-04T19:52:50.818563Z"
    }
   },
   "cell_type": "code",
   "source": [
    "eval_path = os.path.join(PROJECT_ROOT, 'result', 'NeurIPS', '2024', '20250602_2158', 'eval.csv')\n",
    "df = pd.read_csv(eval_path)"
   ],
   "id": "7f92cab40a399060",
   "outputs": [],
   "execution_count": 29
  },
  {
   "metadata": {
    "ExecuteTime": {
     "end_time": "2025-06-04T19:54:04.825701Z",
     "start_time": "2025-06-04T19:54:04.748790Z"
    }
   },
   "cell_type": "code",
   "source": [
    "import plotly.express as px\n",
    "\n",
    "# --- Metric groups ---\n",
    "intracluster_metrics = ['avg_compactness', 'avg_diameter', 'max_diameter', 'worst_avg_spread']\n",
    "objective_metrics = ['k-means', 'k-medoids']\n",
    "\n",
    "# --- Plot 1: Intra-cluster Metrics ---\n",
    "df_intracluster = df.melt(id_vars='model', value_vars=intracluster_metrics,\n",
    "                          var_name='metric', value_name='value')\n",
    "\n",
    "fig1 = px.bar(\n",
    "    df_intracluster,\n",
    "    x='metric',\n",
    "    y='value',\n",
    "    color='model',\n",
    "    barmode='group',\n",
    "    title=\"Intra-cluster Metrics Across Clustering Methods\"\n",
    ")\n",
    "fig1.update_layout(template='plotly_dark')\n",
    "fig1.show()\n",
    "\n",
    "# --- Plot 2: Objective Scores ---\n",
    "df_objectives = df.melt(id_vars='model', value_vars=objective_metrics,\n",
    "                        var_name='metric', value_name='value')\n",
    "\n",
    "fig2 = px.bar(\n",
    "    df_objectives,\n",
    "    x='metric',\n",
    "    y='value',\n",
    "    color='model',\n",
    "    barmode='group',\n",
    "    title=\"Objective Scores (k-means / k-medoids)\"\n",
    ")\n",
    "fig2.update_layout(template='plotly_dark')\n",
    "fig2.show()\n"
   ],
   "id": "7dd004700304873a",
   "outputs": [
    {
     "data": {
      "application/vnd.plotly.v1+json": {
       "data": [
        {
         "alignmentgroup": "True",
         "hovertemplate": "model=GreedyCohesive<br>metric=%{x}<br>value=%{y}<extra></extra>",
         "legendgroup": "GreedyCohesive",
         "marker": {
          "color": "#636efa",
          "pattern": {
           "shape": ""
          }
         },
         "name": "GreedyCohesive",
         "offsetgroup": "GreedyCohesive",
         "orientation": "v",
         "showlegend": true,
         "textposition": "auto",
         "x": [
          "avg_compactness",
          "avg_diameter",
          "max_diameter",
          "worst_avg_spread"
         ],
         "xaxis": "x",
         "y": {
          "dtype": "f8",
          "bdata": "1AznO8pl4T+A30d4RfPiP0MPJW7CT+s/g5ykT/zN6T8="
         },
         "yaxis": "y",
         "type": "bar"
        },
        {
         "alignmentgroup": "True",
         "hovertemplate": "model=KMeans<br>metric=%{x}<br>value=%{y}<extra></extra>",
         "legendgroup": "KMeans",
         "marker": {
          "color": "#EF553B",
          "pattern": {
           "shape": ""
          }
         },
         "name": "KMeans",
         "offsetgroup": "KMeans",
         "orientation": "v",
         "showlegend": true,
         "textposition": "auto",
         "x": [
          "avg_compactness",
          "avg_diameter",
          "max_diameter",
          "worst_avg_spread"
         ],
         "xaxis": "x",
         "y": {
          "dtype": "f8",
          "bdata": "/wqksX012D8lDyoKECLbPwcXB2qQNuY/BgNQyC7I5T8="
         },
         "yaxis": "y",
         "type": "bar"
        },
        {
         "alignmentgroup": "True",
         "hovertemplate": "model=KMedoids<br>metric=%{x}<br>value=%{y}<extra></extra>",
         "legendgroup": "KMedoids",
         "marker": {
          "color": "#00cc96",
          "pattern": {
           "shape": ""
          }
         },
         "name": "KMedoids",
         "offsetgroup": "KMedoids",
         "orientation": "v",
         "showlegend": true,
         "textposition": "auto",
         "x": [
          "avg_compactness",
          "avg_diameter",
          "max_diameter",
          "worst_avg_spread"
         ],
         "xaxis": "x",
         "y": {
          "dtype": "f8",
          "bdata": "80CQ4LQ20z/Asv5QEtvVP8llslfMi+U/+8U/hUwW4j8="
         },
         "yaxis": "y",
         "type": "bar"
        },
        {
         "alignmentgroup": "True",
         "hovertemplate": "model=Baseline<br>metric=%{x}<br>value=%{y}<extra></extra>",
         "legendgroup": "Baseline",
         "marker": {
          "color": "#ab63fa",
          "pattern": {
           "shape": ""
          }
         },
         "name": "Baseline",
         "offsetgroup": "Baseline",
         "orientation": "v",
         "showlegend": true,
         "textposition": "auto",
         "x": [
          "avg_compactness",
          "avg_diameter",
          "max_diameter",
          "worst_avg_spread"
         ],
         "xaxis": "x",
         "y": {
          "dtype": "f8",
          "bdata": "jhRzrx/v4z+lfLapCbDlPwaOrbwQDOw/AJ0ifZPb5z8="
         },
         "yaxis": "y",
         "type": "bar"
        }
       ],
       "layout": {
        "template": {
         "data": {
          "histogram2dcontour": [
           {
            "type": "histogram2dcontour",
            "colorbar": {
             "outlinewidth": 0,
             "ticks": ""
            },
            "colorscale": [
             [
              0.0,
              "#0d0887"
             ],
             [
              0.1111111111111111,
              "#46039f"
             ],
             [
              0.2222222222222222,
              "#7201a8"
             ],
             [
              0.3333333333333333,
              "#9c179e"
             ],
             [
              0.4444444444444444,
              "#bd3786"
             ],
             [
              0.5555555555555556,
              "#d8576b"
             ],
             [
              0.6666666666666666,
              "#ed7953"
             ],
             [
              0.7777777777777778,
              "#fb9f3a"
             ],
             [
              0.8888888888888888,
              "#fdca26"
             ],
             [
              1.0,
              "#f0f921"
             ]
            ]
           }
          ],
          "choropleth": [
           {
            "type": "choropleth",
            "colorbar": {
             "outlinewidth": 0,
             "ticks": ""
            }
           }
          ],
          "histogram2d": [
           {
            "type": "histogram2d",
            "colorbar": {
             "outlinewidth": 0,
             "ticks": ""
            },
            "colorscale": [
             [
              0.0,
              "#0d0887"
             ],
             [
              0.1111111111111111,
              "#46039f"
             ],
             [
              0.2222222222222222,
              "#7201a8"
             ],
             [
              0.3333333333333333,
              "#9c179e"
             ],
             [
              0.4444444444444444,
              "#bd3786"
             ],
             [
              0.5555555555555556,
              "#d8576b"
             ],
             [
              0.6666666666666666,
              "#ed7953"
             ],
             [
              0.7777777777777778,
              "#fb9f3a"
             ],
             [
              0.8888888888888888,
              "#fdca26"
             ],
             [
              1.0,
              "#f0f921"
             ]
            ]
           }
          ],
          "heatmap": [
           {
            "type": "heatmap",
            "colorbar": {
             "outlinewidth": 0,
             "ticks": ""
            },
            "colorscale": [
             [
              0.0,
              "#0d0887"
             ],
             [
              0.1111111111111111,
              "#46039f"
             ],
             [
              0.2222222222222222,
              "#7201a8"
             ],
             [
              0.3333333333333333,
              "#9c179e"
             ],
             [
              0.4444444444444444,
              "#bd3786"
             ],
             [
              0.5555555555555556,
              "#d8576b"
             ],
             [
              0.6666666666666666,
              "#ed7953"
             ],
             [
              0.7777777777777778,
              "#fb9f3a"
             ],
             [
              0.8888888888888888,
              "#fdca26"
             ],
             [
              1.0,
              "#f0f921"
             ]
            ]
           }
          ],
          "contourcarpet": [
           {
            "type": "contourcarpet",
            "colorbar": {
             "outlinewidth": 0,
             "ticks": ""
            }
           }
          ],
          "contour": [
           {
            "type": "contour",
            "colorbar": {
             "outlinewidth": 0,
             "ticks": ""
            },
            "colorscale": [
             [
              0.0,
              "#0d0887"
             ],
             [
              0.1111111111111111,
              "#46039f"
             ],
             [
              0.2222222222222222,
              "#7201a8"
             ],
             [
              0.3333333333333333,
              "#9c179e"
             ],
             [
              0.4444444444444444,
              "#bd3786"
             ],
             [
              0.5555555555555556,
              "#d8576b"
             ],
             [
              0.6666666666666666,
              "#ed7953"
             ],
             [
              0.7777777777777778,
              "#fb9f3a"
             ],
             [
              0.8888888888888888,
              "#fdca26"
             ],
             [
              1.0,
              "#f0f921"
             ]
            ]
           }
          ],
          "surface": [
           {
            "type": "surface",
            "colorbar": {
             "outlinewidth": 0,
             "ticks": ""
            },
            "colorscale": [
             [
              0.0,
              "#0d0887"
             ],
             [
              0.1111111111111111,
              "#46039f"
             ],
             [
              0.2222222222222222,
              "#7201a8"
             ],
             [
              0.3333333333333333,
              "#9c179e"
             ],
             [
              0.4444444444444444,
              "#bd3786"
             ],
             [
              0.5555555555555556,
              "#d8576b"
             ],
             [
              0.6666666666666666,
              "#ed7953"
             ],
             [
              0.7777777777777778,
              "#fb9f3a"
             ],
             [
              0.8888888888888888,
              "#fdca26"
             ],
             [
              1.0,
              "#f0f921"
             ]
            ]
           }
          ],
          "mesh3d": [
           {
            "type": "mesh3d",
            "colorbar": {
             "outlinewidth": 0,
             "ticks": ""
            }
           }
          ],
          "scatter": [
           {
            "marker": {
             "line": {
              "color": "#283442"
             }
            },
            "type": "scatter"
           }
          ],
          "parcoords": [
           {
            "type": "parcoords",
            "line": {
             "colorbar": {
              "outlinewidth": 0,
              "ticks": ""
             }
            }
           }
          ],
          "scatterpolargl": [
           {
            "type": "scatterpolargl",
            "marker": {
             "colorbar": {
              "outlinewidth": 0,
              "ticks": ""
             }
            }
           }
          ],
          "bar": [
           {
            "error_x": {
             "color": "#f2f5fa"
            },
            "error_y": {
             "color": "#f2f5fa"
            },
            "marker": {
             "line": {
              "color": "rgb(17,17,17)",
              "width": 0.5
             },
             "pattern": {
              "fillmode": "overlay",
              "size": 10,
              "solidity": 0.2
             }
            },
            "type": "bar"
           }
          ],
          "scattergeo": [
           {
            "type": "scattergeo",
            "marker": {
             "colorbar": {
              "outlinewidth": 0,
              "ticks": ""
             }
            }
           }
          ],
          "scatterpolar": [
           {
            "type": "scatterpolar",
            "marker": {
             "colorbar": {
              "outlinewidth": 0,
              "ticks": ""
             }
            }
           }
          ],
          "histogram": [
           {
            "marker": {
             "pattern": {
              "fillmode": "overlay",
              "size": 10,
              "solidity": 0.2
             }
            },
            "type": "histogram"
           }
          ],
          "scattergl": [
           {
            "marker": {
             "line": {
              "color": "#283442"
             }
            },
            "type": "scattergl"
           }
          ],
          "scatter3d": [
           {
            "type": "scatter3d",
            "line": {
             "colorbar": {
              "outlinewidth": 0,
              "ticks": ""
             }
            },
            "marker": {
             "colorbar": {
              "outlinewidth": 0,
              "ticks": ""
             }
            }
           }
          ],
          "scattermap": [
           {
            "type": "scattermap",
            "marker": {
             "colorbar": {
              "outlinewidth": 0,
              "ticks": ""
             }
            }
           }
          ],
          "scattermapbox": [
           {
            "type": "scattermapbox",
            "marker": {
             "colorbar": {
              "outlinewidth": 0,
              "ticks": ""
             }
            }
           }
          ],
          "scatterternary": [
           {
            "type": "scatterternary",
            "marker": {
             "colorbar": {
              "outlinewidth": 0,
              "ticks": ""
             }
            }
           }
          ],
          "scattercarpet": [
           {
            "type": "scattercarpet",
            "marker": {
             "colorbar": {
              "outlinewidth": 0,
              "ticks": ""
             }
            }
           }
          ],
          "carpet": [
           {
            "aaxis": {
             "endlinecolor": "#A2B1C6",
             "gridcolor": "#506784",
             "linecolor": "#506784",
             "minorgridcolor": "#506784",
             "startlinecolor": "#A2B1C6"
            },
            "baxis": {
             "endlinecolor": "#A2B1C6",
             "gridcolor": "#506784",
             "linecolor": "#506784",
             "minorgridcolor": "#506784",
             "startlinecolor": "#A2B1C6"
            },
            "type": "carpet"
           }
          ],
          "table": [
           {
            "cells": {
             "fill": {
              "color": "#506784"
             },
             "line": {
              "color": "rgb(17,17,17)"
             }
            },
            "header": {
             "fill": {
              "color": "#2a3f5f"
             },
             "line": {
              "color": "rgb(17,17,17)"
             }
            },
            "type": "table"
           }
          ],
          "barpolar": [
           {
            "marker": {
             "line": {
              "color": "rgb(17,17,17)",
              "width": 0.5
             },
             "pattern": {
              "fillmode": "overlay",
              "size": 10,
              "solidity": 0.2
             }
            },
            "type": "barpolar"
           }
          ],
          "pie": [
           {
            "automargin": true,
            "type": "pie"
           }
          ]
         },
         "layout": {
          "autotypenumbers": "strict",
          "colorway": [
           "#636efa",
           "#EF553B",
           "#00cc96",
           "#ab63fa",
           "#FFA15A",
           "#19d3f3",
           "#FF6692",
           "#B6E880",
           "#FF97FF",
           "#FECB52"
          ],
          "font": {
           "color": "#f2f5fa"
          },
          "hovermode": "closest",
          "hoverlabel": {
           "align": "left"
          },
          "paper_bgcolor": "rgb(17,17,17)",
          "plot_bgcolor": "rgb(17,17,17)",
          "polar": {
           "bgcolor": "rgb(17,17,17)",
           "angularaxis": {
            "gridcolor": "#506784",
            "linecolor": "#506784",
            "ticks": ""
           },
           "radialaxis": {
            "gridcolor": "#506784",
            "linecolor": "#506784",
            "ticks": ""
           }
          },
          "ternary": {
           "bgcolor": "rgb(17,17,17)",
           "aaxis": {
            "gridcolor": "#506784",
            "linecolor": "#506784",
            "ticks": ""
           },
           "baxis": {
            "gridcolor": "#506784",
            "linecolor": "#506784",
            "ticks": ""
           },
           "caxis": {
            "gridcolor": "#506784",
            "linecolor": "#506784",
            "ticks": ""
           }
          },
          "coloraxis": {
           "colorbar": {
            "outlinewidth": 0,
            "ticks": ""
           }
          },
          "colorscale": {
           "sequential": [
            [
             0.0,
             "#0d0887"
            ],
            [
             0.1111111111111111,
             "#46039f"
            ],
            [
             0.2222222222222222,
             "#7201a8"
            ],
            [
             0.3333333333333333,
             "#9c179e"
            ],
            [
             0.4444444444444444,
             "#bd3786"
            ],
            [
             0.5555555555555556,
             "#d8576b"
            ],
            [
             0.6666666666666666,
             "#ed7953"
            ],
            [
             0.7777777777777778,
             "#fb9f3a"
            ],
            [
             0.8888888888888888,
             "#fdca26"
            ],
            [
             1.0,
             "#f0f921"
            ]
           ],
           "sequentialminus": [
            [
             0.0,
             "#0d0887"
            ],
            [
             0.1111111111111111,
             "#46039f"
            ],
            [
             0.2222222222222222,
             "#7201a8"
            ],
            [
             0.3333333333333333,
             "#9c179e"
            ],
            [
             0.4444444444444444,
             "#bd3786"
            ],
            [
             0.5555555555555556,
             "#d8576b"
            ],
            [
             0.6666666666666666,
             "#ed7953"
            ],
            [
             0.7777777777777778,
             "#fb9f3a"
            ],
            [
             0.8888888888888888,
             "#fdca26"
            ],
            [
             1.0,
             "#f0f921"
            ]
           ],
           "diverging": [
            [
             0,
             "#8e0152"
            ],
            [
             0.1,
             "#c51b7d"
            ],
            [
             0.2,
             "#de77ae"
            ],
            [
             0.3,
             "#f1b6da"
            ],
            [
             0.4,
             "#fde0ef"
            ],
            [
             0.5,
             "#f7f7f7"
            ],
            [
             0.6,
             "#e6f5d0"
            ],
            [
             0.7,
             "#b8e186"
            ],
            [
             0.8,
             "#7fbc41"
            ],
            [
             0.9,
             "#4d9221"
            ],
            [
             1,
             "#276419"
            ]
           ]
          },
          "xaxis": {
           "gridcolor": "#283442",
           "linecolor": "#506784",
           "ticks": "",
           "title": {
            "standoff": 15
           },
           "zerolinecolor": "#283442",
           "automargin": true,
           "zerolinewidth": 2
          },
          "yaxis": {
           "gridcolor": "#283442",
           "linecolor": "#506784",
           "ticks": "",
           "title": {
            "standoff": 15
           },
           "zerolinecolor": "#283442",
           "automargin": true,
           "zerolinewidth": 2
          },
          "scene": {
           "xaxis": {
            "backgroundcolor": "rgb(17,17,17)",
            "gridcolor": "#506784",
            "linecolor": "#506784",
            "showbackground": true,
            "ticks": "",
            "zerolinecolor": "#C8D4E3",
            "gridwidth": 2
           },
           "yaxis": {
            "backgroundcolor": "rgb(17,17,17)",
            "gridcolor": "#506784",
            "linecolor": "#506784",
            "showbackground": true,
            "ticks": "",
            "zerolinecolor": "#C8D4E3",
            "gridwidth": 2
           },
           "zaxis": {
            "backgroundcolor": "rgb(17,17,17)",
            "gridcolor": "#506784",
            "linecolor": "#506784",
            "showbackground": true,
            "ticks": "",
            "zerolinecolor": "#C8D4E3",
            "gridwidth": 2
           }
          },
          "shapedefaults": {
           "line": {
            "color": "#f2f5fa"
           }
          },
          "annotationdefaults": {
           "arrowcolor": "#f2f5fa",
           "arrowhead": 0,
           "arrowwidth": 1
          },
          "geo": {
           "bgcolor": "rgb(17,17,17)",
           "landcolor": "rgb(17,17,17)",
           "subunitcolor": "#506784",
           "showland": true,
           "showlakes": true,
           "lakecolor": "rgb(17,17,17)"
          },
          "title": {
           "x": 0.05
          },
          "updatemenudefaults": {
           "bgcolor": "#506784",
           "borderwidth": 0
          },
          "sliderdefaults": {
           "bgcolor": "#C8D4E3",
           "borderwidth": 1,
           "bordercolor": "rgb(17,17,17)",
           "tickwidth": 0
          },
          "mapbox": {
           "style": "dark"
          }
         }
        },
        "xaxis": {
         "anchor": "y",
         "domain": [
          0.0,
          1.0
         ],
         "title": {
          "text": "metric"
         }
        },
        "yaxis": {
         "anchor": "x",
         "domain": [
          0.0,
          1.0
         ],
         "title": {
          "text": "value"
         }
        },
        "legend": {
         "title": {
          "text": "model"
         },
         "tracegroupgap": 0
        },
        "title": {
         "text": "Intra-cluster Metrics Across Clustering Methods"
        },
        "barmode": "group"
       },
       "config": {
        "plotlyServerURL": "https://plot.ly"
       }
      }
     },
     "metadata": {},
     "output_type": "display_data"
    },
    {
     "data": {
      "application/vnd.plotly.v1+json": {
       "data": [
        {
         "alignmentgroup": "True",
         "hovertemplate": "model=GreedyCohesive<br>metric=%{x}<br>value=%{y}<extra></extra>",
         "legendgroup": "GreedyCohesive",
         "marker": {
          "color": "#636efa",
          "pattern": {
           "shape": ""
          }
         },
         "name": "GreedyCohesive",
         "offsetgroup": "GreedyCohesive",
         "orientation": "v",
         "showlegend": true,
         "textposition": "auto",
         "x": [
          "k-means",
          "k-medoids"
         ],
         "xaxis": "x",
         "y": {
          "dtype": "f8",
          "bdata": "FRemMLPuHUA/9ZHsku44QA=="
         },
         "yaxis": "y",
         "type": "bar"
        },
        {
         "alignmentgroup": "True",
         "hovertemplate": "model=KMeans<br>metric=%{x}<br>value=%{y}<extra></extra>",
         "legendgroup": "KMeans",
         "marker": {
          "color": "#EF553B",
          "pattern": {
           "shape": ""
          }
         },
         "name": "KMeans",
         "offsetgroup": "KMeans",
         "orientation": "v",
         "showlegend": true,
         "textposition": "auto",
         "x": [
          "k-means",
          "k-medoids"
         ],
         "xaxis": "x",
         "y": {
          "dtype": "f8",
          "bdata": "J87N6bObGkDTQD0Fivs2QA=="
         },
         "yaxis": "y",
         "type": "bar"
        },
        {
         "alignmentgroup": "True",
         "hovertemplate": "model=KMedoids<br>metric=%{x}<br>value=%{y}<extra></extra>",
         "legendgroup": "KMedoids",
         "marker": {
          "color": "#00cc96",
          "pattern": {
           "shape": ""
          }
         },
         "name": "KMedoids",
         "offsetgroup": "KMedoids",
         "orientation": "v",
         "showlegend": true,
         "textposition": "auto",
         "x": [
          "k-means",
          "k-medoids"
         ],
         "xaxis": "x",
         "y": {
          "dtype": "f8",
          "bdata": "37UQi139GUCsljiZgYY2QA=="
         },
         "yaxis": "y",
         "type": "bar"
        },
        {
         "alignmentgroup": "True",
         "hovertemplate": "model=Baseline<br>metric=%{x}<br>value=%{y}<extra></extra>",
         "legendgroup": "Baseline",
         "marker": {
          "color": "#ab63fa",
          "pattern": {
           "shape": ""
          }
         },
         "name": "Baseline",
         "offsetgroup": "Baseline",
         "orientation": "v",
         "showlegend": true,
         "textposition": "auto",
         "x": [
          "k-means",
          "k-medoids"
         ],
         "xaxis": "x",
         "y": {
          "dtype": "f8",
          "bdata": "QO5ad7oJI0DCEHoLAJY8QA=="
         },
         "yaxis": "y",
         "type": "bar"
        }
       ],
       "layout": {
        "template": {
         "data": {
          "histogram2dcontour": [
           {
            "type": "histogram2dcontour",
            "colorbar": {
             "outlinewidth": 0,
             "ticks": ""
            },
            "colorscale": [
             [
              0.0,
              "#0d0887"
             ],
             [
              0.1111111111111111,
              "#46039f"
             ],
             [
              0.2222222222222222,
              "#7201a8"
             ],
             [
              0.3333333333333333,
              "#9c179e"
             ],
             [
              0.4444444444444444,
              "#bd3786"
             ],
             [
              0.5555555555555556,
              "#d8576b"
             ],
             [
              0.6666666666666666,
              "#ed7953"
             ],
             [
              0.7777777777777778,
              "#fb9f3a"
             ],
             [
              0.8888888888888888,
              "#fdca26"
             ],
             [
              1.0,
              "#f0f921"
             ]
            ]
           }
          ],
          "choropleth": [
           {
            "type": "choropleth",
            "colorbar": {
             "outlinewidth": 0,
             "ticks": ""
            }
           }
          ],
          "histogram2d": [
           {
            "type": "histogram2d",
            "colorbar": {
             "outlinewidth": 0,
             "ticks": ""
            },
            "colorscale": [
             [
              0.0,
              "#0d0887"
             ],
             [
              0.1111111111111111,
              "#46039f"
             ],
             [
              0.2222222222222222,
              "#7201a8"
             ],
             [
              0.3333333333333333,
              "#9c179e"
             ],
             [
              0.4444444444444444,
              "#bd3786"
             ],
             [
              0.5555555555555556,
              "#d8576b"
             ],
             [
              0.6666666666666666,
              "#ed7953"
             ],
             [
              0.7777777777777778,
              "#fb9f3a"
             ],
             [
              0.8888888888888888,
              "#fdca26"
             ],
             [
              1.0,
              "#f0f921"
             ]
            ]
           }
          ],
          "heatmap": [
           {
            "type": "heatmap",
            "colorbar": {
             "outlinewidth": 0,
             "ticks": ""
            },
            "colorscale": [
             [
              0.0,
              "#0d0887"
             ],
             [
              0.1111111111111111,
              "#46039f"
             ],
             [
              0.2222222222222222,
              "#7201a8"
             ],
             [
              0.3333333333333333,
              "#9c179e"
             ],
             [
              0.4444444444444444,
              "#bd3786"
             ],
             [
              0.5555555555555556,
              "#d8576b"
             ],
             [
              0.6666666666666666,
              "#ed7953"
             ],
             [
              0.7777777777777778,
              "#fb9f3a"
             ],
             [
              0.8888888888888888,
              "#fdca26"
             ],
             [
              1.0,
              "#f0f921"
             ]
            ]
           }
          ],
          "contourcarpet": [
           {
            "type": "contourcarpet",
            "colorbar": {
             "outlinewidth": 0,
             "ticks": ""
            }
           }
          ],
          "contour": [
           {
            "type": "contour",
            "colorbar": {
             "outlinewidth": 0,
             "ticks": ""
            },
            "colorscale": [
             [
              0.0,
              "#0d0887"
             ],
             [
              0.1111111111111111,
              "#46039f"
             ],
             [
              0.2222222222222222,
              "#7201a8"
             ],
             [
              0.3333333333333333,
              "#9c179e"
             ],
             [
              0.4444444444444444,
              "#bd3786"
             ],
             [
              0.5555555555555556,
              "#d8576b"
             ],
             [
              0.6666666666666666,
              "#ed7953"
             ],
             [
              0.7777777777777778,
              "#fb9f3a"
             ],
             [
              0.8888888888888888,
              "#fdca26"
             ],
             [
              1.0,
              "#f0f921"
             ]
            ]
           }
          ],
          "surface": [
           {
            "type": "surface",
            "colorbar": {
             "outlinewidth": 0,
             "ticks": ""
            },
            "colorscale": [
             [
              0.0,
              "#0d0887"
             ],
             [
              0.1111111111111111,
              "#46039f"
             ],
             [
              0.2222222222222222,
              "#7201a8"
             ],
             [
              0.3333333333333333,
              "#9c179e"
             ],
             [
              0.4444444444444444,
              "#bd3786"
             ],
             [
              0.5555555555555556,
              "#d8576b"
             ],
             [
              0.6666666666666666,
              "#ed7953"
             ],
             [
              0.7777777777777778,
              "#fb9f3a"
             ],
             [
              0.8888888888888888,
              "#fdca26"
             ],
             [
              1.0,
              "#f0f921"
             ]
            ]
           }
          ],
          "mesh3d": [
           {
            "type": "mesh3d",
            "colorbar": {
             "outlinewidth": 0,
             "ticks": ""
            }
           }
          ],
          "scatter": [
           {
            "marker": {
             "line": {
              "color": "#283442"
             }
            },
            "type": "scatter"
           }
          ],
          "parcoords": [
           {
            "type": "parcoords",
            "line": {
             "colorbar": {
              "outlinewidth": 0,
              "ticks": ""
             }
            }
           }
          ],
          "scatterpolargl": [
           {
            "type": "scatterpolargl",
            "marker": {
             "colorbar": {
              "outlinewidth": 0,
              "ticks": ""
             }
            }
           }
          ],
          "bar": [
           {
            "error_x": {
             "color": "#f2f5fa"
            },
            "error_y": {
             "color": "#f2f5fa"
            },
            "marker": {
             "line": {
              "color": "rgb(17,17,17)",
              "width": 0.5
             },
             "pattern": {
              "fillmode": "overlay",
              "size": 10,
              "solidity": 0.2
             }
            },
            "type": "bar"
           }
          ],
          "scattergeo": [
           {
            "type": "scattergeo",
            "marker": {
             "colorbar": {
              "outlinewidth": 0,
              "ticks": ""
             }
            }
           }
          ],
          "scatterpolar": [
           {
            "type": "scatterpolar",
            "marker": {
             "colorbar": {
              "outlinewidth": 0,
              "ticks": ""
             }
            }
           }
          ],
          "histogram": [
           {
            "marker": {
             "pattern": {
              "fillmode": "overlay",
              "size": 10,
              "solidity": 0.2
             }
            },
            "type": "histogram"
           }
          ],
          "scattergl": [
           {
            "marker": {
             "line": {
              "color": "#283442"
             }
            },
            "type": "scattergl"
           }
          ],
          "scatter3d": [
           {
            "type": "scatter3d",
            "line": {
             "colorbar": {
              "outlinewidth": 0,
              "ticks": ""
             }
            },
            "marker": {
             "colorbar": {
              "outlinewidth": 0,
              "ticks": ""
             }
            }
           }
          ],
          "scattermap": [
           {
            "type": "scattermap",
            "marker": {
             "colorbar": {
              "outlinewidth": 0,
              "ticks": ""
             }
            }
           }
          ],
          "scattermapbox": [
           {
            "type": "scattermapbox",
            "marker": {
             "colorbar": {
              "outlinewidth": 0,
              "ticks": ""
             }
            }
           }
          ],
          "scatterternary": [
           {
            "type": "scatterternary",
            "marker": {
             "colorbar": {
              "outlinewidth": 0,
              "ticks": ""
             }
            }
           }
          ],
          "scattercarpet": [
           {
            "type": "scattercarpet",
            "marker": {
             "colorbar": {
              "outlinewidth": 0,
              "ticks": ""
             }
            }
           }
          ],
          "carpet": [
           {
            "aaxis": {
             "endlinecolor": "#A2B1C6",
             "gridcolor": "#506784",
             "linecolor": "#506784",
             "minorgridcolor": "#506784",
             "startlinecolor": "#A2B1C6"
            },
            "baxis": {
             "endlinecolor": "#A2B1C6",
             "gridcolor": "#506784",
             "linecolor": "#506784",
             "minorgridcolor": "#506784",
             "startlinecolor": "#A2B1C6"
            },
            "type": "carpet"
           }
          ],
          "table": [
           {
            "cells": {
             "fill": {
              "color": "#506784"
             },
             "line": {
              "color": "rgb(17,17,17)"
             }
            },
            "header": {
             "fill": {
              "color": "#2a3f5f"
             },
             "line": {
              "color": "rgb(17,17,17)"
             }
            },
            "type": "table"
           }
          ],
          "barpolar": [
           {
            "marker": {
             "line": {
              "color": "rgb(17,17,17)",
              "width": 0.5
             },
             "pattern": {
              "fillmode": "overlay",
              "size": 10,
              "solidity": 0.2
             }
            },
            "type": "barpolar"
           }
          ],
          "pie": [
           {
            "automargin": true,
            "type": "pie"
           }
          ]
         },
         "layout": {
          "autotypenumbers": "strict",
          "colorway": [
           "#636efa",
           "#EF553B",
           "#00cc96",
           "#ab63fa",
           "#FFA15A",
           "#19d3f3",
           "#FF6692",
           "#B6E880",
           "#FF97FF",
           "#FECB52"
          ],
          "font": {
           "color": "#f2f5fa"
          },
          "hovermode": "closest",
          "hoverlabel": {
           "align": "left"
          },
          "paper_bgcolor": "rgb(17,17,17)",
          "plot_bgcolor": "rgb(17,17,17)",
          "polar": {
           "bgcolor": "rgb(17,17,17)",
           "angularaxis": {
            "gridcolor": "#506784",
            "linecolor": "#506784",
            "ticks": ""
           },
           "radialaxis": {
            "gridcolor": "#506784",
            "linecolor": "#506784",
            "ticks": ""
           }
          },
          "ternary": {
           "bgcolor": "rgb(17,17,17)",
           "aaxis": {
            "gridcolor": "#506784",
            "linecolor": "#506784",
            "ticks": ""
           },
           "baxis": {
            "gridcolor": "#506784",
            "linecolor": "#506784",
            "ticks": ""
           },
           "caxis": {
            "gridcolor": "#506784",
            "linecolor": "#506784",
            "ticks": ""
           }
          },
          "coloraxis": {
           "colorbar": {
            "outlinewidth": 0,
            "ticks": ""
           }
          },
          "colorscale": {
           "sequential": [
            [
             0.0,
             "#0d0887"
            ],
            [
             0.1111111111111111,
             "#46039f"
            ],
            [
             0.2222222222222222,
             "#7201a8"
            ],
            [
             0.3333333333333333,
             "#9c179e"
            ],
            [
             0.4444444444444444,
             "#bd3786"
            ],
            [
             0.5555555555555556,
             "#d8576b"
            ],
            [
             0.6666666666666666,
             "#ed7953"
            ],
            [
             0.7777777777777778,
             "#fb9f3a"
            ],
            [
             0.8888888888888888,
             "#fdca26"
            ],
            [
             1.0,
             "#f0f921"
            ]
           ],
           "sequentialminus": [
            [
             0.0,
             "#0d0887"
            ],
            [
             0.1111111111111111,
             "#46039f"
            ],
            [
             0.2222222222222222,
             "#7201a8"
            ],
            [
             0.3333333333333333,
             "#9c179e"
            ],
            [
             0.4444444444444444,
             "#bd3786"
            ],
            [
             0.5555555555555556,
             "#d8576b"
            ],
            [
             0.6666666666666666,
             "#ed7953"
            ],
            [
             0.7777777777777778,
             "#fb9f3a"
            ],
            [
             0.8888888888888888,
             "#fdca26"
            ],
            [
             1.0,
             "#f0f921"
            ]
           ],
           "diverging": [
            [
             0,
             "#8e0152"
            ],
            [
             0.1,
             "#c51b7d"
            ],
            [
             0.2,
             "#de77ae"
            ],
            [
             0.3,
             "#f1b6da"
            ],
            [
             0.4,
             "#fde0ef"
            ],
            [
             0.5,
             "#f7f7f7"
            ],
            [
             0.6,
             "#e6f5d0"
            ],
            [
             0.7,
             "#b8e186"
            ],
            [
             0.8,
             "#7fbc41"
            ],
            [
             0.9,
             "#4d9221"
            ],
            [
             1,
             "#276419"
            ]
           ]
          },
          "xaxis": {
           "gridcolor": "#283442",
           "linecolor": "#506784",
           "ticks": "",
           "title": {
            "standoff": 15
           },
           "zerolinecolor": "#283442",
           "automargin": true,
           "zerolinewidth": 2
          },
          "yaxis": {
           "gridcolor": "#283442",
           "linecolor": "#506784",
           "ticks": "",
           "title": {
            "standoff": 15
           },
           "zerolinecolor": "#283442",
           "automargin": true,
           "zerolinewidth": 2
          },
          "scene": {
           "xaxis": {
            "backgroundcolor": "rgb(17,17,17)",
            "gridcolor": "#506784",
            "linecolor": "#506784",
            "showbackground": true,
            "ticks": "",
            "zerolinecolor": "#C8D4E3",
            "gridwidth": 2
           },
           "yaxis": {
            "backgroundcolor": "rgb(17,17,17)",
            "gridcolor": "#506784",
            "linecolor": "#506784",
            "showbackground": true,
            "ticks": "",
            "zerolinecolor": "#C8D4E3",
            "gridwidth": 2
           },
           "zaxis": {
            "backgroundcolor": "rgb(17,17,17)",
            "gridcolor": "#506784",
            "linecolor": "#506784",
            "showbackground": true,
            "ticks": "",
            "zerolinecolor": "#C8D4E3",
            "gridwidth": 2
           }
          },
          "shapedefaults": {
           "line": {
            "color": "#f2f5fa"
           }
          },
          "annotationdefaults": {
           "arrowcolor": "#f2f5fa",
           "arrowhead": 0,
           "arrowwidth": 1
          },
          "geo": {
           "bgcolor": "rgb(17,17,17)",
           "landcolor": "rgb(17,17,17)",
           "subunitcolor": "#506784",
           "showland": true,
           "showlakes": true,
           "lakecolor": "rgb(17,17,17)"
          },
          "title": {
           "x": 0.05
          },
          "updatemenudefaults": {
           "bgcolor": "#506784",
           "borderwidth": 0
          },
          "sliderdefaults": {
           "bgcolor": "#C8D4E3",
           "borderwidth": 1,
           "bordercolor": "rgb(17,17,17)",
           "tickwidth": 0
          },
          "mapbox": {
           "style": "dark"
          }
         }
        },
        "xaxis": {
         "anchor": "y",
         "domain": [
          0.0,
          1.0
         ],
         "title": {
          "text": "metric"
         }
        },
        "yaxis": {
         "anchor": "x",
         "domain": [
          0.0,
          1.0
         ],
         "title": {
          "text": "value"
         }
        },
        "legend": {
         "title": {
          "text": "model"
         },
         "tracegroupgap": 0
        },
        "title": {
         "text": "Objective Scores (k-means / k-medoids)"
        },
        "barmode": "group"
       },
       "config": {
        "plotlyServerURL": "https://plot.ly"
       }
      }
     },
     "metadata": {},
     "output_type": "display_data"
    }
   ],
   "execution_count": 32
  }
 ],
 "metadata": {
  "kernelspec": {
   "display_name": "Python 3",
   "language": "python",
   "name": "python3"
  },
  "language_info": {
   "codemirror_mode": {
    "name": "ipython",
    "version": 2
   },
   "file_extension": ".py",
   "mimetype": "text/x-python",
   "name": "python",
   "nbconvert_exporter": "python",
   "pygments_lexer": "ipython2",
   "version": "2.7.6"
  }
 },
 "nbformat": 4,
 "nbformat_minor": 5
}
