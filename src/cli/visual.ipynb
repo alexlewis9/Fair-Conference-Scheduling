{
 "cells": [
  {
   "metadata": {
    "ExecuteTime": {
     "end_time": "2025-06-04T15:25:49.015271Z",
     "start_time": "2025-06-04T15:25:49.013025Z"
    }
   },
   "cell_type": "code",
   "source": [
    "import plotly.express as px\n",
    "from sklearn.decomposition import PCA\n",
    "import os\n",
    "from src import DATA_DIR, PROJECT_ROOT, get_paper_info\n",
    "from src.models.graph import Graph\n",
    "from src.utils.io import load_json\n",
    "import pandas as pd\n",
    "import numpy as np"
   ],
   "id": "c857985b2ecad038",
   "outputs": [],
   "execution_count": 8
  },
  {
   "metadata": {
    "ExecuteTime": {
     "end_time": "2025-06-04T15:26:03.037607Z",
     "start_time": "2025-06-04T15:26:02.946509Z"
    }
   },
   "cell_type": "code",
   "source": [
    "emb_path = os.path.join(DATA_DIR, 'emb', 'NeurIPS', '2024', '20250602_2037', 'emb.json')\n",
    "emb = load_json(emb_path)\n",
    "\n",
    "data_path = os.path.join(DATA_DIR, 'metadata', 'neurips_2023_2024.csv')\n",
    "df = pd.read_csv(data_path)\n",
    "\n",
    "clustering = os.path.join(PROJECT_ROOT, 'result', 'NeurIPS', '2024', '20250602_2158', 'clusters.csv')\n",
    "cluster_df = pd.read_csv(clustering)"
   ],
   "id": "ebf67c7efb1d166a",
   "outputs": [],
   "execution_count": 10
  },
  {
   "metadata": {
    "ExecuteTime": {
     "end_time": "2025-06-04T15:26:04.360768Z",
     "start_time": "2025-06-04T15:26:04.356532Z"
    }
   },
   "cell_type": "code",
   "source": [
    "df = df[df['year'] == 2024]\n",
    "df['emb'] = df['id'].map(emb)"
   ],
   "id": "3af0b234a8ee91c1",
   "outputs": [],
   "execution_count": 11
  },
  {
   "metadata": {
    "ExecuteTime": {
     "end_time": "2025-06-04T15:26:05.577420Z",
     "start_time": "2025-06-04T15:26:05.571580Z"
    }
   },
   "cell_type": "code",
   "source": [
    "# Create a mapping for each method\n",
    "method_names = cluster_df['method'].tolist()\n",
    "session_names = cluster_df.columns[1:]  # skip 'method'\n",
    "\n",
    "# Build: method -> id -> cluster name\n",
    "method_to_id_to_cluster = {}\n",
    "\n",
    "for _, row in cluster_df.iterrows():\n",
    "    method = row['method']\n",
    "    id_to_cluster = {}\n",
    "    for session in session_names:\n",
    "        ids = str(row[session]).split(',') if pd.notna(row[session]) else []\n",
    "        for id_ in ids:\n",
    "            id_to_cluster[id_] = session  # assign paper to the session name\n",
    "    method_to_id_to_cluster[method] = id_to_cluster\n",
    "\n",
    "for method, id_to_cluster in method_to_id_to_cluster.items():\n",
    "    df[method] = df['id'].map(id_to_cluster).fillna(\"None\")  # or use np.nan"
   ],
   "id": "81128938c000b172",
   "outputs": [],
   "execution_count": 12
  },
  {
   "metadata": {
    "ExecuteTime": {
     "end_time": "2025-06-04T15:27:43.097707Z",
     "start_time": "2025-06-04T15:27:43.085642Z"
    }
   },
   "cell_type": "code",
   "source": "df.head(5)",
   "id": "5d53ca77e644c23e",
   "outputs": [
    {
     "data": {
      "text/plain": [
       "                                             authors publisher  \\\n",
       "0  ['Tianyu He', 'Darshil Doshi', 'Aritra Das', '...   NeurIPS   \n",
       "1  ['Jin Zhang', 'Ze Liu', 'Defu Lian', 'Enhong C...   NeurIPS   \n",
       "2  ['Aaron Defazio', 'Xingyu Yang', 'Ahmed Khaled...   NeurIPS   \n",
       "3  ['Rohan Alur', 'Manish Raghavan', 'Devavrat Sh...   NeurIPS   \n",
       "4  ['Shen Li', 'Yuyang Zhang', 'Zhaolin Ren', 'Cl...   NeurIPS   \n",
       "\n",
       "                                               title  \\\n",
       "0  Learning to grok_ Emergence of in-context lear...   \n",
       "1  Generalization Error Bounds for Two-stage Reco...   \n",
       "2                            The Road Less Scheduled   \n",
       "3          Human Expertise in Algorithmic Prediction   \n",
       "4  Enhancing Preference-based Linear Bandits via ...   \n",
       "\n",
       "                                          url  year  \\\n",
       "0  https://neurips.cc/virtual/2024/oral/97968  2024   \n",
       "1  https://neurips.cc/virtual/2024/oral/97958  2024   \n",
       "2  https://neurips.cc/virtual/2024/oral/98003  2024   \n",
       "3  https://neurips.cc/virtual/2024/oral/97946  2024   \n",
       "4  https://neurips.cc/virtual/2024/oral/97969  2024   \n",
       "\n",
       "                                            abstract  \\\n",
       "0   Large language models can solve tasks that we...   \n",
       "1   Two-stage recommender systems play a crucial ...   \n",
       "2   Existing learning rate schedules that do not ...   \n",
       "3   We introduce a novel framework for incorporat...   \n",
       "4   Interactive preference learning systems infer...   \n",
       "\n",
       "                                             session  \\\n",
       "0  Oral Session 1A: Neuroscience and Intepretability   \n",
       "1                   Oral Session 1D: Learning Theory   \n",
       "2  Oral Session 1C: Optimization and Learning Theory   \n",
       "3              Oral Session 1B: Human-AI Interaction   \n",
       "4                            Oral Session 2A: Agents   \n",
       "\n",
       "                                    pdf_url  \\\n",
       "0  https://openreview.net/pdf?id=aVh9KRZdRk   \n",
       "1  https://openreview.net/pdf?id=m1a4CrRJR7   \n",
       "2  https://openreview.net/pdf?id=0XeNkkENuI   \n",
       "3  https://openreview.net/pdf?id=wpGJ2AX6SZ   \n",
       "4  https://openreview.net/pdf?id=aIPwlkdOut   \n",
       "\n",
       "                               openreview_url          id  \\\n",
       "0  https://openreview.net/forum?id=aVh9KRZdRk  aVh9KRZdRk   \n",
       "1  https://openreview.net/forum?id=m1a4CrRJR7  m1a4CrRJR7   \n",
       "2  https://openreview.net/forum?id=0XeNkkENuI  0XeNkkENuI   \n",
       "3  https://openreview.net/forum?id=wpGJ2AX6SZ  wpGJ2AX6SZ   \n",
       "4  https://openreview.net/forum?id=aIPwlkdOut  aIPwlkdOut   \n",
       "\n",
       "                                       forum_content  \\\n",
       "0  [{'content': {'title': {'value': 'Paper Decisi...   \n",
       "1  [{'content': {'title': {'value': 'Paper Decisi...   \n",
       "2  [{'content': {'title': {'value': 'Paper Decisi...   \n",
       "3  [{'content': {'comment': {'value': 'Thank you ...   \n",
       "4  [{'content': {'title': {'value': 'Paper Decisi...   \n",
       "\n",
       "                                                 emb  \\\n",
       "0  [0.025920594792352154, -0.006532610617907675, ...   \n",
       "1  [0.0005160157651468916, 0.009975187560102265, ...   \n",
       "2  [-0.0075764014618471265, -0.008110680956054817...   \n",
       "3  [0.006127413471889062, -0.0129554309300147, -0...   \n",
       "4  [0.017408840711030996, -0.014277594156958388, ...   \n",
       "\n",
       "                                            Baseline  \\\n",
       "0  Oral Session 1A: Neuroscience and Intepretability   \n",
       "1                   Oral Session 1D: Learning Theory   \n",
       "2  Oral Session 1C: Optimization and Learning Theory   \n",
       "3              Oral Session 1B: Human-AI Interaction   \n",
       "4                            Oral Session 2A: Agents   \n",
       "\n",
       "                                      GreedyCohesive  \\\n",
       "0  Oral Session 1A: Neuroscience and Intepretability   \n",
       "1                   Oral Session 1D: Learning Theory   \n",
       "2                          Oral Session 6C: New Data   \n",
       "3                   Oral Session 1D: Learning Theory   \n",
       "4  Oral Session 1C: Optimization and Learning Theory   \n",
       "\n",
       "                                            KMedoids  \\\n",
       "0  Oral Session 1A: Neuroscience and Intepretability   \n",
       "1                   Oral Session 1D: Learning Theory   \n",
       "2  Oral Session 1C: Optimization and Learning Theory   \n",
       "3                   Oral Session 1D: Learning Theory   \n",
       "4                   Oral Session 1D: Learning Theory   \n",
       "\n",
       "                                              KMeans  \n",
       "0  Oral Session 1A: Neuroscience and Intepretability  \n",
       "1              Oral Session 1B: Human-AI Interaction  \n",
       "2  Oral Session 1C: Optimization and Learning Theory  \n",
       "3              Oral Session 1B: Human-AI Interaction  \n",
       "4                            Oral Session 2A: Agents  "
      ],
      "text/html": [
       "<div>\n",
       "<style scoped>\n",
       "    .dataframe tbody tr th:only-of-type {\n",
       "        vertical-align: middle;\n",
       "    }\n",
       "\n",
       "    .dataframe tbody tr th {\n",
       "        vertical-align: top;\n",
       "    }\n",
       "\n",
       "    .dataframe thead th {\n",
       "        text-align: right;\n",
       "    }\n",
       "</style>\n",
       "<table border=\"1\" class=\"dataframe\">\n",
       "  <thead>\n",
       "    <tr style=\"text-align: right;\">\n",
       "      <th></th>\n",
       "      <th>authors</th>\n",
       "      <th>publisher</th>\n",
       "      <th>title</th>\n",
       "      <th>url</th>\n",
       "      <th>year</th>\n",
       "      <th>abstract</th>\n",
       "      <th>session</th>\n",
       "      <th>pdf_url</th>\n",
       "      <th>openreview_url</th>\n",
       "      <th>id</th>\n",
       "      <th>forum_content</th>\n",
       "      <th>emb</th>\n",
       "      <th>Baseline</th>\n",
       "      <th>GreedyCohesive</th>\n",
       "      <th>KMedoids</th>\n",
       "      <th>KMeans</th>\n",
       "    </tr>\n",
       "  </thead>\n",
       "  <tbody>\n",
       "    <tr>\n",
       "      <th>0</th>\n",
       "      <td>['Tianyu He', 'Darshil Doshi', 'Aritra Das', '...</td>\n",
       "      <td>NeurIPS</td>\n",
       "      <td>Learning to grok_ Emergence of in-context lear...</td>\n",
       "      <td>https://neurips.cc/virtual/2024/oral/97968</td>\n",
       "      <td>2024</td>\n",
       "      <td>Large language models can solve tasks that we...</td>\n",
       "      <td>Oral Session 1A: Neuroscience and Intepretability</td>\n",
       "      <td>https://openreview.net/pdf?id=aVh9KRZdRk</td>\n",
       "      <td>https://openreview.net/forum?id=aVh9KRZdRk</td>\n",
       "      <td>aVh9KRZdRk</td>\n",
       "      <td>[{'content': {'title': {'value': 'Paper Decisi...</td>\n",
       "      <td>[0.025920594792352154, -0.006532610617907675, ...</td>\n",
       "      <td>Oral Session 1A: Neuroscience and Intepretability</td>\n",
       "      <td>Oral Session 1A: Neuroscience and Intepretability</td>\n",
       "      <td>Oral Session 1A: Neuroscience and Intepretability</td>\n",
       "      <td>Oral Session 1A: Neuroscience and Intepretability</td>\n",
       "    </tr>\n",
       "    <tr>\n",
       "      <th>1</th>\n",
       "      <td>['Jin Zhang', 'Ze Liu', 'Defu Lian', 'Enhong C...</td>\n",
       "      <td>NeurIPS</td>\n",
       "      <td>Generalization Error Bounds for Two-stage Reco...</td>\n",
       "      <td>https://neurips.cc/virtual/2024/oral/97958</td>\n",
       "      <td>2024</td>\n",
       "      <td>Two-stage recommender systems play a crucial ...</td>\n",
       "      <td>Oral Session 1D: Learning Theory</td>\n",
       "      <td>https://openreview.net/pdf?id=m1a4CrRJR7</td>\n",
       "      <td>https://openreview.net/forum?id=m1a4CrRJR7</td>\n",
       "      <td>m1a4CrRJR7</td>\n",
       "      <td>[{'content': {'title': {'value': 'Paper Decisi...</td>\n",
       "      <td>[0.0005160157651468916, 0.009975187560102265, ...</td>\n",
       "      <td>Oral Session 1D: Learning Theory</td>\n",
       "      <td>Oral Session 1D: Learning Theory</td>\n",
       "      <td>Oral Session 1D: Learning Theory</td>\n",
       "      <td>Oral Session 1B: Human-AI Interaction</td>\n",
       "    </tr>\n",
       "    <tr>\n",
       "      <th>2</th>\n",
       "      <td>['Aaron Defazio', 'Xingyu Yang', 'Ahmed Khaled...</td>\n",
       "      <td>NeurIPS</td>\n",
       "      <td>The Road Less Scheduled</td>\n",
       "      <td>https://neurips.cc/virtual/2024/oral/98003</td>\n",
       "      <td>2024</td>\n",
       "      <td>Existing learning rate schedules that do not ...</td>\n",
       "      <td>Oral Session 1C: Optimization and Learning Theory</td>\n",
       "      <td>https://openreview.net/pdf?id=0XeNkkENuI</td>\n",
       "      <td>https://openreview.net/forum?id=0XeNkkENuI</td>\n",
       "      <td>0XeNkkENuI</td>\n",
       "      <td>[{'content': {'title': {'value': 'Paper Decisi...</td>\n",
       "      <td>[-0.0075764014618471265, -0.008110680956054817...</td>\n",
       "      <td>Oral Session 1C: Optimization and Learning Theory</td>\n",
       "      <td>Oral Session 6C: New Data</td>\n",
       "      <td>Oral Session 1C: Optimization and Learning Theory</td>\n",
       "      <td>Oral Session 1C: Optimization and Learning Theory</td>\n",
       "    </tr>\n",
       "    <tr>\n",
       "      <th>3</th>\n",
       "      <td>['Rohan Alur', 'Manish Raghavan', 'Devavrat Sh...</td>\n",
       "      <td>NeurIPS</td>\n",
       "      <td>Human Expertise in Algorithmic Prediction</td>\n",
       "      <td>https://neurips.cc/virtual/2024/oral/97946</td>\n",
       "      <td>2024</td>\n",
       "      <td>We introduce a novel framework for incorporat...</td>\n",
       "      <td>Oral Session 1B: Human-AI Interaction</td>\n",
       "      <td>https://openreview.net/pdf?id=wpGJ2AX6SZ</td>\n",
       "      <td>https://openreview.net/forum?id=wpGJ2AX6SZ</td>\n",
       "      <td>wpGJ2AX6SZ</td>\n",
       "      <td>[{'content': {'comment': {'value': 'Thank you ...</td>\n",
       "      <td>[0.006127413471889062, -0.0129554309300147, -0...</td>\n",
       "      <td>Oral Session 1B: Human-AI Interaction</td>\n",
       "      <td>Oral Session 1D: Learning Theory</td>\n",
       "      <td>Oral Session 1D: Learning Theory</td>\n",
       "      <td>Oral Session 1B: Human-AI Interaction</td>\n",
       "    </tr>\n",
       "    <tr>\n",
       "      <th>4</th>\n",
       "      <td>['Shen Li', 'Yuyang Zhang', 'Zhaolin Ren', 'Cl...</td>\n",
       "      <td>NeurIPS</td>\n",
       "      <td>Enhancing Preference-based Linear Bandits via ...</td>\n",
       "      <td>https://neurips.cc/virtual/2024/oral/97969</td>\n",
       "      <td>2024</td>\n",
       "      <td>Interactive preference learning systems infer...</td>\n",
       "      <td>Oral Session 2A: Agents</td>\n",
       "      <td>https://openreview.net/pdf?id=aIPwlkdOut</td>\n",
       "      <td>https://openreview.net/forum?id=aIPwlkdOut</td>\n",
       "      <td>aIPwlkdOut</td>\n",
       "      <td>[{'content': {'title': {'value': 'Paper Decisi...</td>\n",
       "      <td>[0.017408840711030996, -0.014277594156958388, ...</td>\n",
       "      <td>Oral Session 2A: Agents</td>\n",
       "      <td>Oral Session 1C: Optimization and Learning Theory</td>\n",
       "      <td>Oral Session 1D: Learning Theory</td>\n",
       "      <td>Oral Session 2A: Agents</td>\n",
       "    </tr>\n",
       "  </tbody>\n",
       "</table>\n",
       "</div>"
      ]
     },
     "execution_count": 14,
     "metadata": {},
     "output_type": "execute_result"
    }
   ],
   "execution_count": 14
  },
  {
   "metadata": {
    "ExecuteTime": {
     "end_time": "2025-06-04T15:26:08.429862Z",
     "start_time": "2025-06-04T15:26:08.422160Z"
    }
   },
   "cell_type": "code",
   "source": [
    "X = np.vstack(df['emb'].values)\n",
    "print(X.shape)"
   ],
   "id": "382801dde443028f",
   "outputs": [
    {
     "name": "stdout",
     "output_type": "stream",
     "text": [
      "(72, 3072)\n"
     ]
    }
   ],
   "execution_count": 13
  },
  {
   "metadata": {
    "ExecuteTime": {
     "end_time": "2025-06-04T15:42:19.443392Z",
     "start_time": "2025-06-04T15:42:19.181400Z"
    }
   },
   "cell_type": "code",
   "source": [
    "import numpy as np\n",
    "from scipy.spatial import ConvexHull\n",
    "import plotly.graph_objects as go\n",
    "\n",
    "for method in method_names:\n",
    "    # Create the base scatter plot\n",
    "    fig = px.scatter(components, x=0, y=1,\n",
    "                     title=f\"{method} Clustering PCA\",\n",
    "                     hover_name=df['id'])\n",
    "\n",
    "    # For each unique cluster (color)\n",
    "    for cluster in df[method].unique():\n",
    "        if cluster == \"None\":  # Skip if it's the \"None\" cluster\n",
    "            continue\n",
    "\n",
    "        # Get points belonging to this cluster\n",
    "        mask = df[method] == cluster\n",
    "        cluster_points = components[mask]\n",
    "\n",
    "        if len(cluster_points) >= 3:  # Need at least 3 points for a convex hull\n",
    "            # Compute the convex hull\n",
    "            hull = ConvexHull(cluster_points)\n",
    "\n",
    "            # Get the vertices of the hull in order\n",
    "            vertices = cluster_points[hull.vertices]\n",
    "            # Add first point at end to close the polygon\n",
    "            vertices = np.vstack((vertices, vertices[0]))\n",
    "\n",
    "            # Add the shape to the figure\n",
    "            fig.add_trace(go.Scatter(\n",
    "                x=vertices[:, 0],\n",
    "                y=vertices[:, 1],\n",
    "                mode='lines',\n",
    "                line=dict(width=1),\n",
    "                fill='toself',\n",
    "                opacity=0.2,\n",
    "                showlegend=False,\n",
    "                hoverinfo='skip'\n",
    "            ))\n",
    "\n",
    "    fig.show()"
   ],
   "id": "ecd6d3a39c86cc0c",
   "outputs": [
    {
     "data": {
      "application/vnd.plotly.v1+json": {
       "data": [
        {
         "hovertemplate": "<b>%{hovertext}</b><br><br>color=Oral Session 1A: Neuroscience and Intepretability<br>0=%{x}<br>1=%{y}<extra></extra>",
         "hovertext": [
          "aVh9KRZdRk",
          "REIK4SZMJt",
          "8qu52Fl1Dt"
         ],
         "legendgroup": "Oral Session 1A: Neuroscience and Intepretability",
         "marker": {
          "color": "#636efa",
          "symbol": "circle"
         },
         "mode": "markers",
         "name": "Oral Session 1A: Neuroscience and Intepretability",
         "orientation": "v",
         "showlegend": true,
         "x": {
          "dtype": "f8",
          "bdata": "ZnKl/lcSj7+C0UjDQOzFv9bRks0F1r8/"
         },
         "xaxis": "x",
         "y": {
          "dtype": "f8",
          "bdata": "XhSdRRYlgr/zsFj2rlaTv1lgnLg+gMq/"
         },
         "yaxis": "y",
         "type": "scatter"
        },
        {
         "hovertemplate": "<b>%{hovertext}</b><br><br>color=Oral Session 1D: Learning Theory<br>0=%{x}<br>1=%{y}<extra></extra>",
         "hovertext": [
          "m1a4CrRJR7",
          "rtz4df9IF1",
          "ge8GZn8Gtu"
         ],
         "legendgroup": "Oral Session 1D: Learning Theory",
         "marker": {
          "color": "#EF553B",
          "symbol": "circle"
         },
         "mode": "markers",
         "name": "Oral Session 1D: Learning Theory",
         "orientation": "v",
         "showlegend": true,
         "x": {
          "dtype": "f8",
          "bdata": "91DMwOWGy7/oHkEUQCfUv0tQtQEGz9i/"
         },
         "xaxis": "x",
         "y": {
          "dtype": "f8",
          "bdata": "qmrS6RAVoD/O/YVk6DTAPxj+XS2rdaM/"
         },
         "yaxis": "y",
         "type": "scatter"
        },
        {
         "hovertemplate": "<b>%{hovertext}</b><br><br>color=Oral Session 1C: Optimization and Learning Theory<br>0=%{x}<br>1=%{y}<extra></extra>",
         "hovertext": [
          "0XeNkkENuI",
          "y10avdRFNK",
          "qf2uZAdy1N"
         ],
         "legendgroup": "Oral Session 1C: Optimization and Learning Theory",
         "marker": {
          "color": "#00cc96",
          "symbol": "circle"
         },
         "mode": "markers",
         "name": "Oral Session 1C: Optimization and Learning Theory",
         "orientation": "v",
         "showlegend": true,
         "x": {
          "dtype": "f8",
          "bdata": "kZ6q0YWLzb/ytpBhCs3IvzIFrpO9qdS/"
         },
         "xaxis": "x",
         "y": {
          "dtype": "f8",
          "bdata": "1fXWvTlumb8Esu+H2pnAv+4Dx+zGxro/"
         },
         "yaxis": "y",
         "type": "scatter"
        },
        {
         "hovertemplate": "<b>%{hovertext}</b><br><br>color=Oral Session 1B: Human-AI Interaction<br>0=%{x}<br>1=%{y}<extra></extra>",
         "hovertext": [
          "wpGJ2AX6SZ",
          "r5spnrY6H3",
          "DFr5hteojx"
         ],
         "legendgroup": "Oral Session 1B: Human-AI Interaction",
         "marker": {
          "color": "#ab63fa",
          "symbol": "circle"
         },
         "mode": "markers",
         "name": "Oral Session 1B: Human-AI Interaction",
         "orientation": "v",
         "showlegend": true,
         "x": {
          "dtype": "f8",
          "bdata": "cDjME8ztyr+maGXSEI/GP7A8hscWwcM/"
         },
         "xaxis": "x",
         "y": {
          "dtype": "f8",
          "bdata": "JmYaCjvItj/NQ7WQ0PO0v1J/s6yg1sc/"
         },
         "yaxis": "y",
         "type": "scatter"
        },
        {
         "hovertemplate": "<b>%{hovertext}</b><br><br>color=Oral Session 2A: Agents<br>0=%{x}<br>1=%{y}<extra></extra>",
         "hovertext": [
          "aIPwlkdOut",
          "iSwK1YqO7v",
          "4S8agvKjle"
         ],
         "legendgroup": "Oral Session 2A: Agents",
         "marker": {
          "color": "#FFA15A",
          "symbol": "circle"
         },
         "mode": "markers",
         "name": "Oral Session 2A: Agents",
         "orientation": "v",
         "showlegend": true,
         "x": {
          "dtype": "f8",
          "bdata": "wrdHYExnxb8sRM8VkXXCPyHvV0M1Osk/"
         },
         "xaxis": "x",
         "y": {
          "dtype": "f8",
          "bdata": "r7tnGgF/tT9lID7Ho/LIP/5exbjLOMw/"
         },
         "yaxis": "y",
         "type": "scatter"
        },
        {
         "hovertemplate": "<b>%{hovertext}</b><br><br>color=Oral Session 2B: Reinforcement Learning<br>0=%{x}<br>1=%{y}<extra></extra>",
         "hovertext": [
          "UdxpjKO2F9",
          "6YIpvnkjUK",
          "Ddak3nSqQM"
         ],
         "legendgroup": "Oral Session 2B: Reinforcement Learning",
         "marker": {
          "color": "#19d3f3",
          "symbol": "circle"
         },
         "mode": "markers",
         "name": "Oral Session 2B: Reinforcement Learning",
         "orientation": "v",
         "showlegend": true,
         "x": {
          "dtype": "f8",
          "bdata": "lWj6ExuKnb/DSVnOzgXav0u4o5I8h60/"
         },
         "xaxis": "x",
         "y": {
          "dtype": "f8",
          "bdata": "XK8/QG+dkT/kZ1tE+Cy+P+lwNyeGoMM/"
         },
         "yaxis": "y",
         "type": "scatter"
        },
        {
         "hovertemplate": "<b>%{hovertext}</b><br><br>color=Oral Session 2C: Reinforcement Learning<br>0=%{x}<br>1=%{y}<extra></extra>",
         "hovertext": [
          "LEzx6QRkRH",
          "eWUM5hRYgH",
          "mSaqxZVZW8"
         ],
         "legendgroup": "Oral Session 2C: Reinforcement Learning",
         "marker": {
          "color": "#FF6692",
          "symbol": "circle"
         },
         "mode": "markers",
         "name": "Oral Session 2C: Reinforcement Learning",
         "orientation": "v",
         "showlegend": true,
         "x": {
          "dtype": "f8",
          "bdata": "U6JOdQcDwz9+ifXy9Avav5sPq6lJpsC/"
         },
         "xaxis": "x",
         "y": {
          "dtype": "f8",
          "bdata": "HAgMXkYfwj9YCwgXFdO1PzeVWF3dlLA/"
         },
         "yaxis": "y",
         "type": "scatter"
        },
        {
         "hovertemplate": "<b>%{hovertext}</b><br><br>color=Oral Session 2D: Generative Models<br>0=%{x}<br>1=%{y}<extra></extra>",
         "hovertext": [
          "pGEY8JQ3qx",
          "5zSCSE0k41",
          "gojL67CfS8"
         ],
         "legendgroup": "Oral Session 2D: Generative Models",
         "marker": {
          "color": "#B6E880",
          "symbol": "circle"
         },
         "mode": "markers",
         "name": "Oral Session 2D: Generative Models",
         "orientation": "v",
         "showlegend": true,
         "x": {
          "dtype": "f8",
          "bdata": "nrKKKa763b+c6eCIChjFP8s7JzbluLc/"
         },
         "xaxis": "x",
         "y": {
          "dtype": "f8",
          "bdata": "CnrrgweUxT/qpFOrtcvGv3XKKKqZs8C/"
         },
         "yaxis": "y",
         "type": "scatter"
        },
        {
         "hovertemplate": "<b>%{hovertext}</b><br><br>color=Oral Session 3A: Generative Models<br>0=%{x}<br>1=%{y}<extra></extra>",
         "hovertext": [
          "0NMzBwqaAJ",
          "clTa4JFBML",
          "qEpi8uWX3N"
         ],
         "legendgroup": "Oral Session 3A: Generative Models",
         "marker": {
          "color": "#FF97FF",
          "symbol": "circle"
         },
         "mode": "markers",
         "name": "Oral Session 3A: Generative Models",
         "orientation": "v",
         "showlegend": true,
         "x": {
          "dtype": "f8",
          "bdata": "Q6CdMMLtqT8TisZ5TBu5P3RxHwWNsb4/"
         },
         "xaxis": "x",
         "y": {
          "dtype": "f8",
          "bdata": "4gai1GK+uz+P+ZhQARHKv+VOYDZkm58/"
         },
         "yaxis": "y",
         "type": "scatter"
        },
        {
         "hovertemplate": "<b>%{hovertext}</b><br><br>color=Oral Session 3B: Natural Language Processing<br>0=%{x}<br>1=%{y}<extra></extra>",
         "hovertext": [
          "bCMpdaQCNW",
          "NPKZF1WDjZ",
          "Oo7dlLgqQX"
         ],
         "legendgroup": "Oral Session 3B: Natural Language Processing",
         "marker": {
          "color": "#FECB52",
          "symbol": "circle"
         },
         "mode": "markers",
         "name": "Oral Session 3B: Natural Language Processing",
         "orientation": "v",
         "showlegend": true,
         "x": {
          "dtype": "f8",
          "bdata": "zrnJXTbizj9RfRIHAufBP9SuL7X5xcA/"
         },
         "xaxis": "x",
         "y": {
          "dtype": "f8",
          "bdata": "XnLWCpH+wT8IkOP20pHDP4KAUgHXwsA/"
         },
         "yaxis": "y",
         "type": "scatter"
        },
        {
         "hovertemplate": "<b>%{hovertext}</b><br><br>color=Oral Session 3C: Natural Language Processing<br>0=%{x}<br>1=%{y}<extra></extra>",
         "hovertext": [
          "YvA8UF0I37",
          "4NJBV6Wp0h",
          "pC44UMwy2v"
         ],
         "legendgroup": "Oral Session 3C: Natural Language Processing",
         "marker": {
          "color": "#636efa",
          "symbol": "circle"
         },
         "mode": "markers",
         "name": "Oral Session 3C: Natural Language Processing",
         "orientation": "v",
         "showlegend": true,
         "x": {
          "dtype": "f8",
          "bdata": "ajyLp3els78VGCm7csvEPxJz7CqZ4rQ/"
         },
         "xaxis": "x",
         "y": {
          "dtype": "f8",
          "bdata": "/YqY8CVjkb+dcfkaWTDDP764CgcF48M/"
         },
         "yaxis": "y",
         "type": "scatter"
        },
        {
         "hovertemplate": "<b>%{hovertext}</b><br><br>color=Oral Session 3D: Natural Language Processing<br>0=%{x}<br>1=%{y}<extra></extra>",
         "hovertext": [
          "cFqAANINgW",
          "mp8u2Pcmqz",
          "V0oJaLqY4E"
         ],
         "legendgroup": "Oral Session 3D: Natural Language Processing",
         "marker": {
          "color": "#EF553B",
          "symbol": "circle"
         },
         "mode": "markers",
         "name": "Oral Session 3D: Natural Language Processing",
         "orientation": "v",
         "showlegend": true,
         "x": {
          "dtype": "f8",
          "bdata": "kzXxuZGCuD8jjVpZ33GnP1/kyTD73bG/"
         },
         "xaxis": "x",
         "y": {
          "dtype": "f8",
          "bdata": "q7+pCS5Nxj/zg9ut0HGivzzVuzfXXs2/"
         },
         "yaxis": "y",
         "type": "scatter"
        },
        {
         "hovertemplate": "<b>%{hovertext}</b><br><br>color=Oral Session 4B: Diffusion-based Models<br>0=%{x}<br>1=%{y}<extra></extra>",
         "hovertext": [
          "TFZlFRl9Ks",
          "3Odq2tGSpp",
          "bg6fVPVs3s"
         ],
         "legendgroup": "Oral Session 4B: Diffusion-based Models",
         "marker": {
          "color": "#00cc96",
          "symbol": "circle"
         },
         "mode": "markers",
         "name": "Oral Session 4B: Diffusion-based Models",
         "orientation": "v",
         "showlegend": true,
         "x": {
          "dtype": "f8",
          "bdata": "j8hJq/w0vD9Y6QuDwNvJP1rRYntz+HM/"
         },
         "xaxis": "x",
         "y": {
          "dtype": "f8",
          "bdata": "Ybu+rXs90b/CPIodeuybvzE4KhEjy8i/"
         },
         "yaxis": "y",
         "type": "scatter"
        },
        {
         "hovertemplate": "<b>%{hovertext}</b><br><br>color=Oral Session 4C: Diffusion-based Models, Mathematics<br>0=%{x}<br>1=%{y}<extra></extra>",
         "hovertext": [
          "OycU0bAus6",
          "tQukGCDaNT",
          "Mbd3QxXjq5"
         ],
         "legendgroup": "Oral Session 4C: Diffusion-based Models, Mathematics",
         "marker": {
          "color": "#ab63fa",
          "symbol": "circle"
         },
         "mode": "markers",
         "name": "Oral Session 4C: Diffusion-based Models, Mathematics",
         "orientation": "v",
         "showlegend": true,
         "x": {
          "dtype": "f8",
          "bdata": "jFZACn5Fsz+LGkNHRoG5PzU5syGyfrI/"
         },
         "xaxis": "x",
         "y": {
          "dtype": "f8",
          "bdata": "p90iXwg7y79h1o/PeSDLv50uPW05zsM/"
         },
         "yaxis": "y",
         "type": "scatter"
        },
        {
         "hovertemplate": "<b>%{hovertext}</b><br><br>color=Oral Session 5A: Graph Neural Networks<br>0=%{x}<br>1=%{y}<extra></extra>",
         "hovertext": [
          "QDYts5dYgq",
          "9O2sVnEHor",
          "8Fxqn1tZM1"
         ],
         "legendgroup": "Oral Session 5A: Graph Neural Networks",
         "marker": {
          "color": "#FFA15A",
          "symbol": "circle"
         },
         "mode": "markers",
         "name": "Oral Session 5A: Graph Neural Networks",
         "orientation": "v",
         "showlegend": true,
         "x": {
          "dtype": "f8",
          "bdata": "AbVf5JVzdL8Bo+XIK/fMvyJ2QIXKcMS/"
         },
         "xaxis": "x",
         "y": {
          "dtype": "f8",
          "bdata": "7reAShwPy7/CqaoCVMCtPzBx1HO+4by/"
         },
         "yaxis": "y",
         "type": "scatter"
        },
        {
         "hovertemplate": "<b>%{hovertext}</b><br><br>color=Oral Session 4D: Machine Vision<br>0=%{x}<br>1=%{y}<extra></extra>",
         "hovertext": [
          "SSCtCq2MH2",
          "x7pjdDod6Z",
          "47loYmzxep"
         ],
         "legendgroup": "Oral Session 4D: Machine Vision",
         "marker": {
          "color": "#19d3f3",
          "symbol": "circle"
         },
         "mode": "markers",
         "name": "Oral Session 4D: Machine Vision",
         "orientation": "v",
         "showlegend": true,
         "x": {
          "dtype": "f8",
          "bdata": "uneQs2FIib//QqzhsNy/P5qxdZQfyLU/"
         },
         "xaxis": "x",
         "y": {
          "dtype": "f8",
          "bdata": "i1hp+53dzL/9+wn004HQv6RjABYiYc6/"
         },
         "yaxis": "y",
         "type": "scatter"
        },
        {
         "hovertemplate": "<b>%{hovertext}</b><br><br>color=Oral Session 5B: Graph Neural Networks, Causal Inference<br>0=%{x}<br>1=%{y}<extra></extra>",
         "hovertext": [
          "R8SolCx62K",
          "4rCZeCZAON",
          "S2P6KPLtm8"
         ],
         "legendgroup": "Oral Session 5B: Graph Neural Networks, Causal Inference",
         "marker": {
          "color": "#FF6692",
          "symbol": "circle"
         },
         "mode": "markers",
         "name": "Oral Session 5B: Graph Neural Networks, Causal Inference",
         "orientation": "v",
         "showlegend": true,
         "x": {
          "dtype": "f8",
          "bdata": "/CHxg7WXpr8+09POPgjMv46jrpp9esq/"
         },
         "xaxis": "x",
         "y": {
          "dtype": "f8",
          "bdata": "HF+hG7Hkvb/Ul6Hk2HxIv8tO8NXtaa4/"
         },
         "yaxis": "y",
         "type": "scatter"
        },
        {
         "hovertemplate": "<b>%{hovertext}</b><br><br>color=Oral Session 5C: Machine Vision<br>0=%{x}<br>1=%{y}<extra></extra>",
         "hovertext": [
          "C4NbtYnyQg",
          "4bKEFyUHT4",
          "Vi8AepAXGy"
         ],
         "legendgroup": "Oral Session 5C: Machine Vision",
         "marker": {
          "color": "#B6E880",
          "symbol": "circle"
         },
         "mode": "markers",
         "name": "Oral Session 5C: Machine Vision",
         "orientation": "v",
         "showlegend": true,
         "x": {
          "dtype": "f8",
          "bdata": "5gVZt2uDSb/uFojr3k2iv75zMGAbrs0/"
         },
         "xaxis": "x",
         "y": {
          "dtype": "f8",
          "bdata": "9wb6qiZVu791M3deLiXAvxN1qqQVinw/"
         },
         "yaxis": "y",
         "type": "scatter"
        },
        {
         "hovertemplate": "<b>%{hovertext}</b><br><br>color=Oral Session 5D: Machine Learning and Science<br>0=%{x}<br>1=%{y}<extra></extra>",
         "hovertext": [
          "tnh4LK72yj",
          "J2wI2rCG2u",
          "uNKlTQ8mBD"
         ],
         "legendgroup": "Oral Session 5D: Machine Learning and Science",
         "marker": {
          "color": "#FF97FF",
          "symbol": "circle"
         },
         "mode": "markers",
         "name": "Oral Session 5D: Machine Learning and Science",
         "orientation": "v",
         "showlegend": true,
         "x": {
          "dtype": "f8",
          "bdata": "lJMPOqzRpD+JW+jj0SrKvyp4uwugb4G/"
         },
         "xaxis": "x",
         "y": {
          "dtype": "f8",
          "bdata": "75j7tEbIsr+f5PfXZt3Bvzxdv8+JUMU/"
         },
         "yaxis": "y",
         "type": "scatter"
        },
        {
         "hovertemplate": "<b>%{hovertext}</b><br><br>color=Oral Session 6A: Machine Learning and Science, Safety<br>0=%{x}<br>1=%{y}<extra></extra>",
         "hovertext": [
          "HRkniCWM3E",
          "EKdk4vxKO4",
          "cfrDLD1wfO"
         ],
         "legendgroup": "Oral Session 6A: Machine Learning and Science, Safety",
         "marker": {
          "color": "#FECB52",
          "symbol": "circle"
         },
         "mode": "markers",
         "name": "Oral Session 6A: Machine Learning and Science, Safety",
         "orientation": "v",
         "showlegend": true,
         "x": {
          "dtype": "f8",
          "bdata": "Ajw4uYe7xb9SRM/MLovBPwLcxkHZC5I/"
         },
         "xaxis": "x",
         "y": {
          "dtype": "f8",
          "bdata": "ITsLJh+Cs7+uv/NHPDW/P9ZEyLA9xbq/"
         },
         "yaxis": "y",
         "type": "scatter"
        },
        {
         "hovertemplate": "<b>%{hovertext}</b><br><br>color=Oral Session 6B: Safety, New Data<br>0=%{x}<br>1=%{y}<extra></extra>",
         "hovertext": [
          "kq166jACVP",
          "135eKqDoRR",
          "cu8FfaYriU"
         ],
         "legendgroup": "Oral Session 6B: Safety, New Data",
         "marker": {
          "color": "#636efa",
          "symbol": "circle"
         },
         "mode": "markers",
         "name": "Oral Session 6B: Safety, New Data",
         "orientation": "v",
         "showlegend": true,
         "x": {
          "dtype": "f8",
          "bdata": "HNq5ktiBxT/aQoIpeeSsP/FC1KU17cQ/"
         },
         "xaxis": "x",
         "y": {
          "dtype": "f8",
          "bdata": "xJUIEW9KwT/81LSG8N6jv18eyd+K8aE/"
         },
         "yaxis": "y",
         "type": "scatter"
        },
        {
         "hovertemplate": "<b>%{hovertext}</b><br><br>color=Oral Session 6D: Deep Learning Architecture, Infrastructure<br>0=%{x}<br>1=%{y}<extra></extra>",
         "hovertext": [
          "Pezt0xttae",
          "25Ioxw576r",
          "Y8YVCOMEpz"
         ],
         "legendgroup": "Oral Session 6D: Deep Learning Architecture, Infrastructure",
         "marker": {
          "color": "#EF553B",
          "symbol": "circle"
         },
         "mode": "markers",
         "name": "Oral Session 6D: Deep Learning Architecture, Infrastructure",
         "orientation": "v",
         "showlegend": true,
         "x": {
          "dtype": "f8",
          "bdata": "KfRV9n8Uer+J25FWUpm0P9SaJ837epQ/"
         },
         "xaxis": "x",
         "y": {
          "dtype": "f8",
          "bdata": "4fcA4Chzur/lzlG7Crp2v5QJfw6xf4m/"
         },
         "yaxis": "y",
         "type": "scatter"
        },
        {
         "hovertemplate": "<b>%{hovertext}</b><br><br>color=Oral Session 4A: Natural Language Processing<br>0=%{x}<br>1=%{y}<extra></extra>",
         "hovertext": [
          "zogaeVpbaE",
          "E18kRXTGmV",
          "cLga8GStdk"
         ],
         "legendgroup": "Oral Session 4A: Natural Language Processing",
         "marker": {
          "color": "#00cc96",
          "symbol": "circle"
         },
         "mode": "markers",
         "name": "Oral Session 4A: Natural Language Processing",
         "orientation": "v",
         "showlegend": true,
         "x": {
          "dtype": "f8",
          "bdata": "UPVGFhB30D8v7+KXV3LRP5mP81Bd7cg/"
         },
         "xaxis": "x",
         "y": {
          "dtype": "f8",
          "bdata": "B2ktzD1+sj/Jj0xYcdS4P4R2K222Vcw/"
         },
         "yaxis": "y",
         "type": "scatter"
        },
        {
         "hovertemplate": "<b>%{hovertext}</b><br><br>color=Oral Session 6C: New Data<br>0=%{x}<br>1=%{y}<extra></extra>",
         "hovertext": [
          "VXohja0vrQ",
          "KZlJF8kguO",
          "s1K5Z5QPog"
         ],
         "legendgroup": "Oral Session 6C: New Data",
         "marker": {
          "color": "#ab63fa",
          "symbol": "circle"
         },
         "mode": "markers",
         "name": "Oral Session 6C: New Data",
         "orientation": "v",
         "showlegend": true,
         "x": {
          "dtype": "f8",
          "bdata": "Ru67319BvT8Dk+bDKKHEPzz67OLGETG/"
         },
         "xaxis": "x",
         "y": {
          "dtype": "f8",
          "bdata": "ePXf6505yT/BjDRO9qqLP7Lz56ISaLO/"
         },
         "yaxis": "y",
         "type": "scatter"
        },
        {
         "fill": "toself",
         "hoverinfo": "skip",
         "line": {
          "width": 1
         },
         "mode": "lines",
         "opacity": 0.2,
         "showlegend": false,
         "x": {
          "dtype": "f8",
          "bdata": "gtFIw0Dsxb/W0ZLNBda/P2Zypf5XEo+/gtFIw0Dsxb8="
         },
         "y": {
          "dtype": "f8",
          "bdata": "87BY9q5Wk79ZYJy4PoDKv14UnUUWJYK/87BY9q5Wk78="
         },
         "type": "scatter"
        },
        {
         "fill": "toself",
         "hoverinfo": "skip",
         "line": {
          "width": 1
         },
         "mode": "lines",
         "opacity": 0.2,
         "showlegend": false,
         "x": {
          "dtype": "f8",
          "bdata": "S1C1AQbP2L/3UMzA5YbLv+geQRRAJ9S/S1C1AQbP2L8="
         },
         "y": {
          "dtype": "f8",
          "bdata": "GP5dLat1oz+qatLpEBWgP879hWToNMA/GP5dLat1oz8="
         },
         "type": "scatter"
        },
        {
         "fill": "toself",
         "hoverinfo": "skip",
         "line": {
          "width": 1
         },
         "mode": "lines",
         "opacity": 0.2,
         "showlegend": false,
         "x": {
          "dtype": "f8",
          "bdata": "MgWuk72p1L/ytpBhCs3Iv5GeqtGFi82/MgWuk72p1L8="
         },
         "y": {
          "dtype": "f8",
          "bdata": "7gPH7MbGuj8Esu+H2pnAv9X11r05bpm/7gPH7MbGuj8="
         },
         "type": "scatter"
        },
        {
         "fill": "toself",
         "hoverinfo": "skip",
         "line": {
          "width": 1
         },
         "mode": "lines",
         "opacity": 0.2,
         "showlegend": false,
         "x": {
          "dtype": "f8",
          "bdata": "cDjME8ztyr+maGXSEI/GP7A8hscWwcM/cDjME8ztyr8="
         },
         "y": {
          "dtype": "f8",
          "bdata": "JmYaCjvItj/NQ7WQ0PO0v1J/s6yg1sc/JmYaCjvItj8="
         },
         "type": "scatter"
        },
        {
         "fill": "toself",
         "hoverinfo": "skip",
         "line": {
          "width": 1
         },
         "mode": "lines",
         "opacity": 0.2,
         "showlegend": false,
         "x": {
          "dtype": "f8",
          "bdata": "Ie9XQzU6yT/Ct0dgTGfFvyxEzxWRdcI/Ie9XQzU6yT8="
         },
         "y": {
          "dtype": "f8",
          "bdata": "/l7FuMs4zD+vu2caAX+1P2UgPsej8sg//l7FuMs4zD8="
         },
         "type": "scatter"
        },
        {
         "fill": "toself",
         "hoverinfo": "skip",
         "line": {
          "width": 1
         },
         "mode": "lines",
         "opacity": 0.2,
         "showlegend": false,
         "x": {
          "dtype": "f8",
          "bdata": "S7ijkjyHrT/DSVnOzgXav5Vo+hMbip2/S7ijkjyHrT8="
         },
         "y": {
          "dtype": "f8",
          "bdata": "6XA3J4agwz/kZ1tE+Cy+P1yvP0BvnZE/6XA3J4agwz8="
         },
         "type": "scatter"
        },
        {
         "fill": "toself",
         "hoverinfo": "skip",
         "line": {
          "width": 1
         },
         "mode": "lines",
         "opacity": 0.2,
         "showlegend": false,
         "x": {
          "dtype": "f8",
          "bdata": "U6JOdQcDwz9+ifXy9Avav5sPq6lJpsC/U6JOdQcDwz8="
         },
         "y": {
          "dtype": "f8",
          "bdata": "HAgMXkYfwj9YCwgXFdO1PzeVWF3dlLA/HAgMXkYfwj8="
         },
         "type": "scatter"
        },
        {
         "fill": "toself",
         "hoverinfo": "skip",
         "line": {
          "width": 1
         },
         "mode": "lines",
         "opacity": 0.2,
         "showlegend": false,
         "x": {
          "dtype": "f8",
          "bdata": "nrKKKa763b+c6eCIChjFP8s7JzbluLc/nrKKKa763b8="
         },
         "y": {
          "dtype": "f8",
          "bdata": "CnrrgweUxT/qpFOrtcvGv3XKKKqZs8C/CnrrgweUxT8="
         },
         "type": "scatter"
        },
        {
         "fill": "toself",
         "hoverinfo": "skip",
         "line": {
          "width": 1
         },
         "mode": "lines",
         "opacity": 0.2,
         "showlegend": false,
         "x": {
          "dtype": "f8",
          "bdata": "dHEfBY2xvj9DoJ0wwu2pPxOKxnlMG7k/dHEfBY2xvj8="
         },
         "y": {
          "dtype": "f8",
          "bdata": "5U5gNmSbnz/iBqLUYr67P4/5mFABEcq/5U5gNmSbnz8="
         },
         "type": "scatter"
        },
        {
         "fill": "toself",
         "hoverinfo": "skip",
         "line": {
          "width": 1
         },
         "mode": "lines",
         "opacity": 0.2,
         "showlegend": false,
         "x": {
          "dtype": "f8",
          "bdata": "1K4vtfnFwD/OucldNuLOP1F9EgcC58E/1K4vtfnFwD8="
         },
         "y": {
          "dtype": "f8",
          "bdata": "goBSAdfCwD9ectYKkf7BPwiQ4/bSkcM/goBSAdfCwD8="
         },
         "type": "scatter"
        },
        {
         "fill": "toself",
         "hoverinfo": "skip",
         "line": {
          "width": 1
         },
         "mode": "lines",
         "opacity": 0.2,
         "showlegend": false,
         "x": {
          "dtype": "f8",
          "bdata": "ajyLp3els78VGCm7csvEPxJz7CqZ4rQ/ajyLp3els78="
         },
         "y": {
          "dtype": "f8",
          "bdata": "/YqY8CVjkb+dcfkaWTDDP764CgcF48M//YqY8CVjkb8="
         },
         "type": "scatter"
        },
        {
         "fill": "toself",
         "hoverinfo": "skip",
         "line": {
          "width": 1
         },
         "mode": "lines",
         "opacity": 0.2,
         "showlegend": false,
         "x": {
          "dtype": "f8",
          "bdata": "kzXxuZGCuD9f5Mkw+92xvyONWlnfcac/kzXxuZGCuD8="
         },
         "y": {
          "dtype": "f8",
          "bdata": "q7+pCS5Nxj881bs3117Nv/OD263QcaK/q7+pCS5Nxj8="
         },
         "type": "scatter"
        },
        {
         "fill": "toself",
         "hoverinfo": "skip",
         "line": {
          "width": 1
         },
         "mode": "lines",
         "opacity": 0.2,
         "showlegend": false,
         "x": {
          "dtype": "f8",
          "bdata": "WOkLg8DbyT9a0WJ7c/hzP4/ISav8NLw/WOkLg8DbyT8="
         },
         "y": {
          "dtype": "f8",
          "bdata": "wjyKHXrsm78xOCoRI8vIv2G7vq17PdG/wjyKHXrsm78="
         },
         "type": "scatter"
        },
        {
         "fill": "toself",
         "hoverinfo": "skip",
         "line": {
          "width": 1
         },
         "mode": "lines",
         "opacity": 0.2,
         "showlegend": false,
         "x": {
          "dtype": "f8",
          "bdata": "ixpDR0aBuT81ObMhsn6yP4xWQAp+RbM/ixpDR0aBuT8="
         },
         "y": {
          "dtype": "f8",
          "bdata": "YdaPz3kgy7+dLj1tOc7DP6fdIl8IO8u/YdaPz3kgy78="
         },
         "type": "scatter"
        },
        {
         "fill": "toself",
         "hoverinfo": "skip",
         "line": {
          "width": 1
         },
         "mode": "lines",
         "opacity": 0.2,
         "showlegend": false,
         "x": {
          "dtype": "f8",
          "bdata": "AbVf5JVzdL8Bo+XIK/fMvyJ2QIXKcMS/AbVf5JVzdL8="
         },
         "y": {
          "dtype": "f8",
          "bdata": "7reAShwPy7/CqaoCVMCtPzBx1HO+4by/7reAShwPy78="
         },
         "type": "scatter"
        },
        {
         "fill": "toself",
         "hoverinfo": "skip",
         "line": {
          "width": 1
         },
         "mode": "lines",
         "opacity": 0.2,
         "showlegend": false,
         "x": {
          "dtype": "f8",
          "bdata": "uneQs2FIib//QqzhsNy/P5qxdZQfyLU/uneQs2FIib8="
         },
         "y": {
          "dtype": "f8",
          "bdata": "i1hp+53dzL/9+wn004HQv6RjABYiYc6/i1hp+53dzL8="
         },
         "type": "scatter"
        },
        {
         "fill": "toself",
         "hoverinfo": "skip",
         "line": {
          "width": 1
         },
         "mode": "lines",
         "opacity": 0.2,
         "showlegend": false,
         "x": {
          "dtype": "f8",
          "bdata": "PtPTzj4IzL/8IfGDtZemv46jrpp9esq/PtPTzj4IzL8="
         },
         "y": {
          "dtype": "f8",
          "bdata": "1Jeh5Nh8SL8cX6EbseS9v8tO8NXtaa4/1Jeh5Nh8SL8="
         },
         "type": "scatter"
        },
        {
         "fill": "toself",
         "hoverinfo": "skip",
         "line": {
          "width": 1
         },
         "mode": "lines",
         "opacity": 0.2,
         "showlegend": false,
         "x": {
          "dtype": "f8",
          "bdata": "7haI695Nor++czBgG67NP+YFWbdrg0m/7haI695Nor8="
         },
         "y": {
          "dtype": "f8",
          "bdata": "dTN3Xi4lwL8TdaqkFYp8P/cG+qomVbu/dTN3Xi4lwL8="
         },
         "type": "scatter"
        },
        {
         "fill": "toself",
         "hoverinfo": "skip",
         "line": {
          "width": 1
         },
         "mode": "lines",
         "opacity": 0.2,
         "showlegend": false,
         "x": {
          "dtype": "f8",
          "bdata": "iVvo49Eqyr+Ukw86rNGkPyp4uwugb4G/iVvo49Eqyr8="
         },
         "y": {
          "dtype": "f8",
          "bdata": "n+T312bdwb/vmPu0Rsiyvzxdv8+JUMU/n+T312bdwb8="
         },
         "type": "scatter"
        },
        {
         "fill": "toself",
         "hoverinfo": "skip",
         "line": {
          "width": 1
         },
         "mode": "lines",
         "opacity": 0.2,
         "showlegend": false,
         "x": {
          "dtype": "f8",
          "bdata": "UkTPzC6LwT8CPDi5h7vFvwLcxkHZC5I/UkTPzC6LwT8="
         },
         "y": {
          "dtype": "f8",
          "bdata": "rr/zRzw1vz8hOwsmH4Kzv9ZEyLA9xbq/rr/zRzw1vz8="
         },
         "type": "scatter"
        },
        {
         "fill": "toself",
         "hoverinfo": "skip",
         "line": {
          "width": 1
         },
         "mode": "lines",
         "opacity": 0.2,
         "showlegend": false,
         "x": {
          "dtype": "f8",
          "bdata": "HNq5ktiBxT/aQoIpeeSsP/FC1KU17cQ/HNq5ktiBxT8="
         },
         "y": {
          "dtype": "f8",
          "bdata": "xJUIEW9KwT/81LSG8N6jv18eyd+K8aE/xJUIEW9KwT8="
         },
         "type": "scatter"
        },
        {
         "fill": "toself",
         "hoverinfo": "skip",
         "line": {
          "width": 1
         },
         "mode": "lines",
         "opacity": 0.2,
         "showlegend": false,
         "x": {
          "dtype": "f8",
          "bdata": "KfRV9n8Uer+J25FWUpm0P9SaJ837epQ/KfRV9n8Uer8="
         },
         "y": {
          "dtype": "f8",
          "bdata": "4fcA4Chzur/lzlG7Crp2v5QJfw6xf4m/4fcA4Chzur8="
         },
         "type": "scatter"
        },
        {
         "fill": "toself",
         "hoverinfo": "skip",
         "line": {
          "width": 1
         },
         "mode": "lines",
         "opacity": 0.2,
         "showlegend": false,
         "x": {
          "dtype": "f8",
          "bdata": "L+/il1dy0T+Zj/NQXe3IP1D1RhYQd9A/L+/il1dy0T8="
         },
         "y": {
          "dtype": "f8",
          "bdata": "yY9MWHHUuD+EditttlXMPwdpLcw9frI/yY9MWHHUuD8="
         },
         "type": "scatter"
        },
        {
         "fill": "toself",
         "hoverinfo": "skip",
         "line": {
          "width": 1
         },
         "mode": "lines",
         "opacity": 0.2,
         "showlegend": false,
         "x": {
          "dtype": "f8",
          "bdata": "PPrs4sYRMb8Dk+bDKKHEP0buu99fQb0/PPrs4sYRMb8="
         },
         "y": {
          "dtype": "f8",
          "bdata": "svPnohJos7/BjDRO9qqLP3j13+udOck/svPnohJos78="
         },
         "type": "scatter"
        }
       ],
       "layout": {
        "template": {
         "data": {
          "histogram2dcontour": [
           {
            "type": "histogram2dcontour",
            "colorbar": {
             "outlinewidth": 0,
             "ticks": ""
            },
            "colorscale": [
             [
              0.0,
              "#0d0887"
             ],
             [
              0.1111111111111111,
              "#46039f"
             ],
             [
              0.2222222222222222,
              "#7201a8"
             ],
             [
              0.3333333333333333,
              "#9c179e"
             ],
             [
              0.4444444444444444,
              "#bd3786"
             ],
             [
              0.5555555555555556,
              "#d8576b"
             ],
             [
              0.6666666666666666,
              "#ed7953"
             ],
             [
              0.7777777777777778,
              "#fb9f3a"
             ],
             [
              0.8888888888888888,
              "#fdca26"
             ],
             [
              1.0,
              "#f0f921"
             ]
            ]
           }
          ],
          "choropleth": [
           {
            "type": "choropleth",
            "colorbar": {
             "outlinewidth": 0,
             "ticks": ""
            }
           }
          ],
          "histogram2d": [
           {
            "type": "histogram2d",
            "colorbar": {
             "outlinewidth": 0,
             "ticks": ""
            },
            "colorscale": [
             [
              0.0,
              "#0d0887"
             ],
             [
              0.1111111111111111,
              "#46039f"
             ],
             [
              0.2222222222222222,
              "#7201a8"
             ],
             [
              0.3333333333333333,
              "#9c179e"
             ],
             [
              0.4444444444444444,
              "#bd3786"
             ],
             [
              0.5555555555555556,
              "#d8576b"
             ],
             [
              0.6666666666666666,
              "#ed7953"
             ],
             [
              0.7777777777777778,
              "#fb9f3a"
             ],
             [
              0.8888888888888888,
              "#fdca26"
             ],
             [
              1.0,
              "#f0f921"
             ]
            ]
           }
          ],
          "heatmap": [
           {
            "type": "heatmap",
            "colorbar": {
             "outlinewidth": 0,
             "ticks": ""
            },
            "colorscale": [
             [
              0.0,
              "#0d0887"
             ],
             [
              0.1111111111111111,
              "#46039f"
             ],
             [
              0.2222222222222222,
              "#7201a8"
             ],
             [
              0.3333333333333333,
              "#9c179e"
             ],
             [
              0.4444444444444444,
              "#bd3786"
             ],
             [
              0.5555555555555556,
              "#d8576b"
             ],
             [
              0.6666666666666666,
              "#ed7953"
             ],
             [
              0.7777777777777778,
              "#fb9f3a"
             ],
             [
              0.8888888888888888,
              "#fdca26"
             ],
             [
              1.0,
              "#f0f921"
             ]
            ]
           }
          ],
          "contourcarpet": [
           {
            "type": "contourcarpet",
            "colorbar": {
             "outlinewidth": 0,
             "ticks": ""
            }
           }
          ],
          "contour": [
           {
            "type": "contour",
            "colorbar": {
             "outlinewidth": 0,
             "ticks": ""
            },
            "colorscale": [
             [
              0.0,
              "#0d0887"
             ],
             [
              0.1111111111111111,
              "#46039f"
             ],
             [
              0.2222222222222222,
              "#7201a8"
             ],
             [
              0.3333333333333333,
              "#9c179e"
             ],
             [
              0.4444444444444444,
              "#bd3786"
             ],
             [
              0.5555555555555556,
              "#d8576b"
             ],
             [
              0.6666666666666666,
              "#ed7953"
             ],
             [
              0.7777777777777778,
              "#fb9f3a"
             ],
             [
              0.8888888888888888,
              "#fdca26"
             ],
             [
              1.0,
              "#f0f921"
             ]
            ]
           }
          ],
          "surface": [
           {
            "type": "surface",
            "colorbar": {
             "outlinewidth": 0,
             "ticks": ""
            },
            "colorscale": [
             [
              0.0,
              "#0d0887"
             ],
             [
              0.1111111111111111,
              "#46039f"
             ],
             [
              0.2222222222222222,
              "#7201a8"
             ],
             [
              0.3333333333333333,
              "#9c179e"
             ],
             [
              0.4444444444444444,
              "#bd3786"
             ],
             [
              0.5555555555555556,
              "#d8576b"
             ],
             [
              0.6666666666666666,
              "#ed7953"
             ],
             [
              0.7777777777777778,
              "#fb9f3a"
             ],
             [
              0.8888888888888888,
              "#fdca26"
             ],
             [
              1.0,
              "#f0f921"
             ]
            ]
           }
          ],
          "mesh3d": [
           {
            "type": "mesh3d",
            "colorbar": {
             "outlinewidth": 0,
             "ticks": ""
            }
           }
          ],
          "scatter": [
           {
            "marker": {
             "line": {
              "color": "#283442"
             }
            },
            "type": "scatter"
           }
          ],
          "parcoords": [
           {
            "type": "parcoords",
            "line": {
             "colorbar": {
              "outlinewidth": 0,
              "ticks": ""
             }
            }
           }
          ],
          "scatterpolargl": [
           {
            "type": "scatterpolargl",
            "marker": {
             "colorbar": {
              "outlinewidth": 0,
              "ticks": ""
             }
            }
           }
          ],
          "bar": [
           {
            "error_x": {
             "color": "#f2f5fa"
            },
            "error_y": {
             "color": "#f2f5fa"
            },
            "marker": {
             "line": {
              "color": "rgb(17,17,17)",
              "width": 0.5
             },
             "pattern": {
              "fillmode": "overlay",
              "size": 10,
              "solidity": 0.2
             }
            },
            "type": "bar"
           }
          ],
          "scattergeo": [
           {
            "type": "scattergeo",
            "marker": {
             "colorbar": {
              "outlinewidth": 0,
              "ticks": ""
             }
            }
           }
          ],
          "scatterpolar": [
           {
            "type": "scatterpolar",
            "marker": {
             "colorbar": {
              "outlinewidth": 0,
              "ticks": ""
             }
            }
           }
          ],
          "histogram": [
           {
            "marker": {
             "pattern": {
              "fillmode": "overlay",
              "size": 10,
              "solidity": 0.2
             }
            },
            "type": "histogram"
           }
          ],
          "scattergl": [
           {
            "marker": {
             "line": {
              "color": "#283442"
             }
            },
            "type": "scattergl"
           }
          ],
          "scatter3d": [
           {
            "type": "scatter3d",
            "line": {
             "colorbar": {
              "outlinewidth": 0,
              "ticks": ""
             }
            },
            "marker": {
             "colorbar": {
              "outlinewidth": 0,
              "ticks": ""
             }
            }
           }
          ],
          "scattermap": [
           {
            "type": "scattermap",
            "marker": {
             "colorbar": {
              "outlinewidth": 0,
              "ticks": ""
             }
            }
           }
          ],
          "scattermapbox": [
           {
            "type": "scattermapbox",
            "marker": {
             "colorbar": {
              "outlinewidth": 0,
              "ticks": ""
             }
            }
           }
          ],
          "scatterternary": [
           {
            "type": "scatterternary",
            "marker": {
             "colorbar": {
              "outlinewidth": 0,
              "ticks": ""
             }
            }
           }
          ],
          "scattercarpet": [
           {
            "type": "scattercarpet",
            "marker": {
             "colorbar": {
              "outlinewidth": 0,
              "ticks": ""
             }
            }
           }
          ],
          "carpet": [
           {
            "aaxis": {
             "endlinecolor": "#A2B1C6",
             "gridcolor": "#506784",
             "linecolor": "#506784",
             "minorgridcolor": "#506784",
             "startlinecolor": "#A2B1C6"
            },
            "baxis": {
             "endlinecolor": "#A2B1C6",
             "gridcolor": "#506784",
             "linecolor": "#506784",
             "minorgridcolor": "#506784",
             "startlinecolor": "#A2B1C6"
            },
            "type": "carpet"
           }
          ],
          "table": [
           {
            "cells": {
             "fill": {
              "color": "#506784"
             },
             "line": {
              "color": "rgb(17,17,17)"
             }
            },
            "header": {
             "fill": {
              "color": "#2a3f5f"
             },
             "line": {
              "color": "rgb(17,17,17)"
             }
            },
            "type": "table"
           }
          ],
          "barpolar": [
           {
            "marker": {
             "line": {
              "color": "rgb(17,17,17)",
              "width": 0.5
             },
             "pattern": {
              "fillmode": "overlay",
              "size": 10,
              "solidity": 0.2
             }
            },
            "type": "barpolar"
           }
          ],
          "pie": [
           {
            "automargin": true,
            "type": "pie"
           }
          ]
         },
         "layout": {
          "autotypenumbers": "strict",
          "colorway": [
           "#636efa",
           "#EF553B",
           "#00cc96",
           "#ab63fa",
           "#FFA15A",
           "#19d3f3",
           "#FF6692",
           "#B6E880",
           "#FF97FF",
           "#FECB52"
          ],
          "font": {
           "color": "#f2f5fa"
          },
          "hovermode": "closest",
          "hoverlabel": {
           "align": "left"
          },
          "paper_bgcolor": "rgb(17,17,17)",
          "plot_bgcolor": "rgb(17,17,17)",
          "polar": {
           "bgcolor": "rgb(17,17,17)",
           "angularaxis": {
            "gridcolor": "#506784",
            "linecolor": "#506784",
            "ticks": ""
           },
           "radialaxis": {
            "gridcolor": "#506784",
            "linecolor": "#506784",
            "ticks": ""
           }
          },
          "ternary": {
           "bgcolor": "rgb(17,17,17)",
           "aaxis": {
            "gridcolor": "#506784",
            "linecolor": "#506784",
            "ticks": ""
           },
           "baxis": {
            "gridcolor": "#506784",
            "linecolor": "#506784",
            "ticks": ""
           },
           "caxis": {
            "gridcolor": "#506784",
            "linecolor": "#506784",
            "ticks": ""
           }
          },
          "coloraxis": {
           "colorbar": {
            "outlinewidth": 0,
            "ticks": ""
           }
          },
          "colorscale": {
           "sequential": [
            [
             0.0,
             "#0d0887"
            ],
            [
             0.1111111111111111,
             "#46039f"
            ],
            [
             0.2222222222222222,
             "#7201a8"
            ],
            [
             0.3333333333333333,
             "#9c179e"
            ],
            [
             0.4444444444444444,
             "#bd3786"
            ],
            [
             0.5555555555555556,
             "#d8576b"
            ],
            [
             0.6666666666666666,
             "#ed7953"
            ],
            [
             0.7777777777777778,
             "#fb9f3a"
            ],
            [
             0.8888888888888888,
             "#fdca26"
            ],
            [
             1.0,
             "#f0f921"
            ]
           ],
           "sequentialminus": [
            [
             0.0,
             "#0d0887"
            ],
            [
             0.1111111111111111,
             "#46039f"
            ],
            [
             0.2222222222222222,
             "#7201a8"
            ],
            [
             0.3333333333333333,
             "#9c179e"
            ],
            [
             0.4444444444444444,
             "#bd3786"
            ],
            [
             0.5555555555555556,
             "#d8576b"
            ],
            [
             0.6666666666666666,
             "#ed7953"
            ],
            [
             0.7777777777777778,
             "#fb9f3a"
            ],
            [
             0.8888888888888888,
             "#fdca26"
            ],
            [
             1.0,
             "#f0f921"
            ]
           ],
           "diverging": [
            [
             0,
             "#8e0152"
            ],
            [
             0.1,
             "#c51b7d"
            ],
            [
             0.2,
             "#de77ae"
            ],
            [
             0.3,
             "#f1b6da"
            ],
            [
             0.4,
             "#fde0ef"
            ],
            [
             0.5,
             "#f7f7f7"
            ],
            [
             0.6,
             "#e6f5d0"
            ],
            [
             0.7,
             "#b8e186"
            ],
            [
             0.8,
             "#7fbc41"
            ],
            [
             0.9,
             "#4d9221"
            ],
            [
             1,
             "#276419"
            ]
           ]
          },
          "xaxis": {
           "gridcolor": "#283442",
           "linecolor": "#506784",
           "ticks": "",
           "title": {
            "standoff": 15
           },
           "zerolinecolor": "#283442",
           "automargin": true,
           "zerolinewidth": 2
          },
          "yaxis": {
           "gridcolor": "#283442",
           "linecolor": "#506784",
           "ticks": "",
           "title": {
            "standoff": 15
           },
           "zerolinecolor": "#283442",
           "automargin": true,
           "zerolinewidth": 2
          },
          "scene": {
           "xaxis": {
            "backgroundcolor": "rgb(17,17,17)",
            "gridcolor": "#506784",
            "linecolor": "#506784",
            "showbackground": true,
            "ticks": "",
            "zerolinecolor": "#C8D4E3",
            "gridwidth": 2
           },
           "yaxis": {
            "backgroundcolor": "rgb(17,17,17)",
            "gridcolor": "#506784",
            "linecolor": "#506784",
            "showbackground": true,
            "ticks": "",
            "zerolinecolor": "#C8D4E3",
            "gridwidth": 2
           },
           "zaxis": {
            "backgroundcolor": "rgb(17,17,17)",
            "gridcolor": "#506784",
            "linecolor": "#506784",
            "showbackground": true,
            "ticks": "",
            "zerolinecolor": "#C8D4E3",
            "gridwidth": 2
           }
          },
          "shapedefaults": {
           "line": {
            "color": "#f2f5fa"
           }
          },
          "annotationdefaults": {
           "arrowcolor": "#f2f5fa",
           "arrowhead": 0,
           "arrowwidth": 1
          },
          "geo": {
           "bgcolor": "rgb(17,17,17)",
           "landcolor": "rgb(17,17,17)",
           "subunitcolor": "#506784",
           "showland": true,
           "showlakes": true,
           "lakecolor": "rgb(17,17,17)"
          },
          "title": {
           "x": 0.05
          },
          "updatemenudefaults": {
           "bgcolor": "#506784",
           "borderwidth": 0
          },
          "sliderdefaults": {
           "bgcolor": "#C8D4E3",
           "borderwidth": 1,
           "bordercolor": "rgb(17,17,17)",
           "tickwidth": 0
          },
          "mapbox": {
           "style": "dark"
          }
         }
        },
        "xaxis": {
         "anchor": "y",
         "domain": [
          0.0,
          1.0
         ],
         "title": {
          "text": "0"
         }
        },
        "yaxis": {
         "anchor": "x",
         "domain": [
          0.0,
          1.0
         ],
         "title": {
          "text": "1"
         }
        },
        "legend": {
         "title": {
          "text": "color"
         },
         "tracegroupgap": 0
        },
        "title": {
         "text": "Baseline Clustering PCA"
        }
       },
       "config": {
        "plotlyServerURL": "https://plot.ly"
       }
      }
     },
     "metadata": {},
     "output_type": "display_data"
    },
    {
     "data": {
      "application/vnd.plotly.v1+json": {
       "data": [
        {
         "hovertemplate": "<b>%{hovertext}</b><br><br>color=Oral Session 1A: Neuroscience and Intepretability<br>0=%{x}<br>1=%{y}<extra></extra>",
         "hovertext": [
          "aVh9KRZdRk",
          "KZlJF8kguO",
          "cu8FfaYriU"
         ],
         "legendgroup": "Oral Session 1A: Neuroscience and Intepretability",
         "marker": {
          "color": "#636efa",
          "symbol": "circle"
         },
         "mode": "markers",
         "name": "Oral Session 1A: Neuroscience and Intepretability",
         "orientation": "v",
         "showlegend": true,
         "x": {
          "dtype": "f8",
          "bdata": "ZnKl/lcSj78Dk+bDKKHEP/FC1KU17cQ/"
         },
         "xaxis": "x",
         "y": {
          "dtype": "f8",
          "bdata": "XhSdRRYlgr/BjDRO9qqLP18eyd+K8aE/"
         },
         "yaxis": "y",
         "type": "scatter"
        },
        {
         "hovertemplate": "<b>%{hovertext}</b><br><br>color=Oral Session 1D: Learning Theory<br>0=%{x}<br>1=%{y}<extra></extra>",
         "hovertext": [
          "m1a4CrRJR7",
          "wpGJ2AX6SZ",
          "rtz4df9IF1"
         ],
         "legendgroup": "Oral Session 1D: Learning Theory",
         "marker": {
          "color": "#EF553B",
          "symbol": "circle"
         },
         "mode": "markers",
         "name": "Oral Session 1D: Learning Theory",
         "orientation": "v",
         "showlegend": true,
         "x": {
          "dtype": "f8",
          "bdata": "91DMwOWGy79wOMwTzO3Kv+geQRRAJ9S/"
         },
         "xaxis": "x",
         "y": {
          "dtype": "f8",
          "bdata": "qmrS6RAVoD8mZhoKO8i2P879hWToNMA/"
         },
         "yaxis": "y",
         "type": "scatter"
        },
        {
         "hovertemplate": "<b>%{hovertext}</b><br><br>color=Oral Session 6C: New Data<br>0=%{x}<br>1=%{y}<extra></extra>",
         "hovertext": [
          "0XeNkkENuI",
          "HRkniCWM3E",
          "VXohja0vrQ"
         ],
         "legendgroup": "Oral Session 6C: New Data",
         "marker": {
          "color": "#00cc96",
          "symbol": "circle"
         },
         "mode": "markers",
         "name": "Oral Session 6C: New Data",
         "orientation": "v",
         "showlegend": true,
         "x": {
          "dtype": "f8",
          "bdata": "kZ6q0YWLzb8CPDi5h7vFv0buu99fQb0/"
         },
         "xaxis": "x",
         "y": {
          "dtype": "f8",
          "bdata": "1fXWvTlumb8hOwsmH4Kzv3j13+udOck/"
         },
         "yaxis": "y",
         "type": "scatter"
        },
        {
         "hovertemplate": "<b>%{hovertext}</b><br><br>color=Oral Session 1C: Optimization and Learning Theory<br>0=%{x}<br>1=%{y}<extra></extra>",
         "hovertext": [
          "aIPwlkdOut",
          "ge8GZn8Gtu",
          "qf2uZAdy1N"
         ],
         "legendgroup": "Oral Session 1C: Optimization and Learning Theory",
         "marker": {
          "color": "#ab63fa",
          "symbol": "circle"
         },
         "mode": "markers",
         "name": "Oral Session 1C: Optimization and Learning Theory",
         "orientation": "v",
         "showlegend": true,
         "x": {
          "dtype": "f8",
          "bdata": "wrdHYExnxb9LULUBBs/YvzIFrpO9qdS/"
         },
         "xaxis": "x",
         "y": {
          "dtype": "f8",
          "bdata": "r7tnGgF/tT8Y/l0tq3WjP+4Dx+zGxro/"
         },
         "yaxis": "y",
         "type": "scatter"
        },
        {
         "hovertemplate": "<b>%{hovertext}</b><br><br>color=Oral Session 2C: Reinforcement Learning<br>0=%{x}<br>1=%{y}<extra></extra>",
         "hovertext": [
          "UdxpjKO2F9",
          "R8SolCx62K",
          "mSaqxZVZW8"
         ],
         "legendgroup": "Oral Session 2C: Reinforcement Learning",
         "marker": {
          "color": "#FFA15A",
          "symbol": "circle"
         },
         "mode": "markers",
         "name": "Oral Session 2C: Reinforcement Learning",
         "orientation": "v",
         "showlegend": true,
         "x": {
          "dtype": "f8",
          "bdata": "lWj6ExuKnb/8IfGDtZemv5sPq6lJpsC/"
         },
         "xaxis": "x",
         "y": {
          "dtype": "f8",
          "bdata": "XK8/QG+dkT8cX6EbseS9vzeVWF3dlLA/"
         },
         "yaxis": "y",
         "type": "scatter"
        },
        {
         "hovertemplate": "<b>%{hovertext}</b><br><br>color=Oral Session 3C: Natural Language Processing<br>0=%{x}<br>1=%{y}<extra></extra>",
         "hovertext": [
          "LEzx6QRkRH",
          "Ddak3nSqQM",
          "pC44UMwy2v"
         ],
         "legendgroup": "Oral Session 3C: Natural Language Processing",
         "marker": {
          "color": "#19d3f3",
          "symbol": "circle"
         },
         "mode": "markers",
         "name": "Oral Session 3C: Natural Language Processing",
         "orientation": "v",
         "showlegend": true,
         "x": {
          "dtype": "f8",
          "bdata": "U6JOdQcDwz9LuKOSPIetPxJz7CqZ4rQ/"
         },
         "xaxis": "x",
         "y": {
          "dtype": "f8",
          "bdata": "HAgMXkYfwj/pcDcnhqDDP764CgcF48M/"
         },
         "yaxis": "y",
         "type": "scatter"
        },
        {
         "hovertemplate": "<b>%{hovertext}</b><br><br>color=Oral Session 2B: Reinforcement Learning<br>0=%{x}<br>1=%{y}<extra></extra>",
         "hovertext": [
          "pGEY8JQ3qx",
          "6YIpvnkjUK",
          "eWUM5hRYgH"
         ],
         "legendgroup": "Oral Session 2B: Reinforcement Learning",
         "marker": {
          "color": "#FF6692",
          "symbol": "circle"
         },
         "mode": "markers",
         "name": "Oral Session 2B: Reinforcement Learning",
         "orientation": "v",
         "showlegend": true,
         "x": {
          "dtype": "f8",
          "bdata": "nrKKKa763b/DSVnOzgXav36J9fL0C9q/"
         },
         "xaxis": "x",
         "y": {
          "dtype": "f8",
          "bdata": "CnrrgweUxT/kZ1tE+Cy+P1gLCBcV07U/"
         },
         "yaxis": "y",
         "type": "scatter"
        },
        {
         "hovertemplate": "<b>%{hovertext}</b><br><br>color=Oral Session 3D: Natural Language Processing<br>0=%{x}<br>1=%{y}<extra></extra>",
         "hovertext": [
          "0NMzBwqaAJ",
          "cFqAANINgW",
          "Mbd3QxXjq5"
         ],
         "legendgroup": "Oral Session 3D: Natural Language Processing",
         "marker": {
          "color": "#B6E880",
          "symbol": "circle"
         },
         "mode": "markers",
         "name": "Oral Session 3D: Natural Language Processing",
         "orientation": "v",
         "showlegend": true,
         "x": {
          "dtype": "f8",
          "bdata": "Q6CdMMLtqT+TNfG5kYK4PzU5syGyfrI/"
         },
         "xaxis": "x",
         "y": {
          "dtype": "f8",
          "bdata": "4gai1GK+uz+rv6kJLk3GP50uPW05zsM/"
         },
         "yaxis": "y",
         "type": "scatter"
        },
        {
         "hovertemplate": "<b>%{hovertext}</b><br><br>color=Oral Session 4A: Natural Language Processing<br>0=%{x}<br>1=%{y}<extra></extra>",
         "hovertext": [
          "bCMpdaQCNW",
          "4NJBV6Wp0h",
          "E18kRXTGmV"
         ],
         "legendgroup": "Oral Session 4A: Natural Language Processing",
         "marker": {
          "color": "#FF97FF",
          "symbol": "circle"
         },
         "mode": "markers",
         "name": "Oral Session 4A: Natural Language Processing",
         "orientation": "v",
         "showlegend": true,
         "x": {
          "dtype": "f8",
          "bdata": "zrnJXTbizj8VGCm7csvEPy/v4pdXctE/"
         },
         "xaxis": "x",
         "y": {
          "dtype": "f8",
          "bdata": "XnLWCpH+wT+dcfkaWTDDP8mPTFhx1Lg/"
         },
         "yaxis": "y",
         "type": "scatter"
        },
        {
         "hovertemplate": "<b>%{hovertext}</b><br><br>color=Oral Session 6B: Safety, New Data<br>0=%{x}<br>1=%{y}<extra></extra>",
         "hovertext": [
          "YvA8UF0I37",
          "mp8u2Pcmqz",
          "135eKqDoRR"
         ],
         "legendgroup": "Oral Session 6B: Safety, New Data",
         "marker": {
          "color": "#FECB52",
          "symbol": "circle"
         },
         "mode": "markers",
         "name": "Oral Session 6B: Safety, New Data",
         "orientation": "v",
         "showlegend": true,
         "x": {
          "dtype": "f8",
          "bdata": "ajyLp3els78jjVpZ33GnP9pCgil55Kw/"
         },
         "xaxis": "x",
         "y": {
          "dtype": "f8",
          "bdata": "/YqY8CVjkb/zg9ut0HGiv/zUtIbw3qO/"
         },
         "yaxis": "y",
         "type": "scatter"
        },
        {
         "hovertemplate": "<b>%{hovertext}</b><br><br>color=Oral Session 4D: Machine Vision<br>0=%{x}<br>1=%{y}<extra></extra>",
         "hovertext": [
          "TFZlFRl9Ks",
          "SSCtCq2MH2",
          "x7pjdDod6Z"
         ],
         "legendgroup": "Oral Session 4D: Machine Vision",
         "marker": {
          "color": "#636efa",
          "symbol": "circle"
         },
         "mode": "markers",
         "name": "Oral Session 4D: Machine Vision",
         "orientation": "v",
         "showlegend": true,
         "x": {
          "dtype": "f8",
          "bdata": "j8hJq/w0vD+6d5CzYUiJv/9CrOGw3L8/"
         },
         "xaxis": "x",
         "y": {
          "dtype": "f8",
          "bdata": "Ybu+rXs90b+LWGn7nd3Mv/37CfTTgdC/"
         },
         "yaxis": "y",
         "type": "scatter"
        },
        {
         "hovertemplate": "<b>%{hovertext}</b><br><br>color=Oral Session 5C: Machine Vision<br>0=%{x}<br>1=%{y}<extra></extra>",
         "hovertext": [
          "OycU0bAus6",
          "C4NbtYnyQg",
          "47loYmzxep"
         ],
         "legendgroup": "Oral Session 5C: Machine Vision",
         "marker": {
          "color": "#EF553B",
          "symbol": "circle"
         },
         "mode": "markers",
         "name": "Oral Session 5C: Machine Vision",
         "orientation": "v",
         "showlegend": true,
         "x": {
          "dtype": "f8",
          "bdata": "jFZACn5Fsz/mBVm3a4NJv5qxdZQfyLU/"
         },
         "xaxis": "x",
         "y": {
          "dtype": "f8",
          "bdata": "p90iXwg7y7/3BvqqJlW7v6RjABYiYc6/"
         },
         "yaxis": "y",
         "type": "scatter"
        },
        {
         "hovertemplate": "<b>%{hovertext}</b><br><br>color=Oral Session 6A: Machine Learning and Science, Safety<br>0=%{x}<br>1=%{y}<extra></extra>",
         "hovertext": [
          "QDYts5dYgq",
          "cfrDLD1wfO",
          "s1K5Z5QPog"
         ],
         "legendgroup": "Oral Session 6A: Machine Learning and Science, Safety",
         "marker": {
          "color": "#00cc96",
          "symbol": "circle"
         },
         "mode": "markers",
         "name": "Oral Session 6A: Machine Learning and Science, Safety",
         "orientation": "v",
         "showlegend": true,
         "x": {
          "dtype": "f8",
          "bdata": "AbVf5JVzdL8C3MZB2QuSPzz67OLGETG/"
         },
         "xaxis": "x",
         "y": {
          "dtype": "f8",
          "bdata": "7reAShwPy7/WRMiwPcW6v7Lz56ISaLO/"
         },
         "yaxis": "y",
         "type": "scatter"
        },
        {
         "hovertemplate": "<b>%{hovertext}</b><br><br>color=Oral Session 3A: Generative Models<br>0=%{x}<br>1=%{y}<extra></extra>",
         "hovertext": [
          "tnh4LK72yj",
          "Pezt0xttae",
          "qEpi8uWX3N"
         ],
         "legendgroup": "Oral Session 3A: Generative Models",
         "marker": {
          "color": "#ab63fa",
          "symbol": "circle"
         },
         "mode": "markers",
         "name": "Oral Session 3A: Generative Models",
         "orientation": "v",
         "showlegend": true,
         "x": {
          "dtype": "f8",
          "bdata": "lJMPOqzRpD8p9FX2fxR6v3RxHwWNsb4/"
         },
         "xaxis": "x",
         "y": {
          "dtype": "f8",
          "bdata": "75j7tEbIsr/h9wDgKHO6v+VOYDZkm58/"
         },
         "yaxis": "y",
         "type": "scatter"
        },
        {
         "hovertemplate": "<b>%{hovertext}</b><br><br>color=Oral Session 1B: Human-AI Interaction<br>0=%{x}<br>1=%{y}<extra></extra>",
         "hovertext": [
          "kq166jACVP",
          "Oo7dlLgqQX",
          "DFr5hteojx"
         ],
         "legendgroup": "Oral Session 1B: Human-AI Interaction",
         "marker": {
          "color": "#FFA15A",
          "symbol": "circle"
         },
         "mode": "markers",
         "name": "Oral Session 1B: Human-AI Interaction",
         "orientation": "v",
         "showlegend": true,
         "x": {
          "dtype": "f8",
          "bdata": "HNq5ktiBxT/Uri+1+cXAP7A8hscWwcM/"
         },
         "xaxis": "x",
         "y": {
          "dtype": "f8",
          "bdata": "xJUIEW9KwT+CgFIB18LAP1J/s6yg1sc/"
         },
         "yaxis": "y",
         "type": "scatter"
        },
        {
         "hovertemplate": "<b>%{hovertext}</b><br><br>color=Oral Session 5B: Graph Neural Networks, Causal Inference<br>0=%{x}<br>1=%{y}<extra></extra>",
         "hovertext": [
          "REIK4SZMJt",
          "4rCZeCZAON",
          "S2P6KPLtm8"
         ],
         "legendgroup": "Oral Session 5B: Graph Neural Networks, Causal Inference",
         "marker": {
          "color": "#19d3f3",
          "symbol": "circle"
         },
         "mode": "markers",
         "name": "Oral Session 5B: Graph Neural Networks, Causal Inference",
         "orientation": "v",
         "showlegend": true,
         "x": {
          "dtype": "f8",
          "bdata": "gtFIw0Dsxb8+09POPgjMv46jrpp9esq/"
         },
         "xaxis": "x",
         "y": {
          "dtype": "f8",
          "bdata": "87BY9q5Wk7/Ul6Hk2HxIv8tO8NXtaa4/"
         },
         "yaxis": "y",
         "type": "scatter"
        },
        {
         "hovertemplate": "<b>%{hovertext}</b><br><br>color=Oral Session 5D: Machine Learning and Science<br>0=%{x}<br>1=%{y}<extra></extra>",
         "hovertext": [
          "y10avdRFNK",
          "J2wI2rCG2u",
          "V0oJaLqY4E"
         ],
         "legendgroup": "Oral Session 5D: Machine Learning and Science",
         "marker": {
          "color": "#FF6692",
          "symbol": "circle"
         },
         "mode": "markers",
         "name": "Oral Session 5D: Machine Learning and Science",
         "orientation": "v",
         "showlegend": true,
         "x": {
          "dtype": "f8",
          "bdata": "8raQYQrNyL+JW+jj0SrKv1/kyTD73bG/"
         },
         "xaxis": "x",
         "y": {
          "dtype": "f8",
          "bdata": "BLLvh9qZwL+f5PfXZt3BvzzVuzfXXs2/"
         },
         "yaxis": "y",
         "type": "scatter"
        },
        {
         "hovertemplate": "<b>%{hovertext}</b><br><br>color=Oral Session 2D: Generative Models<br>0=%{x}<br>1=%{y}<extra></extra>",
         "hovertext": [
          "r5spnrY6H3",
          "5zSCSE0k41",
          "8qu52Fl1Dt"
         ],
         "legendgroup": "Oral Session 2D: Generative Models",
         "marker": {
          "color": "#B6E880",
          "symbol": "circle"
         },
         "mode": "markers",
         "name": "Oral Session 2D: Generative Models",
         "orientation": "v",
         "showlegend": true,
         "x": {
          "dtype": "f8",
          "bdata": "pmhl0hCPxj+c6eCIChjFP9bRks0F1r8/"
         },
         "xaxis": "x",
         "y": {
          "dtype": "f8",
          "bdata": "zUO1kNDztL/qpFOrtcvGv1lgnLg+gMq/"
         },
         "yaxis": "y",
         "type": "scatter"
        },
        {
         "hovertemplate": "<b>%{hovertext}</b><br><br>color=Oral Session 3B: Natural Language Processing<br>0=%{x}<br>1=%{y}<extra></extra>",
         "hovertext": [
          "NPKZF1WDjZ",
          "EKdk4vxKO4",
          "uNKlTQ8mBD"
         ],
         "legendgroup": "Oral Session 3B: Natural Language Processing",
         "marker": {
          "color": "#FF97FF",
          "symbol": "circle"
         },
         "mode": "markers",
         "name": "Oral Session 3B: Natural Language Processing",
         "orientation": "v",
         "showlegend": true,
         "x": {
          "dtype": "f8",
          "bdata": "UX0SBwLnwT9SRM/MLovBPyp4uwugb4G/"
         },
         "xaxis": "x",
         "y": {
          "dtype": "f8",
          "bdata": "CJDj9tKRwz+uv/NHPDW/Pzxdv8+JUMU/"
         },
         "yaxis": "y",
         "type": "scatter"
        },
        {
         "hovertemplate": "<b>%{hovertext}</b><br><br>color=Oral Session 4C: Diffusion-based Models, Mathematics<br>0=%{x}<br>1=%{y}<extra></extra>",
         "hovertext": [
          "clTa4JFBML",
          "tQukGCDaNT",
          "bg6fVPVs3s"
         ],
         "legendgroup": "Oral Session 4C: Diffusion-based Models, Mathematics",
         "marker": {
          "color": "#FECB52",
          "symbol": "circle"
         },
         "mode": "markers",
         "name": "Oral Session 4C: Diffusion-based Models, Mathematics",
         "orientation": "v",
         "showlegend": true,
         "x": {
          "dtype": "f8",
          "bdata": "E4rGeUwbuT+LGkNHRoG5P1rRYntz+HM/"
         },
         "xaxis": "x",
         "y": {
          "dtype": "f8",
          "bdata": "j/mYUAERyr9h1o/PeSDLvzE4KhEjy8i/"
         },
         "yaxis": "y",
         "type": "scatter"
        },
        {
         "hovertemplate": "<b>%{hovertext}</b><br><br>color=Oral Session 4B: Diffusion-based Models<br>0=%{x}<br>1=%{y}<extra></extra>",
         "hovertext": [
          "zogaeVpbaE",
          "3Odq2tGSpp",
          "Vi8AepAXGy"
         ],
         "legendgroup": "Oral Session 4B: Diffusion-based Models",
         "marker": {
          "color": "#636efa",
          "symbol": "circle"
         },
         "mode": "markers",
         "name": "Oral Session 4B: Diffusion-based Models",
         "orientation": "v",
         "showlegend": true,
         "x": {
          "dtype": "f8",
          "bdata": "UPVGFhB30D9Y6QuDwNvJP75zMGAbrs0/"
         },
         "xaxis": "x",
         "y": {
          "dtype": "f8",
          "bdata": "B2ktzD1+sj/CPIodeuybvxN1qqQVinw/"
         },
         "yaxis": "y",
         "type": "scatter"
        },
        {
         "hovertemplate": "<b>%{hovertext}</b><br><br>color=Oral Session 5A: Graph Neural Networks<br>0=%{x}<br>1=%{y}<extra></extra>",
         "hovertext": [
          "9O2sVnEHor",
          "4bKEFyUHT4",
          "8Fxqn1tZM1"
         ],
         "legendgroup": "Oral Session 5A: Graph Neural Networks",
         "marker": {
          "color": "#EF553B",
          "symbol": "circle"
         },
         "mode": "markers",
         "name": "Oral Session 5A: Graph Neural Networks",
         "orientation": "v",
         "showlegend": true,
         "x": {
          "dtype": "f8",
          "bdata": "AaPlyCv3zL/uFojr3k2ivyJ2QIXKcMS/"
         },
         "xaxis": "x",
         "y": {
          "dtype": "f8",
          "bdata": "wqmqAlTArT91M3deLiXAvzBx1HO+4by/"
         },
         "yaxis": "y",
         "type": "scatter"
        },
        {
         "hovertemplate": "<b>%{hovertext}</b><br><br>color=Oral Session 6D: Deep Learning Architecture, Infrastructure<br>0=%{x}<br>1=%{y}<extra></extra>",
         "hovertext": [
          "25Ioxw576r",
          "gojL67CfS8",
          "Y8YVCOMEpz"
         ],
         "legendgroup": "Oral Session 6D: Deep Learning Architecture, Infrastructure",
         "marker": {
          "color": "#00cc96",
          "symbol": "circle"
         },
         "mode": "markers",
         "name": "Oral Session 6D: Deep Learning Architecture, Infrastructure",
         "orientation": "v",
         "showlegend": true,
         "x": {
          "dtype": "f8",
          "bdata": "iduRVlKZtD/LOyc25bi3P9SaJ837epQ/"
         },
         "xaxis": "x",
         "y": {
          "dtype": "f8",
          "bdata": "5c5Ruwq6dr91yiiqmbPAv5QJfw6xf4m/"
         },
         "yaxis": "y",
         "type": "scatter"
        },
        {
         "hovertemplate": "<b>%{hovertext}</b><br><br>color=Oral Session 2A: Agents<br>0=%{x}<br>1=%{y}<extra></extra>",
         "hovertext": [
          "iSwK1YqO7v",
          "cLga8GStdk",
          "4S8agvKjle"
         ],
         "legendgroup": "Oral Session 2A: Agents",
         "marker": {
          "color": "#ab63fa",
          "symbol": "circle"
         },
         "mode": "markers",
         "name": "Oral Session 2A: Agents",
         "orientation": "v",
         "showlegend": true,
         "x": {
          "dtype": "f8",
          "bdata": "LETPFZF1wj+Zj/NQXe3IPyHvV0M1Osk/"
         },
         "xaxis": "x",
         "y": {
          "dtype": "f8",
          "bdata": "ZSA+x6PyyD+EditttlXMP/5exbjLOMw/"
         },
         "yaxis": "y",
         "type": "scatter"
        },
        {
         "fill": "toself",
         "hoverinfo": "skip",
         "line": {
          "width": 1
         },
         "mode": "lines",
         "opacity": 0.2,
         "showlegend": false,
         "x": {
          "dtype": "f8",
          "bdata": "8ULUpTXtxD9mcqX+VxKPvwOT5sMoocQ/8ULUpTXtxD8="
         },
         "y": {
          "dtype": "f8",
          "bdata": "Xx7J34rxoT9eFJ1FFiWCv8GMNE72qos/Xx7J34rxoT8="
         },
         "type": "scatter"
        },
        {
         "fill": "toself",
         "hoverinfo": "skip",
         "line": {
          "width": 1
         },
         "mode": "lines",
         "opacity": 0.2,
         "showlegend": false,
         "x": {
          "dtype": "f8",
          "bdata": "cDjME8ztyr/oHkEUQCfUv/dQzMDlhsu/cDjME8ztyr8="
         },
         "y": {
          "dtype": "f8",
          "bdata": "JmYaCjvItj/O/YVk6DTAP6pq0ukQFaA/JmYaCjvItj8="
         },
         "type": "scatter"
        },
        {
         "fill": "toself",
         "hoverinfo": "skip",
         "line": {
          "width": 1
         },
         "mode": "lines",
         "opacity": 0.2,
         "showlegend": false,
         "x": {
          "dtype": "f8",
          "bdata": "Ru67319BvT+RnqrRhYvNvwI8OLmHu8W/Ru67319BvT8="
         },
         "y": {
          "dtype": "f8",
          "bdata": "ePXf6505yT/V9da9OW6ZvyE7CyYfgrO/ePXf6505yT8="
         },
         "type": "scatter"
        },
        {
         "fill": "toself",
         "hoverinfo": "skip",
         "line": {
          "width": 1
         },
         "mode": "lines",
         "opacity": 0.2,
         "showlegend": false,
         "x": {
          "dtype": "f8",
          "bdata": "S1C1AQbP2L/Ct0dgTGfFvzIFrpO9qdS/S1C1AQbP2L8="
         },
         "y": {
          "dtype": "f8",
          "bdata": "GP5dLat1oz+vu2caAX+1P+4Dx+zGxro/GP5dLat1oz8="
         },
         "type": "scatter"
        },
        {
         "fill": "toself",
         "hoverinfo": "skip",
         "line": {
          "width": 1
         },
         "mode": "lines",
         "opacity": 0.2,
         "showlegend": false,
         "x": {
          "dtype": "f8",
          "bdata": "lWj6ExuKnb+bD6upSabAv/wh8YO1l6a/lWj6ExuKnb8="
         },
         "y": {
          "dtype": "f8",
          "bdata": "XK8/QG+dkT83lVhd3ZSwPxxfoRux5L2/XK8/QG+dkT8="
         },
         "type": "scatter"
        },
        {
         "fill": "toself",
         "hoverinfo": "skip",
         "line": {
          "width": 1
         },
         "mode": "lines",
         "opacity": 0.2,
         "showlegend": false,
         "x": {
          "dtype": "f8",
          "bdata": "S7ijkjyHrT9Tok51BwPDPxJz7CqZ4rQ/S7ijkjyHrT8="
         },
         "y": {
          "dtype": "f8",
          "bdata": "6XA3J4agwz8cCAxeRh/CP764CgcF48M/6XA3J4agwz8="
         },
         "type": "scatter"
        },
        {
         "fill": "toself",
         "hoverinfo": "skip",
         "line": {
          "width": 1
         },
         "mode": "lines",
         "opacity": 0.2,
         "showlegend": false,
         "x": {
          "dtype": "f8",
          "bdata": "w0lZzs4F2r+esooprvrdv36J9fL0C9q/w0lZzs4F2r8="
         },
         "y": {
          "dtype": "f8",
          "bdata": "5GdbRPgsvj8KeuuDB5TFP1gLCBcV07U/5GdbRPgsvj8="
         },
         "type": "scatter"
        },
        {
         "fill": "toself",
         "hoverinfo": "skip",
         "line": {
          "width": 1
         },
         "mode": "lines",
         "opacity": 0.2,
         "showlegend": false,
         "x": {
          "dtype": "f8",
          "bdata": "Q6CdMMLtqT+TNfG5kYK4PzU5syGyfrI/Q6CdMMLtqT8="
         },
         "y": {
          "dtype": "f8",
          "bdata": "4gai1GK+uz+rv6kJLk3GP50uPW05zsM/4gai1GK+uz8="
         },
         "type": "scatter"
        },
        {
         "fill": "toself",
         "hoverinfo": "skip",
         "line": {
          "width": 1
         },
         "mode": "lines",
         "opacity": 0.2,
         "showlegend": false,
         "x": {
          "dtype": "f8",
          "bdata": "FRgpu3LLxD8v7+KXV3LRP865yV024s4/FRgpu3LLxD8="
         },
         "y": {
          "dtype": "f8",
          "bdata": "nXH5Glkwwz/Jj0xYcdS4P15y1gqR/sE/nXH5Glkwwz8="
         },
         "type": "scatter"
        },
        {
         "fill": "toself",
         "hoverinfo": "skip",
         "line": {
          "width": 1
         },
         "mode": "lines",
         "opacity": 0.2,
         "showlegend": false,
         "x": {
          "dtype": "f8",
          "bdata": "ajyLp3els7/aQoIpeeSsPyONWlnfcac/ajyLp3els78="
         },
         "y": {
          "dtype": "f8",
          "bdata": "/YqY8CVjkb/81LSG8N6jv/OD263QcaK//YqY8CVjkb8="
         },
         "type": "scatter"
        },
        {
         "fill": "toself",
         "hoverinfo": "skip",
         "line": {
          "width": 1
         },
         "mode": "lines",
         "opacity": 0.2,
         "showlegend": false,
         "x": {
          "dtype": "f8",
          "bdata": "/0Ks4bDcvz+6d5CzYUiJv4/ISav8NLw//0Ks4bDcvz8="
         },
         "y": {
          "dtype": "f8",
          "bdata": "/fsJ9NOB0L+LWGn7nd3Mv2G7vq17PdG//fsJ9NOB0L8="
         },
         "type": "scatter"
        },
        {
         "fill": "toself",
         "hoverinfo": "skip",
         "line": {
          "width": 1
         },
         "mode": "lines",
         "opacity": 0.2,
         "showlegend": false,
         "x": {
          "dtype": "f8",
          "bdata": "5gVZt2uDSb+asXWUH8i1P4xWQAp+RbM/5gVZt2uDSb8="
         },
         "y": {
          "dtype": "f8",
          "bdata": "9wb6qiZVu7+kYwAWImHOv6fdIl8IO8u/9wb6qiZVu78="
         },
         "type": "scatter"
        },
        {
         "fill": "toself",
         "hoverinfo": "skip",
         "line": {
          "width": 1
         },
         "mode": "lines",
         "opacity": 0.2,
         "showlegend": false,
         "x": {
          "dtype": "f8",
          "bdata": "AbVf5JVzdL8C3MZB2QuSPzz67OLGETG/AbVf5JVzdL8="
         },
         "y": {
          "dtype": "f8",
          "bdata": "7reAShwPy7/WRMiwPcW6v7Lz56ISaLO/7reAShwPy78="
         },
         "type": "scatter"
        },
        {
         "fill": "toself",
         "hoverinfo": "skip",
         "line": {
          "width": 1
         },
         "mode": "lines",
         "opacity": 0.2,
         "showlegend": false,
         "x": {
          "dtype": "f8",
          "bdata": "dHEfBY2xvj8p9FX2fxR6v5STDzqs0aQ/dHEfBY2xvj8="
         },
         "y": {
          "dtype": "f8",
          "bdata": "5U5gNmSbnz/h9wDgKHO6v++Y+7RGyLK/5U5gNmSbnz8="
         },
         "type": "scatter"
        },
        {
         "fill": "toself",
         "hoverinfo": "skip",
         "line": {
          "width": 1
         },
         "mode": "lines",
         "opacity": 0.2,
         "showlegend": false,
         "x": {
          "dtype": "f8",
          "bdata": "1K4vtfnFwD8c2rmS2IHFP7A8hscWwcM/1K4vtfnFwD8="
         },
         "y": {
          "dtype": "f8",
          "bdata": "goBSAdfCwD/ElQgRb0rBP1J/s6yg1sc/goBSAdfCwD8="
         },
         "type": "scatter"
        },
        {
         "fill": "toself",
         "hoverinfo": "skip",
         "line": {
          "width": 1
         },
         "mode": "lines",
         "opacity": 0.2,
         "showlegend": false,
         "x": {
          "dtype": "f8",
          "bdata": "PtPTzj4IzL+C0UjDQOzFv46jrpp9esq/PtPTzj4IzL8="
         },
         "y": {
          "dtype": "f8",
          "bdata": "1Jeh5Nh8SL/zsFj2rlaTv8tO8NXtaa4/1Jeh5Nh8SL8="
         },
         "type": "scatter"
        },
        {
         "fill": "toself",
         "hoverinfo": "skip",
         "line": {
          "width": 1
         },
         "mode": "lines",
         "opacity": 0.2,
         "showlegend": false,
         "x": {
          "dtype": "f8",
          "bdata": "iVvo49Eqyr9f5Mkw+92xv/K2kGEKzci/iVvo49Eqyr8="
         },
         "y": {
          "dtype": "f8",
          "bdata": "n+T312bdwb881bs3117NvwSy74famcC/n+T312bdwb8="
         },
         "type": "scatter"
        },
        {
         "fill": "toself",
         "hoverinfo": "skip",
         "line": {
          "width": 1
         },
         "mode": "lines",
         "opacity": 0.2,
         "showlegend": false,
         "x": {
          "dtype": "f8",
          "bdata": "pmhl0hCPxj/W0ZLNBda/P5zp4IgKGMU/pmhl0hCPxj8="
         },
         "y": {
          "dtype": "f8",
          "bdata": "zUO1kNDztL9ZYJy4PoDKv+qkU6u1y8a/zUO1kNDztL8="
         },
         "type": "scatter"
        },
        {
         "fill": "toself",
         "hoverinfo": "skip",
         "line": {
          "width": 1
         },
         "mode": "lines",
         "opacity": 0.2,
         "showlegend": false,
         "x": {
          "dtype": "f8",
          "bdata": "UX0SBwLnwT8qeLsLoG+Bv1JEz8wui8E/UX0SBwLnwT8="
         },
         "y": {
          "dtype": "f8",
          "bdata": "CJDj9tKRwz88Xb/PiVDFP66/80c8Nb8/CJDj9tKRwz8="
         },
         "type": "scatter"
        },
        {
         "fill": "toself",
         "hoverinfo": "skip",
         "line": {
          "width": 1
         },
         "mode": "lines",
         "opacity": 0.2,
         "showlegend": false,
         "x": {
          "dtype": "f8",
          "bdata": "WtFie3P4cz+LGkNHRoG5PxOKxnlMG7k/WtFie3P4cz8="
         },
         "y": {
          "dtype": "f8",
          "bdata": "MTgqESPLyL9h1o/PeSDLv4/5mFABEcq/MTgqESPLyL8="
         },
         "type": "scatter"
        },
        {
         "fill": "toself",
         "hoverinfo": "skip",
         "line": {
          "width": 1
         },
         "mode": "lines",
         "opacity": 0.2,
         "showlegend": false,
         "x": {
          "dtype": "f8",
          "bdata": "UPVGFhB30D9Y6QuDwNvJP75zMGAbrs0/UPVGFhB30D8="
         },
         "y": {
          "dtype": "f8",
          "bdata": "B2ktzD1+sj/CPIodeuybvxN1qqQVinw/B2ktzD1+sj8="
         },
         "type": "scatter"
        },
        {
         "fill": "toself",
         "hoverinfo": "skip",
         "line": {
          "width": 1
         },
         "mode": "lines",
         "opacity": 0.2,
         "showlegend": false,
         "x": {
          "dtype": "f8",
          "bdata": "7haI695Nor8Bo+XIK/fMvyJ2QIXKcMS/7haI695Nor8="
         },
         "y": {
          "dtype": "f8",
          "bdata": "dTN3Xi4lwL/CqaoCVMCtPzBx1HO+4by/dTN3Xi4lwL8="
         },
         "type": "scatter"
        },
        {
         "fill": "toself",
         "hoverinfo": "skip",
         "line": {
          "width": 1
         },
         "mode": "lines",
         "opacity": 0.2,
         "showlegend": false,
         "x": {
          "dtype": "f8",
          "bdata": "1Jonzft6lD/LOyc25bi3P4nbkVZSmbQ/1Jonzft6lD8="
         },
         "y": {
          "dtype": "f8",
          "bdata": "lAl/DrF/ib91yiiqmbPAv+XOUbsKuna/lAl/DrF/ib8="
         },
         "type": "scatter"
        },
        {
         "fill": "toself",
         "hoverinfo": "skip",
         "line": {
          "width": 1
         },
         "mode": "lines",
         "opacity": 0.2,
         "showlegend": false,
         "x": {
          "dtype": "f8",
          "bdata": "LETPFZF1wj8h71dDNTrJP5mP81Bd7cg/LETPFZF1wj8="
         },
         "y": {
          "dtype": "f8",
          "bdata": "ZSA+x6PyyD/+XsW4yzjMP4R2K222Vcw/ZSA+x6PyyD8="
         },
         "type": "scatter"
        }
       ],
       "layout": {
        "template": {
         "data": {
          "histogram2dcontour": [
           {
            "type": "histogram2dcontour",
            "colorbar": {
             "outlinewidth": 0,
             "ticks": ""
            },
            "colorscale": [
             [
              0.0,
              "#0d0887"
             ],
             [
              0.1111111111111111,
              "#46039f"
             ],
             [
              0.2222222222222222,
              "#7201a8"
             ],
             [
              0.3333333333333333,
              "#9c179e"
             ],
             [
              0.4444444444444444,
              "#bd3786"
             ],
             [
              0.5555555555555556,
              "#d8576b"
             ],
             [
              0.6666666666666666,
              "#ed7953"
             ],
             [
              0.7777777777777778,
              "#fb9f3a"
             ],
             [
              0.8888888888888888,
              "#fdca26"
             ],
             [
              1.0,
              "#f0f921"
             ]
            ]
           }
          ],
          "choropleth": [
           {
            "type": "choropleth",
            "colorbar": {
             "outlinewidth": 0,
             "ticks": ""
            }
           }
          ],
          "histogram2d": [
           {
            "type": "histogram2d",
            "colorbar": {
             "outlinewidth": 0,
             "ticks": ""
            },
            "colorscale": [
             [
              0.0,
              "#0d0887"
             ],
             [
              0.1111111111111111,
              "#46039f"
             ],
             [
              0.2222222222222222,
              "#7201a8"
             ],
             [
              0.3333333333333333,
              "#9c179e"
             ],
             [
              0.4444444444444444,
              "#bd3786"
             ],
             [
              0.5555555555555556,
              "#d8576b"
             ],
             [
              0.6666666666666666,
              "#ed7953"
             ],
             [
              0.7777777777777778,
              "#fb9f3a"
             ],
             [
              0.8888888888888888,
              "#fdca26"
             ],
             [
              1.0,
              "#f0f921"
             ]
            ]
           }
          ],
          "heatmap": [
           {
            "type": "heatmap",
            "colorbar": {
             "outlinewidth": 0,
             "ticks": ""
            },
            "colorscale": [
             [
              0.0,
              "#0d0887"
             ],
             [
              0.1111111111111111,
              "#46039f"
             ],
             [
              0.2222222222222222,
              "#7201a8"
             ],
             [
              0.3333333333333333,
              "#9c179e"
             ],
             [
              0.4444444444444444,
              "#bd3786"
             ],
             [
              0.5555555555555556,
              "#d8576b"
             ],
             [
              0.6666666666666666,
              "#ed7953"
             ],
             [
              0.7777777777777778,
              "#fb9f3a"
             ],
             [
              0.8888888888888888,
              "#fdca26"
             ],
             [
              1.0,
              "#f0f921"
             ]
            ]
           }
          ],
          "contourcarpet": [
           {
            "type": "contourcarpet",
            "colorbar": {
             "outlinewidth": 0,
             "ticks": ""
            }
           }
          ],
          "contour": [
           {
            "type": "contour",
            "colorbar": {
             "outlinewidth": 0,
             "ticks": ""
            },
            "colorscale": [
             [
              0.0,
              "#0d0887"
             ],
             [
              0.1111111111111111,
              "#46039f"
             ],
             [
              0.2222222222222222,
              "#7201a8"
             ],
             [
              0.3333333333333333,
              "#9c179e"
             ],
             [
              0.4444444444444444,
              "#bd3786"
             ],
             [
              0.5555555555555556,
              "#d8576b"
             ],
             [
              0.6666666666666666,
              "#ed7953"
             ],
             [
              0.7777777777777778,
              "#fb9f3a"
             ],
             [
              0.8888888888888888,
              "#fdca26"
             ],
             [
              1.0,
              "#f0f921"
             ]
            ]
           }
          ],
          "surface": [
           {
            "type": "surface",
            "colorbar": {
             "outlinewidth": 0,
             "ticks": ""
            },
            "colorscale": [
             [
              0.0,
              "#0d0887"
             ],
             [
              0.1111111111111111,
              "#46039f"
             ],
             [
              0.2222222222222222,
              "#7201a8"
             ],
             [
              0.3333333333333333,
              "#9c179e"
             ],
             [
              0.4444444444444444,
              "#bd3786"
             ],
             [
              0.5555555555555556,
              "#d8576b"
             ],
             [
              0.6666666666666666,
              "#ed7953"
             ],
             [
              0.7777777777777778,
              "#fb9f3a"
             ],
             [
              0.8888888888888888,
              "#fdca26"
             ],
             [
              1.0,
              "#f0f921"
             ]
            ]
           }
          ],
          "mesh3d": [
           {
            "type": "mesh3d",
            "colorbar": {
             "outlinewidth": 0,
             "ticks": ""
            }
           }
          ],
          "scatter": [
           {
            "marker": {
             "line": {
              "color": "#283442"
             }
            },
            "type": "scatter"
           }
          ],
          "parcoords": [
           {
            "type": "parcoords",
            "line": {
             "colorbar": {
              "outlinewidth": 0,
              "ticks": ""
             }
            }
           }
          ],
          "scatterpolargl": [
           {
            "type": "scatterpolargl",
            "marker": {
             "colorbar": {
              "outlinewidth": 0,
              "ticks": ""
             }
            }
           }
          ],
          "bar": [
           {
            "error_x": {
             "color": "#f2f5fa"
            },
            "error_y": {
             "color": "#f2f5fa"
            },
            "marker": {
             "line": {
              "color": "rgb(17,17,17)",
              "width": 0.5
             },
             "pattern": {
              "fillmode": "overlay",
              "size": 10,
              "solidity": 0.2
             }
            },
            "type": "bar"
           }
          ],
          "scattergeo": [
           {
            "type": "scattergeo",
            "marker": {
             "colorbar": {
              "outlinewidth": 0,
              "ticks": ""
             }
            }
           }
          ],
          "scatterpolar": [
           {
            "type": "scatterpolar",
            "marker": {
             "colorbar": {
              "outlinewidth": 0,
              "ticks": ""
             }
            }
           }
          ],
          "histogram": [
           {
            "marker": {
             "pattern": {
              "fillmode": "overlay",
              "size": 10,
              "solidity": 0.2
             }
            },
            "type": "histogram"
           }
          ],
          "scattergl": [
           {
            "marker": {
             "line": {
              "color": "#283442"
             }
            },
            "type": "scattergl"
           }
          ],
          "scatter3d": [
           {
            "type": "scatter3d",
            "line": {
             "colorbar": {
              "outlinewidth": 0,
              "ticks": ""
             }
            },
            "marker": {
             "colorbar": {
              "outlinewidth": 0,
              "ticks": ""
             }
            }
           }
          ],
          "scattermap": [
           {
            "type": "scattermap",
            "marker": {
             "colorbar": {
              "outlinewidth": 0,
              "ticks": ""
             }
            }
           }
          ],
          "scattermapbox": [
           {
            "type": "scattermapbox",
            "marker": {
             "colorbar": {
              "outlinewidth": 0,
              "ticks": ""
             }
            }
           }
          ],
          "scatterternary": [
           {
            "type": "scatterternary",
            "marker": {
             "colorbar": {
              "outlinewidth": 0,
              "ticks": ""
             }
            }
           }
          ],
          "scattercarpet": [
           {
            "type": "scattercarpet",
            "marker": {
             "colorbar": {
              "outlinewidth": 0,
              "ticks": ""
             }
            }
           }
          ],
          "carpet": [
           {
            "aaxis": {
             "endlinecolor": "#A2B1C6",
             "gridcolor": "#506784",
             "linecolor": "#506784",
             "minorgridcolor": "#506784",
             "startlinecolor": "#A2B1C6"
            },
            "baxis": {
             "endlinecolor": "#A2B1C6",
             "gridcolor": "#506784",
             "linecolor": "#506784",
             "minorgridcolor": "#506784",
             "startlinecolor": "#A2B1C6"
            },
            "type": "carpet"
           }
          ],
          "table": [
           {
            "cells": {
             "fill": {
              "color": "#506784"
             },
             "line": {
              "color": "rgb(17,17,17)"
             }
            },
            "header": {
             "fill": {
              "color": "#2a3f5f"
             },
             "line": {
              "color": "rgb(17,17,17)"
             }
            },
            "type": "table"
           }
          ],
          "barpolar": [
           {
            "marker": {
             "line": {
              "color": "rgb(17,17,17)",
              "width": 0.5
             },
             "pattern": {
              "fillmode": "overlay",
              "size": 10,
              "solidity": 0.2
             }
            },
            "type": "barpolar"
           }
          ],
          "pie": [
           {
            "automargin": true,
            "type": "pie"
           }
          ]
         },
         "layout": {
          "autotypenumbers": "strict",
          "colorway": [
           "#636efa",
           "#EF553B",
           "#00cc96",
           "#ab63fa",
           "#FFA15A",
           "#19d3f3",
           "#FF6692",
           "#B6E880",
           "#FF97FF",
           "#FECB52"
          ],
          "font": {
           "color": "#f2f5fa"
          },
          "hovermode": "closest",
          "hoverlabel": {
           "align": "left"
          },
          "paper_bgcolor": "rgb(17,17,17)",
          "plot_bgcolor": "rgb(17,17,17)",
          "polar": {
           "bgcolor": "rgb(17,17,17)",
           "angularaxis": {
            "gridcolor": "#506784",
            "linecolor": "#506784",
            "ticks": ""
           },
           "radialaxis": {
            "gridcolor": "#506784",
            "linecolor": "#506784",
            "ticks": ""
           }
          },
          "ternary": {
           "bgcolor": "rgb(17,17,17)",
           "aaxis": {
            "gridcolor": "#506784",
            "linecolor": "#506784",
            "ticks": ""
           },
           "baxis": {
            "gridcolor": "#506784",
            "linecolor": "#506784",
            "ticks": ""
           },
           "caxis": {
            "gridcolor": "#506784",
            "linecolor": "#506784",
            "ticks": ""
           }
          },
          "coloraxis": {
           "colorbar": {
            "outlinewidth": 0,
            "ticks": ""
           }
          },
          "colorscale": {
           "sequential": [
            [
             0.0,
             "#0d0887"
            ],
            [
             0.1111111111111111,
             "#46039f"
            ],
            [
             0.2222222222222222,
             "#7201a8"
            ],
            [
             0.3333333333333333,
             "#9c179e"
            ],
            [
             0.4444444444444444,
             "#bd3786"
            ],
            [
             0.5555555555555556,
             "#d8576b"
            ],
            [
             0.6666666666666666,
             "#ed7953"
            ],
            [
             0.7777777777777778,
             "#fb9f3a"
            ],
            [
             0.8888888888888888,
             "#fdca26"
            ],
            [
             1.0,
             "#f0f921"
            ]
           ],
           "sequentialminus": [
            [
             0.0,
             "#0d0887"
            ],
            [
             0.1111111111111111,
             "#46039f"
            ],
            [
             0.2222222222222222,
             "#7201a8"
            ],
            [
             0.3333333333333333,
             "#9c179e"
            ],
            [
             0.4444444444444444,
             "#bd3786"
            ],
            [
             0.5555555555555556,
             "#d8576b"
            ],
            [
             0.6666666666666666,
             "#ed7953"
            ],
            [
             0.7777777777777778,
             "#fb9f3a"
            ],
            [
             0.8888888888888888,
             "#fdca26"
            ],
            [
             1.0,
             "#f0f921"
            ]
           ],
           "diverging": [
            [
             0,
             "#8e0152"
            ],
            [
             0.1,
             "#c51b7d"
            ],
            [
             0.2,
             "#de77ae"
            ],
            [
             0.3,
             "#f1b6da"
            ],
            [
             0.4,
             "#fde0ef"
            ],
            [
             0.5,
             "#f7f7f7"
            ],
            [
             0.6,
             "#e6f5d0"
            ],
            [
             0.7,
             "#b8e186"
            ],
            [
             0.8,
             "#7fbc41"
            ],
            [
             0.9,
             "#4d9221"
            ],
            [
             1,
             "#276419"
            ]
           ]
          },
          "xaxis": {
           "gridcolor": "#283442",
           "linecolor": "#506784",
           "ticks": "",
           "title": {
            "standoff": 15
           },
           "zerolinecolor": "#283442",
           "automargin": true,
           "zerolinewidth": 2
          },
          "yaxis": {
           "gridcolor": "#283442",
           "linecolor": "#506784",
           "ticks": "",
           "title": {
            "standoff": 15
           },
           "zerolinecolor": "#283442",
           "automargin": true,
           "zerolinewidth": 2
          },
          "scene": {
           "xaxis": {
            "backgroundcolor": "rgb(17,17,17)",
            "gridcolor": "#506784",
            "linecolor": "#506784",
            "showbackground": true,
            "ticks": "",
            "zerolinecolor": "#C8D4E3",
            "gridwidth": 2
           },
           "yaxis": {
            "backgroundcolor": "rgb(17,17,17)",
            "gridcolor": "#506784",
            "linecolor": "#506784",
            "showbackground": true,
            "ticks": "",
            "zerolinecolor": "#C8D4E3",
            "gridwidth": 2
           },
           "zaxis": {
            "backgroundcolor": "rgb(17,17,17)",
            "gridcolor": "#506784",
            "linecolor": "#506784",
            "showbackground": true,
            "ticks": "",
            "zerolinecolor": "#C8D4E3",
            "gridwidth": 2
           }
          },
          "shapedefaults": {
           "line": {
            "color": "#f2f5fa"
           }
          },
          "annotationdefaults": {
           "arrowcolor": "#f2f5fa",
           "arrowhead": 0,
           "arrowwidth": 1
          },
          "geo": {
           "bgcolor": "rgb(17,17,17)",
           "landcolor": "rgb(17,17,17)",
           "subunitcolor": "#506784",
           "showland": true,
           "showlakes": true,
           "lakecolor": "rgb(17,17,17)"
          },
          "title": {
           "x": 0.05
          },
          "updatemenudefaults": {
           "bgcolor": "#506784",
           "borderwidth": 0
          },
          "sliderdefaults": {
           "bgcolor": "#C8D4E3",
           "borderwidth": 1,
           "bordercolor": "rgb(17,17,17)",
           "tickwidth": 0
          },
          "mapbox": {
           "style": "dark"
          }
         }
        },
        "xaxis": {
         "anchor": "y",
         "domain": [
          0.0,
          1.0
         ],
         "title": {
          "text": "0"
         }
        },
        "yaxis": {
         "anchor": "x",
         "domain": [
          0.0,
          1.0
         ],
         "title": {
          "text": "1"
         }
        },
        "legend": {
         "title": {
          "text": "color"
         },
         "tracegroupgap": 0
        },
        "title": {
         "text": "GreedyCohesive Clustering PCA"
        }
       },
       "config": {
        "plotlyServerURL": "https://plot.ly"
       }
      }
     },
     "metadata": {},
     "output_type": "display_data"
    },
    {
     "data": {
      "application/vnd.plotly.v1+json": {
       "data": [
        {
         "hovertemplate": "<b>%{hovertext}</b><br><br>color=Oral Session 1A: Neuroscience and Intepretability<br>0=%{x}<br>1=%{y}<extra></extra>",
         "hovertext": [
          "aVh9KRZdRk"
         ],
         "legendgroup": "Oral Session 1A: Neuroscience and Intepretability",
         "marker": {
          "color": "#636efa",
          "symbol": "circle"
         },
         "mode": "markers",
         "name": "Oral Session 1A: Neuroscience and Intepretability",
         "orientation": "v",
         "showlegend": true,
         "x": {
          "dtype": "f8",
          "bdata": "ZnKl/lcSj78="
         },
         "xaxis": "x",
         "y": {
          "dtype": "f8",
          "bdata": "XhSdRRYlgr8="
         },
         "yaxis": "y",
         "type": "scatter"
        },
        {
         "hovertemplate": "<b>%{hovertext}</b><br><br>color=Oral Session 1D: Learning Theory<br>0=%{x}<br>1=%{y}<extra></extra>",
         "hovertext": [
          "m1a4CrRJR7",
          "wpGJ2AX6SZ",
          "aIPwlkdOut",
          "rtz4df9IF1",
          "4rCZeCZAON"
         ],
         "legendgroup": "Oral Session 1D: Learning Theory",
         "marker": {
          "color": "#EF553B",
          "symbol": "circle"
         },
         "mode": "markers",
         "name": "Oral Session 1D: Learning Theory",
         "orientation": "v",
         "showlegend": true,
         "x": {
          "dtype": "f8",
          "bdata": "91DMwOWGy79wOMwTzO3Kv8K3R2BMZ8W/6B5BFEAn1L8+09POPgjMvw=="
         },
         "xaxis": "x",
         "y": {
          "dtype": "f8",
          "bdata": "qmrS6RAVoD8mZhoKO8i2P6+7ZxoBf7U/zv2FZOg0wD/Ul6Hk2HxIvw=="
         },
         "yaxis": "y",
         "type": "scatter"
        },
        {
         "hovertemplate": "<b>%{hovertext}</b><br><br>color=Oral Session 1C: Optimization and Learning Theory<br>0=%{x}<br>1=%{y}<extra></extra>",
         "hovertext": [
          "0XeNkkENuI",
          "y10avdRFNK",
          "J2wI2rCG2u"
         ],
         "legendgroup": "Oral Session 1C: Optimization and Learning Theory",
         "marker": {
          "color": "#00cc96",
          "symbol": "circle"
         },
         "mode": "markers",
         "name": "Oral Session 1C: Optimization and Learning Theory",
         "orientation": "v",
         "showlegend": true,
         "x": {
          "dtype": "f8",
          "bdata": "kZ6q0YWLzb/ytpBhCs3Iv4lb6OPRKsq/"
         },
         "xaxis": "x",
         "y": {
          "dtype": "f8",
          "bdata": "1fXWvTlumb8Esu+H2pnAv5/k99dm3cG/"
         },
         "yaxis": "y",
         "type": "scatter"
        },
        {
         "hovertemplate": "<b>%{hovertext}</b><br><br>color=Oral Session 3D: Natural Language Processing<br>0=%{x}<br>1=%{y}<extra></extra>",
         "hovertext": [
          "UdxpjKO2F9",
          "clTa4JFBML",
          "tQukGCDaNT",
          "bg6fVPVs3s",
          "V0oJaLqY4E"
         ],
         "legendgroup": "Oral Session 3D: Natural Language Processing",
         "marker": {
          "color": "#ab63fa",
          "symbol": "circle"
         },
         "mode": "markers",
         "name": "Oral Session 3D: Natural Language Processing",
         "orientation": "v",
         "showlegend": true,
         "x": {
          "dtype": "f8",
          "bdata": "lWj6ExuKnb8TisZ5TBu5P4saQ0dGgbk/WtFie3P4cz9f5Mkw+92xvw=="
         },
         "xaxis": "x",
         "y": {
          "dtype": "f8",
          "bdata": "XK8/QG+dkT+P+ZhQARHKv2HWj895IMu/MTgqESPLyL881bs3117Nvw=="
         },
         "yaxis": "y",
         "type": "scatter"
        },
        {
         "hovertemplate": "<b>%{hovertext}</b><br><br>color=Oral Session 2A: Agents<br>0=%{x}<br>1=%{y}<extra></extra>",
         "hovertext": [
          "LEzx6QRkRH",
          "iSwK1YqO7v",
          "Ddak3nSqQM",
          "cLga8GStdk",
          "4S8agvKjle"
         ],
         "legendgroup": "Oral Session 2A: Agents",
         "marker": {
          "color": "#FFA15A",
          "symbol": "circle"
         },
         "mode": "markers",
         "name": "Oral Session 2A: Agents",
         "orientation": "v",
         "showlegend": true,
         "x": {
          "dtype": "f8",
          "bdata": "U6JOdQcDwz8sRM8VkXXCP0u4o5I8h60/mY/zUF3tyD8h71dDNTrJPw=="
         },
         "xaxis": "x",
         "y": {
          "dtype": "f8",
          "bdata": "HAgMXkYfwj9lID7Ho/LIP+lwNyeGoMM/hHYrbbZVzD/+XsW4yzjMPw=="
         },
         "yaxis": "y",
         "type": "scatter"
        },
        {
         "hovertemplate": "<b>%{hovertext}</b><br><br>color=Oral Session 2B: Reinforcement Learning<br>0=%{x}<br>1=%{y}<extra></extra>",
         "hovertext": [
          "pGEY8JQ3qx",
          "6YIpvnkjUK",
          "eWUM5hRYgH",
          "ge8GZn8Gtu",
          "qf2uZAdy1N"
         ],
         "legendgroup": "Oral Session 2B: Reinforcement Learning",
         "marker": {
          "color": "#19d3f3",
          "symbol": "circle"
         },
         "mode": "markers",
         "name": "Oral Session 2B: Reinforcement Learning",
         "orientation": "v",
         "showlegend": true,
         "x": {
          "dtype": "f8",
          "bdata": "nrKKKa763b/DSVnOzgXav36J9fL0C9q/S1C1AQbP2L8yBa6TvanUvw=="
         },
         "xaxis": "x",
         "y": {
          "dtype": "f8",
          "bdata": "CnrrgweUxT/kZ1tE+Cy+P1gLCBcV07U/GP5dLat1oz/uA8fsxsa6Pw=="
         },
         "yaxis": "y",
         "type": "scatter"
        },
        {
         "hovertemplate": "<b>%{hovertext}</b><br><br>color=Oral Session 3B: Natural Language Processing<br>0=%{x}<br>1=%{y}<extra></extra>",
         "hovertext": [
          "0NMzBwqaAJ",
          "cFqAANINgW",
          "NPKZF1WDjZ",
          "pC44UMwy2v",
          "uNKlTQ8mBD",
          "Mbd3QxXjq5"
         ],
         "legendgroup": "Oral Session 3B: Natural Language Processing",
         "marker": {
          "color": "#FF6692",
          "symbol": "circle"
         },
         "mode": "markers",
         "name": "Oral Session 3B: Natural Language Processing",
         "orientation": "v",
         "showlegend": true,
         "x": {
          "dtype": "f8",
          "bdata": "Q6CdMMLtqT+TNfG5kYK4P1F9EgcC58E/EnPsKpnitD8qeLsLoG+BvzU5syGyfrI/"
         },
         "xaxis": "x",
         "y": {
          "dtype": "f8",
          "bdata": "4gai1GK+uz+rv6kJLk3GPwiQ4/bSkcM/vrgKBwXjwz88Xb/PiVDFP50uPW05zsM/"
         },
         "yaxis": "y",
         "type": "scatter"
        },
        {
         "hovertemplate": "<b>%{hovertext}</b><br><br>color=Oral Session 6B: Safety, New Data<br>0=%{x}<br>1=%{y}<extra></extra>",
         "hovertext": [
          "bCMpdaQCNW",
          "kq166jACVP",
          "zogaeVpbaE",
          "3Odq2tGSpp",
          "135eKqDoRR",
          "Vi8AepAXGy",
          "E18kRXTGmV"
         ],
         "legendgroup": "Oral Session 6B: Safety, New Data",
         "marker": {
          "color": "#B6E880",
          "symbol": "circle"
         },
         "mode": "markers",
         "name": "Oral Session 6B: Safety, New Data",
         "orientation": "v",
         "showlegend": true,
         "x": {
          "dtype": "f8",
          "bdata": "zrnJXTbizj8c2rmS2IHFP1D1RhYQd9A/WOkLg8DbyT/aQoIpeeSsP75zMGAbrs0/L+/il1dy0T8="
         },
         "xaxis": "x",
         "y": {
          "dtype": "f8",
          "bdata": "XnLWCpH+wT/ElQgRb0rBPwdpLcw9frI/wjyKHXrsm7/81LSG8N6jvxN1qqQVinw/yY9MWHHUuD8="
         },
         "yaxis": "y",
         "type": "scatter"
        },
        {
         "hovertemplate": "<b>%{hovertext}</b><br><br>color=Oral Session 3C: Natural Language Processing<br>0=%{x}<br>1=%{y}<extra></extra>",
         "hovertext": [
          "YvA8UF0I37",
          "mp8u2Pcmqz"
         ],
         "legendgroup": "Oral Session 3C: Natural Language Processing",
         "marker": {
          "color": "#FF97FF",
          "symbol": "circle"
         },
         "mode": "markers",
         "name": "Oral Session 3C: Natural Language Processing",
         "orientation": "v",
         "showlegend": true,
         "x": {
          "dtype": "f8",
          "bdata": "ajyLp3els78jjVpZ33GnPw=="
         },
         "xaxis": "x",
         "y": {
          "dtype": "f8",
          "bdata": "/YqY8CVjkb/zg9ut0HGivw=="
         },
         "yaxis": "y",
         "type": "scatter"
        },
        {
         "hovertemplate": "<b>%{hovertext}</b><br><br>color=Oral Session 4D: Machine Vision<br>0=%{x}<br>1=%{y}<extra></extra>",
         "hovertext": [
          "TFZlFRl9Ks",
          "QDYts5dYgq",
          "SSCtCq2MH2",
          "r5spnrY6H3",
          "5zSCSE0k41",
          "x7pjdDod6Z",
          "8qu52Fl1Dt"
         ],
         "legendgroup": "Oral Session 4D: Machine Vision",
         "marker": {
          "color": "#FECB52",
          "symbol": "circle"
         },
         "mode": "markers",
         "name": "Oral Session 4D: Machine Vision",
         "orientation": "v",
         "showlegend": true,
         "x": {
          "dtype": "f8",
          "bdata": "j8hJq/w0vD8BtV/klXN0v7p3kLNhSIm/pmhl0hCPxj+c6eCIChjFP/9CrOGw3L8/1tGSzQXWvz8="
         },
         "xaxis": "x",
         "y": {
          "dtype": "f8",
          "bdata": "Ybu+rXs90b/ut4BKHA/Lv4tYafud3cy/zUO1kNDztL/qpFOrtcvGv/37CfTTgdC/WWCcuD6Ayr8="
         },
         "yaxis": "y",
         "type": "scatter"
        },
        {
         "hovertemplate": "<b>%{hovertext}</b><br><br>color=Oral Session 4C: Diffusion-based Models, Mathematics<br>0=%{x}<br>1=%{y}<extra></extra>",
         "hovertext": [
          "OycU0bAus6",
          "tnh4LK72yj",
          "Pezt0xttae",
          "47loYmzxep"
         ],
         "legendgroup": "Oral Session 4C: Diffusion-based Models, Mathematics",
         "marker": {
          "color": "#636efa",
          "symbol": "circle"
         },
         "mode": "markers",
         "name": "Oral Session 4C: Diffusion-based Models, Mathematics",
         "orientation": "v",
         "showlegend": true,
         "x": {
          "dtype": "f8",
          "bdata": "jFZACn5Fsz+Ukw86rNGkPyn0VfZ/FHq/mrF1lB/ItT8="
         },
         "xaxis": "x",
         "y": {
          "dtype": "f8",
          "bdata": "p90iXwg7y7/vmPu0Rsiyv+H3AOAoc7q/pGMAFiJhzr8="
         },
         "yaxis": "y",
         "type": "scatter"
        },
        {
         "hovertemplate": "<b>%{hovertext}</b><br><br>color=Oral Session 3A: Generative Models<br>0=%{x}<br>1=%{y}<extra></extra>",
         "hovertext": [
          "R8SolCx62K",
          "C4NbtYnyQg",
          "8Fxqn1tZM1"
         ],
         "legendgroup": "Oral Session 3A: Generative Models",
         "marker": {
          "color": "#EF553B",
          "symbol": "circle"
         },
         "mode": "markers",
         "name": "Oral Session 3A: Generative Models",
         "orientation": "v",
         "showlegend": true,
         "x": {
          "dtype": "f8",
          "bdata": "/CHxg7WXpr/mBVm3a4NJvyJ2QIXKcMS/"
         },
         "xaxis": "x",
         "y": {
          "dtype": "f8",
          "bdata": "HF+hG7Hkvb/3BvqqJlW7vzBx1HO+4by/"
         },
         "yaxis": "y",
         "type": "scatter"
        },
        {
         "hovertemplate": "<b>%{hovertext}</b><br><br>color=Oral Session 5D: Machine Learning and Science<br>0=%{x}<br>1=%{y}<extra></extra>",
         "hovertext": [
          "HRkniCWM3E"
         ],
         "legendgroup": "Oral Session 5D: Machine Learning and Science",
         "marker": {
          "color": "#00cc96",
          "symbol": "circle"
         },
         "mode": "markers",
         "name": "Oral Session 5D: Machine Learning and Science",
         "orientation": "v",
         "showlegend": true,
         "x": {
          "dtype": "f8",
          "bdata": "Ajw4uYe7xb8="
         },
         "xaxis": "x",
         "y": {
          "dtype": "f8",
          "bdata": "ITsLJh+Cs78="
         },
         "yaxis": "y",
         "type": "scatter"
        },
        {
         "hovertemplate": "<b>%{hovertext}</b><br><br>color=Oral Session 4B: Diffusion-based Models<br>0=%{x}<br>1=%{y}<extra></extra>",
         "hovertext": [
          "REIK4SZMJt"
         ],
         "legendgroup": "Oral Session 4B: Diffusion-based Models",
         "marker": {
          "color": "#ab63fa",
          "symbol": "circle"
         },
         "mode": "markers",
         "name": "Oral Session 4B: Diffusion-based Models",
         "orientation": "v",
         "showlegend": true,
         "x": {
          "dtype": "f8",
          "bdata": "gtFIw0Dsxb8="
         },
         "xaxis": "x",
         "y": {
          "dtype": "f8",
          "bdata": "87BY9q5Wk78="
         },
         "yaxis": "y",
         "type": "scatter"
        },
        {
         "hovertemplate": "<b>%{hovertext}</b><br><br>color=Oral Session 1B: Human-AI Interaction<br>0=%{x}<br>1=%{y}<extra></extra>",
         "hovertext": [
          "4NJBV6Wp0h",
          "Oo7dlLgqQX",
          "DFr5hteojx",
          "cu8FfaYriU"
         ],
         "legendgroup": "Oral Session 1B: Human-AI Interaction",
         "marker": {
          "color": "#FFA15A",
          "symbol": "circle"
         },
         "mode": "markers",
         "name": "Oral Session 1B: Human-AI Interaction",
         "orientation": "v",
         "showlegend": true,
         "x": {
          "dtype": "f8",
          "bdata": "FRgpu3LLxD/Uri+1+cXAP7A8hscWwcM/8ULUpTXtxD8="
         },
         "xaxis": "x",
         "y": {
          "dtype": "f8",
          "bdata": "nXH5Glkwwz+CgFIB18LAP1J/s6yg1sc/Xx7J34rxoT8="
         },
         "yaxis": "y",
         "type": "scatter"
        },
        {
         "hovertemplate": "<b>%{hovertext}</b><br><br>color=Oral Session 5A: Graph Neural Networks<br>0=%{x}<br>1=%{y}<extra></extra>",
         "hovertext": [
          "9O2sVnEHor"
         ],
         "legendgroup": "Oral Session 5A: Graph Neural Networks",
         "marker": {
          "color": "#19d3f3",
          "symbol": "circle"
         },
         "mode": "markers",
         "name": "Oral Session 5A: Graph Neural Networks",
         "orientation": "v",
         "showlegend": true,
         "x": {
          "dtype": "f8",
          "bdata": "AaPlyCv3zL8="
         },
         "xaxis": "x",
         "y": {
          "dtype": "f8",
          "bdata": "wqmqAlTArT8="
         },
         "yaxis": "y",
         "type": "scatter"
        },
        {
         "hovertemplate": "<b>%{hovertext}</b><br><br>color=Oral Session 5C: Machine Vision<br>0=%{x}<br>1=%{y}<extra></extra>",
         "hovertext": [
          "4bKEFyUHT4"
         ],
         "legendgroup": "Oral Session 5C: Machine Vision",
         "marker": {
          "color": "#FF6692",
          "symbol": "circle"
         },
         "mode": "markers",
         "name": "Oral Session 5C: Machine Vision",
         "orientation": "v",
         "showlegend": true,
         "x": {
          "dtype": "f8",
          "bdata": "7haI695Nor8="
         },
         "xaxis": "x",
         "y": {
          "dtype": "f8",
          "bdata": "dTN3Xi4lwL8="
         },
         "yaxis": "y",
         "type": "scatter"
        },
        {
         "hovertemplate": "<b>%{hovertext}</b><br><br>color=Oral Session 2D: Generative Models<br>0=%{x}<br>1=%{y}<extra></extra>",
         "hovertext": [
          "EKdk4vxKO4",
          "VXohja0vrQ"
         ],
         "legendgroup": "Oral Session 2D: Generative Models",
         "marker": {
          "color": "#B6E880",
          "symbol": "circle"
         },
         "mode": "markers",
         "name": "Oral Session 2D: Generative Models",
         "orientation": "v",
         "showlegend": true,
         "x": {
          "dtype": "f8",
          "bdata": "UkTPzC6LwT9G7rvfX0G9Pw=="
         },
         "xaxis": "x",
         "y": {
          "dtype": "f8",
          "bdata": "rr/zRzw1vz949d/rnTnJPw=="
         },
         "yaxis": "y",
         "type": "scatter"
        },
        {
         "hovertemplate": "<b>%{hovertext}</b><br><br>color=Oral Session 6D: Deep Learning Architecture, Infrastructure<br>0=%{x}<br>1=%{y}<extra></extra>",
         "hovertext": [
          "25Ioxw576r",
          "gojL67CfS8",
          "qEpi8uWX3N",
          "Y8YVCOMEpz"
         ],
         "legendgroup": "Oral Session 6D: Deep Learning Architecture, Infrastructure",
         "marker": {
          "color": "#FF97FF",
          "symbol": "circle"
         },
         "mode": "markers",
         "name": "Oral Session 6D: Deep Learning Architecture, Infrastructure",
         "orientation": "v",
         "showlegend": true,
         "x": {
          "dtype": "f8",
          "bdata": "iduRVlKZtD/LOyc25bi3P3RxHwWNsb4/1Jonzft6lD8="
         },
         "xaxis": "x",
         "y": {
          "dtype": "f8",
          "bdata": "5c5Ruwq6dr91yiiqmbPAv+VOYDZkm58/lAl/DrF/ib8="
         },
         "yaxis": "y",
         "type": "scatter"
        },
        {
         "hovertemplate": "<b>%{hovertext}</b><br><br>color=Oral Session 2C: Reinforcement Learning<br>0=%{x}<br>1=%{y}<extra></extra>",
         "hovertext": [
          "mSaqxZVZW8"
         ],
         "legendgroup": "Oral Session 2C: Reinforcement Learning",
         "marker": {
          "color": "#FECB52",
          "symbol": "circle"
         },
         "mode": "markers",
         "name": "Oral Session 2C: Reinforcement Learning",
         "orientation": "v",
         "showlegend": true,
         "x": {
          "dtype": "f8",
          "bdata": "mw+rqUmmwL8="
         },
         "xaxis": "x",
         "y": {
          "dtype": "f8",
          "bdata": "N5VYXd2UsD8="
         },
         "yaxis": "y",
         "type": "scatter"
        },
        {
         "hovertemplate": "<b>%{hovertext}</b><br><br>color=Oral Session 5B: Graph Neural Networks, Causal Inference<br>0=%{x}<br>1=%{y}<extra></extra>",
         "hovertext": [
          "S2P6KPLtm8"
         ],
         "legendgroup": "Oral Session 5B: Graph Neural Networks, Causal Inference",
         "marker": {
          "color": "#636efa",
          "symbol": "circle"
         },
         "mode": "markers",
         "name": "Oral Session 5B: Graph Neural Networks, Causal Inference",
         "orientation": "v",
         "showlegend": true,
         "x": {
          "dtype": "f8",
          "bdata": "jqOumn16yr8="
         },
         "xaxis": "x",
         "y": {
          "dtype": "f8",
          "bdata": "y07w1e1prj8="
         },
         "yaxis": "y",
         "type": "scatter"
        },
        {
         "hovertemplate": "<b>%{hovertext}</b><br><br>color=Oral Session 6A: Machine Learning and Science, Safety<br>0=%{x}<br>1=%{y}<extra></extra>",
         "hovertext": [
          "cfrDLD1wfO"
         ],
         "legendgroup": "Oral Session 6A: Machine Learning and Science, Safety",
         "marker": {
          "color": "#EF553B",
          "symbol": "circle"
         },
         "mode": "markers",
         "name": "Oral Session 6A: Machine Learning and Science, Safety",
         "orientation": "v",
         "showlegend": true,
         "x": {
          "dtype": "f8",
          "bdata": "AtzGQdkLkj8="
         },
         "xaxis": "x",
         "y": {
          "dtype": "f8",
          "bdata": "1kTIsD3Fur8="
         },
         "yaxis": "y",
         "type": "scatter"
        },
        {
         "hovertemplate": "<b>%{hovertext}</b><br><br>color=Oral Session 4A: Natural Language Processing<br>0=%{x}<br>1=%{y}<extra></extra>",
         "hovertext": [
          "KZlJF8kguO"
         ],
         "legendgroup": "Oral Session 4A: Natural Language Processing",
         "marker": {
          "color": "#00cc96",
          "symbol": "circle"
         },
         "mode": "markers",
         "name": "Oral Session 4A: Natural Language Processing",
         "orientation": "v",
         "showlegend": true,
         "x": {
          "dtype": "f8",
          "bdata": "A5PmwyihxD8="
         },
         "xaxis": "x",
         "y": {
          "dtype": "f8",
          "bdata": "wYw0Tvaqiz8="
         },
         "yaxis": "y",
         "type": "scatter"
        },
        {
         "hovertemplate": "<b>%{hovertext}</b><br><br>color=Oral Session 6C: New Data<br>0=%{x}<br>1=%{y}<extra></extra>",
         "hovertext": [
          "s1K5Z5QPog"
         ],
         "legendgroup": "Oral Session 6C: New Data",
         "marker": {
          "color": "#ab63fa",
          "symbol": "circle"
         },
         "mode": "markers",
         "name": "Oral Session 6C: New Data",
         "orientation": "v",
         "showlegend": true,
         "x": {
          "dtype": "f8",
          "bdata": "PPrs4sYRMb8="
         },
         "xaxis": "x",
         "y": {
          "dtype": "f8",
          "bdata": "svPnohJos78="
         },
         "yaxis": "y",
         "type": "scatter"
        },
        {
         "fill": "toself",
         "hoverinfo": "skip",
         "line": {
          "width": 1
         },
         "mode": "lines",
         "opacity": 0.2,
         "showlegend": false,
         "x": {
          "dtype": "f8",
          "bdata": "wrdHYExnxb/oHkEUQCfUvz7T084+CMy/wrdHYExnxb8="
         },
         "y": {
          "dtype": "f8",
          "bdata": "r7tnGgF/tT/O/YVk6DTAP9SXoeTYfEi/r7tnGgF/tT8="
         },
         "type": "scatter"
        },
        {
         "fill": "toself",
         "hoverinfo": "skip",
         "line": {
          "width": 1
         },
         "mode": "lines",
         "opacity": 0.2,
         "showlegend": false,
         "x": {
          "dtype": "f8",
          "bdata": "8raQYQrNyL+RnqrRhYvNv4lb6OPRKsq/8raQYQrNyL8="
         },
         "y": {
          "dtype": "f8",
          "bdata": "BLLvh9qZwL/V9da9OW6Zv5/k99dm3cG/BLLvh9qZwL8="
         },
         "type": "scatter"
        },
        {
         "fill": "toself",
         "hoverinfo": "skip",
         "line": {
          "width": 1
         },
         "mode": "lines",
         "opacity": 0.2,
         "showlegend": false,
         "x": {
          "dtype": "f8",
          "bdata": "X+TJMPvdsb+LGkNHRoG5PxOKxnlMG7k/lWj6ExuKnb9f5Mkw+92xvw=="
         },
         "y": {
          "dtype": "f8",
          "bdata": "PNW7N9dezb9h1o/PeSDLv4/5mFABEcq/XK8/QG+dkT881bs3117Nvw=="
         },
         "type": "scatter"
        },
        {
         "fill": "toself",
         "hoverinfo": "skip",
         "line": {
          "width": 1
         },
         "mode": "lines",
         "opacity": 0.2,
         "showlegend": false,
         "x": {
          "dtype": "f8",
          "bdata": "S7ijkjyHrT9Tok51BwPDPyHvV0M1Osk/mY/zUF3tyD9LuKOSPIetPw=="
         },
         "y": {
          "dtype": "f8",
          "bdata": "6XA3J4agwz8cCAxeRh/CP/5exbjLOMw/hHYrbbZVzD/pcDcnhqDDPw=="
         },
         "type": "scatter"
        },
        {
         "fill": "toself",
         "hoverinfo": "skip",
         "line": {
          "width": 1
         },
         "mode": "lines",
         "opacity": 0.2,
         "showlegend": false,
         "x": {
          "dtype": "f8",
          "bdata": "MgWuk72p1L+esooprvrdv0tQtQEGz9i/MgWuk72p1L8="
         },
         "y": {
          "dtype": "f8",
          "bdata": "7gPH7MbGuj8KeuuDB5TFPxj+XS2rdaM/7gPH7MbGuj8="
         },
         "type": "scatter"
        },
        {
         "fill": "toself",
         "hoverinfo": "skip",
         "line": {
          "width": 1
         },
         "mode": "lines",
         "opacity": 0.2,
         "showlegend": false,
         "x": {
          "dtype": "f8",
          "bdata": "Kni7C6Bvgb9DoJ0wwu2pP1F9EgcC58E/kzXxuZGCuD8qeLsLoG+Bvw=="
         },
         "y": {
          "dtype": "f8",
          "bdata": "PF2/z4lQxT/iBqLUYr67PwiQ4/bSkcM/q7+pCS5Nxj88Xb/PiVDFPw=="
         },
         "type": "scatter"
        },
        {
         "fill": "toself",
         "hoverinfo": "skip",
         "line": {
          "width": 1
         },
         "mode": "lines",
         "opacity": 0.2,
         "showlegend": false,
         "x": {
          "dtype": "f8",
          "bdata": "L+/il1dy0T/OucldNuLOPxzauZLYgcU/2kKCKXnkrD9Y6QuDwNvJP75zMGAbrs0/L+/il1dy0T8="
         },
         "y": {
          "dtype": "f8",
          "bdata": "yY9MWHHUuD9ectYKkf7BP8SVCBFvSsE//NS0hvDeo7/CPIodeuybvxN1qqQVinw/yY9MWHHUuD8="
         },
         "type": "scatter"
        },
        {
         "fill": "toself",
         "hoverinfo": "skip",
         "line": {
          "width": 1
         },
         "mode": "lines",
         "opacity": 0.2,
         "showlegend": false,
         "x": {
          "dtype": "f8",
          "bdata": "uneQs2FIib+PyEmr/DS8P/9CrOGw3L8/nOngiAoYxT+maGXSEI/GPwG1X+SVc3S/uneQs2FIib8="
         },
         "y": {
          "dtype": "f8",
          "bdata": "i1hp+53dzL9hu76tez3Rv/37CfTTgdC/6qRTq7XLxr/NQ7WQ0PO0v+63gEocD8u/i1hp+53dzL8="
         },
         "type": "scatter"
        },
        {
         "fill": "toself",
         "hoverinfo": "skip",
         "line": {
          "width": 1
         },
         "mode": "lines",
         "opacity": 0.2,
         "showlegend": false,
         "x": {
          "dtype": "f8",
          "bdata": "KfRV9n8Uer+asXWUH8i1P5STDzqs0aQ/KfRV9n8Uer8="
         },
         "y": {
          "dtype": "f8",
          "bdata": "4fcA4Chzur+kYwAWImHOv++Y+7RGyLK/4fcA4Chzur8="
         },
         "type": "scatter"
        },
        {
         "fill": "toself",
         "hoverinfo": "skip",
         "line": {
          "width": 1
         },
         "mode": "lines",
         "opacity": 0.2,
         "showlegend": false,
         "x": {
          "dtype": "f8",
          "bdata": "5gVZt2uDSb8idkCFynDEv/wh8YO1l6a/5gVZt2uDSb8="
         },
         "y": {
          "dtype": "f8",
          "bdata": "9wb6qiZVu78wcdRzvuG8vxxfoRux5L2/9wb6qiZVu78="
         },
         "type": "scatter"
        },
        {
         "fill": "toself",
         "hoverinfo": "skip",
         "line": {
          "width": 1
         },
         "mode": "lines",
         "opacity": 0.2,
         "showlegend": false,
         "x": {
          "dtype": "f8",
          "bdata": "1K4vtfnFwD/xQtSlNe3EPxUYKbtyy8Q/sDyGxxbBwz/Uri+1+cXAPw=="
         },
         "y": {
          "dtype": "f8",
          "bdata": "goBSAdfCwD9fHsnfivGhP51x+RpZMMM/Un+zrKDWxz+CgFIB18LAPw=="
         },
         "type": "scatter"
        },
        {
         "fill": "toself",
         "hoverinfo": "skip",
         "line": {
          "width": 1
         },
         "mode": "lines",
         "opacity": 0.2,
         "showlegend": false,
         "x": {
          "dtype": "f8",
          "bdata": "dHEfBY2xvj/UmifN+3qUP8s7JzbluLc/dHEfBY2xvj8="
         },
         "y": {
          "dtype": "f8",
          "bdata": "5U5gNmSbnz+UCX8OsX+Jv3XKKKqZs8C/5U5gNmSbnz8="
         },
         "type": "scatter"
        }
       ],
       "layout": {
        "template": {
         "data": {
          "histogram2dcontour": [
           {
            "type": "histogram2dcontour",
            "colorbar": {
             "outlinewidth": 0,
             "ticks": ""
            },
            "colorscale": [
             [
              0.0,
              "#0d0887"
             ],
             [
              0.1111111111111111,
              "#46039f"
             ],
             [
              0.2222222222222222,
              "#7201a8"
             ],
             [
              0.3333333333333333,
              "#9c179e"
             ],
             [
              0.4444444444444444,
              "#bd3786"
             ],
             [
              0.5555555555555556,
              "#d8576b"
             ],
             [
              0.6666666666666666,
              "#ed7953"
             ],
             [
              0.7777777777777778,
              "#fb9f3a"
             ],
             [
              0.8888888888888888,
              "#fdca26"
             ],
             [
              1.0,
              "#f0f921"
             ]
            ]
           }
          ],
          "choropleth": [
           {
            "type": "choropleth",
            "colorbar": {
             "outlinewidth": 0,
             "ticks": ""
            }
           }
          ],
          "histogram2d": [
           {
            "type": "histogram2d",
            "colorbar": {
             "outlinewidth": 0,
             "ticks": ""
            },
            "colorscale": [
             [
              0.0,
              "#0d0887"
             ],
             [
              0.1111111111111111,
              "#46039f"
             ],
             [
              0.2222222222222222,
              "#7201a8"
             ],
             [
              0.3333333333333333,
              "#9c179e"
             ],
             [
              0.4444444444444444,
              "#bd3786"
             ],
             [
              0.5555555555555556,
              "#d8576b"
             ],
             [
              0.6666666666666666,
              "#ed7953"
             ],
             [
              0.7777777777777778,
              "#fb9f3a"
             ],
             [
              0.8888888888888888,
              "#fdca26"
             ],
             [
              1.0,
              "#f0f921"
             ]
            ]
           }
          ],
          "heatmap": [
           {
            "type": "heatmap",
            "colorbar": {
             "outlinewidth": 0,
             "ticks": ""
            },
            "colorscale": [
             [
              0.0,
              "#0d0887"
             ],
             [
              0.1111111111111111,
              "#46039f"
             ],
             [
              0.2222222222222222,
              "#7201a8"
             ],
             [
              0.3333333333333333,
              "#9c179e"
             ],
             [
              0.4444444444444444,
              "#bd3786"
             ],
             [
              0.5555555555555556,
              "#d8576b"
             ],
             [
              0.6666666666666666,
              "#ed7953"
             ],
             [
              0.7777777777777778,
              "#fb9f3a"
             ],
             [
              0.8888888888888888,
              "#fdca26"
             ],
             [
              1.0,
              "#f0f921"
             ]
            ]
           }
          ],
          "contourcarpet": [
           {
            "type": "contourcarpet",
            "colorbar": {
             "outlinewidth": 0,
             "ticks": ""
            }
           }
          ],
          "contour": [
           {
            "type": "contour",
            "colorbar": {
             "outlinewidth": 0,
             "ticks": ""
            },
            "colorscale": [
             [
              0.0,
              "#0d0887"
             ],
             [
              0.1111111111111111,
              "#46039f"
             ],
             [
              0.2222222222222222,
              "#7201a8"
             ],
             [
              0.3333333333333333,
              "#9c179e"
             ],
             [
              0.4444444444444444,
              "#bd3786"
             ],
             [
              0.5555555555555556,
              "#d8576b"
             ],
             [
              0.6666666666666666,
              "#ed7953"
             ],
             [
              0.7777777777777778,
              "#fb9f3a"
             ],
             [
              0.8888888888888888,
              "#fdca26"
             ],
             [
              1.0,
              "#f0f921"
             ]
            ]
           }
          ],
          "surface": [
           {
            "type": "surface",
            "colorbar": {
             "outlinewidth": 0,
             "ticks": ""
            },
            "colorscale": [
             [
              0.0,
              "#0d0887"
             ],
             [
              0.1111111111111111,
              "#46039f"
             ],
             [
              0.2222222222222222,
              "#7201a8"
             ],
             [
              0.3333333333333333,
              "#9c179e"
             ],
             [
              0.4444444444444444,
              "#bd3786"
             ],
             [
              0.5555555555555556,
              "#d8576b"
             ],
             [
              0.6666666666666666,
              "#ed7953"
             ],
             [
              0.7777777777777778,
              "#fb9f3a"
             ],
             [
              0.8888888888888888,
              "#fdca26"
             ],
             [
              1.0,
              "#f0f921"
             ]
            ]
           }
          ],
          "mesh3d": [
           {
            "type": "mesh3d",
            "colorbar": {
             "outlinewidth": 0,
             "ticks": ""
            }
           }
          ],
          "scatter": [
           {
            "marker": {
             "line": {
              "color": "#283442"
             }
            },
            "type": "scatter"
           }
          ],
          "parcoords": [
           {
            "type": "parcoords",
            "line": {
             "colorbar": {
              "outlinewidth": 0,
              "ticks": ""
             }
            }
           }
          ],
          "scatterpolargl": [
           {
            "type": "scatterpolargl",
            "marker": {
             "colorbar": {
              "outlinewidth": 0,
              "ticks": ""
             }
            }
           }
          ],
          "bar": [
           {
            "error_x": {
             "color": "#f2f5fa"
            },
            "error_y": {
             "color": "#f2f5fa"
            },
            "marker": {
             "line": {
              "color": "rgb(17,17,17)",
              "width": 0.5
             },
             "pattern": {
              "fillmode": "overlay",
              "size": 10,
              "solidity": 0.2
             }
            },
            "type": "bar"
           }
          ],
          "scattergeo": [
           {
            "type": "scattergeo",
            "marker": {
             "colorbar": {
              "outlinewidth": 0,
              "ticks": ""
             }
            }
           }
          ],
          "scatterpolar": [
           {
            "type": "scatterpolar",
            "marker": {
             "colorbar": {
              "outlinewidth": 0,
              "ticks": ""
             }
            }
           }
          ],
          "histogram": [
           {
            "marker": {
             "pattern": {
              "fillmode": "overlay",
              "size": 10,
              "solidity": 0.2
             }
            },
            "type": "histogram"
           }
          ],
          "scattergl": [
           {
            "marker": {
             "line": {
              "color": "#283442"
             }
            },
            "type": "scattergl"
           }
          ],
          "scatter3d": [
           {
            "type": "scatter3d",
            "line": {
             "colorbar": {
              "outlinewidth": 0,
              "ticks": ""
             }
            },
            "marker": {
             "colorbar": {
              "outlinewidth": 0,
              "ticks": ""
             }
            }
           }
          ],
          "scattermap": [
           {
            "type": "scattermap",
            "marker": {
             "colorbar": {
              "outlinewidth": 0,
              "ticks": ""
             }
            }
           }
          ],
          "scattermapbox": [
           {
            "type": "scattermapbox",
            "marker": {
             "colorbar": {
              "outlinewidth": 0,
              "ticks": ""
             }
            }
           }
          ],
          "scatterternary": [
           {
            "type": "scatterternary",
            "marker": {
             "colorbar": {
              "outlinewidth": 0,
              "ticks": ""
             }
            }
           }
          ],
          "scattercarpet": [
           {
            "type": "scattercarpet",
            "marker": {
             "colorbar": {
              "outlinewidth": 0,
              "ticks": ""
             }
            }
           }
          ],
          "carpet": [
           {
            "aaxis": {
             "endlinecolor": "#A2B1C6",
             "gridcolor": "#506784",
             "linecolor": "#506784",
             "minorgridcolor": "#506784",
             "startlinecolor": "#A2B1C6"
            },
            "baxis": {
             "endlinecolor": "#A2B1C6",
             "gridcolor": "#506784",
             "linecolor": "#506784",
             "minorgridcolor": "#506784",
             "startlinecolor": "#A2B1C6"
            },
            "type": "carpet"
           }
          ],
          "table": [
           {
            "cells": {
             "fill": {
              "color": "#506784"
             },
             "line": {
              "color": "rgb(17,17,17)"
             }
            },
            "header": {
             "fill": {
              "color": "#2a3f5f"
             },
             "line": {
              "color": "rgb(17,17,17)"
             }
            },
            "type": "table"
           }
          ],
          "barpolar": [
           {
            "marker": {
             "line": {
              "color": "rgb(17,17,17)",
              "width": 0.5
             },
             "pattern": {
              "fillmode": "overlay",
              "size": 10,
              "solidity": 0.2
             }
            },
            "type": "barpolar"
           }
          ],
          "pie": [
           {
            "automargin": true,
            "type": "pie"
           }
          ]
         },
         "layout": {
          "autotypenumbers": "strict",
          "colorway": [
           "#636efa",
           "#EF553B",
           "#00cc96",
           "#ab63fa",
           "#FFA15A",
           "#19d3f3",
           "#FF6692",
           "#B6E880",
           "#FF97FF",
           "#FECB52"
          ],
          "font": {
           "color": "#f2f5fa"
          },
          "hovermode": "closest",
          "hoverlabel": {
           "align": "left"
          },
          "paper_bgcolor": "rgb(17,17,17)",
          "plot_bgcolor": "rgb(17,17,17)",
          "polar": {
           "bgcolor": "rgb(17,17,17)",
           "angularaxis": {
            "gridcolor": "#506784",
            "linecolor": "#506784",
            "ticks": ""
           },
           "radialaxis": {
            "gridcolor": "#506784",
            "linecolor": "#506784",
            "ticks": ""
           }
          },
          "ternary": {
           "bgcolor": "rgb(17,17,17)",
           "aaxis": {
            "gridcolor": "#506784",
            "linecolor": "#506784",
            "ticks": ""
           },
           "baxis": {
            "gridcolor": "#506784",
            "linecolor": "#506784",
            "ticks": ""
           },
           "caxis": {
            "gridcolor": "#506784",
            "linecolor": "#506784",
            "ticks": ""
           }
          },
          "coloraxis": {
           "colorbar": {
            "outlinewidth": 0,
            "ticks": ""
           }
          },
          "colorscale": {
           "sequential": [
            [
             0.0,
             "#0d0887"
            ],
            [
             0.1111111111111111,
             "#46039f"
            ],
            [
             0.2222222222222222,
             "#7201a8"
            ],
            [
             0.3333333333333333,
             "#9c179e"
            ],
            [
             0.4444444444444444,
             "#bd3786"
            ],
            [
             0.5555555555555556,
             "#d8576b"
            ],
            [
             0.6666666666666666,
             "#ed7953"
            ],
            [
             0.7777777777777778,
             "#fb9f3a"
            ],
            [
             0.8888888888888888,
             "#fdca26"
            ],
            [
             1.0,
             "#f0f921"
            ]
           ],
           "sequentialminus": [
            [
             0.0,
             "#0d0887"
            ],
            [
             0.1111111111111111,
             "#46039f"
            ],
            [
             0.2222222222222222,
             "#7201a8"
            ],
            [
             0.3333333333333333,
             "#9c179e"
            ],
            [
             0.4444444444444444,
             "#bd3786"
            ],
            [
             0.5555555555555556,
             "#d8576b"
            ],
            [
             0.6666666666666666,
             "#ed7953"
            ],
            [
             0.7777777777777778,
             "#fb9f3a"
            ],
            [
             0.8888888888888888,
             "#fdca26"
            ],
            [
             1.0,
             "#f0f921"
            ]
           ],
           "diverging": [
            [
             0,
             "#8e0152"
            ],
            [
             0.1,
             "#c51b7d"
            ],
            [
             0.2,
             "#de77ae"
            ],
            [
             0.3,
             "#f1b6da"
            ],
            [
             0.4,
             "#fde0ef"
            ],
            [
             0.5,
             "#f7f7f7"
            ],
            [
             0.6,
             "#e6f5d0"
            ],
            [
             0.7,
             "#b8e186"
            ],
            [
             0.8,
             "#7fbc41"
            ],
            [
             0.9,
             "#4d9221"
            ],
            [
             1,
             "#276419"
            ]
           ]
          },
          "xaxis": {
           "gridcolor": "#283442",
           "linecolor": "#506784",
           "ticks": "",
           "title": {
            "standoff": 15
           },
           "zerolinecolor": "#283442",
           "automargin": true,
           "zerolinewidth": 2
          },
          "yaxis": {
           "gridcolor": "#283442",
           "linecolor": "#506784",
           "ticks": "",
           "title": {
            "standoff": 15
           },
           "zerolinecolor": "#283442",
           "automargin": true,
           "zerolinewidth": 2
          },
          "scene": {
           "xaxis": {
            "backgroundcolor": "rgb(17,17,17)",
            "gridcolor": "#506784",
            "linecolor": "#506784",
            "showbackground": true,
            "ticks": "",
            "zerolinecolor": "#C8D4E3",
            "gridwidth": 2
           },
           "yaxis": {
            "backgroundcolor": "rgb(17,17,17)",
            "gridcolor": "#506784",
            "linecolor": "#506784",
            "showbackground": true,
            "ticks": "",
            "zerolinecolor": "#C8D4E3",
            "gridwidth": 2
           },
           "zaxis": {
            "backgroundcolor": "rgb(17,17,17)",
            "gridcolor": "#506784",
            "linecolor": "#506784",
            "showbackground": true,
            "ticks": "",
            "zerolinecolor": "#C8D4E3",
            "gridwidth": 2
           }
          },
          "shapedefaults": {
           "line": {
            "color": "#f2f5fa"
           }
          },
          "annotationdefaults": {
           "arrowcolor": "#f2f5fa",
           "arrowhead": 0,
           "arrowwidth": 1
          },
          "geo": {
           "bgcolor": "rgb(17,17,17)",
           "landcolor": "rgb(17,17,17)",
           "subunitcolor": "#506784",
           "showland": true,
           "showlakes": true,
           "lakecolor": "rgb(17,17,17)"
          },
          "title": {
           "x": 0.05
          },
          "updatemenudefaults": {
           "bgcolor": "#506784",
           "borderwidth": 0
          },
          "sliderdefaults": {
           "bgcolor": "#C8D4E3",
           "borderwidth": 1,
           "bordercolor": "rgb(17,17,17)",
           "tickwidth": 0
          },
          "mapbox": {
           "style": "dark"
          }
         }
        },
        "xaxis": {
         "anchor": "y",
         "domain": [
          0.0,
          1.0
         ],
         "title": {
          "text": "0"
         }
        },
        "yaxis": {
         "anchor": "x",
         "domain": [
          0.0,
          1.0
         ],
         "title": {
          "text": "1"
         }
        },
        "legend": {
         "title": {
          "text": "color"
         },
         "tracegroupgap": 0
        },
        "title": {
         "text": "KMedoids Clustering PCA"
        }
       },
       "config": {
        "plotlyServerURL": "https://plot.ly"
       }
      }
     },
     "metadata": {},
     "output_type": "display_data"
    },
    {
     "data": {
      "application/vnd.plotly.v1+json": {
       "data": [
        {
         "hovertemplate": "<b>%{hovertext}</b><br><br>color=Oral Session 1A: Neuroscience and Intepretability<br>0=%{x}<br>1=%{y}<extra></extra>",
         "hovertext": [
          "aVh9KRZdRk"
         ],
         "legendgroup": "Oral Session 1A: Neuroscience and Intepretability",
         "marker": {
          "color": "#636efa",
          "symbol": "circle"
         },
         "mode": "markers",
         "name": "Oral Session 1A: Neuroscience and Intepretability",
         "orientation": "v",
         "showlegend": true,
         "x": {
          "dtype": "f8",
          "bdata": "ZnKl/lcSj78="
         },
         "xaxis": "x",
         "y": {
          "dtype": "f8",
          "bdata": "XhSdRRYlgr8="
         },
         "yaxis": "y",
         "type": "scatter"
        },
        {
         "hovertemplate": "<b>%{hovertext}</b><br><br>color=Oral Session 1B: Human-AI Interaction<br>0=%{x}<br>1=%{y}<extra></extra>",
         "hovertext": [
          "m1a4CrRJR7",
          "wpGJ2AX6SZ",
          "rtz4df9IF1"
         ],
         "legendgroup": "Oral Session 1B: Human-AI Interaction",
         "marker": {
          "color": "#EF553B",
          "symbol": "circle"
         },
         "mode": "markers",
         "name": "Oral Session 1B: Human-AI Interaction",
         "orientation": "v",
         "showlegend": true,
         "x": {
          "dtype": "f8",
          "bdata": "91DMwOWGy79wOMwTzO3Kv+geQRRAJ9S/"
         },
         "xaxis": "x",
         "y": {
          "dtype": "f8",
          "bdata": "qmrS6RAVoD8mZhoKO8i2P879hWToNMA/"
         },
         "yaxis": "y",
         "type": "scatter"
        },
        {
         "hovertemplate": "<b>%{hovertext}</b><br><br>color=Oral Session 1C: Optimization and Learning Theory<br>0=%{x}<br>1=%{y}<extra></extra>",
         "hovertext": [
          "0XeNkkENuI",
          "YvA8UF0I37",
          "mp8u2Pcmqz"
         ],
         "legendgroup": "Oral Session 1C: Optimization and Learning Theory",
         "marker": {
          "color": "#00cc96",
          "symbol": "circle"
         },
         "mode": "markers",
         "name": "Oral Session 1C: Optimization and Learning Theory",
         "orientation": "v",
         "showlegend": true,
         "x": {
          "dtype": "f8",
          "bdata": "kZ6q0YWLzb9qPIund6WzvyONWlnfcac/"
         },
         "xaxis": "x",
         "y": {
          "dtype": "f8",
          "bdata": "1fXWvTlumb/9ipjwJWORv/OD263QcaK/"
         },
         "yaxis": "y",
         "type": "scatter"
        },
        {
         "hovertemplate": "<b>%{hovertext}</b><br><br>color=Oral Session 2A: Agents<br>0=%{x}<br>1=%{y}<extra></extra>",
         "hovertext": [
          "aIPwlkdOut"
         ],
         "legendgroup": "Oral Session 2A: Agents",
         "marker": {
          "color": "#ab63fa",
          "symbol": "circle"
         },
         "mode": "markers",
         "name": "Oral Session 2A: Agents",
         "orientation": "v",
         "showlegend": true,
         "x": {
          "dtype": "f8",
          "bdata": "wrdHYExnxb8="
         },
         "xaxis": "x",
         "y": {
          "dtype": "f8",
          "bdata": "r7tnGgF/tT8="
         },
         "yaxis": "y",
         "type": "scatter"
        },
        {
         "hovertemplate": "<b>%{hovertext}</b><br><br>color=Oral Session 2B: Reinforcement Learning<br>0=%{x}<br>1=%{y}<extra></extra>",
         "hovertext": [
          "UdxpjKO2F9",
          "mSaqxZVZW8"
         ],
         "legendgroup": "Oral Session 2B: Reinforcement Learning",
         "marker": {
          "color": "#FFA15A",
          "symbol": "circle"
         },
         "mode": "markers",
         "name": "Oral Session 2B: Reinforcement Learning",
         "orientation": "v",
         "showlegend": true,
         "x": {
          "dtype": "f8",
          "bdata": "lWj6ExuKnb+bD6upSabAvw=="
         },
         "xaxis": "x",
         "y": {
          "dtype": "f8",
          "bdata": "XK8/QG+dkT83lVhd3ZSwPw=="
         },
         "yaxis": "y",
         "type": "scatter"
        },
        {
         "hovertemplate": "<b>%{hovertext}</b><br><br>color=Oral Session 2C: Reinforcement Learning<br>0=%{x}<br>1=%{y}<extra></extra>",
         "hovertext": [
          "LEzx6QRkRH",
          "iSwK1YqO7v",
          "Ddak3nSqQM",
          "cLga8GStdk",
          "4S8agvKjle"
         ],
         "legendgroup": "Oral Session 2C: Reinforcement Learning",
         "marker": {
          "color": "#19d3f3",
          "symbol": "circle"
         },
         "mode": "markers",
         "name": "Oral Session 2C: Reinforcement Learning",
         "orientation": "v",
         "showlegend": true,
         "x": {
          "dtype": "f8",
          "bdata": "U6JOdQcDwz8sRM8VkXXCP0u4o5I8h60/mY/zUF3tyD8h71dDNTrJPw=="
         },
         "xaxis": "x",
         "y": {
          "dtype": "f8",
          "bdata": "HAgMXkYfwj9lID7Ho/LIP+lwNyeGoMM/hHYrbbZVzD/+XsW4yzjMPw=="
         },
         "yaxis": "y",
         "type": "scatter"
        },
        {
         "hovertemplate": "<b>%{hovertext}</b><br><br>color=Oral Session 2D: Generative Models<br>0=%{x}<br>1=%{y}<extra></extra>",
         "hovertext": [
          "pGEY8JQ3qx",
          "6YIpvnkjUK",
          "eWUM5hRYgH",
          "qf2uZAdy1N"
         ],
         "legendgroup": "Oral Session 2D: Generative Models",
         "marker": {
          "color": "#FF6692",
          "symbol": "circle"
         },
         "mode": "markers",
         "name": "Oral Session 2D: Generative Models",
         "orientation": "v",
         "showlegend": true,
         "x": {
          "dtype": "f8",
          "bdata": "nrKKKa763b/DSVnOzgXav36J9fL0C9q/MgWuk72p1L8="
         },
         "xaxis": "x",
         "y": {
          "dtype": "f8",
          "bdata": "CnrrgweUxT/kZ1tE+Cy+P1gLCBcV07U/7gPH7MbGuj8="
         },
         "yaxis": "y",
         "type": "scatter"
        },
        {
         "hovertemplate": "<b>%{hovertext}</b><br><br>color=Oral Session 3D: Natural Language Processing<br>0=%{x}<br>1=%{y}<extra></extra>",
         "hovertext": [
          "0NMzBwqaAJ",
          "cFqAANINgW",
          "NPKZF1WDjZ",
          "pC44UMwy2v",
          "uNKlTQ8mBD",
          "Mbd3QxXjq5"
         ],
         "legendgroup": "Oral Session 3D: Natural Language Processing",
         "marker": {
          "color": "#B6E880",
          "symbol": "circle"
         },
         "mode": "markers",
         "name": "Oral Session 3D: Natural Language Processing",
         "orientation": "v",
         "showlegend": true,
         "x": {
          "dtype": "f8",
          "bdata": "Q6CdMMLtqT+TNfG5kYK4P1F9EgcC58E/EnPsKpnitD8qeLsLoG+BvzU5syGyfrI/"
         },
         "xaxis": "x",
         "y": {
          "dtype": "f8",
          "bdata": "4gai1GK+uz+rv6kJLk3GPwiQ4/bSkcM/vrgKBwXjwz88Xb/PiVDFP50uPW05zsM/"
         },
         "yaxis": "y",
         "type": "scatter"
        },
        {
         "hovertemplate": "<b>%{hovertext}</b><br><br>color=Oral Session 4A: Natural Language Processing<br>0=%{x}<br>1=%{y}<extra></extra>",
         "hovertext": [
          "bCMpdaQCNW",
          "zogaeVpbaE",
          "135eKqDoRR",
          "Vi8AepAXGy",
          "E18kRXTGmV"
         ],
         "legendgroup": "Oral Session 4A: Natural Language Processing",
         "marker": {
          "color": "#FF97FF",
          "symbol": "circle"
         },
         "mode": "markers",
         "name": "Oral Session 4A: Natural Language Processing",
         "orientation": "v",
         "showlegend": true,
         "x": {
          "dtype": "f8",
          "bdata": "zrnJXTbizj9Q9UYWEHfQP9pCgil55Kw/vnMwYBuuzT8v7+KXV3LRPw=="
         },
         "xaxis": "x",
         "y": {
          "dtype": "f8",
          "bdata": "XnLWCpH+wT8HaS3MPX6yP/zUtIbw3qO/E3WqpBWKfD/Jj0xYcdS4Pw=="
         },
         "yaxis": "y",
         "type": "scatter"
        },
        {
         "hovertemplate": "<b>%{hovertext}</b><br><br>color=Oral Session 4D: Machine Vision<br>0=%{x}<br>1=%{y}<extra></extra>",
         "hovertext": [
          "TFZlFRl9Ks",
          "QDYts5dYgq",
          "SSCtCq2MH2",
          "x7pjdDod6Z",
          "8qu52Fl1Dt"
         ],
         "legendgroup": "Oral Session 4D: Machine Vision",
         "marker": {
          "color": "#FECB52",
          "symbol": "circle"
         },
         "mode": "markers",
         "name": "Oral Session 4D: Machine Vision",
         "orientation": "v",
         "showlegend": true,
         "x": {
          "dtype": "f8",
          "bdata": "j8hJq/w0vD8BtV/klXN0v7p3kLNhSIm//0Ks4bDcvz/W0ZLNBda/Pw=="
         },
         "xaxis": "x",
         "y": {
          "dtype": "f8",
          "bdata": "Ybu+rXs90b/ut4BKHA/Lv4tYafud3cy//fsJ9NOB0L9ZYJy4PoDKvw=="
         },
         "yaxis": "y",
         "type": "scatter"
        },
        {
         "hovertemplate": "<b>%{hovertext}</b><br><br>color=Oral Session 4C: Diffusion-based Models, Mathematics<br>0=%{x}<br>1=%{y}<extra></extra>",
         "hovertext": [
          "OycU0bAus6",
          "tnh4LK72yj",
          "Pezt0xttae",
          "r5spnrY6H3",
          "47loYmzxep"
         ],
         "legendgroup": "Oral Session 4C: Diffusion-based Models, Mathematics",
         "marker": {
          "color": "#636efa",
          "symbol": "circle"
         },
         "mode": "markers",
         "name": "Oral Session 4C: Diffusion-based Models, Mathematics",
         "orientation": "v",
         "showlegend": true,
         "x": {
          "dtype": "f8",
          "bdata": "jFZACn5Fsz+Ukw86rNGkPyn0VfZ/FHq/pmhl0hCPxj+asXWUH8i1Pw=="
         },
         "xaxis": "x",
         "y": {
          "dtype": "f8",
          "bdata": "p90iXwg7y7/vmPu0Rsiyv+H3AOAoc7q/zUO1kNDztL+kYwAWImHOvw=="
         },
         "yaxis": "y",
         "type": "scatter"
        },
        {
         "hovertemplate": "<b>%{hovertext}</b><br><br>color=Oral Session 5C: Machine Vision<br>0=%{x}<br>1=%{y}<extra></extra>",
         "hovertext": [
          "R8SolCx62K",
          "C4NbtYnyQg",
          "8Fxqn1tZM1"
         ],
         "legendgroup": "Oral Session 5C: Machine Vision",
         "marker": {
          "color": "#EF553B",
          "symbol": "circle"
         },
         "mode": "markers",
         "name": "Oral Session 5C: Machine Vision",
         "orientation": "v",
         "showlegend": true,
         "x": {
          "dtype": "f8",
          "bdata": "/CHxg7WXpr/mBVm3a4NJvyJ2QIXKcMS/"
         },
         "xaxis": "x",
         "y": {
          "dtype": "f8",
          "bdata": "HF+hG7Hkvb/3BvqqJlW7vzBx1HO+4by/"
         },
         "yaxis": "y",
         "type": "scatter"
        },
        {
         "hovertemplate": "<b>%{hovertext}</b><br><br>color=Oral Session 5A: Graph Neural Networks<br>0=%{x}<br>1=%{y}<extra></extra>",
         "hovertext": [
          "HRkniCWM3E",
          "9O2sVnEHor"
         ],
         "legendgroup": "Oral Session 5A: Graph Neural Networks",
         "marker": {
          "color": "#00cc96",
          "symbol": "circle"
         },
         "mode": "markers",
         "name": "Oral Session 5A: Graph Neural Networks",
         "orientation": "v",
         "showlegend": true,
         "x": {
          "dtype": "f8",
          "bdata": "Ajw4uYe7xb8Bo+XIK/fMvw=="
         },
         "xaxis": "x",
         "y": {
          "dtype": "f8",
          "bdata": "ITsLJh+Cs7/CqaoCVMCtPw=="
         },
         "yaxis": "y",
         "type": "scatter"
        },
        {
         "hovertemplate": "<b>%{hovertext}</b><br><br>color=Oral Session 3A: Generative Models<br>0=%{x}<br>1=%{y}<extra></extra>",
         "hovertext": [
          "kq166jACVP",
          "4NJBV6Wp0h",
          "Oo7dlLgqQX",
          "qEpi8uWX3N",
          "DFr5hteojx"
         ],
         "legendgroup": "Oral Session 3A: Generative Models",
         "marker": {
          "color": "#ab63fa",
          "symbol": "circle"
         },
         "mode": "markers",
         "name": "Oral Session 3A: Generative Models",
         "orientation": "v",
         "showlegend": true,
         "x": {
          "dtype": "f8",
          "bdata": "HNq5ktiBxT8VGCm7csvEP9SuL7X5xcA/dHEfBY2xvj+wPIbHFsHDPw=="
         },
         "xaxis": "x",
         "y": {
          "dtype": "f8",
          "bdata": "xJUIEW9KwT+dcfkaWTDDP4KAUgHXwsA/5U5gNmSbnz9Sf7OsoNbHPw=="
         },
         "yaxis": "y",
         "type": "scatter"
        },
        {
         "hovertemplate": "<b>%{hovertext}</b><br><br>color=Oral Session 3C: Natural Language Processing<br>0=%{x}<br>1=%{y}<extra></extra>",
         "hovertext": [
          "REIK4SZMJt"
         ],
         "legendgroup": "Oral Session 3C: Natural Language Processing",
         "marker": {
          "color": "#FFA15A",
          "symbol": "circle"
         },
         "mode": "markers",
         "name": "Oral Session 3C: Natural Language Processing",
         "orientation": "v",
         "showlegend": true,
         "x": {
          "dtype": "f8",
          "bdata": "gtFIw0Dsxb8="
         },
         "xaxis": "x",
         "y": {
          "dtype": "f8",
          "bdata": "87BY9q5Wk78="
         },
         "yaxis": "y",
         "type": "scatter"
        },
        {
         "hovertemplate": "<b>%{hovertext}</b><br><br>color=Oral Session 5D: Machine Learning and Science<br>0=%{x}<br>1=%{y}<extra></extra>",
         "hovertext": [
          "y10avdRFNK",
          "J2wI2rCG2u"
         ],
         "legendgroup": "Oral Session 5D: Machine Learning and Science",
         "marker": {
          "color": "#19d3f3",
          "symbol": "circle"
         },
         "mode": "markers",
         "name": "Oral Session 5D: Machine Learning and Science",
         "orientation": "v",
         "showlegend": true,
         "x": {
          "dtype": "f8",
          "bdata": "8raQYQrNyL+JW+jj0SrKvw=="
         },
         "xaxis": "x",
         "y": {
          "dtype": "f8",
          "bdata": "BLLvh9qZwL+f5PfXZt3Bvw=="
         },
         "yaxis": "y",
         "type": "scatter"
        },
        {
         "hovertemplate": "<b>%{hovertext}</b><br><br>color=Oral Session 6D: Deep Learning Architecture, Infrastructure<br>0=%{x}<br>1=%{y}<extra></extra>",
         "hovertext": [
          "5zSCSE0k41",
          "4bKEFyUHT4",
          "25Ioxw576r",
          "gojL67CfS8",
          "Y8YVCOMEpz"
         ],
         "legendgroup": "Oral Session 6D: Deep Learning Architecture, Infrastructure",
         "marker": {
          "color": "#FF6692",
          "symbol": "circle"
         },
         "mode": "markers",
         "name": "Oral Session 6D: Deep Learning Architecture, Infrastructure",
         "orientation": "v",
         "showlegend": true,
         "x": {
          "dtype": "f8",
          "bdata": "nOngiAoYxT/uFojr3k2iv4nbkVZSmbQ/yzsnNuW4tz/UmifN+3qUPw=="
         },
         "xaxis": "x",
         "y": {
          "dtype": "f8",
          "bdata": "6qRTq7XLxr91M3deLiXAv+XOUbsKuna/dcooqpmzwL+UCX8OsX+Jvw=="
         },
         "yaxis": "y",
         "type": "scatter"
        },
        {
         "hovertemplate": "<b>%{hovertext}</b><br><br>color=Oral Session 4B: Diffusion-based Models<br>0=%{x}<br>1=%{y}<extra></extra>",
         "hovertext": [
          "clTa4JFBML",
          "3Odq2tGSpp",
          "tQukGCDaNT",
          "bg6fVPVs3s",
          "V0oJaLqY4E",
          "cfrDLD1wfO"
         ],
         "legendgroup": "Oral Session 4B: Diffusion-based Models",
         "marker": {
          "color": "#B6E880",
          "symbol": "circle"
         },
         "mode": "markers",
         "name": "Oral Session 4B: Diffusion-based Models",
         "orientation": "v",
         "showlegend": true,
         "x": {
          "dtype": "f8",
          "bdata": "E4rGeUwbuT9Y6QuDwNvJP4saQ0dGgbk/WtFie3P4cz9f5Mkw+92xvwLcxkHZC5I/"
         },
         "xaxis": "x",
         "y": {
          "dtype": "f8",
          "bdata": "j/mYUAERyr/CPIodeuybv2HWj895IMu/MTgqESPLyL881bs3117Nv9ZEyLA9xbq/"
         },
         "yaxis": "y",
         "type": "scatter"
        },
        {
         "hovertemplate": "<b>%{hovertext}</b><br><br>color=Oral Session 5B: Graph Neural Networks, Causal Inference<br>0=%{x}<br>1=%{y}<extra></extra>",
         "hovertext": [
          "4rCZeCZAON",
          "S2P6KPLtm8"
         ],
         "legendgroup": "Oral Session 5B: Graph Neural Networks, Causal Inference",
         "marker": {
          "color": "#FF97FF",
          "symbol": "circle"
         },
         "mode": "markers",
         "name": "Oral Session 5B: Graph Neural Networks, Causal Inference",
         "orientation": "v",
         "showlegend": true,
         "x": {
          "dtype": "f8",
          "bdata": "PtPTzj4IzL+Oo66afXrKvw=="
         },
         "xaxis": "x",
         "y": {
          "dtype": "f8",
          "bdata": "1Jeh5Nh8SL/LTvDV7WmuPw=="
         },
         "yaxis": "y",
         "type": "scatter"
        },
        {
         "hovertemplate": "<b>%{hovertext}</b><br><br>color=Oral Session 6A: Machine Learning and Science, Safety<br>0=%{x}<br>1=%{y}<extra></extra>",
         "hovertext": [
          "EKdk4vxKO4",
          "VXohja0vrQ"
         ],
         "legendgroup": "Oral Session 6A: Machine Learning and Science, Safety",
         "marker": {
          "color": "#FECB52",
          "symbol": "circle"
         },
         "mode": "markers",
         "name": "Oral Session 6A: Machine Learning and Science, Safety",
         "orientation": "v",
         "showlegend": true,
         "x": {
          "dtype": "f8",
          "bdata": "UkTPzC6LwT9G7rvfX0G9Pw=="
         },
         "xaxis": "x",
         "y": {
          "dtype": "f8",
          "bdata": "rr/zRzw1vz949d/rnTnJPw=="
         },
         "yaxis": "y",
         "type": "scatter"
        },
        {
         "hovertemplate": "<b>%{hovertext}</b><br><br>color=Oral Session 1D: Learning Theory<br>0=%{x}<br>1=%{y}<extra></extra>",
         "hovertext": [
          "ge8GZn8Gtu"
         ],
         "legendgroup": "Oral Session 1D: Learning Theory",
         "marker": {
          "color": "#636efa",
          "symbol": "circle"
         },
         "mode": "markers",
         "name": "Oral Session 1D: Learning Theory",
         "orientation": "v",
         "showlegend": true,
         "x": {
          "dtype": "f8",
          "bdata": "S1C1AQbP2L8="
         },
         "xaxis": "x",
         "y": {
          "dtype": "f8",
          "bdata": "GP5dLat1oz8="
         },
         "yaxis": "y",
         "type": "scatter"
        },
        {
         "hovertemplate": "<b>%{hovertext}</b><br><br>color=Oral Session 3B: Natural Language Processing<br>0=%{x}<br>1=%{y}<extra></extra>",
         "hovertext": [
          "KZlJF8kguO"
         ],
         "legendgroup": "Oral Session 3B: Natural Language Processing",
         "marker": {
          "color": "#EF553B",
          "symbol": "circle"
         },
         "mode": "markers",
         "name": "Oral Session 3B: Natural Language Processing",
         "orientation": "v",
         "showlegend": true,
         "x": {
          "dtype": "f8",
          "bdata": "A5PmwyihxD8="
         },
         "xaxis": "x",
         "y": {
          "dtype": "f8",
          "bdata": "wYw0Tvaqiz8="
         },
         "yaxis": "y",
         "type": "scatter"
        },
        {
         "hovertemplate": "<b>%{hovertext}</b><br><br>color=Oral Session 6B: Safety, New Data<br>0=%{x}<br>1=%{y}<extra></extra>",
         "hovertext": [
          "cu8FfaYriU"
         ],
         "legendgroup": "Oral Session 6B: Safety, New Data",
         "marker": {
          "color": "#00cc96",
          "symbol": "circle"
         },
         "mode": "markers",
         "name": "Oral Session 6B: Safety, New Data",
         "orientation": "v",
         "showlegend": true,
         "x": {
          "dtype": "f8",
          "bdata": "8ULUpTXtxD8="
         },
         "xaxis": "x",
         "y": {
          "dtype": "f8",
          "bdata": "Xx7J34rxoT8="
         },
         "yaxis": "y",
         "type": "scatter"
        },
        {
         "hovertemplate": "<b>%{hovertext}</b><br><br>color=Oral Session 6C: New Data<br>0=%{x}<br>1=%{y}<extra></extra>",
         "hovertext": [
          "s1K5Z5QPog"
         ],
         "legendgroup": "Oral Session 6C: New Data",
         "marker": {
          "color": "#ab63fa",
          "symbol": "circle"
         },
         "mode": "markers",
         "name": "Oral Session 6C: New Data",
         "orientation": "v",
         "showlegend": true,
         "x": {
          "dtype": "f8",
          "bdata": "PPrs4sYRMb8="
         },
         "xaxis": "x",
         "y": {
          "dtype": "f8",
          "bdata": "svPnohJos78="
         },
         "yaxis": "y",
         "type": "scatter"
        },
        {
         "fill": "toself",
         "hoverinfo": "skip",
         "line": {
          "width": 1
         },
         "mode": "lines",
         "opacity": 0.2,
         "showlegend": false,
         "x": {
          "dtype": "f8",
          "bdata": "cDjME8ztyr/oHkEUQCfUv/dQzMDlhsu/cDjME8ztyr8="
         },
         "y": {
          "dtype": "f8",
          "bdata": "JmYaCjvItj/O/YVk6DTAP6pq0ukQFaA/JmYaCjvItj8="
         },
         "type": "scatter"
        },
        {
         "fill": "toself",
         "hoverinfo": "skip",
         "line": {
          "width": 1
         },
         "mode": "lines",
         "opacity": 0.2,
         "showlegend": false,
         "x": {
          "dtype": "f8",
          "bdata": "kZ6q0YWLzb8jjVpZ33GnP2o8i6d3pbO/kZ6q0YWLzb8="
         },
         "y": {
          "dtype": "f8",
          "bdata": "1fXWvTlumb/zg9ut0HGiv/2KmPAlY5G/1fXWvTlumb8="
         },
         "type": "scatter"
        },
        {
         "fill": "toself",
         "hoverinfo": "skip",
         "line": {
          "width": 1
         },
         "mode": "lines",
         "opacity": 0.2,
         "showlegend": false,
         "x": {
          "dtype": "f8",
          "bdata": "S7ijkjyHrT9Tok51BwPDPyHvV0M1Osk/mY/zUF3tyD9LuKOSPIetPw=="
         },
         "y": {
          "dtype": "f8",
          "bdata": "6XA3J4agwz8cCAxeRh/CP/5exbjLOMw/hHYrbbZVzD/pcDcnhqDDPw=="
         },
         "type": "scatter"
        },
        {
         "fill": "toself",
         "hoverinfo": "skip",
         "line": {
          "width": 1
         },
         "mode": "lines",
         "opacity": 0.2,
         "showlegend": false,
         "x": {
          "dtype": "f8",
          "bdata": "MgWuk72p1L+esooprvrdv36J9fL0C9q/MgWuk72p1L8="
         },
         "y": {
          "dtype": "f8",
          "bdata": "7gPH7MbGuj8KeuuDB5TFP1gLCBcV07U/7gPH7MbGuj8="
         },
         "type": "scatter"
        },
        {
         "fill": "toself",
         "hoverinfo": "skip",
         "line": {
          "width": 1
         },
         "mode": "lines",
         "opacity": 0.2,
         "showlegend": false,
         "x": {
          "dtype": "f8",
          "bdata": "Kni7C6Bvgb9DoJ0wwu2pP1F9EgcC58E/kzXxuZGCuD8qeLsLoG+Bvw=="
         },
         "y": {
          "dtype": "f8",
          "bdata": "PF2/z4lQxT/iBqLUYr67PwiQ4/bSkcM/q7+pCS5Nxj88Xb/PiVDFPw=="
         },
         "type": "scatter"
        },
        {
         "fill": "toself",
         "hoverinfo": "skip",
         "line": {
          "width": 1
         },
         "mode": "lines",
         "opacity": 0.2,
         "showlegend": false,
         "x": {
          "dtype": "f8",
          "bdata": "zrnJXTbizj/aQoIpeeSsP75zMGAbrs0/L+/il1dy0T/OucldNuLOPw=="
         },
         "y": {
          "dtype": "f8",
          "bdata": "XnLWCpH+wT/81LSG8N6jvxN1qqQVinw/yY9MWHHUuD9ectYKkf7BPw=="
         },
         "type": "scatter"
        },
        {
         "fill": "toself",
         "hoverinfo": "skip",
         "line": {
          "width": 1
         },
         "mode": "lines",
         "opacity": 0.2,
         "showlegend": false,
         "x": {
          "dtype": "f8",
          "bdata": "/0Ks4bDcvz/W0ZLNBda/PwG1X+SVc3S/uneQs2FIib+PyEmr/DS8P/9CrOGw3L8/"
         },
         "y": {
          "dtype": "f8",
          "bdata": "/fsJ9NOB0L9ZYJy4PoDKv+63gEocD8u/i1hp+53dzL9hu76tez3Rv/37CfTTgdC/"
         },
         "type": "scatter"
        },
        {
         "fill": "toself",
         "hoverinfo": "skip",
         "line": {
          "width": 1
         },
         "mode": "lines",
         "opacity": 0.2,
         "showlegend": false,
         "x": {
          "dtype": "f8",
          "bdata": "KfRV9n8Uer+asXWUH8i1P6ZoZdIQj8Y/lJMPOqzRpD8p9FX2fxR6vw=="
         },
         "y": {
          "dtype": "f8",
          "bdata": "4fcA4Chzur+kYwAWImHOv81DtZDQ87S/75j7tEbIsr/h9wDgKHO6vw=="
         },
         "type": "scatter"
        },
        {
         "fill": "toself",
         "hoverinfo": "skip",
         "line": {
          "width": 1
         },
         "mode": "lines",
         "opacity": 0.2,
         "showlegend": false,
         "x": {
          "dtype": "f8",
          "bdata": "5gVZt2uDSb8idkCFynDEv/wh8YO1l6a/5gVZt2uDSb8="
         },
         "y": {
          "dtype": "f8",
          "bdata": "9wb6qiZVu78wcdRzvuG8vxxfoRux5L2/9wb6qiZVu78="
         },
         "type": "scatter"
        },
        {
         "fill": "toself",
         "hoverinfo": "skip",
         "line": {
          "width": 1
         },
         "mode": "lines",
         "opacity": 0.2,
         "showlegend": false,
         "x": {
          "dtype": "f8",
          "bdata": "dHEfBY2xvj8c2rmS2IHFP7A8hscWwcM/1K4vtfnFwD90cR8FjbG+Pw=="
         },
         "y": {
          "dtype": "f8",
          "bdata": "5U5gNmSbnz/ElQgRb0rBP1J/s6yg1sc/goBSAdfCwD/lTmA2ZJufPw=="
         },
         "type": "scatter"
        },
        {
         "fill": "toself",
         "hoverinfo": "skip",
         "line": {
          "width": 1
         },
         "mode": "lines",
         "opacity": 0.2,
         "showlegend": false,
         "x": {
          "dtype": "f8",
          "bdata": "7haI695Nor+c6eCIChjFP4nbkVZSmbQ/1Jonzft6lD/uFojr3k2ivw=="
         },
         "y": {
          "dtype": "f8",
          "bdata": "dTN3Xi4lwL/qpFOrtcvGv+XOUbsKuna/lAl/DrF/ib91M3deLiXAvw=="
         },
         "type": "scatter"
        },
        {
         "fill": "toself",
         "hoverinfo": "skip",
         "line": {
          "width": 1
         },
         "mode": "lines",
         "opacity": 0.2,
         "showlegend": false,
         "x": {
          "dtype": "f8",
          "bdata": "AtzGQdkLkj9f5Mkw+92xv4saQ0dGgbk/WOkLg8DbyT8C3MZB2QuSPw=="
         },
         "y": {
          "dtype": "f8",
          "bdata": "1kTIsD3Fur881bs3117Nv2HWj895IMu/wjyKHXrsm7/WRMiwPcW6vw=="
         },
         "type": "scatter"
        }
       ],
       "layout": {
        "template": {
         "data": {
          "histogram2dcontour": [
           {
            "type": "histogram2dcontour",
            "colorbar": {
             "outlinewidth": 0,
             "ticks": ""
            },
            "colorscale": [
             [
              0.0,
              "#0d0887"
             ],
             [
              0.1111111111111111,
              "#46039f"
             ],
             [
              0.2222222222222222,
              "#7201a8"
             ],
             [
              0.3333333333333333,
              "#9c179e"
             ],
             [
              0.4444444444444444,
              "#bd3786"
             ],
             [
              0.5555555555555556,
              "#d8576b"
             ],
             [
              0.6666666666666666,
              "#ed7953"
             ],
             [
              0.7777777777777778,
              "#fb9f3a"
             ],
             [
              0.8888888888888888,
              "#fdca26"
             ],
             [
              1.0,
              "#f0f921"
             ]
            ]
           }
          ],
          "choropleth": [
           {
            "type": "choropleth",
            "colorbar": {
             "outlinewidth": 0,
             "ticks": ""
            }
           }
          ],
          "histogram2d": [
           {
            "type": "histogram2d",
            "colorbar": {
             "outlinewidth": 0,
             "ticks": ""
            },
            "colorscale": [
             [
              0.0,
              "#0d0887"
             ],
             [
              0.1111111111111111,
              "#46039f"
             ],
             [
              0.2222222222222222,
              "#7201a8"
             ],
             [
              0.3333333333333333,
              "#9c179e"
             ],
             [
              0.4444444444444444,
              "#bd3786"
             ],
             [
              0.5555555555555556,
              "#d8576b"
             ],
             [
              0.6666666666666666,
              "#ed7953"
             ],
             [
              0.7777777777777778,
              "#fb9f3a"
             ],
             [
              0.8888888888888888,
              "#fdca26"
             ],
             [
              1.0,
              "#f0f921"
             ]
            ]
           }
          ],
          "heatmap": [
           {
            "type": "heatmap",
            "colorbar": {
             "outlinewidth": 0,
             "ticks": ""
            },
            "colorscale": [
             [
              0.0,
              "#0d0887"
             ],
             [
              0.1111111111111111,
              "#46039f"
             ],
             [
              0.2222222222222222,
              "#7201a8"
             ],
             [
              0.3333333333333333,
              "#9c179e"
             ],
             [
              0.4444444444444444,
              "#bd3786"
             ],
             [
              0.5555555555555556,
              "#d8576b"
             ],
             [
              0.6666666666666666,
              "#ed7953"
             ],
             [
              0.7777777777777778,
              "#fb9f3a"
             ],
             [
              0.8888888888888888,
              "#fdca26"
             ],
             [
              1.0,
              "#f0f921"
             ]
            ]
           }
          ],
          "contourcarpet": [
           {
            "type": "contourcarpet",
            "colorbar": {
             "outlinewidth": 0,
             "ticks": ""
            }
           }
          ],
          "contour": [
           {
            "type": "contour",
            "colorbar": {
             "outlinewidth": 0,
             "ticks": ""
            },
            "colorscale": [
             [
              0.0,
              "#0d0887"
             ],
             [
              0.1111111111111111,
              "#46039f"
             ],
             [
              0.2222222222222222,
              "#7201a8"
             ],
             [
              0.3333333333333333,
              "#9c179e"
             ],
             [
              0.4444444444444444,
              "#bd3786"
             ],
             [
              0.5555555555555556,
              "#d8576b"
             ],
             [
              0.6666666666666666,
              "#ed7953"
             ],
             [
              0.7777777777777778,
              "#fb9f3a"
             ],
             [
              0.8888888888888888,
              "#fdca26"
             ],
             [
              1.0,
              "#f0f921"
             ]
            ]
           }
          ],
          "surface": [
           {
            "type": "surface",
            "colorbar": {
             "outlinewidth": 0,
             "ticks": ""
            },
            "colorscale": [
             [
              0.0,
              "#0d0887"
             ],
             [
              0.1111111111111111,
              "#46039f"
             ],
             [
              0.2222222222222222,
              "#7201a8"
             ],
             [
              0.3333333333333333,
              "#9c179e"
             ],
             [
              0.4444444444444444,
              "#bd3786"
             ],
             [
              0.5555555555555556,
              "#d8576b"
             ],
             [
              0.6666666666666666,
              "#ed7953"
             ],
             [
              0.7777777777777778,
              "#fb9f3a"
             ],
             [
              0.8888888888888888,
              "#fdca26"
             ],
             [
              1.0,
              "#f0f921"
             ]
            ]
           }
          ],
          "mesh3d": [
           {
            "type": "mesh3d",
            "colorbar": {
             "outlinewidth": 0,
             "ticks": ""
            }
           }
          ],
          "scatter": [
           {
            "marker": {
             "line": {
              "color": "#283442"
             }
            },
            "type": "scatter"
           }
          ],
          "parcoords": [
           {
            "type": "parcoords",
            "line": {
             "colorbar": {
              "outlinewidth": 0,
              "ticks": ""
             }
            }
           }
          ],
          "scatterpolargl": [
           {
            "type": "scatterpolargl",
            "marker": {
             "colorbar": {
              "outlinewidth": 0,
              "ticks": ""
             }
            }
           }
          ],
          "bar": [
           {
            "error_x": {
             "color": "#f2f5fa"
            },
            "error_y": {
             "color": "#f2f5fa"
            },
            "marker": {
             "line": {
              "color": "rgb(17,17,17)",
              "width": 0.5
             },
             "pattern": {
              "fillmode": "overlay",
              "size": 10,
              "solidity": 0.2
             }
            },
            "type": "bar"
           }
          ],
          "scattergeo": [
           {
            "type": "scattergeo",
            "marker": {
             "colorbar": {
              "outlinewidth": 0,
              "ticks": ""
             }
            }
           }
          ],
          "scatterpolar": [
           {
            "type": "scatterpolar",
            "marker": {
             "colorbar": {
              "outlinewidth": 0,
              "ticks": ""
             }
            }
           }
          ],
          "histogram": [
           {
            "marker": {
             "pattern": {
              "fillmode": "overlay",
              "size": 10,
              "solidity": 0.2
             }
            },
            "type": "histogram"
           }
          ],
          "scattergl": [
           {
            "marker": {
             "line": {
              "color": "#283442"
             }
            },
            "type": "scattergl"
           }
          ],
          "scatter3d": [
           {
            "type": "scatter3d",
            "line": {
             "colorbar": {
              "outlinewidth": 0,
              "ticks": ""
             }
            },
            "marker": {
             "colorbar": {
              "outlinewidth": 0,
              "ticks": ""
             }
            }
           }
          ],
          "scattermap": [
           {
            "type": "scattermap",
            "marker": {
             "colorbar": {
              "outlinewidth": 0,
              "ticks": ""
             }
            }
           }
          ],
          "scattermapbox": [
           {
            "type": "scattermapbox",
            "marker": {
             "colorbar": {
              "outlinewidth": 0,
              "ticks": ""
             }
            }
           }
          ],
          "scatterternary": [
           {
            "type": "scatterternary",
            "marker": {
             "colorbar": {
              "outlinewidth": 0,
              "ticks": ""
             }
            }
           }
          ],
          "scattercarpet": [
           {
            "type": "scattercarpet",
            "marker": {
             "colorbar": {
              "outlinewidth": 0,
              "ticks": ""
             }
            }
           }
          ],
          "carpet": [
           {
            "aaxis": {
             "endlinecolor": "#A2B1C6",
             "gridcolor": "#506784",
             "linecolor": "#506784",
             "minorgridcolor": "#506784",
             "startlinecolor": "#A2B1C6"
            },
            "baxis": {
             "endlinecolor": "#A2B1C6",
             "gridcolor": "#506784",
             "linecolor": "#506784",
             "minorgridcolor": "#506784",
             "startlinecolor": "#A2B1C6"
            },
            "type": "carpet"
           }
          ],
          "table": [
           {
            "cells": {
             "fill": {
              "color": "#506784"
             },
             "line": {
              "color": "rgb(17,17,17)"
             }
            },
            "header": {
             "fill": {
              "color": "#2a3f5f"
             },
             "line": {
              "color": "rgb(17,17,17)"
             }
            },
            "type": "table"
           }
          ],
          "barpolar": [
           {
            "marker": {
             "line": {
              "color": "rgb(17,17,17)",
              "width": 0.5
             },
             "pattern": {
              "fillmode": "overlay",
              "size": 10,
              "solidity": 0.2
             }
            },
            "type": "barpolar"
           }
          ],
          "pie": [
           {
            "automargin": true,
            "type": "pie"
           }
          ]
         },
         "layout": {
          "autotypenumbers": "strict",
          "colorway": [
           "#636efa",
           "#EF553B",
           "#00cc96",
           "#ab63fa",
           "#FFA15A",
           "#19d3f3",
           "#FF6692",
           "#B6E880",
           "#FF97FF",
           "#FECB52"
          ],
          "font": {
           "color": "#f2f5fa"
          },
          "hovermode": "closest",
          "hoverlabel": {
           "align": "left"
          },
          "paper_bgcolor": "rgb(17,17,17)",
          "plot_bgcolor": "rgb(17,17,17)",
          "polar": {
           "bgcolor": "rgb(17,17,17)",
           "angularaxis": {
            "gridcolor": "#506784",
            "linecolor": "#506784",
            "ticks": ""
           },
           "radialaxis": {
            "gridcolor": "#506784",
            "linecolor": "#506784",
            "ticks": ""
           }
          },
          "ternary": {
           "bgcolor": "rgb(17,17,17)",
           "aaxis": {
            "gridcolor": "#506784",
            "linecolor": "#506784",
            "ticks": ""
           },
           "baxis": {
            "gridcolor": "#506784",
            "linecolor": "#506784",
            "ticks": ""
           },
           "caxis": {
            "gridcolor": "#506784",
            "linecolor": "#506784",
            "ticks": ""
           }
          },
          "coloraxis": {
           "colorbar": {
            "outlinewidth": 0,
            "ticks": ""
           }
          },
          "colorscale": {
           "sequential": [
            [
             0.0,
             "#0d0887"
            ],
            [
             0.1111111111111111,
             "#46039f"
            ],
            [
             0.2222222222222222,
             "#7201a8"
            ],
            [
             0.3333333333333333,
             "#9c179e"
            ],
            [
             0.4444444444444444,
             "#bd3786"
            ],
            [
             0.5555555555555556,
             "#d8576b"
            ],
            [
             0.6666666666666666,
             "#ed7953"
            ],
            [
             0.7777777777777778,
             "#fb9f3a"
            ],
            [
             0.8888888888888888,
             "#fdca26"
            ],
            [
             1.0,
             "#f0f921"
            ]
           ],
           "sequentialminus": [
            [
             0.0,
             "#0d0887"
            ],
            [
             0.1111111111111111,
             "#46039f"
            ],
            [
             0.2222222222222222,
             "#7201a8"
            ],
            [
             0.3333333333333333,
             "#9c179e"
            ],
            [
             0.4444444444444444,
             "#bd3786"
            ],
            [
             0.5555555555555556,
             "#d8576b"
            ],
            [
             0.6666666666666666,
             "#ed7953"
            ],
            [
             0.7777777777777778,
             "#fb9f3a"
            ],
            [
             0.8888888888888888,
             "#fdca26"
            ],
            [
             1.0,
             "#f0f921"
            ]
           ],
           "diverging": [
            [
             0,
             "#8e0152"
            ],
            [
             0.1,
             "#c51b7d"
            ],
            [
             0.2,
             "#de77ae"
            ],
            [
             0.3,
             "#f1b6da"
            ],
            [
             0.4,
             "#fde0ef"
            ],
            [
             0.5,
             "#f7f7f7"
            ],
            [
             0.6,
             "#e6f5d0"
            ],
            [
             0.7,
             "#b8e186"
            ],
            [
             0.8,
             "#7fbc41"
            ],
            [
             0.9,
             "#4d9221"
            ],
            [
             1,
             "#276419"
            ]
           ]
          },
          "xaxis": {
           "gridcolor": "#283442",
           "linecolor": "#506784",
           "ticks": "",
           "title": {
            "standoff": 15
           },
           "zerolinecolor": "#283442",
           "automargin": true,
           "zerolinewidth": 2
          },
          "yaxis": {
           "gridcolor": "#283442",
           "linecolor": "#506784",
           "ticks": "",
           "title": {
            "standoff": 15
           },
           "zerolinecolor": "#283442",
           "automargin": true,
           "zerolinewidth": 2
          },
          "scene": {
           "xaxis": {
            "backgroundcolor": "rgb(17,17,17)",
            "gridcolor": "#506784",
            "linecolor": "#506784",
            "showbackground": true,
            "ticks": "",
            "zerolinecolor": "#C8D4E3",
            "gridwidth": 2
           },
           "yaxis": {
            "backgroundcolor": "rgb(17,17,17)",
            "gridcolor": "#506784",
            "linecolor": "#506784",
            "showbackground": true,
            "ticks": "",
            "zerolinecolor": "#C8D4E3",
            "gridwidth": 2
           },
           "zaxis": {
            "backgroundcolor": "rgb(17,17,17)",
            "gridcolor": "#506784",
            "linecolor": "#506784",
            "showbackground": true,
            "ticks": "",
            "zerolinecolor": "#C8D4E3",
            "gridwidth": 2
           }
          },
          "shapedefaults": {
           "line": {
            "color": "#f2f5fa"
           }
          },
          "annotationdefaults": {
           "arrowcolor": "#f2f5fa",
           "arrowhead": 0,
           "arrowwidth": 1
          },
          "geo": {
           "bgcolor": "rgb(17,17,17)",
           "landcolor": "rgb(17,17,17)",
           "subunitcolor": "#506784",
           "showland": true,
           "showlakes": true,
           "lakecolor": "rgb(17,17,17)"
          },
          "title": {
           "x": 0.05
          },
          "updatemenudefaults": {
           "bgcolor": "#506784",
           "borderwidth": 0
          },
          "sliderdefaults": {
           "bgcolor": "#C8D4E3",
           "borderwidth": 1,
           "bordercolor": "rgb(17,17,17)",
           "tickwidth": 0
          },
          "mapbox": {
           "style": "dark"
          }
         }
        },
        "xaxis": {
         "anchor": "y",
         "domain": [
          0.0,
          1.0
         ],
         "title": {
          "text": "0"
         }
        },
        "yaxis": {
         "anchor": "x",
         "domain": [
          0.0,
          1.0
         ],
         "title": {
          "text": "1"
         }
        },
        "legend": {
         "title": {
          "text": "color"
         },
         "tracegroupgap": 0
        },
        "title": {
         "text": "KMeans Clustering PCA"
        }
       },
       "config": {
        "plotlyServerURL": "https://plot.ly"
       }
      }
     },
     "metadata": {},
     "output_type": "display_data"
    }
   ],
   "execution_count": 28
  },
  {
   "metadata": {
    "ExecuteTime": {
     "end_time": "2025-06-04T17:19:07.434768Z",
     "start_time": "2025-06-04T17:19:07.160066Z"
    }
   },
   "cell_type": "code",
   "source": [
    "import numpy as np\n",
    "import pandas as pd\n",
    "from sklearn.manifold import TSNE\n",
    "from scipy.spatial import ConvexHull\n",
    "import plotly.express as px\n",
    "import plotly.graph_objects as go\n",
    "\n",
    "\n",
    "# Step 2: Run t-SNE\n",
    "tsne = TSNE(n_components=2, perplexity=30, random_state=42)\n",
    "components = tsne.fit_transform(X)\n",
    "\n",
    "# Step 3: Add to dataframe\n",
    "df['tsne_0'] = components[:, 0]\n",
    "df['tsne_1'] = components[:, 1]\n"
   ],
   "id": "1905a1aa30d4f62e",
   "outputs": [],
   "execution_count": 35
  },
  {
   "metadata": {
    "ExecuteTime": {
     "end_time": "2025-06-04T17:19:09.250711Z",
     "start_time": "2025-06-04T17:19:08.959787Z"
    }
   },
   "cell_type": "code",
   "source": [
    "# Step 4: Draw convex hulls for each method\n",
    "for method in method_names:  # e.g. [\"Baseline\", \"GreedyCohesive\"]\n",
    "    fig = px.scatter(\n",
    "        df,\n",
    "        x=\"tsne_0\",\n",
    "        y=\"tsne_1\",\n",
    "        color=method,\n",
    "        hover_name=\"id\",\n",
    "        title=f\"t-SNE Clustering — {method}\"\n",
    "    )\n",
    "\n",
    "    for cluster in df[method].unique():\n",
    "        if cluster == \"None\" or pd.isna(cluster):\n",
    "            continue\n",
    "\n",
    "        mask = df[method] == cluster\n",
    "        cluster_points = df.loc[mask, ['tsne_0', 'tsne_1']].values\n",
    "\n",
    "        if len(cluster_points) >= 3:\n",
    "            hull = ConvexHull(cluster_points)\n",
    "            vertices = cluster_points[hull.vertices]\n",
    "            vertices = np.vstack([vertices, vertices[0]])  # close the loop\n",
    "\n",
    "            fig.add_trace(go.Scatter(\n",
    "                x=vertices[:, 0],\n",
    "                y=vertices[:, 1],\n",
    "                mode='lines',\n",
    "                line=dict(width=1),\n",
    "                fill='toself',\n",
    "                fillcolor='rgba(0,0,0,0.1)',\n",
    "                opacity=0.2,\n",
    "                hoverinfo='skip',\n",
    "                showlegend=False\n",
    "            ))\n",
    "\n",
    "    fig.show()\n"
   ],
   "id": "8054ebe82c7c51d5",
   "outputs": [
    {
     "data": {
      "application/vnd.plotly.v1+json": {
       "data": [
        {
         "hovertemplate": "<b>%{hovertext}</b><br><br>Baseline=Oral Session 1A: Neuroscience and Intepretability<br>tsne_0=%{x}<br>tsne_1=%{y}<extra></extra>",
         "hovertext": [
          "aVh9KRZdRk",
          "REIK4SZMJt",
          "8qu52Fl1Dt"
         ],
         "legendgroup": "Oral Session 1A: Neuroscience and Intepretability",
         "marker": {
          "color": "#636efa",
          "symbol": "circle"
         },
         "mode": "markers",
         "name": "Oral Session 1A: Neuroscience and Intepretability",
         "orientation": "v",
         "showlegend": true,
         "x": {
          "dtype": "f4",
          "bdata": "lbSnvx6kT0BVpw9A"
         },
         "xaxis": "x",
         "y": {
          "dtype": "f4",
          "bdata": "GeCyPyUpqT/Is3nA"
         },
         "yaxis": "y",
         "type": "scatter"
        },
        {
         "hovertemplate": "<b>%{hovertext}</b><br><br>Baseline=Oral Session 1D: Learning Theory<br>tsne_0=%{x}<br>tsne_1=%{y}<extra></extra>",
         "hovertext": [
          "m1a4CrRJR7",
          "rtz4df9IF1",
          "ge8GZn8Gtu"
         ],
         "legendgroup": "Oral Session 1D: Learning Theory",
         "marker": {
          "color": "#EF553B",
          "symbol": "circle"
         },
         "mode": "markers",
         "name": "Oral Session 1D: Learning Theory",
         "orientation": "v",
         "showlegend": true,
         "x": {
          "dtype": "f4",
          "bdata": "EW4qQKqCNEC5GjtA"
         },
         "xaxis": "x",
         "y": {
          "dtype": "f4",
          "bdata": "wSwPQF7qLkDInVVA"
         },
         "yaxis": "y",
         "type": "scatter"
        },
        {
         "hovertemplate": "<b>%{hovertext}</b><br><br>Baseline=Oral Session 1C: Optimization and Learning Theory<br>tsne_0=%{x}<br>tsne_1=%{y}<extra></extra>",
         "hovertext": [
          "0XeNkkENuI",
          "y10avdRFNK",
          "qf2uZAdy1N"
         ],
         "legendgroup": "Oral Session 1C: Optimization and Learning Theory",
         "marker": {
          "color": "#00cc96",
          "symbol": "circle"
         },
         "mode": "markers",
         "name": "Oral Session 1C: Optimization and Learning Theory",
         "orientation": "v",
         "showlegend": true,
         "x": {
          "dtype": "f4",
          "bdata": "YHSwP1dqhkDomB1A"
         },
         "xaxis": "x",
         "y": {
          "dtype": "f4",
          "bdata": "I9URQHhvk76TJEJA"
         },
         "yaxis": "y",
         "type": "scatter"
        },
        {
         "hovertemplate": "<b>%{hovertext}</b><br><br>Baseline=Oral Session 1B: Human-AI Interaction<br>tsne_0=%{x}<br>tsne_1=%{y}<extra></extra>",
         "hovertext": [
          "wpGJ2AX6SZ",
          "r5spnrY6H3",
          "DFr5hteojx"
         ],
         "legendgroup": "Oral Session 1B: Human-AI Interaction",
         "marker": {
          "color": "#ab63fa",
          "symbol": "circle"
         },
         "mode": "markers",
         "name": "Oral Session 1B: Human-AI Interaction",
         "orientation": "v",
         "showlegend": true,
         "x": {
          "dtype": "f4",
          "bdata": "1F1EQAmipT/cjui/"
         },
         "xaxis": "x",
         "y": {
          "dtype": "f4",
          "bdata": "6ooRQGHOUcBMA2XA"
         },
         "yaxis": "y",
         "type": "scatter"
        },
        {
         "hovertemplate": "<b>%{hovertext}</b><br><br>Baseline=Oral Session 2A: Agents<br>tsne_0=%{x}<br>tsne_1=%{y}<extra></extra>",
         "hovertext": [
          "aIPwlkdOut",
          "iSwK1YqO7v",
          "4S8agvKjle"
         ],
         "legendgroup": "Oral Session 2A: Agents",
         "marker": {
          "color": "#FFA15A",
          "symbol": "circle"
         },
         "mode": "markers",
         "name": "Oral Session 2A: Agents",
         "orientation": "v",
         "showlegend": true,
         "x": {
          "dtype": "f4",
          "bdata": "gfYRQKcTOsAwUSLA"
         },
         "xaxis": "x",
         "y": {
          "dtype": "f4",
          "bdata": "4bXjP5P70r/Ludm/"
         },
         "yaxis": "y",
         "type": "scatter"
        },
        {
         "hovertemplate": "<b>%{hovertext}</b><br><br>Baseline=Oral Session 2B: Reinforcement Learning<br>tsne_0=%{x}<br>tsne_1=%{y}<extra></extra>",
         "hovertext": [
          "UdxpjKO2F9",
          "6YIpvnkjUK",
          "Ddak3nSqQM"
         ],
         "legendgroup": "Oral Session 2B: Reinforcement Learning",
         "marker": {
          "color": "#19d3f3",
          "symbol": "circle"
         },
         "mode": "markers",
         "name": "Oral Session 2B: Reinforcement Learning",
         "orientation": "v",
         "showlegend": true,
         "x": {
          "dtype": "f4",
          "bdata": "7ETLP6IDE0Bewz3A"
         },
         "xaxis": "x",
         "y": {
          "dtype": "f4",
          "bdata": "PV50PoFqZECxVji/"
         },
         "yaxis": "y",
         "type": "scatter"
        },
        {
         "hovertemplate": "<b>%{hovertext}</b><br><br>Baseline=Oral Session 2C: Reinforcement Learning<br>tsne_0=%{x}<br>tsne_1=%{y}<extra></extra>",
         "hovertext": [
          "LEzx6QRkRH",
          "eWUM5hRYgH",
          "mSaqxZVZW8"
         ],
         "legendgroup": "Oral Session 2C: Reinforcement Learning",
         "marker": {
          "color": "#FF6692",
          "symbol": "circle"
         },
         "mode": "markers",
         "name": "Oral Session 2C: Reinforcement Learning",
         "orientation": "v",
         "showlegend": true,
         "x": {
          "dtype": "f4",
          "bdata": "F8sdwN9BHEBZ48I/"
         },
         "xaxis": "x",
         "y": {
          "dtype": "f4",
          "bdata": "kYGKvwqGdEBaaXg/"
         },
         "yaxis": "y",
         "type": "scatter"
        },
        {
         "hovertemplate": "<b>%{hovertext}</b><br><br>Baseline=Oral Session 2D: Generative Models<br>tsne_0=%{x}<br>tsne_1=%{y}<extra></extra>",
         "hovertext": [
          "pGEY8JQ3qx",
          "5zSCSE0k41",
          "gojL67CfS8"
         ],
         "legendgroup": "Oral Session 2D: Generative Models",
         "marker": {
          "color": "#B6E880",
          "symbol": "circle"
         },
         "mode": "markers",
         "name": "Oral Session 2D: Generative Models",
         "orientation": "v",
         "showlegend": true,
         "x": {
          "dtype": "f4",
          "bdata": "KcEMQHu0BUAghck/"
         },
         "xaxis": "x",
         "y": {
          "dtype": "f4",
          "bdata": "sqF5QEvDcMBbNQnA"
         },
         "yaxis": "y",
         "type": "scatter"
        },
        {
         "hovertemplate": "<b>%{hovertext}</b><br><br>Baseline=Oral Session 3A: Generative Models<br>tsne_0=%{x}<br>tsne_1=%{y}<extra></extra>",
         "hovertext": [
          "0NMzBwqaAJ",
          "clTa4JFBML",
          "qEpi8uWX3N"
         ],
         "legendgroup": "Oral Session 3A: Generative Models",
         "marker": {
          "color": "#FF97FF",
          "symbol": "circle"
         },
         "mode": "markers",
         "name": "Oral Session 3A: Generative Models",
         "orientation": "v",
         "showlegend": true,
         "x": {
          "dtype": "f4",
          "bdata": "AAz5vjgWIkABuHQ9"
         },
         "xaxis": "x",
         "y": {
          "dtype": "f4",
          "bdata": "rk9mv/TKEsCbvsS/"
         },
         "yaxis": "y",
         "type": "scatter"
        },
        {
         "hovertemplate": "<b>%{hovertext}</b><br><br>Baseline=Oral Session 3B: Natural Language Processing<br>tsne_0=%{x}<br>tsne_1=%{y}<extra></extra>",
         "hovertext": [
          "bCMpdaQCNW",
          "NPKZF1WDjZ",
          "Oo7dlLgqQX"
         ],
         "legendgroup": "Oral Session 3B: Natural Language Processing",
         "marker": {
          "color": "#FECB52",
          "symbol": "circle"
         },
         "mode": "markers",
         "name": "Oral Session 3B: Natural Language Processing",
         "orientation": "v",
         "showlegend": true,
         "x": {
          "dtype": "f4",
          "bdata": "B0k6wLyCpb9FbNm/"
         },
         "xaxis": "x",
         "y": {
          "dtype": "f4",
          "bdata": "zd9DwIRqw79FwFbA"
         },
         "yaxis": "y",
         "type": "scatter"
        },
        {
         "hovertemplate": "<b>%{hovertext}</b><br><br>Baseline=Oral Session 3C: Natural Language Processing<br>tsne_0=%{x}<br>tsne_1=%{y}<extra></extra>",
         "hovertext": [
          "YvA8UF0I37",
          "4NJBV6Wp0h",
          "pC44UMwy2v"
         ],
         "legendgroup": "Oral Session 3C: Natural Language Processing",
         "marker": {
          "color": "#636efa",
          "symbol": "circle"
         },
         "mode": "markers",
         "name": "Oral Session 3C: Natural Language Processing",
         "orientation": "v",
         "showlegend": true,
         "x": {
          "dtype": "f4",
          "bdata": "8pXtPk6e8L+mu4S/"
         },
         "xaxis": "x",
         "y": {
          "dtype": "f4",
          "bdata": "MYrPPggMSsC7iqu/"
         },
         "yaxis": "y",
         "type": "scatter"
        },
        {
         "hovertemplate": "<b>%{hovertext}</b><br><br>Baseline=Oral Session 3D: Natural Language Processing<br>tsne_0=%{x}<br>tsne_1=%{y}<extra></extra>",
         "hovertext": [
          "cFqAANINgW",
          "mp8u2Pcmqz",
          "V0oJaLqY4E"
         ],
         "legendgroup": "Oral Session 3D: Natural Language Processing",
         "marker": {
          "color": "#EF553B",
          "symbol": "circle"
         },
         "mode": "markers",
         "name": "Oral Session 3D: Natural Language Processing",
         "orientation": "v",
         "showlegend": true,
         "x": {
          "dtype": "f4",
          "bdata": "LoOuv2/rYD5UMWpA"
         },
         "xaxis": "x",
         "y": {
          "dtype": "f4",
          "bdata": "o+VOv7FbwD7tB8+/"
         },
         "yaxis": "y",
         "type": "scatter"
        },
        {
         "hovertemplate": "<b>%{hovertext}</b><br><br>Baseline=Oral Session 4B: Diffusion-based Models<br>tsne_0=%{x}<br>tsne_1=%{y}<extra></extra>",
         "hovertext": [
          "TFZlFRl9Ks",
          "3Odq2tGSpp",
          "bg6fVPVs3s"
         ],
         "legendgroup": "Oral Session 4B: Diffusion-based Models",
         "marker": {
          "color": "#00cc96",
          "symbol": "circle"
         },
         "mode": "markers",
         "name": "Oral Session 4B: Diffusion-based Models",
         "orientation": "v",
         "showlegend": true,
         "x": {
          "dtype": "f4",
          "bdata": "Hbo5QIvylz6mmz1A"
         },
         "xaxis": "x",
         "y": {
          "dtype": "f4",
          "bdata": "QHROwHuCQsDfZO+/"
         },
         "yaxis": "y",
         "type": "scatter"
        },
        {
         "hovertemplate": "<b>%{hovertext}</b><br><br>Baseline=Oral Session 4C: Diffusion-based Models, Mathematics<br>tsne_0=%{x}<br>tsne_1=%{y}<extra></extra>",
         "hovertext": [
          "OycU0bAus6",
          "tQukGCDaNT",
          "Mbd3QxXjq5"
         ],
         "legendgroup": "Oral Session 4C: Diffusion-based Models, Mathematics",
         "marker": {
          "color": "#ab63fa",
          "symbol": "circle"
         },
         "mode": "markers",
         "name": "Oral Session 4C: Diffusion-based Models, Mathematics",
         "orientation": "v",
         "showlegend": true,
         "x": {
          "dtype": "f4",
          "bdata": "sj/3P3lfNkB+JY6/"
         },
         "xaxis": "x",
         "y": {
          "dtype": "f4",
          "bdata": "LxwcwDn5EcBa0j6/"
         },
         "yaxis": "y",
         "type": "scatter"
        },
        {
         "hovertemplate": "<b>%{hovertext}</b><br><br>Baseline=Oral Session 5A: Graph Neural Networks<br>tsne_0=%{x}<br>tsne_1=%{y}<extra></extra>",
         "hovertext": [
          "QDYts5dYgq",
          "9O2sVnEHor",
          "8Fxqn1tZM1"
         ],
         "legendgroup": "Oral Session 5A: Graph Neural Networks",
         "marker": {
          "color": "#FFA15A",
          "symbol": "circle"
         },
         "mode": "markers",
         "name": "Oral Session 5A: Graph Neural Networks",
         "orientation": "v",
         "showlegend": true,
         "x": {
          "dtype": "f4",
          "bdata": "2NWGQLrGkEDGLlhA"
         },
         "xaxis": "x",
         "y": {
          "dtype": "f4",
          "bdata": "1cQ9wGZcoz/H3Ac+"
         },
         "yaxis": "y",
         "type": "scatter"
        },
        {
         "hovertemplate": "<b>%{hovertext}</b><br><br>Baseline=Oral Session 4D: Machine Vision<br>tsne_0=%{x}<br>tsne_1=%{y}<extra></extra>",
         "hovertext": [
          "SSCtCq2MH2",
          "x7pjdDod6Z",
          "47loYmzxep"
         ],
         "legendgroup": "Oral Session 4D: Machine Vision",
         "marker": {
          "color": "#19d3f3",
          "symbol": "circle"
         },
         "mode": "markers",
         "name": "Oral Session 4D: Machine Vision",
         "orientation": "v",
         "showlegend": true,
         "x": {
          "dtype": "f4",
          "bdata": "QZN4QGEpOkCqBgdA"
         },
         "xaxis": "x",
         "y": {
          "dtype": "f4",
          "bdata": "8DAuwKFpTMANaD/A"
         },
         "yaxis": "y",
         "type": "scatter"
        },
        {
         "hovertemplate": "<b>%{hovertext}</b><br><br>Baseline=Oral Session 5B: Graph Neural Networks, Causal Inference<br>tsne_0=%{x}<br>tsne_1=%{y}<extra></extra>",
         "hovertext": [
          "R8SolCx62K",
          "4rCZeCZAON",
          "S2P6KPLtm8"
         ],
         "legendgroup": "Oral Session 5B: Graph Neural Networks, Causal Inference",
         "marker": {
          "color": "#FF6692",
          "symbol": "circle"
         },
         "mode": "markers",
         "name": "Oral Session 5B: Graph Neural Networks, Causal Inference",
         "orientation": "v",
         "showlegend": true,
         "x": {
          "dtype": "f4",
          "bdata": "Sh4oQBARh0BV85VA"
         },
         "xaxis": "x",
         "y": {
          "dtype": "f4",
          "bdata": "jl9Ev1bPHUBBRyxA"
         },
         "yaxis": "y",
         "type": "scatter"
        },
        {
         "hovertemplate": "<b>%{hovertext}</b><br><br>Baseline=Oral Session 5C: Machine Vision<br>tsne_0=%{x}<br>tsne_1=%{y}<extra></extra>",
         "hovertext": [
          "C4NbtYnyQg",
          "4bKEFyUHT4",
          "Vi8AepAXGy"
         ],
         "legendgroup": "Oral Session 5C: Machine Vision",
         "marker": {
          "color": "#B6E880",
          "symbol": "circle"
         },
         "mode": "markers",
         "name": "Oral Session 5C: Machine Vision",
         "orientation": "v",
         "showlegend": true,
         "x": {
          "dtype": "f4",
          "bdata": "kVoDQEsIH0DnKEi+"
         },
         "xaxis": "x",
         "y": {
          "dtype": "f4",
          "bdata": "rgN9v/v3Br6Q+EDA"
         },
         "yaxis": "y",
         "type": "scatter"
        },
        {
         "hovertemplate": "<b>%{hovertext}</b><br><br>Baseline=Oral Session 5D: Machine Learning and Science<br>tsne_0=%{x}<br>tsne_1=%{y}<extra></extra>",
         "hovertext": [
          "tnh4LK72yj",
          "J2wI2rCG2u",
          "uNKlTQ8mBD"
         ],
         "legendgroup": "Oral Session 5D: Machine Learning and Science",
         "marker": {
          "color": "#FF97FF",
          "symbol": "circle"
         },
         "mode": "markers",
         "name": "Oral Session 5D: Machine Learning and Science",
         "orientation": "v",
         "showlegend": true,
         "x": {
          "dtype": "f4",
          "bdata": "o+mmP4J2jEA++ri/"
         },
         "xaxis": "x",
         "y": {
          "dtype": "f4",
          "bdata": "rnPBvweSu77uALm9"
         },
         "yaxis": "y",
         "type": "scatter"
        },
        {
         "hovertemplate": "<b>%{hovertext}</b><br><br>Baseline=Oral Session 6A: Machine Learning and Science, Safety<br>tsne_0=%{x}<br>tsne_1=%{y}<extra></extra>",
         "hovertext": [
          "HRkniCWM3E",
          "EKdk4vxKO4",
          "cfrDLD1wfO"
         ],
         "legendgroup": "Oral Session 6A: Machine Learning and Science, Safety",
         "marker": {
          "color": "#FECB52",
          "symbol": "circle"
         },
         "mode": "markers",
         "name": "Oral Session 6A: Machine Learning and Science, Safety",
         "orientation": "v",
         "showlegend": true,
         "x": {
          "dtype": "f4",
          "bdata": "XIeqQEAVOL2q2nxA"
         },
         "xaxis": "x",
         "y": {
          "dtype": "f4",
          "bdata": "5YTnPs6RpMCv74HA"
         },
         "yaxis": "y",
         "type": "scatter"
        },
        {
         "hovertemplate": "<b>%{hovertext}</b><br><br>Baseline=Oral Session 6B: Safety, New Data<br>tsne_0=%{x}<br>tsne_1=%{y}<extra></extra>",
         "hovertext": [
          "kq166jACVP",
          "135eKqDoRR",
          "cu8FfaYriU"
         ],
         "legendgroup": "Oral Session 6B: Safety, New Data",
         "marker": {
          "color": "#636efa",
          "symbol": "circle"
         },
         "mode": "markers",
         "name": "Oral Session 6B: Safety, New Data",
         "orientation": "v",
         "showlegend": true,
         "x": {
          "dtype": "f4",
          "bdata": "8yK1v9lXFz95UxLA"
         },
         "xaxis": "x",
         "y": {
          "dtype": "f4",
          "bdata": "9wAjwOdxE8BfHI3A"
         },
         "yaxis": "y",
         "type": "scatter"
        },
        {
         "hovertemplate": "<b>%{hovertext}</b><br><br>Baseline=Oral Session 6D: Deep Learning Architecture, Infrastructure<br>tsne_0=%{x}<br>tsne_1=%{y}<extra></extra>",
         "hovertext": [
          "Pezt0xttae",
          "25Ioxw576r",
          "Y8YVCOMEpz"
         ],
         "legendgroup": "Oral Session 6D: Deep Learning Architecture, Infrastructure",
         "marker": {
          "color": "#EF553B",
          "symbol": "circle"
         },
         "mode": "markers",
         "name": "Oral Session 6D: Deep Learning Architecture, Infrastructure",
         "orientation": "v",
         "showlegend": true,
         "x": {
          "dtype": "f4",
          "bdata": "RI3uPxpA1z41p/g+"
         },
         "xaxis": "x",
         "y": {
          "dtype": "f4",
          "bdata": "FPakv+rQib8jfWC/"
         },
         "yaxis": "y",
         "type": "scatter"
        },
        {
         "hovertemplate": "<b>%{hovertext}</b><br><br>Baseline=Oral Session 4A: Natural Language Processing<br>tsne_0=%{x}<br>tsne_1=%{y}<extra></extra>",
         "hovertext": [
          "zogaeVpbaE",
          "E18kRXTGmV",
          "cLga8GStdk"
         ],
         "legendgroup": "Oral Session 4A: Natural Language Processing",
         "marker": {
          "color": "#00cc96",
          "symbol": "circle"
         },
         "mode": "markers",
         "name": "Oral Session 4A: Natural Language Processing",
         "orientation": "v",
         "showlegend": true,
         "x": {
          "dtype": "f4",
          "bdata": "CE4Cv/SnPb9WbiLA"
         },
         "xaxis": "x",
         "y": {
          "dtype": "f4",
          "bdata": "HTtWwHW7fsB9Xtm/"
         },
         "yaxis": "y",
         "type": "scatter"
        },
        {
         "hovertemplate": "<b>%{hovertext}</b><br><br>Baseline=Oral Session 6C: New Data<br>tsne_0=%{x}<br>tsne_1=%{y}<extra></extra>",
         "hovertext": [
          "VXohja0vrQ",
          "KZlJF8kguO",
          "s1K5Z5QPog"
         ],
         "legendgroup": "Oral Session 6C: New Data",
         "marker": {
          "color": "#ab63fa",
          "symbol": "circle"
         },
         "mode": "markers",
         "name": "Oral Session 6C: New Data",
         "orientation": "v",
         "showlegend": true,
         "x": {
          "dtype": "f4",
          "bdata": "x9+UvCjMob++1qBA"
         },
         "xaxis": "x",
         "y": {
          "dtype": "f4",
          "bdata": "8GCswNeKpMDNDAnA"
         },
         "yaxis": "y",
         "type": "scatter"
        },
        {
         "fill": "toself",
         "fillcolor": "rgba(0,0,0,0.1)",
         "hoverinfo": "skip",
         "line": {
          "width": 1
         },
         "mode": "lines",
         "opacity": 0.2,
         "showlegend": false,
         "x": {
          "dtype": "f4",
          "bdata": "HqRPQJW0p79Vpw9AHqRPQA=="
         },
         "y": {
          "dtype": "f4",
          "bdata": "JSmpPxngsj/Is3nAJSmpPw=="
         },
         "type": "scatter"
        },
        {
         "fill": "toself",
         "fillcolor": "rgba(0,0,0,0.1)",
         "hoverinfo": "skip",
         "line": {
          "width": 1
         },
         "mode": "lines",
         "opacity": 0.2,
         "showlegend": false,
         "x": {
          "dtype": "f4",
          "bdata": "uRo7QBFuKkCqgjRAuRo7QA=="
         },
         "y": {
          "dtype": "f4",
          "bdata": "yJ1VQMEsD0Be6i5AyJ1VQA=="
         },
         "type": "scatter"
        },
        {
         "fill": "toself",
         "fillcolor": "rgba(0,0,0,0.1)",
         "hoverinfo": "skip",
         "line": {
          "width": 1
         },
         "mode": "lines",
         "opacity": 0.2,
         "showlegend": false,
         "x": {
          "dtype": "f4",
          "bdata": "YHSwP1dqhkDomB1AYHSwPw=="
         },
         "y": {
          "dtype": "f4",
          "bdata": "I9URQHhvk76TJEJAI9URQA=="
         },
         "type": "scatter"
        },
        {
         "fill": "toself",
         "fillcolor": "rgba(0,0,0,0.1)",
         "hoverinfo": "skip",
         "line": {
          "width": 1
         },
         "mode": "lines",
         "opacity": 0.2,
         "showlegend": false,
         "x": {
          "dtype": "f4",
          "bdata": "1F1EQNyO6L8JoqU/1F1EQA=="
         },
         "y": {
          "dtype": "f4",
          "bdata": "6ooRQEwDZcBhzlHA6ooRQA=="
         },
         "type": "scatter"
        },
        {
         "fill": "toself",
         "fillcolor": "rgba(0,0,0,0.1)",
         "hoverinfo": "skip",
         "line": {
          "width": 1
         },
         "mode": "lines",
         "opacity": 0.2,
         "showlegend": false,
         "x": {
          "dtype": "f4",
          "bdata": "gfYRQKcTOsAwUSLAgfYRQA=="
         },
         "y": {
          "dtype": "f4",
          "bdata": "4bXjP5P70r/Ludm/4bXjPw=="
         },
         "type": "scatter"
        },
        {
         "fill": "toself",
         "fillcolor": "rgba(0,0,0,0.1)",
         "hoverinfo": "skip",
         "line": {
          "width": 1
         },
         "mode": "lines",
         "opacity": 0.2,
         "showlegend": false,
         "x": {
          "dtype": "f4",
          "bdata": "ogMTQF7DPcDsRMs/ogMTQA=="
         },
         "y": {
          "dtype": "f4",
          "bdata": "gWpkQLFWOL89XnQ+gWpkQA=="
         },
         "type": "scatter"
        },
        {
         "fill": "toself",
         "fillcolor": "rgba(0,0,0,0.1)",
         "hoverinfo": "skip",
         "line": {
          "width": 1
         },
         "mode": "lines",
         "opacity": 0.2,
         "showlegend": false,
         "x": {
          "dtype": "f4",
          "bdata": "30EcQBfLHcBZ48I/30EcQA=="
         },
         "y": {
          "dtype": "f4",
          "bdata": "CoZ0QJGBir9aaXg/CoZ0QA=="
         },
         "type": "scatter"
        },
        {
         "fill": "toself",
         "fillcolor": "rgba(0,0,0,0.1)",
         "hoverinfo": "skip",
         "line": {
          "width": 1
         },
         "mode": "lines",
         "opacity": 0.2,
         "showlegend": false,
         "x": {
          "dtype": "f4",
          "bdata": "KcEMQCCFyT97tAVAKcEMQA=="
         },
         "y": {
          "dtype": "f4",
          "bdata": "sqF5QFs1CcBLw3DAsqF5QA=="
         },
         "type": "scatter"
        },
        {
         "fill": "toself",
         "fillcolor": "rgba(0,0,0,0.1)",
         "hoverinfo": "skip",
         "line": {
          "width": 1
         },
         "mode": "lines",
         "opacity": 0.2,
         "showlegend": false,
         "x": {
          "dtype": "f4",
          "bdata": "OBYiQAAM+b4BuHQ9OBYiQA=="
         },
         "y": {
          "dtype": "f4",
          "bdata": "9MoSwK5PZr+bvsS/9MoSwA=="
         },
         "type": "scatter"
        },
        {
         "fill": "toself",
         "fillcolor": "rgba(0,0,0,0.1)",
         "hoverinfo": "skip",
         "line": {
          "width": 1
         },
         "mode": "lines",
         "opacity": 0.2,
         "showlegend": false,
         "x": {
          "dtype": "f4",
          "bdata": "vIKlvwdJOsBFbNm/vIKlvw=="
         },
         "y": {
          "dtype": "f4",
          "bdata": "hGrDv83fQ8BFwFbAhGrDvw=="
         },
         "type": "scatter"
        },
        {
         "fill": "toself",
         "fillcolor": "rgba(0,0,0,0.1)",
         "hoverinfo": "skip",
         "line": {
          "width": 1
         },
         "mode": "lines",
         "opacity": 0.2,
         "showlegend": false,
         "x": {
          "dtype": "f4",
          "bdata": "Tp7wv/KV7T6mu4S/Tp7wvw=="
         },
         "y": {
          "dtype": "f4",
          "bdata": "CAxKwDGKzz67iqu/CAxKwA=="
         },
         "type": "scatter"
        },
        {
         "fill": "toself",
         "fillcolor": "rgba(0,0,0,0.1)",
         "hoverinfo": "skip",
         "line": {
          "width": 1
         },
         "mode": "lines",
         "opacity": 0.2,
         "showlegend": false,
         "x": {
          "dtype": "f4",
          "bdata": "LoOuv1QxakBv62A+LoOuvw=="
         },
         "y": {
          "dtype": "f4",
          "bdata": "o+VOv+0Hz7+xW8A+o+VOvw=="
         },
         "type": "scatter"
        },
        {
         "fill": "toself",
         "fillcolor": "rgba(0,0,0,0.1)",
         "hoverinfo": "skip",
         "line": {
          "width": 1
         },
         "mode": "lines",
         "opacity": 0.2,
         "showlegend": false,
         "x": {
          "dtype": "f4",
          "bdata": "pps9QIvylz4dujlApps9QA=="
         },
         "y": {
          "dtype": "f4",
          "bdata": "32Tvv3uCQsBAdE7A32Tvvw=="
         },
         "type": "scatter"
        },
        {
         "fill": "toself",
         "fillcolor": "rgba(0,0,0,0.1)",
         "hoverinfo": "skip",
         "line": {
          "width": 1
         },
         "mode": "lines",
         "opacity": 0.2,
         "showlegend": false,
         "x": {
          "dtype": "f4",
          "bdata": "eV82QH4ljr+yP/c/eV82QA=="
         },
         "y": {
          "dtype": "f4",
          "bdata": "OfkRwFrSPr8vHBzAOfkRwA=="
         },
         "type": "scatter"
        },
        {
         "fill": "toself",
         "fillcolor": "rgba(0,0,0,0.1)",
         "hoverinfo": "skip",
         "line": {
          "width": 1
         },
         "mode": "lines",
         "opacity": 0.2,
         "showlegend": false,
         "x": {
          "dtype": "f4",
          "bdata": "usaQQMYuWEDY1YZAusaQQA=="
         },
         "y": {
          "dtype": "f4",
          "bdata": "ZlyjP8fcBz7VxD3AZlyjPw=="
         },
         "type": "scatter"
        },
        {
         "fill": "toself",
         "fillcolor": "rgba(0,0,0,0.1)",
         "hoverinfo": "skip",
         "line": {
          "width": 1
         },
         "mode": "lines",
         "opacity": 0.2,
         "showlegend": false,
         "x": {
          "dtype": "f4",
          "bdata": "QZN4QKoGB0BhKTpAQZN4QA=="
         },
         "y": {
          "dtype": "f4",
          "bdata": "8DAuwA1oP8ChaUzA8DAuwA=="
         },
         "type": "scatter"
        },
        {
         "fill": "toself",
         "fillcolor": "rgba(0,0,0,0.1)",
         "hoverinfo": "skip",
         "line": {
          "width": 1
         },
         "mode": "lines",
         "opacity": 0.2,
         "showlegend": false,
         "x": {
          "dtype": "f4",
          "bdata": "Sh4oQFXzlUAQEYdASh4oQA=="
         },
         "y": {
          "dtype": "f4",
          "bdata": "jl9Ev0FHLEBWzx1Ajl9Evw=="
         },
         "type": "scatter"
        },
        {
         "fill": "toself",
         "fillcolor": "rgba(0,0,0,0.1)",
         "hoverinfo": "skip",
         "line": {
          "width": 1
         },
         "mode": "lines",
         "opacity": 0.2,
         "showlegend": false,
         "x": {
          "dtype": "f4",
          "bdata": "SwgfQOcoSL6RWgNASwgfQA=="
         },
         "y": {
          "dtype": "f4",
          "bdata": "+/cGvpD4QMCuA32/+/cGvg=="
         },
         "type": "scatter"
        },
        {
         "fill": "toself",
         "fillcolor": "rgba(0,0,0,0.1)",
         "hoverinfo": "skip",
         "line": {
          "width": 1
         },
         "mode": "lines",
         "opacity": 0.2,
         "showlegend": false,
         "x": {
          "dtype": "f4",
          "bdata": "gnaMQD76uL+j6aY/gnaMQA=="
         },
         "y": {
          "dtype": "f4",
          "bdata": "B5K7vu4Aub2uc8G/B5K7vg=="
         },
         "type": "scatter"
        },
        {
         "fill": "toself",
         "fillcolor": "rgba(0,0,0,0.1)",
         "hoverinfo": "skip",
         "line": {
          "width": 1
         },
         "mode": "lines",
         "opacity": 0.2,
         "showlegend": false,
         "x": {
          "dtype": "f4",
          "bdata": "XIeqQEAVOL2q2nxAXIeqQA=="
         },
         "y": {
          "dtype": "f4",
          "bdata": "5YTnPs6RpMCv74HA5YTnPg=="
         },
         "type": "scatter"
        },
        {
         "fill": "toself",
         "fillcolor": "rgba(0,0,0,0.1)",
         "hoverinfo": "skip",
         "line": {
          "width": 1
         },
         "mode": "lines",
         "opacity": 0.2,
         "showlegend": false,
         "x": {
          "dtype": "f4",
          "bdata": "eVMSwNlXFz/zIrW/eVMSwA=="
         },
         "y": {
          "dtype": "f4",
          "bdata": "XxyNwOdxE8D3ACPAXxyNwA=="
         },
         "type": "scatter"
        },
        {
         "fill": "toself",
         "fillcolor": "rgba(0,0,0,0.1)",
         "hoverinfo": "skip",
         "line": {
          "width": 1
         },
         "mode": "lines",
         "opacity": 0.2,
         "showlegend": false,
         "x": {
          "dtype": "f4",
          "bdata": "GkDXPkSN7j81p/g+GkDXPg=="
         },
         "y": {
          "dtype": "f4",
          "bdata": "6tCJvxT2pL8jfWC/6tCJvw=="
         },
         "type": "scatter"
        },
        {
         "fill": "toself",
         "fillcolor": "rgba(0,0,0,0.1)",
         "hoverinfo": "skip",
         "line": {
          "width": 1
         },
         "mode": "lines",
         "opacity": 0.2,
         "showlegend": false,
         "x": {
          "dtype": "f4",
          "bdata": "CE4Cv1ZuIsD0pz2/CE4Cvw=="
         },
         "y": {
          "dtype": "f4",
          "bdata": "HTtWwH1e2b91u37AHTtWwA=="
         },
         "type": "scatter"
        },
        {
         "fill": "toself",
         "fillcolor": "rgba(0,0,0,0.1)",
         "hoverinfo": "skip",
         "line": {
          "width": 1
         },
         "mode": "lines",
         "opacity": 0.2,
         "showlegend": false,
         "x": {
          "dtype": "f4",
          "bdata": "vtagQCjMob/H35S8vtagQA=="
         },
         "y": {
          "dtype": "f4",
          "bdata": "zQwJwNeKpMDwYKzAzQwJwA=="
         },
         "type": "scatter"
        }
       ],
       "layout": {
        "template": {
         "data": {
          "histogram2dcontour": [
           {
            "type": "histogram2dcontour",
            "colorbar": {
             "outlinewidth": 0,
             "ticks": ""
            },
            "colorscale": [
             [
              0.0,
              "#0d0887"
             ],
             [
              0.1111111111111111,
              "#46039f"
             ],
             [
              0.2222222222222222,
              "#7201a8"
             ],
             [
              0.3333333333333333,
              "#9c179e"
             ],
             [
              0.4444444444444444,
              "#bd3786"
             ],
             [
              0.5555555555555556,
              "#d8576b"
             ],
             [
              0.6666666666666666,
              "#ed7953"
             ],
             [
              0.7777777777777778,
              "#fb9f3a"
             ],
             [
              0.8888888888888888,
              "#fdca26"
             ],
             [
              1.0,
              "#f0f921"
             ]
            ]
           }
          ],
          "choropleth": [
           {
            "type": "choropleth",
            "colorbar": {
             "outlinewidth": 0,
             "ticks": ""
            }
           }
          ],
          "histogram2d": [
           {
            "type": "histogram2d",
            "colorbar": {
             "outlinewidth": 0,
             "ticks": ""
            },
            "colorscale": [
             [
              0.0,
              "#0d0887"
             ],
             [
              0.1111111111111111,
              "#46039f"
             ],
             [
              0.2222222222222222,
              "#7201a8"
             ],
             [
              0.3333333333333333,
              "#9c179e"
             ],
             [
              0.4444444444444444,
              "#bd3786"
             ],
             [
              0.5555555555555556,
              "#d8576b"
             ],
             [
              0.6666666666666666,
              "#ed7953"
             ],
             [
              0.7777777777777778,
              "#fb9f3a"
             ],
             [
              0.8888888888888888,
              "#fdca26"
             ],
             [
              1.0,
              "#f0f921"
             ]
            ]
           }
          ],
          "heatmap": [
           {
            "type": "heatmap",
            "colorbar": {
             "outlinewidth": 0,
             "ticks": ""
            },
            "colorscale": [
             [
              0.0,
              "#0d0887"
             ],
             [
              0.1111111111111111,
              "#46039f"
             ],
             [
              0.2222222222222222,
              "#7201a8"
             ],
             [
              0.3333333333333333,
              "#9c179e"
             ],
             [
              0.4444444444444444,
              "#bd3786"
             ],
             [
              0.5555555555555556,
              "#d8576b"
             ],
             [
              0.6666666666666666,
              "#ed7953"
             ],
             [
              0.7777777777777778,
              "#fb9f3a"
             ],
             [
              0.8888888888888888,
              "#fdca26"
             ],
             [
              1.0,
              "#f0f921"
             ]
            ]
           }
          ],
          "contourcarpet": [
           {
            "type": "contourcarpet",
            "colorbar": {
             "outlinewidth": 0,
             "ticks": ""
            }
           }
          ],
          "contour": [
           {
            "type": "contour",
            "colorbar": {
             "outlinewidth": 0,
             "ticks": ""
            },
            "colorscale": [
             [
              0.0,
              "#0d0887"
             ],
             [
              0.1111111111111111,
              "#46039f"
             ],
             [
              0.2222222222222222,
              "#7201a8"
             ],
             [
              0.3333333333333333,
              "#9c179e"
             ],
             [
              0.4444444444444444,
              "#bd3786"
             ],
             [
              0.5555555555555556,
              "#d8576b"
             ],
             [
              0.6666666666666666,
              "#ed7953"
             ],
             [
              0.7777777777777778,
              "#fb9f3a"
             ],
             [
              0.8888888888888888,
              "#fdca26"
             ],
             [
              1.0,
              "#f0f921"
             ]
            ]
           }
          ],
          "surface": [
           {
            "type": "surface",
            "colorbar": {
             "outlinewidth": 0,
             "ticks": ""
            },
            "colorscale": [
             [
              0.0,
              "#0d0887"
             ],
             [
              0.1111111111111111,
              "#46039f"
             ],
             [
              0.2222222222222222,
              "#7201a8"
             ],
             [
              0.3333333333333333,
              "#9c179e"
             ],
             [
              0.4444444444444444,
              "#bd3786"
             ],
             [
              0.5555555555555556,
              "#d8576b"
             ],
             [
              0.6666666666666666,
              "#ed7953"
             ],
             [
              0.7777777777777778,
              "#fb9f3a"
             ],
             [
              0.8888888888888888,
              "#fdca26"
             ],
             [
              1.0,
              "#f0f921"
             ]
            ]
           }
          ],
          "mesh3d": [
           {
            "type": "mesh3d",
            "colorbar": {
             "outlinewidth": 0,
             "ticks": ""
            }
           }
          ],
          "scatter": [
           {
            "marker": {
             "line": {
              "color": "#283442"
             }
            },
            "type": "scatter"
           }
          ],
          "parcoords": [
           {
            "type": "parcoords",
            "line": {
             "colorbar": {
              "outlinewidth": 0,
              "ticks": ""
             }
            }
           }
          ],
          "scatterpolargl": [
           {
            "type": "scatterpolargl",
            "marker": {
             "colorbar": {
              "outlinewidth": 0,
              "ticks": ""
             }
            }
           }
          ],
          "bar": [
           {
            "error_x": {
             "color": "#f2f5fa"
            },
            "error_y": {
             "color": "#f2f5fa"
            },
            "marker": {
             "line": {
              "color": "rgb(17,17,17)",
              "width": 0.5
             },
             "pattern": {
              "fillmode": "overlay",
              "size": 10,
              "solidity": 0.2
             }
            },
            "type": "bar"
           }
          ],
          "scattergeo": [
           {
            "type": "scattergeo",
            "marker": {
             "colorbar": {
              "outlinewidth": 0,
              "ticks": ""
             }
            }
           }
          ],
          "scatterpolar": [
           {
            "type": "scatterpolar",
            "marker": {
             "colorbar": {
              "outlinewidth": 0,
              "ticks": ""
             }
            }
           }
          ],
          "histogram": [
           {
            "marker": {
             "pattern": {
              "fillmode": "overlay",
              "size": 10,
              "solidity": 0.2
             }
            },
            "type": "histogram"
           }
          ],
          "scattergl": [
           {
            "marker": {
             "line": {
              "color": "#283442"
             }
            },
            "type": "scattergl"
           }
          ],
          "scatter3d": [
           {
            "type": "scatter3d",
            "line": {
             "colorbar": {
              "outlinewidth": 0,
              "ticks": ""
             }
            },
            "marker": {
             "colorbar": {
              "outlinewidth": 0,
              "ticks": ""
             }
            }
           }
          ],
          "scattermap": [
           {
            "type": "scattermap",
            "marker": {
             "colorbar": {
              "outlinewidth": 0,
              "ticks": ""
             }
            }
           }
          ],
          "scattermapbox": [
           {
            "type": "scattermapbox",
            "marker": {
             "colorbar": {
              "outlinewidth": 0,
              "ticks": ""
             }
            }
           }
          ],
          "scatterternary": [
           {
            "type": "scatterternary",
            "marker": {
             "colorbar": {
              "outlinewidth": 0,
              "ticks": ""
             }
            }
           }
          ],
          "scattercarpet": [
           {
            "type": "scattercarpet",
            "marker": {
             "colorbar": {
              "outlinewidth": 0,
              "ticks": ""
             }
            }
           }
          ],
          "carpet": [
           {
            "aaxis": {
             "endlinecolor": "#A2B1C6",
             "gridcolor": "#506784",
             "linecolor": "#506784",
             "minorgridcolor": "#506784",
             "startlinecolor": "#A2B1C6"
            },
            "baxis": {
             "endlinecolor": "#A2B1C6",
             "gridcolor": "#506784",
             "linecolor": "#506784",
             "minorgridcolor": "#506784",
             "startlinecolor": "#A2B1C6"
            },
            "type": "carpet"
           }
          ],
          "table": [
           {
            "cells": {
             "fill": {
              "color": "#506784"
             },
             "line": {
              "color": "rgb(17,17,17)"
             }
            },
            "header": {
             "fill": {
              "color": "#2a3f5f"
             },
             "line": {
              "color": "rgb(17,17,17)"
             }
            },
            "type": "table"
           }
          ],
          "barpolar": [
           {
            "marker": {
             "line": {
              "color": "rgb(17,17,17)",
              "width": 0.5
             },
             "pattern": {
              "fillmode": "overlay",
              "size": 10,
              "solidity": 0.2
             }
            },
            "type": "barpolar"
           }
          ],
          "pie": [
           {
            "automargin": true,
            "type": "pie"
           }
          ]
         },
         "layout": {
          "autotypenumbers": "strict",
          "colorway": [
           "#636efa",
           "#EF553B",
           "#00cc96",
           "#ab63fa",
           "#FFA15A",
           "#19d3f3",
           "#FF6692",
           "#B6E880",
           "#FF97FF",
           "#FECB52"
          ],
          "font": {
           "color": "#f2f5fa"
          },
          "hovermode": "closest",
          "hoverlabel": {
           "align": "left"
          },
          "paper_bgcolor": "rgb(17,17,17)",
          "plot_bgcolor": "rgb(17,17,17)",
          "polar": {
           "bgcolor": "rgb(17,17,17)",
           "angularaxis": {
            "gridcolor": "#506784",
            "linecolor": "#506784",
            "ticks": ""
           },
           "radialaxis": {
            "gridcolor": "#506784",
            "linecolor": "#506784",
            "ticks": ""
           }
          },
          "ternary": {
           "bgcolor": "rgb(17,17,17)",
           "aaxis": {
            "gridcolor": "#506784",
            "linecolor": "#506784",
            "ticks": ""
           },
           "baxis": {
            "gridcolor": "#506784",
            "linecolor": "#506784",
            "ticks": ""
           },
           "caxis": {
            "gridcolor": "#506784",
            "linecolor": "#506784",
            "ticks": ""
           }
          },
          "coloraxis": {
           "colorbar": {
            "outlinewidth": 0,
            "ticks": ""
           }
          },
          "colorscale": {
           "sequential": [
            [
             0.0,
             "#0d0887"
            ],
            [
             0.1111111111111111,
             "#46039f"
            ],
            [
             0.2222222222222222,
             "#7201a8"
            ],
            [
             0.3333333333333333,
             "#9c179e"
            ],
            [
             0.4444444444444444,
             "#bd3786"
            ],
            [
             0.5555555555555556,
             "#d8576b"
            ],
            [
             0.6666666666666666,
             "#ed7953"
            ],
            [
             0.7777777777777778,
             "#fb9f3a"
            ],
            [
             0.8888888888888888,
             "#fdca26"
            ],
            [
             1.0,
             "#f0f921"
            ]
           ],
           "sequentialminus": [
            [
             0.0,
             "#0d0887"
            ],
            [
             0.1111111111111111,
             "#46039f"
            ],
            [
             0.2222222222222222,
             "#7201a8"
            ],
            [
             0.3333333333333333,
             "#9c179e"
            ],
            [
             0.4444444444444444,
             "#bd3786"
            ],
            [
             0.5555555555555556,
             "#d8576b"
            ],
            [
             0.6666666666666666,
             "#ed7953"
            ],
            [
             0.7777777777777778,
             "#fb9f3a"
            ],
            [
             0.8888888888888888,
             "#fdca26"
            ],
            [
             1.0,
             "#f0f921"
            ]
           ],
           "diverging": [
            [
             0,
             "#8e0152"
            ],
            [
             0.1,
             "#c51b7d"
            ],
            [
             0.2,
             "#de77ae"
            ],
            [
             0.3,
             "#f1b6da"
            ],
            [
             0.4,
             "#fde0ef"
            ],
            [
             0.5,
             "#f7f7f7"
            ],
            [
             0.6,
             "#e6f5d0"
            ],
            [
             0.7,
             "#b8e186"
            ],
            [
             0.8,
             "#7fbc41"
            ],
            [
             0.9,
             "#4d9221"
            ],
            [
             1,
             "#276419"
            ]
           ]
          },
          "xaxis": {
           "gridcolor": "#283442",
           "linecolor": "#506784",
           "ticks": "",
           "title": {
            "standoff": 15
           },
           "zerolinecolor": "#283442",
           "automargin": true,
           "zerolinewidth": 2
          },
          "yaxis": {
           "gridcolor": "#283442",
           "linecolor": "#506784",
           "ticks": "",
           "title": {
            "standoff": 15
           },
           "zerolinecolor": "#283442",
           "automargin": true,
           "zerolinewidth": 2
          },
          "scene": {
           "xaxis": {
            "backgroundcolor": "rgb(17,17,17)",
            "gridcolor": "#506784",
            "linecolor": "#506784",
            "showbackground": true,
            "ticks": "",
            "zerolinecolor": "#C8D4E3",
            "gridwidth": 2
           },
           "yaxis": {
            "backgroundcolor": "rgb(17,17,17)",
            "gridcolor": "#506784",
            "linecolor": "#506784",
            "showbackground": true,
            "ticks": "",
            "zerolinecolor": "#C8D4E3",
            "gridwidth": 2
           },
           "zaxis": {
            "backgroundcolor": "rgb(17,17,17)",
            "gridcolor": "#506784",
            "linecolor": "#506784",
            "showbackground": true,
            "ticks": "",
            "zerolinecolor": "#C8D4E3",
            "gridwidth": 2
           }
          },
          "shapedefaults": {
           "line": {
            "color": "#f2f5fa"
           }
          },
          "annotationdefaults": {
           "arrowcolor": "#f2f5fa",
           "arrowhead": 0,
           "arrowwidth": 1
          },
          "geo": {
           "bgcolor": "rgb(17,17,17)",
           "landcolor": "rgb(17,17,17)",
           "subunitcolor": "#506784",
           "showland": true,
           "showlakes": true,
           "lakecolor": "rgb(17,17,17)"
          },
          "title": {
           "x": 0.05
          },
          "updatemenudefaults": {
           "bgcolor": "#506784",
           "borderwidth": 0
          },
          "sliderdefaults": {
           "bgcolor": "#C8D4E3",
           "borderwidth": 1,
           "bordercolor": "rgb(17,17,17)",
           "tickwidth": 0
          },
          "mapbox": {
           "style": "dark"
          }
         }
        },
        "xaxis": {
         "anchor": "y",
         "domain": [
          0.0,
          1.0
         ],
         "title": {
          "text": "tsne_0"
         }
        },
        "yaxis": {
         "anchor": "x",
         "domain": [
          0.0,
          1.0
         ],
         "title": {
          "text": "tsne_1"
         }
        },
        "legend": {
         "title": {
          "text": "Baseline"
         },
         "tracegroupgap": 0
        },
        "title": {
         "text": "t-SNE Clustering — Baseline"
        }
       },
       "config": {
        "plotlyServerURL": "https://plot.ly"
       }
      }
     },
     "metadata": {},
     "output_type": "display_data"
    },
    {
     "data": {
      "application/vnd.plotly.v1+json": {
       "data": [
        {
         "hovertemplate": "<b>%{hovertext}</b><br><br>GreedyCohesive=Oral Session 1A: Neuroscience and Intepretability<br>tsne_0=%{x}<br>tsne_1=%{y}<extra></extra>",
         "hovertext": [
          "aVh9KRZdRk",
          "KZlJF8kguO",
          "cu8FfaYriU"
         ],
         "legendgroup": "Oral Session 1A: Neuroscience and Intepretability",
         "marker": {
          "color": "#636efa",
          "symbol": "circle"
         },
         "mode": "markers",
         "name": "Oral Session 1A: Neuroscience and Intepretability",
         "orientation": "v",
         "showlegend": true,
         "x": {
          "dtype": "f4",
          "bdata": "lbSnvyjMob95UxLA"
         },
         "xaxis": "x",
         "y": {
          "dtype": "f4",
          "bdata": "GeCyP9eKpMBfHI3A"
         },
         "yaxis": "y",
         "type": "scatter"
        },
        {
         "hovertemplate": "<b>%{hovertext}</b><br><br>GreedyCohesive=Oral Session 1D: Learning Theory<br>tsne_0=%{x}<br>tsne_1=%{y}<extra></extra>",
         "hovertext": [
          "m1a4CrRJR7",
          "wpGJ2AX6SZ",
          "rtz4df9IF1"
         ],
         "legendgroup": "Oral Session 1D: Learning Theory",
         "marker": {
          "color": "#EF553B",
          "symbol": "circle"
         },
         "mode": "markers",
         "name": "Oral Session 1D: Learning Theory",
         "orientation": "v",
         "showlegend": true,
         "x": {
          "dtype": "f4",
          "bdata": "EW4qQNRdRECqgjRA"
         },
         "xaxis": "x",
         "y": {
          "dtype": "f4",
          "bdata": "wSwPQOqKEUBe6i5A"
         },
         "yaxis": "y",
         "type": "scatter"
        },
        {
         "hovertemplate": "<b>%{hovertext}</b><br><br>GreedyCohesive=Oral Session 6C: New Data<br>tsne_0=%{x}<br>tsne_1=%{y}<extra></extra>",
         "hovertext": [
          "0XeNkkENuI",
          "HRkniCWM3E",
          "VXohja0vrQ"
         ],
         "legendgroup": "Oral Session 6C: New Data",
         "marker": {
          "color": "#00cc96",
          "symbol": "circle"
         },
         "mode": "markers",
         "name": "Oral Session 6C: New Data",
         "orientation": "v",
         "showlegend": true,
         "x": {
          "dtype": "f4",
          "bdata": "YHSwP1yHqkDH35S8"
         },
         "xaxis": "x",
         "y": {
          "dtype": "f4",
          "bdata": "I9URQOWE5z7wYKzA"
         },
         "yaxis": "y",
         "type": "scatter"
        },
        {
         "hovertemplate": "<b>%{hovertext}</b><br><br>GreedyCohesive=Oral Session 1C: Optimization and Learning Theory<br>tsne_0=%{x}<br>tsne_1=%{y}<extra></extra>",
         "hovertext": [
          "aIPwlkdOut",
          "ge8GZn8Gtu",
          "qf2uZAdy1N"
         ],
         "legendgroup": "Oral Session 1C: Optimization and Learning Theory",
         "marker": {
          "color": "#ab63fa",
          "symbol": "circle"
         },
         "mode": "markers",
         "name": "Oral Session 1C: Optimization and Learning Theory",
         "orientation": "v",
         "showlegend": true,
         "x": {
          "dtype": "f4",
          "bdata": "gfYRQLkaO0DomB1A"
         },
         "xaxis": "x",
         "y": {
          "dtype": "f4",
          "bdata": "4bXjP8idVUCTJEJA"
         },
         "yaxis": "y",
         "type": "scatter"
        },
        {
         "hovertemplate": "<b>%{hovertext}</b><br><br>GreedyCohesive=Oral Session 2C: Reinforcement Learning<br>tsne_0=%{x}<br>tsne_1=%{y}<extra></extra>",
         "hovertext": [
          "UdxpjKO2F9",
          "R8SolCx62K",
          "mSaqxZVZW8"
         ],
         "legendgroup": "Oral Session 2C: Reinforcement Learning",
         "marker": {
          "color": "#FFA15A",
          "symbol": "circle"
         },
         "mode": "markers",
         "name": "Oral Session 2C: Reinforcement Learning",
         "orientation": "v",
         "showlegend": true,
         "x": {
          "dtype": "f4",
          "bdata": "7ETLP0oeKEBZ48I/"
         },
         "xaxis": "x",
         "y": {
          "dtype": "f4",
          "bdata": "PV50Po5fRL9aaXg/"
         },
         "yaxis": "y",
         "type": "scatter"
        },
        {
         "hovertemplate": "<b>%{hovertext}</b><br><br>GreedyCohesive=Oral Session 3C: Natural Language Processing<br>tsne_0=%{x}<br>tsne_1=%{y}<extra></extra>",
         "hovertext": [
          "LEzx6QRkRH",
          "Ddak3nSqQM",
          "pC44UMwy2v"
         ],
         "legendgroup": "Oral Session 3C: Natural Language Processing",
         "marker": {
          "color": "#19d3f3",
          "symbol": "circle"
         },
         "mode": "markers",
         "name": "Oral Session 3C: Natural Language Processing",
         "orientation": "v",
         "showlegend": true,
         "x": {
          "dtype": "f4",
          "bdata": "F8sdwF7DPcCmu4S/"
         },
         "xaxis": "x",
         "y": {
          "dtype": "f4",
          "bdata": "kYGKv7FWOL+7iqu/"
         },
         "yaxis": "y",
         "type": "scatter"
        },
        {
         "hovertemplate": "<b>%{hovertext}</b><br><br>GreedyCohesive=Oral Session 2B: Reinforcement Learning<br>tsne_0=%{x}<br>tsne_1=%{y}<extra></extra>",
         "hovertext": [
          "pGEY8JQ3qx",
          "6YIpvnkjUK",
          "eWUM5hRYgH"
         ],
         "legendgroup": "Oral Session 2B: Reinforcement Learning",
         "marker": {
          "color": "#FF6692",
          "symbol": "circle"
         },
         "mode": "markers",
         "name": "Oral Session 2B: Reinforcement Learning",
         "orientation": "v",
         "showlegend": true,
         "x": {
          "dtype": "f4",
          "bdata": "KcEMQKIDE0DfQRxA"
         },
         "xaxis": "x",
         "y": {
          "dtype": "f4",
          "bdata": "sqF5QIFqZEAKhnRA"
         },
         "yaxis": "y",
         "type": "scatter"
        },
        {
         "hovertemplate": "<b>%{hovertext}</b><br><br>GreedyCohesive=Oral Session 3D: Natural Language Processing<br>tsne_0=%{x}<br>tsne_1=%{y}<extra></extra>",
         "hovertext": [
          "0NMzBwqaAJ",
          "cFqAANINgW",
          "Mbd3QxXjq5"
         ],
         "legendgroup": "Oral Session 3D: Natural Language Processing",
         "marker": {
          "color": "#B6E880",
          "symbol": "circle"
         },
         "mode": "markers",
         "name": "Oral Session 3D: Natural Language Processing",
         "orientation": "v",
         "showlegend": true,
         "x": {
          "dtype": "f4",
          "bdata": "AAz5vi6Drr9+JY6/"
         },
         "xaxis": "x",
         "y": {
          "dtype": "f4",
          "bdata": "rk9mv6PlTr9a0j6/"
         },
         "yaxis": "y",
         "type": "scatter"
        },
        {
         "hovertemplate": "<b>%{hovertext}</b><br><br>GreedyCohesive=Oral Session 4A: Natural Language Processing<br>tsne_0=%{x}<br>tsne_1=%{y}<extra></extra>",
         "hovertext": [
          "bCMpdaQCNW",
          "4NJBV6Wp0h",
          "E18kRXTGmV"
         ],
         "legendgroup": "Oral Session 4A: Natural Language Processing",
         "marker": {
          "color": "#FF97FF",
          "symbol": "circle"
         },
         "mode": "markers",
         "name": "Oral Session 4A: Natural Language Processing",
         "orientation": "v",
         "showlegend": true,
         "x": {
          "dtype": "f4",
          "bdata": "B0k6wE6e8L/0pz2/"
         },
         "xaxis": "x",
         "y": {
          "dtype": "f4",
          "bdata": "zd9DwAgMSsB1u37A"
         },
         "yaxis": "y",
         "type": "scatter"
        },
        {
         "hovertemplate": "<b>%{hovertext}</b><br><br>GreedyCohesive=Oral Session 6B: Safety, New Data<br>tsne_0=%{x}<br>tsne_1=%{y}<extra></extra>",
         "hovertext": [
          "YvA8UF0I37",
          "mp8u2Pcmqz",
          "135eKqDoRR"
         ],
         "legendgroup": "Oral Session 6B: Safety, New Data",
         "marker": {
          "color": "#FECB52",
          "symbol": "circle"
         },
         "mode": "markers",
         "name": "Oral Session 6B: Safety, New Data",
         "orientation": "v",
         "showlegend": true,
         "x": {
          "dtype": "f4",
          "bdata": "8pXtPm/rYD7ZVxc/"
         },
         "xaxis": "x",
         "y": {
          "dtype": "f4",
          "bdata": "MYrPPrFbwD7ncRPA"
         },
         "yaxis": "y",
         "type": "scatter"
        },
        {
         "hovertemplate": "<b>%{hovertext}</b><br><br>GreedyCohesive=Oral Session 4D: Machine Vision<br>tsne_0=%{x}<br>tsne_1=%{y}<extra></extra>",
         "hovertext": [
          "TFZlFRl9Ks",
          "SSCtCq2MH2",
          "x7pjdDod6Z"
         ],
         "legendgroup": "Oral Session 4D: Machine Vision",
         "marker": {
          "color": "#636efa",
          "symbol": "circle"
         },
         "mode": "markers",
         "name": "Oral Session 4D: Machine Vision",
         "orientation": "v",
         "showlegend": true,
         "x": {
          "dtype": "f4",
          "bdata": "Hbo5QEGTeEBhKTpA"
         },
         "xaxis": "x",
         "y": {
          "dtype": "f4",
          "bdata": "QHROwPAwLsChaUzA"
         },
         "yaxis": "y",
         "type": "scatter"
        },
        {
         "hovertemplate": "<b>%{hovertext}</b><br><br>GreedyCohesive=Oral Session 5C: Machine Vision<br>tsne_0=%{x}<br>tsne_1=%{y}<extra></extra>",
         "hovertext": [
          "OycU0bAus6",
          "C4NbtYnyQg",
          "47loYmzxep"
         ],
         "legendgroup": "Oral Session 5C: Machine Vision",
         "marker": {
          "color": "#EF553B",
          "symbol": "circle"
         },
         "mode": "markers",
         "name": "Oral Session 5C: Machine Vision",
         "orientation": "v",
         "showlegend": true,
         "x": {
          "dtype": "f4",
          "bdata": "sj/3P5FaA0CqBgdA"
         },
         "xaxis": "x",
         "y": {
          "dtype": "f4",
          "bdata": "LxwcwK4Dfb8NaD/A"
         },
         "yaxis": "y",
         "type": "scatter"
        },
        {
         "hovertemplate": "<b>%{hovertext}</b><br><br>GreedyCohesive=Oral Session 6A: Machine Learning and Science, Safety<br>tsne_0=%{x}<br>tsne_1=%{y}<extra></extra>",
         "hovertext": [
          "QDYts5dYgq",
          "cfrDLD1wfO",
          "s1K5Z5QPog"
         ],
         "legendgroup": "Oral Session 6A: Machine Learning and Science, Safety",
         "marker": {
          "color": "#00cc96",
          "symbol": "circle"
         },
         "mode": "markers",
         "name": "Oral Session 6A: Machine Learning and Science, Safety",
         "orientation": "v",
         "showlegend": true,
         "x": {
          "dtype": "f4",
          "bdata": "2NWGQKrafEC+1qBA"
         },
         "xaxis": "x",
         "y": {
          "dtype": "f4",
          "bdata": "1cQ9wK/vgcDNDAnA"
         },
         "yaxis": "y",
         "type": "scatter"
        },
        {
         "hovertemplate": "<b>%{hovertext}</b><br><br>GreedyCohesive=Oral Session 3A: Generative Models<br>tsne_0=%{x}<br>tsne_1=%{y}<extra></extra>",
         "hovertext": [
          "tnh4LK72yj",
          "Pezt0xttae",
          "qEpi8uWX3N"
         ],
         "legendgroup": "Oral Session 3A: Generative Models",
         "marker": {
          "color": "#ab63fa",
          "symbol": "circle"
         },
         "mode": "markers",
         "name": "Oral Session 3A: Generative Models",
         "orientation": "v",
         "showlegend": true,
         "x": {
          "dtype": "f4",
          "bdata": "o+mmP0SN7j8BuHQ9"
         },
         "xaxis": "x",
         "y": {
          "dtype": "f4",
          "bdata": "rnPBvxT2pL+bvsS/"
         },
         "yaxis": "y",
         "type": "scatter"
        },
        {
         "hovertemplate": "<b>%{hovertext}</b><br><br>GreedyCohesive=Oral Session 1B: Human-AI Interaction<br>tsne_0=%{x}<br>tsne_1=%{y}<extra></extra>",
         "hovertext": [
          "kq166jACVP",
          "Oo7dlLgqQX",
          "DFr5hteojx"
         ],
         "legendgroup": "Oral Session 1B: Human-AI Interaction",
         "marker": {
          "color": "#FFA15A",
          "symbol": "circle"
         },
         "mode": "markers",
         "name": "Oral Session 1B: Human-AI Interaction",
         "orientation": "v",
         "showlegend": true,
         "x": {
          "dtype": "f4",
          "bdata": "8yK1v0Vs2b/cjui/"
         },
         "xaxis": "x",
         "y": {
          "dtype": "f4",
          "bdata": "9wAjwEXAVsBMA2XA"
         },
         "yaxis": "y",
         "type": "scatter"
        },
        {
         "hovertemplate": "<b>%{hovertext}</b><br><br>GreedyCohesive=Oral Session 5B: Graph Neural Networks, Causal Inference<br>tsne_0=%{x}<br>tsne_1=%{y}<extra></extra>",
         "hovertext": [
          "REIK4SZMJt",
          "4rCZeCZAON",
          "S2P6KPLtm8"
         ],
         "legendgroup": "Oral Session 5B: Graph Neural Networks, Causal Inference",
         "marker": {
          "color": "#19d3f3",
          "symbol": "circle"
         },
         "mode": "markers",
         "name": "Oral Session 5B: Graph Neural Networks, Causal Inference",
         "orientation": "v",
         "showlegend": true,
         "x": {
          "dtype": "f4",
          "bdata": "HqRPQBARh0BV85VA"
         },
         "xaxis": "x",
         "y": {
          "dtype": "f4",
          "bdata": "JSmpP1bPHUBBRyxA"
         },
         "yaxis": "y",
         "type": "scatter"
        },
        {
         "hovertemplate": "<b>%{hovertext}</b><br><br>GreedyCohesive=Oral Session 5D: Machine Learning and Science<br>tsne_0=%{x}<br>tsne_1=%{y}<extra></extra>",
         "hovertext": [
          "y10avdRFNK",
          "J2wI2rCG2u",
          "V0oJaLqY4E"
         ],
         "legendgroup": "Oral Session 5D: Machine Learning and Science",
         "marker": {
          "color": "#FF6692",
          "symbol": "circle"
         },
         "mode": "markers",
         "name": "Oral Session 5D: Machine Learning and Science",
         "orientation": "v",
         "showlegend": true,
         "x": {
          "dtype": "f4",
          "bdata": "V2qGQIJ2jEBUMWpA"
         },
         "xaxis": "x",
         "y": {
          "dtype": "f4",
          "bdata": "eG+TvgeSu77tB8+/"
         },
         "yaxis": "y",
         "type": "scatter"
        },
        {
         "hovertemplate": "<b>%{hovertext}</b><br><br>GreedyCohesive=Oral Session 2D: Generative Models<br>tsne_0=%{x}<br>tsne_1=%{y}<extra></extra>",
         "hovertext": [
          "r5spnrY6H3",
          "5zSCSE0k41",
          "8qu52Fl1Dt"
         ],
         "legendgroup": "Oral Session 2D: Generative Models",
         "marker": {
          "color": "#B6E880",
          "symbol": "circle"
         },
         "mode": "markers",
         "name": "Oral Session 2D: Generative Models",
         "orientation": "v",
         "showlegend": true,
         "x": {
          "dtype": "f4",
          "bdata": "CaKlP3u0BUBVpw9A"
         },
         "xaxis": "x",
         "y": {
          "dtype": "f4",
          "bdata": "Yc5RwEvDcMDIs3nA"
         },
         "yaxis": "y",
         "type": "scatter"
        },
        {
         "hovertemplate": "<b>%{hovertext}</b><br><br>GreedyCohesive=Oral Session 3B: Natural Language Processing<br>tsne_0=%{x}<br>tsne_1=%{y}<extra></extra>",
         "hovertext": [
          "NPKZF1WDjZ",
          "EKdk4vxKO4",
          "uNKlTQ8mBD"
         ],
         "legendgroup": "Oral Session 3B: Natural Language Processing",
         "marker": {
          "color": "#FF97FF",
          "symbol": "circle"
         },
         "mode": "markers",
         "name": "Oral Session 3B: Natural Language Processing",
         "orientation": "v",
         "showlegend": true,
         "x": {
          "dtype": "f4",
          "bdata": "vIKlv0AVOL0++ri/"
         },
         "xaxis": "x",
         "y": {
          "dtype": "f4",
          "bdata": "hGrDv86RpMDuALm9"
         },
         "yaxis": "y",
         "type": "scatter"
        },
        {
         "hovertemplate": "<b>%{hovertext}</b><br><br>GreedyCohesive=Oral Session 4C: Diffusion-based Models, Mathematics<br>tsne_0=%{x}<br>tsne_1=%{y}<extra></extra>",
         "hovertext": [
          "clTa4JFBML",
          "tQukGCDaNT",
          "bg6fVPVs3s"
         ],
         "legendgroup": "Oral Session 4C: Diffusion-based Models, Mathematics",
         "marker": {
          "color": "#FECB52",
          "symbol": "circle"
         },
         "mode": "markers",
         "name": "Oral Session 4C: Diffusion-based Models, Mathematics",
         "orientation": "v",
         "showlegend": true,
         "x": {
          "dtype": "f4",
          "bdata": "OBYiQHlfNkCmmz1A"
         },
         "xaxis": "x",
         "y": {
          "dtype": "f4",
          "bdata": "9MoSwDn5EcDfZO+/"
         },
         "yaxis": "y",
         "type": "scatter"
        },
        {
         "hovertemplate": "<b>%{hovertext}</b><br><br>GreedyCohesive=Oral Session 4B: Diffusion-based Models<br>tsne_0=%{x}<br>tsne_1=%{y}<extra></extra>",
         "hovertext": [
          "zogaeVpbaE",
          "3Odq2tGSpp",
          "Vi8AepAXGy"
         ],
         "legendgroup": "Oral Session 4B: Diffusion-based Models",
         "marker": {
          "color": "#636efa",
          "symbol": "circle"
         },
         "mode": "markers",
         "name": "Oral Session 4B: Diffusion-based Models",
         "orientation": "v",
         "showlegend": true,
         "x": {
          "dtype": "f4",
          "bdata": "CE4Cv4vylz7nKEi+"
         },
         "xaxis": "x",
         "y": {
          "dtype": "f4",
          "bdata": "HTtWwHuCQsCQ+EDA"
         },
         "yaxis": "y",
         "type": "scatter"
        },
        {
         "hovertemplate": "<b>%{hovertext}</b><br><br>GreedyCohesive=Oral Session 5A: Graph Neural Networks<br>tsne_0=%{x}<br>tsne_1=%{y}<extra></extra>",
         "hovertext": [
          "9O2sVnEHor",
          "4bKEFyUHT4",
          "8Fxqn1tZM1"
         ],
         "legendgroup": "Oral Session 5A: Graph Neural Networks",
         "marker": {
          "color": "#EF553B",
          "symbol": "circle"
         },
         "mode": "markers",
         "name": "Oral Session 5A: Graph Neural Networks",
         "orientation": "v",
         "showlegend": true,
         "x": {
          "dtype": "f4",
          "bdata": "usaQQEsIH0DGLlhA"
         },
         "xaxis": "x",
         "y": {
          "dtype": "f4",
          "bdata": "ZlyjP/v3Br7H3Ac+"
         },
         "yaxis": "y",
         "type": "scatter"
        },
        {
         "hovertemplate": "<b>%{hovertext}</b><br><br>GreedyCohesive=Oral Session 6D: Deep Learning Architecture, Infrastructure<br>tsne_0=%{x}<br>tsne_1=%{y}<extra></extra>",
         "hovertext": [
          "25Ioxw576r",
          "gojL67CfS8",
          "Y8YVCOMEpz"
         ],
         "legendgroup": "Oral Session 6D: Deep Learning Architecture, Infrastructure",
         "marker": {
          "color": "#00cc96",
          "symbol": "circle"
         },
         "mode": "markers",
         "name": "Oral Session 6D: Deep Learning Architecture, Infrastructure",
         "orientation": "v",
         "showlegend": true,
         "x": {
          "dtype": "f4",
          "bdata": "GkDXPiCFyT81p/g+"
         },
         "xaxis": "x",
         "y": {
          "dtype": "f4",
          "bdata": "6tCJv1s1CcAjfWC/"
         },
         "yaxis": "y",
         "type": "scatter"
        },
        {
         "hovertemplate": "<b>%{hovertext}</b><br><br>GreedyCohesive=Oral Session 2A: Agents<br>tsne_0=%{x}<br>tsne_1=%{y}<extra></extra>",
         "hovertext": [
          "iSwK1YqO7v",
          "cLga8GStdk",
          "4S8agvKjle"
         ],
         "legendgroup": "Oral Session 2A: Agents",
         "marker": {
          "color": "#ab63fa",
          "symbol": "circle"
         },
         "mode": "markers",
         "name": "Oral Session 2A: Agents",
         "orientation": "v",
         "showlegend": true,
         "x": {
          "dtype": "f4",
          "bdata": "pxM6wFZuIsAwUSLA"
         },
         "xaxis": "x",
         "y": {
          "dtype": "f4",
          "bdata": "k/vSv31e2b/Ludm/"
         },
         "yaxis": "y",
         "type": "scatter"
        },
        {
         "fill": "toself",
         "fillcolor": "rgba(0,0,0,0.1)",
         "hoverinfo": "skip",
         "line": {
          "width": 1
         },
         "mode": "lines",
         "opacity": 0.2,
         "showlegend": false,
         "x": {
          "dtype": "f4",
          "bdata": "eVMSwCjMob+VtKe/eVMSwA=="
         },
         "y": {
          "dtype": "f4",
          "bdata": "XxyNwNeKpMAZ4LI/XxyNwA=="
         },
         "type": "scatter"
        },
        {
         "fill": "toself",
         "fillcolor": "rgba(0,0,0,0.1)",
         "hoverinfo": "skip",
         "line": {
          "width": 1
         },
         "mode": "lines",
         "opacity": 0.2,
         "showlegend": false,
         "x": {
          "dtype": "f4",
          "bdata": "EW4qQNRdRECqgjRAEW4qQA=="
         },
         "y": {
          "dtype": "f4",
          "bdata": "wSwPQOqKEUBe6i5AwSwPQA=="
         },
         "type": "scatter"
        },
        {
         "fill": "toself",
         "fillcolor": "rgba(0,0,0,0.1)",
         "hoverinfo": "skip",
         "line": {
          "width": 1
         },
         "mode": "lines",
         "opacity": 0.2,
         "showlegend": false,
         "x": {
          "dtype": "f4",
          "bdata": "x9+UvFyHqkBgdLA/x9+UvA=="
         },
         "y": {
          "dtype": "f4",
          "bdata": "8GCswOWE5z4j1RFA8GCswA=="
         },
         "type": "scatter"
        },
        {
         "fill": "toself",
         "fillcolor": "rgba(0,0,0,0.1)",
         "hoverinfo": "skip",
         "line": {
          "width": 1
         },
         "mode": "lines",
         "opacity": 0.2,
         "showlegend": false,
         "x": {
          "dtype": "f4",
          "bdata": "gfYRQLkaO0DomB1AgfYRQA=="
         },
         "y": {
          "dtype": "f4",
          "bdata": "4bXjP8idVUCTJEJA4bXjPw=="
         },
         "type": "scatter"
        },
        {
         "fill": "toself",
         "fillcolor": "rgba(0,0,0,0.1)",
         "hoverinfo": "skip",
         "line": {
          "width": 1
         },
         "mode": "lines",
         "opacity": 0.2,
         "showlegend": false,
         "x": {
          "dtype": "f4",
          "bdata": "Sh4oQFnjwj/sRMs/Sh4oQA=="
         },
         "y": {
          "dtype": "f4",
          "bdata": "jl9Ev1ppeD89XnQ+jl9Evw=="
         },
         "type": "scatter"
        },
        {
         "fill": "toself",
         "fillcolor": "rgba(0,0,0,0.1)",
         "hoverinfo": "skip",
         "line": {
          "width": 1
         },
         "mode": "lines",
         "opacity": 0.2,
         "showlegend": false,
         "x": {
          "dtype": "f4",
          "bdata": "pruEv17DPcAXyx3ApruEvw=="
         },
         "y": {
          "dtype": "f4",
          "bdata": "u4qrv7FWOL+RgYq/u4qrvw=="
         },
         "type": "scatter"
        },
        {
         "fill": "toself",
         "fillcolor": "rgba(0,0,0,0.1)",
         "hoverinfo": "skip",
         "line": {
          "width": 1
         },
         "mode": "lines",
         "opacity": 0.2,
         "showlegend": false,
         "x": {
          "dtype": "f4",
          "bdata": "30EcQCnBDECiAxNA30EcQA=="
         },
         "y": {
          "dtype": "f4",
          "bdata": "CoZ0QLKheUCBamRACoZ0QA=="
         },
         "type": "scatter"
        },
        {
         "fill": "toself",
         "fillcolor": "rgba(0,0,0,0.1)",
         "hoverinfo": "skip",
         "line": {
          "width": 1
         },
         "mode": "lines",
         "opacity": 0.2,
         "showlegend": false,
         "x": {
          "dtype": "f4",
          "bdata": "LoOuvwAM+b5+JY6/LoOuvw=="
         },
         "y": {
          "dtype": "f4",
          "bdata": "o+VOv65PZr9a0j6/o+VOvw=="
         },
         "type": "scatter"
        },
        {
         "fill": "toself",
         "fillcolor": "rgba(0,0,0,0.1)",
         "hoverinfo": "skip",
         "line": {
          "width": 1
         },
         "mode": "lines",
         "opacity": 0.2,
         "showlegend": false,
         "x": {
          "dtype": "f4",
          "bdata": "B0k6wPSnPb9OnvC/B0k6wA=="
         },
         "y": {
          "dtype": "f4",
          "bdata": "zd9DwHW7fsAIDErAzd9DwA=="
         },
         "type": "scatter"
        },
        {
         "fill": "toself",
         "fillcolor": "rgba(0,0,0,0.1)",
         "hoverinfo": "skip",
         "line": {
          "width": 1
         },
         "mode": "lines",
         "opacity": 0.2,
         "showlegend": false,
         "x": {
          "dtype": "f4",
          "bdata": "b+tgPtlXFz/yle0+b+tgPg=="
         },
         "y": {
          "dtype": "f4",
          "bdata": "sVvAPudxE8Axis8+sVvAPg=="
         },
         "type": "scatter"
        },
        {
         "fill": "toself",
         "fillcolor": "rgba(0,0,0,0.1)",
         "hoverinfo": "skip",
         "line": {
          "width": 1
         },
         "mode": "lines",
         "opacity": 0.2,
         "showlegend": false,
         "x": {
          "dtype": "f4",
          "bdata": "Hbo5QEGTeEBhKTpAHbo5QA=="
         },
         "y": {
          "dtype": "f4",
          "bdata": "QHROwPAwLsChaUzAQHROwA=="
         },
         "type": "scatter"
        },
        {
         "fill": "toself",
         "fillcolor": "rgba(0,0,0,0.1)",
         "hoverinfo": "skip",
         "line": {
          "width": 1
         },
         "mode": "lines",
         "opacity": 0.2,
         "showlegend": false,
         "x": {
          "dtype": "f4",
          "bdata": "sj/3P6oGB0CRWgNAsj/3Pw=="
         },
         "y": {
          "dtype": "f4",
          "bdata": "LxwcwA1oP8CuA32/LxwcwA=="
         },
         "type": "scatter"
        },
        {
         "fill": "toself",
         "fillcolor": "rgba(0,0,0,0.1)",
         "hoverinfo": "skip",
         "line": {
          "width": 1
         },
         "mode": "lines",
         "opacity": 0.2,
         "showlegend": false,
         "x": {
          "dtype": "f4",
          "bdata": "qtp8QL7WoEDY1YZAqtp8QA=="
         },
         "y": {
          "dtype": "f4",
          "bdata": "r++BwM0MCcDVxD3Ar++BwA=="
         },
         "type": "scatter"
        },
        {
         "fill": "toself",
         "fillcolor": "rgba(0,0,0,0.1)",
         "hoverinfo": "skip",
         "line": {
          "width": 1
         },
         "mode": "lines",
         "opacity": 0.2,
         "showlegend": false,
         "x": {
          "dtype": "f4",
          "bdata": "RI3uPwG4dD2j6aY/RI3uPw=="
         },
         "y": {
          "dtype": "f4",
          "bdata": "FPakv5u+xL+uc8G/FPakvw=="
         },
         "type": "scatter"
        },
        {
         "fill": "toself",
         "fillcolor": "rgba(0,0,0,0.1)",
         "hoverinfo": "skip",
         "line": {
          "width": 1
         },
         "mode": "lines",
         "opacity": 0.2,
         "showlegend": false,
         "x": {
          "dtype": "f4",
          "bdata": "8yK1v9yO6L9FbNm/8yK1vw=="
         },
         "y": {
          "dtype": "f4",
          "bdata": "9wAjwEwDZcBFwFbA9wAjwA=="
         },
         "type": "scatter"
        },
        {
         "fill": "toself",
         "fillcolor": "rgba(0,0,0,0.1)",
         "hoverinfo": "skip",
         "line": {
          "width": 1
         },
         "mode": "lines",
         "opacity": 0.2,
         "showlegend": false,
         "x": {
          "dtype": "f4",
          "bdata": "HqRPQFXzlUAQEYdAHqRPQA=="
         },
         "y": {
          "dtype": "f4",
          "bdata": "JSmpP0FHLEBWzx1AJSmpPw=="
         },
         "type": "scatter"
        },
        {
         "fill": "toself",
         "fillcolor": "rgba(0,0,0,0.1)",
         "hoverinfo": "skip",
         "line": {
          "width": 1
         },
         "mode": "lines",
         "opacity": 0.2,
         "showlegend": false,
         "x": {
          "dtype": "f4",
          "bdata": "VDFqQIJ2jEBXaoZAVDFqQA=="
         },
         "y": {
          "dtype": "f4",
          "bdata": "7QfPvweSu754b5O+7QfPvw=="
         },
         "type": "scatter"
        },
        {
         "fill": "toself",
         "fillcolor": "rgba(0,0,0,0.1)",
         "hoverinfo": "skip",
         "line": {
          "width": 1
         },
         "mode": "lines",
         "opacity": 0.2,
         "showlegend": false,
         "x": {
          "dtype": "f4",
          "bdata": "CaKlP1WnD0B7tAVACaKlPw=="
         },
         "y": {
          "dtype": "f4",
          "bdata": "Yc5RwMizecBLw3DAYc5RwA=="
         },
         "type": "scatter"
        },
        {
         "fill": "toself",
         "fillcolor": "rgba(0,0,0,0.1)",
         "hoverinfo": "skip",
         "line": {
          "width": 1
         },
         "mode": "lines",
         "opacity": 0.2,
         "showlegend": false,
         "x": {
          "dtype": "f4",
          "bdata": "QBU4vT76uL+8gqW/QBU4vQ=="
         },
         "y": {
          "dtype": "f4",
          "bdata": "zpGkwO4Aub2EasO/zpGkwA=="
         },
         "type": "scatter"
        },
        {
         "fill": "toself",
         "fillcolor": "rgba(0,0,0,0.1)",
         "hoverinfo": "skip",
         "line": {
          "width": 1
         },
         "mode": "lines",
         "opacity": 0.2,
         "showlegend": false,
         "x": {
          "dtype": "f4",
          "bdata": "pps9QDgWIkB5XzZApps9QA=="
         },
         "y": {
          "dtype": "f4",
          "bdata": "32Tvv/TKEsA5+RHA32Tvvw=="
         },
         "type": "scatter"
        },
        {
         "fill": "toself",
         "fillcolor": "rgba(0,0,0,0.1)",
         "hoverinfo": "skip",
         "line": {
          "width": 1
         },
         "mode": "lines",
         "opacity": 0.2,
         "showlegend": false,
         "x": {
          "dtype": "f4",
          "bdata": "CE4Cv4vylz7nKEi+CE4Cvw=="
         },
         "y": {
          "dtype": "f4",
          "bdata": "HTtWwHuCQsCQ+EDAHTtWwA=="
         },
         "type": "scatter"
        },
        {
         "fill": "toself",
         "fillcolor": "rgba(0,0,0,0.1)",
         "hoverinfo": "skip",
         "line": {
          "width": 1
         },
         "mode": "lines",
         "opacity": 0.2,
         "showlegend": false,
         "x": {
          "dtype": "f4",
          "bdata": "usaQQEsIH0DGLlhAusaQQA=="
         },
         "y": {
          "dtype": "f4",
          "bdata": "ZlyjP/v3Br7H3Ac+ZlyjPw=="
         },
         "type": "scatter"
        },
        {
         "fill": "toself",
         "fillcolor": "rgba(0,0,0,0.1)",
         "hoverinfo": "skip",
         "line": {
          "width": 1
         },
         "mode": "lines",
         "opacity": 0.2,
         "showlegend": false,
         "x": {
          "dtype": "f4",
          "bdata": "GkDXPiCFyT81p/g+GkDXPg=="
         },
         "y": {
          "dtype": "f4",
          "bdata": "6tCJv1s1CcAjfWC/6tCJvw=="
         },
         "type": "scatter"
        },
        {
         "fill": "toself",
         "fillcolor": "rgba(0,0,0,0.1)",
         "hoverinfo": "skip",
         "line": {
          "width": 1
         },
         "mode": "lines",
         "opacity": 0.2,
         "showlegend": false,
         "x": {
          "dtype": "f4",
          "bdata": "pxM6wDBRIsBWbiLApxM6wA=="
         },
         "y": {
          "dtype": "f4",
          "bdata": "k/vSv8u52b99Xtm/k/vSvw=="
         },
         "type": "scatter"
        }
       ],
       "layout": {
        "template": {
         "data": {
          "histogram2dcontour": [
           {
            "type": "histogram2dcontour",
            "colorbar": {
             "outlinewidth": 0,
             "ticks": ""
            },
            "colorscale": [
             [
              0.0,
              "#0d0887"
             ],
             [
              0.1111111111111111,
              "#46039f"
             ],
             [
              0.2222222222222222,
              "#7201a8"
             ],
             [
              0.3333333333333333,
              "#9c179e"
             ],
             [
              0.4444444444444444,
              "#bd3786"
             ],
             [
              0.5555555555555556,
              "#d8576b"
             ],
             [
              0.6666666666666666,
              "#ed7953"
             ],
             [
              0.7777777777777778,
              "#fb9f3a"
             ],
             [
              0.8888888888888888,
              "#fdca26"
             ],
             [
              1.0,
              "#f0f921"
             ]
            ]
           }
          ],
          "choropleth": [
           {
            "type": "choropleth",
            "colorbar": {
             "outlinewidth": 0,
             "ticks": ""
            }
           }
          ],
          "histogram2d": [
           {
            "type": "histogram2d",
            "colorbar": {
             "outlinewidth": 0,
             "ticks": ""
            },
            "colorscale": [
             [
              0.0,
              "#0d0887"
             ],
             [
              0.1111111111111111,
              "#46039f"
             ],
             [
              0.2222222222222222,
              "#7201a8"
             ],
             [
              0.3333333333333333,
              "#9c179e"
             ],
             [
              0.4444444444444444,
              "#bd3786"
             ],
             [
              0.5555555555555556,
              "#d8576b"
             ],
             [
              0.6666666666666666,
              "#ed7953"
             ],
             [
              0.7777777777777778,
              "#fb9f3a"
             ],
             [
              0.8888888888888888,
              "#fdca26"
             ],
             [
              1.0,
              "#f0f921"
             ]
            ]
           }
          ],
          "heatmap": [
           {
            "type": "heatmap",
            "colorbar": {
             "outlinewidth": 0,
             "ticks": ""
            },
            "colorscale": [
             [
              0.0,
              "#0d0887"
             ],
             [
              0.1111111111111111,
              "#46039f"
             ],
             [
              0.2222222222222222,
              "#7201a8"
             ],
             [
              0.3333333333333333,
              "#9c179e"
             ],
             [
              0.4444444444444444,
              "#bd3786"
             ],
             [
              0.5555555555555556,
              "#d8576b"
             ],
             [
              0.6666666666666666,
              "#ed7953"
             ],
             [
              0.7777777777777778,
              "#fb9f3a"
             ],
             [
              0.8888888888888888,
              "#fdca26"
             ],
             [
              1.0,
              "#f0f921"
             ]
            ]
           }
          ],
          "contourcarpet": [
           {
            "type": "contourcarpet",
            "colorbar": {
             "outlinewidth": 0,
             "ticks": ""
            }
           }
          ],
          "contour": [
           {
            "type": "contour",
            "colorbar": {
             "outlinewidth": 0,
             "ticks": ""
            },
            "colorscale": [
             [
              0.0,
              "#0d0887"
             ],
             [
              0.1111111111111111,
              "#46039f"
             ],
             [
              0.2222222222222222,
              "#7201a8"
             ],
             [
              0.3333333333333333,
              "#9c179e"
             ],
             [
              0.4444444444444444,
              "#bd3786"
             ],
             [
              0.5555555555555556,
              "#d8576b"
             ],
             [
              0.6666666666666666,
              "#ed7953"
             ],
             [
              0.7777777777777778,
              "#fb9f3a"
             ],
             [
              0.8888888888888888,
              "#fdca26"
             ],
             [
              1.0,
              "#f0f921"
             ]
            ]
           }
          ],
          "surface": [
           {
            "type": "surface",
            "colorbar": {
             "outlinewidth": 0,
             "ticks": ""
            },
            "colorscale": [
             [
              0.0,
              "#0d0887"
             ],
             [
              0.1111111111111111,
              "#46039f"
             ],
             [
              0.2222222222222222,
              "#7201a8"
             ],
             [
              0.3333333333333333,
              "#9c179e"
             ],
             [
              0.4444444444444444,
              "#bd3786"
             ],
             [
              0.5555555555555556,
              "#d8576b"
             ],
             [
              0.6666666666666666,
              "#ed7953"
             ],
             [
              0.7777777777777778,
              "#fb9f3a"
             ],
             [
              0.8888888888888888,
              "#fdca26"
             ],
             [
              1.0,
              "#f0f921"
             ]
            ]
           }
          ],
          "mesh3d": [
           {
            "type": "mesh3d",
            "colorbar": {
             "outlinewidth": 0,
             "ticks": ""
            }
           }
          ],
          "scatter": [
           {
            "marker": {
             "line": {
              "color": "#283442"
             }
            },
            "type": "scatter"
           }
          ],
          "parcoords": [
           {
            "type": "parcoords",
            "line": {
             "colorbar": {
              "outlinewidth": 0,
              "ticks": ""
             }
            }
           }
          ],
          "scatterpolargl": [
           {
            "type": "scatterpolargl",
            "marker": {
             "colorbar": {
              "outlinewidth": 0,
              "ticks": ""
             }
            }
           }
          ],
          "bar": [
           {
            "error_x": {
             "color": "#f2f5fa"
            },
            "error_y": {
             "color": "#f2f5fa"
            },
            "marker": {
             "line": {
              "color": "rgb(17,17,17)",
              "width": 0.5
             },
             "pattern": {
              "fillmode": "overlay",
              "size": 10,
              "solidity": 0.2
             }
            },
            "type": "bar"
           }
          ],
          "scattergeo": [
           {
            "type": "scattergeo",
            "marker": {
             "colorbar": {
              "outlinewidth": 0,
              "ticks": ""
             }
            }
           }
          ],
          "scatterpolar": [
           {
            "type": "scatterpolar",
            "marker": {
             "colorbar": {
              "outlinewidth": 0,
              "ticks": ""
             }
            }
           }
          ],
          "histogram": [
           {
            "marker": {
             "pattern": {
              "fillmode": "overlay",
              "size": 10,
              "solidity": 0.2
             }
            },
            "type": "histogram"
           }
          ],
          "scattergl": [
           {
            "marker": {
             "line": {
              "color": "#283442"
             }
            },
            "type": "scattergl"
           }
          ],
          "scatter3d": [
           {
            "type": "scatter3d",
            "line": {
             "colorbar": {
              "outlinewidth": 0,
              "ticks": ""
             }
            },
            "marker": {
             "colorbar": {
              "outlinewidth": 0,
              "ticks": ""
             }
            }
           }
          ],
          "scattermap": [
           {
            "type": "scattermap",
            "marker": {
             "colorbar": {
              "outlinewidth": 0,
              "ticks": ""
             }
            }
           }
          ],
          "scattermapbox": [
           {
            "type": "scattermapbox",
            "marker": {
             "colorbar": {
              "outlinewidth": 0,
              "ticks": ""
             }
            }
           }
          ],
          "scatterternary": [
           {
            "type": "scatterternary",
            "marker": {
             "colorbar": {
              "outlinewidth": 0,
              "ticks": ""
             }
            }
           }
          ],
          "scattercarpet": [
           {
            "type": "scattercarpet",
            "marker": {
             "colorbar": {
              "outlinewidth": 0,
              "ticks": ""
             }
            }
           }
          ],
          "carpet": [
           {
            "aaxis": {
             "endlinecolor": "#A2B1C6",
             "gridcolor": "#506784",
             "linecolor": "#506784",
             "minorgridcolor": "#506784",
             "startlinecolor": "#A2B1C6"
            },
            "baxis": {
             "endlinecolor": "#A2B1C6",
             "gridcolor": "#506784",
             "linecolor": "#506784",
             "minorgridcolor": "#506784",
             "startlinecolor": "#A2B1C6"
            },
            "type": "carpet"
           }
          ],
          "table": [
           {
            "cells": {
             "fill": {
              "color": "#506784"
             },
             "line": {
              "color": "rgb(17,17,17)"
             }
            },
            "header": {
             "fill": {
              "color": "#2a3f5f"
             },
             "line": {
              "color": "rgb(17,17,17)"
             }
            },
            "type": "table"
           }
          ],
          "barpolar": [
           {
            "marker": {
             "line": {
              "color": "rgb(17,17,17)",
              "width": 0.5
             },
             "pattern": {
              "fillmode": "overlay",
              "size": 10,
              "solidity": 0.2
             }
            },
            "type": "barpolar"
           }
          ],
          "pie": [
           {
            "automargin": true,
            "type": "pie"
           }
          ]
         },
         "layout": {
          "autotypenumbers": "strict",
          "colorway": [
           "#636efa",
           "#EF553B",
           "#00cc96",
           "#ab63fa",
           "#FFA15A",
           "#19d3f3",
           "#FF6692",
           "#B6E880",
           "#FF97FF",
           "#FECB52"
          ],
          "font": {
           "color": "#f2f5fa"
          },
          "hovermode": "closest",
          "hoverlabel": {
           "align": "left"
          },
          "paper_bgcolor": "rgb(17,17,17)",
          "plot_bgcolor": "rgb(17,17,17)",
          "polar": {
           "bgcolor": "rgb(17,17,17)",
           "angularaxis": {
            "gridcolor": "#506784",
            "linecolor": "#506784",
            "ticks": ""
           },
           "radialaxis": {
            "gridcolor": "#506784",
            "linecolor": "#506784",
            "ticks": ""
           }
          },
          "ternary": {
           "bgcolor": "rgb(17,17,17)",
           "aaxis": {
            "gridcolor": "#506784",
            "linecolor": "#506784",
            "ticks": ""
           },
           "baxis": {
            "gridcolor": "#506784",
            "linecolor": "#506784",
            "ticks": ""
           },
           "caxis": {
            "gridcolor": "#506784",
            "linecolor": "#506784",
            "ticks": ""
           }
          },
          "coloraxis": {
           "colorbar": {
            "outlinewidth": 0,
            "ticks": ""
           }
          },
          "colorscale": {
           "sequential": [
            [
             0.0,
             "#0d0887"
            ],
            [
             0.1111111111111111,
             "#46039f"
            ],
            [
             0.2222222222222222,
             "#7201a8"
            ],
            [
             0.3333333333333333,
             "#9c179e"
            ],
            [
             0.4444444444444444,
             "#bd3786"
            ],
            [
             0.5555555555555556,
             "#d8576b"
            ],
            [
             0.6666666666666666,
             "#ed7953"
            ],
            [
             0.7777777777777778,
             "#fb9f3a"
            ],
            [
             0.8888888888888888,
             "#fdca26"
            ],
            [
             1.0,
             "#f0f921"
            ]
           ],
           "sequentialminus": [
            [
             0.0,
             "#0d0887"
            ],
            [
             0.1111111111111111,
             "#46039f"
            ],
            [
             0.2222222222222222,
             "#7201a8"
            ],
            [
             0.3333333333333333,
             "#9c179e"
            ],
            [
             0.4444444444444444,
             "#bd3786"
            ],
            [
             0.5555555555555556,
             "#d8576b"
            ],
            [
             0.6666666666666666,
             "#ed7953"
            ],
            [
             0.7777777777777778,
             "#fb9f3a"
            ],
            [
             0.8888888888888888,
             "#fdca26"
            ],
            [
             1.0,
             "#f0f921"
            ]
           ],
           "diverging": [
            [
             0,
             "#8e0152"
            ],
            [
             0.1,
             "#c51b7d"
            ],
            [
             0.2,
             "#de77ae"
            ],
            [
             0.3,
             "#f1b6da"
            ],
            [
             0.4,
             "#fde0ef"
            ],
            [
             0.5,
             "#f7f7f7"
            ],
            [
             0.6,
             "#e6f5d0"
            ],
            [
             0.7,
             "#b8e186"
            ],
            [
             0.8,
             "#7fbc41"
            ],
            [
             0.9,
             "#4d9221"
            ],
            [
             1,
             "#276419"
            ]
           ]
          },
          "xaxis": {
           "gridcolor": "#283442",
           "linecolor": "#506784",
           "ticks": "",
           "title": {
            "standoff": 15
           },
           "zerolinecolor": "#283442",
           "automargin": true,
           "zerolinewidth": 2
          },
          "yaxis": {
           "gridcolor": "#283442",
           "linecolor": "#506784",
           "ticks": "",
           "title": {
            "standoff": 15
           },
           "zerolinecolor": "#283442",
           "automargin": true,
           "zerolinewidth": 2
          },
          "scene": {
           "xaxis": {
            "backgroundcolor": "rgb(17,17,17)",
            "gridcolor": "#506784",
            "linecolor": "#506784",
            "showbackground": true,
            "ticks": "",
            "zerolinecolor": "#C8D4E3",
            "gridwidth": 2
           },
           "yaxis": {
            "backgroundcolor": "rgb(17,17,17)",
            "gridcolor": "#506784",
            "linecolor": "#506784",
            "showbackground": true,
            "ticks": "",
            "zerolinecolor": "#C8D4E3",
            "gridwidth": 2
           },
           "zaxis": {
            "backgroundcolor": "rgb(17,17,17)",
            "gridcolor": "#506784",
            "linecolor": "#506784",
            "showbackground": true,
            "ticks": "",
            "zerolinecolor": "#C8D4E3",
            "gridwidth": 2
           }
          },
          "shapedefaults": {
           "line": {
            "color": "#f2f5fa"
           }
          },
          "annotationdefaults": {
           "arrowcolor": "#f2f5fa",
           "arrowhead": 0,
           "arrowwidth": 1
          },
          "geo": {
           "bgcolor": "rgb(17,17,17)",
           "landcolor": "rgb(17,17,17)",
           "subunitcolor": "#506784",
           "showland": true,
           "showlakes": true,
           "lakecolor": "rgb(17,17,17)"
          },
          "title": {
           "x": 0.05
          },
          "updatemenudefaults": {
           "bgcolor": "#506784",
           "borderwidth": 0
          },
          "sliderdefaults": {
           "bgcolor": "#C8D4E3",
           "borderwidth": 1,
           "bordercolor": "rgb(17,17,17)",
           "tickwidth": 0
          },
          "mapbox": {
           "style": "dark"
          }
         }
        },
        "xaxis": {
         "anchor": "y",
         "domain": [
          0.0,
          1.0
         ],
         "title": {
          "text": "tsne_0"
         }
        },
        "yaxis": {
         "anchor": "x",
         "domain": [
          0.0,
          1.0
         ],
         "title": {
          "text": "tsne_1"
         }
        },
        "legend": {
         "title": {
          "text": "GreedyCohesive"
         },
         "tracegroupgap": 0
        },
        "title": {
         "text": "t-SNE Clustering — GreedyCohesive"
        }
       },
       "config": {
        "plotlyServerURL": "https://plot.ly"
       }
      }
     },
     "metadata": {},
     "output_type": "display_data"
    },
    {
     "data": {
      "application/vnd.plotly.v1+json": {
       "data": [
        {
         "hovertemplate": "<b>%{hovertext}</b><br><br>KMedoids=Oral Session 1A: Neuroscience and Intepretability<br>tsne_0=%{x}<br>tsne_1=%{y}<extra></extra>",
         "hovertext": [
          "aVh9KRZdRk"
         ],
         "legendgroup": "Oral Session 1A: Neuroscience and Intepretability",
         "marker": {
          "color": "#636efa",
          "symbol": "circle"
         },
         "mode": "markers",
         "name": "Oral Session 1A: Neuroscience and Intepretability",
         "orientation": "v",
         "showlegend": true,
         "x": {
          "dtype": "f4",
          "bdata": "lbSnvw=="
         },
         "xaxis": "x",
         "y": {
          "dtype": "f4",
          "bdata": "GeCyPw=="
         },
         "yaxis": "y",
         "type": "scatter"
        },
        {
         "hovertemplate": "<b>%{hovertext}</b><br><br>KMedoids=Oral Session 1D: Learning Theory<br>tsne_0=%{x}<br>tsne_1=%{y}<extra></extra>",
         "hovertext": [
          "m1a4CrRJR7",
          "wpGJ2AX6SZ",
          "aIPwlkdOut",
          "rtz4df9IF1",
          "4rCZeCZAON"
         ],
         "legendgroup": "Oral Session 1D: Learning Theory",
         "marker": {
          "color": "#EF553B",
          "symbol": "circle"
         },
         "mode": "markers",
         "name": "Oral Session 1D: Learning Theory",
         "orientation": "v",
         "showlegend": true,
         "x": {
          "dtype": "f4",
          "bdata": "EW4qQNRdRECB9hFAqoI0QBARh0A="
         },
         "xaxis": "x",
         "y": {
          "dtype": "f4",
          "bdata": "wSwPQOqKEUDhteM/XuouQFbPHUA="
         },
         "yaxis": "y",
         "type": "scatter"
        },
        {
         "hovertemplate": "<b>%{hovertext}</b><br><br>KMedoids=Oral Session 1C: Optimization and Learning Theory<br>tsne_0=%{x}<br>tsne_1=%{y}<extra></extra>",
         "hovertext": [
          "0XeNkkENuI",
          "y10avdRFNK",
          "J2wI2rCG2u"
         ],
         "legendgroup": "Oral Session 1C: Optimization and Learning Theory",
         "marker": {
          "color": "#00cc96",
          "symbol": "circle"
         },
         "mode": "markers",
         "name": "Oral Session 1C: Optimization and Learning Theory",
         "orientation": "v",
         "showlegend": true,
         "x": {
          "dtype": "f4",
          "bdata": "YHSwP1dqhkCCdoxA"
         },
         "xaxis": "x",
         "y": {
          "dtype": "f4",
          "bdata": "I9URQHhvk74Hkru+"
         },
         "yaxis": "y",
         "type": "scatter"
        },
        {
         "hovertemplate": "<b>%{hovertext}</b><br><br>KMedoids=Oral Session 3D: Natural Language Processing<br>tsne_0=%{x}<br>tsne_1=%{y}<extra></extra>",
         "hovertext": [
          "UdxpjKO2F9",
          "clTa4JFBML",
          "tQukGCDaNT",
          "bg6fVPVs3s",
          "V0oJaLqY4E"
         ],
         "legendgroup": "Oral Session 3D: Natural Language Processing",
         "marker": {
          "color": "#ab63fa",
          "symbol": "circle"
         },
         "mode": "markers",
         "name": "Oral Session 3D: Natural Language Processing",
         "orientation": "v",
         "showlegend": true,
         "x": {
          "dtype": "f4",
          "bdata": "7ETLPzgWIkB5XzZApps9QFQxakA="
         },
         "xaxis": "x",
         "y": {
          "dtype": "f4",
          "bdata": "PV50PvTKEsA5+RHA32Tvv+0Hz78="
         },
         "yaxis": "y",
         "type": "scatter"
        },
        {
         "hovertemplate": "<b>%{hovertext}</b><br><br>KMedoids=Oral Session 2A: Agents<br>tsne_0=%{x}<br>tsne_1=%{y}<extra></extra>",
         "hovertext": [
          "LEzx6QRkRH",
          "iSwK1YqO7v",
          "Ddak3nSqQM",
          "cLga8GStdk",
          "4S8agvKjle"
         ],
         "legendgroup": "Oral Session 2A: Agents",
         "marker": {
          "color": "#FFA15A",
          "symbol": "circle"
         },
         "mode": "markers",
         "name": "Oral Session 2A: Agents",
         "orientation": "v",
         "showlegend": true,
         "x": {
          "dtype": "f4",
          "bdata": "F8sdwKcTOsBewz3AVm4iwDBRIsA="
         },
         "xaxis": "x",
         "y": {
          "dtype": "f4",
          "bdata": "kYGKv5P70r+xVji/fV7Zv8u52b8="
         },
         "yaxis": "y",
         "type": "scatter"
        },
        {
         "hovertemplate": "<b>%{hovertext}</b><br><br>KMedoids=Oral Session 2B: Reinforcement Learning<br>tsne_0=%{x}<br>tsne_1=%{y}<extra></extra>",
         "hovertext": [
          "pGEY8JQ3qx",
          "6YIpvnkjUK",
          "eWUM5hRYgH",
          "ge8GZn8Gtu",
          "qf2uZAdy1N"
         ],
         "legendgroup": "Oral Session 2B: Reinforcement Learning",
         "marker": {
          "color": "#19d3f3",
          "symbol": "circle"
         },
         "mode": "markers",
         "name": "Oral Session 2B: Reinforcement Learning",
         "orientation": "v",
         "showlegend": true,
         "x": {
          "dtype": "f4",
          "bdata": "KcEMQKIDE0DfQRxAuRo7QOiYHUA="
         },
         "xaxis": "x",
         "y": {
          "dtype": "f4",
          "bdata": "sqF5QIFqZEAKhnRAyJ1VQJMkQkA="
         },
         "yaxis": "y",
         "type": "scatter"
        },
        {
         "hovertemplate": "<b>%{hovertext}</b><br><br>KMedoids=Oral Session 3B: Natural Language Processing<br>tsne_0=%{x}<br>tsne_1=%{y}<extra></extra>",
         "hovertext": [
          "0NMzBwqaAJ",
          "cFqAANINgW",
          "NPKZF1WDjZ",
          "pC44UMwy2v",
          "uNKlTQ8mBD",
          "Mbd3QxXjq5"
         ],
         "legendgroup": "Oral Session 3B: Natural Language Processing",
         "marker": {
          "color": "#FF6692",
          "symbol": "circle"
         },
         "mode": "markers",
         "name": "Oral Session 3B: Natural Language Processing",
         "orientation": "v",
         "showlegend": true,
         "x": {
          "dtype": "f4",
          "bdata": "AAz5vi6Drr+8gqW/pruEvz76uL9+JY6/"
         },
         "xaxis": "x",
         "y": {
          "dtype": "f4",
          "bdata": "rk9mv6PlTr+EasO/u4qrv+4Aub1a0j6/"
         },
         "yaxis": "y",
         "type": "scatter"
        },
        {
         "hovertemplate": "<b>%{hovertext}</b><br><br>KMedoids=Oral Session 6B: Safety, New Data<br>tsne_0=%{x}<br>tsne_1=%{y}<extra></extra>",
         "hovertext": [
          "bCMpdaQCNW",
          "kq166jACVP",
          "zogaeVpbaE",
          "3Odq2tGSpp",
          "135eKqDoRR",
          "Vi8AepAXGy",
          "E18kRXTGmV"
         ],
         "legendgroup": "Oral Session 6B: Safety, New Data",
         "marker": {
          "color": "#B6E880",
          "symbol": "circle"
         },
         "mode": "markers",
         "name": "Oral Session 6B: Safety, New Data",
         "orientation": "v",
         "showlegend": true,
         "x": {
          "dtype": "f4",
          "bdata": "B0k6wPMitb8ITgK/i/KXPtlXFz/nKEi+9Kc9vw=="
         },
         "xaxis": "x",
         "y": {
          "dtype": "f4",
          "bdata": "zd9DwPcAI8AdO1bAe4JCwOdxE8CQ+EDAdbt+wA=="
         },
         "yaxis": "y",
         "type": "scatter"
        },
        {
         "hovertemplate": "<b>%{hovertext}</b><br><br>KMedoids=Oral Session 3C: Natural Language Processing<br>tsne_0=%{x}<br>tsne_1=%{y}<extra></extra>",
         "hovertext": [
          "YvA8UF0I37",
          "mp8u2Pcmqz"
         ],
         "legendgroup": "Oral Session 3C: Natural Language Processing",
         "marker": {
          "color": "#FF97FF",
          "symbol": "circle"
         },
         "mode": "markers",
         "name": "Oral Session 3C: Natural Language Processing",
         "orientation": "v",
         "showlegend": true,
         "x": {
          "dtype": "f4",
          "bdata": "8pXtPm/rYD4="
         },
         "xaxis": "x",
         "y": {
          "dtype": "f4",
          "bdata": "MYrPPrFbwD4="
         },
         "yaxis": "y",
         "type": "scatter"
        },
        {
         "hovertemplate": "<b>%{hovertext}</b><br><br>KMedoids=Oral Session 4D: Machine Vision<br>tsne_0=%{x}<br>tsne_1=%{y}<extra></extra>",
         "hovertext": [
          "TFZlFRl9Ks",
          "QDYts5dYgq",
          "SSCtCq2MH2",
          "r5spnrY6H3",
          "5zSCSE0k41",
          "x7pjdDod6Z",
          "8qu52Fl1Dt"
         ],
         "legendgroup": "Oral Session 4D: Machine Vision",
         "marker": {
          "color": "#FECB52",
          "symbol": "circle"
         },
         "mode": "markers",
         "name": "Oral Session 4D: Machine Vision",
         "orientation": "v",
         "showlegend": true,
         "x": {
          "dtype": "f4",
          "bdata": "Hbo5QNjVhkBBk3hACaKlP3u0BUBhKTpAVacPQA=="
         },
         "xaxis": "x",
         "y": {
          "dtype": "f4",
          "bdata": "QHROwNXEPcDwMC7AYc5RwEvDcMChaUzAyLN5wA=="
         },
         "yaxis": "y",
         "type": "scatter"
        },
        {
         "hovertemplate": "<b>%{hovertext}</b><br><br>KMedoids=Oral Session 4C: Diffusion-based Models, Mathematics<br>tsne_0=%{x}<br>tsne_1=%{y}<extra></extra>",
         "hovertext": [
          "OycU0bAus6",
          "tnh4LK72yj",
          "Pezt0xttae",
          "47loYmzxep"
         ],
         "legendgroup": "Oral Session 4C: Diffusion-based Models, Mathematics",
         "marker": {
          "color": "#636efa",
          "symbol": "circle"
         },
         "mode": "markers",
         "name": "Oral Session 4C: Diffusion-based Models, Mathematics",
         "orientation": "v",
         "showlegend": true,
         "x": {
          "dtype": "f4",
          "bdata": "sj/3P6Pppj9Eje4/qgYHQA=="
         },
         "xaxis": "x",
         "y": {
          "dtype": "f4",
          "bdata": "LxwcwK5zwb8U9qS/DWg/wA=="
         },
         "yaxis": "y",
         "type": "scatter"
        },
        {
         "hovertemplate": "<b>%{hovertext}</b><br><br>KMedoids=Oral Session 3A: Generative Models<br>tsne_0=%{x}<br>tsne_1=%{y}<extra></extra>",
         "hovertext": [
          "R8SolCx62K",
          "C4NbtYnyQg",
          "8Fxqn1tZM1"
         ],
         "legendgroup": "Oral Session 3A: Generative Models",
         "marker": {
          "color": "#EF553B",
          "symbol": "circle"
         },
         "mode": "markers",
         "name": "Oral Session 3A: Generative Models",
         "orientation": "v",
         "showlegend": true,
         "x": {
          "dtype": "f4",
          "bdata": "Sh4oQJFaA0DGLlhA"
         },
         "xaxis": "x",
         "y": {
          "dtype": "f4",
          "bdata": "jl9Ev64Dfb/H3Ac+"
         },
         "yaxis": "y",
         "type": "scatter"
        },
        {
         "hovertemplate": "<b>%{hovertext}</b><br><br>KMedoids=Oral Session 5D: Machine Learning and Science<br>tsne_0=%{x}<br>tsne_1=%{y}<extra></extra>",
         "hovertext": [
          "HRkniCWM3E"
         ],
         "legendgroup": "Oral Session 5D: Machine Learning and Science",
         "marker": {
          "color": "#00cc96",
          "symbol": "circle"
         },
         "mode": "markers",
         "name": "Oral Session 5D: Machine Learning and Science",
         "orientation": "v",
         "showlegend": true,
         "x": {
          "dtype": "f4",
          "bdata": "XIeqQA=="
         },
         "xaxis": "x",
         "y": {
          "dtype": "f4",
          "bdata": "5YTnPg=="
         },
         "yaxis": "y",
         "type": "scatter"
        },
        {
         "hovertemplate": "<b>%{hovertext}</b><br><br>KMedoids=Oral Session 4B: Diffusion-based Models<br>tsne_0=%{x}<br>tsne_1=%{y}<extra></extra>",
         "hovertext": [
          "REIK4SZMJt"
         ],
         "legendgroup": "Oral Session 4B: Diffusion-based Models",
         "marker": {
          "color": "#ab63fa",
          "symbol": "circle"
         },
         "mode": "markers",
         "name": "Oral Session 4B: Diffusion-based Models",
         "orientation": "v",
         "showlegend": true,
         "x": {
          "dtype": "f4",
          "bdata": "HqRPQA=="
         },
         "xaxis": "x",
         "y": {
          "dtype": "f4",
          "bdata": "JSmpPw=="
         },
         "yaxis": "y",
         "type": "scatter"
        },
        {
         "hovertemplate": "<b>%{hovertext}</b><br><br>KMedoids=Oral Session 1B: Human-AI Interaction<br>tsne_0=%{x}<br>tsne_1=%{y}<extra></extra>",
         "hovertext": [
          "4NJBV6Wp0h",
          "Oo7dlLgqQX",
          "DFr5hteojx",
          "cu8FfaYriU"
         ],
         "legendgroup": "Oral Session 1B: Human-AI Interaction",
         "marker": {
          "color": "#FFA15A",
          "symbol": "circle"
         },
         "mode": "markers",
         "name": "Oral Session 1B: Human-AI Interaction",
         "orientation": "v",
         "showlegend": true,
         "x": {
          "dtype": "f4",
          "bdata": "Tp7wv0Vs2b/cjui/eVMSwA=="
         },
         "xaxis": "x",
         "y": {
          "dtype": "f4",
          "bdata": "CAxKwEXAVsBMA2XAXxyNwA=="
         },
         "yaxis": "y",
         "type": "scatter"
        },
        {
         "hovertemplate": "<b>%{hovertext}</b><br><br>KMedoids=Oral Session 5A: Graph Neural Networks<br>tsne_0=%{x}<br>tsne_1=%{y}<extra></extra>",
         "hovertext": [
          "9O2sVnEHor"
         ],
         "legendgroup": "Oral Session 5A: Graph Neural Networks",
         "marker": {
          "color": "#19d3f3",
          "symbol": "circle"
         },
         "mode": "markers",
         "name": "Oral Session 5A: Graph Neural Networks",
         "orientation": "v",
         "showlegend": true,
         "x": {
          "dtype": "f4",
          "bdata": "usaQQA=="
         },
         "xaxis": "x",
         "y": {
          "dtype": "f4",
          "bdata": "ZlyjPw=="
         },
         "yaxis": "y",
         "type": "scatter"
        },
        {
         "hovertemplate": "<b>%{hovertext}</b><br><br>KMedoids=Oral Session 5C: Machine Vision<br>tsne_0=%{x}<br>tsne_1=%{y}<extra></extra>",
         "hovertext": [
          "4bKEFyUHT4"
         ],
         "legendgroup": "Oral Session 5C: Machine Vision",
         "marker": {
          "color": "#FF6692",
          "symbol": "circle"
         },
         "mode": "markers",
         "name": "Oral Session 5C: Machine Vision",
         "orientation": "v",
         "showlegend": true,
         "x": {
          "dtype": "f4",
          "bdata": "SwgfQA=="
         },
         "xaxis": "x",
         "y": {
          "dtype": "f4",
          "bdata": "+/cGvg=="
         },
         "yaxis": "y",
         "type": "scatter"
        },
        {
         "hovertemplate": "<b>%{hovertext}</b><br><br>KMedoids=Oral Session 2D: Generative Models<br>tsne_0=%{x}<br>tsne_1=%{y}<extra></extra>",
         "hovertext": [
          "EKdk4vxKO4",
          "VXohja0vrQ"
         ],
         "legendgroup": "Oral Session 2D: Generative Models",
         "marker": {
          "color": "#B6E880",
          "symbol": "circle"
         },
         "mode": "markers",
         "name": "Oral Session 2D: Generative Models",
         "orientation": "v",
         "showlegend": true,
         "x": {
          "dtype": "f4",
          "bdata": "QBU4vcfflLw="
         },
         "xaxis": "x",
         "y": {
          "dtype": "f4",
          "bdata": "zpGkwPBgrMA="
         },
         "yaxis": "y",
         "type": "scatter"
        },
        {
         "hovertemplate": "<b>%{hovertext}</b><br><br>KMedoids=Oral Session 6D: Deep Learning Architecture, Infrastructure<br>tsne_0=%{x}<br>tsne_1=%{y}<extra></extra>",
         "hovertext": [
          "25Ioxw576r",
          "gojL67CfS8",
          "qEpi8uWX3N",
          "Y8YVCOMEpz"
         ],
         "legendgroup": "Oral Session 6D: Deep Learning Architecture, Infrastructure",
         "marker": {
          "color": "#FF97FF",
          "symbol": "circle"
         },
         "mode": "markers",
         "name": "Oral Session 6D: Deep Learning Architecture, Infrastructure",
         "orientation": "v",
         "showlegend": true,
         "x": {
          "dtype": "f4",
          "bdata": "GkDXPiCFyT8BuHQ9Naf4Pg=="
         },
         "xaxis": "x",
         "y": {
          "dtype": "f4",
          "bdata": "6tCJv1s1CcCbvsS/I31gvw=="
         },
         "yaxis": "y",
         "type": "scatter"
        },
        {
         "hovertemplate": "<b>%{hovertext}</b><br><br>KMedoids=Oral Session 2C: Reinforcement Learning<br>tsne_0=%{x}<br>tsne_1=%{y}<extra></extra>",
         "hovertext": [
          "mSaqxZVZW8"
         ],
         "legendgroup": "Oral Session 2C: Reinforcement Learning",
         "marker": {
          "color": "#FECB52",
          "symbol": "circle"
         },
         "mode": "markers",
         "name": "Oral Session 2C: Reinforcement Learning",
         "orientation": "v",
         "showlegend": true,
         "x": {
          "dtype": "f4",
          "bdata": "WePCPw=="
         },
         "xaxis": "x",
         "y": {
          "dtype": "f4",
          "bdata": "Wml4Pw=="
         },
         "yaxis": "y",
         "type": "scatter"
        },
        {
         "hovertemplate": "<b>%{hovertext}</b><br><br>KMedoids=Oral Session 5B: Graph Neural Networks, Causal Inference<br>tsne_0=%{x}<br>tsne_1=%{y}<extra></extra>",
         "hovertext": [
          "S2P6KPLtm8"
         ],
         "legendgroup": "Oral Session 5B: Graph Neural Networks, Causal Inference",
         "marker": {
          "color": "#636efa",
          "symbol": "circle"
         },
         "mode": "markers",
         "name": "Oral Session 5B: Graph Neural Networks, Causal Inference",
         "orientation": "v",
         "showlegend": true,
         "x": {
          "dtype": "f4",
          "bdata": "VfOVQA=="
         },
         "xaxis": "x",
         "y": {
          "dtype": "f4",
          "bdata": "QUcsQA=="
         },
         "yaxis": "y",
         "type": "scatter"
        },
        {
         "hovertemplate": "<b>%{hovertext}</b><br><br>KMedoids=Oral Session 6A: Machine Learning and Science, Safety<br>tsne_0=%{x}<br>tsne_1=%{y}<extra></extra>",
         "hovertext": [
          "cfrDLD1wfO"
         ],
         "legendgroup": "Oral Session 6A: Machine Learning and Science, Safety",
         "marker": {
          "color": "#EF553B",
          "symbol": "circle"
         },
         "mode": "markers",
         "name": "Oral Session 6A: Machine Learning and Science, Safety",
         "orientation": "v",
         "showlegend": true,
         "x": {
          "dtype": "f4",
          "bdata": "qtp8QA=="
         },
         "xaxis": "x",
         "y": {
          "dtype": "f4",
          "bdata": "r++BwA=="
         },
         "yaxis": "y",
         "type": "scatter"
        },
        {
         "hovertemplate": "<b>%{hovertext}</b><br><br>KMedoids=Oral Session 4A: Natural Language Processing<br>tsne_0=%{x}<br>tsne_1=%{y}<extra></extra>",
         "hovertext": [
          "KZlJF8kguO"
         ],
         "legendgroup": "Oral Session 4A: Natural Language Processing",
         "marker": {
          "color": "#00cc96",
          "symbol": "circle"
         },
         "mode": "markers",
         "name": "Oral Session 4A: Natural Language Processing",
         "orientation": "v",
         "showlegend": true,
         "x": {
          "dtype": "f4",
          "bdata": "KMyhvw=="
         },
         "xaxis": "x",
         "y": {
          "dtype": "f4",
          "bdata": "14qkwA=="
         },
         "yaxis": "y",
         "type": "scatter"
        },
        {
         "hovertemplate": "<b>%{hovertext}</b><br><br>KMedoids=Oral Session 6C: New Data<br>tsne_0=%{x}<br>tsne_1=%{y}<extra></extra>",
         "hovertext": [
          "s1K5Z5QPog"
         ],
         "legendgroup": "Oral Session 6C: New Data",
         "marker": {
          "color": "#ab63fa",
          "symbol": "circle"
         },
         "mode": "markers",
         "name": "Oral Session 6C: New Data",
         "orientation": "v",
         "showlegend": true,
         "x": {
          "dtype": "f4",
          "bdata": "vtagQA=="
         },
         "xaxis": "x",
         "y": {
          "dtype": "f4",
          "bdata": "zQwJwA=="
         },
         "yaxis": "y",
         "type": "scatter"
        },
        {
         "fill": "toself",
         "fillcolor": "rgba(0,0,0,0.1)",
         "hoverinfo": "skip",
         "line": {
          "width": 1
         },
         "mode": "lines",
         "opacity": 0.2,
         "showlegend": false,
         "x": {
          "dtype": "f4",
          "bdata": "gfYRQBARh0CqgjRAgfYRQA=="
         },
         "y": {
          "dtype": "f4",
          "bdata": "4bXjP1bPHUBe6i5A4bXjPw=="
         },
         "type": "scatter"
        },
        {
         "fill": "toself",
         "fillcolor": "rgba(0,0,0,0.1)",
         "hoverinfo": "skip",
         "line": {
          "width": 1
         },
         "mode": "lines",
         "opacity": 0.2,
         "showlegend": false,
         "x": {
          "dtype": "f4",
          "bdata": "gnaMQGB0sD9XaoZAgnaMQA=="
         },
         "y": {
          "dtype": "f4",
          "bdata": "B5K7viPVEUB4b5O+B5K7vg=="
         },
         "type": "scatter"
        },
        {
         "fill": "toself",
         "fillcolor": "rgba(0,0,0,0.1)",
         "hoverinfo": "skip",
         "line": {
          "width": 1
         },
         "mode": "lines",
         "opacity": 0.2,
         "showlegend": false,
         "x": {
          "dtype": "f4",
          "bdata": "VDFqQOxEyz84FiJAeV82QFQxakA="
         },
         "y": {
          "dtype": "f4",
          "bdata": "7QfPvz1edD70yhLAOfkRwO0Hz78="
         },
         "type": "scatter"
        },
        {
         "fill": "toself",
         "fillcolor": "rgba(0,0,0,0.1)",
         "hoverinfo": "skip",
         "line": {
          "width": 1
         },
         "mode": "lines",
         "opacity": 0.2,
         "showlegend": false,
         "x": {
          "dtype": "f4",
          "bdata": "F8sdwF7DPcCnEzrAMFEiwBfLHcA="
         },
         "y": {
          "dtype": "f4",
          "bdata": "kYGKv7FWOL+T+9K/y7nZv5GBir8="
         },
         "type": "scatter"
        },
        {
         "fill": "toself",
         "fillcolor": "rgba(0,0,0,0.1)",
         "hoverinfo": "skip",
         "line": {
          "width": 1
         },
         "mode": "lines",
         "opacity": 0.2,
         "showlegend": false,
         "x": {
          "dtype": "f4",
          "bdata": "6JgdQLkaO0DfQRxAKcEMQKIDE0DomB1A"
         },
         "y": {
          "dtype": "f4",
          "bdata": "kyRCQMidVUAKhnRAsqF5QIFqZECTJEJA"
         },
         "type": "scatter"
        },
        {
         "fill": "toself",
         "fillcolor": "rgba(0,0,0,0.1)",
         "hoverinfo": "skip",
         "line": {
          "width": 1
         },
         "mode": "lines",
         "opacity": 0.2,
         "showlegend": false,
         "x": {
          "dtype": "f4",
          "bdata": "AAz5vj76uL+8gqW/pruEvwAM+b4="
         },
         "y": {
          "dtype": "f4",
          "bdata": "rk9mv+4Aub2EasO/u4qrv65PZr8="
         },
         "type": "scatter"
        },
        {
         "fill": "toself",
         "fillcolor": "rgba(0,0,0,0.1)",
         "hoverinfo": "skip",
         "line": {
          "width": 1
         },
         "mode": "lines",
         "opacity": 0.2,
         "showlegend": false,
         "x": {
          "dtype": "f4",
          "bdata": "B0k6wPSnPb+L8pc+2VcXP/Mitb8HSTrA"
         },
         "y": {
          "dtype": "f4",
          "bdata": "zd9DwHW7fsB7gkLA53ETwPcAI8DN30PA"
         },
         "type": "scatter"
        },
        {
         "fill": "toself",
         "fillcolor": "rgba(0,0,0,0.1)",
         "hoverinfo": "skip",
         "line": {
          "width": 1
         },
         "mode": "lines",
         "opacity": 0.2,
         "showlegend": false,
         "x": {
          "dtype": "f4",
          "bdata": "CaKlP1WnD0DY1YZAQZN4QAmipT8="
         },
         "y": {
          "dtype": "f4",
          "bdata": "Yc5RwMizecDVxD3A8DAuwGHOUcA="
         },
         "type": "scatter"
        },
        {
         "fill": "toself",
         "fillcolor": "rgba(0,0,0,0.1)",
         "hoverinfo": "skip",
         "line": {
          "width": 1
         },
         "mode": "lines",
         "opacity": 0.2,
         "showlegend": false,
         "x": {
          "dtype": "f4",
          "bdata": "o+mmP6oGB0BEje4/o+mmPw=="
         },
         "y": {
          "dtype": "f4",
          "bdata": "rnPBvw1oP8AU9qS/rnPBvw=="
         },
         "type": "scatter"
        },
        {
         "fill": "toself",
         "fillcolor": "rgba(0,0,0,0.1)",
         "hoverinfo": "skip",
         "line": {
          "width": 1
         },
         "mode": "lines",
         "opacity": 0.2,
         "showlegend": false,
         "x": {
          "dtype": "f4",
          "bdata": "xi5YQJFaA0BKHihAxi5YQA=="
         },
         "y": {
          "dtype": "f4",
          "bdata": "x9wHPq4Dfb+OX0S/x9wHPg=="
         },
         "type": "scatter"
        },
        {
         "fill": "toself",
         "fillcolor": "rgba(0,0,0,0.1)",
         "hoverinfo": "skip",
         "line": {
          "width": 1
         },
         "mode": "lines",
         "opacity": 0.2,
         "showlegend": false,
         "x": {
          "dtype": "f4",
          "bdata": "Tp7wv3lTEsDcjui/RWzZv06e8L8="
         },
         "y": {
          "dtype": "f4",
          "bdata": "CAxKwF8cjcBMA2XARcBWwAgMSsA="
         },
         "type": "scatter"
        },
        {
         "fill": "toself",
         "fillcolor": "rgba(0,0,0,0.1)",
         "hoverinfo": "skip",
         "line": {
          "width": 1
         },
         "mode": "lines",
         "opacity": 0.2,
         "showlegend": false,
         "x": {
          "dtype": "f4",
          "bdata": "Abh0PSCFyT81p/g+Abh0PQ=="
         },
         "y": {
          "dtype": "f4",
          "bdata": "m77Ev1s1CcAjfWC/m77Evw=="
         },
         "type": "scatter"
        }
       ],
       "layout": {
        "template": {
         "data": {
          "histogram2dcontour": [
           {
            "type": "histogram2dcontour",
            "colorbar": {
             "outlinewidth": 0,
             "ticks": ""
            },
            "colorscale": [
             [
              0.0,
              "#0d0887"
             ],
             [
              0.1111111111111111,
              "#46039f"
             ],
             [
              0.2222222222222222,
              "#7201a8"
             ],
             [
              0.3333333333333333,
              "#9c179e"
             ],
             [
              0.4444444444444444,
              "#bd3786"
             ],
             [
              0.5555555555555556,
              "#d8576b"
             ],
             [
              0.6666666666666666,
              "#ed7953"
             ],
             [
              0.7777777777777778,
              "#fb9f3a"
             ],
             [
              0.8888888888888888,
              "#fdca26"
             ],
             [
              1.0,
              "#f0f921"
             ]
            ]
           }
          ],
          "choropleth": [
           {
            "type": "choropleth",
            "colorbar": {
             "outlinewidth": 0,
             "ticks": ""
            }
           }
          ],
          "histogram2d": [
           {
            "type": "histogram2d",
            "colorbar": {
             "outlinewidth": 0,
             "ticks": ""
            },
            "colorscale": [
             [
              0.0,
              "#0d0887"
             ],
             [
              0.1111111111111111,
              "#46039f"
             ],
             [
              0.2222222222222222,
              "#7201a8"
             ],
             [
              0.3333333333333333,
              "#9c179e"
             ],
             [
              0.4444444444444444,
              "#bd3786"
             ],
             [
              0.5555555555555556,
              "#d8576b"
             ],
             [
              0.6666666666666666,
              "#ed7953"
             ],
             [
              0.7777777777777778,
              "#fb9f3a"
             ],
             [
              0.8888888888888888,
              "#fdca26"
             ],
             [
              1.0,
              "#f0f921"
             ]
            ]
           }
          ],
          "heatmap": [
           {
            "type": "heatmap",
            "colorbar": {
             "outlinewidth": 0,
             "ticks": ""
            },
            "colorscale": [
             [
              0.0,
              "#0d0887"
             ],
             [
              0.1111111111111111,
              "#46039f"
             ],
             [
              0.2222222222222222,
              "#7201a8"
             ],
             [
              0.3333333333333333,
              "#9c179e"
             ],
             [
              0.4444444444444444,
              "#bd3786"
             ],
             [
              0.5555555555555556,
              "#d8576b"
             ],
             [
              0.6666666666666666,
              "#ed7953"
             ],
             [
              0.7777777777777778,
              "#fb9f3a"
             ],
             [
              0.8888888888888888,
              "#fdca26"
             ],
             [
              1.0,
              "#f0f921"
             ]
            ]
           }
          ],
          "contourcarpet": [
           {
            "type": "contourcarpet",
            "colorbar": {
             "outlinewidth": 0,
             "ticks": ""
            }
           }
          ],
          "contour": [
           {
            "type": "contour",
            "colorbar": {
             "outlinewidth": 0,
             "ticks": ""
            },
            "colorscale": [
             [
              0.0,
              "#0d0887"
             ],
             [
              0.1111111111111111,
              "#46039f"
             ],
             [
              0.2222222222222222,
              "#7201a8"
             ],
             [
              0.3333333333333333,
              "#9c179e"
             ],
             [
              0.4444444444444444,
              "#bd3786"
             ],
             [
              0.5555555555555556,
              "#d8576b"
             ],
             [
              0.6666666666666666,
              "#ed7953"
             ],
             [
              0.7777777777777778,
              "#fb9f3a"
             ],
             [
              0.8888888888888888,
              "#fdca26"
             ],
             [
              1.0,
              "#f0f921"
             ]
            ]
           }
          ],
          "surface": [
           {
            "type": "surface",
            "colorbar": {
             "outlinewidth": 0,
             "ticks": ""
            },
            "colorscale": [
             [
              0.0,
              "#0d0887"
             ],
             [
              0.1111111111111111,
              "#46039f"
             ],
             [
              0.2222222222222222,
              "#7201a8"
             ],
             [
              0.3333333333333333,
              "#9c179e"
             ],
             [
              0.4444444444444444,
              "#bd3786"
             ],
             [
              0.5555555555555556,
              "#d8576b"
             ],
             [
              0.6666666666666666,
              "#ed7953"
             ],
             [
              0.7777777777777778,
              "#fb9f3a"
             ],
             [
              0.8888888888888888,
              "#fdca26"
             ],
             [
              1.0,
              "#f0f921"
             ]
            ]
           }
          ],
          "mesh3d": [
           {
            "type": "mesh3d",
            "colorbar": {
             "outlinewidth": 0,
             "ticks": ""
            }
           }
          ],
          "scatter": [
           {
            "marker": {
             "line": {
              "color": "#283442"
             }
            },
            "type": "scatter"
           }
          ],
          "parcoords": [
           {
            "type": "parcoords",
            "line": {
             "colorbar": {
              "outlinewidth": 0,
              "ticks": ""
             }
            }
           }
          ],
          "scatterpolargl": [
           {
            "type": "scatterpolargl",
            "marker": {
             "colorbar": {
              "outlinewidth": 0,
              "ticks": ""
             }
            }
           }
          ],
          "bar": [
           {
            "error_x": {
             "color": "#f2f5fa"
            },
            "error_y": {
             "color": "#f2f5fa"
            },
            "marker": {
             "line": {
              "color": "rgb(17,17,17)",
              "width": 0.5
             },
             "pattern": {
              "fillmode": "overlay",
              "size": 10,
              "solidity": 0.2
             }
            },
            "type": "bar"
           }
          ],
          "scattergeo": [
           {
            "type": "scattergeo",
            "marker": {
             "colorbar": {
              "outlinewidth": 0,
              "ticks": ""
             }
            }
           }
          ],
          "scatterpolar": [
           {
            "type": "scatterpolar",
            "marker": {
             "colorbar": {
              "outlinewidth": 0,
              "ticks": ""
             }
            }
           }
          ],
          "histogram": [
           {
            "marker": {
             "pattern": {
              "fillmode": "overlay",
              "size": 10,
              "solidity": 0.2
             }
            },
            "type": "histogram"
           }
          ],
          "scattergl": [
           {
            "marker": {
             "line": {
              "color": "#283442"
             }
            },
            "type": "scattergl"
           }
          ],
          "scatter3d": [
           {
            "type": "scatter3d",
            "line": {
             "colorbar": {
              "outlinewidth": 0,
              "ticks": ""
             }
            },
            "marker": {
             "colorbar": {
              "outlinewidth": 0,
              "ticks": ""
             }
            }
           }
          ],
          "scattermap": [
           {
            "type": "scattermap",
            "marker": {
             "colorbar": {
              "outlinewidth": 0,
              "ticks": ""
             }
            }
           }
          ],
          "scattermapbox": [
           {
            "type": "scattermapbox",
            "marker": {
             "colorbar": {
              "outlinewidth": 0,
              "ticks": ""
             }
            }
           }
          ],
          "scatterternary": [
           {
            "type": "scatterternary",
            "marker": {
             "colorbar": {
              "outlinewidth": 0,
              "ticks": ""
             }
            }
           }
          ],
          "scattercarpet": [
           {
            "type": "scattercarpet",
            "marker": {
             "colorbar": {
              "outlinewidth": 0,
              "ticks": ""
             }
            }
           }
          ],
          "carpet": [
           {
            "aaxis": {
             "endlinecolor": "#A2B1C6",
             "gridcolor": "#506784",
             "linecolor": "#506784",
             "minorgridcolor": "#506784",
             "startlinecolor": "#A2B1C6"
            },
            "baxis": {
             "endlinecolor": "#A2B1C6",
             "gridcolor": "#506784",
             "linecolor": "#506784",
             "minorgridcolor": "#506784",
             "startlinecolor": "#A2B1C6"
            },
            "type": "carpet"
           }
          ],
          "table": [
           {
            "cells": {
             "fill": {
              "color": "#506784"
             },
             "line": {
              "color": "rgb(17,17,17)"
             }
            },
            "header": {
             "fill": {
              "color": "#2a3f5f"
             },
             "line": {
              "color": "rgb(17,17,17)"
             }
            },
            "type": "table"
           }
          ],
          "barpolar": [
           {
            "marker": {
             "line": {
              "color": "rgb(17,17,17)",
              "width": 0.5
             },
             "pattern": {
              "fillmode": "overlay",
              "size": 10,
              "solidity": 0.2
             }
            },
            "type": "barpolar"
           }
          ],
          "pie": [
           {
            "automargin": true,
            "type": "pie"
           }
          ]
         },
         "layout": {
          "autotypenumbers": "strict",
          "colorway": [
           "#636efa",
           "#EF553B",
           "#00cc96",
           "#ab63fa",
           "#FFA15A",
           "#19d3f3",
           "#FF6692",
           "#B6E880",
           "#FF97FF",
           "#FECB52"
          ],
          "font": {
           "color": "#f2f5fa"
          },
          "hovermode": "closest",
          "hoverlabel": {
           "align": "left"
          },
          "paper_bgcolor": "rgb(17,17,17)",
          "plot_bgcolor": "rgb(17,17,17)",
          "polar": {
           "bgcolor": "rgb(17,17,17)",
           "angularaxis": {
            "gridcolor": "#506784",
            "linecolor": "#506784",
            "ticks": ""
           },
           "radialaxis": {
            "gridcolor": "#506784",
            "linecolor": "#506784",
            "ticks": ""
           }
          },
          "ternary": {
           "bgcolor": "rgb(17,17,17)",
           "aaxis": {
            "gridcolor": "#506784",
            "linecolor": "#506784",
            "ticks": ""
           },
           "baxis": {
            "gridcolor": "#506784",
            "linecolor": "#506784",
            "ticks": ""
           },
           "caxis": {
            "gridcolor": "#506784",
            "linecolor": "#506784",
            "ticks": ""
           }
          },
          "coloraxis": {
           "colorbar": {
            "outlinewidth": 0,
            "ticks": ""
           }
          },
          "colorscale": {
           "sequential": [
            [
             0.0,
             "#0d0887"
            ],
            [
             0.1111111111111111,
             "#46039f"
            ],
            [
             0.2222222222222222,
             "#7201a8"
            ],
            [
             0.3333333333333333,
             "#9c179e"
            ],
            [
             0.4444444444444444,
             "#bd3786"
            ],
            [
             0.5555555555555556,
             "#d8576b"
            ],
            [
             0.6666666666666666,
             "#ed7953"
            ],
            [
             0.7777777777777778,
             "#fb9f3a"
            ],
            [
             0.8888888888888888,
             "#fdca26"
            ],
            [
             1.0,
             "#f0f921"
            ]
           ],
           "sequentialminus": [
            [
             0.0,
             "#0d0887"
            ],
            [
             0.1111111111111111,
             "#46039f"
            ],
            [
             0.2222222222222222,
             "#7201a8"
            ],
            [
             0.3333333333333333,
             "#9c179e"
            ],
            [
             0.4444444444444444,
             "#bd3786"
            ],
            [
             0.5555555555555556,
             "#d8576b"
            ],
            [
             0.6666666666666666,
             "#ed7953"
            ],
            [
             0.7777777777777778,
             "#fb9f3a"
            ],
            [
             0.8888888888888888,
             "#fdca26"
            ],
            [
             1.0,
             "#f0f921"
            ]
           ],
           "diverging": [
            [
             0,
             "#8e0152"
            ],
            [
             0.1,
             "#c51b7d"
            ],
            [
             0.2,
             "#de77ae"
            ],
            [
             0.3,
             "#f1b6da"
            ],
            [
             0.4,
             "#fde0ef"
            ],
            [
             0.5,
             "#f7f7f7"
            ],
            [
             0.6,
             "#e6f5d0"
            ],
            [
             0.7,
             "#b8e186"
            ],
            [
             0.8,
             "#7fbc41"
            ],
            [
             0.9,
             "#4d9221"
            ],
            [
             1,
             "#276419"
            ]
           ]
          },
          "xaxis": {
           "gridcolor": "#283442",
           "linecolor": "#506784",
           "ticks": "",
           "title": {
            "standoff": 15
           },
           "zerolinecolor": "#283442",
           "automargin": true,
           "zerolinewidth": 2
          },
          "yaxis": {
           "gridcolor": "#283442",
           "linecolor": "#506784",
           "ticks": "",
           "title": {
            "standoff": 15
           },
           "zerolinecolor": "#283442",
           "automargin": true,
           "zerolinewidth": 2
          },
          "scene": {
           "xaxis": {
            "backgroundcolor": "rgb(17,17,17)",
            "gridcolor": "#506784",
            "linecolor": "#506784",
            "showbackground": true,
            "ticks": "",
            "zerolinecolor": "#C8D4E3",
            "gridwidth": 2
           },
           "yaxis": {
            "backgroundcolor": "rgb(17,17,17)",
            "gridcolor": "#506784",
            "linecolor": "#506784",
            "showbackground": true,
            "ticks": "",
            "zerolinecolor": "#C8D4E3",
            "gridwidth": 2
           },
           "zaxis": {
            "backgroundcolor": "rgb(17,17,17)",
            "gridcolor": "#506784",
            "linecolor": "#506784",
            "showbackground": true,
            "ticks": "",
            "zerolinecolor": "#C8D4E3",
            "gridwidth": 2
           }
          },
          "shapedefaults": {
           "line": {
            "color": "#f2f5fa"
           }
          },
          "annotationdefaults": {
           "arrowcolor": "#f2f5fa",
           "arrowhead": 0,
           "arrowwidth": 1
          },
          "geo": {
           "bgcolor": "rgb(17,17,17)",
           "landcolor": "rgb(17,17,17)",
           "subunitcolor": "#506784",
           "showland": true,
           "showlakes": true,
           "lakecolor": "rgb(17,17,17)"
          },
          "title": {
           "x": 0.05
          },
          "updatemenudefaults": {
           "bgcolor": "#506784",
           "borderwidth": 0
          },
          "sliderdefaults": {
           "bgcolor": "#C8D4E3",
           "borderwidth": 1,
           "bordercolor": "rgb(17,17,17)",
           "tickwidth": 0
          },
          "mapbox": {
           "style": "dark"
          }
         }
        },
        "xaxis": {
         "anchor": "y",
         "domain": [
          0.0,
          1.0
         ],
         "title": {
          "text": "tsne_0"
         }
        },
        "yaxis": {
         "anchor": "x",
         "domain": [
          0.0,
          1.0
         ],
         "title": {
          "text": "tsne_1"
         }
        },
        "legend": {
         "title": {
          "text": "KMedoids"
         },
         "tracegroupgap": 0
        },
        "title": {
         "text": "t-SNE Clustering — KMedoids"
        }
       },
       "config": {
        "plotlyServerURL": "https://plot.ly"
       }
      }
     },
     "metadata": {},
     "output_type": "display_data"
    },
    {
     "data": {
      "application/vnd.plotly.v1+json": {
       "data": [
        {
         "hovertemplate": "<b>%{hovertext}</b><br><br>KMeans=Oral Session 1A: Neuroscience and Intepretability<br>tsne_0=%{x}<br>tsne_1=%{y}<extra></extra>",
         "hovertext": [
          "aVh9KRZdRk"
         ],
         "legendgroup": "Oral Session 1A: Neuroscience and Intepretability",
         "marker": {
          "color": "#636efa",
          "symbol": "circle"
         },
         "mode": "markers",
         "name": "Oral Session 1A: Neuroscience and Intepretability",
         "orientation": "v",
         "showlegend": true,
         "x": {
          "dtype": "f4",
          "bdata": "lbSnvw=="
         },
         "xaxis": "x",
         "y": {
          "dtype": "f4",
          "bdata": "GeCyPw=="
         },
         "yaxis": "y",
         "type": "scatter"
        },
        {
         "hovertemplate": "<b>%{hovertext}</b><br><br>KMeans=Oral Session 1B: Human-AI Interaction<br>tsne_0=%{x}<br>tsne_1=%{y}<extra></extra>",
         "hovertext": [
          "m1a4CrRJR7",
          "wpGJ2AX6SZ",
          "rtz4df9IF1"
         ],
         "legendgroup": "Oral Session 1B: Human-AI Interaction",
         "marker": {
          "color": "#EF553B",
          "symbol": "circle"
         },
         "mode": "markers",
         "name": "Oral Session 1B: Human-AI Interaction",
         "orientation": "v",
         "showlegend": true,
         "x": {
          "dtype": "f4",
          "bdata": "EW4qQNRdRECqgjRA"
         },
         "xaxis": "x",
         "y": {
          "dtype": "f4",
          "bdata": "wSwPQOqKEUBe6i5A"
         },
         "yaxis": "y",
         "type": "scatter"
        },
        {
         "hovertemplate": "<b>%{hovertext}</b><br><br>KMeans=Oral Session 1C: Optimization and Learning Theory<br>tsne_0=%{x}<br>tsne_1=%{y}<extra></extra>",
         "hovertext": [
          "0XeNkkENuI",
          "YvA8UF0I37",
          "mp8u2Pcmqz"
         ],
         "legendgroup": "Oral Session 1C: Optimization and Learning Theory",
         "marker": {
          "color": "#00cc96",
          "symbol": "circle"
         },
         "mode": "markers",
         "name": "Oral Session 1C: Optimization and Learning Theory",
         "orientation": "v",
         "showlegend": true,
         "x": {
          "dtype": "f4",
          "bdata": "YHSwP/KV7T5v62A+"
         },
         "xaxis": "x",
         "y": {
          "dtype": "f4",
          "bdata": "I9URQDGKzz6xW8A+"
         },
         "yaxis": "y",
         "type": "scatter"
        },
        {
         "hovertemplate": "<b>%{hovertext}</b><br><br>KMeans=Oral Session 2A: Agents<br>tsne_0=%{x}<br>tsne_1=%{y}<extra></extra>",
         "hovertext": [
          "aIPwlkdOut"
         ],
         "legendgroup": "Oral Session 2A: Agents",
         "marker": {
          "color": "#ab63fa",
          "symbol": "circle"
         },
         "mode": "markers",
         "name": "Oral Session 2A: Agents",
         "orientation": "v",
         "showlegend": true,
         "x": {
          "dtype": "f4",
          "bdata": "gfYRQA=="
         },
         "xaxis": "x",
         "y": {
          "dtype": "f4",
          "bdata": "4bXjPw=="
         },
         "yaxis": "y",
         "type": "scatter"
        },
        {
         "hovertemplate": "<b>%{hovertext}</b><br><br>KMeans=Oral Session 2B: Reinforcement Learning<br>tsne_0=%{x}<br>tsne_1=%{y}<extra></extra>",
         "hovertext": [
          "UdxpjKO2F9",
          "mSaqxZVZW8"
         ],
         "legendgroup": "Oral Session 2B: Reinforcement Learning",
         "marker": {
          "color": "#FFA15A",
          "symbol": "circle"
         },
         "mode": "markers",
         "name": "Oral Session 2B: Reinforcement Learning",
         "orientation": "v",
         "showlegend": true,
         "x": {
          "dtype": "f4",
          "bdata": "7ETLP1njwj8="
         },
         "xaxis": "x",
         "y": {
          "dtype": "f4",
          "bdata": "PV50PlppeD8="
         },
         "yaxis": "y",
         "type": "scatter"
        },
        {
         "hovertemplate": "<b>%{hovertext}</b><br><br>KMeans=Oral Session 2C: Reinforcement Learning<br>tsne_0=%{x}<br>tsne_1=%{y}<extra></extra>",
         "hovertext": [
          "LEzx6QRkRH",
          "iSwK1YqO7v",
          "Ddak3nSqQM",
          "cLga8GStdk",
          "4S8agvKjle"
         ],
         "legendgroup": "Oral Session 2C: Reinforcement Learning",
         "marker": {
          "color": "#19d3f3",
          "symbol": "circle"
         },
         "mode": "markers",
         "name": "Oral Session 2C: Reinforcement Learning",
         "orientation": "v",
         "showlegend": true,
         "x": {
          "dtype": "f4",
          "bdata": "F8sdwKcTOsBewz3AVm4iwDBRIsA="
         },
         "xaxis": "x",
         "y": {
          "dtype": "f4",
          "bdata": "kYGKv5P70r+xVji/fV7Zv8u52b8="
         },
         "yaxis": "y",
         "type": "scatter"
        },
        {
         "hovertemplate": "<b>%{hovertext}</b><br><br>KMeans=Oral Session 2D: Generative Models<br>tsne_0=%{x}<br>tsne_1=%{y}<extra></extra>",
         "hovertext": [
          "pGEY8JQ3qx",
          "6YIpvnkjUK",
          "eWUM5hRYgH",
          "qf2uZAdy1N"
         ],
         "legendgroup": "Oral Session 2D: Generative Models",
         "marker": {
          "color": "#FF6692",
          "symbol": "circle"
         },
         "mode": "markers",
         "name": "Oral Session 2D: Generative Models",
         "orientation": "v",
         "showlegend": true,
         "x": {
          "dtype": "f4",
          "bdata": "KcEMQKIDE0DfQRxA6JgdQA=="
         },
         "xaxis": "x",
         "y": {
          "dtype": "f4",
          "bdata": "sqF5QIFqZEAKhnRAkyRCQA=="
         },
         "yaxis": "y",
         "type": "scatter"
        },
        {
         "hovertemplate": "<b>%{hovertext}</b><br><br>KMeans=Oral Session 3D: Natural Language Processing<br>tsne_0=%{x}<br>tsne_1=%{y}<extra></extra>",
         "hovertext": [
          "0NMzBwqaAJ",
          "cFqAANINgW",
          "NPKZF1WDjZ",
          "pC44UMwy2v",
          "uNKlTQ8mBD",
          "Mbd3QxXjq5"
         ],
         "legendgroup": "Oral Session 3D: Natural Language Processing",
         "marker": {
          "color": "#B6E880",
          "symbol": "circle"
         },
         "mode": "markers",
         "name": "Oral Session 3D: Natural Language Processing",
         "orientation": "v",
         "showlegend": true,
         "x": {
          "dtype": "f4",
          "bdata": "AAz5vi6Drr+8gqW/pruEvz76uL9+JY6/"
         },
         "xaxis": "x",
         "y": {
          "dtype": "f4",
          "bdata": "rk9mv6PlTr+EasO/u4qrv+4Aub1a0j6/"
         },
         "yaxis": "y",
         "type": "scatter"
        },
        {
         "hovertemplate": "<b>%{hovertext}</b><br><br>KMeans=Oral Session 4A: Natural Language Processing<br>tsne_0=%{x}<br>tsne_1=%{y}<extra></extra>",
         "hovertext": [
          "bCMpdaQCNW",
          "zogaeVpbaE",
          "135eKqDoRR",
          "Vi8AepAXGy",
          "E18kRXTGmV"
         ],
         "legendgroup": "Oral Session 4A: Natural Language Processing",
         "marker": {
          "color": "#FF97FF",
          "symbol": "circle"
         },
         "mode": "markers",
         "name": "Oral Session 4A: Natural Language Processing",
         "orientation": "v",
         "showlegend": true,
         "x": {
          "dtype": "f4",
          "bdata": "B0k6wAhOAr/ZVxc/5yhIvvSnPb8="
         },
         "xaxis": "x",
         "y": {
          "dtype": "f4",
          "bdata": "zd9DwB07VsDncRPAkPhAwHW7fsA="
         },
         "yaxis": "y",
         "type": "scatter"
        },
        {
         "hovertemplate": "<b>%{hovertext}</b><br><br>KMeans=Oral Session 4D: Machine Vision<br>tsne_0=%{x}<br>tsne_1=%{y}<extra></extra>",
         "hovertext": [
          "TFZlFRl9Ks",
          "QDYts5dYgq",
          "SSCtCq2MH2",
          "x7pjdDod6Z",
          "8qu52Fl1Dt"
         ],
         "legendgroup": "Oral Session 4D: Machine Vision",
         "marker": {
          "color": "#FECB52",
          "symbol": "circle"
         },
         "mode": "markers",
         "name": "Oral Session 4D: Machine Vision",
         "orientation": "v",
         "showlegend": true,
         "x": {
          "dtype": "f4",
          "bdata": "Hbo5QNjVhkBBk3hAYSk6QFWnD0A="
         },
         "xaxis": "x",
         "y": {
          "dtype": "f4",
          "bdata": "QHROwNXEPcDwMC7AoWlMwMizecA="
         },
         "yaxis": "y",
         "type": "scatter"
        },
        {
         "hovertemplate": "<b>%{hovertext}</b><br><br>KMeans=Oral Session 4C: Diffusion-based Models, Mathematics<br>tsne_0=%{x}<br>tsne_1=%{y}<extra></extra>",
         "hovertext": [
          "OycU0bAus6",
          "tnh4LK72yj",
          "Pezt0xttae",
          "r5spnrY6H3",
          "47loYmzxep"
         ],
         "legendgroup": "Oral Session 4C: Diffusion-based Models, Mathematics",
         "marker": {
          "color": "#636efa",
          "symbol": "circle"
         },
         "mode": "markers",
         "name": "Oral Session 4C: Diffusion-based Models, Mathematics",
         "orientation": "v",
         "showlegend": true,
         "x": {
          "dtype": "f4",
          "bdata": "sj/3P6Pppj9Eje4/CaKlP6oGB0A="
         },
         "xaxis": "x",
         "y": {
          "dtype": "f4",
          "bdata": "LxwcwK5zwb8U9qS/Yc5RwA1oP8A="
         },
         "yaxis": "y",
         "type": "scatter"
        },
        {
         "hovertemplate": "<b>%{hovertext}</b><br><br>KMeans=Oral Session 5C: Machine Vision<br>tsne_0=%{x}<br>tsne_1=%{y}<extra></extra>",
         "hovertext": [
          "R8SolCx62K",
          "C4NbtYnyQg",
          "8Fxqn1tZM1"
         ],
         "legendgroup": "Oral Session 5C: Machine Vision",
         "marker": {
          "color": "#EF553B",
          "symbol": "circle"
         },
         "mode": "markers",
         "name": "Oral Session 5C: Machine Vision",
         "orientation": "v",
         "showlegend": true,
         "x": {
          "dtype": "f4",
          "bdata": "Sh4oQJFaA0DGLlhA"
         },
         "xaxis": "x",
         "y": {
          "dtype": "f4",
          "bdata": "jl9Ev64Dfb/H3Ac+"
         },
         "yaxis": "y",
         "type": "scatter"
        },
        {
         "hovertemplate": "<b>%{hovertext}</b><br><br>KMeans=Oral Session 5A: Graph Neural Networks<br>tsne_0=%{x}<br>tsne_1=%{y}<extra></extra>",
         "hovertext": [
          "HRkniCWM3E",
          "9O2sVnEHor"
         ],
         "legendgroup": "Oral Session 5A: Graph Neural Networks",
         "marker": {
          "color": "#00cc96",
          "symbol": "circle"
         },
         "mode": "markers",
         "name": "Oral Session 5A: Graph Neural Networks",
         "orientation": "v",
         "showlegend": true,
         "x": {
          "dtype": "f4",
          "bdata": "XIeqQLrGkEA="
         },
         "xaxis": "x",
         "y": {
          "dtype": "f4",
          "bdata": "5YTnPmZcoz8="
         },
         "yaxis": "y",
         "type": "scatter"
        },
        {
         "hovertemplate": "<b>%{hovertext}</b><br><br>KMeans=Oral Session 3A: Generative Models<br>tsne_0=%{x}<br>tsne_1=%{y}<extra></extra>",
         "hovertext": [
          "kq166jACVP",
          "4NJBV6Wp0h",
          "Oo7dlLgqQX",
          "qEpi8uWX3N",
          "DFr5hteojx"
         ],
         "legendgroup": "Oral Session 3A: Generative Models",
         "marker": {
          "color": "#ab63fa",
          "symbol": "circle"
         },
         "mode": "markers",
         "name": "Oral Session 3A: Generative Models",
         "orientation": "v",
         "showlegend": true,
         "x": {
          "dtype": "f4",
          "bdata": "8yK1v06e8L9FbNm/Abh0PdyO6L8="
         },
         "xaxis": "x",
         "y": {
          "dtype": "f4",
          "bdata": "9wAjwAgMSsBFwFbAm77Ev0wDZcA="
         },
         "yaxis": "y",
         "type": "scatter"
        },
        {
         "hovertemplate": "<b>%{hovertext}</b><br><br>KMeans=Oral Session 3C: Natural Language Processing<br>tsne_0=%{x}<br>tsne_1=%{y}<extra></extra>",
         "hovertext": [
          "REIK4SZMJt"
         ],
         "legendgroup": "Oral Session 3C: Natural Language Processing",
         "marker": {
          "color": "#FFA15A",
          "symbol": "circle"
         },
         "mode": "markers",
         "name": "Oral Session 3C: Natural Language Processing",
         "orientation": "v",
         "showlegend": true,
         "x": {
          "dtype": "f4",
          "bdata": "HqRPQA=="
         },
         "xaxis": "x",
         "y": {
          "dtype": "f4",
          "bdata": "JSmpPw=="
         },
         "yaxis": "y",
         "type": "scatter"
        },
        {
         "hovertemplate": "<b>%{hovertext}</b><br><br>KMeans=Oral Session 5D: Machine Learning and Science<br>tsne_0=%{x}<br>tsne_1=%{y}<extra></extra>",
         "hovertext": [
          "y10avdRFNK",
          "J2wI2rCG2u"
         ],
         "legendgroup": "Oral Session 5D: Machine Learning and Science",
         "marker": {
          "color": "#19d3f3",
          "symbol": "circle"
         },
         "mode": "markers",
         "name": "Oral Session 5D: Machine Learning and Science",
         "orientation": "v",
         "showlegend": true,
         "x": {
          "dtype": "f4",
          "bdata": "V2qGQIJ2jEA="
         },
         "xaxis": "x",
         "y": {
          "dtype": "f4",
          "bdata": "eG+TvgeSu74="
         },
         "yaxis": "y",
         "type": "scatter"
        },
        {
         "hovertemplate": "<b>%{hovertext}</b><br><br>KMeans=Oral Session 6D: Deep Learning Architecture, Infrastructure<br>tsne_0=%{x}<br>tsne_1=%{y}<extra></extra>",
         "hovertext": [
          "5zSCSE0k41",
          "4bKEFyUHT4",
          "25Ioxw576r",
          "gojL67CfS8",
          "Y8YVCOMEpz"
         ],
         "legendgroup": "Oral Session 6D: Deep Learning Architecture, Infrastructure",
         "marker": {
          "color": "#FF6692",
          "symbol": "circle"
         },
         "mode": "markers",
         "name": "Oral Session 6D: Deep Learning Architecture, Infrastructure",
         "orientation": "v",
         "showlegend": true,
         "x": {
          "dtype": "f4",
          "bdata": "e7QFQEsIH0AaQNc+IIXJPzWn+D4="
         },
         "xaxis": "x",
         "y": {
          "dtype": "f4",
          "bdata": "S8NwwPv3Br7q0Im/WzUJwCN9YL8="
         },
         "yaxis": "y",
         "type": "scatter"
        },
        {
         "hovertemplate": "<b>%{hovertext}</b><br><br>KMeans=Oral Session 4B: Diffusion-based Models<br>tsne_0=%{x}<br>tsne_1=%{y}<extra></extra>",
         "hovertext": [
          "clTa4JFBML",
          "3Odq2tGSpp",
          "tQukGCDaNT",
          "bg6fVPVs3s",
          "V0oJaLqY4E",
          "cfrDLD1wfO"
         ],
         "legendgroup": "Oral Session 4B: Diffusion-based Models",
         "marker": {
          "color": "#B6E880",
          "symbol": "circle"
         },
         "mode": "markers",
         "name": "Oral Session 4B: Diffusion-based Models",
         "orientation": "v",
         "showlegend": true,
         "x": {
          "dtype": "f4",
          "bdata": "OBYiQIvylz55XzZApps9QFQxakCq2nxA"
         },
         "xaxis": "x",
         "y": {
          "dtype": "f4",
          "bdata": "9MoSwHuCQsA5+RHA32Tvv+0Hz7+v74HA"
         },
         "yaxis": "y",
         "type": "scatter"
        },
        {
         "hovertemplate": "<b>%{hovertext}</b><br><br>KMeans=Oral Session 5B: Graph Neural Networks, Causal Inference<br>tsne_0=%{x}<br>tsne_1=%{y}<extra></extra>",
         "hovertext": [
          "4rCZeCZAON",
          "S2P6KPLtm8"
         ],
         "legendgroup": "Oral Session 5B: Graph Neural Networks, Causal Inference",
         "marker": {
          "color": "#FF97FF",
          "symbol": "circle"
         },
         "mode": "markers",
         "name": "Oral Session 5B: Graph Neural Networks, Causal Inference",
         "orientation": "v",
         "showlegend": true,
         "x": {
          "dtype": "f4",
          "bdata": "EBGHQFXzlUA="
         },
         "xaxis": "x",
         "y": {
          "dtype": "f4",
          "bdata": "Vs8dQEFHLEA="
         },
         "yaxis": "y",
         "type": "scatter"
        },
        {
         "hovertemplate": "<b>%{hovertext}</b><br><br>KMeans=Oral Session 6A: Machine Learning and Science, Safety<br>tsne_0=%{x}<br>tsne_1=%{y}<extra></extra>",
         "hovertext": [
          "EKdk4vxKO4",
          "VXohja0vrQ"
         ],
         "legendgroup": "Oral Session 6A: Machine Learning and Science, Safety",
         "marker": {
          "color": "#FECB52",
          "symbol": "circle"
         },
         "mode": "markers",
         "name": "Oral Session 6A: Machine Learning and Science, Safety",
         "orientation": "v",
         "showlegend": true,
         "x": {
          "dtype": "f4",
          "bdata": "QBU4vcfflLw="
         },
         "xaxis": "x",
         "y": {
          "dtype": "f4",
          "bdata": "zpGkwPBgrMA="
         },
         "yaxis": "y",
         "type": "scatter"
        },
        {
         "hovertemplate": "<b>%{hovertext}</b><br><br>KMeans=Oral Session 1D: Learning Theory<br>tsne_0=%{x}<br>tsne_1=%{y}<extra></extra>",
         "hovertext": [
          "ge8GZn8Gtu"
         ],
         "legendgroup": "Oral Session 1D: Learning Theory",
         "marker": {
          "color": "#636efa",
          "symbol": "circle"
         },
         "mode": "markers",
         "name": "Oral Session 1D: Learning Theory",
         "orientation": "v",
         "showlegend": true,
         "x": {
          "dtype": "f4",
          "bdata": "uRo7QA=="
         },
         "xaxis": "x",
         "y": {
          "dtype": "f4",
          "bdata": "yJ1VQA=="
         },
         "yaxis": "y",
         "type": "scatter"
        },
        {
         "hovertemplate": "<b>%{hovertext}</b><br><br>KMeans=Oral Session 3B: Natural Language Processing<br>tsne_0=%{x}<br>tsne_1=%{y}<extra></extra>",
         "hovertext": [
          "KZlJF8kguO"
         ],
         "legendgroup": "Oral Session 3B: Natural Language Processing",
         "marker": {
          "color": "#EF553B",
          "symbol": "circle"
         },
         "mode": "markers",
         "name": "Oral Session 3B: Natural Language Processing",
         "orientation": "v",
         "showlegend": true,
         "x": {
          "dtype": "f4",
          "bdata": "KMyhvw=="
         },
         "xaxis": "x",
         "y": {
          "dtype": "f4",
          "bdata": "14qkwA=="
         },
         "yaxis": "y",
         "type": "scatter"
        },
        {
         "hovertemplate": "<b>%{hovertext}</b><br><br>KMeans=Oral Session 6B: Safety, New Data<br>tsne_0=%{x}<br>tsne_1=%{y}<extra></extra>",
         "hovertext": [
          "cu8FfaYriU"
         ],
         "legendgroup": "Oral Session 6B: Safety, New Data",
         "marker": {
          "color": "#00cc96",
          "symbol": "circle"
         },
         "mode": "markers",
         "name": "Oral Session 6B: Safety, New Data",
         "orientation": "v",
         "showlegend": true,
         "x": {
          "dtype": "f4",
          "bdata": "eVMSwA=="
         },
         "xaxis": "x",
         "y": {
          "dtype": "f4",
          "bdata": "XxyNwA=="
         },
         "yaxis": "y",
         "type": "scatter"
        },
        {
         "hovertemplate": "<b>%{hovertext}</b><br><br>KMeans=Oral Session 6C: New Data<br>tsne_0=%{x}<br>tsne_1=%{y}<extra></extra>",
         "hovertext": [
          "s1K5Z5QPog"
         ],
         "legendgroup": "Oral Session 6C: New Data",
         "marker": {
          "color": "#ab63fa",
          "symbol": "circle"
         },
         "mode": "markers",
         "name": "Oral Session 6C: New Data",
         "orientation": "v",
         "showlegend": true,
         "x": {
          "dtype": "f4",
          "bdata": "vtagQA=="
         },
         "xaxis": "x",
         "y": {
          "dtype": "f4",
          "bdata": "zQwJwA=="
         },
         "yaxis": "y",
         "type": "scatter"
        },
        {
         "fill": "toself",
         "fillcolor": "rgba(0,0,0,0.1)",
         "hoverinfo": "skip",
         "line": {
          "width": 1
         },
         "mode": "lines",
         "opacity": 0.2,
         "showlegend": false,
         "x": {
          "dtype": "f4",
          "bdata": "EW4qQNRdRECqgjRAEW4qQA=="
         },
         "y": {
          "dtype": "f4",
          "bdata": "wSwPQOqKEUBe6i5AwSwPQA=="
         },
         "type": "scatter"
        },
        {
         "fill": "toself",
         "fillcolor": "rgba(0,0,0,0.1)",
         "hoverinfo": "skip",
         "line": {
          "width": 1
         },
         "mode": "lines",
         "opacity": 0.2,
         "showlegend": false,
         "x": {
          "dtype": "f4",
          "bdata": "YHSwP2/rYD7yle0+YHSwPw=="
         },
         "y": {
          "dtype": "f4",
          "bdata": "I9URQLFbwD4xis8+I9URQA=="
         },
         "type": "scatter"
        },
        {
         "fill": "toself",
         "fillcolor": "rgba(0,0,0,0.1)",
         "hoverinfo": "skip",
         "line": {
          "width": 1
         },
         "mode": "lines",
         "opacity": 0.2,
         "showlegend": false,
         "x": {
          "dtype": "f4",
          "bdata": "F8sdwF7DPcCnEzrAMFEiwBfLHcA="
         },
         "y": {
          "dtype": "f4",
          "bdata": "kYGKv7FWOL+T+9K/y7nZv5GBir8="
         },
         "type": "scatter"
        },
        {
         "fill": "toself",
         "fillcolor": "rgba(0,0,0,0.1)",
         "hoverinfo": "skip",
         "line": {
          "width": 1
         },
         "mode": "lines",
         "opacity": 0.2,
         "showlegend": false,
         "x": {
          "dtype": "f4",
          "bdata": "KcEMQKIDE0DomB1A30EcQCnBDEA="
         },
         "y": {
          "dtype": "f4",
          "bdata": "sqF5QIFqZECTJEJACoZ0QLKheUA="
         },
         "type": "scatter"
        },
        {
         "fill": "toself",
         "fillcolor": "rgba(0,0,0,0.1)",
         "hoverinfo": "skip",
         "line": {
          "width": 1
         },
         "mode": "lines",
         "opacity": 0.2,
         "showlegend": false,
         "x": {
          "dtype": "f4",
          "bdata": "AAz5vj76uL+8gqW/pruEvwAM+b4="
         },
         "y": {
          "dtype": "f4",
          "bdata": "rk9mv+4Aub2EasO/u4qrv65PZr8="
         },
         "type": "scatter"
        },
        {
         "fill": "toself",
         "fillcolor": "rgba(0,0,0,0.1)",
         "hoverinfo": "skip",
         "line": {
          "width": 1
         },
         "mode": "lines",
         "opacity": 0.2,
         "showlegend": false,
         "x": {
          "dtype": "f4",
          "bdata": "2VcXPwdJOsD0pz2/2VcXPw=="
         },
         "y": {
          "dtype": "f4",
          "bdata": "53ETwM3fQ8B1u37A53ETwA=="
         },
         "type": "scatter"
        },
        {
         "fill": "toself",
         "fillcolor": "rgba(0,0,0,0.1)",
         "hoverinfo": "skip",
         "line": {
          "width": 1
         },
         "mode": "lines",
         "opacity": 0.2,
         "showlegend": false,
         "x": {
          "dtype": "f4",
          "bdata": "VacPQNjVhkBBk3hAYSk6QFWnD0A="
         },
         "y": {
          "dtype": "f4",
          "bdata": "yLN5wNXEPcDwMC7AoWlMwMizecA="
         },
         "type": "scatter"
        },
        {
         "fill": "toself",
         "fillcolor": "rgba(0,0,0,0.1)",
         "hoverinfo": "skip",
         "line": {
          "width": 1
         },
         "mode": "lines",
         "opacity": 0.2,
         "showlegend": false,
         "x": {
          "dtype": "f4",
          "bdata": "CaKlP6oGB0BEje4/o+mmPwmipT8="
         },
         "y": {
          "dtype": "f4",
          "bdata": "Yc5RwA1oP8AU9qS/rnPBv2HOUcA="
         },
         "type": "scatter"
        },
        {
         "fill": "toself",
         "fillcolor": "rgba(0,0,0,0.1)",
         "hoverinfo": "skip",
         "line": {
          "width": 1
         },
         "mode": "lines",
         "opacity": 0.2,
         "showlegend": false,
         "x": {
          "dtype": "f4",
          "bdata": "xi5YQJFaA0BKHihAxi5YQA=="
         },
         "y": {
          "dtype": "f4",
          "bdata": "x9wHPq4Dfb+OX0S/x9wHPg=="
         },
         "type": "scatter"
        },
        {
         "fill": "toself",
         "fillcolor": "rgba(0,0,0,0.1)",
         "hoverinfo": "skip",
         "line": {
          "width": 1
         },
         "mode": "lines",
         "opacity": 0.2,
         "showlegend": false,
         "x": {
          "dtype": "f4",
          "bdata": "Tp7wv9yO6L8BuHQ98yK1v06e8L8="
         },
         "y": {
          "dtype": "f4",
          "bdata": "CAxKwEwDZcCbvsS/9wAjwAgMSsA="
         },
         "type": "scatter"
        },
        {
         "fill": "toself",
         "fillcolor": "rgba(0,0,0,0.1)",
         "hoverinfo": "skip",
         "line": {
          "width": 1
         },
         "mode": "lines",
         "opacity": 0.2,
         "showlegend": false,
         "x": {
          "dtype": "f4",
          "bdata": "GkDXPnu0BUBLCB9ANaf4PhpA1z4="
         },
         "y": {
          "dtype": "f4",
          "bdata": "6tCJv0vDcMD79wa+I31gv+rQib8="
         },
         "type": "scatter"
        },
        {
         "fill": "toself",
         "fillcolor": "rgba(0,0,0,0.1)",
         "hoverinfo": "skip",
         "line": {
          "width": 1
         },
         "mode": "lines",
         "opacity": 0.2,
         "showlegend": false,
         "x": {
          "dtype": "f4",
          "bdata": "i/KXPqrafEBUMWpApps9QIvylz4="
         },
         "y": {
          "dtype": "f4",
          "bdata": "e4JCwK/vgcDtB8+/32Tvv3uCQsA="
         },
         "type": "scatter"
        }
       ],
       "layout": {
        "template": {
         "data": {
          "histogram2dcontour": [
           {
            "type": "histogram2dcontour",
            "colorbar": {
             "outlinewidth": 0,
             "ticks": ""
            },
            "colorscale": [
             [
              0.0,
              "#0d0887"
             ],
             [
              0.1111111111111111,
              "#46039f"
             ],
             [
              0.2222222222222222,
              "#7201a8"
             ],
             [
              0.3333333333333333,
              "#9c179e"
             ],
             [
              0.4444444444444444,
              "#bd3786"
             ],
             [
              0.5555555555555556,
              "#d8576b"
             ],
             [
              0.6666666666666666,
              "#ed7953"
             ],
             [
              0.7777777777777778,
              "#fb9f3a"
             ],
             [
              0.8888888888888888,
              "#fdca26"
             ],
             [
              1.0,
              "#f0f921"
             ]
            ]
           }
          ],
          "choropleth": [
           {
            "type": "choropleth",
            "colorbar": {
             "outlinewidth": 0,
             "ticks": ""
            }
           }
          ],
          "histogram2d": [
           {
            "type": "histogram2d",
            "colorbar": {
             "outlinewidth": 0,
             "ticks": ""
            },
            "colorscale": [
             [
              0.0,
              "#0d0887"
             ],
             [
              0.1111111111111111,
              "#46039f"
             ],
             [
              0.2222222222222222,
              "#7201a8"
             ],
             [
              0.3333333333333333,
              "#9c179e"
             ],
             [
              0.4444444444444444,
              "#bd3786"
             ],
             [
              0.5555555555555556,
              "#d8576b"
             ],
             [
              0.6666666666666666,
              "#ed7953"
             ],
             [
              0.7777777777777778,
              "#fb9f3a"
             ],
             [
              0.8888888888888888,
              "#fdca26"
             ],
             [
              1.0,
              "#f0f921"
             ]
            ]
           }
          ],
          "heatmap": [
           {
            "type": "heatmap",
            "colorbar": {
             "outlinewidth": 0,
             "ticks": ""
            },
            "colorscale": [
             [
              0.0,
              "#0d0887"
             ],
             [
              0.1111111111111111,
              "#46039f"
             ],
             [
              0.2222222222222222,
              "#7201a8"
             ],
             [
              0.3333333333333333,
              "#9c179e"
             ],
             [
              0.4444444444444444,
              "#bd3786"
             ],
             [
              0.5555555555555556,
              "#d8576b"
             ],
             [
              0.6666666666666666,
              "#ed7953"
             ],
             [
              0.7777777777777778,
              "#fb9f3a"
             ],
             [
              0.8888888888888888,
              "#fdca26"
             ],
             [
              1.0,
              "#f0f921"
             ]
            ]
           }
          ],
          "contourcarpet": [
           {
            "type": "contourcarpet",
            "colorbar": {
             "outlinewidth": 0,
             "ticks": ""
            }
           }
          ],
          "contour": [
           {
            "type": "contour",
            "colorbar": {
             "outlinewidth": 0,
             "ticks": ""
            },
            "colorscale": [
             [
              0.0,
              "#0d0887"
             ],
             [
              0.1111111111111111,
              "#46039f"
             ],
             [
              0.2222222222222222,
              "#7201a8"
             ],
             [
              0.3333333333333333,
              "#9c179e"
             ],
             [
              0.4444444444444444,
              "#bd3786"
             ],
             [
              0.5555555555555556,
              "#d8576b"
             ],
             [
              0.6666666666666666,
              "#ed7953"
             ],
             [
              0.7777777777777778,
              "#fb9f3a"
             ],
             [
              0.8888888888888888,
              "#fdca26"
             ],
             [
              1.0,
              "#f0f921"
             ]
            ]
           }
          ],
          "surface": [
           {
            "type": "surface",
            "colorbar": {
             "outlinewidth": 0,
             "ticks": ""
            },
            "colorscale": [
             [
              0.0,
              "#0d0887"
             ],
             [
              0.1111111111111111,
              "#46039f"
             ],
             [
              0.2222222222222222,
              "#7201a8"
             ],
             [
              0.3333333333333333,
              "#9c179e"
             ],
             [
              0.4444444444444444,
              "#bd3786"
             ],
             [
              0.5555555555555556,
              "#d8576b"
             ],
             [
              0.6666666666666666,
              "#ed7953"
             ],
             [
              0.7777777777777778,
              "#fb9f3a"
             ],
             [
              0.8888888888888888,
              "#fdca26"
             ],
             [
              1.0,
              "#f0f921"
             ]
            ]
           }
          ],
          "mesh3d": [
           {
            "type": "mesh3d",
            "colorbar": {
             "outlinewidth": 0,
             "ticks": ""
            }
           }
          ],
          "scatter": [
           {
            "marker": {
             "line": {
              "color": "#283442"
             }
            },
            "type": "scatter"
           }
          ],
          "parcoords": [
           {
            "type": "parcoords",
            "line": {
             "colorbar": {
              "outlinewidth": 0,
              "ticks": ""
             }
            }
           }
          ],
          "scatterpolargl": [
           {
            "type": "scatterpolargl",
            "marker": {
             "colorbar": {
              "outlinewidth": 0,
              "ticks": ""
             }
            }
           }
          ],
          "bar": [
           {
            "error_x": {
             "color": "#f2f5fa"
            },
            "error_y": {
             "color": "#f2f5fa"
            },
            "marker": {
             "line": {
              "color": "rgb(17,17,17)",
              "width": 0.5
             },
             "pattern": {
              "fillmode": "overlay",
              "size": 10,
              "solidity": 0.2
             }
            },
            "type": "bar"
           }
          ],
          "scattergeo": [
           {
            "type": "scattergeo",
            "marker": {
             "colorbar": {
              "outlinewidth": 0,
              "ticks": ""
             }
            }
           }
          ],
          "scatterpolar": [
           {
            "type": "scatterpolar",
            "marker": {
             "colorbar": {
              "outlinewidth": 0,
              "ticks": ""
             }
            }
           }
          ],
          "histogram": [
           {
            "marker": {
             "pattern": {
              "fillmode": "overlay",
              "size": 10,
              "solidity": 0.2
             }
            },
            "type": "histogram"
           }
          ],
          "scattergl": [
           {
            "marker": {
             "line": {
              "color": "#283442"
             }
            },
            "type": "scattergl"
           }
          ],
          "scatter3d": [
           {
            "type": "scatter3d",
            "line": {
             "colorbar": {
              "outlinewidth": 0,
              "ticks": ""
             }
            },
            "marker": {
             "colorbar": {
              "outlinewidth": 0,
              "ticks": ""
             }
            }
           }
          ],
          "scattermap": [
           {
            "type": "scattermap",
            "marker": {
             "colorbar": {
              "outlinewidth": 0,
              "ticks": ""
             }
            }
           }
          ],
          "scattermapbox": [
           {
            "type": "scattermapbox",
            "marker": {
             "colorbar": {
              "outlinewidth": 0,
              "ticks": ""
             }
            }
           }
          ],
          "scatterternary": [
           {
            "type": "scatterternary",
            "marker": {
             "colorbar": {
              "outlinewidth": 0,
              "ticks": ""
             }
            }
           }
          ],
          "scattercarpet": [
           {
            "type": "scattercarpet",
            "marker": {
             "colorbar": {
              "outlinewidth": 0,
              "ticks": ""
             }
            }
           }
          ],
          "carpet": [
           {
            "aaxis": {
             "endlinecolor": "#A2B1C6",
             "gridcolor": "#506784",
             "linecolor": "#506784",
             "minorgridcolor": "#506784",
             "startlinecolor": "#A2B1C6"
            },
            "baxis": {
             "endlinecolor": "#A2B1C6",
             "gridcolor": "#506784",
             "linecolor": "#506784",
             "minorgridcolor": "#506784",
             "startlinecolor": "#A2B1C6"
            },
            "type": "carpet"
           }
          ],
          "table": [
           {
            "cells": {
             "fill": {
              "color": "#506784"
             },
             "line": {
              "color": "rgb(17,17,17)"
             }
            },
            "header": {
             "fill": {
              "color": "#2a3f5f"
             },
             "line": {
              "color": "rgb(17,17,17)"
             }
            },
            "type": "table"
           }
          ],
          "barpolar": [
           {
            "marker": {
             "line": {
              "color": "rgb(17,17,17)",
              "width": 0.5
             },
             "pattern": {
              "fillmode": "overlay",
              "size": 10,
              "solidity": 0.2
             }
            },
            "type": "barpolar"
           }
          ],
          "pie": [
           {
            "automargin": true,
            "type": "pie"
           }
          ]
         },
         "layout": {
          "autotypenumbers": "strict",
          "colorway": [
           "#636efa",
           "#EF553B",
           "#00cc96",
           "#ab63fa",
           "#FFA15A",
           "#19d3f3",
           "#FF6692",
           "#B6E880",
           "#FF97FF",
           "#FECB52"
          ],
          "font": {
           "color": "#f2f5fa"
          },
          "hovermode": "closest",
          "hoverlabel": {
           "align": "left"
          },
          "paper_bgcolor": "rgb(17,17,17)",
          "plot_bgcolor": "rgb(17,17,17)",
          "polar": {
           "bgcolor": "rgb(17,17,17)",
           "angularaxis": {
            "gridcolor": "#506784",
            "linecolor": "#506784",
            "ticks": ""
           },
           "radialaxis": {
            "gridcolor": "#506784",
            "linecolor": "#506784",
            "ticks": ""
           }
          },
          "ternary": {
           "bgcolor": "rgb(17,17,17)",
           "aaxis": {
            "gridcolor": "#506784",
            "linecolor": "#506784",
            "ticks": ""
           },
           "baxis": {
            "gridcolor": "#506784",
            "linecolor": "#506784",
            "ticks": ""
           },
           "caxis": {
            "gridcolor": "#506784",
            "linecolor": "#506784",
            "ticks": ""
           }
          },
          "coloraxis": {
           "colorbar": {
            "outlinewidth": 0,
            "ticks": ""
           }
          },
          "colorscale": {
           "sequential": [
            [
             0.0,
             "#0d0887"
            ],
            [
             0.1111111111111111,
             "#46039f"
            ],
            [
             0.2222222222222222,
             "#7201a8"
            ],
            [
             0.3333333333333333,
             "#9c179e"
            ],
            [
             0.4444444444444444,
             "#bd3786"
            ],
            [
             0.5555555555555556,
             "#d8576b"
            ],
            [
             0.6666666666666666,
             "#ed7953"
            ],
            [
             0.7777777777777778,
             "#fb9f3a"
            ],
            [
             0.8888888888888888,
             "#fdca26"
            ],
            [
             1.0,
             "#f0f921"
            ]
           ],
           "sequentialminus": [
            [
             0.0,
             "#0d0887"
            ],
            [
             0.1111111111111111,
             "#46039f"
            ],
            [
             0.2222222222222222,
             "#7201a8"
            ],
            [
             0.3333333333333333,
             "#9c179e"
            ],
            [
             0.4444444444444444,
             "#bd3786"
            ],
            [
             0.5555555555555556,
             "#d8576b"
            ],
            [
             0.6666666666666666,
             "#ed7953"
            ],
            [
             0.7777777777777778,
             "#fb9f3a"
            ],
            [
             0.8888888888888888,
             "#fdca26"
            ],
            [
             1.0,
             "#f0f921"
            ]
           ],
           "diverging": [
            [
             0,
             "#8e0152"
            ],
            [
             0.1,
             "#c51b7d"
            ],
            [
             0.2,
             "#de77ae"
            ],
            [
             0.3,
             "#f1b6da"
            ],
            [
             0.4,
             "#fde0ef"
            ],
            [
             0.5,
             "#f7f7f7"
            ],
            [
             0.6,
             "#e6f5d0"
            ],
            [
             0.7,
             "#b8e186"
            ],
            [
             0.8,
             "#7fbc41"
            ],
            [
             0.9,
             "#4d9221"
            ],
            [
             1,
             "#276419"
            ]
           ]
          },
          "xaxis": {
           "gridcolor": "#283442",
           "linecolor": "#506784",
           "ticks": "",
           "title": {
            "standoff": 15
           },
           "zerolinecolor": "#283442",
           "automargin": true,
           "zerolinewidth": 2
          },
          "yaxis": {
           "gridcolor": "#283442",
           "linecolor": "#506784",
           "ticks": "",
           "title": {
            "standoff": 15
           },
           "zerolinecolor": "#283442",
           "automargin": true,
           "zerolinewidth": 2
          },
          "scene": {
           "xaxis": {
            "backgroundcolor": "rgb(17,17,17)",
            "gridcolor": "#506784",
            "linecolor": "#506784",
            "showbackground": true,
            "ticks": "",
            "zerolinecolor": "#C8D4E3",
            "gridwidth": 2
           },
           "yaxis": {
            "backgroundcolor": "rgb(17,17,17)",
            "gridcolor": "#506784",
            "linecolor": "#506784",
            "showbackground": true,
            "ticks": "",
            "zerolinecolor": "#C8D4E3",
            "gridwidth": 2
           },
           "zaxis": {
            "backgroundcolor": "rgb(17,17,17)",
            "gridcolor": "#506784",
            "linecolor": "#506784",
            "showbackground": true,
            "ticks": "",
            "zerolinecolor": "#C8D4E3",
            "gridwidth": 2
           }
          },
          "shapedefaults": {
           "line": {
            "color": "#f2f5fa"
           }
          },
          "annotationdefaults": {
           "arrowcolor": "#f2f5fa",
           "arrowhead": 0,
           "arrowwidth": 1
          },
          "geo": {
           "bgcolor": "rgb(17,17,17)",
           "landcolor": "rgb(17,17,17)",
           "subunitcolor": "#506784",
           "showland": true,
           "showlakes": true,
           "lakecolor": "rgb(17,17,17)"
          },
          "title": {
           "x": 0.05
          },
          "updatemenudefaults": {
           "bgcolor": "#506784",
           "borderwidth": 0
          },
          "sliderdefaults": {
           "bgcolor": "#C8D4E3",
           "borderwidth": 1,
           "bordercolor": "rgb(17,17,17)",
           "tickwidth": 0
          },
          "mapbox": {
           "style": "dark"
          }
         }
        },
        "xaxis": {
         "anchor": "y",
         "domain": [
          0.0,
          1.0
         ],
         "title": {
          "text": "tsne_0"
         }
        },
        "yaxis": {
         "anchor": "x",
         "domain": [
          0.0,
          1.0
         ],
         "title": {
          "text": "tsne_1"
         }
        },
        "legend": {
         "title": {
          "text": "KMeans"
         },
         "tracegroupgap": 0
        },
        "title": {
         "text": "t-SNE Clustering — KMeans"
        }
       },
       "config": {
        "plotlyServerURL": "https://plot.ly"
       }
      }
     },
     "metadata": {},
     "output_type": "display_data"
    }
   ],
   "execution_count": 36
  }
 ],
 "metadata": {
  "kernelspec": {
   "display_name": "Python 3",
   "language": "python",
   "name": "python3"
  },
  "language_info": {
   "codemirror_mode": {
    "name": "ipython",
    "version": 2
   },
   "file_extension": ".py",
   "mimetype": "text/x-python",
   "name": "python",
   "nbconvert_exporter": "python",
   "pygments_lexer": "ipython2",
   "version": "2.7.6"
  }
 },
 "nbformat": 4,
 "nbformat_minor": 5
}
